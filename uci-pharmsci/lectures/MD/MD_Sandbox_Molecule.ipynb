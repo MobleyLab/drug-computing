{
 "cells": [
  {
   "cell_type": "markdown",
   "metadata": {
    "id": "OqKzYKT1-E5_"
   },
   "source": [
    "# Sandbox/demo to go along with the MD assignment and lectures\n",
    "\n",
    "## PharmSci 175/275\n",
    "Author: David Mobley\n",
    "\n",
    "\n"
   ]
  },
  {
   "cell_type": "markdown",
   "metadata": {
    "id": "wFteMA87orKJ"
   },
   "source": [
    "## Preparation \n",
    "\n",
    "To use this notebook you will either need to run it locally using Jupyter or on Google Colab. To run this notebook you will need the OpenEye toolkits installed, as well as the OpenFF toolkits (`openff-toolkit`), `openmm`, and other libraries. If you installed these in a local environment during prep for the class, you should already be prepared; if you are using Google Colab, you will need to install them here. \n",
    "\n",
    "### Preparation for Google Colab (NOT FOR LOCAL USE)\n",
    "\n",
    "[![Open in Colab](https://colab.research.google.com/assets/colab-badge.svg)](https://colab.research.google.com/github/MobleyLab/drug-computing/blob/master/uci-pharmsci/lectures/MD/MD_Sandbox_Molecule.ipynb)\n",
    "\n",
    "For Google Colab, we'll use `conda` for installation because it will work better with packaging for OpenFF and OpenMM.  Begin by unsetting the PYTHONPATH to prevent issues with miniconda, then installing miniconda (which will take perhaps 20 seconds to a couple of minutes):"
   ]
  },
  {
   "cell_type": "code",
   "execution_count": null,
   "metadata": {
    "colab": {
     "base_uri": "https://localhost:8080/"
    },
    "id": "m1ZRbIDeorKK",
    "outputId": "c88496ca-cdd3-4936-c0d7-c831c5de54c4"
   },
   "outputs": [
    {
     "name": "stdout",
     "output_type": "stream",
     "text": [
      "env: PYTHONPATH=\n",
      "--2021-12-30 00:01:36--  https://repo.anaconda.com/miniconda/Miniconda3-py37_4.10.3-Linux-x86_64.sh\n",
      "Resolving repo.anaconda.com (repo.anaconda.com)... 104.16.130.3, 104.16.131.3, 2606:4700::6810:8203, ...\n",
      "Connecting to repo.anaconda.com (repo.anaconda.com)|104.16.130.3|:443... connected.\n",
      "HTTP request sent, awaiting response... 200 OK\n",
      "Length: 89026327 (85M) [application/x-sh]\n",
      "Saving to: ‘Miniconda3-py37_4.10.3-Linux-x86_64.sh’\n",
      "\n",
      "Miniconda3-py37_4.1 100%[===================>]  84.90M   238MB/s    in 0.4s    \n",
      "\n",
      "2021-12-30 00:01:36 (238 MB/s) - ‘Miniconda3-py37_4.10.3-Linux-x86_64.sh’ saved [89026327/89026327]\n",
      "\n",
      "PREFIX=/usr/local\n",
      "Unpacking payload ...\n",
      "Collecting package metadata (current_repodata.json): - \b\b\\ \b\b| \b\bdone\n",
      "Solving environment: - \b\b\\ \b\b| \b\b/ \b\b- \b\b\\ \b\bdone\n",
      "\n",
      "## Package Plan ##\n",
      "\n",
      "  environment location: /usr/local\n",
      "\n",
      "  added / updated specs:\n",
      "    - _libgcc_mutex==0.1=main\n",
      "    - _openmp_mutex==4.5=1_gnu\n",
      "    - brotlipy==0.7.0=py37h27cfd23_1003\n",
      "    - ca-certificates==2021.7.5=h06a4308_1\n",
      "    - certifi==2021.5.30=py37h06a4308_0\n",
      "    - cffi==1.14.6=py37h400218f_0\n",
      "    - chardet==4.0.0=py37h06a4308_1003\n",
      "    - conda-package-handling==1.7.3=py37h27cfd23_1\n",
      "    - conda==4.10.3=py37h06a4308_0\n",
      "    - cryptography==3.4.7=py37hd23ed53_0\n",
      "    - idna==2.10=pyhd3eb1b0_0\n",
      "    - ld_impl_linux-64==2.35.1=h7274673_9\n",
      "    - libffi==3.3=he6710b0_2\n",
      "    - libgcc-ng==9.3.0=h5101ec6_17\n",
      "    - libgomp==9.3.0=h5101ec6_17\n",
      "    - libstdcxx-ng==9.3.0=hd4cf53a_17\n",
      "    - ncurses==6.2=he6710b0_1\n",
      "    - openssl==1.1.1k=h27cfd23_0\n",
      "    - pip==21.1.3=py37h06a4308_0\n",
      "    - pycosat==0.6.3=py37h27cfd23_0\n",
      "    - pycparser==2.20=py_2\n",
      "    - pyopenssl==20.0.1=pyhd3eb1b0_1\n",
      "    - pysocks==1.7.1=py37_1\n",
      "    - python==3.7.10=h12debd9_4\n",
      "    - readline==8.1=h27cfd23_0\n",
      "    - requests==2.25.1=pyhd3eb1b0_0\n",
      "    - ruamel_yaml==0.15.100=py37h27cfd23_0\n",
      "    - setuptools==52.0.0=py37h06a4308_0\n",
      "    - six==1.16.0=pyhd3eb1b0_0\n",
      "    - sqlite==3.36.0=hc218d9a_0\n",
      "    - tk==8.6.10=hbc83047_0\n",
      "    - tqdm==4.61.2=pyhd3eb1b0_1\n",
      "    - urllib3==1.26.6=pyhd3eb1b0_1\n",
      "    - wheel==0.36.2=pyhd3eb1b0_0\n",
      "    - xz==5.2.5=h7b6447c_0\n",
      "    - yaml==0.2.5=h7b6447c_0\n",
      "    - zlib==1.2.11=h7b6447c_3\n",
      "\n",
      "\n",
      "The following NEW packages will be INSTALLED:\n",
      "\n",
      "  _libgcc_mutex      pkgs/main/linux-64::_libgcc_mutex-0.1-main\n",
      "  _openmp_mutex      pkgs/main/linux-64::_openmp_mutex-4.5-1_gnu\n",
      "  brotlipy           pkgs/main/linux-64::brotlipy-0.7.0-py37h27cfd23_1003\n",
      "  ca-certificates    pkgs/main/linux-64::ca-certificates-2021.7.5-h06a4308_1\n",
      "  certifi            pkgs/main/linux-64::certifi-2021.5.30-py37h06a4308_0\n",
      "  cffi               pkgs/main/linux-64::cffi-1.14.6-py37h400218f_0\n",
      "  chardet            pkgs/main/linux-64::chardet-4.0.0-py37h06a4308_1003\n",
      "  conda              pkgs/main/linux-64::conda-4.10.3-py37h06a4308_0\n",
      "  conda-package-han~ pkgs/main/linux-64::conda-package-handling-1.7.3-py37h27cfd23_1\n",
      "  cryptography       pkgs/main/linux-64::cryptography-3.4.7-py37hd23ed53_0\n",
      "  idna               pkgs/main/noarch::idna-2.10-pyhd3eb1b0_0\n",
      "  ld_impl_linux-64   pkgs/main/linux-64::ld_impl_linux-64-2.35.1-h7274673_9\n",
      "  libffi             pkgs/main/linux-64::libffi-3.3-he6710b0_2\n",
      "  libgcc-ng          pkgs/main/linux-64::libgcc-ng-9.3.0-h5101ec6_17\n",
      "  libgomp            pkgs/main/linux-64::libgomp-9.3.0-h5101ec6_17\n",
      "  libstdcxx-ng       pkgs/main/linux-64::libstdcxx-ng-9.3.0-hd4cf53a_17\n",
      "  ncurses            pkgs/main/linux-64::ncurses-6.2-he6710b0_1\n",
      "  openssl            pkgs/main/linux-64::openssl-1.1.1k-h27cfd23_0\n",
      "  pip                pkgs/main/linux-64::pip-21.1.3-py37h06a4308_0\n",
      "  pycosat            pkgs/main/linux-64::pycosat-0.6.3-py37h27cfd23_0\n",
      "  pycparser          pkgs/main/noarch::pycparser-2.20-py_2\n",
      "  pyopenssl          pkgs/main/noarch::pyopenssl-20.0.1-pyhd3eb1b0_1\n",
      "  pysocks            pkgs/main/linux-64::pysocks-1.7.1-py37_1\n",
      "  python             pkgs/main/linux-64::python-3.7.10-h12debd9_4\n",
      "  readline           pkgs/main/linux-64::readline-8.1-h27cfd23_0\n",
      "  requests           pkgs/main/noarch::requests-2.25.1-pyhd3eb1b0_0\n",
      "  ruamel_yaml        pkgs/main/linux-64::ruamel_yaml-0.15.100-py37h27cfd23_0\n",
      "  setuptools         pkgs/main/linux-64::setuptools-52.0.0-py37h06a4308_0\n",
      "  six                pkgs/main/noarch::six-1.16.0-pyhd3eb1b0_0\n",
      "  sqlite             pkgs/main/linux-64::sqlite-3.36.0-hc218d9a_0\n",
      "  tk                 pkgs/main/linux-64::tk-8.6.10-hbc83047_0\n",
      "  tqdm               pkgs/main/noarch::tqdm-4.61.2-pyhd3eb1b0_1\n",
      "  urllib3            pkgs/main/noarch::urllib3-1.26.6-pyhd3eb1b0_1\n",
      "  wheel              pkgs/main/noarch::wheel-0.36.2-pyhd3eb1b0_0\n",
      "  xz                 pkgs/main/linux-64::xz-5.2.5-h7b6447c_0\n",
      "  yaml               pkgs/main/linux-64::yaml-0.2.5-h7b6447c_0\n",
      "  zlib               pkgs/main/linux-64::zlib-1.2.11-h7b6447c_3\n",
      "\n",
      "\n",
      "Preparing transaction: / \b\b- \b\b\\ \b\b| \b\b/ \b\b- \b\b\\ \b\b| \b\bdone\n",
      "Executing transaction: - \b\b\\ \b\b| \b\b/ \b\b- \b\b\\ \b\b| \b\b/ \b\b- \b\b\\ \b\b| \b\b/ \b\b- \b\b\\ \b\b| \b\b/ \b\b- \b\b\\ \b\b| \b\b/ \b\b- \b\b\\ \b\b| \b\b/ \b\b- \b\b\\ \b\b| \b\bdone\n",
      "installation finished.\n"
     ]
    }
   ],
   "source": [
    "%env PYTHONPATH=\n",
    "! wget https://repo.anaconda.com/miniconda/Miniconda3-py37_4.10.3-Linux-x86_64.sh\n",
    "! chmod +x Miniconda3-py37_4.10.3-Linux-x86_64.sh\n",
    "! bash ./Miniconda3-py37_4.10.3-Linux-x86_64.sh -b -f -p /usr/local\n",
    "import sys\n",
    "sys.path.append('/usr/local/lib/python3.7/site-packages/')"
   ]
  },
  {
   "cell_type": "markdown",
   "metadata": {
    "id": "C4j51ocaorKL"
   },
   "source": [
    "Once that is done, install the OpenEye toolkits:"
   ]
  },
  {
   "cell_type": "code",
   "execution_count": null,
   "metadata": {
    "colab": {
     "base_uri": "https://localhost:8080/"
    },
    "id": "vusj-hEhorKL",
    "outputId": "6b78361d-8702-4fb6-ed11-94dd05d3cf20"
   },
   "outputs": [
    {
     "name": "stdout",
     "output_type": "stream",
     "text": [
      "Collecting package metadata (current_repodata.json): - \b\b\\ \b\b| \b\b/ \b\b- \b\b\\ \b\b| \b\b/ \b\b- \b\b\\ \b\b| \b\b/ \b\b- \b\b\\ \b\b| \b\b/ \b\b- \b\b\\ \b\b| \b\b/ \b\b- \b\b\\ \b\b| \b\b/ \b\b- \b\b\\ \b\b| \b\b/ \b\b- \b\bdone\n",
      "Solving environment: | \b\b/ \b\b- \b\b\\ \b\b| \b\b/ \b\b- \b\bdone\n",
      "\n",
      "## Package Plan ##\n",
      "\n",
      "  environment location: /usr/local\n",
      "\n",
      "  added / updated specs:\n",
      "    - openeye-toolkits\n",
      "\n",
      "\n",
      "The following packages will be downloaded:\n",
      "\n",
      "    package                    |            build\n",
      "    ---------------------------|-----------------\n",
      "    attrs-21.2.0               |     pyhd3eb1b0_0          46 KB\n",
      "    ca-certificates-2021.10.26 |       h06a4308_2         115 KB\n",
      "    certifi-2021.10.8          |   py37h06a4308_0         151 KB\n",
      "    conda-4.11.0               |   py37h06a4308_0        14.4 MB\n",
      "    importlib-metadata-4.8.2   |   py37h06a4308_0          39 KB\n",
      "    importlib_metadata-4.8.2   |       hd3eb1b0_0          12 KB\n",
      "    iniconfig-1.1.1            |     pyhd3eb1b0_0           8 KB\n",
      "    openeye-toolkits-2021.2.0  |           py37_0        79.6 MB  openeye\n",
      "    openssl-1.1.1l             |       h7f8727e_0         2.5 MB\n",
      "    packaging-21.3             |     pyhd3eb1b0_0          36 KB\n",
      "    pluggy-1.0.0               |   py37h06a4308_0          28 KB\n",
      "    py-1.10.0                  |     pyhd3eb1b0_0          76 KB\n",
      "    pyparsing-3.0.4            |     pyhd3eb1b0_0          81 KB\n",
      "    pytest-6.2.5               |   py37h06a4308_2         425 KB\n",
      "    toml-0.10.2                |     pyhd3eb1b0_0          20 KB\n",
      "    typing_extensions-3.10.0.2 |     pyh06a4308_0          31 KB\n",
      "    zipp-3.6.0                 |     pyhd3eb1b0_0          17 KB\n",
      "    ------------------------------------------------------------\n",
      "                                           Total:        97.6 MB\n",
      "\n",
      "The following NEW packages will be INSTALLED:\n",
      "\n",
      "  attrs              pkgs/main/noarch::attrs-21.2.0-pyhd3eb1b0_0\n",
      "  importlib-metadata pkgs/main/linux-64::importlib-metadata-4.8.2-py37h06a4308_0\n",
      "  importlib_metadata pkgs/main/noarch::importlib_metadata-4.8.2-hd3eb1b0_0\n",
      "  iniconfig          pkgs/main/noarch::iniconfig-1.1.1-pyhd3eb1b0_0\n",
      "  openeye-toolkits   openeye/linux-64::openeye-toolkits-2021.2.0-py37_0\n",
      "  packaging          pkgs/main/noarch::packaging-21.3-pyhd3eb1b0_0\n",
      "  pluggy             pkgs/main/linux-64::pluggy-1.0.0-py37h06a4308_0\n",
      "  py                 pkgs/main/noarch::py-1.10.0-pyhd3eb1b0_0\n",
      "  pyparsing          pkgs/main/noarch::pyparsing-3.0.4-pyhd3eb1b0_0\n",
      "  pytest             pkgs/main/linux-64::pytest-6.2.5-py37h06a4308_2\n",
      "  toml               pkgs/main/noarch::toml-0.10.2-pyhd3eb1b0_0\n",
      "  typing_extensions  pkgs/main/noarch::typing_extensions-3.10.0.2-pyh06a4308_0\n",
      "  zipp               pkgs/main/noarch::zipp-3.6.0-pyhd3eb1b0_0\n",
      "\n",
      "The following packages will be UPDATED:\n",
      "\n",
      "  ca-certificates                       2021.7.5-h06a4308_1 --> 2021.10.26-h06a4308_2\n",
      "  certifi                          2021.5.30-py37h06a4308_0 --> 2021.10.8-py37h06a4308_0\n",
      "  conda                               4.10.3-py37h06a4308_0 --> 4.11.0-py37h06a4308_0\n",
      "  openssl                                 1.1.1k-h27cfd23_0 --> 1.1.1l-h7f8727e_0\n",
      "\n",
      "\n",
      "\n",
      "Downloading and Extracting Packages\n",
      "openssl-1.1.1l       | 2.5 MB    | : 100% 1.0/1 [00:00<00:00,  6.13it/s]\n",
      "iniconfig-1.1.1      | 8 KB      | : 100% 1.0/1 [00:00<00:00, 25.12it/s]\n",
      "toml-0.10.2          | 20 KB     | : 100% 1.0/1 [00:00<00:00, 21.46it/s]\n",
      "pluggy-1.0.0         | 28 KB     | : 100% 1.0/1 [00:00<00:00, 20.94it/s]\n",
      "ca-certificates-2021 | 115 KB    | : 100% 1.0/1 [00:00<00:00, 20.00it/s]\n",
      "pytest-6.2.5         | 425 KB    | : 100% 1.0/1 [00:00<00:00, 14.89it/s]\n",
      "openeye-toolkits-202 | 79.6 MB   | : 100% 1.0/1 [00:33<00:00, 33.51s/it]\n",
      "conda-4.11.0         | 14.4 MB   | : 100% 1.0/1 [00:00<00:00,  1.15it/s]               \n",
      "importlib-metadata-4 | 39 KB     | : 100% 1.0/1 [00:00<00:00, 16.62it/s]\n",
      "pyparsing-3.0.4      | 81 KB     | : 100% 1.0/1 [00:00<00:00, 13.92it/s]\n",
      "attrs-21.2.0         | 46 KB     | : 100% 1.0/1 [00:00<00:00, 16.47it/s]\n",
      "importlib_metadata-4 | 12 KB     | : 100% 1.0/1 [00:00<00:00, 20.85it/s]\n",
      "typing_extensions-3. | 31 KB     | : 100% 1.0/1 [00:00<00:00, 16.72it/s]\n",
      "py-1.10.0            | 76 KB     | : 100% 1.0/1 [00:00<00:00, 15.02it/s]\n",
      "packaging-21.3       | 36 KB     | : 100% 1.0/1 [00:00<00:00, 18.25it/s]\n",
      "zipp-3.6.0           | 17 KB     | : 100% 1.0/1 [00:00<00:00, 16.87it/s]\n",
      "certifi-2021.10.8    | 151 KB    | : 100% 1.0/1 [00:00<00:00, 14.31it/s]\n",
      "Preparing transaction: | \b\b/ \b\bdone\n",
      "Verifying transaction: \\ \b\b| \b\b/ \b\b- \b\b\\ \b\b| \b\b/ \b\b- \b\bdone\n",
      "Executing transaction: | \b\b/ \b\b- \b\b\\ \b\b| \b\b/ \b\b- \b\b\\ \b\b| \b\b/ \b\bdone\n"
     ]
    }
   ],
   "source": [
    "!conda install -c openeye openeye-toolkits --yes"
   ]
  },
  {
   "cell_type": "markdown",
   "metadata": {
    "id": "G_wInh78orKM"
   },
   "source": [
    "Next, mount your Google Drive, which you will need at least for your OpenEye license:"
   ]
  },
  {
   "cell_type": "code",
   "execution_count": null,
   "metadata": {
    "colab": {
     "base_uri": "https://localhost:8080/"
    },
    "id": "NRos5DSVorKM",
    "outputId": "2ee00abd-e234-4888-e435-a53d54ca652e"
   },
   "outputs": [
    {
     "name": "stdout",
     "output_type": "stream",
     "text": [
      "Mounted at /content/drive\n"
     ]
    }
   ],
   "source": [
    "# Run cell if using collab\n",
    "\n",
    "# Mount google drive to Colab Notebooks to access files\n",
    "from google.colab import drive\n",
    "drive.mount('/content/drive', force_remount = True)"
   ]
  },
  {
   "cell_type": "markdown",
   "metadata": {
    "id": "uJmODg7HorKN"
   },
   "source": [
    "Prep OpenEye license and check: "
   ]
  },
  {
   "cell_type": "code",
   "execution_count": null,
   "metadata": {
    "colab": {
     "base_uri": "https://localhost:8080/"
    },
    "id": "SurQD0JgorKO",
    "outputId": "6b14de1d-2b33-4d34-c360-5748fb03cb1e"
   },
   "outputs": [
    {
     "name": "stdout",
     "output_type": "stream",
     "text": [
      "Was your OpenEye license correctly installed (True/False)? True\n"
     ]
    }
   ],
   "source": [
    "license_filename = '/content/drive/MyDrive/oe_license.txt'\n",
    "import openeye\n",
    "\n",
    "import os\n",
    "if os.path.isfile(license_filename):\n",
    "  license_file = open(license_filename, 'r')\n",
    "  openeye.OEAddLicenseData(license_file.read())\n",
    "  license_file.close()\n",
    "else:\n",
    "  print(\"Error: Your OpenEye license is not readable; please check your filename and that you have mounted your Google Drive\")\n",
    "\n",
    "licensed = openeye.oechem.OEChemIsLicensed()\n",
    "print(\"Was your OpenEye license correctly installed (True/False)? \" + str(licensed))\n",
    "if not licensed:\n",
    "  print(\"Error: Your OpenEye license is not correctly installed.\")\n",
    "  raise Exception(\"Error: Your OpenEye license is not correctly installed.\")"
   ]
  },
  {
   "cell_type": "markdown",
   "metadata": {
    "id": "hJ9oc_3AqGZv"
   },
   "source": [
    "#### Now(for Colab) we conda install the other prerequisites"
   ]
  },
  {
   "cell_type": "code",
   "execution_count": null,
   "metadata": {
    "colab": {
     "base_uri": "https://localhost:8080/"
    },
    "id": "vU4oSJrbqLDb",
    "outputId": "695ae25d-127e-4692-d3be-265d7348923b"
   },
   "outputs": [
    {
     "name": "stdout",
     "output_type": "stream",
     "text": [
      "Collecting package metadata (current_repodata.json): - \b\b\\ \b\b| \b\b/ \b\b- \b\b\\ \b\b| \b\b/ \b\b- \b\b\\ \b\b| \b\b/ \b\b- \b\b\\ \b\b| \b\b/ \b\b- \b\b\\ \b\b| \b\b/ \b\b- \b\b\\ \b\b| \b\b/ \b\b- \b\b\\ \b\b| \b\b/ \b\b- \b\b\\ \b\b| \b\bdone\n",
      "Solving environment: - \b\b\\ \b\b| \b\b/ \b\b- \b\b\\ \b\b| \b\b/ \b\b- \b\b\\ \b\b| \b\b/ \b\b- \b\b\\ \b\b| \b\b/ \b\b- \b\b\\ \b\b| \b\b/ \b\b- \b\b\\ \b\b| \b\b/ \b\b- \b\b\\ \b\b| \b\b/ \b\b- \b\b\\ \b\b| \b\b/ \b\b- \b\b\\ \b\b| \b\b/ \b\b- \b\b\\ \b\b| \b\b/ \b\b- \b\b\\ \b\b| \b\b/ \b\b- \b\b\\ \b\b| \b\b/ \b\b- \b\b\\ \b\b| \b\b/ \b\b- \b\b\\ \b\b| \b\b/ \b\b- \b\b\\ \b\b| \b\b/ \b\b- \b\b\\ \b\b| \b\b/ \b\b- \b\b\\ \b\b| \b\b/ \b\b- \b\b\\ \b\b| \b\b/ \b\b- \b\b\\ \b\b| \b\b/ \b\b- \b\b\\ \b\b| \b\b/ \b\b- \b\b\\ \b\b| \b\b/ \b\b- \b\b\\ \b\b| \b\b/ \b\b- \b\b\\ \b\b| \b\b/ \b\b- \b\b\\ \b\b| \b\b/ \b\b- \b\b\\ \b\b| \b\b/ \b\b- \b\b\\ \b\b| \b\b/ \b\b- \b\b\\ \b\b| \b\b/ \b\b- \b\b\\ \b\b| \b\b/ \b\b- \b\b\\ \b\b| \b\b/ \b\b- \b\b\\ \b\b| \b\b/ \b\b- \b\b\\ \b\b| \b\b/ \b\b- \b\b\\ \b\b| \b\b/ \b\b- \b\b\\ \b\b| \b\b/ \b\bdone\n",
      "\n",
      "## Package Plan ##\n",
      "\n",
      "  environment location: /usr/local\n",
      "\n",
      "  added / updated specs:\n",
      "    - openff-toolkit\n",
      "    - openmm\n",
      "\n",
      "\n",
      "The following packages will be downloaded:\n",
      "\n",
      "    package                    |            build\n",
      "    ---------------------------|-----------------\n",
      "    _libgcc_mutex-0.1          |      conda_forge           3 KB  conda-forge\n",
      "    _openmp_mutex-4.5          |            1_gnu          22 KB  conda-forge\n",
      "    ambertools-21.11           |   py37h5d2b9b6_0        89.6 MB  conda-forge\n",
      "    arpack-3.7.0               |       hdefa2d7_2         215 KB  conda-forge\n",
      "    astunparse-1.6.3           |     pyhd8ed1ab_0          15 KB  conda-forge\n",
      "    blosc-1.21.0               |       h9c3ff4c_0         841 KB  conda-forge\n",
      "    boost-1.74.0               |   py37h796e4cb_4         350 KB  conda-forge\n",
      "    boost-cpp-1.74.0           |       h9359b55_0        16.4 MB  conda-forge\n",
      "    bzip2-1.0.8                |       h7f98852_4         484 KB  conda-forge\n",
      "    c-ares-1.18.1              |       h7f98852_0         113 KB  conda-forge\n",
      "    ca-certificates-2021.10.8  |       ha878542_0         139 KB  conda-forge\n",
      "    cairo-1.16.0               |    h3fc0475_1005         1.5 MB  conda-forge\n",
      "    certifi-2021.10.8          |   py37h89c1867_1         145 KB  conda-forge\n",
      "    conda-4.11.0               |   py37h89c1867_0        16.9 MB  conda-forge\n",
      "    cudatoolkit-11.5.0         |       h36ae40a_9       789.0 MB  conda-forge\n",
      "    curl-7.80.0                |       h2574ce0_0         153 KB  conda-forge\n",
      "    cycler-0.11.0              |     pyhd8ed1ab_0          10 KB  conda-forge\n",
      "    cython-0.29.26             |   py37hcd2ae1e_0         2.2 MB  conda-forge\n",
      "    fftw-3.3.10                |nompi_h77c792f_102         6.4 MB  conda-forge\n",
      "    fontconfig-2.13.1          |    hba837de_1005         357 KB  conda-forge\n",
      "    freetype-2.10.4            |       h0708190_1         890 KB  conda-forge\n",
      "    glib-2.69.1                |       h5202010_0         1.7 MB\n",
      "    greenlet-1.1.2             |   py37hcd2ae1e_1          90 KB  conda-forge\n",
      "    hdf4-4.2.15                |       h10796ff_3         950 KB  conda-forge\n",
      "    hdf5-1.12.1                |nompi_h2750804_103         3.6 MB  conda-forge\n",
      "    icu-67.1                   |       he1b5a44_0        12.9 MB  conda-forge\n",
      "    jpeg-9d                    |       h36c2ea0_0         264 KB  conda-forge\n",
      "    kiwisolver-1.3.2           |   py37h2527ec5_1          78 KB  conda-forge\n",
      "    krb5-1.19.2                |       hcc1bbae_0         1.4 MB  conda-forge\n",
      "    libblas-3.9.0              |12_linux64_openblas          12 KB  conda-forge\n",
      "    libcblas-3.9.0             |12_linux64_openblas          12 KB  conda-forge\n",
      "    libcurl-7.80.0             |       h2574ce0_0         337 KB  conda-forge\n",
      "    libedit-3.1.20191231       |       he28a2e2_2         121 KB  conda-forge\n",
      "    libev-4.33                 |       h516909a_1         104 KB  conda-forge\n",
      "    libgcc-ng-11.2.0           |      h1d223b6_11         887 KB  conda-forge\n",
      "    libgfortran-ng-11.2.0      |      h69a702a_11          19 KB  conda-forge\n",
      "    libgfortran5-11.2.0        |      h5c6108e_11         1.7 MB  conda-forge\n",
      "    libgomp-11.2.0             |      h1d223b6_11         427 KB  conda-forge\n",
      "    libiconv-1.16              |       h516909a_0         1.4 MB  conda-forge\n",
      "    liblapack-3.9.0            |12_linux64_openblas          12 KB  conda-forge\n",
      "    libnetcdf-4.8.1            |nompi_hb3fd0d9_101         1.5 MB  conda-forge\n",
      "    libnghttp2-1.43.0          |       h812cca2_1         790 KB  conda-forge\n",
      "    libopenblas-0.3.18         |pthreads_h8fe5266_0         9.6 MB  conda-forge\n",
      "    libpng-1.6.37              |       h21135ba_2         306 KB  conda-forge\n",
      "    libssh2-1.10.0             |       ha56f1ee_2         233 KB  conda-forge\n",
      "    libstdcxx-ng-11.2.0        |      he4da1e4_11         4.2 MB  conda-forge\n",
      "    libtiff-4.0.10             |    hc3755c2_1005         602 KB  conda-forge\n",
      "    libuuid-2.32.1             |    h7f98852_1000          28 KB  conda-forge\n",
      "    libxcb-1.13                |    h7f98852_1004         391 KB  conda-forge\n",
      "    libxml2-2.9.10             |       h68273f3_2         1.3 MB  conda-forge\n",
      "    libzip-1.8.0               |       h4de3113_1         126 KB  conda-forge\n",
      "    libzlib-1.2.11             |    h36c2ea0_1013          59 KB  conda-forge\n",
      "    lz4-c-1.9.3                |       h9c3ff4c_1         179 KB  conda-forge\n",
      "    lzo-2.10                   |    h516909a_1000         314 KB  conda-forge\n",
      "    matplotlib-base-3.4.3      |   py37h1058ff1_0         7.2 MB  conda-forge\n",
      "    mdtraj-1.9.7               |   py37h527cbdb_1         1.8 MB  conda-forge\n",
      "    mock-4.0.3                 |   py37h89c1867_2          51 KB  conda-forge\n",
      "    netcdf-fortran-4.5.3       |nompi_h2b6e579_106         1.3 MB  conda-forge\n",
      "    networkx-2.6.3             |     pyhd8ed1ab_1         1.5 MB  conda-forge\n",
      "    nomkl-1.0                  |       h5ca1d4c_0           4 KB  conda-forge\n",
      "    numexpr-2.8.0              | py37hfe5f03c_100         135 KB  conda-forge\n",
      "    numpy-1.21.5               |   py37hf2998dd_0         6.1 MB  conda-forge\n",
      "    ocl-icd-2.3.1              |       h7f98852_0         119 KB  conda-forge\n",
      "    ocl-icd-system-1.0.0       |                1           4 KB  conda-forge\n",
      "    olefile-0.46               |     pyh9f0ad1d_1          32 KB  conda-forge\n",
      "    openff-forcefields-2.0.0   |     pyh6c4a22f_0         100 KB  conda-forge\n",
      "    openff-toolkit-0.10.1      |     pyhd8ed1ab_0           6 KB  conda-forge\n",
      "    openff-toolkit-base-0.10.1 |     pyhd8ed1ab_0        28.3 MB  conda-forge\n",
      "    openmm-7.7.0               |   py37hfbac998_0        11.1 MB  conda-forge\n",
      "    openssl-1.1.1l             |       h7f98852_0         2.1 MB  conda-forge\n",
      "    packmol-20.010             |       h86c2bf4_0         129 KB  conda-forge\n",
      "    pandas-1.3.5               |   py37he8f5f7f_0        12.7 MB  conda-forge\n",
      "    parmed-3.4.3               |   py37hcd2ae1e_1         977 KB  conda-forge\n",
      "    pcre-8.45                  |       h9c3ff4c_0         253 KB  conda-forge\n",
      "    perl-5.32.1                | 1_h7f98852_perl5        14.4 MB  conda-forge\n",
      "    pillow-6.2.1               |   py37h6b7be26_0         637 KB  conda-forge\n",
      "    pixman-0.38.0              |    h516909a_1003         594 KB  conda-forge\n",
      "    pthread-stubs-0.4          |    h36c2ea0_1001           5 KB  conda-forge\n",
      "    pycairo-1.20.1             |   py37hfff247e_1          83 KB  conda-forge\n",
      "    pytables-3.6.1             |   py37h5dea08b_5         1.4 MB  conda-forge\n",
      "    python-dateutil-2.8.2      |     pyhd8ed1ab_0         240 KB  conda-forge\n",
      "    python_abi-3.7             |          2_cp37m           4 KB  conda-forge\n",
      "    pytz-2021.3                |     pyhd8ed1ab_0         242 KB  conda-forge\n",
      "    rdkit-2021.09.3            |   py37h13c2175_0        38.9 MB  conda-forge\n",
      "    reportlab-3.5.68           |   py37h69800bb_1         2.4 MB  conda-forge\n",
      "    scipy-1.7.3                |   py37hf2a6cf1_0        21.8 MB  conda-forge\n",
      "    smirnoff99frosst-1.1.0     |     pyh44b312d_0          34 KB  conda-forge\n",
      "    snappy-1.1.8               |       he1b5a44_3          32 KB  conda-forge\n",
      "    sqlalchemy-1.4.29          |   py37h5e8e339_0         2.3 MB  conda-forge\n",
      "    tornado-6.1                |   py37h5e8e339_2         642 KB  conda-forge\n",
      "    xmltodict-0.12.0           |             py_0          11 KB  conda-forge\n",
      "    xorg-kbproto-1.0.7         |    h7f98852_1002          27 KB  conda-forge\n",
      "    xorg-libice-1.0.10         |       h7f98852_0          58 KB  conda-forge\n",
      "    xorg-libsm-1.2.3           |    hd9c2040_1000          26 KB  conda-forge\n",
      "    xorg-libx11-1.7.2          |       h7f98852_0         941 KB  conda-forge\n",
      "    xorg-libxau-1.0.9          |       h7f98852_0          13 KB  conda-forge\n",
      "    xorg-libxdmcp-1.1.3        |       h7f98852_0          19 KB  conda-forge\n",
      "    xorg-libxext-1.3.4         |       h7f98852_1          54 KB  conda-forge\n",
      "    xorg-libxrender-0.9.10     |    h7f98852_1003          32 KB  conda-forge\n",
      "    xorg-libxt-1.2.1           |       h7f98852_2         375 KB  conda-forge\n",
      "    xorg-renderproto-0.11.1    |    h7f98852_1002           9 KB  conda-forge\n",
      "    xorg-xextproto-7.3.0       |    h7f98852_1002          28 KB  conda-forge\n",
      "    xorg-xproto-7.0.31         |    h7f98852_1007          73 KB  conda-forge\n",
      "    zlib-1.2.11                |    h36c2ea0_1013          86 KB  conda-forge\n",
      "    zstd-1.4.9                 |       ha95c52a_0         431 KB  conda-forge\n",
      "    ------------------------------------------------------------\n",
      "                                           Total:        1.10 GB\n",
      "\n",
      "The following NEW packages will be INSTALLED:\n",
      "\n",
      "  ambertools         conda-forge/linux-64::ambertools-21.11-py37h5d2b9b6_0\n",
      "  arpack             conda-forge/linux-64::arpack-3.7.0-hdefa2d7_2\n",
      "  astunparse         conda-forge/noarch::astunparse-1.6.3-pyhd8ed1ab_0\n",
      "  blosc              conda-forge/linux-64::blosc-1.21.0-h9c3ff4c_0\n",
      "  boost              conda-forge/linux-64::boost-1.74.0-py37h796e4cb_4\n",
      "  boost-cpp          conda-forge/linux-64::boost-cpp-1.74.0-h9359b55_0\n",
      "  bzip2              conda-forge/linux-64::bzip2-1.0.8-h7f98852_4\n",
      "  c-ares             conda-forge/linux-64::c-ares-1.18.1-h7f98852_0\n",
      "  cairo              conda-forge/linux-64::cairo-1.16.0-h3fc0475_1005\n",
      "  cudatoolkit        conda-forge/linux-64::cudatoolkit-11.5.0-h36ae40a_9\n",
      "  curl               conda-forge/linux-64::curl-7.80.0-h2574ce0_0\n",
      "  cycler             conda-forge/noarch::cycler-0.11.0-pyhd8ed1ab_0\n",
      "  cython             conda-forge/linux-64::cython-0.29.26-py37hcd2ae1e_0\n",
      "  fftw               conda-forge/linux-64::fftw-3.3.10-nompi_h77c792f_102\n",
      "  fontconfig         conda-forge/linux-64::fontconfig-2.13.1-hba837de_1005\n",
      "  freetype           conda-forge/linux-64::freetype-2.10.4-h0708190_1\n",
      "  glib               pkgs/main/linux-64::glib-2.69.1-h5202010_0\n",
      "  greenlet           conda-forge/linux-64::greenlet-1.1.2-py37hcd2ae1e_1\n",
      "  hdf4               conda-forge/linux-64::hdf4-4.2.15-h10796ff_3\n",
      "  hdf5               conda-forge/linux-64::hdf5-1.12.1-nompi_h2750804_103\n",
      "  icu                conda-forge/linux-64::icu-67.1-he1b5a44_0\n",
      "  jpeg               conda-forge/linux-64::jpeg-9d-h36c2ea0_0\n",
      "  kiwisolver         conda-forge/linux-64::kiwisolver-1.3.2-py37h2527ec5_1\n",
      "  krb5               conda-forge/linux-64::krb5-1.19.2-hcc1bbae_0\n",
      "  libblas            conda-forge/linux-64::libblas-3.9.0-12_linux64_openblas\n",
      "  libcblas           conda-forge/linux-64::libcblas-3.9.0-12_linux64_openblas\n",
      "  libcurl            conda-forge/linux-64::libcurl-7.80.0-h2574ce0_0\n",
      "  libedit            conda-forge/linux-64::libedit-3.1.20191231-he28a2e2_2\n",
      "  libev              conda-forge/linux-64::libev-4.33-h516909a_1\n",
      "  libgfortran-ng     conda-forge/linux-64::libgfortran-ng-11.2.0-h69a702a_11\n",
      "  libgfortran5       conda-forge/linux-64::libgfortran5-11.2.0-h5c6108e_11\n",
      "  libiconv           conda-forge/linux-64::libiconv-1.16-h516909a_0\n",
      "  liblapack          conda-forge/linux-64::liblapack-3.9.0-12_linux64_openblas\n",
      "  libnetcdf          conda-forge/linux-64::libnetcdf-4.8.1-nompi_hb3fd0d9_101\n",
      "  libnghttp2         conda-forge/linux-64::libnghttp2-1.43.0-h812cca2_1\n",
      "  libopenblas        conda-forge/linux-64::libopenblas-0.3.18-pthreads_h8fe5266_0\n",
      "  libpng             conda-forge/linux-64::libpng-1.6.37-h21135ba_2\n",
      "  libssh2            conda-forge/linux-64::libssh2-1.10.0-ha56f1ee_2\n",
      "  libtiff            conda-forge/linux-64::libtiff-4.0.10-hc3755c2_1005\n",
      "  libuuid            conda-forge/linux-64::libuuid-2.32.1-h7f98852_1000\n",
      "  libxcb             conda-forge/linux-64::libxcb-1.13-h7f98852_1004\n",
      "  libxml2            conda-forge/linux-64::libxml2-2.9.10-h68273f3_2\n",
      "  libzip             conda-forge/linux-64::libzip-1.8.0-h4de3113_1\n",
      "  libzlib            conda-forge/linux-64::libzlib-1.2.11-h36c2ea0_1013\n",
      "  lz4-c              conda-forge/linux-64::lz4-c-1.9.3-h9c3ff4c_1\n",
      "  lzo                conda-forge/linux-64::lzo-2.10-h516909a_1000\n",
      "  matplotlib-base    conda-forge/linux-64::matplotlib-base-3.4.3-py37h1058ff1_0\n",
      "  mdtraj             conda-forge/linux-64::mdtraj-1.9.7-py37h527cbdb_1\n",
      "  mock               conda-forge/linux-64::mock-4.0.3-py37h89c1867_2\n",
      "  netcdf-fortran     conda-forge/linux-64::netcdf-fortran-4.5.3-nompi_h2b6e579_106\n",
      "  networkx           conda-forge/noarch::networkx-2.6.3-pyhd8ed1ab_1\n",
      "  nomkl              conda-forge/noarch::nomkl-1.0-h5ca1d4c_0\n",
      "  numexpr            conda-forge/linux-64::numexpr-2.8.0-py37hfe5f03c_100\n",
      "  numpy              conda-forge/linux-64::numpy-1.21.5-py37hf2998dd_0\n",
      "  ocl-icd            conda-forge/linux-64::ocl-icd-2.3.1-h7f98852_0\n",
      "  ocl-icd-system     conda-forge/linux-64::ocl-icd-system-1.0.0-1\n",
      "  olefile            conda-forge/noarch::olefile-0.46-pyh9f0ad1d_1\n",
      "  openff-forcefields conda-forge/noarch::openff-forcefields-2.0.0-pyh6c4a22f_0\n",
      "  openff-toolkit     conda-forge/noarch::openff-toolkit-0.10.1-pyhd8ed1ab_0\n",
      "  openff-toolkit-ba~ conda-forge/noarch::openff-toolkit-base-0.10.1-pyhd8ed1ab_0\n",
      "  openmm             conda-forge/linux-64::openmm-7.7.0-py37hfbac998_0\n",
      "  packmol            conda-forge/linux-64::packmol-20.010-h86c2bf4_0\n",
      "  pandas             conda-forge/linux-64::pandas-1.3.5-py37he8f5f7f_0\n",
      "  parmed             conda-forge/linux-64::parmed-3.4.3-py37hcd2ae1e_1\n",
      "  pcre               conda-forge/linux-64::pcre-8.45-h9c3ff4c_0\n",
      "  perl               conda-forge/linux-64::perl-5.32.1-1_h7f98852_perl5\n",
      "  pillow             conda-forge/linux-64::pillow-6.2.1-py37h6b7be26_0\n",
      "  pixman             conda-forge/linux-64::pixman-0.38.0-h516909a_1003\n",
      "  pthread-stubs      conda-forge/linux-64::pthread-stubs-0.4-h36c2ea0_1001\n",
      "  pycairo            conda-forge/linux-64::pycairo-1.20.1-py37hfff247e_1\n",
      "  pytables           conda-forge/linux-64::pytables-3.6.1-py37h5dea08b_5\n",
      "  python-dateutil    conda-forge/noarch::python-dateutil-2.8.2-pyhd8ed1ab_0\n",
      "  python_abi         conda-forge/linux-64::python_abi-3.7-2_cp37m\n",
      "  pytz               conda-forge/noarch::pytz-2021.3-pyhd8ed1ab_0\n",
      "  rdkit              conda-forge/linux-64::rdkit-2021.09.3-py37h13c2175_0\n",
      "  reportlab          conda-forge/linux-64::reportlab-3.5.68-py37h69800bb_1\n",
      "  scipy              conda-forge/linux-64::scipy-1.7.3-py37hf2a6cf1_0\n",
      "  smirnoff99frosst   conda-forge/noarch::smirnoff99frosst-1.1.0-pyh44b312d_0\n",
      "  snappy             conda-forge/linux-64::snappy-1.1.8-he1b5a44_3\n",
      "  sqlalchemy         conda-forge/linux-64::sqlalchemy-1.4.29-py37h5e8e339_0\n",
      "  tornado            conda-forge/linux-64::tornado-6.1-py37h5e8e339_2\n",
      "  xmltodict          conda-forge/noarch::xmltodict-0.12.0-py_0\n",
      "  xorg-kbproto       conda-forge/linux-64::xorg-kbproto-1.0.7-h7f98852_1002\n",
      "  xorg-libice        conda-forge/linux-64::xorg-libice-1.0.10-h7f98852_0\n",
      "  xorg-libsm         conda-forge/linux-64::xorg-libsm-1.2.3-hd9c2040_1000\n",
      "  xorg-libx11        conda-forge/linux-64::xorg-libx11-1.7.2-h7f98852_0\n",
      "  xorg-libxau        conda-forge/linux-64::xorg-libxau-1.0.9-h7f98852_0\n",
      "  xorg-libxdmcp      conda-forge/linux-64::xorg-libxdmcp-1.1.3-h7f98852_0\n",
      "  xorg-libxext       conda-forge/linux-64::xorg-libxext-1.3.4-h7f98852_1\n",
      "  xorg-libxrender    conda-forge/linux-64::xorg-libxrender-0.9.10-h7f98852_1003\n",
      "  xorg-libxt         conda-forge/linux-64::xorg-libxt-1.2.1-h7f98852_2\n",
      "  xorg-renderproto   conda-forge/linux-64::xorg-renderproto-0.11.1-h7f98852_1002\n",
      "  xorg-xextproto     conda-forge/linux-64::xorg-xextproto-7.3.0-h7f98852_1002\n",
      "  xorg-xproto        conda-forge/linux-64::xorg-xproto-7.0.31-h7f98852_1007\n",
      "  zstd               conda-forge/linux-64::zstd-1.4.9-ha95c52a_0\n",
      "\n",
      "The following packages will be UPDATED:\n",
      "\n",
      "  certifi            pkgs/main::certifi-2021.10.8-py37h06a~ --> conda-forge::certifi-2021.10.8-py37h89c1867_1\n",
      "  libgcc-ng          pkgs/main::libgcc-ng-9.3.0-h5101ec6_17 --> conda-forge::libgcc-ng-11.2.0-h1d223b6_11\n",
      "  libgomp              pkgs/main::libgomp-9.3.0-h5101ec6_17 --> conda-forge::libgomp-11.2.0-h1d223b6_11\n",
      "  libstdcxx-ng       pkgs/main::libstdcxx-ng-9.3.0-hd4cf53~ --> conda-forge::libstdcxx-ng-11.2.0-he4da1e4_11\n",
      "  zlib                    pkgs/main::zlib-1.2.11-h7b6447c_3 --> conda-forge::zlib-1.2.11-h36c2ea0_1013\n",
      "\n",
      "The following packages will be SUPERSEDED by a higher-priority channel:\n",
      "\n",
      "  _libgcc_mutex           pkgs/main::_libgcc_mutex-0.1-main --> conda-forge::_libgcc_mutex-0.1-conda_forge\n",
      "  _openmp_mutex                                   pkgs/main --> conda-forge\n",
      "  ca-certificates    pkgs/main::ca-certificates-2021.10.26~ --> conda-forge::ca-certificates-2021.10.8-ha878542_0\n",
      "  conda              pkgs/main::conda-4.11.0-py37h06a4308_0 --> conda-forge::conda-4.11.0-py37h89c1867_0\n",
      "  openssl              pkgs/main::openssl-1.1.1l-h7f8727e_0 --> conda-forge::openssl-1.1.1l-h7f98852_0\n",
      "\n",
      "\n",
      "\n",
      "Downloading and Extracting Packages\n",
      "arpack-3.7.0         | 215 KB    | : 100% 1.0/1 [00:00<00:00,  6.36it/s]\n",
      "perl-5.32.1          | 14.4 MB   | : 100% 1.0/1 [00:05<00:00,  5.61s/it]               \n",
      "kiwisolver-1.3.2     | 78 KB     | : 100% 1.0/1 [00:00<00:00, 22.05it/s]\n",
      "libgfortran-ng-11.2. | 19 KB     | : 100% 1.0/1 [00:00<00:00, 25.72it/s]\n",
      "xorg-libice-1.0.10   | 58 KB     | : 100% 1.0/1 [00:00<00:00, 25.53it/s]\n",
      "icu-67.1             | 12.9 MB   | : 100% 1.0/1 [00:03<00:00,  3.47s/it]               \n",
      "krb5-1.19.2          | 1.4 MB    | : 100% 1.0/1 [00:00<00:00,  2.28it/s]\n",
      "reportlab-3.5.68     | 2.4 MB    | : 100% 1.0/1 [00:00<00:00,  1.31it/s]\n",
      "greenlet-1.1.2       | 90 KB     | : 100% 1.0/1 [00:00<00:00,  2.29it/s]                \n",
      "c-ares-1.18.1        | 113 KB    | : 100% 1.0/1 [00:00<00:00, 16.84it/s]\n",
      "fontconfig-2.13.1    | 357 KB    | : 100% 1.0/1 [00:00<00:00,  6.68it/s]\n",
      "ocl-icd-system-1.0.0 | 4 KB      | : 100% 1.0/1 [00:00<00:00, 32.84it/s]\n",
      "libuuid-2.32.1       | 28 KB     | : 100% 1.0/1 [00:00<00:00, 24.68it/s]\n",
      "libgfortran5-11.2.0  | 1.7 MB    | : 100% 1.0/1 [00:00<00:00,  1.84it/s]\n",
      "openff-toolkit-base- | 28.3 MB   | : 100% 1.0/1 [00:12<00:00, 12.05s/it]              \n",
      "freetype-2.10.4      | 890 KB    | : 100% 1.0/1 [00:00<00:00,  3.13it/s]\n",
      "xorg-xproto-7.0.31   | 73 KB     | : 100% 1.0/1 [00:00<00:00, 17.48it/s]\n",
      "libblas-3.9.0        | 12 KB     | : 100% 1.0/1 [00:00<00:00, 35.20it/s]\n",
      "astunparse-1.6.3     | 15 KB     | : 100% 1.0/1 [00:00<00:00, 32.52it/s]\n",
      "netcdf-fortran-4.5.3 | 1.3 MB    | : 100% 1.0/1 [00:00<00:00,  2.89it/s]\n",
      "python_abi-3.7       | 4 KB      | : 100% 1.0/1 [00:00<00:00, 29.22it/s]\n",
      "xmltodict-0.12.0     | 11 KB     | : 100% 1.0/1 [00:00<00:00, 30.09it/s]\n",
      "ca-certificates-2021 | 139 KB    | : 100% 1.0/1 [00:00<00:00, 16.87it/s]\n",
      "boost-cpp-1.74.0     | 16.4 MB   | : 100% 1.0/1 [00:09<00:00,  9.91s/it]\n",
      "openmm-7.7.0         | 11.1 MB   | : 100% 1.0/1 [00:06<00:00,  6.45s/it]               \n",
      "lzo-2.10             | 314 KB    | : 100% 1.0/1 [00:00<00:00,  8.06it/s]\n",
      "zstd-1.4.9           | 431 KB    | : 100% 1.0/1 [00:00<00:00,  8.10it/s]\n",
      "matplotlib-base-3.4. | 7.2 MB    | : 100% 1.0/1 [00:02<00:00,  2.07s/it]\n",
      "fftw-3.3.10          | 6.4 MB    | : 100% 1.0/1 [00:02<00:00,  2.09s/it]\n",
      "rdkit-2021.09.3      | 38.9 MB   | : 100% 1.0/1 [00:12<00:00, 12.92s/it]               \n",
      "xorg-libxt-1.2.1     | 375 KB    | : 100% 1.0/1 [00:00<00:00,  7.36it/s]\n",
      "boost-1.74.0         | 350 KB    | : 100% 1.0/1 [00:00<00:00,  6.30it/s]\n",
      "pytz-2021.3          | 242 KB    | : 100% 1.0/1 [00:00<00:00,  6.63it/s]\n",
      "pandas-1.3.5         | 12.7 MB   | : 100% 1.0/1 [00:04<00:00,  4.59s/it]              \n",
      "glib-2.69.1          | 1.7 MB    | : 100% 1.0/1 [00:00<00:00,  4.80it/s]\n",
      "snappy-1.1.8         | 32 KB     | : 100% 1.0/1 [00:00<00:00, 25.01it/s]\n",
      "cudatoolkit-11.5.0   | 789.0 MB  | : 100% 1.0/1 [03:01<00:00, 181.56s/it]              \n",
      "openff-toolkit-0.10. | 6 KB      | : 100% 1.0/1 [00:00<00:00, 29.54it/s]\n",
      "pytables-3.6.1       | 1.4 MB    | : 100% 1.0/1 [00:00<00:00,  1.30it/s]\n",
      "blosc-1.21.0         | 841 KB    | : 100% 1.0/1 [00:00<00:00,  4.39it/s]\n",
      "hdf5-1.12.1          | 3.6 MB    | : 100% 1.0/1 [00:01<00:00,  1.06s/it]\n",
      "scipy-1.7.3          | 21.8 MB   | : 100% 1.0/1 [00:06<00:00,  6.14s/it]\n",
      "libxml2-2.9.10       | 1.3 MB    | : 100% 1.0/1 [00:00<00:00,  1.61it/s]\n",
      "libtiff-4.0.10       | 602 KB    | : 100% 1.0/1 [00:00<00:00,  5.49it/s]\n",
      "libnetcdf-4.8.1      | 1.5 MB    | : 100% 1.0/1 [00:00<00:00,  2.25it/s]\n",
      "pthread-stubs-0.4    | 5 KB      | : 100% 1.0/1 [00:00<00:00, 28.59it/s]\n",
      "libcblas-3.9.0       | 12 KB     | : 100% 1.0/1 [00:00<00:00, 23.48it/s]\n",
      "libssh2-1.10.0       | 233 KB    | : 100% 1.0/1 [00:00<00:00,  9.07it/s]\n",
      "openssl-1.1.1l       | 2.1 MB    | : 100% 1.0/1 [00:00<00:00,  1.82it/s]\n",
      "hdf4-4.2.15          | 950 KB    | : 100% 1.0/1 [00:00<00:00,  3.14it/s]\n",
      "xorg-libxrender-0.9. | 32 KB     | : 100% 1.0/1 [00:00<00:00, 29.95it/s]\n",
      "olefile-0.46         | 32 KB     | : 100% 1.0/1 [00:00<00:00, 25.62it/s]\n",
      "xorg-renderproto-0.1 | 9 KB      | : 100% 1.0/1 [00:00<00:00, 31.68it/s]\n",
      "libpng-1.6.37        | 306 KB    | : 100% 1.0/1 [00:00<00:00,  7.41it/s]\n",
      "conda-4.11.0         | 16.9 MB   | : 100% 1.0/1 [00:06<00:00,  6.73s/it]\n",
      "ambertools-21.11     | 89.6 MB   | : 100% 1.0/1 [00:29<00:00, 29.34s/it]              \n",
      "parmed-3.4.3         | 977 KB    | : 100% 1.0/1 [00:00<00:00,  2.52it/s]\n",
      "xorg-xextproto-7.3.0 | 28 KB     | : 100% 1.0/1 [00:00<00:00, 25.02it/s]\n",
      "numexpr-2.8.0        | 135 KB    | : 100% 1.0/1 [00:00<00:00, 15.57it/s]\n",
      "zlib-1.2.11          | 86 KB     | : 100% 1.0/1 [00:00<00:00, 24.27it/s]\n",
      "_openmp_mutex-4.5    | 22 KB     | : 100% 1.0/1 [00:00<00:00, 17.50it/s]\n",
      "_libgcc_mutex-0.1    | 3 KB      | : 100% 1.0/1 [00:00<00:00, 33.02it/s]\n",
      "pillow-6.2.1         | 637 KB    | : 100% 1.0/1 [00:00<00:00,  1.52it/s]\n",
      "xorg-libxdmcp-1.1.3  | 19 KB     | : 100% 1.0/1 [00:00<00:00, 32.70it/s]\n",
      "libnghttp2-1.43.0    | 790 KB    | : 100% 1.0/1 [00:00<00:00,  4.06it/s]\n",
      "jpeg-9d              | 264 KB    | : 100% 1.0/1 [00:00<00:00,  7.76it/s]\n",
      "curl-7.80.0          | 153 KB    | : 100% 1.0/1 [00:00<00:00, 21.26it/s]\n",
      "packmol-20.010       | 129 KB    | : 100% 1.0/1 [00:00<00:00, 21.51it/s]\n",
      "libgomp-11.2.0       | 427 KB    | : 100% 1.0/1 [00:00<00:00,  8.52it/s]\n",
      "pycairo-1.20.1       | 83 KB     | : 100% 1.0/1 [00:00<00:00, 19.47it/s]\n",
      "nomkl-1.0            | 4 KB      | : 100% 1.0/1 [00:00<00:00, 36.07it/s]\n",
      "python-dateutil-2.8. | 240 KB    | : 100% 1.0/1 [00:00<00:00, 13.06it/s]\n",
      "libzlib-1.2.11       | 59 KB     | : 100% 1.0/1 [00:00<00:00, 18.84it/s]\n",
      "liblapack-3.9.0      | 12 KB     | : 100% 1.0/1 [00:00<00:00, 28.76it/s]\n",
      "certifi-2021.10.8    | 145 KB    | : 100% 1.0/1 [00:00<00:00, 18.24it/s]\n",
      "cython-0.29.26       | 2.2 MB    | : 100% 1.0/1 [00:00<00:00,  1.20it/s]\n",
      "xorg-libsm-1.2.3     | 26 KB     | : 100% 1.0/1 [00:00<00:00, 28.90it/s]\n",
      "networkx-2.6.3       | 1.5 MB    | : 100% 1.0/1 [00:00<00:00,  1.76it/s]\n",
      "pixman-0.38.0        | 594 KB    | : 100% 1.0/1 [00:00<00:00,  6.81it/s]\n",
      "openff-forcefields-2 | 100 KB    | : 100% 1.0/1 [00:00<00:00,  5.67it/s]\n",
      "smirnoff99frosst-1.1 | 34 KB     | : 100% 1.0/1 [00:00<00:00, 14.02it/s]\n",
      "lz4-c-1.9.3          | 179 KB    | : 100% 1.0/1 [00:00<00:00, 13.81it/s]\n",
      "xorg-libxau-1.0.9    | 13 KB     | : 100% 1.0/1 [00:00<00:00, 38.30it/s]\n",
      "libzip-1.8.0         | 126 KB    | : 100% 1.0/1 [00:00<00:00, 11.78it/s]\n",
      "numpy-1.21.5         | 6.1 MB    | : 100% 1.0/1 [00:02<00:00,  2.09s/it]\n",
      "sqlalchemy-1.4.29    | 2.3 MB    | : 100% 1.0/1 [00:01<00:00,  1.12s/it]\n",
      "libedit-3.1.20191231 | 121 KB    | : 100% 1.0/1 [00:00<00:00, 19.20it/s]\n",
      "pcre-8.45            | 253 KB    | : 100% 1.0/1 [00:00<00:00,  9.25it/s]\n",
      "libstdcxx-ng-11.2.0  | 4.2 MB    | : 100% 1.0/1 [00:00<00:00,  1.15it/s]\n",
      "mock-4.0.3           | 51 KB     | : 100% 1.0/1 [00:00<00:00, 27.00it/s]\n",
      "bzip2-1.0.8          | 484 KB    | : 100% 1.0/1 [00:00<00:00,  4.39it/s]\n",
      "xorg-libx11-1.7.2    | 941 KB    | : 100% 1.0/1 [00:00<00:00,  3.88it/s]\n",
      "libcurl-7.80.0       | 337 KB    | : 100% 1.0/1 [00:00<00:00,  9.39it/s]\n",
      "mdtraj-1.9.7         | 1.8 MB    | : 100% 1.0/1 [00:00<00:00,  1.72it/s]\n",
      "xorg-kbproto-1.0.7   | 27 KB     | : 100% 1.0/1 [00:00<00:00, 24.06it/s]\n",
      "xorg-libxext-1.3.4   | 54 KB     | : 100% 1.0/1 [00:00<00:00, 23.73it/s]\n",
      "libxcb-1.13          | 391 KB    | : 100% 1.0/1 [00:00<00:00,  4.13it/s]\n",
      "cycler-0.11.0        | 10 KB     | : 100% 1.0/1 [00:00<00:00, 28.85it/s]\n",
      "tornado-6.1          | 642 KB    | : 100% 1.0/1 [00:00<00:00,  2.98it/s]\n",
      "ocl-icd-2.3.1        | 119 KB    | : 100% 1.0/1 [00:00<00:00,  9.89it/s]\n",
      "cairo-1.16.0         | 1.5 MB    | : 100% 1.0/1 [00:00<00:00,  1.66it/s]\n",
      "libopenblas-0.3.18   | 9.6 MB    | : 100% 1.0/1 [00:02<00:00,  2.85s/it]               \n",
      "libev-4.33           | 104 KB    | : 100% 1.0/1 [00:00<00:00, 19.74it/s]\n",
      "libgcc-ng-11.2.0     | 887 KB    | : 100% 1.0/1 [00:00<00:00,  4.24it/s]\n",
      "libiconv-1.16        | 1.4 MB    | : 100% 1.0/1 [00:00<00:00,  3.33it/s]\n",
      "Preparing transaction: \\ \b\b| \b\b/ \b\b- \b\b\\ \b\b| \b\b/ \b\b- \b\b\\ \b\b| \b\b/ \b\b- \b\b\\ \b\b| \b\b/ \b\b- \b\bdone\n",
      "Verifying transaction: | \b\b/ \b\b- \b\b\\ \b\b| \b\b/ \b\b- \b\b\\ \b\b| \b\b/ \b\b- \b\b\\ \b\b| \b\b/ \b\b- \b\b\\ \b\b| \b\b/ \b\b- \b\b\\ \b\b| \b\b/ \b\b- \b\b\\ \b\b| \b\b/ \b\b- \b\b\\ \b\b| \b\b/ \b\b- \b\b\\ \b\b| \b\b/ \b\b- \b\b\\ \b\b| \b\b/ \b\b- \b\b\\ \b\b| \b\b/ \b\b- \b\b\\ \b\b| \b\b/ \b\b- \b\b\\ \b\b| \b\b/ \b\b- \b\b\\ \b\bdone\n",
      "Executing transaction: / \b\b- \b\b\\ \b\b| \b\b/ \b\b- \b\b\\ \b\b| \b\b/ \b\b- \b\b\\ \b\b| \b\b/ \b\b- \b\b\\ \b\b| \b\b/ \b\b- \b\b\\ \b\b| \b\b/ \b\b- \b\b\\ \b\b| \b\b/ \b\b- \b\b\\ \b\b| \b\b/ \b\b- \b\b\\ \b\b| By downloading and using the CUDA Toolkit conda packages, you accept the terms and conditions of the CUDA End User License Agreement (EULA): https://docs.nvidia.com/cuda/eula/index.html\n",
      "\n",
      "\b\b/ \b\b- \b\b\\ \b\b| \b\b/ \b\b- \b\b\\ \b\b| \b\b/ \b\b- \b\b\\ \b\b| \b\b/ \b\b- \b\b\\ \b\b| \b\b/ \b\b- \b\b\\ \b\b| \b\b/ \b\b- \b\b\\ \b\b| \b\b/ \b\b- \b\b\\ \b\b| \b\b/ \b\b- \b\b\\ \b\b| \b\b/ \b\b- \b\b\\ \b\b| \b\b/ \b\b- \b\b\\ \b\b| \b\bdone\n"
     ]
    }
   ],
   "source": [
    "!conda install -c conda-forge openff-toolkit openmm --yes"
   ]
  },
  {
   "cell_type": "markdown",
   "metadata": {
    "id": "_zprREAOorKO"
   },
   "source": [
    "### Preparation for local use\n",
    "\n",
    "For local use, you need to ensure you are operating in a Python environment with the OpenEye toolkits (and license), the `openff-toolkit`, and `openmm`, the latter two of which are available from conda-forge."
   ]
  },
  {
   "cell_type": "markdown",
   "metadata": {
    "collapsed": true,
    "id": "OdeYv0O4-E6Q"
   },
   "source": [
    "# Now let's do MD on a molecule!\n",
    "\n",
    "In the other sandbox associated with this lecture, we did some very simple MD on a 1D Lennard-Jones system. Now let's head towards the opposite extreme and do our first molecular system.\n",
    "\n",
    "Here, we'll draw on OpenMM, a molecular mechanics toolkit we'll see again later in the class, for running some simple energy minimizations and molecular dynamics. And we'll use the `openforcefield` tools for assigning a force field for a molecule, because they make this very simple (and you have them already installed).\n",
    "\n",
    "## First, we generate a molecule"
   ]
  },
  {
   "cell_type": "code",
   "execution_count": 1,
   "metadata": {
    "colab": {
     "base_uri": "https://localhost:8080/",
     "height": 182
    },
    "id": "xETKwpnk-E6Q",
    "outputId": "5c81f376-6bc2-4134-e608-4d1db44020c8"
   },
   "outputs": [
    {
     "data": {
      "image/png": "[encoded data removed]",
      "text/plain": [
       "<IPython.core.display.Image object>"
      ]
     },
     "execution_count": 1,
     "metadata": {
      "image/png": {
       "width": 200
      }
     },
     "output_type": "execute_result"
    }
   ],
   "source": [
    "#@title\n",
    "# What SMILES string for the guest? Should be isomeric SMILES\n",
    "mol_smiles = 'OC(CC1CCCC1)=O'\n",
    "\n",
    "# Import stuff\n",
    "from openeye.oechem import *\n",
    "from openeye.oeomega import * # conformer generation\n",
    "from openeye.oequacpac import * #for partial charge assignment\n",
    "\n",
    "# Create empty OEMol\n",
    "mol = OEMol()\n",
    "# Convert SMILES\n",
    "OESmilesToMol(mol, mol_smiles)\n",
    "\n",
    "# Draw to make sure that's what we want\n",
    "from IPython.display import Image\n",
    "import openeye.oedepict as oedepict # Use OpenEye depiction toolkit\n",
    "oedepict.OEPrepareDepiction(mol)\n",
    "oedepict.OERenderMolecule(\"DepictMolSimple.png\", mol)\n",
    "Image('DepictMolSimple.png',width = 200)"
   ]
  },
  {
   "cell_type": "markdown",
   "metadata": {
    "collapsed": true,
    "id": "BN4yBmxf-E6R"
   },
   "source": [
    "## For some use cases, we would begin with a structure of our molecule\n",
    "\n",
    "We're about to jump into the OpenFF toolkit and prep our molecule for simulation. We could either begin with the molecule in a format which had coordinates (like .mol2 or .sdf) if we were starting from a conformer we wanted to use, or we could let the toolkit generate a conformer for us. Here, since we aren't starting with a conformer we want to use, we will let the toolkit generate an initial conformer. "
   ]
  },
  {
   "cell_type": "markdown",
   "metadata": {
    "id": "ikHZZBQo-E6R"
   },
   "source": [
    "## We apply a force field to assign parameters to the system\n",
    "\n",
    "This uses the `openff-toolkit` from Open Force Field, along with the `openff-2.0.0` Parsley force field."
   ]
  },
  {
   "cell_type": "code",
   "execution_count": 50,
   "metadata": {
    "colab": {
     "base_uri": "https://localhost:8080/",
     "height": 607
    },
    "id": "S53dPRDd-E6S",
    "outputId": "2dc24b84-7d5f-4af9-ca64-1456500d1e4e"
   },
   "outputs": [],
   "source": [
    "from openff.toolkit.topology import Topology, Molecule\n",
    "from openff.toolkit.typing.engines.smirnoff import ForceField\n",
    "\n",
    "# Get force field ready\n",
    "ff = ForceField('openff-2.0.0.offxml')\n",
    "\n",
    "# Generate an OpenFF molecule from the SMILES\n",
    "offmol = Molecule.from_smiles(mol_smiles)\n",
    "\n",
    "# Generate a conformer, using whatever cheminformatics \"backend\" the toolkit is using (OpenEye or RDKit in general; here OpenEye)\n",
    "offmol.generate_conformers(n_conformers=1)\n",
    "\n",
    "# Draw the OpenFF molecule to make sure it looks OK\n",
    "offmol.visualize()\n",
    "\n",
    "# Create an empty OpenFF Topology \n",
    "topology = Topology()\n",
    "\n",
    "# Add our molecule to the Topology (a Topology can contain multiple molecules)\n",
    "molecule_topology_indices = topology.add_molecule(offmol)\n",
    "\n",
    "#Place in 4 nm box\n",
    "import numpy as np\n",
    "topology.box_vectors = np.eye(3) * 4 * unit.nanometer\n",
    "\n",
    "# Parametrize the topology and create an OpenMM System.\n",
    "system = ff.create_openmm_system(topology)\n",
    "\n",
    "# Generate OpenMM topology for use setting up simulation\n",
    "omm_topology = topology.to_openmm()\n",
    "\n",
    "# Write to a file for convenience\n",
    "offmol.to_file('molecule.mol2', file_format='mol2')"
   ]
  },
  {
   "cell_type": "markdown",
   "metadata": {
    "id": "zjnHs_D9-E6S"
   },
   "source": [
    "## Next we'll start off by doing an energy minimization\n",
    "\n",
    "We first prepare the system, but then the actual energy minimization is very simple. I believe OpenMM is using an L-BFGS minimizer."
   ]
  },
  {
   "cell_type": "code",
   "execution_count": 47,
   "metadata": {
    "id": "_iGv7Og6-E6S"
   },
   "outputs": [
    {
     "name": "stdout",
     "output_type": "stream",
     "text": [
      "Energy before minimization (kcal/mol): 19\n",
      "Energy after minimization (kcal/mol): 16\n"
     ]
    }
   ],
   "source": [
    "# Import openmm stuff\n",
    "import openmm\n",
    "try:\n",
    "    import openmm\n",
    "    from openmm import unit\n",
    "except ImportError:\n",
    "    from simtk import openmm, unit\n",
    "\n",
    "# Even though we're just going to minimize, we still have to set up an integrator, since a Simulation needs one\n",
    "integrator = openmm.VerletIntegrator(2.0*unit.femtoseconds)\n",
    "# Prep the Simulation using the parameterized system, the integrator, and the topology\n",
    "simulation = openmm.app.Simulation(omm_topology, system, integrator)\n",
    "\n",
    "# Copy in the positions - here we use those from the OpenFF molecule we generated, but they could come from elsewhere\n",
    "positions = offmol.conformers[0]\n",
    "simulation.context.setPositions( positions) \n",
    "\n",
    "# Get initial state and energy; print\n",
    "state = simulation.context.getState(getEnergy = True)\n",
    "energy = state.getPotentialEnergy() / unit.kilocalories_per_mole\n",
    "print(\"Energy before minimization (kcal/mol): %.2g\" % energy)\n",
    "\n",
    "# Minimize, get final state and energy and print\n",
    "simulation.minimizeEnergy()\n",
    "state = simulation.context.getState(getEnergy=True, getPositions=True)\n",
    "energy = state.getPotentialEnergy() / unit.kilocalories_per_mole\n",
    "print(\"Energy after minimization (kcal/mol): %.2g\" % energy)\n",
    "newpositions = state.getPositions()"
   ]
  },
  {
   "cell_type": "markdown",
   "metadata": {
    "id": "JrOQsC_I-E6T"
   },
   "source": [
    "## Now we do some bookkeeping to run MD\n",
    "\n",
    "Most of this is just setup, file bookkeeping, temperature selection, etc. The key part which actually runs it is the second-to-last block of code which says `simulation.step(1000)` which runs 1000 steps of dynamics. The timestep for this is set near the top, and is 2 femtoseconds per timestep, so the total time is 2000 fs, or 2 ps.\n",
    "\n",
    "Simulation snapshots are stored to a NetCDF file for later visualization, every 100 frames (so we'll end up with 10 of them). You can adjust these settings if you like."
   ]
  },
  {
   "cell_type": "code",
   "execution_count": 48,
   "metadata": {
    "id": "9bAyNURu-E6T"
   },
   "outputs": [
    {
     "name": "stdout",
     "output_type": "stream",
     "text": [
      "Starting simulation\n",
      "Elapsed time 25.46 seconds\n",
      "Done!\n"
     ]
    }
   ],
   "source": [
    "import os\n",
    "from datetime import datetime\n",
    "\n",
    "# Propagate the System with Langevin dynamics.\n",
    "time_step = 2 * unit.femtoseconds  # simulation timestep\n",
    "temperature = 300 * unit.kelvin  # simulation temperature\n",
    "friction = 1 / unit.picosecond  # collision rate\n",
    "integrator = openmm.LangevinIntegrator(temperature, friction, time_step)\n",
    "\n",
    "# Length of the simulation.\n",
    "num_steps = 1000  # number of integration steps to run\n",
    "\n",
    "# Prep Simulation\n",
    "simulation = openmm.app.Simulation(omm_topology, system, integrator)\n",
    "# Copy in minimized positions\n",
    "simulation.context.setPositions(newpositions)\n",
    "\n",
    "# Initialize velocities to correct temperature\n",
    "simulation.context.setVelocitiesToTemperature(temperature)\n",
    "\n",
    "# Initialize reporters, including a CSV file to store certain stats every 100 frames\n",
    "simulation.reporters.append(openmm.app.StateDataReporter(os.path.join('.', 'data.csv'), 100, step=True, potentialEnergy=True, temperature=True, density=True))\n",
    "netcdf_reporter = NetCDFReporter(os.path.join('.', 'trajectory.nc'), 100) #Store every 100 frames\n",
    "simulation.reporters.append(netcdf_reporter)\n",
    "# Also store to a PDB for convenience\n",
    "pdb_reporter = openmm.app.PDBReporter(\"trajectory.pdb\", 100) #store every 100 steps\n",
    "simulation.reporters.append(pdb_reporter)\n",
    "\n",
    "# Run the simulation and print start info; store timing\n",
    "print(\"Starting simulation\")\n",
    "start = datetime.now()\n",
    "simulation.step(num_steps) \n",
    "end = datetime.now()\n",
    "\n",
    "# Print elapsed time info, finalize trajectory file\n",
    "print(\"Elapsed time %.2f seconds\" % (end-start).total_seconds())\n",
    "netcdf_reporter.close()\n",
    "print(\"Done!\")\n"
   ]
  },
  {
   "cell_type": "markdown",
   "metadata": {
    "id": "xQohKeS_-E6T"
   },
   "source": [
    "## Now we can visualize the results with `nglview`\n",
    "\n",
    "If you don't have `nglview`, you can also load the PDB file, `mymolecule.pdb`, with a standard viewer like VMD or Chimera, and then load the PDB trajectory file (`trajectory.pdb`) in afterwards. If `nglview` is not working on your platform, you can use `py3dmol` to load a static view of structures."
   ]
  },
  {
   "cell_type": "code",
   "execution_count": 52,
   "metadata": {
    "id": "JRusCopR-E6U"
   },
   "outputs": [
    {
     "data": {
      "application/vnd.jupyter.widget-view+json": {
       "model_id": "fb644dc4c2ef408ca0cd4e84ba47a0d0",
       "version_major": 2,
       "version_minor": 0
      },
      "text/plain": [
       "NGLWidget(max_frame=9)"
      ]
     },
     "metadata": {},
     "output_type": "display_data"
    }
   ],
   "source": [
    "# Load stored trajectory using MDTraj; the trajectory doesn't contain chemistry info so we also load a PDB\n",
    "import mdtraj\n",
    "import nglview\n",
    "traj= mdtraj.load(os.path.join('.', 'trajectory.pdb'), top=os.path.join('.', 'molecule.mol2'))\n",
    "\n",
    "# View the trajectory\n",
    "view = nglview.show_mdtraj(traj)\n",
    "view"
   ]
  },
  {
   "cell_type": "markdown",
   "metadata": {
    "id": "mCezrgQq-E6U"
   },
   "source": [
    "## Exercises\n",
    "\n",
    "- Try your own molecule. What about one which has the potential for internal hydrogen bonding?\n",
    "- Run the dynamics longer\n",
    "- What is different if you lower the temperature? Raise the temperature? "
   ]
  }
 ],
 "metadata": {
  "anaconda-cloud": {},
  "colab": {
   "collapsed_sections": [],
   "name": "Copy of MD_Sandbox_Molecule.ipynb",
   "provenance": []
  },
  "kernelspec": {
   "display_name": "Python 3 (ipykernel)",
   "language": "python",
   "name": "python3"
  },
  "language_info": {
   "codemirror_mode": {
    "name": "ipython",
    "version": 3
   },
   "file_extension": ".py",
   "mimetype": "text/x-python",
   "name": "python",
   "nbconvert_exporter": "python",
   "pygments_lexer": "ipython3",
   "version": "3.8.12"
  },
  "toc": {
   "nav_menu": {},
   "number_sections": true,
   "sideBar": true,
   "skip_h1_title": false,
   "toc_cell": false,
   "toc_position": {},
   "toc_section_display": "block",
   "toc_window_display": false
  }
 },
 "nbformat": 4,
 "nbformat_minor": 1
}
