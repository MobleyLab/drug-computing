{
 "cells": [
  {
   "cell_type": "markdown",
   "metadata": {
    "id": "OqKzYKT1-E5_"
   },
   "source": [
    "# Sandbox/demo to go along with the MD assignment and lectures\n",
    "\n",
    "## PharmSci 175/275\n",
    "Author: David Mobley\n",
    "\n",
    "\n"
   ]
  },
  {
   "cell_type": "markdown",
   "metadata": {},
   "source": [
    "## Preparation \n",
    "\n",
    "To use this notebook you will either need to run it locally using Jupyter (with a fortran library you pre-compile) or on Google Colab. This notebook briefly explains either route, though if you are going the local route you may need to compile the library before installing some of the other course materials, or do so in a clean/new conda environment. Some users have reported that conda installing `openforcefield`, `openmm` and the openeye toolkits after installing `gfortran` results in the loss of the ability to compile fortran libraries for use in Python.\n",
    "\n",
    "\n",
    "### Preparation for Google Colab (NOT FOR LOCAL USE)\n",
    "\n",
    "[![Open in Colab](https://colab.research.google.com/assets/colab-badge.svg)](https://colab.research.google.com/github/MobleyLab/drug-computing/blob/master/uci-pharmsci/lectures/MD/MD_Sandbox.ipynb)\n",
    "\n",
    "**For Google Colab, install mamba and gfortran as in the `Getting_Started.ipynb` in the intro course materials (insert that code below):**"
   ]
  },
  {
   "cell_type": "code",
   "execution_count": null,
   "metadata": {},
   "outputs": [],
   "source": []
  },
  {
   "cell_type": "markdown",
   "metadata": {},
   "source": [
    "Next, mount your Google Drive and ensure you have the md_sandbox.f90 file available **at a path you define below**:"
   ]
  },
  {
   "cell_type": "code",
   "execution_count": null,
   "metadata": {},
   "outputs": [],
   "source": [
    "from google.colab import drive\n",
    "drive.mount('/content/drive',force_remount = True)\n",
    "\n",
    "#EDIT THIS TO DEFINE WHERE YOU PUT THE FILE:\n",
    "md_library_path = '/content/drive/MyDrive/drug-computing/uci-pharmsci/lectures/MD/'\n",
    "\n",
    "# Then run:\n",
    "%cd $md_library_path"
   ]
  },
  {
   "cell_type": "markdown",
   "metadata": {},
   "source": [
    "Then compile the requisite library:"
   ]
  },
  {
   "cell_type": "code",
   "execution_count": 1,
   "metadata": {},
   "outputs": [
    {
     "name": "stdout",
     "output_type": "stream",
     "text": [
      "\u001b[39mrunning build\u001b[0m\n",
      "\u001b[39mrunning config_cc\u001b[0m\n",
      "\u001b[39munifing config_cc, config, build_clib, build_ext, build commands --compiler options\u001b[0m\n",
      "\u001b[39mrunning config_fc\u001b[0m\n",
      "\u001b[39munifing config_fc, config, build_clib, build_ext, build commands --fcompiler options\u001b[0m\n",
      "\u001b[39mrunning build_src\u001b[0m\n",
      "\u001b[39mbuild_src\u001b[0m\n",
      "\u001b[39mbuilding extension \"md_sandbox\" sources\u001b[0m\n",
      "\u001b[39mf2py options: []\u001b[0m\n",
      "\u001b[39mf2py:> /var/folders/7z/88tvgj2941bclbbw1xhn0t8r0000gn/T/tmpm7bkjeb3/src.macosx-10.9-x86_64-3.8/md_sandboxmodule.c\u001b[0m\n",
      "\u001b[39mcreating /var/folders/7z/88tvgj2941bclbbw1xhn0t8r0000gn/T/tmpm7bkjeb3/src.macosx-10.9-x86_64-3.8\u001b[0m\n",
      "Reading fortran codes...\n",
      "\tReading file 'md_sandbox.f90' (format:free)\n",
      "Post-processing...\n",
      "\tBlock: md_sandbox\n",
      "\t\t\tBlock: calcenergy\n",
      "\t\t\tBlock: calcenergyforces\n",
      "\t\t\tBlock: vvintegrate\n",
      "Post-processing (stage 2)...\n",
      "Building modules...\n",
      "\tBuilding module \"md_sandbox\"...\n",
      "\t\tConstructing wrapper function \"calcenergy\"...\n",
      "\t\t  penergy = calcenergy(pos,m,l,rc,[dim,natom])\n",
      "\t\tConstructing wrapper function \"calcenergyforces\"...\n",
      "\t\t  penergy,forces = calcenergyforces(pos,m,l,rc,forces,[dim,natom])\n",
      "\t\tConstructing wrapper function \"vvintegrate\"...\n",
      "\t\t  pos,vel,accel,kenergy,penergy = vvintegrate(pos,vel,accel,m,l,rc,dt,[dim,natom])\n",
      "\tWrote C/API module \"md_sandbox\" to file \"/var/folders/7z/88tvgj2941bclbbw1xhn0t8r0000gn/T/tmpm7bkjeb3/src.macosx-10.9-x86_64-3.8/md_sandboxmodule.c\"\n",
      "\u001b[39m  adding '/var/folders/7z/88tvgj2941bclbbw1xhn0t8r0000gn/T/tmpm7bkjeb3/src.macosx-10.9-x86_64-3.8/fortranobject.c' to sources.\u001b[0m\n",
      "\u001b[39m  adding '/var/folders/7z/88tvgj2941bclbbw1xhn0t8r0000gn/T/tmpm7bkjeb3/src.macosx-10.9-x86_64-3.8' to include_dirs.\u001b[0m\n",
      "\u001b[39mcopying /Users/dmobley/opt/anaconda3/envs/drugcomp/lib/python3.8/site-packages/numpy/f2py/src/fortranobject.c -> /var/folders/7z/88tvgj2941bclbbw1xhn0t8r0000gn/T/tmpm7bkjeb3/src.macosx-10.9-x86_64-3.8\u001b[0m\n",
      "\u001b[39mcopying /Users/dmobley/opt/anaconda3/envs/drugcomp/lib/python3.8/site-packages/numpy/f2py/src/fortranobject.h -> /var/folders/7z/88tvgj2941bclbbw1xhn0t8r0000gn/T/tmpm7bkjeb3/src.macosx-10.9-x86_64-3.8\u001b[0m\n",
      "\u001b[39mbuild_src: building npy-pkg config files\u001b[0m\n",
      "\u001b[39mrunning build_ext\u001b[0m\n",
      "\u001b[39mcustomize UnixCCompiler\u001b[0m\n",
      "\u001b[39mcustomize UnixCCompiler using build_ext\u001b[0m\n",
      "\u001b[39mget_default_fcompiler: matching types: '['gnu95', 'nag', 'absoft', 'ibm', 'intel', 'gnu', 'g95', 'pg']'\u001b[0m\n",
      "\u001b[39mcustomize Gnu95FCompiler\u001b[0m\n",
      "\u001b[39mFound executable /usr/local/bin/gfortran\u001b[0m\n",
      "\u001b[39mcustomize Gnu95FCompiler\u001b[0m\n",
      "\u001b[39mcustomize Gnu95FCompiler using build_ext\u001b[0m\n",
      "\u001b[39mbuilding 'md_sandbox' extension\u001b[0m\n",
      "\u001b[39mcompiling C sources\u001b[0m\n",
      "\u001b[39mC compiler: gcc -Wno-unused-result -Wsign-compare -Wunreachable-code -DNDEBUG -g -fwrapv -O3 -Wall -Wstrict-prototypes -I/Users/dmobley/opt/anaconda3/envs/drugcomp/include -arch x86_64 -I/Users/dmobley/opt/anaconda3/envs/drugcomp/include -arch x86_64\n",
      "\u001b[0m\n",
      "\u001b[39mcreating /var/folders/7z/88tvgj2941bclbbw1xhn0t8r0000gn/T/tmpm7bkjeb3/var\u001b[0m\n",
      "\u001b[39mcreating /var/folders/7z/88tvgj2941bclbbw1xhn0t8r0000gn/T/tmpm7bkjeb3/var/folders\u001b[0m\n",
      "\u001b[39mcreating /var/folders/7z/88tvgj2941bclbbw1xhn0t8r0000gn/T/tmpm7bkjeb3/var/folders/7z\u001b[0m\n",
      "\u001b[39mcreating /var/folders/7z/88tvgj2941bclbbw1xhn0t8r0000gn/T/tmpm7bkjeb3/var/folders/7z/88tvgj2941bclbbw1xhn0t8r0000gn\u001b[0m\n",
      "\u001b[39mcreating /var/folders/7z/88tvgj2941bclbbw1xhn0t8r0000gn/T/tmpm7bkjeb3/var/folders/7z/88tvgj2941bclbbw1xhn0t8r0000gn/T\u001b[0m\n",
      "\u001b[39mcreating /var/folders/7z/88tvgj2941bclbbw1xhn0t8r0000gn/T/tmpm7bkjeb3/var/folders/7z/88tvgj2941bclbbw1xhn0t8r0000gn/T/tmpm7bkjeb3\u001b[0m\n",
      "\u001b[39mcreating /var/folders/7z/88tvgj2941bclbbw1xhn0t8r0000gn/T/tmpm7bkjeb3/var/folders/7z/88tvgj2941bclbbw1xhn0t8r0000gn/T/tmpm7bkjeb3/src.macosx-10.9-x86_64-3.8\u001b[0m\n",
      "\u001b[39mcompile options: '-DNPY_DISABLE_OPTIMIZATION=1 -I/var/folders/7z/88tvgj2941bclbbw1xhn0t8r0000gn/T/tmpm7bkjeb3/src.macosx-10.9-x86_64-3.8 -I/Users/dmobley/opt/anaconda3/envs/drugcomp/lib/python3.8/site-packages/numpy/core/include -I/Users/dmobley/opt/anaconda3/envs/drugcomp/include/python3.8 -c'\u001b[0m\n",
      "\u001b[39mgcc: /var/folders/7z/88tvgj2941bclbbw1xhn0t8r0000gn/T/tmpm7bkjeb3/src.macosx-10.9-x86_64-3.8/md_sandboxmodule.c\u001b[0m\n",
      "\u001b[39mgcc: /var/folders/7z/88tvgj2941bclbbw1xhn0t8r0000gn/T/tmpm7bkjeb3/src.macosx-10.9-x86_64-3.8/fortranobject.c\u001b[0m\n",
      "In file included from \u001b[01m\u001b[K/Users/dmobley/opt/anaconda3/envs/drugcomp/lib/python3.8/site-packages/numpy/core/include/numpy/ndarraytypes.h:1969\u001b[m\u001b[K,\n",
      "                 from \u001b[01m\u001b[K/Users/dmobley/opt/anaconda3/envs/drugcomp/lib/python3.8/site-packages/numpy/core/include/numpy/ndarrayobject.h:12\u001b[m\u001b[K,\n",
      "                 from \u001b[01m\u001b[K/Users/dmobley/opt/anaconda3/envs/drugcomp/lib/python3.8/site-packages/numpy/core/include/numpy/arrayobject.h:4\u001b[m\u001b[K,\n",
      "                 from \u001b[01m\u001b[K/var/folders/7z/88tvgj2941bclbbw1xhn0t8r0000gn/T/tmpm7bkjeb3/src.macosx-10.9-x86_64-3.8/fortranobject.h:13\u001b[m\u001b[K,\n",
      "                 from \u001b[01m\u001b[K/var/folders/7z/88tvgj2941bclbbw1xhn0t8r0000gn/T/tmpm7bkjeb3/src.macosx-10.9-x86_64-3.8/md_sandboxmodule.c:16\u001b[m\u001b[K:\n",
      "\u001b[01m\u001b[K/Users/dmobley/opt/anaconda3/envs/drugcomp/lib/python3.8/site-packages/numpy/core/include/numpy/npy_1_7_deprecated_api.h:17:2:\u001b[m\u001b[K \u001b[01;35m\u001b[Kwarning: \u001b[m\u001b[K#warning \"Using deprecated NumPy API, disable it with \" \"#define NPY_NO_DEPRECATED_API NPY_1_7_API_VERSION\" [\u001b[01;35m\u001b[K\u001b]8;;https://gcc.gnu.org/onlinedocs/gcc/Warning-Options.html#index-Wcpp\u0007-Wcpp\u001b]8;;\u0007\u001b[m\u001b[K]\n",
      "   17 | #\u001b[01;35m\u001b[Kwarning\u001b[m\u001b[K \"Using deprecated NumPy API, disable it with \" \\\n",
      "      |  \u001b[01;35m\u001b[K^~~~~~~\u001b[m\u001b[K\n",
      "In file included from \u001b[01m\u001b[K/Users/dmobley/opt/anaconda3/envs/drugcomp/lib/python3.8/site-packages/numpy/core/include/numpy/ndarraytypes.h:1969\u001b[m\u001b[K,\n",
      "                 from \u001b[01m\u001b[K/Users/dmobley/opt/anaconda3/envs/drugcomp/lib/python3.8/site-packages/numpy/core/include/numpy/ndarrayobject.h:12\u001b[m\u001b[K,\n",
      "                 from \u001b[01m\u001b[K/Users/dmobley/opt/anaconda3/envs/drugcomp/lib/python3.8/site-packages/numpy/core/include/numpy/arrayobject.h:4\u001b[m\u001b[K,\n",
      "                 from \u001b[01m\u001b[K/var/folders/7z/88tvgj2941bclbbw1xhn0t8r0000gn/T/tmpm7bkjeb3/src.macosx-10.9-x86_64-3.8/fortranobject.h:13\u001b[m\u001b[K,\n",
      "                 from \u001b[01m\u001b[K/var/folders/7z/88tvgj2941bclbbw1xhn0t8r0000gn/T/tmpm7bkjeb3/src.macosx-10.9-x86_64-3.8/fortranobject.c:2\u001b[m\u001b[K:\n",
      "\u001b[01m\u001b[K/Users/dmobley/opt/anaconda3/envs/drugcomp/lib/python3.8/site-packages/numpy/core/include/numpy/npy_1_7_deprecated_api.h:17:2:\u001b[m\u001b[K \u001b[01;35m\u001b[Kwarning: \u001b[m\u001b[K#warning \"Using deprecated NumPy API, disable it with \" \"#define NPY_NO_DEPRECATED_API NPY_1_7_API_VERSION\" [\u001b[01;35m\u001b[K\u001b]8;;https://gcc.gnu.org/onlinedocs/gcc/Warning-Options.html#index-Wcpp\u0007-Wcpp\u001b]8;;\u0007\u001b[m\u001b[K]\n",
      "   17 | #\u001b[01;35m\u001b[Kwarning\u001b[m\u001b[K \"Using deprecated NumPy API, disable it with \" \\\n",
      "      |  \u001b[01;35m\u001b[K^~~~~~~\u001b[m\u001b[K\n",
      "\u001b[01m\u001b[K/var/folders/7z/88tvgj2941bclbbw1xhn0t8r0000gn/T/tmpm7bkjeb3/src.macosx-10.9-x86_64-3.8/md_sandboxmodule.c:109:12:\u001b[m\u001b[K \u001b[01;35m\u001b[Kwarning: \u001b[m\u001b[K'\u001b[01m\u001b[Kf2py_size\u001b[m\u001b[K' defined but not used [\u001b[01;35m\u001b[K\u001b]8;;https://gcc.gnu.org/onlinedocs/gcc/Warning-Options.html#index-Wunused-function\u0007-Wunused-function\u001b]8;;\u0007\u001b[m\u001b[K]\n",
      "  109 | static int \u001b[01;35m\u001b[Kf2py_size\u001b[m\u001b[K(PyArrayObject* var, ...)\n",
      "      |            \u001b[01;35m\u001b[K^~~~~~~~~\u001b[m\u001b[K\n",
      "\u001b[39mcompiling Fortran sources\u001b[0m\n",
      "\u001b[39mFortran f77 compiler: /usr/local/bin/gfortran -Wall -g -ffixed-form -fno-second-underscore -arch x86_64 -fPIC -O3 -funroll-loops\n",
      "Fortran f90 compiler: /usr/local/bin/gfortran -Wall -g -fno-second-underscore -arch x86_64 -fPIC -O3 -funroll-loops\n",
      "Fortran fix compiler: /usr/local/bin/gfortran -Wall -g -ffixed-form -fno-second-underscore -Wall -g -fno-second-underscore -arch x86_64 -fPIC -O3 -funroll-loops\u001b[0m\n",
      "\u001b[39mcompile options: '-I/var/folders/7z/88tvgj2941bclbbw1xhn0t8r0000gn/T/tmpm7bkjeb3/src.macosx-10.9-x86_64-3.8 -I/Users/dmobley/opt/anaconda3/envs/drugcomp/lib/python3.8/site-packages/numpy/core/include -I/Users/dmobley/opt/anaconda3/envs/drugcomp/include/python3.8 -c'\u001b[0m\n",
      "\u001b[39mgfortran:f90: md_sandbox.f90\u001b[0m\n",
      "\u001b[01m\u001b[Kmd_sandbox.f90:59:28:\u001b[m\u001b[K\n",
      "\n",
      "   59 |     real(8) :: d2, sep, disp, shiftval, rc2, id6, id2, id12\n",
      "      |                            \u001b[01;35m\u001b[K1\u001b[m\u001b[K\n",
      "\u001b[01;35m\u001b[KWarning:\u001b[m\u001b[K Unused variable '\u001b[01m\u001b[Kdisp\u001b[m\u001b[K' declared at \u001b[01;35m\u001b[K(1)\u001b[m\u001b[K [\u001b[01;35m\u001b[K\u001b]8;;https://gcc.gnu.org/onlinedocs/gcc/Warning-Options.html#index-Wunused-variable\u0007-Wunused-variable\u001b]8;;\u0007\u001b[m\u001b[K]\n",
      "\u001b[01m\u001b[Kmd_sandbox.f90:49:34:\u001b[m\u001b[K\n",
      "\n",
      "   49 | subroutine CalcEnergyForces(Pos, M, L, rc, PEnergy, Forces, Dim, NAtom)\n",
      "      |                                  \u001b[01;35m\u001b[K1\u001b[m\u001b[K\n",
      "\u001b[01;35m\u001b[KWarning:\u001b[m\u001b[K Unused dummy argument '\u001b[01m\u001b[Km\u001b[m\u001b[K' at \u001b[01;35m\u001b[K(1)\u001b[m\u001b[K [\u001b[01;35m\u001b[K\u001b]8;;https://gcc.gnu.org/onlinedocs/gfortran/Error-and-Warning-Options.html#index-Wunused-dummy-argument\u0007-Wunused-dummy-argument\u001b]8;;\u0007\u001b[m\u001b[K]\n",
      "\u001b[01m\u001b[Kmd_sandbox.f90:59:22:\u001b[m\u001b[K\n",
      "\n",
      "   59 |     real(8) :: d2, sep, disp, shiftval, rc2, id6, id2, id12\n",
      "      |                      \u001b[01;35m\u001b[K1\u001b[m\u001b[K\n",
      "\u001b[01;35m\u001b[KWarning:\u001b[m\u001b[K Unused variable '\u001b[01m\u001b[Ksep\u001b[m\u001b[K' declared at \u001b[01;35m\u001b[K(1)\u001b[m\u001b[K [\u001b[01;35m\u001b[K\u001b]8;;https://gcc.gnu.org/onlinedocs/gcc/Warning-Options.html#index-Wunused-variable\u0007-Wunused-variable\u001b]8;;\u0007\u001b[m\u001b[K]\n",
      "\u001b[01m\u001b[Kmd_sandbox.f90:10:28:\u001b[m\u001b[K\n",
      "\n",
      "   10 |     real(8) :: d2, sep, disp, shiftval, rc2, id6, id2, id12\n",
      "      |                            \u001b[01;35m\u001b[K1\u001b[m\u001b[K\n",
      "\u001b[01;35m\u001b[KWarning:\u001b[m\u001b[K Unused variable '\u001b[01m\u001b[Kdisp\u001b[m\u001b[K' declared at \u001b[01;35m\u001b[K(1)\u001b[m\u001b[K [\u001b[01;35m\u001b[K\u001b]8;;https://gcc.gnu.org/onlinedocs/gcc/Warning-Options.html#index-Wunused-variable\u0007-Wunused-variable\u001b]8;;\u0007\u001b[m\u001b[K]\n",
      "\u001b[01m\u001b[Kmd_sandbox.f90:2:28:\u001b[m\u001b[K\n",
      "\n",
      "    2 | subroutine CalcEnergy(Pos, M, L, rc, PEnergy, Dim, NAtom)\n",
      "      |                            \u001b[01;35m\u001b[K1\u001b[m\u001b[K\n",
      "\u001b[01;35m\u001b[KWarning:\u001b[m\u001b[K Unused dummy argument '\u001b[01m\u001b[Km\u001b[m\u001b[K' at \u001b[01;35m\u001b[K(1)\u001b[m\u001b[K [\u001b[01;35m\u001b[K\u001b]8;;https://gcc.gnu.org/onlinedocs/gfortran/Error-and-Warning-Options.html#index-Wunused-dummy-argument\u0007-Wunused-dummy-argument\u001b]8;;\u0007\u001b[m\u001b[K]\n",
      "\u001b[01m\u001b[Kmd_sandbox.f90:10:22:\u001b[m\u001b[K\n",
      "\n",
      "   10 |     real(8) :: d2, sep, disp, shiftval, rc2, id6, id2, id12\n",
      "      |                      \u001b[01;35m\u001b[K1\u001b[m\u001b[K\n",
      "\u001b[01;35m\u001b[KWarning:\u001b[m\u001b[K Unused variable '\u001b[01m\u001b[Ksep\u001b[m\u001b[K' declared at \u001b[01;35m\u001b[K(1)\u001b[m\u001b[K [\u001b[01;35m\u001b[K\u001b]8;;https://gcc.gnu.org/onlinedocs/gcc/Warning-Options.html#index-Wunused-variable\u0007-Wunused-variable\u001b]8;;\u0007\u001b[m\u001b[K]\n"
     ]
    },
    {
     "name": "stdout",
     "output_type": "stream",
     "text": [
      "\u001b[39m/usr/local/bin/gfortran -Wall -g -arch x86_64 -Wall -g -undefined dynamic_lookup -bundle /var/folders/7z/88tvgj2941bclbbw1xhn0t8r0000gn/T/tmpm7bkjeb3/var/folders/7z/88tvgj2941bclbbw1xhn0t8r0000gn/T/tmpm7bkjeb3/src.macosx-10.9-x86_64-3.8/md_sandboxmodule.o /var/folders/7z/88tvgj2941bclbbw1xhn0t8r0000gn/T/tmpm7bkjeb3/var/folders/7z/88tvgj2941bclbbw1xhn0t8r0000gn/T/tmpm7bkjeb3/src.macosx-10.9-x86_64-3.8/fortranobject.o /var/folders/7z/88tvgj2941bclbbw1xhn0t8r0000gn/T/tmpm7bkjeb3/md_sandbox.o -L/usr/local/lib/gcc/x86_64-apple-darwin19/11.2.0 -L/usr/local/lib/gcc/x86_64-apple-darwin19/11.2.0/../../.. -L/usr/local/lib/gcc/x86_64-apple-darwin19/11.2.0/../../.. -lgfortran -o ./md_sandbox.cpython-38-darwin.so\u001b[0m\n",
      "ld: warning: dylib (/usr/local/lib/libgfortran.dylib) was built for newer macOS version (11.0) than being linked (10.9)\n",
      "ld: warning: dylib (/usr/local/lib/libquadmath.dylib) was built for newer macOS version (11.0) than being linked (10.9)\n",
      "Removing build directory /var/folders/7z/88tvgj2941bclbbw1xhn0t8r0000gn/T/tmpm7bkjeb3\n"
     ]
    }
   ],
   "source": [
    "!f2py -c -m md_sandbox md_sandbox.f90"
   ]
  },
  {
   "cell_type": "markdown",
   "metadata": {},
   "source": [
    "### Preparation for local use\n",
    "\n",
    "For local use, you need to compile the fortran module `md_sandbox` for use as a Python library. This accelerates the numerical calculations and a similar framework will be used in the MD and MC assignments. Use `f2py3 -c -m md_sandbox md_sandbox.f90` to compile. (As noted above you may need to do this in advance of installing certain modules, such as the beginning of the course, or by making a clean conda environment.)"
   ]
  },
  {
   "cell_type": "markdown",
   "metadata": {
    "id": "CHGGQq4qAB4s"
   },
   "source": [
    "## MD for a simple Lennard-Jones system\n",
    "\n",
    "### Here, let's play with a very simple model system\n",
    "In the MD assignment, we will be looking at a very simple polymer model. But here, let's backtrack to simple Lennard-Jones spheres (as used in the energy minimization assignment) and look at what happens if we run a simple dynamics calculation on a couple of particles subject to this potential, which will allow us to get a feel for how the integrator works.\n",
    "\n",
    "Remember, for a Lennard-Jones system, the dimensionless form of our potential is \n",
    "\\begin{equation}\n",
    "U^* = \\sum \\limits_{i} 4\\left( r_{ij}^{-12} - r_{ij}^{-6}\\right) \n",
    "\\end{equation}\n",
    "\n",
    "which we can easily graph to get a sense of what will happen.\n",
    "\n",
    "### We graph the potential for a pair of particles:"
   ]
  },
  {
   "cell_type": "markdown",
   "metadata": {
    "id": "cDXf8Df6-E6H"
   },
   "source": [
    "## Now, let's run some dynamics on a pair of particles subject to this potential\n",
    "\n",
    "\n",
    "Here I've written a modified `mdlib.f90` (updated from that from the energy minimization and MD assignments) called `md_sandbox.f90`. Compile it as usual (with `f2py`) into `md_sandbox` (e.g. `f2py -c -m md_sandbox md_sandbox.f90` or similar) so that you can import it below. \n",
    "\n",
    "The difference between this and `mdlib` that you will use in your MD assignment is that I've removed the bonds between atoms, so that we have simple Lennard-Jones particles rather than LJ polymers.\n",
    "\n",
    "### First, we set up our system:"
   ]
  },
  {
   "cell_type": "code",
   "execution_count": 1,
   "metadata": {
    "colab": {
     "base_uri": "https://localhost:8080/",
     "height": 387
    },
    "executionInfo": {
     "elapsed": 406,
     "status": "ok",
     "timestamp": 1639776045267,
     "user": {
      "displayName": "Danielle Bergazin",
      "photoUrl": "https://lh3.googleusercontent.com/a-/AOh14GiOdJdx7etc0W4Yfmh-4-g-P0aJMsIonVchL0BInA=s64",
      "userId": "10589367849843705173"
     },
     "user_tz": 480
    },
    "id": "buySWM8J-E6E",
    "outputId": "1bcae8b1-f5b5-4ff6-cad2-b5b15a56c241"
   },
   "outputs": [],
   "source": [
    "#Get pylab ready for plotting in this notebook - \"magic\" command specific for iPython notebooks\n",
    "%pylab inline\n",
    "#Import numpy\n",
    "import numpy as np\n",
    "\n",
    "#Generate array of distances to graph at\n",
    "r = np.arange( 0,3, 0.01)\n",
    "\n",
    "#Calculate U\n",
    "U = 4.*(r**(-12.) - r**(-6.))\n",
    "\n",
    "#Graph\n",
    "plot( r, U, 'b-')\n",
    "#Label x and y axes\n",
    "xlabel('r')\n",
    "ylabel('U')\n",
    "#Adjust y limits not to be auto-scaled; since this goes to infinity at zero, the graph will not be useful unless we truncate\n",
    "ylim(-2,2)\n"
   ]
  },
  {
   "cell_type": "code",
   "execution_count": 2,
   "metadata": {
    "colab": {
     "base_uri": "https://localhost:8080/",
     "height": 472
    },
    "executionInfo": {
     "elapsed": 163,
     "status": "error",
     "timestamp": 1639776048157,
     "user": {
      "displayName": "Danielle Bergazin",
      "photoUrl": "https://lh3.googleusercontent.com/a-/AOh14GiOdJdx7etc0W4Yfmh-4-g-P0aJMsIonVchL0BInA=s64",
      "userId": "10589367849843705173"
     },
     "user_tz": 480
    },
    "id": "Jk9uEpqU-E6J",
    "outputId": "5a94a24a-dbcd-436e-d9d4-d781b473cd0d"
   },
   "outputs": [],
   "source": [
    "import md_sandbox\n",
    "from md_sandbox import *\n",
    "\n",
    "#Let's define the variables we'll need\n",
    "dt = 0.001\n",
    "Cut = 2.5\n",
    "L = 10 #Let's just put these in a fairly big box so we have room\n",
    "M = 1 #Here this doesn't actually do anything, but I didn't remove it from the functions\n",
    "\n",
    "\n",
    "#Choose N for number of particles\n",
    "N = 2\n",
    "\n",
    "#Allocate position array - initially just zeros\n",
    "Pos = np.zeros((N,3), float)\n",
    "\n",
    "#In this case, place two LJ particles at specified initial positions - chosen so they are relatively near each other\n",
    "#If you had more than two particles you'd need to adjust this\n",
    "Pos[0,:] = np.array([0,0,0])\n",
    "Pos[1,:] = np.array([1.2,0,0])\n",
    "#Might be worth experimenting to see what happens if we randomly place the particles instead\n",
    "\n",
    "\n",
    "#Assign initial velocities - in this case I'll start off with them stationary and see what happens\n",
    "Vel = np.array([[0,0,0],[0,0,0]], float)\n",
    "#You could tweak the initial velocities to see what happens under different conditions"
   ]
  },
  {
   "cell_type": "markdown",
   "metadata": {
    "id": "iB9F1eL--E6L"
   },
   "source": [
    "## Before we do any dynamics, notice that this is really a 1D system, so let's write a function to compute r, which we will store later"
   ]
  },
  {
   "cell_type": "code",
   "execution_count": 3,
   "metadata": {
    "executionInfo": {
     "elapsed": 170,
     "status": "ok",
     "timestamp": 1639776052155,
     "user": {
      "displayName": "Danielle Bergazin",
      "photoUrl": "https://lh3.googleusercontent.com/a-/AOh14GiOdJdx7etc0W4Yfmh-4-g-P0aJMsIonVchL0BInA=s64",
      "userId": "10589367849843705173"
     },
     "user_tz": 480
    },
    "id": "OVqSQJdt-E6M"
   },
   "outputs": [],
   "source": [
    "def get_r(Pos):\n",
    "    \"\"\"Calculate r, the distance between particles, for a position array containing just two particles. Return it.\"\"\"\n",
    "    \n",
    "    #Get displacement\n",
    "    dist = Pos[1,:] - Pos[0,:]\n",
    "    #Calculate distance and return\n",
    "    return np.sqrt( np.dot( dist, dist))"
   ]
  },
  {
   "cell_type": "markdown",
   "metadata": {
    "id": "ytcuvg7q-E6M"
   },
   "source": [
    "## OK, now let's start doing some dynamics\n",
    "\n",
    "We're going to want to store the distance between the two particles as a function of time, so we can graph it. We also might want to look at the population of each distance as a function of time and see how that compares with the energy landscape. Though, right now that's a little premature. Let's just start off by taking a few timesteps and see how the distance changes. "
   ]
  },
  {
   "cell_type": "code",
   "execution_count": 4,
   "metadata": {
    "colab": {
     "base_uri": "https://localhost:8080/",
     "height": 236
    },
    "executionInfo": {
     "elapsed": 165,
     "status": "error",
     "timestamp": 1639775745019,
     "user": {
      "displayName": "Danielle Bergazin",
      "photoUrl": "https://lh3.googleusercontent.com/a-/AOh14GiOdJdx7etc0W4Yfmh-4-g-P0aJMsIonVchL0BInA=s64",
      "userId": "10589367849843705173"
     },
     "user_tz": 480
    },
    "id": "Mmgv7Bvo-E6N",
    "outputId": "5d387627-4860-4bb1-ab82-3527e2dc2d82"
   },
   "outputs": [],
   "source": [
    "#Define storage for positions at each time so we can track them\n",
    "max_steps = 5000 #Maximum number of steps we will take - so we know how many positions we might store\n",
    "Pos_t = np.zeros(( N,3,max_steps), float)\n",
    "\n",
    "#Store initial positions\n",
    "Pos_t[:,:,0] = Pos\n",
    "\n",
    "#Make up initial forces\n",
    "Forces = np.zeros((N,3), float)\n",
    "\n",
    "#Kick things off by calculating energy and forces\n",
    "energy, Forces = calcenergyforces( Pos, M, L, Cut, Forces )\n",
    "\n",
    "#Take a timestep\n",
    "Pos, Vel, Accel, KEnergy, PEnergy = vvintegrate( Pos, Vel, Forces, M, L, Cut, dt )\n",
    "\n",
    "#Store new positions\n",
    "Pos_t[:,:,1] = Pos\n",
    "\n",
    "#Print original and current distance\n",
    "for i in range(0,2):\n",
    "    print(get_r(Pos_t[:,:,i]))"
   ]
  },
  {
   "cell_type": "markdown",
   "metadata": {
    "id": "zDbVp6VY-E6O"
   },
   "source": [
    "## What should the long-time behavior of this system be?\n",
    "\n",
    "Before going on to the step below, think for a minute about what motion these particles should exhibit on long timescales and what it would look like if you've graphed it.\n",
    "\n",
    "Once you've done so, write a `for` loop to run over max_steps and at each step, update the energy and forces, take a timestep, and store the new positions."
   ]
  },
  {
   "cell_type": "code",
   "execution_count": 5,
   "metadata": {
    "executionInfo": {
     "elapsed": 18,
     "status": "aborted",
     "timestamp": 1639775683471,
     "user": {
      "displayName": "Danielle Bergazin",
      "photoUrl": "https://lh3.googleusercontent.com/a-/AOh14GiOdJdx7etc0W4Yfmh-4-g-P0aJMsIonVchL0BInA=s64",
      "userId": "10589367849843705173"
     },
     "user_tz": 480
    },
    "id": "l12taR89-E6O"
   },
   "outputs": [],
   "source": [
    "for i in range(max_steps):\n",
    "    #Your code goes here\n",
    "    \n"
   ]
  },
  {
   "cell_type": "markdown",
   "metadata": {
    "id": "2y2BOe8_-E6P"
   },
   "source": [
    "## Once you've done that, use this code to graph r versus time for your particles"
   ]
  },
  {
   "cell_type": "code",
   "execution_count": 6,
   "metadata": {
    "executionInfo": {
     "elapsed": 20,
     "status": "aborted",
     "timestamp": 1639775683473,
     "user": {
      "displayName": "Danielle Bergazin",
      "photoUrl": "https://lh3.googleusercontent.com/a-/AOh14GiOdJdx7etc0W4Yfmh-4-g-P0aJMsIonVchL0BInA=s64",
      "userId": "10589367849843705173"
     },
     "user_tz": 480
    },
    "id": "OXwBGy-C-E6P"
   },
   "outputs": [
    {
     "data": {
      "text/plain": [
       "[<matplotlib.lines.Line2D at 0x114721710>]"
      ]
     },
     "execution_count": 6,
     "metadata": {},
     "output_type": "execute_result"
    },
    {
     "data": {
      "image/png": "[encoded data removed]",
      "text/plain": [
       "<Figure size 640x480 with 1 Axes>"
      ]
     },
     "metadata": {},
     "output_type": "display_data"
    }
   ],
   "source": [
    "#Find x axis (time values)\n",
    "t = dt*np.arange(0,max_steps)\n",
    "#Find y axis (r values)\n",
    "r_vs_t = []\n",
    "for i in range(max_steps):\n",
    "    r=get_r(Pos_t[:,:,i])\n",
    "    r_vs_t.append(r)\n",
    "\n",
    "r_vs_t = np.array(r_vs_t)\n",
    "\n",
    "    \n",
    "#Plot\n",
    "figure()\n",
    "plot(t, r_vs_t)\n",
    "    "
   ]
  },
  {
   "cell_type": "markdown",
   "metadata": {
    "id": "qEDS5dZh-E6Q"
   },
   "source": [
    "## Additional exercises\n",
    "\n",
    "Some things you might want to try on the above 1D system:\n",
    "- Change the amount of time the data is graphed for; see if you can make it oscillate repeatedly\n",
    "- Consider how you could adjust the total energy of the system\n",
    "- What if you change the total energy (increasing it or reducing it). Can you make it look more like a harmonic oscillator? Less like a harmonic oscillator? Why or why not?\n",
    "- Can you find solutions which are not oscillatory? How? \n",
    "- For the ambitious: Consider extending this example to three or more particles and graph just some of the distances involved. What kind of solutions can you find?"
   ]
  }
 ],
 "metadata": {
  "anaconda-cloud": {},
  "colab": {
   "collapsed_sections": [],
   "name": "MD_Sandbox.ipynb",
   "provenance": []
  },
  "kernelspec": {
   "display_name": "openff",
   "language": "python",
   "name": "openff"
  },
  "language_info": {
   "codemirror_mode": {
    "name": "ipython",
    "version": 3
   },
   "file_extension": ".py",
   "mimetype": "text/x-python",
   "name": "python",
   "nbconvert_exporter": "python",
   "pygments_lexer": "ipython3",
   "version": "3.11.7"
  },
  "toc": {
   "nav_menu": {},
   "number_sections": true,
   "sideBar": true,
   "skip_h1_title": false,
   "toc_cell": false,
   "toc_position": {},
   "toc_section_display": "block",
   "toc_window_display": false
  }
 },
 "nbformat": 4,
 "nbformat_minor": 1
}
