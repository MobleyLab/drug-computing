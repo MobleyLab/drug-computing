{
 "cells": [
  {
   "cell_type": "markdown",
   "metadata": {
    "id": "08WmKCFkkWNq"
   },
   "source": [
    "# Supplementary Python code/demo for Ligand-Based Design class\n",
    "## Ligand-based design and shape overlaps\n",
    "### PharmSci 175/275\n",
    "\n",
    "This requires an installation of the OpenEye toolkits on top of a standard scientific Python installation."
   ]
  },
  {
   "cell_type": "markdown",
   "metadata": {},
   "source": [
    "## Preparation for using Google Colab (SKIP IF RUNNING LOCALLY))\n",
    "\n",
    "[![Open in Colab](https://colab.research.google.com/assets/colab-badge.svg)](https://colab.research.google.com/github/MobleyLab/drug-computing/blob/master/uci-pharmsci/lectures/ligand_based_design/ligand_based_design.ipynb)\n",
    "\n",
    "If you are running this on Google Colab, you need to take a couple additional steps of preparation:\n",
    "1) Mount your Google Drive to this notebook:"
   ]
  },
  {
   "cell_type": "code",
   "execution_count": null,
   "metadata": {},
   "outputs": [],
   "source": [
    "# Run cell if using collab\n",
    "\n",
    "# Mount google drive to Colab Notebooks to access files\n",
    "from google.colab import drive\n",
    "drive.mount('/content/drive', force_remount = True)"
   ]
  },
  {
   "cell_type": "markdown",
   "metadata": {},
   "source": [
    "2) **If you are running this on Google Colab, pip install dependencies**:"
   ]
  },
  {
   "cell_type": "code",
   "execution_count": null,
   "metadata": {},
   "outputs": [],
   "source": [
    "!pip install -i https://pypi.anaconda.org/openeye/simple openeye-toolkits"
   ]
  },
  {
   "cell_type": "markdown",
   "metadata": {},
   "source": [
    "3) **Make sure your OpenEye license is on your Drive and configured**; adjust the path below if needed and then run this cell to test:"
   ]
  },
  {
   "cell_type": "code",
   "execution_count": 2,
   "metadata": {},
   "outputs": [
    {
     "name": "stdout",
     "output_type": "stream",
     "text": [
      "Error: Your OpenEye license is not readable; please check your filename and that you have mounted your Google Drive\n",
      "Was your OpenEye license correctly installed (True/False)? True\n"
     ]
    }
   ],
   "source": [
    "license_filename = '/content/drive/MyDrive/oe_license.txt'\n",
    "import openeye\n",
    "\n",
    "import os\n",
    "if os.path.isfile(license_filename):\n",
    "  license_file = open(license_filename, 'r')\n",
    "  openeye.OEAddLicenseData(license_file.read())\n",
    "  license_file.close()\n",
    "else:\n",
    "  print(\"Error: Your OpenEye license is not readable; please check your filename and that you have mounted your Google Drive\")\n",
    "\n",
    "licensed = openeye.oechem.OEChemIsLicensed()\n",
    "print(\"Was your OpenEye license correctly installed (True/False)? \" + str(licensed))\n",
    "if not licensed:\n",
    "  print(\"Error: Your OpenEye license is not correctly installed.\")\n",
    "  raise Exception(\"Error: Your OpenEye license is not correctly installed.\")"
   ]
  },
  {
   "cell_type": "markdown",
   "metadata": {},
   "source": [
    "## Get going: Let's start with a reminder of how to do a simple shape overlay\n",
    "\n",
    "In our 3D Structure/Shape lecture, early in this course, we already saw a simple example of shape overlays - we overlaid morphine onto tramadol. Let's repeat that here. Here's the preparation we did:"
   ]
  },
  {
   "cell_type": "code",
   "execution_count": 18,
   "metadata": {
    "colab": {
     "base_uri": "https://localhost:8080/"
    },
    "executionInfo": {
     "elapsed": 1227,
     "status": "ok",
     "timestamp": 1639682263920,
     "user": {
      "displayName": "Danielle Bergazin",
      "photoUrl": "https://lh3.googleusercontent.com/a-/AOh14GiOdJdx7etc0W4Yfmh-4-g-P0aJMsIonVchL0BInA=s64",
      "userId": "10589367849843705173"
     },
     "user_tz": 480
    },
    "id": "gPmxjfSZkWNu",
    "outputId": "0e74d407-0b66-45b6-bac5-b277eabb8076"
   },
   "outputs": [
    {
     "data": {
      "text/plain": [
       "True"
      ]
     },
     "execution_count": 18,
     "metadata": {},
     "output_type": "execute_result"
    }
   ],
   "source": [
    "#Import what we need\n",
    "from openeye.oechem import * #General chemistry toolkit\n",
    "from openeye.oeomega import * #Conformation toolkit\n",
    "from openeye.oeiupac import * #Naming toolkit\n",
    "from openeye.oeshape import * #Shape toolkit\n",
    "\n",
    "#Let's first generate morphine and tramadol from their names\n",
    "morphine= OEMol()\n",
    "tramadol = OEMol()\n",
    "OEParseIUPACName(morphine, 'morphine')\n",
    "#OpenEye's toolkit won't recognize tranadol, so we'll use its IUPAC name instead\n",
    "OEParseIUPACName(tramadol, '2-[(Dimethylamino)methyl]-1-(3-methoxyphenyl)cyclohexanol')\n",
    "\n",
    "#We make sure Omega is loaded and initialized\n",
    "#This time we want to consider multiple conformations, since the OpenEye shape toolkit will\n",
    "#just do a rigid overlay of whatever conformations we give it onto one another. But here,\n",
    "#at least one of the molecules has substantial flexibility, and we want to find the\n",
    "#conformation which results in the best match\n",
    "\n",
    "#Initialize class\n",
    "omega = OEOmega() \n",
    "#Here we want to use more conformers if needed\n",
    "omega.SetMaxConfs(100) \n",
    "#Set to false to pick random stereoisomer if stereochemistry is not specified\n",
    "omega.SetStrictStereo(False) \n",
    "#Be a little loose about atom typing to ensure parameters are available to omega for all\n",
    "#molecules\n",
    "omega.SetStrictAtomTypes(False) \n",
    "#In this case the 'StrictStereo' parameter above will also matter. Since tramadol has an\n",
    "#unspecified stereocenter, this will cause Omega to pick a random stereoisomer. Without \n",
    "#specifying this, Omega will refuse to do anything.\n",
    "\n",
    "#Now let's generate 3D conformations for morphine and label it our 'reference' molecule:\n",
    "refmol = morphine\n",
    "omega(refmol)\n",
    "\n",
    "#Now we generate 3D conformations for tramadol and label it our 'fitmol', \n",
    "#the molecule to be fit onto the reference\n",
    "fitmol = tramadol\n",
    "omega(fitmol)"
   ]
  },
  {
   "cell_type": "markdown",
   "metadata": {
    "id": "01J1Ak1OkWNy"
   },
   "source": [
    "### Instead of directly performing a shape overlay like last time, let's make a shape overlay function we can reuse later."
   ]
  },
  {
   "cell_type": "code",
   "execution_count": 33,
   "metadata": {
    "executionInfo": {
     "elapsed": 162,
     "status": "ok",
     "timestamp": 1639682270733,
     "user": {
      "displayName": "Danielle Bergazin",
      "photoUrl": "https://lh3.googleusercontent.com/a-/AOh14GiOdJdx7etc0W4Yfmh-4-g-P0aJMsIonVchL0BInA=s64",
      "userId": "10589367849843705173"
     },
     "user_tz": 480
    },
    "id": "mbgcDP-OkWNy"
   },
   "outputs": [],
   "source": [
    "def FitMolToReference( fitmol, refmol, outfile = None, ShapeColor = True):\n",
    "    \"\"\"Takes two (multi-conformer) OpenEye molecules, and fits the first molecule onto\n",
    "the second molecule. Normally the fitted molecule at least should be multi-conformer. \n",
    "The reference molecule can be multi-conformer or not, as desired\n",
    "(this will typically depend on whether the active conformation is known).\n",
    "\n",
    "INPUT:\n",
    "  - fitmol: The molecule to be fitted (multi-conformer)\n",
    "  - refmol: The molecule to fit onto (multi-conformer if desired)\n",
    "  - outfile (optional): File name to write output molecular structure(s) of the fitted \n",
    "      molecule. Default is None. If not provided, no output is written.\n",
    "  - ShapeColor (optional): Optionally make this a \"shape plus color\" search rather than\n",
    "      just a shape search. Default is True. Specify False if desired.\n",
    "\n",
    "OUTPUT:\n",
    "  - tanimotos: Similarity scores for overlaid conformations (list). Runs from 0 to 1 if \n",
    "      pure shape is used, and 0 to 2 if shape+color is used.\n",
    "  - fittedMol: Fitted OpenEye molecule\n",
    "\"\"\"\n",
    "  \n",
    "    # Setup ROCS to provide specified number of conformers per hit\n",
    "    options = OEROCSOptions()\n",
    "    options.SetNumBestHits(10)\n",
    "    options.SetConfsPerHit(100)\n",
    "    \n",
    "    #Adjust overlay options to not use color in addition to shape, if desired\n",
    "    if not ShapeColor:\n",
    "        ovOpts = OEOverlayOptions()\n",
    "        ovOpts.SetOverlapFunc(OEGridShapeFunc())\n",
    "        options.SetOverlayOptions(ovOpts)\n",
    "    \n",
    "    outfs = oemolostream(outfile)\n",
    "    \n",
    "    rocs = OEROCS(options)\n",
    "    rocs.AddMolecule(fitmol) #Add our molecule as the one we are fitting\n",
    "\n",
    "    # Loop over results and output\n",
    "    tanimotos = []\n",
    "    for res in rocs.Overlay(refmol):\n",
    "        outmol = res.GetOverlayConfs() #Use GetOverlayConf to get just the best; GetOverlayConfs for all\n",
    "        OERemoveColorAtoms(outmol)\n",
    "        OEAddExplicitHydrogens(outmol)\n",
    "        OEWriteMolecule(outfs, outmol)\n",
    "        if ShapeColor:\n",
    "            score = res.GetTanimotoCombo()\n",
    "        else:\n",
    "            score = res.GetShapeTanimoto()\n",
    "        print(\"title: %s  tanimoto combo = %.2f\" % (outmol.GetTitle(), score))\n",
    "        tanimotos.append(score)\n",
    "        outfs.close()\n",
    "    return tanimotos, outmol, res"
   ]
  },
  {
   "cell_type": "markdown",
   "metadata": {
    "id": "0BtxzAVnkWN0"
   },
   "source": [
    "### Here's a bit of code which applies this as we did previously"
   ]
  },
  {
   "cell_type": "code",
   "execution_count": 34,
   "metadata": {
    "colab": {
     "base_uri": "https://localhost:8080/"
    },
    "executionInfo": {
     "elapsed": 901,
     "status": "ok",
     "timestamp": 1639682275684,
     "user": {
      "displayName": "Danielle Bergazin",
      "photoUrl": "https://lh3.googleusercontent.com/a-/AOh14GiOdJdx7etc0W4Yfmh-4-g-P0aJMsIonVchL0BInA=s64",
      "userId": "10589367849843705173"
     },
     "user_tz": 480
    },
    "id": "HwOtXnKukWN1",
    "outputId": "91d5a569-896a-4f6e-c826-d68356c5d205"
   },
   "outputs": [
    {
     "name": "stdout",
     "output_type": "stream",
     "text": [
      "title: _15  tanimoto combo = 0.94\n",
      "0.94\n"
     ]
    },
    {
     "name": "stderr",
     "output_type": "stream",
     "text": [
      "Warning: oemolostream(oeostream *str, bool owned): NULL pointer encountered, stream will be invalid\n"
     ]
    }
   ],
   "source": [
    "scores, outmol, res = FitMolToReference(fitmol, refmol, ShapeColor = True)\n",
    "for score in scores:\n",
    "    print('%.2f' % score)"
   ]
  },
  {
   "cell_type": "markdown",
   "metadata": {
    "id": "e37fKQXgkWN1"
   },
   "source": [
    "### You might want to try and see what happens if you set ShapeColor to False\n",
    "It might be worth looking at how this changes the scores you get out, as well as how it would affect the structure of the overlaid molecule (you can pass an optional argument to the function in order to get this written out).\n",
    "\n",
    "### You might also want to try a couple other shape (or shape+color) overlays\n",
    "For example, what happens if you overlay isobutylbenzene onto catechol, or two molecules of your choice?\n",
    "\n",
    "## Now let's revisit the sandbox we examined in the library searching class\n",
    "### When we looked at library searching, we did a simple Lingo search to compute the similarity of a few molecules. \n",
    "Here's what that looked like:"
   ]
  },
  {
   "cell_type": "code",
   "execution_count": 44,
   "metadata": {
    "colab": {
     "base_uri": "https://localhost:8080/"
    },
    "executionInfo": {
     "elapsed": 129,
     "status": "ok",
     "timestamp": 1639682279152,
     "user": {
      "displayName": "Danielle Bergazin",
      "photoUrl": "https://lh3.googleusercontent.com/a-/AOh14GiOdJdx7etc0W4Yfmh-4-g-P0aJMsIonVchL0BInA=s64",
      "userId": "10589367849843705173"
     },
     "user_tz": 480
    },
    "id": "L0AYZqdXkWN2",
    "outputId": "2c08d12f-42fd-4e09-8721-1073606df0cd"
   },
   "outputs": [
    {
     "name": "stdout",
     "output_type": "stream",
     "text": [
      "Similarity of benzoic acid to phenol is 0.50\n",
      "Similarity of benzoic acid to ibuprofen is 0.57\n",
      "Similarity of benzoic acid to aniline is 0.50\n"
     ]
    }
   ],
   "source": [
    "#Initialize our query molecule\n",
    "mol1 = OEMol()\n",
    "queryname = 'benzoic acid'\n",
    "OEParseIUPACName(mol1, queryname)\n",
    "\n",
    "#Set up our lingo search based on the query\n",
    "lingo = OELingoSim(mol1)\n",
    "\n",
    "#Specify a cutoff we'll use for filtering\n",
    "cutoff = 0.3\n",
    "\n",
    "#Specify our database - what compounds do we want to look at?\n",
    "names = ['phenol', 'toluene', 'benzene', 'naphthalene', 'ibuprofen', 'naproxen',\n",
    "         'acetic acid', 'aniline']#'ammonia']\n",
    "\n",
    "#Loop over our \"database\" and do our lingo comparison/search\n",
    "for name in names:\n",
    "    #Initialize this molecule\n",
    "    mol2 = OEMol()\n",
    "    OEParseIUPACName(mol2, name)\n",
    "    #Do our lingo comparison\n",
    "    sim = lingo.Similarity(mol2)\n",
    "    \n",
    "    #Check and see if it is a match; if so, do something\n",
    "    if sim > cutoff:\n",
    "        print(\"Similarity of %s to %s is %.2f\" % (queryname, name, sim))\n",
    "        #More generally, you could dump image files of all molecules matching,\n",
    "        #or write them out to a file, or..."
   ]
  },
  {
   "cell_type": "markdown",
   "metadata": {
    "id": "nWXsEh0DkWN3"
   },
   "source": [
    "### Below, make a new version of the above code to use a shape or shape+color comparison rather than Lingo\n",
    "Three significant changes you will need to make are:\n",
    "* Use Omega to generate 3D structures for your molecules before overlaying them, and at least the fitted molecule should have multiple conformations\n",
    "* Swap the Lingo search for the FitMolToReference function from above\n",
    "* Now, rather than getting a single similarity score, you'll get a list of them. Use the highest score (the first entry in the list) as the similarity score.\n",
    "\n",
    "Be sure to test how using shape vs shape+color would affect your conclusions about which molecules are the most similar. (Note that Tanimoto scores with shape+color run from 0 to 2 rather than 0 to 1).\n",
    "\n",
    "You may also wish to use the depiction toolkit to draw the most similar compounds."
   ]
  },
  {
   "cell_type": "code",
   "execution_count": 45,
   "metadata": {
    "id": "fblWS7tnkWN4",
    "tags": []
   },
   "outputs": [
    {
     "data": {
      "text/plain": [
       "True"
      ]
     },
     "execution_count": 45,
     "metadata": {},
     "output_type": "execute_result"
    }
   ],
   "source": [
    "omega = OEOmega()\n",
    "omega.SetMaxConfs(10)\n",
    "omega.SetStrictStereo(False)\n",
    "omega.SetStrictAtomTypes(False)\n",
    "omega(mol1)"
   ]
  },
  {
   "cell_type": "code",
   "execution_count": 46,
   "metadata": {},
   "outputs": [
    {
     "name": "stderr",
     "output_type": "stream",
     "text": [
      "Warning: oemolostream(oeostream *str, bool owned): NULL pointer encountered, stream will be invalid\n"
     ]
    },
    {
     "name": "stdout",
     "output_type": "stream",
     "text": [
      "title: _0  tanimoto combo = 1.15\n",
      "title: _0  tanimoto combo = 1.12\n",
      "Similarity of benzoic acid to phenol is 1.15\n"
     ]
    },
    {
     "name": "stderr",
     "output_type": "stream",
     "text": [
      "Warning: oemolostream(oeostream *str, bool owned): NULL pointer encountered, stream will be invalid\n"
     ]
    },
    {
     "name": "stdout",
     "output_type": "stream",
     "text": [
      "title: _0  tanimoto combo = 1.13\n",
      "title: _0  tanimoto combo = 1.13\n",
      "Similarity of benzoic acid to toluene is 1.13\n"
     ]
    },
    {
     "name": "stderr",
     "output_type": "stream",
     "text": [
      "Warning: oemolostream(oeostream *str, bool owned): NULL pointer encountered, stream will be invalid\n"
     ]
    },
    {
     "name": "stdout",
     "output_type": "stream",
     "text": [
      "title: _0  tanimoto combo = 0.97\n",
      "title: _0  tanimoto combo = 0.97\n",
      "Similarity of benzoic acid to benzene is 0.97\n"
     ]
    },
    {
     "name": "stderr",
     "output_type": "stream",
     "text": [
      "Warning: oemolostream(oeostream *str, bool owned): NULL pointer encountered, stream will be invalid\n"
     ]
    },
    {
     "name": "stdout",
     "output_type": "stream",
     "text": [
      "title: _0  tanimoto combo = 1.15\n",
      "title: _0  tanimoto combo = 1.06\n",
      "Similarity of benzoic acid to naphthalene is 1.15\n"
     ]
    },
    {
     "name": "stderr",
     "output_type": "stream",
     "text": [
      "Warning: oemolostream(oeostream *str, bool owned): NULL pointer encountered, stream will be invalid\n"
     ]
    },
    {
     "name": "stdout",
     "output_type": "stream",
     "text": [
      "title: _7  tanimoto combo = 1.14\n",
      "title: _2  tanimoto combo = 1.11\n",
      "Similarity of benzoic acid to ibuprofen is 1.14\n"
     ]
    },
    {
     "name": "stderr",
     "output_type": "stream",
     "text": [
      "Warning: oemolostream(oeostream *str, bool owned): NULL pointer encountered, stream will be invalid\n"
     ]
    },
    {
     "name": "stdout",
     "output_type": "stream",
     "text": [
      "title: _8  tanimoto combo = 0.90\n",
      "title: _2  tanimoto combo = 0.85\n",
      "Similarity of benzoic acid to naproxen is 0.90\n"
     ]
    },
    {
     "name": "stderr",
     "output_type": "stream",
     "text": [
      "Warning: oemolostream(oeostream *str, bool owned): NULL pointer encountered, stream will be invalid\n"
     ]
    },
    {
     "name": "stdout",
     "output_type": "stream",
     "text": [
      "title: _0  tanimoto combo = 1.23\n",
      "title: _0  tanimoto combo = 1.23\n",
      "Similarity of benzoic acid to acetic acid is 1.23\n",
      "title: _0  tanimoto combo = 1.17\n",
      "title: _0  tanimoto combo = 1.13\n",
      "Similarity of benzoic acid to aniline is 1.17\n"
     ]
    },
    {
     "name": "stderr",
     "output_type": "stream",
     "text": [
      "Warning: oemolostream(oeostream *str, bool owned): NULL pointer encountered, stream will be invalid\n"
     ]
    }
   ],
   "source": [
    "for name in names:\n",
    "    #Initialize this molecule\n",
    "    mol2 = OEMol()\n",
    "    OEParseIUPACName(mol2, name)\n",
    "    omega(mol2)\n",
    "    #Do our lingo comparison\n",
    "    scores,_,_ = FitMolToReference(mol2, mol1, ShapeColor = True)\n",
    "    sim = max(scores)\n",
    "    #Check and see if it is a match; if so, do something\n",
    "    if sim > cutoff:\n",
    "        print(\"Similarity of %s to %s is %.2f\" % (queryname, name, sim))\n",
    "            #More generally, you could dump image files of all molecules matching,\n",
    "            #or write them out to a file, or..."
   ]
  },
  {
   "cell_type": "code",
   "execution_count": null,
   "metadata": {},
   "outputs": [],
   "source": []
  },
  {
   "cell_type": "code",
   "execution_count": null,
   "metadata": {},
   "outputs": [],
   "source": []
  }
 ],
 "metadata": {
  "anaconda-cloud": {},
  "colab": {
   "collapsed_sections": [],
   "name": "ligand_based_design.ipynb",
   "provenance": []
  },
  "kernelspec": {
   "display_name": "drug_comp",
   "language": "python",
   "name": "drug_comp"
  },
  "language_info": {
   "codemirror_mode": {
    "name": "ipython",
    "version": 3
   },
   "file_extension": ".py",
   "mimetype": "text/x-python",
   "name": "python",
   "nbconvert_exporter": "python",
   "pygments_lexer": "ipython3",
   "version": "3.9.9"
  },
  "toc": {
   "nav_menu": {},
   "number_sections": true,
   "sideBar": true,
   "skip_h1_title": false,
   "toc_cell": false,
   "toc_position": {},
   "toc_section_display": "block",
   "toc_window_display": false
  }
 },
 "nbformat": 4,
 "nbformat_minor": 4
}
