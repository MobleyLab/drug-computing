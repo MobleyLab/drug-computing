{
 "cells": [
  {
   "cell_type": "markdown",
   "metadata": {},
   "source": [
    "# Host-guest complex setup and simulation using SMIRNOFF\n",
    "\n",
    "This notebook takes a SMILES string for a guest and a 3D structure for a host, and generates an initial structure of the complex using docking. It then proceeds to solvate, parameterize the system, and then minimize and do a short simulation with OpenMM.\n",
    "\n",
    "Please note this is intended for educational purposes and comprises a worked example, not a polished tool. The usual disclaimers apply -- don't take anything here as advice on how you should set up these types of systems; this is just an example of setting up a nontrivial system with SMIRNOFF.\n",
    "\n",
    "*Author - David Mobley (UC Irvine)*\n",
    "\n",
    "## Prerequisites\n",
    "\n",
    "We'll assume you have installed the course prerequisites as detailed in the [getting started instructions](https://github.com/MobleyLab/drug-computing/blob/master/uci-pharmsci/getting-started.md) for this course.\n",
    "\n",
    "## Import some tools we need initially\n",
    "(Let's do this early so you can fail quickly if you don't have the tools you need)"
   ]
  },
  {
   "cell_type": "code",
   "execution_count": 4,
   "metadata": {},
   "outputs": [
    {
     "name": "stdout",
     "output_type": "stream",
     "text": [
      "Is your OEChem licensed?  True\n"
     ]
    }
   ],
   "source": [
    "from openeye import oechem # OpenEye Python toolkits\n",
    "\n",
    "# Check license\n",
    "print(\"Is your OEChem licensed? \", oechem.OEChemIsLicensed())\n",
    "from openeye import oeomega # Omega toolkit\n",
    "from openeye import oequacpac #Charge toolkit\n",
    "from openeye import oedocking # Docking toolkit\n",
    "\n",
    "try:\n",
    "    import openmm\n",
    "    from openmm import app, unit\n",
    "    from openmm.app import PDBFile\n",
    "except ImportError:\n",
    "    from simtk import openmm, app, unit\n",
    "    from simtk.openmm.app import PDBFile\n",
    "\n",
    "# import openff tools\n",
    "from openff.toolkit.typing.engines.smirnoff import *\n",
    "import os\n",
    "\n",
    "# If you get an error with this, you may need to conda-install pdbfixer:\n",
    "from pdbfixer import PDBFixer # for solvating"
   ]
  },
  {
   "cell_type": "markdown",
   "metadata": {},
   "source": [
    "## Configuration for your run\n",
    "\n",
    "We'll use this to configure where to get input files, where to write output files, etc. We draw on the SAMPL7 blind challenge for host-guest binding."
   ]
  },
  {
   "cell_type": "code",
   "execution_count": 5,
   "metadata": {},
   "outputs": [],
   "source": [
    "# Where will we write outputs? Directory will be created if it does not exist\n",
    "datadir = 'datafiles'\n",
    "\n",
    "# Where will we download the host file from? The below is an uncharged host\n",
    "host_source = 'https://raw.githubusercontent.com/samplchallenges/SAMPL7/master/host_guest/GDCC_and_guests/host_files/exoOA.mol2' #Exo octa acid\n",
    "#host_source = 'exoOA.mol2'\n",
    "\n",
    "# What SMILES string for the guest? Should be isomeric SMILES\n",
    "# See https://github.com/samplchallenges/SAMPL7/blob/master/host_guest/GDCC_and_guests/guest_files/GDCC_guest_smiles.txt \n",
    "# for more SAMPL7 \n",
    "guest_smiles = 'CCCCCC([O-])=O' # SAMPL7 guest 1\n",
    "\n",
    "# Another useful source of host-guest files is the benchmarksets repo, e.g. github.com/mobleylab/benchmarksets\n",
    "# This notebook has also been tested on CB7 Set 1 host-cb7.mol2 with SMILES CC12CC3CC(C1)(CC(C3)(C2)[NH3+])C."
   ]
  },
  {
   "cell_type": "markdown",
   "metadata": {},
   "source": [
    "## Quickly draw your guest and make sure it's what you intended\n",
    "\n",
    "We'll do this as we did earlier in the class."
   ]
  },
  {
   "cell_type": "code",
   "execution_count": 10,
   "metadata": {},
   "outputs": [
    {
     "data": {
      "image/png": "[encoded data removed]",
      "text/plain": [
       "<IPython.core.display.Image object>"
      ]
     },
     "execution_count": 10,
     "metadata": {
      "image/png": {
       "width": 200
      }
     },
     "output_type": "execute_result"
    }
   ],
   "source": [
    "# Create empty OEMol\n",
    "mol = oechem.OEMol()\n",
    "# Convert SMILES\n",
    "oechem.OESmilesToMol(mol, guest_smiles)\n",
    "\n",
    "# Draw\n",
    "from IPython.display import Image\n",
    "import openeye.oedepict as oedepict # Use OpenEye depiction toolkit\n",
    "oedepict.OEPrepareDepiction(mol)\n",
    "oedepict.OERenderMolecule(\"DepictGuest.png\", mol)\n",
    "Image('DepictGuest.png',width = 200)\n"
   ]
  },
  {
   "cell_type": "markdown",
   "metadata": {},
   "source": [
    "# Get host file and prep it for docking\n",
    "(Note that we are going to skip charge assignment for the purposes of this example, because it's slow. So you want to use an input file which has provided charges, OR add charge assignment.)\n",
    "\n",
    "## Retrieve host file, do file bookkeeping"
   ]
  },
  {
   "cell_type": "code",
   "execution_count": 11,
   "metadata": {},
   "outputs": [],
   "source": [
    "# Output host and guest files\n",
    "if not 'http' in host_source:\n",
    "    hostfile = os.path.join(datadir, host_source)\n",
    "else: \n",
    "    hostfile = os.path.join(datadir, os.path.basename(host_source))\n",
    "guestfile = os.path.join(datadir, 'guest.mol2')\n",
    "\n",
    "# Create data dir if not present\n",
    "if not os.path.isdir(datadir):\n",
    "    os.mkdir(datadir)\n",
    "\n",
    "# Set host file name and retrieve file\n",
    "if 'http' in host_source:\n",
    "    import urllib\n",
    "    urllib.request.urlretrieve(host_source, hostfile)\n",
    "else:\n",
    "    import shutil\n",
    "    shutil.copy(host_source, hostfile)"
   ]
  },
  {
   "cell_type": "markdown",
   "metadata": {},
   "source": [
    "## Assign partial charges to host\n",
    "\n",
    "**(Skip this step -- which is slow -- if you are using the exoOA example provided, as it'll save you a good deal of time).**\n",
    "\n",
    "We do this here because otherwise, OpenFF will attempt to assign charges to the host, but this will cause problems for technical reasons relating to conformer generation for macrocyclic systems (which these hosts are)."
   ]
  },
  {
   "cell_type": "code",
   "execution_count": 12,
   "metadata": {},
   "outputs": [],
   "source": [
    "# Make file name for charged host\n",
    "hostfile_charged = hostfile.replace('.mol2', '_charged.mol2')\n",
    "\n",
    "import openeye.oechem as oechem\n",
    "import openeye.oequacpac as quacpacpac\n",
    "\n",
    "# Read molecule\n",
    "host_mol = oechem.OEMol()\n",
    "ifile = oechem.oemolistream(hostfile)\n",
    "oechem.OEReadMolecule(ifile, host_mol)\n",
    "ifile.close()\n",
    "\n",
    "#Assign charges\n",
    "oequacpac.OEAssignCharges(host_mol, oequacpac.OEAM1BCCCharges())\n",
    "\n",
    "# Write out molecule\n",
    "ofile= oechem.oemolostream(hostfile_charged)\n",
    "oechem.OEWriteMolecule(ofile, host_mol)\n",
    "ofile.close()"
   ]
  },
  {
   "cell_type": "markdown",
   "metadata": {},
   "source": [
    "## Prep host file for docking\n",
    "\n",
    "Here we'll load the host and prepare for docking, which takes a bit of time as it has to get prepared as a \"receptor\" for docking into"
   ]
  },
  {
   "cell_type": "code",
   "execution_count": 13,
   "metadata": {},
   "outputs": [
    {
     "data": {
      "text/plain": [
       "True"
      ]
     },
     "execution_count": 13,
     "metadata": {},
     "output_type": "execute_result"
    }
   ],
   "source": [
    "# Read in host file\n",
    "hostfile_charged = hostfile.replace('.mol2', '_charged.mol2')\n",
    "ifile = oechem.oemolistream(hostfile_charged)\n",
    "host = oechem.OEMol()\n",
    "oechem.OEReadMolecule( ifile, host)\n",
    "ifile.close()\n",
    "\n",
    "# Prepare a receptor - Start by getting center of mass to use as a hint for where to dock\n",
    "com = oechem.OEFloatArray(3)\n",
    "oechem.OEGetCenterOfMass(host, com) \n",
    "\n",
    "# Create receptor, as per https://docs.eyesopen.com/toolkits/python/dockingtk/receptor.html#creating-a-receptor\n",
    "receptor = oechem.OEGraphMol()\n",
    "oedocking.OEMakeReceptor(receptor, host, com[0], com[1], com[2])"
   ]
  },
  {
   "cell_type": "markdown",
   "metadata": {},
   "source": [
    "## Generate 3D structure of our guest and dock it"
   ]
  },
  {
   "cell_type": "code",
   "execution_count": 14,
   "metadata": {},
   "outputs": [],
   "source": [
    "#initialize omega for conformer generation\n",
    "omega = oeomega.OEOmega()\n",
    "omega.SetMaxConfs(100) #Generate up to 100 conformers since we'll use for docking\n",
    "omega.SetIncludeInput(False)\n",
    "omega.SetStrictStereo(True) #Refuse to generate conformers if stereochemistry not provided\n",
    "\n",
    "#Initialize charge generation\n",
    "chargeEngine = oequacpac.OEAM1BCCCharges()\n",
    "\n",
    "# Initialize docking\n",
    "dock = oedocking.OEDock()\n",
    "dock.Initialize(receptor)\n",
    "\n",
    "# Build OEMol from SMILES\n",
    "# Generate new OEMol and parse SMILES\n",
    "mol = oechem.OEMol()\n",
    "oechem.OEParseSmiles( mol, guest_smiles)\n",
    "# Set to use a simple neutral pH model \n",
    "oequacpac.OESetNeutralpHModel(mol)\n",
    "\n",
    "# Generate conformers with Omega; keep only best conformer\n",
    "status = omega(mol)\n",
    "if not status:\n",
    "    print(\"Error generating conformers for %s.\" % (guest_smiles))\n",
    "    #print(smi, name, mol.NumAtoms()) #Print debug info -- make sure we're getting protons added as we should\n",
    "\n",
    "# Assign AM1-BCC charges\n",
    "oequacpac.OEAssignCharges(mol, chargeEngine)\n",
    "\n",
    "# Dock to host\n",
    "dockedMol = oechem.OEGraphMol()\n",
    "status = dock.DockMultiConformerMolecule(dockedMol, mol) #By default returns only top scoring pose\n",
    "sdtag = oedocking.OEDockMethodGetName(oedocking.OEDockMethod_Chemgauss4)\n",
    "oedocking.OESetSDScore(dockedMol, dock, sdtag)\n",
    "dock.AnnotatePose(dockedMol)\n",
    "\n",
    "# Write out docked pose if docking successful\n",
    "if status == oedocking.OEDockingReturnCode_Success:\n",
    "    outmol = dockedMol\n",
    "\n",
    "    # Write out\n",
    "    tripos_mol2_filename = os.path.join(os.path.join(datadir, 'docked_guest.mol2'))\n",
    "    ofile = oechem.oemolostream( tripos_mol2_filename )\n",
    "    oechem.OEWriteMolecule( ofile, outmol)\n",
    "    ofile.close()\n",
    "\n",
    "    # Clean up residue names in mol2 files that are tleap-incompatible: replace substructure names with valid text.\n",
    "    infile = open( tripos_mol2_filename, 'r')\n",
    "    lines = infile.readlines()\n",
    "    infile.close()\n",
    "    newlines = [line.replace('<0>', 'GUEST') for line in lines]\n",
    "    outfile = open(tripos_mol2_filename, 'w')\n",
    "    outfile.writelines(newlines)\n",
    "    outfile.close()\n",
    "else:\n",
    "    raise Exception(\"Error: Docking failed.\")"
   ]
  },
  {
   "cell_type": "markdown",
   "metadata": {},
   "source": [
    "## Visualize in 3D to make sure we placed the guest into the binding site\n",
    "This is optional, but very helpful to make sure you're starting off with your guest in the binding site."
   ]
  },
  {
   "cell_type": "code",
   "execution_count": 15,
   "metadata": {},
   "outputs": [
    {
     "data": {
      "application/3dmoljs_load.v0": "<div id=\"3dmolviewer_16456529209524322\"  style=\"position: relative; width: 640px; height: 480px\">\n        <p id=\"3dmolwarning_16456529209524322\" style=\"background-color:#ffcccc;color:black\">You appear to be running in JupyterLab (or JavaScript failed to load for some other reason).  You need to install the 3dmol extension: <br>\n        <tt>jupyter labextension install jupyterlab_3dmol</tt></p>\n        </div>\n<script>\n\nvar loadScriptAsync = function(uri){\n  return new Promise((resolve, reject) => {\n    var tag = document.createElement('script');\n    tag.src = uri;\n    tag.async = true;\n    tag.onload = () => {\n      resolve();\n    };\n  var firstScriptTag = document.getElementsByTagName('script')[0];\n  firstScriptTag.parentNode.insertBefore(tag, firstScriptTag);\n});\n};\n\nif(typeof $3Dmolpromise === 'undefined') {\n$3Dmolpromise = null;\n  $3Dmolpromise = loadScriptAsync('https://3dmol.org/build/3Dmol.js');\n}\n\nvar viewer_16456529209524322 = null;\nvar warn = document.getElementById(\"3dmolwarning_16456529209524322\");\nif(warn) {\n    warn.parentNode.removeChild(warn);\n}\n$3Dmolpromise.then(function() {\nviewer_16456529209524322 = $3Dmol.createViewer($(\"#3dmolviewer_16456529209524322\"),{backgroundColor:\"white\"});\nviewer_16456529209524322.zoomTo();\n\tviewer_16456529209524322.addModel(\"@<TRIPOS>MOLECULE\\n*****\\n  192   212     0     0     0\\nSMALL\\nNO_CHARGES\\n\\n@<TRIPOS>ATOM\\n      1 H1          3.9500   -0.2810    2.4280 H         1 UNK1        0.0000\\n      2 C1          3.4640    0.6620    2.1830 C.ar      1 UNK1        0.0000\\n      3 C2          2.1990    3.0910    1.5500 C.ar      1 UNK1        0.0000\\n      4 C3          2.5650    1.2630    3.0650 C.ar      1 UNK1        0.0000\\n      5 C4          3.7170    1.3160    0.9760 C.ar      1 UNK1        0.0000\\n      6 C5          3.1130    2.5410    0.6420 C.ar      1 UNK1        0.0000\\n      7 C6          1.9290    2.4880    2.7840 C.ar      1 UNK1        0.0000\\n      8 H2          1.6650    4.0120    1.2810 H         1 UNK1        0.0000\\n      9 C7          0.9660    3.0760    3.7930 C.3       1 UNK1        0.0000\\n     10 H3          1.2810    2.6990    4.8140 H         1 UNK1        0.0000\\n     11 C8          3.4610    3.2190   -0.6690 C.3       1 UNK1        0.0000\\n     12 H4          4.4990    2.8680   -0.9650 H         1 UNK1        0.0000\\n     13 C9         -0.4090    2.5080    3.4960 C.ar      1 UNK1        0.0000\\n     14 C10        -2.8580    1.3090    2.8730 C.ar      1 UNK1        0.0000\\n     15 C11        -0.7820    1.2690    4.0500 C.ar      1 UNK1        0.0000\\n     16 C12        -1.3130    3.1320    2.6250 C.ar      1 UNK1        0.0000\\n     17 C13        -2.5410    2.5500    2.2880 C.ar      1 UNK1        0.0000\\n     18 C14        -2.0060    0.6600    3.7680 C.ar      1 UNK1        0.0000\\n     19 H5         -1.0340    4.0930    2.1730 H         1 UNK1        0.0000\\n     20 H6         -2.2810   -0.2910    4.2200 H         1 UNK1        0.0000\\n     21 C15         2.5000    2.7230   -1.7250 C.ar      1 UNK1        0.0000\\n     22 C16         0.7310    1.5730   -3.5570 C.ar      1 UNK1        0.0000\\n     23 C17         1.2770    3.3430   -2.0180 C.ar      1 UNK1        0.0000\\n     24 C18         2.8100    1.5220   -2.3950 C.ar      1 UNK1        0.0000\\n     25 C19         1.9520    0.9400   -3.3280 C.ar      1 UNK1        0.0000\\n     26 C20         0.3640    2.7750   -2.9180 C.ar      1 UNK1        0.0000\\n     27 H7          1.0170    4.2740   -1.5060 H         1 UNK1        0.0000\\n     28 H8          2.2200    0.0220   -3.8480 H         1 UNK1        0.0000\\n     29 C21        -1.0110    3.3450   -3.1970 C.3       1 UNK1        0.0000\\n     30 H9         -1.3020    2.9940   -4.2380 H         1 UNK1        0.0000\\n     31 C22        -3.5040    3.1740    1.2970 C.3       1 UNK1        0.0000\\n     32 H10        -4.5440    2.8030    1.5610 H         1 UNK1        0.0000\\n     33 C23        -3.1820    2.6440   -0.0850 C.ar      1 UNK1        0.0000\\n     34 C24        -2.6180    1.5100   -2.5800 C.ar      1 UNK1        0.0000\\n     35 C25        -3.7750    1.4340   -0.4970 C.ar      1 UNK1        0.0000\\n     36 C26        -2.2960    3.2700   -0.9720 C.ar      1 UNK1        0.0000\\n     37 C27        -1.9950    2.7220   -2.2270 C.ar      1 UNK1        0.0000\\n     38 C28        -3.5180    0.8540   -1.7400 C.ar      1 UNK1        0.0000\\n     39 H11        -1.8190    4.2170   -0.6780 H         1 UNK1        0.0000\\n     40 H12        -4.0000   -0.0740   -2.0410 H         1 UNK1        0.0000\\n     41 C29         3.5160    4.7420   -0.4850 C.3       1 UNK1        0.0000\\n     42 H13         2.4990    5.1690   -0.3280 H         1 UNK1        0.0000\\n     43 C30         0.9460    4.6160    3.8570 C.3       1 UNK1        0.0000\\n     44 H14         0.3670    5.0320    2.9990 H         1 UNK1        0.0000\\n     45 O1         -2.3410    0.8810   -3.8020 O.3       1 UNK1        0.0000\\n     46 O2         -0.1420    0.9280   -4.4460 O.3       1 UNK1        0.0000\\n     47 O3         -4.6480    0.7290    0.3440 O.3       1 UNK1        0.0000\\n     48 O4          2.2870    0.5560    4.2440 O.3       1 UNK1        0.0000\\n     49 O5          0.0870    0.5580    4.8900 O.3       1 UNK1        0.0000\\n     50 O6         -4.0470    0.6380    2.5530 O.3       1 UNK1        0.0000\\n     51 C31         1.0610   -0.2000    4.1410 C.3       1 UNK1        0.0000\\n     52 H15         0.7480   -0.3150    3.0760 H         1 UNK1        0.0000\\n     53 C32        -3.9450   -0.0830    1.3060 C.3       1 UNK1        0.0000\\n     54 H16        -2.8790   -0.2270    1.0100 H         1 UNK1        0.0000\\n     55 O7          4.5870    0.6700    0.0870 O.3       1 UNK1        0.0000\\n     56 C33         3.8800   -0.0220   -0.9630 C.3       1 UNK1        0.0000\\n     57 H17         2.8110   -0.1850   -0.6910 H         1 UNK1        0.0000\\n     58 O8          3.9980    0.8270   -2.1240 O.3       1 UNK1        0.0000\\n     59 C34        -1.1180    0.1160   -3.7580 C.3       1 UNK1        0.0000\\n     60 H18        -0.8060   -0.0860   -2.7070 H         1 UNK1        0.0000\\n     61 C35         4.5630   -1.3460   -1.2240 C.ar      1 UNK1        0.0000\\n     62 C36         5.4720   -3.9900   -1.6030 C.ar      1 UNK1        0.0000\\n     63 C37         4.4780   -1.9190   -2.4940 C.ar      1 UNK1        0.0000\\n     64 C38         5.1010   -2.0450   -0.1410 C.ar      1 UNK1        0.0000\\n     65 C39         5.5450   -3.3590   -0.3430 C.ar      1 UNK1        0.0000\\n     66 C40         4.9320   -3.2350   -2.6650 C.ar      1 UNK1        0.0000\\n     67 H19         4.0930   -1.3400   -3.3320 H         1 UNK1        0.0000\\n     68 H20         5.1940   -1.5590    0.8310 H         1 UNK1        0.0000\\n     69 C41        -1.3150   -1.1830   -4.5070 C.ar      1 UNK1        0.0000\\n     70 C42        -1.5810   -3.7970   -5.5340 C.ar      1 UNK1        0.0000\\n     71 C43        -0.2120   -1.7950   -5.1050 C.ar      1 UNK1        0.0000\\n     72 C44        -2.5510   -1.8270   -4.4210 C.ar      1 UNK1        0.0000\\n     73 C45        -2.6680   -3.1260   -4.9340 C.ar      1 UNK1        0.0000\\n     74 C46        -0.3590   -3.0960   -5.6090 C.ar      1 UNK1        0.0000\\n     75 H21         0.7310   -1.2560   -5.1980 H         1 UNK1        0.0000\\n     76 H22        -3.4080   -1.3100   -3.9880 H         1 UNK1        0.0000\\n     77 C47        -4.6370   -1.4210    1.4430 C.ar      1 UNK1        0.0000\\n     78 C48        -5.5480   -4.0860    1.5880 C.ar      1 UNK1        0.0000\\n     79 C49        -5.1860   -2.0160    0.3060 C.ar      1 UNK1        0.0000\\n     80 C50        -4.5430   -2.1070    2.6550 C.ar      1 UNK1        0.0000\\n     81 C51        -4.9980   -3.4320    2.7110 C.ar      1 UNK1        0.0000\\n     82 C52        -5.6320   -3.3420    0.3920 C.ar      1 UNK1        0.0000\\n     83 H23        -5.2870   -1.4440   -0.6170 H         1 UNK1        0.0000\\n     84 H24        -4.1490   -1.6070    3.5390 H         1 UNK1        0.0000\\n     85 C53         1.2490   -1.5600    4.7750 C.ar      1 UNK1        0.0000\\n     86 C54         1.4850   -4.2600    5.5550 C.ar      1 UNK1        0.0000\\n     87 C55         2.4750   -2.2100    4.6190 C.ar      1 UNK1        0.0000\\n     88 C56         0.1420   -2.2090    5.3240 C.ar      1 UNK1        0.0000\\n     89 C57         0.2750   -3.5520    5.7060 C.ar      1 UNK1        0.0000\\n     90 C58         2.5770   -3.5530    5.0070 C.ar      1 UNK1        0.0000\\n     91 H25         3.3360   -1.6680    4.2270 H         1 UNK1        0.0000\\n     92 H26        -0.7920   -1.6680    5.4750 H         1 UNK1        0.0000\\n     93 O9          6.0600   -4.1490    0.6620 O.3       1 UNK1        0.0000\\n     94 O10         0.6660   -3.8020   -6.1980 O.3       1 UNK1        0.0000\\n     95 O11        -3.8320   -3.8620   -4.8790 O.3       1 UNK1        0.0000\\n     96 O12         3.7250   -4.3020    4.8640 O.3       1 UNK1        0.0000\\n     97 O13        -6.1620   -4.0370   -0.6730 O.3       1 UNK1        0.0000\\n     98 O14        -4.9340   -4.2090    3.8470 O.3       1 UNK1        0.0000\\n     99 O15        -0.7560   -4.2930    6.2420 O.3       1 UNK1        0.0000\\n    100 O16         4.8820   -3.9020   -3.8700 O.3       1 UNK1        0.0000\\n    101 C59        -4.8760   -3.4080   -4.0430 C.ar      1 UNK1        0.0000\\n    102 C60        -7.0820   -2.7390   -2.4890 C.ar      1 UNK1        0.0000\\n    103 C61        -4.8930   -3.8390   -2.7130 C.ar      1 UNK1        0.0000\\n    104 C62        -5.9040   -2.6520   -4.6160 C.ar      1 UNK1        0.0000\\n    105 C63        -7.0110   -2.3280   -3.8250 C.ar      1 UNK1        0.0000\\n    106 C64        -6.0240   -3.4920   -1.9690 C.ar      1 UNK1        0.0000\\n    107 H27        -5.8410   -2.3440   -5.6600 H         1 UNK1        0.0000\\n    108 H28        -7.9440   -2.4990   -1.8660 H         1 UNK1        0.0000\\n    109 C65        -4.1340   -3.7650    4.9240 C.ar      1 UNK1        0.0000\\n    110 C66        -2.6480   -3.1340    7.1870 C.ar      1 UNK1        0.0000\\n    111 C67        -2.7850   -4.1300    4.9420 C.ar      1 UNK1        0.0000\\n    112 C68        -4.7590   -3.0910    5.9780 C.ar      1 UNK1        0.0000\\n    113 C69        -4.0020   -2.7850    7.1140 C.ar      1 UNK1        0.0000\\n    114 C70        -2.0760   -3.8070    6.1030 C.ar      1 UNK1        0.0000\\n    115 H29        -5.8160   -2.8310    5.9130 H         1 UNK1        0.0000\\n    116 H30        -2.0500   -2.9100    8.0710 H         1 UNK1        0.0000\\n    117 C71         4.7730   -3.7840    4.0710 C.ar      1 UNK1        0.0000\\n    118 C72         6.9830   -3.0020    2.5770 C.ar      1 UNK1        0.0000\\n    119 C73         5.8020   -3.0780    4.7020 C.ar      1 UNK1        0.0000\\n    120 C74         4.7910   -4.1110    2.7120 C.ar      1 UNK1        0.0000\\n    121 C75         5.9250   -3.7100    1.9990 C.ar      1 UNK1        0.0000\\n    122 C76         6.9120   -2.6960    3.9410 C.ar      1 UNK1        0.0000\\n    123 H31         5.7390   -2.8520    5.7670 H         1 UNK1        0.0000\\n    124 H32         7.8470   -2.7170    1.9750 H         1 UNK1        0.0000\\n    125 C77         4.0640   -3.3790   -4.8960 C.ar      1 UNK1        0.0000\\n    126 C78         2.5470   -2.5810   -7.0840 C.ar      1 UNK1        0.0000\\n    127 C79         2.7130   -3.7380   -4.9200 C.ar      1 UNK1        0.0000\\n    128 C80         4.6760   -2.6330   -5.9080 C.ar      1 UNK1        0.0000\\n    129 C81         3.9030   -2.2430   -7.0070 C.ar      1 UNK1        0.0000\\n    130 C82         1.9890   -3.3290   -6.0430 C.ar      1 UNK1        0.0000\\n    131 H33         5.7350   -2.3830   -5.8410 H         1 UNK1        0.0000\\n    132 H34         1.9360   -2.2900   -7.9390 H         1 UNK1        0.0000\\n    133 H35         0.3710    4.9140    4.7590 H         1 UNK1        0.0000\\n    134 C83        -3.5230    4.7080    1.4110 C.3       1 UNK1        0.0000\\n    135 C84        -1.0410    4.8820   -3.2090 C.3       1 UNK1        0.0000\\n    136 H36         4.0660    4.9620    0.4610 H         1 UNK1        0.0000\\n    137 H37        -1.0290    5.2950   -2.1740 H         1 UNK1        0.0000\\n    138 H38        -0.1300    5.2740   -3.7090 H         1 UNK1        0.0000\\n    139 H39        -2.5060    5.1260    1.2310 H         1 UNK1        0.0000\\n    140 H40        -3.7670    4.9790    2.4600 H         1 UNK1        0.0000\\n    141 C85        -4.5290    5.3740    0.4680 C.3       1 UNK1        0.0000\\n    142 H41        -5.2380    4.6330    0.0320 H         1 UNK1        0.0000\\n    143 H42        -5.1850    6.0800    1.0250 H         1 UNK1        0.0000\\n    144 C86         4.2060    5.4640   -1.6410 C.3       1 UNK1        0.0000\\n    145 H43         5.1460    4.9440   -1.9410 H         1 UNK1        0.0000\\n    146 H44         3.5770    5.4530   -2.5590 H         1 UNK1        0.0000\\n    147 C87        -2.2870    5.3920   -3.9450 C.3       1 UNK1        0.0000\\n    148 H45        -3.2090    5.0130   -3.4470 H         1 UNK1        0.0000\\n    149 H46        -2.3130    4.9930   -4.9860 H         1 UNK1        0.0000\\n    150 C88         2.3300    5.2730    3.8980 C.3       1 UNK1        0.0000\\n    151 H47         3.1340    4.5300    4.1030 H         1 UNK1        0.0000\\n    152 H48         2.4020    5.9910    4.7460 H         1 UNK1        0.0000\\n    153 C89         4.5360    6.8710   -1.2410 C.2       1 UNK1        0.0000\\n    154 C90        -2.3330    6.8880   -3.9930 C.2       1 UNK1        0.0000\\n    155 C91         2.6310    5.9990    2.6160 C.2       1 UNK1        0.0000\\n    156 C92        -3.8440    6.1170   -0.6430 C.2       1 UNK1        0.0000\\n    157 O17        -3.2150    7.6410   -3.6240 O.2       1 UNK1        0.0000\\n    158 O18        -2.6520    6.2330   -0.8580 O.2       1 UNK1        0.0000\\n    159 O19         4.6590    7.3670   -0.1400 O.2       1 UNK1        0.0000\\n    160 O20         1.9020    6.1800    1.6590 O.2       1 UNK1        0.0000\\n    161 O21        -4.7570    6.6860   -1.4730 O.3       1 UNK1        0.0000\\n    162 H49        -4.3300    7.2120   -2.2460 H         1 UNK1        0.0000\\n    163 O22        -1.2170    7.4140   -4.5850 O.3       1 UNK1        0.0000\\n    164 H50        -1.2360    8.4130   -4.6220 H         1 UNK1        0.0000\\n    165 O23         4.7320    7.6480   -2.3530 O.3       1 UNK1        0.0000\\n    166 H51         4.9680    8.5920   -2.1320 H         1 UNK1        0.0000\\n    167 O24         3.9140    6.4520    2.5930 O.3       1 UNK1        0.0000\\n    168 H52         4.1510    6.9380    1.7260 H         1 UNK1        0.0000\\n    169 H53         2.2630   -4.3430   -4.1310 H         1 UNK1        0.0000\\n    170 H54         3.9880   -4.6830    2.2450 H         1 UNK1        0.0000\\n    171 H55        -4.0910   -4.4490   -2.2940 H         1 UNK1        0.0000\\n    172 H56        -2.3240   -4.6780    4.1190 H         1 UNK1        0.0000\\n    173 H57        -7.8310   -1.7480   -4.2550 H         1 UNK1        0.0000\\n    174 H58        -4.4720   -2.2690    7.9540 H         1 UNK1        0.0000\\n    175 H59         7.7320   -2.1540    4.4160 H         1 UNK1        0.0000\\n    176 H60         4.3630   -1.6680   -7.8140 H         1 UNK1        0.0000\\n    177 C93        -1.7070   -5.1880   -6.0230 C.2       1 UNK1        0.0000\\n    178 O25        -1.5320   -6.2260   -5.4350 O.2       1 UNK1        0.0000\\n    179 O26        -2.0800   -5.1920   -7.3470 O.3       1 UNK1        0.0000\\n    180 H61        -2.1750   -6.1160   -7.7100 H         1 UNK1        0.0000\\n    181 C94        -5.9790   -5.5010    1.6510 C.2       1 UNK1        0.0000\\n    182 O27        -5.3430   -6.5060    1.4520 O.2       1 UNK1        0.0000\\n    183 O28        -7.3100   -5.5740    1.9920 O.3       1 UNK1        0.0000\\n    184 H62        -7.6350   -6.5150    2.0410 H         1 UNK1        0.0000\\n    185 C95         1.5910   -5.6920    5.9140 C.2       1 UNK1        0.0000\\n    186 O29         1.3550   -6.6690    5.2490 O.2       1 UNK1        0.0000\\n    187 O30         2.0290   -5.8220    7.2120 O.3       1 UNK1        0.0000\\n    188 H63         2.1120   -6.7770    7.4880 H         1 UNK1        0.0000\\n    189 C96         5.9060   -5.3920   -1.7910 C.2       1 UNK1        0.0000\\n    190 O31         5.2730   -6.4130   -1.6890 O.2       1 UNK1        0.0000\\n    191 O32         7.2400   -5.4300   -2.1280 O.3       1 UNK1        0.0000\\n    192 H64         7.5690   -6.3610   -2.2610 H         1 UNK1        0.0000\\n@<TRIPOS>BOND\\n     1    1    2 1\\n     2    2    5 ar\\n     3    2    4 ar\\n     4    3    6 ar\\n     5    3    7 ar\\n     6    3    8 1\\n     7    4    7 ar\\n     8    4   48 1\\n     9    5    6 ar\\n    10    5   55 1\\n    11    6   11 1\\n    12    7    9 1\\n    13    9   10 1\\n    14    9   13 1\\n    15    9   43 1\\n    16   11   12 1\\n    17   11   21 1\\n    18   11   41 1\\n    19   13   16 ar\\n    20   13   15 ar\\n    21   14   17 ar\\n    22   14   18 ar\\n    23   14   50 1\\n    24   15   18 ar\\n    25   15   49 1\\n    26   16   17 ar\\n    27   16   19 1\\n    28   17   31 1\\n    29   18   20 1\\n    30   21   24 ar\\n    31   21   23 ar\\n    32   22   25 ar\\n    33   22   26 ar\\n    34   22   46 1\\n    35   23   26 ar\\n    36   23   27 1\\n    37   24   25 ar\\n    38   24   58 1\\n    39   25   28 1\\n    40   26   29 1\\n    41   29   30 1\\n    42   29   37 1\\n    43   29  135 1\\n    44   31   32 1\\n    45   31   33 1\\n    46   31  134 1\\n    47   33   36 ar\\n    48   33   35 ar\\n    49   34   37 ar\\n    50   34   38 ar\\n    51   34   45 1\\n    52   35   38 ar\\n    53   35   47 1\\n    54   36   37 ar\\n    55   36   39 1\\n    56   38   40 1\\n    57   41  136 1\\n    58   41   42 1\\n    59   41  144 1\\n    60   43  133 1\\n    61   43   44 1\\n    62   43  150 1\\n    63   45   59 1\\n    64   46   59 1\\n    65   47   53 1\\n    66   48   51 1\\n    67   49   51 1\\n    68   50   53 1\\n    69   51   52 1\\n    70   51   85 1\\n    71   53   54 1\\n    72   53   77 1\\n    73   55   56 1\\n    74   56   57 1\\n    75   56   58 1\\n    76   56   61 1\\n    77   59   60 1\\n    78   59   69 1\\n    79   61   64 ar\\n    80   61   63 ar\\n    81   62   65 ar\\n    82   62   66 ar\\n    83   62  189 1\\n    84   63   66 ar\\n    85   63   67 1\\n    86   64   65 ar\\n    87   64   68 1\\n    88   65   93 1\\n    89   66  100 1\\n    90   69   72 ar\\n    91   69   71 ar\\n    92   70   73 ar\\n    93   70   74 ar\\n    94   70  177 1\\n    95   71   74 ar\\n    96   71   75 1\\n    97   72   73 ar\\n    98   72   76 1\\n    99   73   95 1\\n   100   74   94 1\\n   101   77   80 ar\\n   102   77   79 ar\\n   103   78   81 ar\\n   104   78   82 ar\\n   105   78  181 1\\n   106   79   82 ar\\n   107   79   83 1\\n   108   80   81 ar\\n   109   80   84 1\\n   110   81   98 1\\n   111   82   97 1\\n   112   85   88 ar\\n   113   85   87 ar\\n   114   86   89 ar\\n   115   86   90 ar\\n   116   86  185 1\\n   117   87   90 ar\\n   118   87   91 1\\n   119   88   89 ar\\n   120   88   92 1\\n   121   89   99 1\\n   122   90   96 1\\n   123   93  121 1\\n   124   94  130 1\\n   125   95  101 1\\n   126   96  117 1\\n   127   97  106 1\\n   128   98  109 1\\n   129   99  114 1\\n   130  100  125 1\\n   131  101  104 ar\\n   132  101  103 ar\\n   133  102  105 ar\\n   134  102  106 ar\\n   135  102  108 1\\n   136  103  106 ar\\n   137  103  171 1\\n   138  104  105 ar\\n   139  104  107 1\\n   140  105  173 1\\n   141  109  112 ar\\n   142  109  111 ar\\n   143  110  113 ar\\n   144  110  114 ar\\n   145  110  116 1\\n   146  111  114 ar\\n   147  111  172 1\\n   148  112  113 ar\\n   149  112  115 1\\n   150  113  174 1\\n   151  117  120 ar\\n   152  117  119 ar\\n   153  118  121 ar\\n   154  118  122 ar\\n   155  118  124 1\\n   156  119  122 ar\\n   157  119  123 1\\n   158  120  121 ar\\n   159  120  170 1\\n   160  122  175 1\\n   161  125  128 ar\\n   162  125  127 ar\\n   163  126  129 ar\\n   164  126  130 ar\\n   165  126  132 1\\n   166  127  130 ar\\n   167  127  169 1\\n   168  128  129 ar\\n   169  128  131 1\\n   170  129  176 1\\n   171  134  139 1\\n   172  134  140 1\\n   173  134  141 1\\n   174  135  137 1\\n   175  135  138 1\\n   176  135  147 1\\n   177  141  142 1\\n   178  141  143 1\\n   179  141  156 1\\n   180  144  145 1\\n   181  144  146 1\\n   182  144  153 1\\n   183  147  148 1\\n   184  147  149 1\\n   185  147  154 1\\n   186  150  151 1\\n   187  150  152 1\\n   188  150  155 1\\n   189  153  159 2\\n   190  153  165 1\\n   191  154  157 2\\n   192  154  163 1\\n   193  155  160 2\\n   194  155  167 1\\n   195  156  158 2\\n   196  156  161 1\\n   197  161  162 1\\n   198  163  164 1\\n   199  165  166 1\\n   200  167  168 1\\n   201  177  178 2\\n   202  177  179 1\\n   203  179  180 1\\n   204  181  182 2\\n   205  181  183 1\\n   206  183  184 1\\n   207  185  186 2\\n   208  185  187 1\\n   209  187  188 1\\n   210  189  190 2\\n   211  189  191 1\\n   212  191  192 1\\n\\n\",\"mol2\");\n\tviewer_16456529209524322.addModel(\"@<TRIPOS>MOLECULE\\n*****\\n   19    18     0     0     0\\nSMALL\\nUSER_CHARGES\\n\\n@<TRIPOS>ATOM\\n      1 C1          1.0844   -3.8605   -1.0539 C.2       1 GUEST         0.9082\\n      2 C2         -0.3014    0.5641    0.0996 C.3       1 GUEST        -0.0874\\n      3 C3          1.5200   -3.4784    0.3647 C.3       1 GUEST        -0.1948\\n      4 C4          0.4995   -0.6315    0.5899 C.3       1 GUEST        -0.0766\\n      5 C5          0.4143   -3.0465    1.3238 C.3       1 GUEST        -0.0512\\n      6 C6         -0.3901   -1.8591    0.7872 C.3       1 GUEST        -0.0805\\n      7 O1          0.5216   -2.9260   -1.6940 O.co2     1 GUEST        -0.8545\\n      8 O2          1.3188   -5.0473   -1.4118 O.co2     1 GUEST        -0.8545\\n      9 H1         -1.1006    0.8164    0.8039 H         1 GUEST         0.0224\\n     10 H2          0.3400    1.4429   -0.0219 H         1 GUEST         0.0224\\n     11 H3         -0.7599    0.3417   -0.8690 H         1 GUEST         0.0224\\n     12 H4          2.2284   -2.6475    0.2549 H         1 GUEST         0.0194\\n     13 H5          2.0787   -4.3145    0.8036 H         1 GUEST         0.0194\\n     14 H6          1.2894   -0.8572   -0.1360 H         1 GUEST         0.0293\\n     15 H7          0.9912   -0.3718    1.5347 H         1 GUEST         0.0293\\n     16 H8          0.8369   -2.7975    2.3044 H         1 GUEST         0.0224\\n     17 H9         -0.2629   -3.8956    1.4787 H         1 GUEST         0.0224\\n     18 H10        -0.8612   -2.1233   -0.1666 H         1 GUEST         0.0410\\n     19 H11        -1.1979   -1.6171    1.4886 H         1 GUEST         0.0410\\n@<TRIPOS>BOND\\n     1    1    3 1\\n     2    1    7 1\\n     3    1    8 2\\n     4    2    4 1\\n     5    3    5 1\\n     6    4    6 1\\n     7    5    6 1\\n     8    2    9 1\\n     9    2   10 1\\n    10    2   11 1\\n    11    3   12 1\\n    12    3   13 1\\n    13    4   14 1\\n    14    4   15 1\\n    15    5   16 1\\n    16    5   17 1\\n    17    6   18 1\\n    18    6   19 1\\n\",\"mol2\");\n\tviewer_16456529209524322.setStyle({\"stick\": {}});\n\tviewer_16456529209524322.zoomTo();\nviewer_16456529209524322.render();\n});\n</script>",
      "text/html": [
       "<div id=\"3dmolviewer_16456529209524322\"  style=\"position: relative; width: 640px; height: 480px\">\n",
       "        <p id=\"3dmolwarning_16456529209524322\" style=\"background-color:#ffcccc;color:black\">You appear to be running in JupyterLab (or JavaScript failed to load for some other reason).  You need to install the 3dmol extension: <br>\n",
       "        <tt>jupyter labextension install jupyterlab_3dmol</tt></p>\n",
       "        </div>\n",
       "<script>\n",
       "\n",
       "var loadScriptAsync = function(uri){\n",
       "  return new Promise((resolve, reject) => {\n",
       "    var tag = document.createElement('script');\n",
       "    tag.src = uri;\n",
       "    tag.async = true;\n",
       "    tag.onload = () => {\n",
       "      resolve();\n",
       "    };\n",
       "  var firstScriptTag = document.getElementsByTagName('script')[0];\n",
       "  firstScriptTag.parentNode.insertBefore(tag, firstScriptTag);\n",
       "});\n",
       "};\n",
       "\n",
       "if(typeof $3Dmolpromise === 'undefined') {\n",
       "$3Dmolpromise = null;\n",
       "  $3Dmolpromise = loadScriptAsync('https://3dmol.org/build/3Dmol.js');\n",
       "}\n",
       "\n",
       "var viewer_16456529209524322 = null;\n",
       "var warn = document.getElementById(\"3dmolwarning_16456529209524322\");\n",
       "if(warn) {\n",
       "    warn.parentNode.removeChild(warn);\n",
       "}\n",
       "$3Dmolpromise.then(function() {\n",
       "viewer_16456529209524322 = $3Dmol.createViewer($(\"#3dmolviewer_16456529209524322\"),{backgroundColor:\"white\"});\n",
       "viewer_16456529209524322.zoomTo();\n",
       "\tviewer_16456529209524322.addModel(\"@<TRIPOS>MOLECULE\\n*****\\n  192   212     0     0     0\\nSMALL\\nNO_CHARGES\\n\\n@<TRIPOS>ATOM\\n      1 H1          3.9500   -0.2810    2.4280 H         1 UNK1        0.0000\\n      2 C1          3.4640    0.6620    2.1830 C.ar      1 UNK1        0.0000\\n      3 C2          2.1990    3.0910    1.5500 C.ar      1 UNK1        0.0000\\n      4 C3          2.5650    1.2630    3.0650 C.ar      1 UNK1        0.0000\\n      5 C4          3.7170    1.3160    0.9760 C.ar      1 UNK1        0.0000\\n      6 C5          3.1130    2.5410    0.6420 C.ar      1 UNK1        0.0000\\n      7 C6          1.9290    2.4880    2.7840 C.ar      1 UNK1        0.0000\\n      8 H2          1.6650    4.0120    1.2810 H         1 UNK1        0.0000\\n      9 C7          0.9660    3.0760    3.7930 C.3       1 UNK1        0.0000\\n     10 H3          1.2810    2.6990    4.8140 H         1 UNK1        0.0000\\n     11 C8          3.4610    3.2190   -0.6690 C.3       1 UNK1        0.0000\\n     12 H4          4.4990    2.8680   -0.9650 H         1 UNK1        0.0000\\n     13 C9         -0.4090    2.5080    3.4960 C.ar      1 UNK1        0.0000\\n     14 C10        -2.8580    1.3090    2.8730 C.ar      1 UNK1        0.0000\\n     15 C11        -0.7820    1.2690    4.0500 C.ar      1 UNK1        0.0000\\n     16 C12        -1.3130    3.1320    2.6250 C.ar      1 UNK1        0.0000\\n     17 C13        -2.5410    2.5500    2.2880 C.ar      1 UNK1        0.0000\\n     18 C14        -2.0060    0.6600    3.7680 C.ar      1 UNK1        0.0000\\n     19 H5         -1.0340    4.0930    2.1730 H         1 UNK1        0.0000\\n     20 H6         -2.2810   -0.2910    4.2200 H         1 UNK1        0.0000\\n     21 C15         2.5000    2.7230   -1.7250 C.ar      1 UNK1        0.0000\\n     22 C16         0.7310    1.5730   -3.5570 C.ar      1 UNK1        0.0000\\n     23 C17         1.2770    3.3430   -2.0180 C.ar      1 UNK1        0.0000\\n     24 C18         2.8100    1.5220   -2.3950 C.ar      1 UNK1        0.0000\\n     25 C19         1.9520    0.9400   -3.3280 C.ar      1 UNK1        0.0000\\n     26 C20         0.3640    2.7750   -2.9180 C.ar      1 UNK1        0.0000\\n     27 H7          1.0170    4.2740   -1.5060 H         1 UNK1        0.0000\\n     28 H8          2.2200    0.0220   -3.8480 H         1 UNK1        0.0000\\n     29 C21        -1.0110    3.3450   -3.1970 C.3       1 UNK1        0.0000\\n     30 H9         -1.3020    2.9940   -4.2380 H         1 UNK1        0.0000\\n     31 C22        -3.5040    3.1740    1.2970 C.3       1 UNK1        0.0000\\n     32 H10        -4.5440    2.8030    1.5610 H         1 UNK1        0.0000\\n     33 C23        -3.1820    2.6440   -0.0850 C.ar      1 UNK1        0.0000\\n     34 C24        -2.6180    1.5100   -2.5800 C.ar      1 UNK1        0.0000\\n     35 C25        -3.7750    1.4340   -0.4970 C.ar      1 UNK1        0.0000\\n     36 C26        -2.2960    3.2700   -0.9720 C.ar      1 UNK1        0.0000\\n     37 C27        -1.9950    2.7220   -2.2270 C.ar      1 UNK1        0.0000\\n     38 C28        -3.5180    0.8540   -1.7400 C.ar      1 UNK1        0.0000\\n     39 H11        -1.8190    4.2170   -0.6780 H         1 UNK1        0.0000\\n     40 H12        -4.0000   -0.0740   -2.0410 H         1 UNK1        0.0000\\n     41 C29         3.5160    4.7420   -0.4850 C.3       1 UNK1        0.0000\\n     42 H13         2.4990    5.1690   -0.3280 H         1 UNK1        0.0000\\n     43 C30         0.9460    4.6160    3.8570 C.3       1 UNK1        0.0000\\n     44 H14         0.3670    5.0320    2.9990 H         1 UNK1        0.0000\\n     45 O1         -2.3410    0.8810   -3.8020 O.3       1 UNK1        0.0000\\n     46 O2         -0.1420    0.9280   -4.4460 O.3       1 UNK1        0.0000\\n     47 O3         -4.6480    0.7290    0.3440 O.3       1 UNK1        0.0000\\n     48 O4          2.2870    0.5560    4.2440 O.3       1 UNK1        0.0000\\n     49 O5          0.0870    0.5580    4.8900 O.3       1 UNK1        0.0000\\n     50 O6         -4.0470    0.6380    2.5530 O.3       1 UNK1        0.0000\\n     51 C31         1.0610   -0.2000    4.1410 C.3       1 UNK1        0.0000\\n     52 H15         0.7480   -0.3150    3.0760 H         1 UNK1        0.0000\\n     53 C32        -3.9450   -0.0830    1.3060 C.3       1 UNK1        0.0000\\n     54 H16        -2.8790   -0.2270    1.0100 H         1 UNK1        0.0000\\n     55 O7          4.5870    0.6700    0.0870 O.3       1 UNK1        0.0000\\n     56 C33         3.8800   -0.0220   -0.9630 C.3       1 UNK1        0.0000\\n     57 H17         2.8110   -0.1850   -0.6910 H         1 UNK1        0.0000\\n     58 O8          3.9980    0.8270   -2.1240 O.3       1 UNK1        0.0000\\n     59 C34        -1.1180    0.1160   -3.7580 C.3       1 UNK1        0.0000\\n     60 H18        -0.8060   -0.0860   -2.7070 H         1 UNK1        0.0000\\n     61 C35         4.5630   -1.3460   -1.2240 C.ar      1 UNK1        0.0000\\n     62 C36         5.4720   -3.9900   -1.6030 C.ar      1 UNK1        0.0000\\n     63 C37         4.4780   -1.9190   -2.4940 C.ar      1 UNK1        0.0000\\n     64 C38         5.1010   -2.0450   -0.1410 C.ar      1 UNK1        0.0000\\n     65 C39         5.5450   -3.3590   -0.3430 C.ar      1 UNK1        0.0000\\n     66 C40         4.9320   -3.2350   -2.6650 C.ar      1 UNK1        0.0000\\n     67 H19         4.0930   -1.3400   -3.3320 H         1 UNK1        0.0000\\n     68 H20         5.1940   -1.5590    0.8310 H         1 UNK1        0.0000\\n     69 C41        -1.3150   -1.1830   -4.5070 C.ar      1 UNK1        0.0000\\n     70 C42        -1.5810   -3.7970   -5.5340 C.ar      1 UNK1        0.0000\\n     71 C43        -0.2120   -1.7950   -5.1050 C.ar      1 UNK1        0.0000\\n     72 C44        -2.5510   -1.8270   -4.4210 C.ar      1 UNK1        0.0000\\n     73 C45        -2.6680   -3.1260   -4.9340 C.ar      1 UNK1        0.0000\\n     74 C46        -0.3590   -3.0960   -5.6090 C.ar      1 UNK1        0.0000\\n     75 H21         0.7310   -1.2560   -5.1980 H         1 UNK1        0.0000\\n     76 H22        -3.4080   -1.3100   -3.9880 H         1 UNK1        0.0000\\n     77 C47        -4.6370   -1.4210    1.4430 C.ar      1 UNK1        0.0000\\n     78 C48        -5.5480   -4.0860    1.5880 C.ar      1 UNK1        0.0000\\n     79 C49        -5.1860   -2.0160    0.3060 C.ar      1 UNK1        0.0000\\n     80 C50        -4.5430   -2.1070    2.6550 C.ar      1 UNK1        0.0000\\n     81 C51        -4.9980   -3.4320    2.7110 C.ar      1 UNK1        0.0000\\n     82 C52        -5.6320   -3.3420    0.3920 C.ar      1 UNK1        0.0000\\n     83 H23        -5.2870   -1.4440   -0.6170 H         1 UNK1        0.0000\\n     84 H24        -4.1490   -1.6070    3.5390 H         1 UNK1        0.0000\\n     85 C53         1.2490   -1.5600    4.7750 C.ar      1 UNK1        0.0000\\n     86 C54         1.4850   -4.2600    5.5550 C.ar      1 UNK1        0.0000\\n     87 C55         2.4750   -2.2100    4.6190 C.ar      1 UNK1        0.0000\\n     88 C56         0.1420   -2.2090    5.3240 C.ar      1 UNK1        0.0000\\n     89 C57         0.2750   -3.5520    5.7060 C.ar      1 UNK1        0.0000\\n     90 C58         2.5770   -3.5530    5.0070 C.ar      1 UNK1        0.0000\\n     91 H25         3.3360   -1.6680    4.2270 H         1 UNK1        0.0000\\n     92 H26        -0.7920   -1.6680    5.4750 H         1 UNK1        0.0000\\n     93 O9          6.0600   -4.1490    0.6620 O.3       1 UNK1        0.0000\\n     94 O10         0.6660   -3.8020   -6.1980 O.3       1 UNK1        0.0000\\n     95 O11        -3.8320   -3.8620   -4.8790 O.3       1 UNK1        0.0000\\n     96 O12         3.7250   -4.3020    4.8640 O.3       1 UNK1        0.0000\\n     97 O13        -6.1620   -4.0370   -0.6730 O.3       1 UNK1        0.0000\\n     98 O14        -4.9340   -4.2090    3.8470 O.3       1 UNK1        0.0000\\n     99 O15        -0.7560   -4.2930    6.2420 O.3       1 UNK1        0.0000\\n    100 O16         4.8820   -3.9020   -3.8700 O.3       1 UNK1        0.0000\\n    101 C59        -4.8760   -3.4080   -4.0430 C.ar      1 UNK1        0.0000\\n    102 C60        -7.0820   -2.7390   -2.4890 C.ar      1 UNK1        0.0000\\n    103 C61        -4.8930   -3.8390   -2.7130 C.ar      1 UNK1        0.0000\\n    104 C62        -5.9040   -2.6520   -4.6160 C.ar      1 UNK1        0.0000\\n    105 C63        -7.0110   -2.3280   -3.8250 C.ar      1 UNK1        0.0000\\n    106 C64        -6.0240   -3.4920   -1.9690 C.ar      1 UNK1        0.0000\\n    107 H27        -5.8410   -2.3440   -5.6600 H         1 UNK1        0.0000\\n    108 H28        -7.9440   -2.4990   -1.8660 H         1 UNK1        0.0000\\n    109 C65        -4.1340   -3.7650    4.9240 C.ar      1 UNK1        0.0000\\n    110 C66        -2.6480   -3.1340    7.1870 C.ar      1 UNK1        0.0000\\n    111 C67        -2.7850   -4.1300    4.9420 C.ar      1 UNK1        0.0000\\n    112 C68        -4.7590   -3.0910    5.9780 C.ar      1 UNK1        0.0000\\n    113 C69        -4.0020   -2.7850    7.1140 C.ar      1 UNK1        0.0000\\n    114 C70        -2.0760   -3.8070    6.1030 C.ar      1 UNK1        0.0000\\n    115 H29        -5.8160   -2.8310    5.9130 H         1 UNK1        0.0000\\n    116 H30        -2.0500   -2.9100    8.0710 H         1 UNK1        0.0000\\n    117 C71         4.7730   -3.7840    4.0710 C.ar      1 UNK1        0.0000\\n    118 C72         6.9830   -3.0020    2.5770 C.ar      1 UNK1        0.0000\\n    119 C73         5.8020   -3.0780    4.7020 C.ar      1 UNK1        0.0000\\n    120 C74         4.7910   -4.1110    2.7120 C.ar      1 UNK1        0.0000\\n    121 C75         5.9250   -3.7100    1.9990 C.ar      1 UNK1        0.0000\\n    122 C76         6.9120   -2.6960    3.9410 C.ar      1 UNK1        0.0000\\n    123 H31         5.7390   -2.8520    5.7670 H         1 UNK1        0.0000\\n    124 H32         7.8470   -2.7170    1.9750 H         1 UNK1        0.0000\\n    125 C77         4.0640   -3.3790   -4.8960 C.ar      1 UNK1        0.0000\\n    126 C78         2.5470   -2.5810   -7.0840 C.ar      1 UNK1        0.0000\\n    127 C79         2.7130   -3.7380   -4.9200 C.ar      1 UNK1        0.0000\\n    128 C80         4.6760   -2.6330   -5.9080 C.ar      1 UNK1        0.0000\\n    129 C81         3.9030   -2.2430   -7.0070 C.ar      1 UNK1        0.0000\\n    130 C82         1.9890   -3.3290   -6.0430 C.ar      1 UNK1        0.0000\\n    131 H33         5.7350   -2.3830   -5.8410 H         1 UNK1        0.0000\\n    132 H34         1.9360   -2.2900   -7.9390 H         1 UNK1        0.0000\\n    133 H35         0.3710    4.9140    4.7590 H         1 UNK1        0.0000\\n    134 C83        -3.5230    4.7080    1.4110 C.3       1 UNK1        0.0000\\n    135 C84        -1.0410    4.8820   -3.2090 C.3       1 UNK1        0.0000\\n    136 H36         4.0660    4.9620    0.4610 H         1 UNK1        0.0000\\n    137 H37        -1.0290    5.2950   -2.1740 H         1 UNK1        0.0000\\n    138 H38        -0.1300    5.2740   -3.7090 H         1 UNK1        0.0000\\n    139 H39        -2.5060    5.1260    1.2310 H         1 UNK1        0.0000\\n    140 H40        -3.7670    4.9790    2.4600 H         1 UNK1        0.0000\\n    141 C85        -4.5290    5.3740    0.4680 C.3       1 UNK1        0.0000\\n    142 H41        -5.2380    4.6330    0.0320 H         1 UNK1        0.0000\\n    143 H42        -5.1850    6.0800    1.0250 H         1 UNK1        0.0000\\n    144 C86         4.2060    5.4640   -1.6410 C.3       1 UNK1        0.0000\\n    145 H43         5.1460    4.9440   -1.9410 H         1 UNK1        0.0000\\n    146 H44         3.5770    5.4530   -2.5590 H         1 UNK1        0.0000\\n    147 C87        -2.2870    5.3920   -3.9450 C.3       1 UNK1        0.0000\\n    148 H45        -3.2090    5.0130   -3.4470 H         1 UNK1        0.0000\\n    149 H46        -2.3130    4.9930   -4.9860 H         1 UNK1        0.0000\\n    150 C88         2.3300    5.2730    3.8980 C.3       1 UNK1        0.0000\\n    151 H47         3.1340    4.5300    4.1030 H         1 UNK1        0.0000\\n    152 H48         2.4020    5.9910    4.7460 H         1 UNK1        0.0000\\n    153 C89         4.5360    6.8710   -1.2410 C.2       1 UNK1        0.0000\\n    154 C90        -2.3330    6.8880   -3.9930 C.2       1 UNK1        0.0000\\n    155 C91         2.6310    5.9990    2.6160 C.2       1 UNK1        0.0000\\n    156 C92        -3.8440    6.1170   -0.6430 C.2       1 UNK1        0.0000\\n    157 O17        -3.2150    7.6410   -3.6240 O.2       1 UNK1        0.0000\\n    158 O18        -2.6520    6.2330   -0.8580 O.2       1 UNK1        0.0000\\n    159 O19         4.6590    7.3670   -0.1400 O.2       1 UNK1        0.0000\\n    160 O20         1.9020    6.1800    1.6590 O.2       1 UNK1        0.0000\\n    161 O21        -4.7570    6.6860   -1.4730 O.3       1 UNK1        0.0000\\n    162 H49        -4.3300    7.2120   -2.2460 H         1 UNK1        0.0000\\n    163 O22        -1.2170    7.4140   -4.5850 O.3       1 UNK1        0.0000\\n    164 H50        -1.2360    8.4130   -4.6220 H         1 UNK1        0.0000\\n    165 O23         4.7320    7.6480   -2.3530 O.3       1 UNK1        0.0000\\n    166 H51         4.9680    8.5920   -2.1320 H         1 UNK1        0.0000\\n    167 O24         3.9140    6.4520    2.5930 O.3       1 UNK1        0.0000\\n    168 H52         4.1510    6.9380    1.7260 H         1 UNK1        0.0000\\n    169 H53         2.2630   -4.3430   -4.1310 H         1 UNK1        0.0000\\n    170 H54         3.9880   -4.6830    2.2450 H         1 UNK1        0.0000\\n    171 H55        -4.0910   -4.4490   -2.2940 H         1 UNK1        0.0000\\n    172 H56        -2.3240   -4.6780    4.1190 H         1 UNK1        0.0000\\n    173 H57        -7.8310   -1.7480   -4.2550 H         1 UNK1        0.0000\\n    174 H58        -4.4720   -2.2690    7.9540 H         1 UNK1        0.0000\\n    175 H59         7.7320   -2.1540    4.4160 H         1 UNK1        0.0000\\n    176 H60         4.3630   -1.6680   -7.8140 H         1 UNK1        0.0000\\n    177 C93        -1.7070   -5.1880   -6.0230 C.2       1 UNK1        0.0000\\n    178 O25        -1.5320   -6.2260   -5.4350 O.2       1 UNK1        0.0000\\n    179 O26        -2.0800   -5.1920   -7.3470 O.3       1 UNK1        0.0000\\n    180 H61        -2.1750   -6.1160   -7.7100 H         1 UNK1        0.0000\\n    181 C94        -5.9790   -5.5010    1.6510 C.2       1 UNK1        0.0000\\n    182 O27        -5.3430   -6.5060    1.4520 O.2       1 UNK1        0.0000\\n    183 O28        -7.3100   -5.5740    1.9920 O.3       1 UNK1        0.0000\\n    184 H62        -7.6350   -6.5150    2.0410 H         1 UNK1        0.0000\\n    185 C95         1.5910   -5.6920    5.9140 C.2       1 UNK1        0.0000\\n    186 O29         1.3550   -6.6690    5.2490 O.2       1 UNK1        0.0000\\n    187 O30         2.0290   -5.8220    7.2120 O.3       1 UNK1        0.0000\\n    188 H63         2.1120   -6.7770    7.4880 H         1 UNK1        0.0000\\n    189 C96         5.9060   -5.3920   -1.7910 C.2       1 UNK1        0.0000\\n    190 O31         5.2730   -6.4130   -1.6890 O.2       1 UNK1        0.0000\\n    191 O32         7.2400   -5.4300   -2.1280 O.3       1 UNK1        0.0000\\n    192 H64         7.5690   -6.3610   -2.2610 H         1 UNK1        0.0000\\n@<TRIPOS>BOND\\n     1    1    2 1\\n     2    2    5 ar\\n     3    2    4 ar\\n     4    3    6 ar\\n     5    3    7 ar\\n     6    3    8 1\\n     7    4    7 ar\\n     8    4   48 1\\n     9    5    6 ar\\n    10    5   55 1\\n    11    6   11 1\\n    12    7    9 1\\n    13    9   10 1\\n    14    9   13 1\\n    15    9   43 1\\n    16   11   12 1\\n    17   11   21 1\\n    18   11   41 1\\n    19   13   16 ar\\n    20   13   15 ar\\n    21   14   17 ar\\n    22   14   18 ar\\n    23   14   50 1\\n    24   15   18 ar\\n    25   15   49 1\\n    26   16   17 ar\\n    27   16   19 1\\n    28   17   31 1\\n    29   18   20 1\\n    30   21   24 ar\\n    31   21   23 ar\\n    32   22   25 ar\\n    33   22   26 ar\\n    34   22   46 1\\n    35   23   26 ar\\n    36   23   27 1\\n    37   24   25 ar\\n    38   24   58 1\\n    39   25   28 1\\n    40   26   29 1\\n    41   29   30 1\\n    42   29   37 1\\n    43   29  135 1\\n    44   31   32 1\\n    45   31   33 1\\n    46   31  134 1\\n    47   33   36 ar\\n    48   33   35 ar\\n    49   34   37 ar\\n    50   34   38 ar\\n    51   34   45 1\\n    52   35   38 ar\\n    53   35   47 1\\n    54   36   37 ar\\n    55   36   39 1\\n    56   38   40 1\\n    57   41  136 1\\n    58   41   42 1\\n    59   41  144 1\\n    60   43  133 1\\n    61   43   44 1\\n    62   43  150 1\\n    63   45   59 1\\n    64   46   59 1\\n    65   47   53 1\\n    66   48   51 1\\n    67   49   51 1\\n    68   50   53 1\\n    69   51   52 1\\n    70   51   85 1\\n    71   53   54 1\\n    72   53   77 1\\n    73   55   56 1\\n    74   56   57 1\\n    75   56   58 1\\n    76   56   61 1\\n    77   59   60 1\\n    78   59   69 1\\n    79   61   64 ar\\n    80   61   63 ar\\n    81   62   65 ar\\n    82   62   66 ar\\n    83   62  189 1\\n    84   63   66 ar\\n    85   63   67 1\\n    86   64   65 ar\\n    87   64   68 1\\n    88   65   93 1\\n    89   66  100 1\\n    90   69   72 ar\\n    91   69   71 ar\\n    92   70   73 ar\\n    93   70   74 ar\\n    94   70  177 1\\n    95   71   74 ar\\n    96   71   75 1\\n    97   72   73 ar\\n    98   72   76 1\\n    99   73   95 1\\n   100   74   94 1\\n   101   77   80 ar\\n   102   77   79 ar\\n   103   78   81 ar\\n   104   78   82 ar\\n   105   78  181 1\\n   106   79   82 ar\\n   107   79   83 1\\n   108   80   81 ar\\n   109   80   84 1\\n   110   81   98 1\\n   111   82   97 1\\n   112   85   88 ar\\n   113   85   87 ar\\n   114   86   89 ar\\n   115   86   90 ar\\n   116   86  185 1\\n   117   87   90 ar\\n   118   87   91 1\\n   119   88   89 ar\\n   120   88   92 1\\n   121   89   99 1\\n   122   90   96 1\\n   123   93  121 1\\n   124   94  130 1\\n   125   95  101 1\\n   126   96  117 1\\n   127   97  106 1\\n   128   98  109 1\\n   129   99  114 1\\n   130  100  125 1\\n   131  101  104 ar\\n   132  101  103 ar\\n   133  102  105 ar\\n   134  102  106 ar\\n   135  102  108 1\\n   136  103  106 ar\\n   137  103  171 1\\n   138  104  105 ar\\n   139  104  107 1\\n   140  105  173 1\\n   141  109  112 ar\\n   142  109  111 ar\\n   143  110  113 ar\\n   144  110  114 ar\\n   145  110  116 1\\n   146  111  114 ar\\n   147  111  172 1\\n   148  112  113 ar\\n   149  112  115 1\\n   150  113  174 1\\n   151  117  120 ar\\n   152  117  119 ar\\n   153  118  121 ar\\n   154  118  122 ar\\n   155  118  124 1\\n   156  119  122 ar\\n   157  119  123 1\\n   158  120  121 ar\\n   159  120  170 1\\n   160  122  175 1\\n   161  125  128 ar\\n   162  125  127 ar\\n   163  126  129 ar\\n   164  126  130 ar\\n   165  126  132 1\\n   166  127  130 ar\\n   167  127  169 1\\n   168  128  129 ar\\n   169  128  131 1\\n   170  129  176 1\\n   171  134  139 1\\n   172  134  140 1\\n   173  134  141 1\\n   174  135  137 1\\n   175  135  138 1\\n   176  135  147 1\\n   177  141  142 1\\n   178  141  143 1\\n   179  141  156 1\\n   180  144  145 1\\n   181  144  146 1\\n   182  144  153 1\\n   183  147  148 1\\n   184  147  149 1\\n   185  147  154 1\\n   186  150  151 1\\n   187  150  152 1\\n   188  150  155 1\\n   189  153  159 2\\n   190  153  165 1\\n   191  154  157 2\\n   192  154  163 1\\n   193  155  160 2\\n   194  155  167 1\\n   195  156  158 2\\n   196  156  161 1\\n   197  161  162 1\\n   198  163  164 1\\n   199  165  166 1\\n   200  167  168 1\\n   201  177  178 2\\n   202  177  179 1\\n   203  179  180 1\\n   204  181  182 2\\n   205  181  183 1\\n   206  183  184 1\\n   207  185  186 2\\n   208  185  187 1\\n   209  187  188 1\\n   210  189  190 2\\n   211  189  191 1\\n   212  191  192 1\\n\\n\",\"mol2\");\n",
       "\tviewer_16456529209524322.addModel(\"@<TRIPOS>MOLECULE\\n*****\\n   19    18     0     0     0\\nSMALL\\nUSER_CHARGES\\n\\n@<TRIPOS>ATOM\\n      1 C1          1.0844   -3.8605   -1.0539 C.2       1 GUEST         0.9082\\n      2 C2         -0.3014    0.5641    0.0996 C.3       1 GUEST        -0.0874\\n      3 C3          1.5200   -3.4784    0.3647 C.3       1 GUEST        -0.1948\\n      4 C4          0.4995   -0.6315    0.5899 C.3       1 GUEST        -0.0766\\n      5 C5          0.4143   -3.0465    1.3238 C.3       1 GUEST        -0.0512\\n      6 C6         -0.3901   -1.8591    0.7872 C.3       1 GUEST        -0.0805\\n      7 O1          0.5216   -2.9260   -1.6940 O.co2     1 GUEST        -0.8545\\n      8 O2          1.3188   -5.0473   -1.4118 O.co2     1 GUEST        -0.8545\\n      9 H1         -1.1006    0.8164    0.8039 H         1 GUEST         0.0224\\n     10 H2          0.3400    1.4429   -0.0219 H         1 GUEST         0.0224\\n     11 H3         -0.7599    0.3417   -0.8690 H         1 GUEST         0.0224\\n     12 H4          2.2284   -2.6475    0.2549 H         1 GUEST         0.0194\\n     13 H5          2.0787   -4.3145    0.8036 H         1 GUEST         0.0194\\n     14 H6          1.2894   -0.8572   -0.1360 H         1 GUEST         0.0293\\n     15 H7          0.9912   -0.3718    1.5347 H         1 GUEST         0.0293\\n     16 H8          0.8369   -2.7975    2.3044 H         1 GUEST         0.0224\\n     17 H9         -0.2629   -3.8956    1.4787 H         1 GUEST         0.0224\\n     18 H10        -0.8612   -2.1233   -0.1666 H         1 GUEST         0.0410\\n     19 H11        -1.1979   -1.6171    1.4886 H         1 GUEST         0.0410\\n@<TRIPOS>BOND\\n     1    1    3 1\\n     2    1    7 1\\n     3    1    8 2\\n     4    2    4 1\\n     5    3    5 1\\n     6    4    6 1\\n     7    5    6 1\\n     8    2    9 1\\n     9    2   10 1\\n    10    2   11 1\\n    11    3   12 1\\n    12    3   13 1\\n    13    4   14 1\\n    14    4   15 1\\n    15    5   16 1\\n    16    5   17 1\\n    17    6   18 1\\n    18    6   19 1\\n\",\"mol2\");\n",
       "\tviewer_16456529209524322.setStyle({\"stick\": {}});\n",
       "\tviewer_16456529209524322.zoomTo();\n",
       "viewer_16456529209524322.render();\n",
       "});\n",
       "</script>"
      ]
     },
     "metadata": {},
     "output_type": "display_data"
    }
   ],
   "source": [
    "import py3Dmol\n",
    "#First we assign the py3Dmol.view as viewer\n",
    "viewer = py3Dmol.view()\n",
    "#load host\n",
    "viewer.addModel(open('exoOA.mol2', 'r').read(),'mol2')\n",
    "#load guest\n",
    "viewer.addModel(open(os.path.join(datadir, 'docked_guest.mol2'), 'r').read(),'mol2')\n",
    "viewer.setStyle({'stick':{}})\n",
    "#Zooming into all visualized structures \n",
    "viewer.zoomTo()\n",
    "#And we finally visualize the structures using the command below\n",
    "viewer.show()"
   ]
  },
  {
   "cell_type": "code",
   "execution_count": 16,
   "metadata": {},
   "outputs": [
    {
     "data": {
      "application/vnd.jupyter.widget-view+json": {
       "model_id": "ab3e83ae99ea45c894ebd2ddee05056f",
       "version_major": 2,
       "version_minor": 0
      },
      "text/plain": []
     },
     "metadata": {},
     "output_type": "display_data"
    },
    {
     "name": "stderr",
     "output_type": "stream",
     "text": [
      "Warning: importing 'simtk.openmm' is deprecated.  Import 'openmm' instead.\n"
     ]
    },
    {
     "data": {
      "application/vnd.jupyter.widget-view+json": {
       "model_id": "c924f6791c09471f93f90bf9adf04529",
       "version_major": 2,
       "version_minor": 0
      },
      "text/plain": [
       "NGLWidget()"
      ]
     },
     "metadata": {},
     "output_type": "display_data"
    }
   ],
   "source": [
    "# Optional: can use nglview and mdtraj to load and view host and guest structures\n",
    "# To execute this you'll need `nglview` for visualization and `mdtraj` for working with trajectory files\n",
    "\n",
    "# Import modules\n",
    "import nglview\n",
    "import mdtraj\n",
    "\n",
    "# Load host structure (\"trajectory\")\n",
    "traj = mdtraj.load(os.path.join(datadir, 'exoOA.mol2'))\n",
    "# Load guest structure\n",
    "lig = mdtraj.load(os.path.join(tripos_mol2_filename))\n",
    "                  \n",
    "# Figure out which atom indices correspond to the guest, for use in visualization\n",
    "atoms_guest = [ traj.n_atoms+i for i in range(lig.n_atoms)]\n",
    "\n",
    "# \"Stack\" host and guest Trajectory objects into a single object\n",
    "complex = traj.stack(lig)\n",
    "\n",
    "# Visualize\n",
    "view = nglview.show_mdtraj(complex)\n",
    "view.add_representation('spacefill', selection=\"all\")\n",
    "view.add_representation('spacefill', selection=atoms_guest, color='blue')  #Adjust guest to show as blue for contrast\n",
    "# The view command needs to be the last command issued to nglview\n",
    "view"
   ]
  },
  {
   "cell_type": "markdown",
   "metadata": {},
   "source": [
    "# Solvate complex\n",
    "\n",
    "Now we generate a single PDB file of our complex (host+guest) and solvate it using PDBFixer, writing the output to a PDB file in case we'd like to visualize this. We also include conterions (sodium and chloride) at a specified concentration; here that works out to be about one ion of each."
   ]
  },
  {
   "cell_type": "code",
   "execution_count": 17,
   "metadata": {},
   "outputs": [
    {
     "name": "stdout",
     "output_type": "stream",
     "text": [
      "Host+guest number of atoms 211\n",
      "Number of atoms after applying PDBFixer: 4554\n"
     ]
    }
   ],
   "source": [
    "# Join OEMols into complex\n",
    "complex = host.CreateCopy()\n",
    "oechem.OEAddMols( complex, outmol)\n",
    "print(\"Host+guest number of atoms %s\" % complex.NumAtoms())\n",
    "\n",
    "# Write out complex PDB file \n",
    "ostream = oechem.oemolostream( os.path.join(datadir, 'complex.pdb'))\n",
    "oechem.OEWriteMolecule( ostream, complex)\n",
    "ostream.close()\n",
    "\n",
    "# Solvate the system using PDBFixer\n",
    "fixer = PDBFixer( os.path.join(datadir, 'complex.pdb'))\n",
    "\n",
    "# Solvate in 20 mM NaCl and water\n",
    "fixer.addSolvent(padding=unit.Quantity( 1.0, unit.nanometers), ionicStrength=unit.Quantity( 20, unit.millimolar))\n",
    "print(\"Number of atoms after applying PDBFixer: %s\" % fixer.topology.getNumAtoms())\n",
    "\n",
    "\n",
    "# Write file of solvated system for visualization purposes \n",
    "PDBFile.writeFile(fixer.topology, fixer.positions, open(os.path.join(datadir, 'complex_solvated.pdb'), 'w'))"
   ]
  },
  {
   "cell_type": "markdown",
   "metadata": {},
   "source": [
    "# Apply SMIRNOFF to set up the system for simulation with OpenMM\n",
    "\n",
    "Next, we apply a SMIRNOFF force field (OpenFF 1.0, \"Parsley\") to the system to set it up for simulation with OpenMM (or writing out, via ParmEd, to formats for use in a variety of other simulation packages).\n",
    "\n",
    "Prepping a system with SMIRNOFF takes basically three components:\n",
    "- The structure of the system (here, the PDB file of the solvated complex coming out of PDBFixer, above)\n",
    "- OEMol objects for the components of the system (here host, guest, water and ions)\n",
    "- The force field XML files\n",
    "\n",
    "Here, we do not yet have OEMol objects for the ions so our first step is to generate those, and combine it with the host and guest OEMols\n",
    "\n",
    "## Build a list of OEMols of all our components"
   ]
  },
  {
   "cell_type": "code",
   "execution_count": 18,
   "metadata": {},
   "outputs": [],
   "source": [
    "# Keep a list of OEMols of our components\n",
    "oemols = [] \n",
    "\n",
    "# Build ions from SMILES strings\n",
    "smiles = ['[Na+]', '[Cl-]']\n",
    "for smi in smiles:\n",
    "    mol = oechem.OEMol()\n",
    "    oechem.OESmilesToMol(mol, smi)\n",
    "    # Make sure we have partial charges assigned for these (monatomic, so equal to formal charge)\n",
    "    for atom in mol.GetAtoms():\n",
    "        atom.SetPartialCharge(atom.GetFormalCharge())\n",
    "\n",
    "    oemols.append(mol)\n",
    "\n",
    "# Build water reference molecule\n",
    "mol = oechem.OEMol()\n",
    "oechem.OESmilesToMol(mol, 'O')\n",
    "oechem.OEAddExplicitHydrogens(mol)\n",
    "oechem.OETriposAtomNames(mol)\n",
    "oemols.append(mol)\n",
    "    \n",
    "# Add oemols of host and guest\n",
    "oemols.append(host)\n",
    "oemols.append(outmol)\n",
    "\n",
    "# Make a separate list of the molecules we have which already have assigned partial charges, to feed in as pre-charged\n",
    "charged_oemols = [ oemols[0], oemols[1], host]"
   ]
  },
  {
   "cell_type": "markdown",
   "metadata": {},
   "source": [
    "## Load our force field and parameterize the system\n",
    "\n",
    "This uses the SMIRNOFF ForceField class and SMIRNOFF XML files to parameterize the system."
   ]
  },
  {
   "cell_type": "code",
   "execution_count": 19,
   "metadata": {},
   "outputs": [],
   "source": [
    "# Load force fields for small molecules (plus default ions), water\n",
    "\n",
    "from openff.toolkit.topology import Molecule, Topology\n",
    "from openff.toolkit.typing.engines.smirnoff import ForceField\n",
    "ff = ForceField('openff-2.0.0.offxml') \n",
    "\n",
    "\n",
    "# Build list of OpenFF Molecules for passing into topology creation\n",
    "mols = [] # These are all molecules\n",
    "charged_mols= [] # These are just those moolecules for which we assigned charges - the ions and the host\n",
    "for mol in oemols:\n",
    "    mols.append(Molecule.from_openeye(mol))\n",
    "for mol in charged_oemols:\n",
    "    charged_mols.append(Molecule.from_openeye(mol))\n",
    "    \n",
    "# Create OpenFF Topology\n",
    "off_topology = Topology.from_openmm(openmm_topology=fixer.topology,\n",
    "                                    unique_molecules=mols)\n",
    "\n",
    "# Parametrize the system. \n",
    "# Here our host molecule has pre-assigned partial charges to (a) accelerate the calculation, and\n",
    "# (b) avoid potential problems OpenEye sometimes has with generating conformers for host molecules\n",
    "# (under the hood, OpenFF generates conformers for molecules before charging them)\n",
    "# This is also true for ions\n",
    "system = ff.create_openmm_system(off_topology, charge_from_molecules = charged_mols)\n"
   ]
  },
  {
   "cell_type": "markdown",
   "metadata": {},
   "source": [
    "# Minimize and (very briefly) simulate our system\n",
    "\n",
    "Here we will do an energy minimization, followed by a very very brief simulation. These are done in separate cells since OpenMM is quite slow on CPUs so you may not want to run the simulation on your computer if you are using a CPU.\n",
    "\n",
    "## Finalize prep and energy minimize\n"
   ]
  },
  {
   "cell_type": "code",
   "execution_count": 20,
   "metadata": {},
   "outputs": [
    {
     "name": "stdout",
     "output_type": "stream",
     "text": [
      "Energy before minimization (kcal/mol): 5.1e+02\n",
      "Energy after minimization (kcal/mol): -1.5e+04\n"
     ]
    }
   ],
   "source": [
    "import simtk.openmm as openmm\n",
    "\n",
    "# Even though we're just going to minimize, we still have to set up an integrator, since a Simulation needs one\n",
    "integrator = openmm.VerletIntegrator(2.0*unit.femtoseconds)\n",
    "# Prep the Simulation using the parameterized system, the integrator, and the topology\n",
    "simulation = app.Simulation(fixer.topology, system, integrator)\n",
    "# Copy in the positions\n",
    "simulation.context.setPositions( fixer.positions) \n",
    "\n",
    "# Get initial state and energy; print\n",
    "state = simulation.context.getState(getEnergy = True)\n",
    "energy = state.getPotentialEnergy() / unit.kilocalories_per_mole\n",
    "print(\"Energy before minimization (kcal/mol): %.2g\" % energy)\n",
    "\n",
    "# Minimize, get final state and energy and print\n",
    "simulation.minimizeEnergy()\n",
    "state = simulation.context.getState(getEnergy=True, getPositions=True)\n",
    "energy = state.getPotentialEnergy() / unit.kilocalories_per_mole\n",
    "print(\"Energy after minimization (kcal/mol): %.2g\" % energy)\n",
    "newpositions = state.getPositions()"
   ]
  },
  {
   "cell_type": "markdown",
   "metadata": {},
   "source": [
    "## Run an MD simulation of a few steps, storing a trajectory for visualization"
   ]
  },
  {
   "cell_type": "code",
   "execution_count": 21,
   "metadata": {},
   "outputs": [
    {
     "name": "stdout",
     "output_type": "stream",
     "text": [
      "Starting simulation\n",
      "Elapsed time 0.64 seconds\n",
      "Done!\n"
     ]
    }
   ],
   "source": [
    "# Set up NetCDF reporter for storing trajectory; prep for Langevin dynamics\n",
    "import time\n",
    "from mdtraj.reporters import NetCDFReporter\n",
    "integrator = openmm.LangevinIntegrator(300*unit.kelvin, 1./unit.picosecond, 2.*unit.femtoseconds)\n",
    "\n",
    "# Prep Simulation\n",
    "simulation = app.Simulation(fixer.topology, system, integrator)\n",
    "# Copy in minimized positions\n",
    "simulation.context.setPositions(newpositions)\n",
    "\n",
    "# Initialize velocities to correct temperature\n",
    "simulation.context.setVelocitiesToTemperature(300*unit.kelvin)\n",
    "# Set up to write trajectory file to NetCDF file in data directory every 100 frames\n",
    "netcdf_reporter = NetCDFReporter(os.path.join(datadir, 'trajectory.nc'), 100) #Store every 100 frames\n",
    "# Initialize reporters, including a CSV file to store certain stats every 100 frames\n",
    "simulation.reporters.append(netcdf_reporter)\n",
    "simulation.reporters.append(app.StateDataReporter(os.path.join(datadir, 'data.csv'), 100, step=True, potentialEnergy=True, temperature=True, density=True))\n",
    "\n",
    "# Run the simulation and print start info; store timing\n",
    "print(\"Starting simulation\")\n",
    "start = time.process_time()\n",
    "simulation.step(1000) #1000 steps of dynamics\n",
    "end = time.process_time()\n",
    "\n",
    "# Print elapsed time info, finalize trajectory file\n",
    "print(\"Elapsed time %.2f seconds\"%(end-start))\n",
    "netcdf_reporter.close()\n",
    "print(\"Done!\")"
   ]
  },
  {
   "cell_type": "code",
   "execution_count": 22,
   "metadata": {},
   "outputs": [
    {
     "data": {
      "application/vnd.jupyter.widget-view+json": {
       "model_id": "23118fd378dc4f24abf71a7031a26de0",
       "version_major": 2,
       "version_minor": 0
      },
      "text/plain": [
       "NGLWidget(max_frame=9)"
      ]
     },
     "metadata": {},
     "output_type": "display_data"
    }
   ],
   "source": [
    "# Load stored trajectory using MDTraj; the trajectory doesn't contain chemistry info so we also load a PDB\n",
    "traj= mdtraj.load(os.path.join(datadir, 'trajectory.nc'), top=os.path.join(datadir, 'complex_solvated.pdb'))\n",
    "\n",
    "#Recenter/impose periodicity to the system\n",
    "anchor = traj.top.guess_anchor_molecules()[0]\n",
    "imgd = traj.image_molecules(anchor_molecules=[anchor])\n",
    "traj.center_coordinates()\n",
    "\n",
    "# View the trajectory\n",
    "view = nglview.show_mdtraj(traj)\n",
    "# I haven't totally figured out nglview's selection language for our purposes here, so I'm just showing two residues\n",
    "# which seems (in this case) to include the host and guest plus an ion (?). \n",
    "view.add_licorice('1-2')\n",
    "view"
   ]
  },
  {
   "cell_type": "code",
   "execution_count": null,
   "metadata": {},
   "outputs": [],
   "source": [
    "# Save centered trajectory for viewing elsewhere\n",
    "traj.save_netcdf(os.path.join(datadir, 'trajectory_centered.nc'))"
   ]
  },
  {
   "cell_type": "markdown",
   "metadata": {},
   "source": [
    "## Other things to try\n",
    "\n",
    "The full SAMPL7 challenge inputs are available online on GitHub for the octa acid and exoOA systems, as well as the results from other participants. Some simple things you could do as a spinoff from this notebook would be:\n",
    "- Dock all of the SAMPL7 guests to this host and compare their scores. How do these agree with the experimental results for binding affinities?\n",
    "- Dock all of the SAMPL7 guests to this host and then energy minimize. How do the resulting scores agree with experimental results for binding affinities?\n",
    "- Do a short simulation for each guest and THEN energy minimize; compare with scores before simulating.\n",
    "\n",
    "Possibly, none of these will work that well for ranking, but it would be interesting to see how they compare with the SAMPL7 results. See https://github.com/samplchallenges/SAMPL7/blob/master/host_guest/Analysis/ExperimentalMeasurements/experimental_measurements.csv for experimental values, and see also elsewhere in the Analysis directory for the other results of participants."
   ]
  },
  {
   "cell_type": "code",
   "execution_count": null,
   "metadata": {},
   "outputs": [],
   "source": [
    "#Insert code to try those here, if desired."
   ]
  }
 ],
 "metadata": {
  "anaconda-cloud": {},
  "kernelspec": {
   "display_name": "Python [conda env:drugcomp] *",
   "language": "python",
   "name": "conda-env-drugcomp-py"
  },
  "language_info": {
   "codemirror_mode": {
    "name": "ipython",
    "version": 3
   },
   "file_extension": ".py",
   "mimetype": "text/x-python",
   "name": "python",
   "nbconvert_exporter": "python",
   "pygments_lexer": "ipython3",
   "version": "3.8.12"
  },
  "toc": {
   "nav_menu": {},
   "number_sections": true,
   "sideBar": true,
   "skip_h1_title": false,
   "toc_cell": false,
   "toc_position": {},
   "toc_section_display": "block",
   "toc_window_display": false
  }
 },
 "nbformat": 4,
 "nbformat_minor": 1
}
