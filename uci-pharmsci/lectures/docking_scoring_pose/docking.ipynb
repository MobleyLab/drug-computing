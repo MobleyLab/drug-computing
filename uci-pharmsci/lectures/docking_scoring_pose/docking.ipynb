{
 "cells": [
  {
   "cell_type": "markdown",
   "metadata": {
    "slideshow": {
     "slide_type": "skip"
    }
   },
   "source": [
    "# PharmSci 175/275 (UCI)\n",
    "## What is this?? \n",
    "The material below is an instructional session/lecture on docking, scoring and pose prediction from Drug Discovery Computing Techniques, PharmSci 175/275 at UC Irvine. \n",
    "Extensive materials for this course, as well as extensive background and related materials, are available on the course GitHub repository: [github.com/mobleylab/drug-computing](https://github.com/mobleylab/drug-computing)\n",
    "\n",
    "This material is a set of slides intended for presentation with RISE as detailed [in the course materials on GitHub](https://github.com/MobleyLab/drug-computing/tree/master/uci-pharmsci/lectures/energy_minimization). While it may be useful without RISE, it will also likely appear somewhat less verbose than it would if it were intended for use in written form."
   ]
  },
  {
   "cell_type": "markdown",
   "metadata": {
    "slideshow": {
     "slide_type": "slide"
    }
   },
   "source": [
    "# Molecules, 3D structure, and shape\n",
    "\n",
    "Today: Docking and scoring, pose prediction, etc.\n",
    "\n",
    "### Instructor: David L. Mobley\n",
    "\n",
    "### Contributors to today's materials:\n",
    "- David L. Mobley"
   ]
  },
  {
   "cell_type": "markdown",
   "metadata": {
    "slideshow": {
     "slide_type": "slide"
    }
   },
   "source": [
    "# Drug discovery is often partly about finding inhibitors, as these can make good drugs\n",
    "\n",
    "<center><img src=\"images/BCLXL_peptide.png\" alt=\"GitHub\" style=\"width: 600px;\"/></center>\n",
    "Anticancer target BCL-XL; green (part of larger protein) and gray bind; goal: Free up green to perform important function in apoptosis, so need something else which binds this cleft.\n",
    "\n",
    "(Fesik et al., Nature Reviews: Cancer, 5:876; Oltersdorf et al., Nature 435:677)"
   ]
  },
  {
   "cell_type": "markdown",
   "metadata": {
    "slideshow": {
     "slide_type": "subslide"
    }
   },
   "source": [
    "## Small molecules can mimic binding partners\n",
    "\n",
    "\n",
    "<center><img src=\"images/BCLXL_ligand.png\" alt=\"GitHub\" style=\"width: 600px;\"/></center>\n",
    "Here, a green compound binds in the same cleft; potential anti-cancer drug.\n",
    "\n",
    "(Fesik et al., Nature Reviews: Cancer, 5:876; Oltersdorf et al., Nature 435:677)"
   ]
  },
  {
   "cell_type": "code",
   "execution_count": 1,
   "metadata": {
    "slideshow": {
     "slide_type": "slide"
    }
   },
   "outputs": [],
   "source": [
    "from IPython.display import HTML"
   ]
  },
  {
   "cell_type": "markdown",
   "metadata": {
    "slideshow": {
     "slide_type": "fragment"
    }
   },
   "source": [
    "$\\Delta G = -k_B T \\ln \\frac{ Q_{PL}}{Q_P Q_L}$"
   ]
  },
  {
   "cell_type": "code",
   "execution_count": 2,
   "metadata": {
    "slideshow": {
     "slide_type": "fragment"
    }
   },
   "outputs": [
    {
     "data": {
      "text/html": [
       "<video autoplay width='400'>\n",
       "  <source src=\"images/IL2_complex-5-104.mov\" type=\"video/quicktime\">\n",
       "</video>\n",
       "<video autoplay width='400'>\n",
       "  <source src=\"images/IL2_protein-5-106.mov\" type=\"video/quicktime\">\n",
       "</video>\n",
       "<video autoplay width='400'>\n",
       "  <source src=\"images/IL2_ligand-5-108.mov\" type=\"video/quicktime\">\n",
       "</video>\n"
      ],
      "text/plain": [
       "<IPython.core.display.HTML object>"
      ]
     },
     "metadata": {},
     "output_type": "display_data"
    }
   ],
   "source": [
    "%%HTML\n",
    "<video autoplay width='400'>\n",
    "  <source src=\"images/IL2_complex-5-104.mov\" type=\"video/quicktime\">\n",
    "</video>\n",
    "<video autoplay width='400'>\n",
    "  <source src=\"images/IL2_protein-5-106.mov\" type=\"video/quicktime\">\n",
    "</video>\n",
    "<video autoplay width='400'>\n",
    "  <source src=\"images/IL2_ligand-5-108.mov\" type=\"video/quicktime\">\n",
    "</video>\n"
   ]
  },
  {
   "cell_type": "markdown",
   "metadata": {
    "slideshow": {
     "slide_type": "fragment"
    }
   },
   "source": [
    "Binding free energy involves a weighted sum over all the relevant configurations of the systems involved."
   ]
  },
  {
   "cell_type": "markdown",
   "metadata": {
    "slideshow": {
     "slide_type": "slide"
    }
   },
   "source": [
    "## Docking treats binding mode and score as separate problems, requires thinking of binding modes as single orientations/placements\n",
    "\n",
    "Instead of $\\Delta G = \\Delta H - T\\Delta S$, docking usually takes $\\Delta G \\approx \\Delta H$:\n",
    "- Score $\\approx \\Delta H$\n",
    "- Sometimes adds $-\\Delta G_{solv}$\n",
    "- Uses \"optimal\" single orientations\n",
    "\n",
    "<center><img src=\"images/binding.png\" alt=\"binding\" style=\"width: 600px;\"/></center>"
   ]
  },
  {
   "cell_type": "markdown",
   "metadata": {
    "slideshow": {
     "slide_type": "slide"
    }
   },
   "source": [
    "# Virtual screening provides the computational alternative to experimental high-throughput screening\n",
    "\n",
    "<center><img src=\"https://media.nature.com/lw926/nature-assets/nature/journal/v432/n7019/images/nature03197-f2.2.jpg\" alt=\"screening\" style=\"width: 900px;\"/></center>\n",
    "\n",
    "(Shoichet, Nature 432:862 (2004))"
   ]
  },
  {
   "cell_type": "markdown",
   "metadata": {
    "slideshow": {
     "slide_type": "subslide"
    }
   },
   "source": [
    "## Virtual screening has different strengths and weaknesses\n",
    "\n",
    "<p float=\"left\">\n",
    "\n",
    "<img  align=\"left\" src=\"https://media.nature.com/lw926/nature-assets/nature/journal/v432/n7019/images/nature03197-f2.2.jpg\" alt=\"screening\" style=\"width: 400px;\"/> \n",
    "</p>\n",
    "- false negatives and false positives are different, at (probably) higher rates\n",
    "- Requires experimental confirmation\n",
    "- Strengths: New chemistry, new compounds. \n",
    "  - Different hits\n",
    "  - Fast\n",
    "  - Perhaps higher hit rates?"
   ]
  },
  {
   "cell_type": "markdown",
   "metadata": {
    "slideshow": {
     "slide_type": "subslide"
    }
   },
   "source": [
    "## Docking scores are somewhat arbitrary\n",
    "- Convention: Lower score is better (like free energy/enthalpy of binding)\n",
    "- Docking scores don't predict binding affinity (see e.g. work of Warren et al., J Med Chem).\n",
    "- Usually they have a somewhat arbitrary scale, aren't really energies\n",
    "- Some programs assign energy units and attempt to scale to correct range (but probably not trustworthy)"
   ]
  },
  {
   "cell_type": "markdown",
   "metadata": {
    "slideshow": {
     "slide_type": "subslide"
    }
   },
   "source": [
    "### So it's not uncommon to see scores that are driven by choice of receptor\n",
    "\n",
    "<p float=\"right\">\n",
    "<img  align=\"right\" src=\"images/rec1.png\" alt=\"screening\" style=\"width: 100px;\"/> \n",
    "<img  align=\"right\" src=\"images/rec2.png\" alt=\"screening\" style=\"width: 100px;\"/> \n",
    "</p>"
   ]
  },
  {
   "cell_type": "code",
   "execution_count": 3,
   "metadata": {
    "slideshow": {
     "slide_type": "fragment"
    }
   },
   "outputs": [
    {
     "name": "stdout",
     "output_type": "stream",
     "text": [
      "Populating the interactive namespace from numpy and matplotlib\n"
     ]
    },
    {
     "data": {
      "image/png": "[encoded data removed]",
      "text/plain": [
       "<Figure size 432x288 with 1 Axes>"
      ]
     },
     "metadata": {
      "needs_background": "light"
     },
     "output_type": "display_data"
    }
   ],
   "source": [
    "rec1_scores = [-25, -22, -20, -17, -16, 20, 25, 26, 27, 29, 33]\n",
    "rec2_scores = [  1,   2,    3,  4,   5,  6,  8,  9, 10,  25, 30 ]\n",
    "%pylab inline\n",
    "plot(rec1_scores, 'ro')\n",
    "plot(rec2_scores, 'gd')\n",
    "ylabel('Score'), xlabel('Compound number')\n",
    "show()"
   ]
  },
  {
   "cell_type": "markdown",
   "metadata": {
    "slideshow": {
     "slide_type": "subslide"
    }
   },
   "source": [
    "### So don't use docking to try and predict the receptor\n",
    "- Score scales are arbitrary\n",
    "- Score zeros are arbitrary\n",
    "- Score range/scale depends on receptor, so don't compare scores across receptors or across mutants of a single receptor"
   ]
  },
  {
   "cell_type": "markdown",
   "metadata": {
    "slideshow": {
     "slide_type": "slide"
    }
   },
   "source": [
    "## Several major classes of scoring function see common use\n",
    "- Force field-based: Use similar FFs to molecular dynamics, perhaps with empirical modifications (e.g. D-Score, G-Score, GOLD, AutoDock, DOCK, ...)\n",
    "- Knowledge-based: Use statistical potentials (PMF, SMoG, DrugScore, ...)\n",
    "- Empirical: Fitted to reproduce particular properties (LUDI, F-Score, ChemScore, SCORE, Fresno, X-Score, GLIDE (?))\n",
    "- Conensus scoring: Combine multiple approaches in a \"voting\" type way, e.g. take top hits from several methods\n",
    "(see e.g. Kitchen et al., NRDD 3:935 (2004))\n",
    "\n",
    "There is no single best approach; all have strengths and weaknesses and success will depend on target.\n",
    "\n"
   ]
  },
  {
   "cell_type": "markdown",
   "metadata": {
    "slideshow": {
     "slide_type": "subslide"
    }
   },
   "source": [
    "## Docking is best understood as a good filtering tool\n",
    "\n",
    "It works well for filtering out compounds that simply cannot fit in a binding site, or are likely to have very poor interactions there.\n",
    "It is not a reliable predictor of potent compounds.\n",
    "\n",
    "So, for example, we might see:"
   ]
  },
  {
   "cell_type": "code",
   "execution_count": 4,
   "metadata": {
    "slideshow": {
     "slide_type": "fragment"
    }
   },
   "outputs": [
    {
     "name": "stdout",
     "output_type": "stream",
     "text": [
      "Populating the interactive namespace from numpy and matplotlib\n"
     ]
    },
    {
     "data": {
      "image/png": "[encoded data removed]",
      "text/plain": [
       "<Figure size 432x288 with 1 Axes>"
      ]
     },
     "metadata": {
      "needs_background": "light"
     },
     "output_type": "display_data"
    }
   ],
   "source": [
    "rec1_scores = [-25, -22, -20, -17, -16, 20, 25, 26, 27, 29, 33]\n",
    "%pylab inline\n",
    "plot(rec1_scores, 'ro')\n",
    "ylabel('Score'), xlabel('Compound number')\n",
    "show()"
   ]
  },
  {
   "cell_type": "markdown",
   "metadata": {
    "slideshow": {
     "slide_type": "fragment"
    }
   },
   "source": [
    "We would then likely filter out compounds with the least favorable scores (above 10) and be interested in the rest.\n",
    "(In reality we would do this on far more compounds)."
   ]
  },
  {
   "cell_type": "markdown",
   "metadata": {
    "slideshow": {
     "slide_type": "slide"
    }
   },
   "source": [
    "## Docking performs poorly at binding strength prediction: It's just not designed to do that\n",
    "\n",
    "- docking can't reliably calculate binding strength, or even relative binding strengths\n",
    "- see Warren et al, JMC. 49:5912 (2005) (data plotted here is from SI); also Velec et al., JMC. 48:6296 (2005),  Huang et al., JMC. 49:6789 (2006)\n",
    "\n",
    "\n",
    "<p float=\"left\">\n",
    "<img  align=\"left\" src=\"images/Warren_example_data.png\" alt=\"screening\" style=\"width: 700px;\"/> \n",
    "</p>\n",
    "\n",
    "\n"
   ]
  },
  {
   "cell_type": "markdown",
   "metadata": {
    "slideshow": {
     "slide_type": "slide"
    }
   },
   "source": [
    "# (Need to continue converting slides to Jupyter notebook format here)"
   ]
  },
  {
   "cell_type": "code",
   "execution_count": null,
   "metadata": {},
   "outputs": [],
   "source": []
  }
 ],
 "metadata": {
  "celltoolbar": "Slideshow",
  "kernelspec": {
   "display_name": "Python [conda env:drugcomp] *",
   "language": "python",
   "name": "conda-env-drugcomp-py"
  },
  "language_info": {
   "codemirror_mode": {
    "name": "ipython",
    "version": 3
   },
   "file_extension": ".py",
   "mimetype": "text/x-python",
   "name": "python",
   "nbconvert_exporter": "python",
   "pygments_lexer": "ipython3",
   "version": "3.8.12"
  },
  "livereveal": {
   "height": 900,
   "start_slideshow_at": "selected",
   "width": 1440
  },
  "toc": {
   "nav_menu": {},
   "number_sections": true,
   "sideBar": true,
   "skip_h1_title": false,
   "toc_cell": false,
   "toc_position": {},
   "toc_section_display": "block",
   "toc_window_display": false
  }
 },
 "nbformat": 4,
 "nbformat_minor": 2
}
