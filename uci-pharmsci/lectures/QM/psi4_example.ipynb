{
 "cells": [
  {
   "cell_type": "markdown",
   "metadata": {},
   "source": [
    "# PharmSci 175/275 (UCI)\n",
    "## What is this?? \n",
    "The material below is a supplement to the quantum mechanics (QM) lecture from Drug Discovery Computing Techniques, PharmSci 175/275 at UC Irvine. \n",
    "Extensive materials for this course, as well as extensive background and related materials, are available on the course GitHub repository: [github.com/mobleylab/drug-computing](https://github.com/mobleylab/drug-computing)"
   ]
  },
  {
   "cell_type": "markdown",
   "metadata": {},
   "source": [
    "# Using QM in Python\n",
    "\n",
    "This material adapted (under CC-BY) from a [workshop example](https://github.com/QCMM/workshop2017/blob/master/Theory_electronic_structure_day3/i_inter_es.ipynb) of Stefano Vogt-Giesse (University of Concepcion) from the December, 2017 QCMM workshop in Chile, available under the [workshop repository](https://github.com/QCMM/workshop2017)\n",
    "\n",
    "### Instructor: David L. Mobley\n",
    "\n",
    "### Contributors to these materials:\n",
    "- Stefano Vogt-Giesse\n",
    "- David L. Mobley"
   ]
  },
  {
   "cell_type": "markdown",
   "metadata": {},
   "source": [
    "## Choose whether to run under Google Colab or locally\n",
    "\n",
    "You need to do different preparation to run this notebook locally vs Google Colab; skip to the appropriate section following depending on which you choose.\n",
    "\n",
    "**In 2023 Psi4 seems not to be working with Colab because of issue with base conda and Colab environments; it can only be run locally.**"
   ]
  },
  {
   "cell_type": "markdown",
   "metadata": {},
   "source": [
    "## ~Preparation for using Google Colab (SKIP IF RUNNING LOCALLY))~\n",
    "## (Not working in Colab in 2023)\n",
    "\n",
    "[![Open in Colab](https://colab.research.google.com/assets/colab-badge.svg)](https://colab.research.google.com/github/MobleyLab/drug-computing/blob/master/uci-pharmsci/lectures/QM/psi4_example.ipynb)\n",
    "\n",
    "If you are running this on Google Colab, you need to take a couple additional steps of preparation. **Note that these steps may take 5-10 minutes to complete.**\n",
    "\n",
    "Psi4 installs via `conda`, not pip, so you will need to get conda set up on Colab: "
   ]
  },
  {
   "cell_type": "code",
   "execution_count": null,
   "metadata": {},
   "outputs": [],
   "source": [
    "! wget https://repo.anaconda.com/miniconda/Miniconda3-py37_4.10.3-Linux-x86_64.sh\n",
    "! chmod +x Miniconda3-py37_4.10.3-Linux-x86_64.sh\n",
    "! bash ./Miniconda3-py37_4.10.3-Linux-x86_64.sh -b -f -p /usr/local\n",
    "import sys\n",
    "sys.path.append('/usr/local/lib/python3.7/site-packages/')"
   ]
  },
  {
   "cell_type": "markdown",
   "metadata": {},
   "source": [
    "Then `conda`-install psi4:"
   ]
  },
  {
   "cell_type": "code",
   "execution_count": null,
   "metadata": {},
   "outputs": [],
   "source": [
    "!conda install -c psi4 psi4 --yes"
   ]
  },
  {
   "cell_type": "markdown",
   "metadata": {},
   "source": [
    "## Preparation for running locally (SKIP IF RUNNING USING COLAB)"
   ]
  },
  {
   "cell_type": "markdown",
   "metadata": {},
   "source": [
    "For today's activity we will use the package of program psi4, so we will need to install it first. Assuming you already have anaconda/miniconda installed, you can install as follows (in a new conda environment, `psi4`:\n",
    "\n",
    "\n",
    "**conda create -n psi4 psi4 psi4-rt jupyter matplotlib -c psi4/label/dev -c psi4**\n",
    "\n",
    "(Note psi4 seems to be somewhat incompatible with the other software we are using in this course, so a separate environment is needed.)\n",
    "\n",
    "This will install all the psi4 binaries and a python module which can be imported from the notebook. Then activate the environment via `conda activate psi4`.\n",
    "\n",
    "You also need to ensure it works in your jupyter notebook, which you can do via (in the terminal, with your `psi4` environment active):\n",
    "```\n",
    "conda install ipykernel --name psi4\n",
    "python -m ipykernel install --user\n",
    "ipython kernel install --name psi4 --user\n",
    "```\n",
    "\n",
    "To finish the installation you need to provide a scratch directory in your environment (e.g. your `~/.zshrc` or `~/.bash_profile`), for example (assuming you want your scratch directory in this space):\n",
    "\n",
    "**export PSI_SCRATCH=/home/user_name/scratch/psi4**\n",
    "\n",
    "Then type `source ~/.zshrc` or similar. Now you may open jupyter-notebook and install psi4.\n",
    "\n",
    "Every time you wish to use psi4 you will need to `conda activate psi4`."
   ]
  },
  {
   "cell_type": "markdown",
   "metadata": {},
   "source": [
    "# Exploring molecular interactions using electronic structure methods."
   ]
  },
  {
   "cell_type": "code",
   "execution_count": 1,
   "metadata": {},
   "outputs": [],
   "source": [
    "import psi4 \n",
    "import numpy as np"
   ]
  },
  {
   "cell_type": "markdown",
   "metadata": {},
   "source": [
    "# 1. Compute the energy of a diatomic molecule\n",
    "\n",
    "\n",
    "As a first example we will compute the scf energy of the diatómic molecule hydrogen flouride (HF):\n"
   ]
  },
  {
   "cell_type": "code",
   "execution_count": 2,
   "metadata": {},
   "outputs": [
    {
     "name": "stdout",
     "output_type": "stream",
     "text": [
      "\n",
      "  Memory set to 476.837 MiB by Python driver.\n",
      "-100.34290633086775\n"
     ]
    }
   ],
   "source": [
    "# ==> Basic Psi4 options <==\n",
    "# Memory\n",
    "psi4.set_memory(int(5e8))\n",
    "numpy_memory = 500\n",
    "\n",
    "# Output\n",
    "psi4.core.set_output_file('output.dat', False)\n",
    "\n",
    "# Geometry input\n",
    "hf_mol = psi4.geometry(\"\"\"\n",
    "0 1\n",
    "H\n",
    "F 1 0.917\n",
    "\"\"\")\n",
    "\n",
    "energy_hf_mol , wfn_hf_mol = psi4.energy('mp2/cc-pvtz', return_wfn=True)\n",
    "print(energy_hf_mol) #Energy in Hartrees"
   ]
  },
  {
   "cell_type": "markdown",
   "metadata": {},
   "source": [
    "This corresponds to the MP2/cc-pVTZ energy for this system (HF).  Input coordinates are given in [Z matrix format](https://en.wikipedia.org/wiki/Z-matrix_(chemistry)), using internal coordinates (in this case just a bond distance).\n",
    "\n",
    "\n",
    "### Exercise: Compute the energy of other diatomic molecules using similar methods\n",
    "You might consider computing the energy of of F$_2$ and N$_2$ using the cc-pVDZ and cc-pVTZ methods. "
   ]
  },
  {
   "cell_type": "markdown",
   "metadata": {},
   "source": [
    "# 2. Compute the dipole moment of diatomic molecules"
   ]
  },
  {
   "cell_type": "markdown",
   "metadata": {},
   "source": [
    "Since we are intrested in studying long range  molecular interactions using classical elctrodynamics, it is necessary \n",
    "to compute the dipole and quadrupole moments. Quantum mechanically the dipole can be computed using the one electron dipole operator:\n",
    "\n",
    "\\begin{equation}\n",
    "\\hat{\\mu} = \\sum_i q_i r_i \n",
    "\\end{equation}\n",
    "\n",
    "where $q_i$ is the charge of the particle and $r_i$ is the position vector of the particle.  The dipole moment can be computed using the wavefunction through the expectation value of the operator $\\mu$.\n",
    "\n",
    "\\begin{equation}\n",
    "\\mu = <\\psi|\\hat{\\mu}|\\psi> \n",
    "\\end{equation}\n",
    "\n",
    "In psi4 we can obtain the dipole moment from the wafefunction object that was defined above"
   ]
  },
  {
   "cell_type": "code",
   "execution_count": 14,
   "metadata": {},
   "outputs": [],
   "source": [
    "psi4.oeprop(wfn_hf_mol, 'DIPOLE', 'QUADRUPOLE', title='HF SCF')\n",
    "\n",
    "mux,muy,muz = psi4.core.variable('SCF DIPOLE') # in au"
   ]
  },
  {
   "cell_type": "code",
   "execution_count": 16,
   "metadata": {},
   "outputs": [
    {
     "name": "stdout",
     "output_type": "stream",
     "text": [
      "0.0 -0.7637091437252532\n",
      "0.7637091437252532\n"
     ]
    }
   ],
   "source": [
    "print(mux,muz)\n",
    "mu = (np.sqrt(mux**2 + muy**2 + muz**2))\n",
    "print(mu)"
   ]
  },
  {
   "cell_type": "markdown",
   "metadata": {
    "collapsed": true
   },
   "source": [
    "# 3.  Compute a potential energy surface of HF dimer.\n",
    "\n",
    "In order to study the physical interactions between two molecules it is convinient to draw \n",
    "a potential energy surface along the interaction coordinate. In this section we will \n",
    "obtain a potential energy profile for the most favorable dipole-dipole interaction, which is the \n",
    "horizontal orientation with oposing dipole vectors, HF---FH. First we need to define a list containing \n",
    "the distances between both dimers for which the energy will be obtained."
   ]
  },
  {
   "cell_type": "code",
   "execution_count": 17,
   "metadata": {},
   "outputs": [],
   "source": [
    "hf_dimer = psi4.geometry(\"\"\"\n",
    "        0 1\n",
    "        H\n",
    "        F 1 0.917\n",
    "        H 2 R 1 180.0\n",
    "        F 3 0.917 2 180.0 1 0.0\n",
    "        \"\"\")"
   ]
  },
  {
   "cell_type": "markdown",
   "metadata": {},
   "source": [
    "Next, we write a loop and in each step of the loop we compute the energy at the mp4 level of theory. "
   ]
  },
  {
   "cell_type": "code",
   "execution_count": 18,
   "metadata": {},
   "outputs": [
    {
     "name": "stdout",
     "output_type": "stream",
     "text": [
      "-200.11594007613314\n",
      "1.5\n",
      "-200.11908196505175\n",
      "1.6\n",
      "-200.1208451109971\n",
      "1.7000000000000002\n",
      "-200.12174182364856\n",
      "1.8000000000000003\n",
      "-200.12210646362394\n",
      "1.9000000000000004\n",
      "-200.1221474063725\n",
      "2.0000000000000004\n",
      "-200.1219912871685\n",
      "2.1000000000000005\n",
      "-200.1217185552987\n",
      "2.2000000000000006\n",
      "-200.12138348389539\n",
      "2.3000000000000007\n",
      "-200.12102248369683\n",
      "2.400000000000001\n",
      "-200.1206584432281\n",
      "2.500000000000001\n",
      "-200.12030471983283\n",
      "2.600000000000001\n",
      "-200.1199687024232\n",
      "2.700000000000001\n",
      "-200.11965427235785\n",
      "2.800000000000001\n",
      "-200.11936321369242\n",
      "2.9000000000000012\n",
      "-200.11909600301817\n",
      "3.0000000000000013\n",
      "-200.11885228615185\n",
      "3.1000000000000014\n",
      "-200.11863115920642\n",
      "3.2000000000000015\n",
      "-200.11843131726118\n",
      "3.3000000000000016\n",
      "-200.11825114714745\n",
      "3.4000000000000017\n",
      "-200.11808882795285\n",
      "3.5000000000000018\n",
      "-200.11794245730707\n",
      "3.600000000000002\n",
      "-200.11781018216803\n",
      "3.700000000000002\n",
      "-200.11769030211752\n",
      "3.800000000000002\n",
      "-200.11758132585237\n",
      "3.900000000000002\n",
      "-200.11748198152014\n",
      "4.000000000000002\n",
      "-200.1173911949508\n",
      "4.100000000000002\n",
      "-200.11730805348722\n",
      "4.200000000000003\n",
      "-200.11723176950576\n",
      "4.3000000000000025\n",
      "-200.1171616512126\n",
      "4.400000000000002\n",
      "-200.11709708268864\n",
      "4.500000000000003\n",
      "-200.11703751179087\n",
      "4.600000000000003\n",
      "-200.11698244304677\n",
      "4.700000000000003\n",
      "-200.1169314331169\n",
      "4.8000000000000025\n",
      "-200.11688408717902\n",
      "4.900000000000003\n",
      "-200.1168400551662\n",
      "5.0000000000000036\n",
      "-200.11679902773744\n",
      "5.100000000000003\n",
      "-200.1167607319615\n",
      "5.200000000000003\n",
      "-200.11672492703752\n",
      "5.300000000000003\n",
      "-200.11669140006444\n",
      "5.400000000000004\n",
      "-200.11665996227507\n",
      "5.5000000000000036\n",
      "-200.11663044566535\n",
      "5.600000000000003\n",
      "-200.116602699991\n",
      "5.700000000000004\n",
      "-200.11657659038093\n",
      "5.800000000000004\n",
      "-200.11655199515045\n",
      "5.900000000000004\n",
      "-200.11652880413374\n",
      "6.0000000000000036\n",
      "-200.11650691722784\n",
      "6.100000000000004\n",
      "-200.11648624315504\n",
      "6.200000000000005\n",
      "-200.11646669847886\n",
      "6.300000000000004\n",
      "-200.11644820673894\n",
      "6.400000000000004\n",
      "-200.11643069772828\n",
      "6.500000000000004\n",
      "-200.11641410687432\n",
      "6.600000000000005\n",
      "-200.1163983746511\n",
      "6.700000000000005\n",
      "-200.11638344617083\n",
      "6.800000000000004\n",
      "-200.11636927070484\n",
      "6.900000000000005\n",
      "-200.11635580133773\n",
      "7.000000000000005\n",
      "-200.11634299461014\n",
      "7.100000000000005\n",
      "-200.11633081027006\n",
      "7.200000000000005\n",
      "-200.116319210953\n",
      "7.300000000000005\n",
      "-200.116308161936\n",
      "7.400000000000006\n",
      "-200.1162976309706\n",
      "7.500000000000005\n",
      "-200.11628758805819\n",
      "7.600000000000005\n",
      "-200.1162780052221\n",
      "7.7000000000000055\n",
      "-200.11626885641707\n",
      "7.800000000000006\n",
      "-200.1162601173495\n",
      "7.900000000000006\n",
      "-200.11625176531834\n",
      "8.000000000000005\n",
      "-200.11624377915217\n",
      "8.100000000000005\n",
      "-200.1162361390147\n",
      "8.200000000000006\n",
      "-200.11622882636743\n",
      "8.300000000000006\n",
      "-200.11622182385352\n",
      "8.400000000000006\n",
      "-200.1162151151996\n",
      "8.500000000000007\n",
      "-200.1162086851516\n",
      "8.600000000000007\n",
      "-200.11620251939738\n",
      "8.700000000000006\n",
      "-200.1161966044824\n",
      "8.800000000000006\n",
      "-200.11619092779998\n",
      "8.900000000000006\n",
      "-200.116185477471\n",
      "9.000000000000007\n",
      "-200.1161802423047\n",
      "9.100000000000007\n",
      "-200.1161752118004\n",
      "9.200000000000006\n",
      "-200.1161703760623\n",
      "9.300000000000008\n",
      "-200.11616572574127\n",
      "9.400000000000007\n",
      "-200.11616125203227\n",
      "9.500000000000007\n",
      "-200.11615694665392\n",
      "9.600000000000007\n",
      "-200.11615280174254\n",
      "9.700000000000006\n",
      "-200.11614880989308\n",
      "9.800000000000008\n",
      "-200.11614496410525\n",
      "9.900000000000007\n"
     ]
    }
   ],
   "source": [
    "energy = []\n",
    "dist   = []\n",
    "\n",
    "Rval = np.arange(1.5,10.0,0.1)\n",
    "\n",
    "for d in Rval:\n",
    "    hf_dimer.R = d\n",
    "    psi4.set_options({'freeze_core': 'True'})\n",
    "    en = psi4.energy('scf/cc-pvtz')\n",
    "    print(en)\n",
    "    print(d)\n",
    "    energy.append(en)\n",
    "    dist.append(d)\n"
   ]
  },
  {
   "cell_type": "markdown",
   "metadata": {},
   "source": [
    "Now we are ready to plot the potential energy profile. We will use the matplotlib python library for this \n",
    "purpose. The function `ref_zero_kcal` transforms the energy which is in Hartee to kcal/mol and takes the \n",
    "energy of the dimer with the farthest separation as the reference energy."
   ]
  },
  {
   "cell_type": "code",
   "execution_count": 19,
   "metadata": {},
   "outputs": [],
   "source": [
    "import matplotlib.pyplot as plt\n",
    "%matplotlib inline"
   ]
  },
  {
   "cell_type": "code",
   "execution_count": 20,
   "metadata": {},
   "outputs": [
    {
     "data": {
      "text/plain": [
       "Text(0, 0.5, 'Energy (kcal/mol)')"
      ]
     },
     "execution_count": 20,
     "metadata": {},
     "output_type": "execute_result"
    },
    {
     "data": {
      "image/png": "[encoded data removed]",
      "text/plain": [
       "<Figure size 640x480 with 1 Axes>"
      ]
     },
     "metadata": {},
     "output_type": "display_data"
    }
   ],
   "source": [
    "def ref_zero_kcal(en_list):\n",
    "    energy_kcal = []\n",
    "    for x in range(len(en_list)):\n",
    "        energy_kcal.append((en_list[x] - en_list[-1])*627.51)\n",
    "    return energy_kcal\n",
    "\n",
    "\n",
    "energy_kcal = ref_zero_kcal(energy)    \n",
    "plt.plot(dist,energy_kcal)\n",
    "plt.xlabel('Distance')\n",
    "plt.ylabel('Energy (kcal/mol)')"
   ]
  },
  {
   "cell_type": "markdown",
   "metadata": {},
   "source": [
    "There are many more examples/tutorials in the Psi4 GitHub repositories, especially see `Tutorials` under the (psi4numpy repository](https://github.com/psi4/psi4numpy) for many Jupyter notebooks."
   ]
  }
 ],
 "metadata": {
  "kernelspec": {
   "display_name": "psi4",
   "language": "python",
   "name": "psi4"
  },
  "language_info": {
   "codemirror_mode": {
    "name": "ipython",
    "version": 3
   },
   "file_extension": ".py",
   "mimetype": "text/x-python",
   "name": "python",
   "nbconvert_exporter": "python",
   "pygments_lexer": "ipython3",
   "version": "3.9.15"
  },
  "toc": {
   "nav_menu": {},
   "number_sections": true,
   "sideBar": true,
   "skip_h1_title": false,
   "toc_cell": false,
   "toc_position": {},
   "toc_section_display": "block",
   "toc_window_display": false
  }
 },
 "nbformat": 4,
 "nbformat_minor": 2
}
