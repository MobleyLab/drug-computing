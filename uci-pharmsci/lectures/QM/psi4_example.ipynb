{
 "cells": [
  {
   "cell_type": "markdown",
   "metadata": {},
   "source": [
    "# PharmSci 175/275 (UCI)\n",
    "## What is this?? \n",
    "The material below is a supplement to the quantum mechanics (QM) lecture from Drug Discovery Computing Techniques, PharmSci 175/275 at UC Irvine. \n",
    "Extensive materials for this course, as well as extensive background and related materials, are available on the course GitHub repository: [github.com/mobleylab/drug-computing](https://github.com/mobleylab/drug-computing)"
   ]
  },
  {
   "cell_type": "markdown",
   "metadata": {},
   "source": [
    "# Using QM in Python\n",
    "\n",
    "This material adapted (under CC-BY) from a [workshop example](https://github.com/QCMM/workshop2017/blob/master/Theory_electronic_structure_day3/i_inter_es.ipynb) of Stefano Vogt-Giesse (University of Concepcion) from the December, 2017 QCMM workshop in Chile, available under the [workshop repository](https://github.com/QCMM/workshop2017)\n",
    "\n",
    "### Instructor: David L. Mobley\n",
    "\n",
    "### Contributors to these materials:\n",
    "- Stefano Vogt-Giesse\n",
    "- David L. Mobley"
   ]
  },
  {
   "cell_type": "markdown",
   "metadata": {},
   "source": [
    "## Choose whether to run under Google Colab or locally\n",
    "\n",
    "You need to do different preparation to run this notebook locally vs Google Colab; skip to the appropriate section following depending on which you choose."
   ]
  },
  {
   "cell_type": "markdown",
   "metadata": {},
   "source": [
    "## Preparation for using Google Colab (SKIP IF RUNNING LOCALLY))\n",
    "\n",
    "[![Open in Colab](https://colab.research.google.com/assets/colab-badge.svg)](https://colab.research.google.com/github/MobleyLab/drug-computing/blob/master/uci-pharmsci/lectures/QM/psi4_example.ipynb)\n",
    "\n",
    "If you are running this on Google Colab, you need to take a couple additional steps of preparation. **Note that these steps may take 5-10 minutes to complete.**\n",
    "\n",
    "Psi4 installs via `conda`, not pip, so you will need to get conda set up on Colab: "
   ]
  },
  {
   "cell_type": "code",
   "execution_count": null,
   "metadata": {},
   "outputs": [],
   "source": [
    "! wget https://repo.anaconda.com/miniconda/Miniconda3-py37_4.10.3-Linux-x86_64.sh\n",
    "! chmod +x Miniconda3-py37_4.10.3-Linux-x86_64.sh\n",
    "! bash ./Miniconda3-py37_4.10.3-Linux-x86_64.sh -b -f -p /usr/local\n",
    "import sys\n",
    "sys.path.append('/usr/local/lib/python3.7/site-packages/')"
   ]
  },
  {
   "cell_type": "markdown",
   "metadata": {},
   "source": [
    "Then `conda`-install psi4:"
   ]
  },
  {
   "cell_type": "code",
   "execution_count": null,
   "metadata": {},
   "outputs": [],
   "source": [
    "!conda install -c psi4 psi4 --yes"
   ]
  },
  {
   "cell_type": "markdown",
   "metadata": {},
   "source": [
    "## Preparation for running locally (SKIP IF RUNNING USING COLAB)"
   ]
  },
  {
   "cell_type": "markdown",
   "metadata": {},
   "source": [
    "For today's activity we will use the package of program psi4, so we will need to install it first. Assuming you already have anaconda/miniconda installed, you can install as follows (in a new conda environment, `p4env`:\n",
    "\n",
    "\n",
    "**conda create -n psi4 psi4 psi4-rt jupyter matplotlib -c psi4/label/dev -c psi4**\n",
    "\n",
    "(Note psi4 seems to be somewhat incompatible with the other software we are using in this course, so a separate environment is needed.)\n",
    "\n",
    "This will install all the psi4 binaries and a python module which can be imported from the notebook. Then activate the environment via `conda activate psi4`.\n",
    "\n",
    "You also need to ensure it works in your jupyter notebook, which you can do via (in the terminal, with your `psi4` environment active):\n",
    "```\n",
    "conda install ipykernel --name psi4\n",
    "python -m ipykernel install --user\n",
    "```\n",
    "\n",
    "To finish the installation you need to provide a scratch directory in your `~/.bash_profile`, for example (assuming you want your scratch directory in this space):\n",
    "\n",
    "**export PSI_SCRATCH=/home/user_name/scratch/psi4**\n",
    "\n",
    "Then type `source ~/.bash_profile`. Now you may open jupyter-notebook and install psi4.\n",
    "\n",
    "Every time you wish to use psi4 you will need to `conda activate psi4`."
   ]
  },
  {
   "cell_type": "markdown",
   "metadata": {},
   "source": [
    "# Exploring molecular interactions using electronic structure methods."
   ]
  },
  {
   "cell_type": "code",
   "execution_count": null,
   "metadata": {},
   "outputs": [],
   "source": [
    "import psi4 \n",
    "import numpy as np"
   ]
  },
  {
   "cell_type": "markdown",
   "metadata": {},
   "source": [
    "# 1. Compute the energy of a diatomic molecule\n",
    "\n",
    "\n",
    "As a first example we will compute the scf energy of the diatómic molecule hydrogen flouride (HF):\n"
   ]
  },
  {
   "cell_type": "code",
   "execution_count": 2,
   "metadata": {},
   "outputs": [
    {
     "name": "stdout",
     "output_type": "stream",
     "text": [
      "-100.3429063303609\n"
     ]
    }
   ],
   "source": [
    "# ==> Basic Psi4 options <==\n",
    "# Memory\n",
    "psi4.set_memory(int(5e8))\n",
    "numpy_memory = 500\n",
    "\n",
    "# Output\n",
    "psi4.core.set_output_file('output.dat', False)\n",
    "\n",
    "# Geometry input\n",
    "hf_mol = psi4.geometry(\"\"\"\n",
    "0 1\n",
    "H\n",
    "F 1 0.917\n",
    "\"\"\")\n",
    "\n",
    "energy_hf_mol , wfn_hf_mol = psi4.energy('mp2/cc-pvtz', return_wfn=True)\n",
    "print(energy_hf_mol) #Energy in Hartrees"
   ]
  },
  {
   "cell_type": "markdown",
   "metadata": {},
   "source": [
    "This corresponds to the MP2/cc-pVTZ energy for this system (HF).  Input coordinates are given in [Z matrix format](https://en.wikipedia.org/wiki/Z-matrix_(chemistry)), using internal coordinates (in this case just a bond distance).\n",
    "\n",
    "\n",
    "### Exercise: Compute the energy of other diatomic molecules using similar methods\n",
    "You might consider computing the energy of of F$_2$ and N$_2$ using the cc-pVDZ and cc-pVTZ methods. "
   ]
  },
  {
   "cell_type": "markdown",
   "metadata": {},
   "source": [
    "# 2. Compute the dipole and quadrupole moment of diatomic molecules"
   ]
  },
  {
   "cell_type": "markdown",
   "metadata": {},
   "source": [
    "Since we are intrested in studying long range  molecular interactions using classical elctrodynamics, it is necessary \n",
    "to compute the dipole and quadrupole moments. Quantum mechanically the dipole can be computed using the one electron dipole operator:\n",
    "\n",
    "\\begin{equation}\n",
    "\\hat{\\mu} = \\sum_i q_i r_i \n",
    "\\end{equation}\n",
    "\n",
    "where $q_i$ is the charge of the particle and $r_i$ is the position vector of the particle.  The dipole moment can be computed using the wavefunction through the expectation value of the operator $\\mu$.\n",
    "\n",
    "\\begin{equation}\n",
    "\\mu = <\\psi|\\hat{\\mu}|\\psi> \n",
    "\\end{equation}\n",
    "\n",
    "In psi4 we can obtain the dipole moment from the wafefunction object that was defined above"
   ]
  },
  {
   "cell_type": "code",
   "execution_count": 3,
   "metadata": {
    "collapsed": true
   },
   "outputs": [],
   "source": [
    "psi4.oeprop(wfn_hf_mol, 'DIPOLE', 'QUADRUPOLE', title='HF SCF')\n",
    "\n",
    "mux = psi4.core.get_variable('HF SCF DIPOLE X') # in debye\n",
    "muy = psi4.core.get_variable('HF SCF DIPOLE Y')\n",
    "muz = psi4.core.get_variable('HF SCF DIPOLE Z')\n",
    "quad_zz = psi4.core.get_variable('HF SCF QUADRUPOLE ZZ')"
   ]
  },
  {
   "cell_type": "code",
   "execution_count": 4,
   "metadata": {},
   "outputs": [
    {
     "name": "stdout",
     "output_type": "stream",
     "text": [
      "-1.9411548174366635\n",
      "-3.271015995238057\n",
      "1.94115481744\n"
     ]
    }
   ],
   "source": [
    "print(muz)\n",
    "print(quad_zz)\n",
    "mu = (np.sqrt(mux**2 + muy**2 + muz**2))\n",
    "print(mu)"
   ]
  },
  {
   "cell_type": "markdown",
   "metadata": {
    "collapsed": true
   },
   "source": [
    "# 3.  Compute a potential energy surface of HF dimer.\n",
    "\n",
    "In order to study the physical interactions between two molecules it is convinient to draw \n",
    "a potential energy surface along the interaction coordinate. In this section we will \n",
    "obtain a potential energy profile for the most favorable dipole-dipole interaction, which is the \n",
    "horizontal orientation with oposing dipole vectors, HF---FH. First we need to define a list containing \n",
    "the distances between both dimers for which the energy will be obtained."
   ]
  },
  {
   "cell_type": "code",
   "execution_count": 5,
   "metadata": {
    "collapsed": true
   },
   "outputs": [],
   "source": [
    "hf_dimer = psi4.geometry(\"\"\"\n",
    "        0 1\n",
    "        H\n",
    "        F 1 0.917\n",
    "        H 2 R 1 180.0\n",
    "        F 3 0.917 2 180.0 1 0.0\n",
    "        \"\"\")"
   ]
  },
  {
   "cell_type": "markdown",
   "metadata": {},
   "source": [
    "Next, we write a loop and in each step of the loop we compute the energy at the mp4 level of theory. "
   ]
  },
  {
   "cell_type": "code",
   "execution_count": 6,
   "metadata": {},
   "outputs": [
    {
     "name": "stdout",
     "output_type": "stream",
     "text": [
      "-200.1159400762018\n",
      "1.5\n",
      "-200.1190819646694\n",
      "1.6\n",
      "-200.12084511069853\n",
      "1.7\n",
      "-200.1217418230204\n",
      "1.8\n",
      "-200.12210646265714\n",
      "1.9\n",
      "-200.12214740628218\n",
      "2.0\n",
      "-200.12199128622555\n",
      "2.1\n",
      "-200.12171855348862\n",
      "2.2\n",
      "-200.1213834825437\n",
      "2.3\n",
      "-200.12102248398264\n",
      "2.4\n",
      "-200.1206584434578\n",
      "2.5\n",
      "-200.12030471830317\n",
      "2.6\n",
      "-200.11996870223288\n",
      "2.7\n",
      "-200.11965427034008\n",
      "2.8\n",
      "-200.11936321363657\n",
      "2.9\n",
      "-200.11909600295286\n",
      "3.0\n",
      "-200.1188522860765\n",
      "3.1\n",
      "-200.11863115701004\n",
      "3.2\n",
      "-200.11843131717893\n",
      "3.3\n",
      "-200.11825114501002\n",
      "3.4\n",
      "-200.11808882589855\n",
      "3.5\n",
      "-200.11794245507383\n",
      "3.6\n",
      "-200.11781018000022\n",
      "3.7\n",
      "-200.11769030206548\n",
      "3.8\n",
      "-200.11758132579342\n",
      "3.9\n",
      "-200.11748198075108\n",
      "4.0\n",
      "-200.11739119292795\n",
      "4.1\n",
      "-200.11730805328622\n",
      "4.2\n",
      "-200.11723176731104\n",
      "4.3\n",
      "-200.11716164900196\n",
      "4.4\n",
      "-200.11709708263894\n",
      "4.5\n",
      "-200.1170375095619\n",
      "4.6\n",
      "-200.1169824408411\n",
      "4.7\n",
      "-200.11693143092367\n",
      "4.8\n",
      "-200.11688408496144\n",
      "4.9\n",
      "-200.11684005298991\n",
      "5.0\n",
      "-200.1167990260822\n",
      "5.1\n",
      "-200.1167607297471\n",
      "5.2\n",
      "-200.11672492543434\n",
      "5.3\n",
      "-200.11669140001007\n",
      "5.4\n",
      "-200.1166599601226\n",
      "5.5\n",
      "-200.11663044555814\n",
      "5.6\n",
      "-200.11660269950414\n",
      "5.7\n",
      "-200.11657658816026\n",
      "5.8\n",
      "-200.1165519929236\n",
      "5.9\n",
      "-200.1165288021483\n",
      "6.0\n",
      "-200.11650691710236\n",
      "6.1\n",
      "-200.11648624307801\n",
      "6.2\n",
      "-200.11646669629727\n",
      "6.3\n",
      "-200.11644820451244\n",
      "6.4\n",
      "-200.11643069564883\n",
      "6.5\n",
      "-200.11641410467115\n",
      "6.6\n",
      "-200.1163983745758\n",
      "6.7\n",
      "-200.11638344606672\n",
      "6.8\n",
      "-200.11636927063006\n",
      "6.9\n",
      "-200.116355801285\n",
      "7.0\n",
      "-200.1163429924834\n",
      "7.1\n",
      "-200.11633081020645\n",
      "7.2\n",
      "-200.11631921073243\n",
      "7.3\n",
      "-200.11630816039016\n",
      "7.4\n",
      "-200.11629762874782\n",
      "7.5\n",
      "-200.11628758588446\n",
      "7.6\n",
      "-200.1162780030017\n",
      "7.7\n",
      "-200.11626885594384\n",
      "7.8\n",
      "-200.116260117293\n",
      "7.9\n",
      "-200.11625176417053\n",
      "8.0\n",
      "-200.11624377692485\n",
      "8.1\n",
      "-200.1162361367973\n",
      "8.2\n",
      "-200.11622882502687\n",
      "8.3\n",
      "-200.1162218216226\n",
      "8.4\n",
      "-200.11621511335397\n",
      "8.5\n",
      "-200.11620868510147\n",
      "8.6\n",
      "-200.11620251717724\n",
      "8.7\n",
      "-200.11619660443722\n",
      "8.8\n",
      "-200.11619092565678\n",
      "8.9\n",
      "-200.11618547548989\n",
      "9.0\n",
      "-200.11618024015092\n",
      "9.1\n",
      "-200.11617521010604\n",
      "9.2\n",
      "-200.11617037397684\n",
      "9.3\n",
      "-200.11616572549198\n",
      "9.4\n",
      "-200.11616124982714\n",
      "9.5\n",
      "-200.1161569453809\n",
      "9.6\n",
      "-200.11615279951042\n",
      "9.7\n",
      "-200.1161488082223\n",
      "9.8\n",
      "-200.11614496206\n",
      "9.9\n"
     ]
    }
   ],
   "source": [
    "energy = []\n",
    "dist   = []\n",
    "\n",
    "Rval = np.arange(1.5,10.0,0.1)\n",
    "\n",
    "for d in Rval:\n",
    "    hf_dimer.R = d\n",
    "    psi4.set_options({'freeze_core': 'True'})\n",
    "    en = psi4.energy('scf/cc-pvtz')\n",
    "    print(en)\n",
    "    print(d)\n",
    "    energy.append(en)\n",
    "    dist.append(d)\n"
   ]
  },
  {
   "cell_type": "markdown",
   "metadata": {},
   "source": [
    "Now we are ready to plot the potential energy profile. We will use the matplotlib python library for this \n",
    "purpose. The function `ref_zero_kcal` transforms the energy which is in Hartee to kcal/mol and takes the \n",
    "energy of the dimer with the farthest separation as the reference energy."
   ]
  },
  {
   "cell_type": "code",
   "execution_count": 10,
   "metadata": {},
   "outputs": [],
   "source": [
    "import matplotlib.pyplot as plt\n",
    "%matplotlib inline"
   ]
  },
  {
   "cell_type": "code",
   "execution_count": 13,
   "metadata": {},
   "outputs": [
    {
     "data": {
      "text/plain": [
       "Text(0,0.5,'Energy (kcal/mol)')"
      ]
     },
     "execution_count": 13,
     "metadata": {},
     "output_type": "execute_result"
    },
    {
     "data": {
      "image/png": "[encoded data removed]",
      "text/plain": [
       "<matplotlib.figure.Figure at 0x1285b3d68>"
      ]
     },
     "metadata": {},
     "output_type": "display_data"
    }
   ],
   "source": [
    "def ref_zero_kcal(en_list):\n",
    "    energy_kcal = []\n",
    "    for x in range(len(en_list)):\n",
    "        energy_kcal.append((en_list[x] - en_list[-1])*627.51)\n",
    "    return energy_kcal\n",
    "\n",
    "\n",
    "energy_kcal = ref_zero_kcal(energy)    \n",
    "plt.plot(dist,energy_kcal)\n",
    "plt.xlabel('Distance')\n",
    "plt.ylabel('Energy (kcal/mol)')"
   ]
  },
  {
   "cell_type": "markdown",
   "metadata": {},
   "source": [
    "There are many more examples/tutorials in the Psi4 GitHub repositories, especially see `Tutorials` under the (psi4numpy repository](https://github.com/psi4/psi4numpy) for many Jupyter notebooks."
   ]
  }
 ],
 "metadata": {
  "kernelspec": {
   "display_name": "drugcomp",
   "language": "python",
   "name": "drugcomp"
  },
  "language_info": {
   "codemirror_mode": {
    "name": "ipython",
    "version": 3
   },
   "file_extension": ".py",
   "mimetype": "text/x-python",
   "name": "python",
   "nbconvert_exporter": "python",
   "pygments_lexer": "ipython3",
   "version": "3.8.12"
  },
  "toc": {
   "nav_menu": {},
   "number_sections": true,
   "sideBar": true,
   "skip_h1_title": false,
   "toc_cell": false,
   "toc_position": {},
   "toc_section_display": "block",
   "toc_window_display": false
  }
 },
 "nbformat": 4,
 "nbformat_minor": 2
}
