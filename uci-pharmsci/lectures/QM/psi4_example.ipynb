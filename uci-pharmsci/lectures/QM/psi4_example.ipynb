{
 "cells": [
  {
   "cell_type": "markdown",
   "metadata": {},
   "source": [
    "# PharmSci 175/275 (UCI)\n",
    "## What is this?? \n",
    "The material below is a supplement to the quantum mechanics (QM) lecture from Drug Discovery Computing Techniques, PharmSci 175/275 at UC Irvine. \n",
    "Extensive materials for this course, as well as extensive background and related materials, are available on the course GitHub repository: [github.com/mobleylab/drug-computing](https://github.com/mobleylab/drug-computing)"
   ]
  },
  {
   "cell_type": "markdown",
   "metadata": {},
   "source": [
    "# Using QM in Python\n",
    "\n",
    "This material adapted (under CC-BY) from a [workshop example](https://github.com/QCMM/workshop2017/blob/master/Theory_electronic_structure_day3/i_inter_es.ipynb) of Stefano Vogt-Giesse (University of Concepcion) from the December, 2017 QCMM workshop in Chile, available under the [workshop repository](https://github.com/QCMM/workshop2017)\n",
    "\n",
    "### Instructor: David L. Mobley\n",
    "\n",
    "### Contributors to these materials:\n",
    "- Stefano Vogt-Giesse\n",
    "- David L. Mobley"
   ]
  },
  {
   "cell_type": "markdown",
   "metadata": {},
   "source": [
    "## Choose whether to run under Google Colab or locally\n",
    "\n",
    "You need to do different preparation to run this notebook locally vs Google Colab; skip to the appropriate section following depending on which you choose."
   ]
  },
  {
   "cell_type": "markdown",
   "metadata": {},
   "source": [
    "## Preparation for using Google Colab (SKIP IF RUNNING LOCALLY))\n",
    "\n",
    "[![Open in Colab](https://colab.research.google.com/assets/colab-badge.svg)](https://colab.research.google.com/github/MobleyLab/drug-computing/blob/master/uci-pharmsci/lectures/QM/psi4_example.ipynb)\n",
    "\n",
    "If you are running this on Google Colab, you need to take a couple additional steps of preparation. **Note that these steps may take 5-10 minutes to complete.**\n",
    "\n",
    "Psi4 installs via `conda`, not pip, so you will need to get conda set up on Colab: "
   ]
  },
  {
   "cell_type": "code",
   "execution_count": null,
   "metadata": {},
   "outputs": [],
   "source": [
    "! wget https://repo.anaconda.com/miniconda/Miniconda3-py37_4.10.3-Linux-x86_64.sh\n",
    "! chmod +x Miniconda3-py37_4.10.3-Linux-x86_64.sh\n",
    "! bash ./Miniconda3-py37_4.10.3-Linux-x86_64.sh -b -f -p /usr/local\n",
    "import sys\n",
    "sys.path.append('/usr/local/lib/python3.7/site-packages/')"
   ]
  },
  {
   "cell_type": "markdown",
   "metadata": {},
   "source": [
    "Then `conda`-install psi4:"
   ]
  },
  {
   "cell_type": "code",
   "execution_count": null,
   "metadata": {},
   "outputs": [],
   "source": [
    "!conda install -c psi4 psi4 --yes"
   ]
  },
  {
   "cell_type": "markdown",
   "metadata": {},
   "source": [
    "## Preparation for running locally (SKIP IF RUNNING USING COLAB)"
   ]
  },
  {
   "cell_type": "markdown",
   "metadata": {},
   "source": [
    "For today's activity we will use the package of program psi4, so we will need to install it first. Assuming you already have anaconda/miniconda installed, you can install as follows (in a new conda environment, `psi4`:\n",
    "\n",
    "\n",
    "**conda create -n psi4 psi4 psi4-rt jupyter matplotlib -c psi4/label/dev -c psi4**\n",
    "\n",
    "(Note psi4 seems to be somewhat incompatible with the other software we are using in this course, so a separate environment is needed.)\n",
    "\n",
    "This will install all the psi4 binaries and a python module which can be imported from the notebook. Then activate the environment via `conda activate psi4`.\n",
    "\n",
    "You also need to ensure it works in your jupyter notebook, which you can do via (in the terminal, with your `psi4` environment active):\n",
    "```\n",
    "conda install ipykernel --name psi4\n",
    "python -m ipykernel install --user\n",
    "```\n",
    "\n",
    "To finish the installation you need to provide a scratch directory in your `~/.bash_profile`, for example (assuming you want your scratch directory in this space):\n",
    "\n",
    "**export PSI_SCRATCH=/home/user_name/scratch/psi4**\n",
    "\n",
    "Then type `source ~/.bash_profile`. Now you may open jupyter-notebook and install psi4.\n",
    "\n",
    "Every time you wish to use psi4 you will need to `conda activate psi4`."
   ]
  },
  {
   "cell_type": "markdown",
   "metadata": {},
   "source": [
    "# Exploring molecular interactions using electronic structure methods."
   ]
  },
  {
   "cell_type": "code",
   "execution_count": 1,
   "metadata": {},
   "outputs": [],
   "source": [
    "import psi4 \n",
    "import numpy as np"
   ]
  },
  {
   "cell_type": "markdown",
   "metadata": {},
   "source": [
    "# 1. Compute the energy of a diatomic molecule\n",
    "\n",
    "\n",
    "As a first example we will compute the scf energy of the diatómic molecule hydrogen flouride (HF):\n"
   ]
  },
  {
   "cell_type": "code",
   "execution_count": 2,
   "metadata": {},
   "outputs": [
    {
     "name": "stdout",
     "output_type": "stream",
     "text": [
      "\n",
      "  Memory set to 476.837 MiB by Python driver.\n",
      "-100.34290633086249\n"
     ]
    }
   ],
   "source": [
    "# ==> Basic Psi4 options <==\n",
    "# Memory\n",
    "psi4.set_memory(int(5e8))\n",
    "numpy_memory = 500\n",
    "\n",
    "# Output\n",
    "psi4.core.set_output_file('output.dat', False)\n",
    "\n",
    "# Geometry input\n",
    "hf_mol = psi4.geometry(\"\"\"\n",
    "0 1\n",
    "H\n",
    "F 1 0.917\n",
    "\"\"\")\n",
    "\n",
    "energy_hf_mol , wfn_hf_mol = psi4.energy('mp2/cc-pvtz', return_wfn=True)\n",
    "print(energy_hf_mol) #Energy in Hartrees"
   ]
  },
  {
   "cell_type": "markdown",
   "metadata": {},
   "source": [
    "This corresponds to the MP2/cc-pVTZ energy for this system (HF).  Input coordinates are given in [Z matrix format](https://en.wikipedia.org/wiki/Z-matrix_(chemistry)), using internal coordinates (in this case just a bond distance).\n",
    "\n",
    "\n",
    "### Exercise: Compute the energy of other diatomic molecules using similar methods\n",
    "You might consider computing the energy of of F$_2$ and N$_2$ using the cc-pVDZ and cc-pVTZ methods. "
   ]
  },
  {
   "cell_type": "markdown",
   "metadata": {},
   "source": [
    "# 2. Compute the dipole and quadrupole moment of diatomic molecules"
   ]
  },
  {
   "cell_type": "markdown",
   "metadata": {},
   "source": [
    "Since we are intrested in studying long range  molecular interactions using classical elctrodynamics, it is necessary \n",
    "to compute the dipole and quadrupole moments. Quantum mechanically the dipole can be computed using the one electron dipole operator:\n",
    "\n",
    "\\begin{equation}\n",
    "\\hat{\\mu} = \\sum_i q_i r_i \n",
    "\\end{equation}\n",
    "\n",
    "where $q_i$ is the charge of the particle and $r_i$ is the position vector of the particle.  The dipole moment can be computed using the wavefunction through the expectation value of the operator $\\mu$.\n",
    "\n",
    "\\begin{equation}\n",
    "\\mu = <\\psi|\\hat{\\mu}|\\psi> \n",
    "\\end{equation}\n",
    "\n",
    "In psi4 we can obtain the dipole moment from the wafefunction object that was defined above"
   ]
  },
  {
   "cell_type": "code",
   "execution_count": 3,
   "metadata": {},
   "outputs": [
    {
     "name": "stderr",
     "output_type": "stream",
     "text": [
      "/var/folders/7z/88tvgj2941bclbbw1xhn0t8r0000gn/T/ipykernel_58639/3045530770.py:3: FutureWarning: Using `psi4.core.get_variable` instead of `psi4.core.variable` (or `psi4.core.scalar_variable` for scalar variables only) is deprecated, and in 1.4 it will stop working\n",
      "\n",
      "  mux = psi4.core.get_variable('HF SCF DIPOLE X') # in debye\n",
      "/var/folders/7z/88tvgj2941bclbbw1xhn0t8r0000gn/T/ipykernel_58639/3045530770.py:4: FutureWarning: Using `psi4.core.get_variable` instead of `psi4.core.variable` (or `psi4.core.scalar_variable` for scalar variables only) is deprecated, and in 1.4 it will stop working\n",
      "\n",
      "  muy = psi4.core.get_variable('HF SCF DIPOLE Y')\n",
      "/var/folders/7z/88tvgj2941bclbbw1xhn0t8r0000gn/T/ipykernel_58639/3045530770.py:5: FutureWarning: Using `psi4.core.get_variable` instead of `psi4.core.variable` (or `psi4.core.scalar_variable` for scalar variables only) is deprecated, and in 1.4 it will stop working\n",
      "\n",
      "  muz = psi4.core.get_variable('HF SCF DIPOLE Z')\n",
      "/var/folders/7z/88tvgj2941bclbbw1xhn0t8r0000gn/T/ipykernel_58639/3045530770.py:6: FutureWarning: Using `psi4.core.get_variable` instead of `psi4.core.variable` (or `psi4.core.scalar_variable` for scalar variables only) is deprecated, and in 1.4 it will stop working\n",
      "\n",
      "  quad_zz = psi4.core.get_variable('HF SCF QUADRUPOLE ZZ')\n"
     ]
    }
   ],
   "source": [
    "psi4.oeprop(wfn_hf_mol, 'DIPOLE', 'QUADRUPOLE', title='HF SCF')\n",
    "\n",
    "mux = psi4.core.get_variable('HF SCF DIPOLE X') # in debye\n",
    "muy = psi4.core.get_variable('HF SCF DIPOLE Y')\n",
    "muz = psi4.core.get_variable('HF SCF DIPOLE Z')\n",
    "quad_zz = psi4.core.get_variable('HF SCF QUADRUPOLE ZZ')"
   ]
  },
  {
   "cell_type": "code",
   "execution_count": 4,
   "metadata": {},
   "outputs": [
    {
     "name": "stdout",
     "output_type": "stream",
     "text": [
      "-1.9411550055413282\n",
      "-3.2710162959870983\n",
      "1.9411550055413282\n"
     ]
    }
   ],
   "source": [
    "print(muz)\n",
    "print(quad_zz)\n",
    "mu = (np.sqrt(mux**2 + muy**2 + muz**2))\n",
    "print(mu)"
   ]
  },
  {
   "cell_type": "markdown",
   "metadata": {
    "collapsed": true
   },
   "source": [
    "# 3.  Compute a potential energy surface of HF dimer.\n",
    "\n",
    "In order to study the physical interactions between two molecules it is convinient to draw \n",
    "a potential energy surface along the interaction coordinate. In this section we will \n",
    "obtain a potential energy profile for the most favorable dipole-dipole interaction, which is the \n",
    "horizontal orientation with oposing dipole vectors, HF---FH. First we need to define a list containing \n",
    "the distances between both dimers for which the energy will be obtained."
   ]
  },
  {
   "cell_type": "code",
   "execution_count": 5,
   "metadata": {},
   "outputs": [],
   "source": [
    "hf_dimer = psi4.geometry(\"\"\"\n",
    "        0 1\n",
    "        H\n",
    "        F 1 0.917\n",
    "        H 2 R 1 180.0\n",
    "        F 3 0.917 2 180.0 1 0.0\n",
    "        \"\"\")"
   ]
  },
  {
   "cell_type": "markdown",
   "metadata": {},
   "source": [
    "Next, we write a loop and in each step of the loop we compute the energy at the mp4 level of theory. "
   ]
  },
  {
   "cell_type": "code",
   "execution_count": null,
   "metadata": {},
   "outputs": [
    {
     "name": "stdout",
     "output_type": "stream",
     "text": [
      "-200.11594007613158\n",
      "1.5\n",
      "-200.11908196505507\n",
      "1.6\n",
      "-200.12084511099732\n",
      "1.7000000000000002\n",
      "-200.12174182364433\n",
      "1.8000000000000003\n",
      "-200.12210646361427\n",
      "1.9000000000000004\n",
      "-200.12214740636392\n",
      "2.0000000000000004\n",
      "-200.12199128717546\n",
      "2.1000000000000005\n",
      "-200.1217185553115\n",
      "2.2000000000000006\n",
      "-200.12138348389254\n",
      "2.3000000000000007\n",
      "-200.12102248369894\n",
      "2.400000000000001\n",
      "-200.1206584432208\n",
      "2.500000000000001\n",
      "-200.12030471982058\n",
      "2.600000000000001\n",
      "-200.11996870241614\n",
      "2.700000000000001\n",
      "-200.11965427235268\n",
      "2.800000000000001\n",
      "-200.1193632136904\n",
      "2.9000000000000012\n",
      "-200.11909600301578\n",
      "3.0000000000000013\n",
      "-200.11885228615392\n",
      "3.1000000000000014\n",
      "-200.11863115920457\n",
      "3.2000000000000015\n",
      "-200.11843131725777\n",
      "3.3000000000000016\n",
      "-200.118251147143\n",
      "3.4000000000000017\n",
      "-200.11808882795262\n",
      "3.5000000000000018\n",
      "-200.1179424573063\n",
      "3.600000000000002\n",
      "-200.1178101821683\n",
      "3.700000000000002\n",
      "-200.11769030211374\n",
      "3.800000000000002\n",
      "-200.117581325851\n",
      "3.900000000000002\n",
      "-200.11748198151327\n",
      "4.000000000000002\n",
      "-200.11739119494283\n",
      "4.100000000000002\n",
      "-200.11730805348418\n",
      "4.200000000000003\n",
      "-200.11723176950403\n",
      "4.3000000000000025\n",
      "-200.11716165120245\n",
      "4.400000000000002\n",
      "-200.11709708268364\n",
      "4.500000000000003\n",
      "-200.11703751178317\n",
      "4.600000000000003\n",
      "-200.1169824430437\n",
      "4.700000000000003\n",
      "-200.1169314331076\n",
      "4.8000000000000025\n",
      "-200.11688408717754\n",
      "4.900000000000003\n",
      "-200.1168400551661\n",
      "5.0000000000000036\n",
      "-200.11679902773142\n",
      "5.100000000000003\n",
      "-200.11676073196662\n",
      "5.200000000000003\n",
      "-200.11672492703738\n",
      "5.300000000000003\n",
      "-200.1166914000603\n",
      "5.400000000000004\n",
      "-200.1166599622753\n",
      "5.5000000000000036\n",
      "-200.11663044566174\n",
      "5.600000000000003\n",
      "-200.11660269999402\n",
      "5.700000000000004\n",
      "-200.11657659037843\n",
      "5.800000000000004\n",
      "-200.11655199514317\n",
      "5.900000000000004\n",
      "-200.11652880412805\n",
      "6.0000000000000036\n",
      "-200.11650691722386\n",
      "6.100000000000004\n",
      "-200.11648624315433\n",
      "6.200000000000005\n",
      "-200.11646669847164\n",
      "6.300000000000004\n",
      "-200.1164482067375\n",
      "6.400000000000004\n",
      "-200.11643069773467\n",
      "6.500000000000004\n",
      "-200.11641410687145\n",
      "6.600000000000005\n",
      "-200.1163983746509\n",
      "6.700000000000005\n",
      "-200.1163834461709\n",
      "6.800000000000004\n",
      "-200.1163692707005\n",
      "6.900000000000005\n",
      "-200.11635580132997\n",
      "7.000000000000005\n",
      "-200.11634299461193\n",
      "7.100000000000005\n",
      "-200.1163308102652\n",
      "7.200000000000005\n",
      "-200.116319210949\n",
      "7.300000000000005\n",
      "-200.11630816193497\n",
      "7.400000000000006\n",
      "-200.1162976309706\n",
      "7.500000000000005\n",
      "-200.11628758805156\n",
      "7.600000000000005\n",
      "-200.11627800521813\n",
      "7.7000000000000055\n",
      "-200.1162688564144\n",
      "7.800000000000006\n",
      "-200.1162601173462\n",
      "7.900000000000006\n",
      "-200.11625176532\n",
      "8.000000000000005\n",
      "-200.11624377915305\n",
      "8.100000000000005\n",
      "-200.11623613901043\n",
      "8.200000000000006\n",
      "-200.11622882636473\n",
      "8.300000000000006\n",
      "-200.11622182384693\n",
      "8.400000000000006\n",
      "-200.11621511520096\n",
      "8.500000000000007\n",
      "-200.11620868514754\n",
      "8.600000000000007\n",
      "-200.1162025193921\n",
      "8.700000000000006\n",
      "-200.11619660448488\n",
      "8.800000000000006\n",
      "-200.11619092780117\n",
      "8.900000000000006\n",
      "-200.11618547746463\n",
      "9.000000000000007\n",
      "-200.11618024229836\n",
      "9.100000000000007\n",
      "-200.1161752117998\n",
      "9.200000000000006\n",
      "-200.11617037606567\n",
      "9.300000000000008\n",
      "-200.11616572573791\n",
      "9.400000000000007\n",
      "-200.11616125203147\n",
      "9.500000000000007\n",
      "-200.11615694665616\n",
      "9.600000000000007\n",
      "-200.11615280173663\n",
      "9.700000000000006\n"
     ]
    }
   ],
   "source": [
    "energy = []\n",
    "dist   = []\n",
    "\n",
    "Rval = np.arange(1.5,10.0,0.1)\n",
    "\n",
    "for d in Rval:\n",
    "    hf_dimer.R = d\n",
    "    psi4.set_options({'freeze_core': 'True'})\n",
    "    en = psi4.energy('scf/cc-pvtz')\n",
    "    print(en)\n",
    "    print(d)\n",
    "    energy.append(en)\n",
    "    dist.append(d)\n"
   ]
  },
  {
   "cell_type": "markdown",
   "metadata": {},
   "source": [
    "Now we are ready to plot the potential energy profile. We will use the matplotlib python library for this \n",
    "purpose. The function `ref_zero_kcal` transforms the energy which is in Hartee to kcal/mol and takes the \n",
    "energy of the dimer with the farthest separation as the reference energy."
   ]
  },
  {
   "cell_type": "code",
   "execution_count": null,
   "metadata": {},
   "outputs": [],
   "source": [
    "import matplotlib.pyplot as plt\n",
    "%matplotlib inline"
   ]
  },
  {
   "cell_type": "code",
   "execution_count": null,
   "metadata": {},
   "outputs": [],
   "source": [
    "def ref_zero_kcal(en_list):\n",
    "    energy_kcal = []\n",
    "    for x in range(len(en_list)):\n",
    "        energy_kcal.append((en_list[x] - en_list[-1])*627.51)\n",
    "    return energy_kcal\n",
    "\n",
    "\n",
    "energy_kcal = ref_zero_kcal(energy)    \n",
    "plt.plot(dist,energy_kcal)\n",
    "plt.xlabel('Distance')\n",
    "plt.ylabel('Energy (kcal/mol)')"
   ]
  },
  {
   "cell_type": "markdown",
   "metadata": {},
   "source": [
    "There are many more examples/tutorials in the Psi4 GitHub repositories, especially see `Tutorials` under the (psi4numpy repository](https://github.com/psi4/psi4numpy) for many Jupyter notebooks."
   ]
  }
 ],
 "metadata": {
  "kernelspec": {
   "display_name": "Python 3 (ipykernel)",
   "language": "python",
   "name": "python3"
  },
  "language_info": {
   "codemirror_mode": {
    "name": "ipython",
    "version": 3
   },
   "file_extension": ".py",
   "mimetype": "text/x-python",
   "name": "python",
   "nbconvert_exporter": "python",
   "pygments_lexer": "ipython3",
   "version": "3.9.7"
  },
  "toc": {
   "nav_menu": {},
   "number_sections": true,
   "sideBar": true,
   "skip_h1_title": false,
   "toc_cell": false,
   "toc_position": {},
   "toc_section_display": "block",
   "toc_window_display": false
  }
 },
 "nbformat": 4,
 "nbformat_minor": 2
}
