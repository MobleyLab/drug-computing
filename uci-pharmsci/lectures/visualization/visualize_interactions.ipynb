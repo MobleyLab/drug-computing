{
 "cells": [
  {
   "cell_type": "markdown",
   "id": "c762bb6d",
   "metadata": {},
   "source": [
    "# Visualizing binding site interactions in 2D\n",
    "\n",
    "Here's a simple example (based on an example from OpenEye) of depicting 2D interactions between a receptor and a binding site. The output is an interactive svg best visualized in a web browser or similar."
   ]
  },
  {
   "cell_type": "code",
   "execution_count": 8,
   "id": "e41c5e02",
   "metadata": {},
   "outputs": [
    {
     "data": {
      "text/plain": [
       "True"
      ]
     },
     "execution_count": 8,
     "metadata": {},
     "output_type": "execute_result"
    }
   ],
   "source": [
    "from openeye import oechem\n",
    "from openeye import oedepict\n",
    "from openeye import oegrapheme\n",
    "# Example based on https://docs.eyesopen.com/toolkits/cookbook/python/_downloads/activesitemaps2img.py\n",
    "\n",
    "# Input and output file\n",
    "ifile = 'BACE1.pdb'\n",
    "ofile = 'BACE1.svg'\n",
    "#Width and height\n",
    "width = 900\n",
    "height = 600\n",
    "\n",
    "# Set split for molecular complex\n",
    "#oechem.OEConfigureSplitMolComplexOptions(itf, oechem.OESplitMolComplexSetup_LigName | oechem.OESplitMolComplexSetup_CovLig)\n",
    "\n",
    "# Configure input and output\n",
    "ifs = oechem.oemolistream()\n",
    "if not ifs.open(ifile):\n",
    "    raise Exception(\"Error: Cannot open input file.\")\n",
    "\n",
    "\n",
    "# Initialize protein and ligand\n",
    "protein = oechem.OEGraphMol()\n",
    "ligand = oechem.OEGraphMol()\n",
    "    \n",
    "# Read input\n",
    "complexmol = oechem.OEGraphMol()\n",
    "if not oechem.OEReadMolecule(ifs, complexmol):\n",
    "    raise Exception(\"Unable to read complex from %s\" % ifile)\n",
    "    \n",
    "# Ensure it has residues\n",
    "if not oechem.OEHasResidues(complexmol):\n",
    "    oechem.OEPerceiveResidues(complexmol, oechem.OEPreserveResInfo_All)\n",
    "    \n",
    "# Split molecular complex\n",
    "water = oechem.OEGraphMol()\n",
    "other = oechem.OEGraphMol()\n",
    "\n",
    "sopts = oechem.OESplitMolComplexOptions()\n",
    "pfilter = sopts.GetProteinFilter()\n",
    "wfilter = sopts.GetWaterFilter()\n",
    "sopts.SetProteinFilter(oechem.OEOrRoleSet(pfilter, wfilter))\n",
    "filter = oechem.OEMolComplexFilterCategory_Nothing\n",
    "sopts.SetWaterFilter(oechem.OEMolComplexFilterFactory(filter))\n",
    "\n",
    "oechem.OESplitMolComplex(ligand, protein, water, other, complexmol, sopts)\n",
    "\n",
    "# Depict image\n",
    "image = oedepict.OEImage(width, height)\n",
    "asite = oechem.OEInteractionHintContainer(protein, ligand)\n",
    "if not asite.IsValid():\n",
    "    oechem.OEThrow.Fatal(\"Cannot initialize active site!\")\n",
    "asite.SetTitle(ligand.GetTitle())\n",
    "\n",
    "oechem.OEPerceiveInteractionHints(asite)\n",
    "\n",
    "# depiction\n",
    "\n",
    "oegrapheme.OEPrepareActiveSiteDepiction(asite)\n",
    "oegrapheme.OERenderActiveSiteMaps(image, asite)\n",
    "oedepict.OEDrawCurvedBorder(image, oedepict.OELightGreyPen, 10.0)\n",
    "oedepict.OEWriteImage(ofile, image)"
   ]
  }
 ],
 "metadata": {
  "kernelspec": {
   "display_name": "Python [conda env:drugcomp] *",
   "language": "python",
   "name": "conda-env-drugcomp-py"
  },
  "language_info": {
   "codemirror_mode": {
    "name": "ipython",
    "version": 3
   },
   "file_extension": ".py",
   "mimetype": "text/x-python",
   "name": "python",
   "nbconvert_exporter": "python",
   "pygments_lexer": "ipython3",
   "version": "3.8.12"
  }
 },
 "nbformat": 4,
 "nbformat_minor": 5
}
