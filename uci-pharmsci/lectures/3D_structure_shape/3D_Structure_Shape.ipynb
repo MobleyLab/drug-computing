{
 "cells": [
  {
   "cell_type": "markdown",
   "metadata": {
    "slideshow": {
     "slide_type": "skip"
    }
   },
   "source": [
    "# PharmSci 175/275 (UCI)\n",
    "## What is this?? \n",
    "The material below is Lecture 3 (on working with molecules, generating 3D structures, and shape methods) from Drug Discovery Computing Techniques, PharmSci 175/275 at UC Irvine. \n",
    "Extensive materials for this course, as well as extensive background and related materials, are available on the course GitHub repository: [github.com/mobleylab/drug-computing](https://github.com/mobleylab/drug-computing)\n",
    "\n",
    "This material is a set of slides intended for presentation with RISE as detailed [in the course materials on GitHub](https://github.com/MobleyLab/drug-computing/tree/master/uci-pharmsci/lectures/energy_minimization). While it may be useful without RISE, it will also likely appear somewhat less verbose than it would if it were intended for use in written form."
   ]
  },
  {
   "cell_type": "markdown",
   "metadata": {
    "slideshow": {
     "slide_type": "slide"
    }
   },
   "source": [
    "# Molecules, 3D structure, and shape\n",
    "\n",
    "Today: Chemistry tools in Python; working with molecules; generating 3D conformers; shape search methods\n",
    "\n",
    "### Instructor: David L. Mobley\n",
    "\n",
    "### Contributors to today's materials:\n",
    "- David L. Mobley"
   ]
  },
  {
   "cell_type": "markdown",
   "metadata": {
    "slideshow": {
     "slide_type": "slide"
    }
   },
   "source": [
    "# Working with molecules in Python: OpenEye toolkits, 3D structures, and shape overlays\n",
    "\n",
    "- We often want to work with molecules or sets of molecules\n",
    "- Perhaps from name or [SMILES string](http://en.wikipedia.org/wiki/Simplified_molecular-input_line-entry_system)\n",
    "- Maybe as a 2D drawing from ChemDraw, MarvinSketch, or ChemDoodle\n",
    "- Maybe from crystal structure with protein (but need to fill in missing chemistry, protons)"
   ]
  },
  {
   "cell_type": "markdown",
   "metadata": {
    "slideshow": {
     "slide_type": "subslide"
    }
   },
   "source": [
    "## Today: Loading and working with molecules, generating conformers, shape overlays\n",
    "\n",
    "Serves to introduce the [OpenEye toolkits](www.eyesopen.com) via:\n",
    "1. Loading molecules from files/names/SMILES\n",
    "2. Generating 3D conformations\n",
    "3. Doing shape overlays \n",
    "4. Writing out the final molecules\n",
    "\n",
    "The [OpenEye Python toolkit documentation](http://docs.eyesopen.com/toolkits/python/) is online, and they also have a [cookbook](https://docs.eyesopen.com/toolkits/cookbook/python/) with a variety of interesting examples."
   ]
  },
  {
   "cell_type": "markdown",
   "metadata": {
    "slideshow": {
     "slide_type": "subslide"
    }
   },
   "source": [
    "## Here we will draw mainly on five OpenEye toolkits\n",
    "* `OEChem`: The generic OpenEye chemistry toolkit, for working with molecules (reading/writing, traversing atoms/bonds, etc)\n",
    "* `OEOmega`: Omega is OpenEye's toolkit for working with molecular conformations/generating 3D conformations\n",
    "* `OEShape`: Their shape toolkit, for doing things like shape overlays of molecules\n",
    "* `OEIUPAC`: For working with chemical naming\n",
    "* `OEDepict`: For depiction of small molecules\n",
    "\n",
    "We need to start off by importing these so we can work with them here (REMINDER: be sure to shift-enter/hit play in the box below to evaluate it so that you import these for yourself):"
   ]
  },
  {
   "cell_type": "code",
   "execution_count": null,
   "metadata": {
    "slideshow": {
     "slide_type": "fragment"
    }
   },
   "outputs": [],
   "source": [
    "from openeye.oechem import *\n",
    "from openeye.oeiupac import *\n",
    "from openeye.oeomega import *\n",
    "from openeye.oeshape import *\n",
    "from openeye.oedepict import *"
   ]
  },
  {
   "cell_type": "markdown",
   "metadata": {
    "slideshow": {
     "slide_type": "slide"
    }
   },
   "source": [
    "# Now we need to see how to load molecules\n",
    "- We'll start by loading molecules we draw\n",
    "- Then we'll load from other formats\n",
    "- Often a name or SMILES string is a better starting point than a 2D drawing\n",
    "- But 2D drawings are commonly provided by experimental collaborators"
   ]
  },
  {
   "cell_type": "markdown",
   "metadata": {
    "slideshow": {
     "slide_type": "subslide"
    }
   },
   "source": [
    "## Most 2D viewers can save or export useful molecules; MarvinSketch is a good free option\n",
    "\n",
    "* There's an [online (web-based) version](https://marvinjs-demo.chemaxon.com/latest/) requiring javascript\n",
    "* As well as a [free downloadable version](https://www.chemaxon.com/products/marvin/marvinsketch/)\n",
    "\n",
    "With Marvin you should be able to easily make some molecules and download them in various formats for manipulating here. Draw a molecule you'd like to work on, then you can access it in several formats:\n",
    "* For SMILES: Select the molecule, choose \"Edit\">\"Copy as Smiles\"\n",
    "* For compound name: Choose \"Structure\">\"Structure to name\">\"Generate name\"\n",
    "* For a file: Select the molecule, choose \"File\">\"Save as...\" and select your file format. MDL .mol files are fairly universal."
   ]
  },
  {
   "cell_type": "markdown",
   "metadata": {
    "slideshow": {
     "slide_type": "subslide"
    }
   },
   "source": [
    "## Let's take an example\n",
    "\n",
    "We'll load all three formats using the OpenEye toolkits. As a starting point let's take this molecule drawn in Marvin:\n",
    "\n",
    "<img src=\"Marvin_molecule.png\">\n",
    "\n",
    "We obtain the SMILES and compound name (\"CC1=CC2=C(C=C1)C(Cl)=CC=C2\" and \"1-chloro-6-methylnapthalene\", respectively) and I exported the molecule to \"Marvin_molecule.mol\"."
   ]
  },
  {
   "cell_type": "markdown",
   "metadata": {
    "slideshow": {
     "slide_type": "subslide"
    }
   },
   "source": [
    "## Next we load the molecule \n",
    "\n",
    "Now we move to Python to load the molecule, starting with SMILES"
   ]
  },
  {
   "cell_type": "code",
   "execution_count": null,
   "metadata": {
    "slideshow": {
     "slide_type": "fragment"
    }
   },
   "outputs": [],
   "source": [
    "#First, we create an empty OEChem molecule object which we will store our molecule into\n",
    "mol_from_smiles = OEMol()\n",
    "\n",
    "#Next we grab our SMILES string from Marvin\n",
    "smiles = \"CC1=CC2=C(C=C1)C(Cl)=CC=C2\"\n",
    "\n",
    "#Then we parse the SMILES string\n",
    "OEParseSmiles(mol_from_smiles, smiles)\n",
    "\n",
    "#If successful, we should see no error message and the function will output 'True'. \n",
    "#We could catch this in a variable if we wanted."
   ]
  },
  {
   "cell_type": "markdown",
   "metadata": {
    "slideshow": {
     "slide_type": "subslide"
    }
   },
   "source": [
    "## OpenEye provides a handy `oenotebook` tool for use in Jupyter notebooks which allows easy visualization; let's check we have the right molecule"
   ]
  },
  {
   "cell_type": "code",
   "execution_count": null,
   "metadata": {
    "slideshow": {
     "slide_type": "fragment"
    }
   },
   "outputs": [],
   "source": [
    "import oenotebook as oenb # Handy OpenEye plugins for Jupyter notebooks\n",
    "oenb.draw_mol(mol_from_smiles)"
   ]
  },
  {
   "cell_type": "markdown",
   "metadata": {
    "slideshow": {
     "slide_type": "fragment"
    }
   },
   "source": [
    "Yup, that's it, just rotated a bit."
   ]
  },
  {
   "cell_type": "markdown",
   "metadata": {
    "slideshow": {
     "slide_type": "subslide"
    }
   },
   "source": [
    "## Next, let's work from the IUPAC name"
   ]
  },
  {
   "cell_type": "code",
   "execution_count": null,
   "metadata": {
    "slideshow": {
     "slide_type": "fragment"
    }
   },
   "outputs": [],
   "source": [
    "#Create a new OEMol\n",
    "mol_from_name = OEMol()\n",
    "\n",
    "#Store our name\n",
    "name = \"1-chloro-6-methylnapthalene\"\n",
    "\n",
    "#Parse the name\n",
    "OEParseIUPACName(mol_from_name, name)\n",
    "\n",
    "#Again, if successful, we should see no error message and the function will output 'True'."
   ]
  },
  {
   "cell_type": "code",
   "execution_count": null,
   "metadata": {
    "slideshow": {
     "slide_type": "fragment"
    }
   },
   "outputs": [],
   "source": [
    "oenb.draw_mol(mol_from_name)"
   ]
  },
  {
   "cell_type": "markdown",
   "metadata": {
    "slideshow": {
     "slide_type": "subslide"
    }
   },
   "source": [
    "## Let's read it from a file"
   ]
  },
  {
   "cell_type": "code",
   "execution_count": null,
   "metadata": {
    "slideshow": {
     "slide_type": "fragment"
    }
   },
   "outputs": [],
   "source": [
    "#First, we need to initialize an OpenEye \"molecule stream\" to read from a file - in this case an input stream\n",
    "istream = oemolistream( 'Marvin_molecule.mol') #oemolistream is an openeye molecule input stream. We name it istream\n",
    "\n",
    "#Next we create a molecule object\n",
    "mol_from_file = OEMol()\n",
    "\n",
    "#We read the molecule\n",
    "OEReadMolecule( istream, mol_from_file)\n",
    "\n",
    "#Close our file\n",
    "istream.close()\n",
    "\n",
    "#Here there should be no message if successful."
   ]
  },
  {
   "cell_type": "markdown",
   "metadata": {
    "slideshow": {
     "slide_type": "subslide"
    }
   },
   "source": [
    "## We can also save images to files easily enough"
   ]
  },
  {
   "cell_type": "code",
   "execution_count": null,
   "metadata": {
    "slideshow": {
     "slide_type": "fragment"
    }
   },
   "outputs": [],
   "source": [
    "# Set width, height, and whether or not to display hydrogens\n",
    "width=500\n",
    "height=200\n",
    "supH = True #Suppress hydrogens?\n",
    "\n",
    "# Prepare depiction/options\n",
    "mol = oechem.OEMol(mol_from_smiles) # Create new OEMol; without this, it might flatten your molecule\n",
    "dopt = OEPrepareDepictionOptions() # Get options\n",
    "dopt.SetSuppressHydrogens(supH) # Hide hydrogens\n",
    "OEPrepareDepiction(mol, dopt) # Prepare depiction\n",
    "opts = OE2DMolDisplayOptions(width, height, OEScale_AutoScale) # Set size options/scaling\n",
    "\n",
    "# Set up display and export image to file\n",
    "disp = OE2DMolDisplay(mol, opts)\n",
    "OERenderMolecule('test_image.pdf', disp, False)"
   ]
  },
  {
   "cell_type": "markdown",
   "metadata": {
    "slideshow": {
     "slide_type": "fragment"
    }
   },
   "source": [
    "You should now have a `test_image.pdf` file in this directory."
   ]
  },
  {
   "cell_type": "markdown",
   "metadata": {
    "slideshow": {
     "slide_type": "subslide"
    }
   },
   "source": [
    "## In general, use SMILES or files for storing molecules -- not names"
   ]
  },
  {
   "cell_type": "markdown",
   "metadata": {
    "slideshow": {
     "slide_type": "fragment"
    }
   },
   "source": [
    "- SMILES and files are most generally useful/robust\n",
    "- Chemical names quickly become difficult (or impossible) to automatically parse\n",
    "- SMILES are an excellent flexible general representation for 1D\n",
    "- If 2D or 3D is needed, use files, e.g. `.mol`, `.sdf`, or `.mol2`\n",
    "\n",
    "Tangent: Never use compound names as filenames as they can contain special characters"
   ]
  },
  {
   "cell_type": "markdown",
   "metadata": {
    "slideshow": {
     "slide_type": "subslide"
    }
   },
   "source": [
    "## Let's check some simple info on our molecules"
   ]
  },
  {
   "cell_type": "code",
   "execution_count": null,
   "metadata": {
    "slideshow": {
     "slide_type": "fragment"
    }
   },
   "outputs": [],
   "source": [
    "#First, we set up a 'for' loop over the three molecules we generated so we can apply the same commands to each\n",
    "for mol in [mol_from_smiles, mol_from_name, mol_from_file]:\n",
    "    #Now let's print some properties of our molecule\n",
    "    print(\"Number of atoms: \", mol.NumAtoms())"
   ]
  },
  {
   "cell_type": "markdown",
   "metadata": {
    "slideshow": {
     "slide_type": "subslide"
    }
   },
   "source": [
    "## Now a quick exercise: Check the atomic number of your atoms\n",
    "\n",
    "__Use the OpenEye toolkit [documentation on atom properties](http://docs.eyesopen.com/toolkits/python/oechemtk/atomproperties.html), plus the example code snippet below, to update the code above to print out the atomic number of all the atoms__. \n",
    "\n",
    "The code snippet is intended to illustrate how you can use a `for` loop to traverse the atoms within a molecule (in this case, with a boring result):"
   ]
  },
  {
   "cell_type": "code",
   "execution_count": null,
   "metadata": {
    "slideshow": {
     "slide_type": "fragment"
    }
   },
   "outputs": [],
   "source": [
    "for atom in mol.GetAtoms():\n",
    "    print(atom.GetFormalCharge())"
   ]
  },
  {
   "cell_type": "markdown",
   "metadata": {
    "slideshow": {
     "slide_type": "fragment"
    }
   },
   "source": [
    "Remember, if you want to update this to work on a different molecule, you will have to re-run not just this cell but also the cells above which generate the molecule."
   ]
  },
  {
   "cell_type": "markdown",
   "metadata": {
    "slideshow": {
     "slide_type": "slide"
    }
   },
   "source": [
    "# Now we want to work with molecules in 3D\n",
    "**So far all we had was a 1D or 2D representation**\n",
    "\n",
    "- Molecules are 3D\n",
    "- So far all we have is flat, 1D or 2D info\n",
    "- Modeling (e.g. energies, forces) requires 3D info\n",
    "- So we need 3D coordinates\n",
    "- Where do we get them?"
   ]
  },
  {
   "cell_type": "markdown",
   "metadata": {
    "slideshow": {
     "slide_type": "subslide"
    }
   },
   "source": [
    "## We need a tool to generate starting coordinates; OpenEye's Omega is one option\n",
    "\n",
    "- Omega is a good starting point\n",
    "- Uses molecular fragment libraries\n",
    "- See [Omega theory documentation](http://docs.eyesopen.com/toolkits/python/omegatk/omegatheory.html).\n",
    "\n",
    "So here, let's go ahead and generate a 3D conformation of our molecule:"
   ]
  },
  {
   "cell_type": "code",
   "execution_count": null,
   "metadata": {
    "slideshow": {
     "slide_type": "subslide"
    }
   },
   "outputs": [],
   "source": [
    "#First we set up Omega\n",
    "#Initialize class\n",
    "omega = OEOmega() \n",
    "#Only generate one conformer for our molecule\n",
    "omega.SetMaxConfs(1) \n",
    "#Set to False to pick random stereoisomer if stereochemistry is not specified (not relevant here)\n",
    "omega.SetStrictStereo(False) \n",
    "#Be a little loose about atom typing to ensure parameters are available to omega for all molecules\n",
    "omega.SetStrictAtomTypes(False) "
   ]
  },
  {
   "cell_type": "code",
   "execution_count": null,
   "metadata": {
    "slideshow": {
     "slide_type": "subslide"
    }
   },
   "outputs": [],
   "source": [
    "#Let's create a new molecule from our old molecule\n",
    "mol = OEMol(mol_from_file)\n",
    "\n",
    "#Now we generate conformations for our molecule from above. \n",
    "omega(mol)\n",
    "print(mol.NumAtoms())\n",
    "\n",
    "#If this works properly, you should get a number below\n",
    "#You might notice that it differs from the number you got above. Why?"
   ]
  },
  {
   "cell_type": "markdown",
   "metadata": {
    "slideshow": {
     "slide_type": "subslide"
    }
   },
   "source": [
    "## Let's visualize this molecule - first write it to a file"
   ]
  },
  {
   "cell_type": "code",
   "execution_count": null,
   "metadata": {
    "slideshow": {
     "slide_type": "fragment"
    }
   },
   "outputs": [],
   "source": [
    "#First we create an output stream (just like we did for an input stream)\n",
    "ostream = oemolostream( 'mymolecule.mol2')\n",
    "#Now we write our molecule\n",
    "OEWriteMolecule(ostream, mol)\n",
    "#And close the output stream\n",
    "ostream.close()"
   ]
  },
  {
   "cell_type": "markdown",
   "metadata": {
    "slideshow": {
     "slide_type": "subslide"
    }
   },
   "source": [
    "## Let's visualize this molecule - now load and use `nglview`"
   ]
  },
  {
   "cell_type": "code",
   "execution_count": null,
   "metadata": {
    "slideshow": {
     "slide_type": "fragment"
    }
   },
   "outputs": [],
   "source": [
    "# Visualize using py3dmol\n",
    "import py3Dmol\n",
    "\n",
    "viewer = py3Dmol.view(data=open('mymolecule.mol2','r').read(), style={'stick': {}})\n",
    "viewer.show()\n",
    "\n",
    "#view = py3Dmol.view(data=benz,style={'stick':{'colorscheme':'cyanCarbon'}})\n",
    "#view.show()\n",
    "# Now we'll visualize using nglview, something we'll use in more detail later\n",
    "#import mdtraj, nglview\n",
    "#traj = mdtraj.load('mymolecule.mol2')\n",
    "#view = nglview.show_mdtraj(traj)\n",
    "#view"
   ]
  },
  {
   "cell_type": "markdown",
   "metadata": {
    "slideshow": {
     "slide_type": "subslide"
    }
   },
   "source": [
    "You could also visualize using VMD (a common molecular simulation viewer), PyMol, or Chimera or similar"
   ]
  },
  {
   "cell_type": "markdown",
   "metadata": {
    "slideshow": {
     "slide_type": "slide"
    }
   },
   "source": [
    "# Next, we look at shape overlays\n",
    "\n",
    "### Shape overlays can provide valuable information on the structure of an active site or binding pocket\n",
    "\n",
    "- Ligands of same receptor often have similar 3D shape, chemistry\n",
    "- Substantial differences in 2D structure\n",
    "- So shape comparison provides info on binding site shape/structure (even without receptor)\n"
   ]
  },
  {
   "cell_type": "markdown",
   "metadata": {
    "slideshow": {
     "slide_type": "slide"
    }
   },
   "source": [
    "### Morphine and tramadol provide an example\n",
    "\n",
    "<img src = \"morphine_tramadol.png\">\n",
    "- [Sun et al., Drug Discov Today. 2012 Apr; 17(7-8): 310–324.](http://www.ncbi.nlm.nih.gov/pmc/articles/PMC3328312/), - Tramadol overlaid onto morphine\n",
    "- no obvious chemical similarity but high shape similarity\n",
    "- early example of \"scaffold hopping\": Scaffold changed but activity remains"
   ]
  },
  {
   "cell_type": "markdown",
   "metadata": {
    "slideshow": {
     "slide_type": "subslide"
    }
   },
   "source": [
    "### Here we'll try and reproduce that overlay"
   ]
  },
  {
   "cell_type": "code",
   "execution_count": null,
   "metadata": {
    "slideshow": {
     "slide_type": "fragment"
    }
   },
   "outputs": [],
   "source": [
    "#Let's first generate morphine and tramadol from their names\n",
    "morphine= OEMol()\n",
    "OEParseIUPACName(morphine, 'morphine')\n",
    "#Make sure we get 'True' so we know it worked:"
   ]
  },
  {
   "cell_type": "code",
   "execution_count": null,
   "metadata": {
    "slideshow": {
     "slide_type": "subslide"
    }
   },
   "outputs": [],
   "source": [
    "#What about tramadol?\n",
    "tramadol = OEMol()\n",
    "OEParseIUPACName(tramadol, 'tramadol')"
   ]
  },
  {
   "cell_type": "code",
   "execution_count": null,
   "metadata": {
    "slideshow": {
     "slide_type": "fragment"
    }
   },
   "outputs": [],
   "source": [
    "#Whoops, that doesn't work. So we pull the IUPAC name from Wikipedia.\n",
    "OEParseIUPACName(tramadol, '2-[(Dimethylamino)methyl]-1-(3-methoxyphenyl)cyclohexanol')"
   ]
  },
  {
   "cell_type": "markdown",
   "metadata": {
    "slideshow": {
     "slide_type": "subslide"
    }
   },
   "source": [
    "### Depict them to make sure they processed properly! "
   ]
  },
  {
   "cell_type": "code",
   "execution_count": null,
   "metadata": {
    "slideshow": {
     "slide_type": "fragment"
    }
   },
   "outputs": [],
   "source": [
    "# your code here"
   ]
  },
  {
   "cell_type": "markdown",
   "metadata": {
    "slideshow": {
     "slide_type": "slide"
    }
   },
   "source": [
    "### Let's set up Omega again for conformer generation"
   ]
  },
  {
   "cell_type": "code",
   "execution_count": null,
   "metadata": {
    "slideshow": {
     "slide_type": "subslide"
    }
   },
   "outputs": [],
   "source": [
    "#We make sure Omega is loaded and initialized\n",
    "#This time we want to consider multiple conformations, since the OpenEye shape toolkit will just do a rigid\n",
    "#overlay of whatever conformations we give it onto one another. But here, at least one of the molecules\n",
    "#has substantial flexibility, and we want to find the conformation which results in the best match\n",
    "omega = OEOmega() #Initialize class\n",
    "omega.SetMaxConfs(100) #Here we want to use more conformers if needed\n",
    "omega.SetStrictStereo(False) #Set to false to pick random stereoisomer if stereochemistry is not specified\n",
    "omega.SetStrictAtomTypes(False) #Be a little loose about atom typing to ensure parameters are available to omega for all molecules\n",
    "#In this case the 'StrictStereo' parameter above will also matter. Since tramadol has an unspecified stereocenter, \n",
    "#this will cause Omega to pick a random stereoisomer. Without specifying this, Omega will refuse to do anything."
   ]
  },
  {
   "cell_type": "code",
   "execution_count": null,
   "metadata": {
    "slideshow": {
     "slide_type": "subslide"
    }
   },
   "outputs": [],
   "source": [
    "#Now let's generate 3D conformations for morphine and label it our 'reference' molecule:\n",
    "refmol = morphine\n",
    "omega(refmol)\n",
    "\n",
    "#Now we generate 3D conformations for tramadol and label it our 'fitmol', the molecule to be fit onto the reference\n",
    "fitmol = tramadol\n",
    "omega(fitmol)\n",
    "fitmol.SetTitle('tramadol')\n",
    "\n",
    "#And just so we can see how this works, let's write out morphine to a mol2 file for viewing later\n",
    "ofs = oemolostream('ref.mol2')\n",
    "OEWriteMolecule(ofs, refmol)\n",
    "ofs.close()"
   ]
  },
  {
   "cell_type": "markdown",
   "metadata": {
    "slideshow": {
     "slide_type": "slide"
    }
   },
   "source": [
    "### Now we'll do a shape overlay\n",
    "\n",
    "You'll see some of this again in homework if you do the 3D structure/shape assignment, but you won't need to really change it. Still, I'll briefly explain how it works."
   ]
  },
  {
   "cell_type": "code",
   "execution_count": null,
   "metadata": {
    "slideshow": {
     "slide_type": "subslide"
    }
   },
   "outputs": [],
   "source": [
    "# Open output stream for output molecule\n",
    "outfs = oemolostream('fitted_output.mol2')\n",
    "# How many conformers will we generate for fitting?\n",
    "nconfs = 20"
   ]
  },
  {
   "cell_type": "code",
   "execution_count": null,
   "metadata": {
    "slideshow": {
     "slide_type": "fragment"
    }
   },
   "outputs": [],
   "source": [
    "# Setup ROCS to provide specified number of conformers per hit\n",
    "options = OEROCSOptions()\n",
    "options.SetNumBestHits(1)\n",
    "options.SetConfsPerHit(nconfs)\n",
    "rocs = OEROCS(options)\n",
    "rocs.AddMolecule(fitmol) #Add our molecule as the one we are fitting"
   ]
  },
  {
   "cell_type": "code",
   "execution_count": null,
   "metadata": {
    "slideshow": {
     "slide_type": "subslide"
    }
   },
   "outputs": [],
   "source": [
    "# Loop over results and output\n",
    "for res in rocs.Overlay(refmol):\n",
    "    outmol = res.GetOverlayConf() #Use GetOverlayConf to get just the best; GetOverlayConfs for all\n",
    "    OERemoveColorAtoms(outmol)\n",
    "    OEAddExplicitHydrogens(outmol)\n",
    "    OEWriteMolecule(outfs, outmol)\n",
    "    print(\"title: %s  tanimoto combo = %.2f\" % (outmol.GetTitle(), res.GetTanimotoCombo()))\n",
    "outfs.close()"
   ]
  },
  {
   "cell_type": "markdown",
   "metadata": {
    "slideshow": {
     "slide_type": "subslide"
    }
   },
   "source": [
    "### Now let's visualize and see if that worked to reproduce the overlay"
   ]
  },
  {
   "cell_type": "code",
   "execution_count": null,
   "metadata": {
    "slideshow": {
     "slide_type": "subslide"
    }
   },
   "outputs": [],
   "source": [
    "import py3Dmol\n",
    "#First we assign the py3Dmol.view as viewer\n",
    "viewer = py3Dmol.view()\n",
    "viewer.addModel(open('ref.mol2', 'r').read(),'mol2')\n",
    "viewer.addModel(open('fitted_output.mol2', 'r').read(),'mol2')\n",
    "viewer.setStyle({'stick':{}})\n",
    "#Zooming into all visualized structures \n",
    "viewer.zoomTo()\n",
    "#And we finally visualize the structures using the command below\n",
    "viewer.show()\n",
    "\n",
    "# optionally, use nglview\n",
    "#import mdtraj, nglview\n",
    "#ref = mdtraj.load('ref.mol2')\n",
    "#view = nglview.show_mdtraj(ref)\n",
    "#fitted = mdtraj.load('fitted_output.mol2')\n",
    "#view.add_trajectory(fitted)\n",
    "#the two lines below may not work for you\n",
    "##view[1].clear_representations() #Use this and the below to switch one to blue sticks to make it easier to see\n",
    "##view[1].add_ball_and_stick(color='blue')\n",
    "#view"
   ]
  },
  {
   "cell_type": "markdown",
   "metadata": {
    "slideshow": {
     "slide_type": "subslide"
    }
   },
   "source": [
    "I've also noted an mdtraj or nglview issue where if the mol2 file is multi-conformer, the view doesn't appear properly (maybe it shows the last match only, or the alignment gets messed up by the multiple conformations)\n",
    "\n",
    "If you'd like to see ALL the overlaid conformations, use `GetConfs()` rather than `GetConf()` above and visualize in PyMol or VMD or Chimera or another viewer which allows you to loop through conformations."
   ]
  }
 ],
 "metadata": {
  "celltoolbar": "Slideshow",
  "kernelspec": {
   "display_name": "Python [conda env:drugcomp] *",
   "language": "python",
   "name": "conda-env-drugcomp-py"
  },
  "language_info": {
   "codemirror_mode": {
    "name": "ipython",
    "version": 3
   },
   "file_extension": ".py",
   "mimetype": "text/x-python",
   "name": "python",
   "nbconvert_exporter": "python",
   "pygments_lexer": "ipython3",
   "version": "3.8.12"
  },
  "livereveal": {
   "height": 900,
   "start_slideshow_at": "selected",
   "width": 1440
  },
  "toc": {
   "nav_menu": {},
   "number_sections": true,
   "sideBar": true,
   "skip_h1_title": false,
   "toc_cell": false,
   "toc_position": {},
   "toc_section_display": "block",
   "toc_window_display": false
  }
 },
 "nbformat": 4,
 "nbformat_minor": 2
}
