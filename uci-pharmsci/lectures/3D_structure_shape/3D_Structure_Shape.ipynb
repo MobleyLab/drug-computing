{
 "cells": [
  {
   "cell_type": "markdown",
   "metadata": {
    "id": "B9LjrMMyIfBs",
    "slideshow": {
     "slide_type": "slide"
    }
   },
   "source": [
    "# PharmSci 175/275 (UCI)\n",
    "## What is this?? \n",
    "The material below is Lecture 3 (on working with molecules, generating 3D structures, and shape methods) from Drug Discovery Computing Techniques, PharmSci 175/275 at UC Irvine. \n",
    "Extensive materials for this course, as well as extensive background and related materials, are available on the course GitHub repository: [github.com/mobleylab/drug-computing](https://github.com/mobleylab/drug-computing)\n",
    "\n",
    "This material is a set of slides intended for presentation with RISE as detailed [in the course materials on GitHub](https://github.com/MobleyLab/drug-computing/tree/master/uci-pharmsci/lectures/energy_minimization). While it may be useful without RISE, it will also likely appear somewhat less verbose than it would if it were intended for use in written form."
   ]
  },
  {
   "cell_type": "markdown",
   "metadata": {
    "id": "c7ZZ2bsFIfBw",
    "slideshow": {
     "slide_type": "slide"
    }
   },
   "source": [
    "# Molecules, 3D structure, and shape\n",
    "\n",
    "Today: Chemistry tools in Python; working with molecules; generating 3D conformers; shape search methods\n",
    "\n",
    "### Instructor: David L. Mobley\n",
    "\n",
    "### Contributors to today's materials:\n",
    "- David L. Mobley\n",
    "- AK Nandkeolyar\n",
    "- Danielle Bergazin\n",
    "\n",
    "This notebook requires the OpenEye toolkits on top of a standard scientific Python installation."
   ]
  },
  {
   "cell_type": "markdown",
   "metadata": {
    "slideshow": {
     "slide_type": "skip"
    }
   },
   "source": [
    "## Preparation for using Google Colab (SKIP IF RUNNING LOCALLY))\n",
    "\n",
    "[![Open in Colab](https://colab.research.google.com/assets/colab-badge.svg)](https://colab.research.google.com/github/MobleyLab/drug-computing/blob/master/uci-pharmsci/lectures/3D_structure_shape/3D_Structure_Shape.ipynb)\n",
    "\n",
    "If you are running this on Google Colab, you need to take a couple additional steps of preparation:\n",
    "1) Mount your Google Drive to this notebook:"
   ]
  },
  {
   "cell_type": "code",
   "execution_count": 2,
   "metadata": {
    "slideshow": {
     "slide_type": "skip"
    }
   },
   "outputs": [
    {
     "ename": "ModuleNotFoundError",
     "evalue": "No module named 'google'",
     "output_type": "error",
     "traceback": [
      "\u001b[0;31m---------------------------------------------------------------------------\u001b[0m",
      "\u001b[0;31mModuleNotFoundError\u001b[0m                       Traceback (most recent call last)",
      "\u001b[0;32m/var/folders/cq/9m71_bk509l55nczqkqxpy3c0000gn/T/ipykernel_4874/1550949915.py\u001b[0m in \u001b[0;36m<module>\u001b[0;34m\u001b[0m\n\u001b[1;32m      2\u001b[0m \u001b[0;34m\u001b[0m\u001b[0m\n\u001b[1;32m      3\u001b[0m \u001b[0;31m# Mount google drive to Colab Notebooks to access files\u001b[0m\u001b[0;34m\u001b[0m\u001b[0;34m\u001b[0m\u001b[0m\n\u001b[0;32m----> 4\u001b[0;31m \u001b[0;32mfrom\u001b[0m \u001b[0mgoogle\u001b[0m\u001b[0;34m.\u001b[0m\u001b[0mcolab\u001b[0m \u001b[0;32mimport\u001b[0m \u001b[0mdrive\u001b[0m\u001b[0;34m\u001b[0m\u001b[0;34m\u001b[0m\u001b[0m\n\u001b[0m\u001b[1;32m      5\u001b[0m \u001b[0mdrive\u001b[0m\u001b[0;34m.\u001b[0m\u001b[0mmount\u001b[0m\u001b[0;34m(\u001b[0m\u001b[0;34m'/content/drive'\u001b[0m\u001b[0;34m,\u001b[0m \u001b[0mforce_remount\u001b[0m \u001b[0;34m=\u001b[0m \u001b[0;32mTrue\u001b[0m\u001b[0;34m)\u001b[0m\u001b[0;34m\u001b[0m\u001b[0;34m\u001b[0m\u001b[0m\n",
      "\u001b[0;31mModuleNotFoundError\u001b[0m: No module named 'google'"
     ]
    }
   ],
   "source": [
    "# Run cell if using collab\n",
    "\n",
    "# Mount google drive to Colab Notebooks to access files\n",
    "from google.colab import drive\n",
    "drive.mount('/content/drive', force_remount = True)"
   ]
  },
  {
   "cell_type": "markdown",
   "metadata": {
    "slideshow": {
     "slide_type": "skip"
    }
   },
   "source": [
    "2) **If you are running this on Google Colab, pip install dependencies**:"
   ]
  },
  {
   "cell_type": "code",
   "execution_count": null,
   "metadata": {
    "slideshow": {
     "slide_type": "skip"
    }
   },
   "outputs": [],
   "source": [
    "!pip install -i https://pypi.anaconda.org/openeye/simple openeye-toolkits"
   ]
  },
  {
   "cell_type": "markdown",
   "metadata": {
    "slideshow": {
     "slide_type": "skip"
    }
   },
   "source": [
    "3) **Make sure your OpenEye license is on your Drive and configured**; adjust the path below if needed and then run this cell to test:"
   ]
  },
  {
   "cell_type": "code",
   "execution_count": null,
   "metadata": {
    "slideshow": {
     "slide_type": "skip"
    }
   },
   "outputs": [],
   "source": [
    "license_filename = '/content/drive/MyDrive/oe_license.txt'\n",
    "import openeye\n",
    "\n",
    "import os\n",
    "if os.path.isfile(license_filename):\n",
    "  license_file = open(license_filename, 'r')\n",
    "  openeye.OEAddLicenseData(license_file.read())\n",
    "  license_file.close()\n",
    "else:\n",
    "  print(\"Error: Your OpenEye license is not readable; please check your filename and that you have mounted your Google Drive\")\n",
    "\n",
    "licensed = openeye.oechem.OEChemIsLicensed()\n",
    "print(\"Was your OpenEye license correctly installed (True/False)? \" + str(licensed))\n",
    "if not licensed:\n",
    "  print(\"Error: Your OpenEye license is not correctly installed.\")\n",
    "  raise Exception(\"Error: Your OpenEye license is not correctly installed.\")"
   ]
  },
  {
   "cell_type": "markdown",
   "metadata": {
    "slideshow": {
     "slide_type": "skip"
    }
   },
   "source": [
    "4) If you would like the files used in this notebook to work properly, place the course GitHub repo into your Google Drive and then edit the path below so it points to the location of this lecture's folder, then evaluate this cell:"
   ]
  },
  {
   "cell_type": "code",
   "execution_count": null,
   "metadata": {
    "slideshow": {
     "slide_type": "skip"
    }
   },
   "outputs": [],
   "source": [
    "# Run cell if using collab\n",
    "\n",
    "# Move into directory so that files for this lecture can be accessed\n",
    "%cd /content/drive/MyDrive/drug-computing/uci-pharmsci/lectures/3D_structure_shape/\n",
    "%ls "
   ]
  },
  {
   "cell_type": "markdown",
   "metadata": {
    "id": "GPtnGV02IfBx",
    "slideshow": {
     "slide_type": "slide"
    }
   },
   "source": [
    "# Working with molecules in Python: OpenEye toolkits, 3D structures, and shape overlays\n",
    "\n",
    "- We often want to work with molecules or sets of molecules\n",
    "- Perhaps from name or [SMILES string](http://en.wikipedia.org/wiki/Simplified_molecular-input_line-entry_system)\n",
    "- Maybe as a 2D drawing from ChemDraw, MarvinSketch, or ChemDoodle\n",
    "- Maybe from crystal structure with protein (but need to fill in missing chemistry, protons)"
   ]
  },
  {
   "cell_type": "markdown",
   "metadata": {
    "id": "_Zg7GUkcIfBy",
    "slideshow": {
     "slide_type": "slide"
    }
   },
   "source": [
    "## Today: Loading and working with molecules, generating conformers, shape overlays\n",
    "\n",
    "Serves to introduce the [OpenEye toolkits](www.eyesopen.com) via:\n",
    "1. Loading molecules from files/names/SMILES\n",
    "2. Generating 3D conformations\n",
    "3. Doing shape overlays \n",
    "4. Writing out the final molecules\n",
    "\n",
    "The [OpenEye Python toolkit documentation](http://docs.eyesopen.com/toolkits/python/) is online, and they also have a [cookbook](https://docs.eyesopen.com/toolkits/cookbook/python/) with a variety of interesting examples."
   ]
  },
  {
   "cell_type": "markdown",
   "metadata": {
    "id": "S8hGddGpIfBz",
    "slideshow": {
     "slide_type": "slide"
    }
   },
   "source": [
    "## Here we will draw mainly on five OpenEye toolkits\n",
    "* `OEChem`: The generic OpenEye chemistry toolkit, for working with molecules (reading/writing, traversing atoms/bonds, etc)\n",
    "* `OEOmega`: Omega is OpenEye's toolkit for working with molecular conformations/generating 3D conformations\n",
    "* `OEShape`: Their shape toolkit, for doing things like shape overlays of molecules\n",
    "* `OEIUPAC`: For working with chemical naming\n",
    "* `OEDepict`: For depiction of small molecules\n",
    "\n",
    "We need to start off by importing these so we can work with them here (REMINDER: be sure to shift-enter/hit play in the box below to evaluate it so that you import these for yourself):"
   ]
  },
  {
   "cell_type": "code",
   "execution_count": 12,
   "metadata": {
    "id": "6UlYEcTyIfBz",
    "slideshow": {
     "slide_type": "fragment"
    }
   },
   "outputs": [],
   "source": [
    "from openeye.oechem import *\n",
    "from openeye.oeiupac import *\n",
    "from openeye.oeomega import *\n",
    "from openeye.oeshape import *\n",
    "from openeye.oedepict import *"
   ]
  },
  {
   "cell_type": "markdown",
   "metadata": {
    "id": "aY-fEkjVIfB1",
    "slideshow": {
     "slide_type": "slide"
    }
   },
   "source": [
    "# Now we need to see how to load molecules\n",
    "- We'll start by loading molecules we draw\n",
    "- Then we'll load from other formats\n",
    "- Often a name or SMILES string is a better starting point than a 2D drawing\n",
    "- But 2D drawings are commonly provided by experimental collaborators"
   ]
  },
  {
   "cell_type": "markdown",
   "metadata": {
    "id": "t3gxW7ZGIfB2",
    "slideshow": {
     "slide_type": "slide"
    }
   },
   "source": [
    "## Most 2D viewers can save or export useful molecules; MarvinSketch is a good free option\n",
    "\n",
    "* There's an [online (web-based) version](https://marvinjs-demo.chemaxon.com/latest/) requiring javascript\n",
    "* As well as a [free downloadable version](https://www.chemaxon.com/products/marvin/marvinsketch/)\n",
    "\n",
    "With Marvin you should be able to easily make some molecules and download them in various formats for manipulating here. Draw a molecule you'd like to work on, then you can access it in several formats:\n",
    "* For SMILES: Select the molecule, choose \"Edit\">\"Copy as Smiles\"\n",
    "* For compound name: Choose \"Structure\">\"Structure to name\">\"Generate name\"\n",
    "* For a file: Select the molecule, choose \"File\">\"Save as...\" and select your file format. MDL .mol files are fairly universal."
   ]
  },
  {
   "cell_type": "markdown",
   "metadata": {
    "id": "Cop_v24QIfB2",
    "slideshow": {
     "slide_type": "slide"
    }
   },
   "source": [
    "## Let's take an example\n",
    "\n",
    "We'll load all three formats using the OpenEye toolkits. As a starting point let's take this molecule drawn in Marvin:\n"
   ]
  },
  {
   "cell_type": "code",
   "execution_count": 3,
   "metadata": {
    "colab": {
     "base_uri": "https://localhost:8080/",
     "height": 472
    },
    "id": "qb89lw7vL5d-",
    "outputId": "0fb6ee09-809e-43cf-c331-277e7295072e",
    "slideshow": {
     "slide_type": "fragment"
    }
   },
   "outputs": [
    {
     "data": {
      "image/png": "[encoded data removed]",
      "text/plain": [
       "<IPython.core.display.Image object>"
      ]
     },
     "execution_count": 3,
     "metadata": {
      "image/png": {
       "width": 600
      }
     },
     "output_type": "execute_result"
    }
   ],
   "source": [
    "from IPython.display import Image\n",
    "Image('Marvin_molecule.png',width = 600) #, height = 300)"
   ]
  },
  {
   "cell_type": "markdown",
   "metadata": {
    "id": "n4D61fU2L1n4",
    "slideshow": {
     "slide_type": "fragment"
    }
   },
   "source": [
    "We obtain the SMILES and compound name (\"CC1=CC2=C(C=C1)C(Cl)=CC=C2\" and \"1-chloro-6-methylnapthalene\", respectively) and I exported the molecule to \"Marvin_molecule.mol\"."
   ]
  },
  {
   "cell_type": "markdown",
   "metadata": {
    "id": "fAjyHw6RIfB3",
    "slideshow": {
     "slide_type": "slide"
    }
   },
   "source": [
    "## Next we load the molecule \n",
    "\n",
    "Now we move to Python to load the molecule, starting with SMILES"
   ]
  },
  {
   "cell_type": "code",
   "execution_count": 4,
   "metadata": {
    "colab": {
     "base_uri": "https://localhost:8080/"
    },
    "id": "AYOZYB4fIfB3",
    "outputId": "36675183-211a-4f38-898a-01df03e7b298",
    "slideshow": {
     "slide_type": "fragment"
    }
   },
   "outputs": [
    {
     "data": {
      "text/plain": [
       "True"
      ]
     },
     "execution_count": 4,
     "metadata": {},
     "output_type": "execute_result"
    }
   ],
   "source": [
    "#First, we create an empty OEChem molecule object which we will store our molecule into\n",
    "mol_from_smiles = OEMol()\n",
    "\n",
    "#Next we grab our SMILES string from Marvin\n",
    "smiles = \"CC1=CC2=C(C=C1)C(Cl)=CC=C2\"\n",
    "\n",
    "#Then we parse the SMILES string\n",
    "OEParseSmiles(mol_from_smiles, smiles)\n",
    "\n",
    "#If successful, we should see no error message and the function will output 'True'. \n",
    "#We could catch this in a variable if we wanted."
   ]
  },
  {
   "cell_type": "markdown",
   "metadata": {
    "id": "NgPJgiTZIfB4",
    "slideshow": {
     "slide_type": "slide"
    }
   },
   "source": [
    "## Let's check we have the right molecule by depicting it"
   ]
  },
  {
   "cell_type": "code",
   "execution_count": 5,
   "metadata": {
    "slideshow": {
     "slide_type": "fragment"
    }
   },
   "outputs": [
    {
     "data": {
      "image/png": "[encoded data removed]",
      "text/plain": [
       "<IPython.core.display.Image object>"
      ]
     },
     "execution_count": 5,
     "metadata": {
      "image/png": {
       "width": 200
      }
     },
     "output_type": "execute_result"
    }
   ],
   "source": [
    "import openeye.oedepict as oedepict # Use OpenEye depiction toolkit\n",
    "oedepict.OEPrepareDepiction(mol_from_smiles)\n",
    "oedepict.OERenderMolecule(\"DepictMolSimple.png\", mol_from_smiles)\n",
    "Image('DepictMolSimple.png',width = 200)"
   ]
  },
  {
   "cell_type": "markdown",
   "metadata": {
    "id": "ew8bW-m9IfB4",
    "slideshow": {
     "slide_type": "fragment"
    }
   },
   "source": [
    "Yup, that's it, just rotated a bit."
   ]
  },
  {
   "cell_type": "markdown",
   "metadata": {
    "id": "ZTf-lhf-IfB5",
    "slideshow": {
     "slide_type": "slide"
    }
   },
   "source": [
    "## Next, let's work from the IUPAC name"
   ]
  },
  {
   "cell_type": "code",
   "execution_count": 6,
   "metadata": {
    "colab": {
     "base_uri": "https://localhost:8080/"
    },
    "id": "fSoe-gCqIfB5",
    "outputId": "994f9a16-8218-41e3-d984-6a89ac73c555",
    "slideshow": {
     "slide_type": "fragment"
    }
   },
   "outputs": [
    {
     "data": {
      "text/plain": [
       "True"
      ]
     },
     "execution_count": 6,
     "metadata": {},
     "output_type": "execute_result"
    }
   ],
   "source": [
    "#Create a new OEMol\n",
    "mol_from_name = OEMol()\n",
    "\n",
    "#Store our name\n",
    "name = \"1-chloro-6-methylnapthalene\"\n",
    "\n",
    "#Parse the name\n",
    "OEParseIUPACName(mol_from_name, name)\n",
    "\n",
    "#Again, if successful, we should see no error message and the function will output 'True'."
   ]
  },
  {
   "cell_type": "code",
   "execution_count": 7,
   "metadata": {
    "colab": {
     "base_uri": "https://localhost:8080/",
     "height": 217
    },
    "id": "H2ZcuCmeIfB5",
    "outputId": "74d82941-ae42-428a-9de9-32f443c1f00f",
    "slideshow": {
     "slide_type": "fragment"
    }
   },
   "outputs": [
    {
     "data": {
      "image/png": "[encoded data removed]",
      "text/plain": [
       "<IPython.core.display.Image object>"
      ]
     },
     "execution_count": 7,
     "metadata": {
      "image/png": {
       "width": 200
      }
     },
     "output_type": "execute_result"
    }
   ],
   "source": [
    "oedepict.OEPrepareDepiction(mol_from_name)\n",
    "oedepict.OERenderMolecule(\"DepictMolName.png\", mol_from_name)\n",
    "Image('DepictMolName.png',width = 200)"
   ]
  },
  {
   "cell_type": "markdown",
   "metadata": {
    "id": "7SC1pNLAIfB5",
    "slideshow": {
     "slide_type": "slide"
    }
   },
   "source": [
    "## Let's read it from a file"
   ]
  },
  {
   "cell_type": "code",
   "execution_count": 8,
   "metadata": {
    "id": "vOo7MfhdIfB6",
    "slideshow": {
     "slide_type": "fragment"
    }
   },
   "outputs": [],
   "source": [
    "#First, we need to initialize an OpenEye \"molecule stream\" to read from a file - in this case an input stream\n",
    "istream = oemolistream( 'Marvin_molecule.mol') #oemolistream is an openeye molecule input stream. We name it istream\n",
    "\n",
    "#Next we create a molecule object\n",
    "mol_from_file = OEMol()\n",
    "\n",
    "#We read the molecule\n",
    "OEReadMolecule( istream, mol_from_file)\n",
    "\n",
    "#Close our file\n",
    "istream.close()\n",
    "\n",
    "#Here there should be no message if successful."
   ]
  },
  {
   "cell_type": "markdown",
   "metadata": {
    "id": "kIq2R9nqIfB6",
    "slideshow": {
     "slide_type": "slide"
    }
   },
   "source": [
    "## We can also save images to files easily enough"
   ]
  },
  {
   "cell_type": "code",
   "execution_count": 9,
   "metadata": {
    "colab": {
     "base_uri": "https://localhost:8080/"
    },
    "id": "8ghHNGffIfB6",
    "outputId": "b4448378-686a-4fae-826b-c5917ef5ac59",
    "slideshow": {
     "slide_type": "fragment"
    }
   },
   "outputs": [
    {
     "data": {
      "text/plain": [
       "True"
      ]
     },
     "execution_count": 9,
     "metadata": {},
     "output_type": "execute_result"
    }
   ],
   "source": [
    "# Set width, height, and whether or not to display hydrogens\n",
    "width=500\n",
    "height=200\n",
    "supH = True #Suppress hydrogens?\n",
    "\n",
    "# Prepare depiction/options\n",
    "mol = oechem.OEMol(mol_from_smiles) # Create new OEMol; without this, it might flatten your molecule\n",
    "dopt = OEPrepareDepictionOptions() # Get options\n",
    "dopt.SetSuppressHydrogens(supH) # Hide hydrogens\n",
    "OEPrepareDepiction(mol, dopt) # Prepare depiction\n",
    "opts = OE2DMolDisplayOptions(width, height, OEScale_AutoScale) # Set size options/scaling\n",
    "\n",
    "# Set up display and export image to file\n",
    "disp = OE2DMolDisplay(mol, opts)\n",
    "OERenderMolecule('test_image.pdf', disp, False)"
   ]
  },
  {
   "cell_type": "markdown",
   "metadata": {
    "id": "IOY_JfG2IfB7",
    "slideshow": {
     "slide_type": "subslide"
    }
   },
   "source": [
    "You should now have a `test_image.pdf` file in this directory."
   ]
  },
  {
   "cell_type": "code",
   "execution_count": 17,
   "metadata": {
    "colab": {
     "base_uri": "https://localhost:8080/"
    },
    "id": "VmUi_fRgMiLe",
    "outputId": "491591f0-e6ea-49b4-b865-b1a75cd0471c",
    "slideshow": {
     "slide_type": "fragment"
    }
   },
   "outputs": [
    {
     "name": "stdout",
     "output_type": "stream",
     "text": [
      "3D_Structure_Shape.ipynb   mymolecule.mol2\n",
      "test_image.pdf             morphine_tramadol_mine.png\n",
      "DepictMolName.png          morphine_tramadol.png\n",
      "DepictMolSimple.png        Marvin_molecule.png\n",
      "ref.mol2                   Marvin_molecule.mol\n"
     ]
    }
   ],
   "source": [
    "!ls -t\n",
    "# On colab you will need to prefix this with % to indicate it is a shell command"
   ]
  },
  {
   "cell_type": "markdown",
   "metadata": {
    "id": "lmtDCONKIfB7",
    "slideshow": {
     "slide_type": "slide"
    }
   },
   "source": [
    "## In general, use SMILES or files for storing molecules -- not names"
   ]
  },
  {
   "cell_type": "markdown",
   "metadata": {
    "id": "bVQiJI-JIfB7",
    "slideshow": {
     "slide_type": "fragment"
    }
   },
   "source": [
    "- SMILES and files are most generally useful/robust\n",
    "- Chemical names quickly become difficult (or impossible) to automatically parse\n",
    "- SMILES are an excellent flexible general representation for 1D\n",
    "- If 2D or 3D is needed, use files, e.g. `.mol`, `.sdf`, or `.mol2`\n",
    "\n",
    "Tangent: Never use compound names as filenames as they can contain special characters"
   ]
  },
  {
   "cell_type": "markdown",
   "metadata": {
    "id": "g7NZHYWhIfB_",
    "slideshow": {
     "slide_type": "slide"
    }
   },
   "source": [
    "## Let's check some simple info on our molecules"
   ]
  },
  {
   "cell_type": "code",
   "execution_count": 10,
   "metadata": {
    "colab": {
     "base_uri": "https://localhost:8080/"
    },
    "id": "3qnf8Nz-IfB_",
    "outputId": "86212fed-448c-47df-b545-49d2687a7044",
    "slideshow": {
     "slide_type": "fragment"
    }
   },
   "outputs": [
    {
     "name": "stdout",
     "output_type": "stream",
     "text": [
      "Number of atoms:  12\n",
      "Number of atoms:  12\n",
      "Number of atoms:  12\n"
     ]
    }
   ],
   "source": [
    "#First, we set up a 'for' loop over the three molecules we generated so we can apply the same commands to each\n",
    "for mol in [mol_from_smiles, mol_from_name, mol_from_file]:\n",
    "    #Now let's print some properties of our molecule\n",
    "    print(\"Number of atoms: \", mol.NumAtoms())"
   ]
  },
  {
   "cell_type": "markdown",
   "metadata": {
    "id": "fkhHXrp6IfCA",
    "slideshow": {
     "slide_type": "slide"
    }
   },
   "source": [
    "## Now a quick exercise: Check the atomic number of your atoms\n",
    "\n",
    "__Use the OpenEye toolkit [documentation on atom properties](http://docs.eyesopen.com/toolkits/python/oechemtk/atomproperties.html), plus the example code snippet below, to update the code above to print out the atomic number of all the atoms__. \n",
    "\n",
    "The code snippet is intended to illustrate how you can use a `for` loop to traverse the atoms within a molecule (in this case, with a boring result):"
   ]
  },
  {
   "cell_type": "code",
   "execution_count": 11,
   "metadata": {
    "colab": {
     "base_uri": "https://localhost:8080/"
    },
    "id": "hsIfspuiIfCA",
    "outputId": "ee2c58fe-890b-4220-c95e-74d18e3ac57b",
    "slideshow": {
     "slide_type": "fragment"
    }
   },
   "outputs": [
    {
     "name": "stdout",
     "output_type": "stream",
     "text": [
      "0\n",
      "0\n",
      "0\n",
      "0\n",
      "0\n",
      "0\n",
      "0\n",
      "0\n",
      "0\n",
      "0\n",
      "0\n",
      "0\n"
     ]
    }
   ],
   "source": [
    "for atom in mol.GetAtoms():\n",
    "    print(atom.GetFormalCharge())"
   ]
  },
  {
   "cell_type": "markdown",
   "metadata": {
    "id": "26QhyCa5IfCA",
    "slideshow": {
     "slide_type": "fragment"
    }
   },
   "source": [
    "Remember, if you want to update this to work on a different molecule, you will have to re-run not just this cell but also the cells above which generate the molecule."
   ]
  },
  {
   "cell_type": "markdown",
   "metadata": {
    "id": "pkl7YEQuIfCA",
    "slideshow": {
     "slide_type": "slide"
    }
   },
   "source": [
    "# Now we want to work with molecules in 3D\n",
    "**So far all we had was a 1D or 2D representation**\n",
    "\n",
    "- Molecules are 3D\n",
    "- So far all we have is flat, 1D or 2D info\n",
    "- Modeling (e.g. energies, forces) requires 3D info\n",
    "- So we need 3D coordinates\n",
    "- Where do we get them?"
   ]
  },
  {
   "cell_type": "markdown",
   "metadata": {
    "id": "5RinjAWqIfCB",
    "slideshow": {
     "slide_type": "slide"
    }
   },
   "source": [
    "## We need a tool to generate starting coordinates; OpenEye's Omega is one option\n",
    "\n",
    "- Omega is a good starting point\n",
    "- Uses molecular fragment libraries\n",
    "- See [Omega theory documentation](http://docs.eyesopen.com/toolkits/python/omegatk/omegatheory.html).\n",
    "\n",
    "So here, let's go ahead and generate a 3D conformation of our molecule:"
   ]
  },
  {
   "cell_type": "code",
   "execution_count": 7,
   "metadata": {
    "id": "ZbQYc77GIfCB",
    "slideshow": {
     "slide_type": "fragment"
    }
   },
   "outputs": [],
   "source": [
    "#First we set up Omega\n",
    "#Initialize class\n",
    "omega = OEOmega() \n",
    "#Only generate one conformer for our molecule\n",
    "omega.SetMaxConfs(1) \n",
    "#Set to False to pick random stereoisomer if stereochemistry is not specified (not relevant here)\n",
    "omega.SetStrictStereo(False) \n",
    "#Be a little loose about atom typing to ensure parameters are available to omega for all molecules\n",
    "omega.SetStrictAtomTypes(False) "
   ]
  },
  {
   "cell_type": "code",
   "execution_count": 8,
   "metadata": {
    "colab": {
     "base_uri": "https://localhost:8080/"
    },
    "id": "1aOSwCUoIfCB",
    "outputId": "46837519-2f61-45ed-92ff-98d32b584bd6",
    "slideshow": {
     "slide_type": "slide"
    }
   },
   "outputs": [
    {
     "name": "stdout",
     "output_type": "stream",
     "text": [
      "21\n"
     ]
    }
   ],
   "source": [
    "#Let's create a new molecule from our old molecule\n",
    "mol = OEMol(mol_from_file)\n",
    "\n",
    "#Now we generate conformations for our molecule from above. \n",
    "omega(mol)\n",
    "print(mol.NumAtoms())\n",
    "\n",
    "#If this works properly, you should get a number below\n",
    "#You might notice that it differs from the number you got above. Why?"
   ]
  },
  {
   "cell_type": "markdown",
   "metadata": {
    "id": "LTZ3z2RkIfCB",
    "slideshow": {
     "slide_type": "slide"
    }
   },
   "source": [
    "## Let's visualize this molecule - first write it to a file"
   ]
  },
  {
   "cell_type": "code",
   "execution_count": 9,
   "metadata": {
    "id": "WmMupoUrIfCB",
    "slideshow": {
     "slide_type": "fragment"
    }
   },
   "outputs": [],
   "source": [
    "#First we create an output stream (just like we did for an input stream)\n",
    "ostream = oemolostream( 'mymolecule.mol2')\n",
    "#Now we write our molecule\n",
    "OEWriteMolecule(ostream, mol)\n",
    "#And close the output stream\n",
    "ostream.close()"
   ]
  },
  {
   "cell_type": "code",
   "execution_count": 10,
   "metadata": {
    "collapsed": false,
    "jupyter": {
     "outputs_hidden": false
    },
    "pycharm": {
     "name": "#%%\n"
    }
   },
   "outputs": [
    {
     "name": "stdout",
     "output_type": "stream",
     "text": [
      "<openeye.oechem.oemolostream; proxy of <Swig Object of type 'OEChem::oemolostream *' at 0x1180d0930> >\n"
     ]
    }
   ],
   "source": [
    "print(ostream)"
   ]
  },
  {
   "cell_type": "markdown",
   "metadata": {
    "id": "bSyH-fHvIfCC",
    "slideshow": {
     "slide_type": "slide"
    }
   },
   "source": [
    "## Let's visualize this molecule"
   ]
  },
  {
   "cell_type": "code",
   "execution_count": 11,
   "metadata": {
    "colab": {
     "base_uri": "https://localhost:8080/",
     "height": 497
    },
    "id": "H0IGjxJMIfCC",
    "outputId": "6fda8b3b-48bf-41f3-fcef-edca8b936298",
    "slideshow": {
     "slide_type": "fragment"
    }
   },
   "outputs": [
    {
     "data": {
      "application/3dmoljs_load.v0": "<div id=\"3dmolviewer_1642980346500292\"  style=\"position: relative; width: 640px; height: 480px\">\n        <p id=\"3dmolwarning_1642980346500292\" style=\"background-color:#ffcccc;color:black\">You appear to be running in JupyterLab (or JavaScript failed to load for some other reason).  You need to install the 3dmol extension: <br>\n        <tt>jupyter labextension install jupyterlab_3dmol</tt></p>\n        </div>\n<script>\n\nvar loadScriptAsync = function(uri){\n  return new Promise((resolve, reject) => {\n    var tag = document.createElement('script');\n    tag.src = uri;\n    tag.async = true;\n    tag.onload = () => {\n      resolve();\n    };\n  var firstScriptTag = document.getElementsByTagName('script')[0];\n  firstScriptTag.parentNode.insertBefore(tag, firstScriptTag);\n});\n};\n\nif(typeof $3Dmolpromise === 'undefined') {\n$3Dmolpromise = null;\n  $3Dmolpromise = loadScriptAsync('https://3dmol.org/build/3Dmol.js');\n}\n\nvar viewer_1642980346500292 = null;\nvar warn = document.getElementById(\"3dmolwarning_1642980346500292\");\nif(warn) {\n    warn.parentNode.removeChild(warn);\n}\n$3Dmolpromise.then(function() {\nviewer_1642980346500292 = $3Dmol.createViewer($(\"#3dmolviewer_1642980346500292\"),{backgroundColor:\"white\"});\nviewer_1642980346500292.addModel(\"@<TRIPOS>MOLECULE\\n*****\\n   21    22     0     0     0\\nSMALL\\nNO_CHARGES\\n\\n@<TRIPOS>ATOM\\n      1 C1         -0.4966   -2.0341    0.4940 C.ar      1 <0>         0.0000\\n      2 C2         -0.0479   -3.3542    0.5448 C.ar      1 <0>         0.0000\\n      3 C3          3.4207   -2.9899   -0.7267 C.ar      1 <0>         0.0000\\n      4 C4          3.8693   -4.3100   -0.6758 C.ar      1 <0>         0.0000\\n      5 C5          0.3500   -1.0275    0.0392 C.ar      1 <0>         0.0000\\n      6 C6          1.7243   -5.0072    0.1848 C.ar      1 <0>         0.0000\\n      7 C7          1.2560   -3.6839    0.1403 C.ar      1 <0>         0.0000\\n      8 C8          2.1168   -2.6602   -0.3222 C.ar      1 <0>         0.0000\\n      9 C9          3.0228   -5.3167   -0.2210 C.ar      1 <0>         0.0000\\n     10 C10         1.6484   -1.3369   -0.3665 C.ar      1 <0>         0.0000\\n     11 C11         3.5042   -6.7273   -0.1668 C.3       1 <0>         0.0000\\n     12 Cl1         2.6181   -0.0066   -0.9155 Cl        1 <0>         0.0000\\n     13 H1         -1.5075   -1.7929    0.8097 H         1 <0>         0.0000\\n     14 H2         -0.7273   -4.1251    0.9026 H         1 <0>         0.0000\\n     15 H3          4.1207   -2.2422   -1.0895 H         1 <0>         0.0000\\n     16 H4          4.8822   -4.5432   -0.9933 H         1 <0>         0.0000\\n     17 H5         -0.0191   -0.0052    0.0084 H         1 <0>         0.0000\\n     18 H6          1.0718   -5.8045    0.5367 H         1 <0>         0.0000\\n     19 H7          3.9631   -6.9370    0.8071 H         1 <0>         0.0000\\n     20 H8          2.6803   -7.4357   -0.3230 H         1 <0>         0.0000\\n     21 H9          4.2463   -6.9253   -0.9512 H         1 <0>         0.0000\\n@<TRIPOS>BOND\\n     1    1    2 ar\\n     2    1    5 ar\\n     3    2    7 ar\\n     4    3    4 ar\\n     5    3    8 ar\\n     6    4    9 ar\\n     7    5   10 ar\\n     8    6    7 ar\\n     9    6    9 ar\\n    10    7    8 ar\\n    11    8   10 ar\\n    12    9   11 1\\n    13   10   12 1\\n    14    1   13 1\\n    15    2   14 1\\n    16    3   15 1\\n    17    4   16 1\\n    18    5   17 1\\n    19    6   18 1\\n    20   11   19 1\\n    21   11   20 1\\n    22   11   21 1\\n\");\nviewer_1642980346500292.setStyle({\"stick\": {}});\nviewer_1642980346500292.zoomTo();\nviewer_1642980346500292.render();\n});\n</script>",
      "text/html": [
       "<div id=\"3dmolviewer_1642980346500292\"  style=\"position: relative; width: 640px; height: 480px\">\n",
       "        <p id=\"3dmolwarning_1642980346500292\" style=\"background-color:#ffcccc;color:black\">You appear to be running in JupyterLab (or JavaScript failed to load for some other reason).  You need to install the 3dmol extension: <br>\n",
       "        <tt>jupyter labextension install jupyterlab_3dmol</tt></p>\n",
       "        </div>\n",
       "<script>\n",
       "\n",
       "var loadScriptAsync = function(uri){\n",
       "  return new Promise((resolve, reject) => {\n",
       "    var tag = document.createElement('script');\n",
       "    tag.src = uri;\n",
       "    tag.async = true;\n",
       "    tag.onload = () => {\n",
       "      resolve();\n",
       "    };\n",
       "  var firstScriptTag = document.getElementsByTagName('script')[0];\n",
       "  firstScriptTag.parentNode.insertBefore(tag, firstScriptTag);\n",
       "});\n",
       "};\n",
       "\n",
       "if(typeof $3Dmolpromise === 'undefined') {\n",
       "$3Dmolpromise = null;\n",
       "  $3Dmolpromise = loadScriptAsync('https://3dmol.org/build/3Dmol.js');\n",
       "}\n",
       "\n",
       "var viewer_1642980346500292 = null;\n",
       "var warn = document.getElementById(\"3dmolwarning_1642980346500292\");\n",
       "if(warn) {\n",
       "    warn.parentNode.removeChild(warn);\n",
       "}\n",
       "$3Dmolpromise.then(function() {\n",
       "viewer_1642980346500292 = $3Dmol.createViewer($(\"#3dmolviewer_1642980346500292\"),{backgroundColor:\"white\"});\n",
       "viewer_1642980346500292.addModel(\"@<TRIPOS>MOLECULE\\n*****\\n   21    22     0     0     0\\nSMALL\\nNO_CHARGES\\n\\n@<TRIPOS>ATOM\\n      1 C1         -0.4966   -2.0341    0.4940 C.ar      1 <0>         0.0000\\n      2 C2         -0.0479   -3.3542    0.5448 C.ar      1 <0>         0.0000\\n      3 C3          3.4207   -2.9899   -0.7267 C.ar      1 <0>         0.0000\\n      4 C4          3.8693   -4.3100   -0.6758 C.ar      1 <0>         0.0000\\n      5 C5          0.3500   -1.0275    0.0392 C.ar      1 <0>         0.0000\\n      6 C6          1.7243   -5.0072    0.1848 C.ar      1 <0>         0.0000\\n      7 C7          1.2560   -3.6839    0.1403 C.ar      1 <0>         0.0000\\n      8 C8          2.1168   -2.6602   -0.3222 C.ar      1 <0>         0.0000\\n      9 C9          3.0228   -5.3167   -0.2210 C.ar      1 <0>         0.0000\\n     10 C10         1.6484   -1.3369   -0.3665 C.ar      1 <0>         0.0000\\n     11 C11         3.5042   -6.7273   -0.1668 C.3       1 <0>         0.0000\\n     12 Cl1         2.6181   -0.0066   -0.9155 Cl        1 <0>         0.0000\\n     13 H1         -1.5075   -1.7929    0.8097 H         1 <0>         0.0000\\n     14 H2         -0.7273   -4.1251    0.9026 H         1 <0>         0.0000\\n     15 H3          4.1207   -2.2422   -1.0895 H         1 <0>         0.0000\\n     16 H4          4.8822   -4.5432   -0.9933 H         1 <0>         0.0000\\n     17 H5         -0.0191   -0.0052    0.0084 H         1 <0>         0.0000\\n     18 H6          1.0718   -5.8045    0.5367 H         1 <0>         0.0000\\n     19 H7          3.9631   -6.9370    0.8071 H         1 <0>         0.0000\\n     20 H8          2.6803   -7.4357   -0.3230 H         1 <0>         0.0000\\n     21 H9          4.2463   -6.9253   -0.9512 H         1 <0>         0.0000\\n@<TRIPOS>BOND\\n     1    1    2 ar\\n     2    1    5 ar\\n     3    2    7 ar\\n     4    3    4 ar\\n     5    3    8 ar\\n     6    4    9 ar\\n     7    5   10 ar\\n     8    6    7 ar\\n     9    6    9 ar\\n    10    7    8 ar\\n    11    8   10 ar\\n    12    9   11 1\\n    13   10   12 1\\n    14    1   13 1\\n    15    2   14 1\\n    16    3   15 1\\n    17    4   16 1\\n    18    5   17 1\\n    19    6   18 1\\n    20   11   19 1\\n    21   11   20 1\\n    22   11   21 1\\n\");\n",
       "viewer_1642980346500292.setStyle({\"stick\": {}});\n",
       "viewer_1642980346500292.zoomTo();\n",
       "viewer_1642980346500292.render();\n",
       "});\n",
       "</script>"
      ]
     },
     "metadata": {},
     "output_type": "display_data"
    }
   ],
   "source": [
    "# Visualize using py3dmol\n",
    "import py3Dmol\n",
    "\n",
    "viewer = py3Dmol.view(data=open('mymolecule.mol2','r').read(), \n",
    "                      style={'stick': {}})\n",
    "viewer.show()\n",
    "\n",
    "\n",
    "# Can also try visualizing with nglview; nglview has more features, but is more finicky to get working\n",
    "#import mdtraj, nglview\n",
    "#from google.colab import output\n",
    "#output.enable_custom_widget_manager()\n",
    "#traj = mdtraj.load('mymolecule.mol2')\n",
    "#view = nglview.show_mdtraj(traj)\n",
    "#view"
   ]
  },
  {
   "cell_type": "markdown",
   "metadata": {
    "id": "gShxViEmIfCC",
    "slideshow": {
     "slide_type": "fragment"
    }
   },
   "source": [
    "You could also visualize using VMD (a common molecular simulation viewer), PyMol, or Chimera or similar"
   ]
  },
  {
   "cell_type": "markdown",
   "metadata": {
    "id": "w22jTE2cIfCC",
    "slideshow": {
     "slide_type": "slide"
    }
   },
   "source": [
    "# Next, we look at shape overlays\n",
    "\n",
    "### Shape overlays can provide valuable information on the structure of an active site or binding pocket\n",
    "\n",
    "- Ligands of same receptor often have similar 3D shape, chemistry\n",
    "- Substantial differences in 2D structure\n",
    "- So shape comparison provides info on binding site shape/structure (even without receptor)\n"
   ]
  },
  {
   "cell_type": "markdown",
   "metadata": {
    "id": "OaR28QbnIfCC",
    "slideshow": {
     "slide_type": "fragment"
    }
   },
   "source": [
    "### Morphine and tramadol provide an example:"
   ]
  },
  {
   "cell_type": "code",
   "execution_count": null,
   "metadata": {
    "colab": {
     "base_uri": "https://localhost:8080/",
     "height": 323
    },
    "id": "F0kXkNfUQ0z-",
    "outputId": "c3c64719-9a94-4139-9d81-c641484f279c",
    "slideshow": {
     "slide_type": "fragment"
    }
   },
   "outputs": [],
   "source": [
    "from IPython.display import Image\n",
    "Image('morphine_tramadol.png', width = 800)"
   ]
  },
  {
   "cell_type": "markdown",
   "metadata": {
    "id": "4ISxkB8ZREIM",
    "slideshow": {
     "slide_type": "fragment"
    }
   },
   "source": [
    "\n",
    "- [Sun et al., Drug Discov Today. 2012 Apr; 17(7-8): 310–324.](http://www.ncbi.nlm.nih.gov/pmc/articles/PMC3328312/), - Tramadol overlaid onto morphine\n",
    "- no obvious chemical similarity but high shape similarity\n",
    "- early example of \"scaffold hopping\": Scaffold changed but activity remains"
   ]
  },
  {
   "cell_type": "markdown",
   "metadata": {
    "id": "SKjeP0jYIfCD",
    "slideshow": {
     "slide_type": "slide"
    }
   },
   "source": [
    "### Here we'll try and reproduce that overlay"
   ]
  },
  {
   "cell_type": "code",
   "execution_count": null,
   "metadata": {
    "colab": {
     "base_uri": "https://localhost:8080/"
    },
    "id": "idRrbYZJIfCD",
    "outputId": "2b340f5a-f620-4995-9dc3-e628fd4db400",
    "slideshow": {
     "slide_type": "fragment"
    }
   },
   "outputs": [],
   "source": [
    "#Let's first generate morphine and tramadol from their names\n",
    "morphine= OEMol()\n",
    "OEParseIUPACName(morphine, 'morphine')\n",
    "#Make sure we get 'True' so we know it worked:"
   ]
  },
  {
   "cell_type": "code",
   "execution_count": null,
   "metadata": {
    "colab": {
     "base_uri": "https://localhost:8080/"
    },
    "id": "g5nH5QuhIfCD",
    "outputId": "2090d1bb-7581-4731-b034-c0c26685fdd9",
    "slideshow": {
     "slide_type": "fragment"
    }
   },
   "outputs": [],
   "source": [
    "#What about tramadol?\n",
    "tramadol = OEMol()\n",
    "OEParseIUPACName(tramadol, 'tramadol')"
   ]
  },
  {
   "cell_type": "code",
   "execution_count": null,
   "metadata": {
    "colab": {
     "base_uri": "https://localhost:8080/"
    },
    "id": "bEnuGOnXIfCD",
    "outputId": "5e01cbc9-d663-4e35-8383-b9dcfb92014e",
    "slideshow": {
     "slide_type": "fragment"
    }
   },
   "outputs": [],
   "source": [
    "#In older toolkit versions that doesn't work; if not, pull the IUPAC name from Wikipedia.\n",
    "OEParseIUPACName(tramadol, '2-[(Dimethylamino)methyl]-1-(3-methoxyphenyl)cyclohexanol')"
   ]
  },
  {
   "cell_type": "markdown",
   "metadata": {
    "id": "IrTLHbROIfCD",
    "slideshow": {
     "slide_type": "slide"
    }
   },
   "source": [
    "### Depict them to make sure they processed properly! "
   ]
  },
  {
   "cell_type": "code",
   "execution_count": null,
   "metadata": {
    "id": "nDJrqjiaIfCE",
    "slideshow": {
     "slide_type": "fragment"
    }
   },
   "outputs": [],
   "source": [
    "# your code here"
   ]
  },
  {
   "cell_type": "markdown",
   "metadata": {
    "id": "w3RvFw63IfCE",
    "slideshow": {
     "slide_type": "slide"
    }
   },
   "source": [
    "### Let's set up Omega again for conformer generation"
   ]
  },
  {
   "cell_type": "code",
   "execution_count": null,
   "metadata": {
    "id": "qy690COYIfCE",
    "slideshow": {
     "slide_type": "fragment"
    }
   },
   "outputs": [],
   "source": [
    "#We make sure Omega is loaded and initialized\n",
    "#This time we want to consider multiple conformations, since the OpenEye shape toolkit will just do a rigid\n",
    "#overlay of whatever conformations we give it onto one another. But here, at least one of the molecules\n",
    "#has substantial flexibility, and we want to find the conformation which results in the best match\n",
    "omega = OEOmega() #Initialize class\n",
    "omega.SetMaxConfs(100) #Here we want to use more conformers if needed\n",
    "omega.SetStrictStereo(False) #Set to false to pick random stereoisomer if stereochemistry is not specified\n",
    "omega.SetStrictAtomTypes(False) #Be a little loose about atom typing to ensure parameters are available to omega for all molecules\n",
    "#In this case the 'StrictStereo' parameter above will also matter. Since tramadol has an unspecified stereocenter, \n",
    "#this will cause Omega to pick a random stereoisomer. Without specifying this, Omega will refuse to do anything."
   ]
  },
  {
   "cell_type": "code",
   "execution_count": null,
   "metadata": {
    "id": "nqaM7PpAIfCE",
    "slideshow": {
     "slide_type": "slide"
    }
   },
   "outputs": [],
   "source": [
    "#Now let's generate 3D conformations for morphine and label it our 'reference' molecule:\n",
    "refmol = morphine\n",
    "omega(refmol)\n",
    "\n",
    "#Now we generate 3D conformations for tramadol and label it our 'fitmol', the molecule to be fit onto the reference\n",
    "fitmol = tramadol\n",
    "omega(fitmol)\n",
    "fitmol.SetTitle('tramadol')\n",
    "\n",
    "#And just so we can see how this works, let's write out morphine to a mol2 file for viewing later\n",
    "ofs = oemolostream('ref.mol2')\n",
    "OEWriteMolecule(ofs, refmol)\n",
    "ofs.close()"
   ]
  },
  {
   "cell_type": "markdown",
   "metadata": {
    "id": "u4pAoH7YIfCE",
    "slideshow": {
     "slide_type": "slide"
    }
   },
   "source": [
    "### Now we'll do a shape overlay\n",
    "\n",
    "You'll see some of this again in homework if you do the 3D structure/shape assignment, but you won't need to really change it. Still, I'll briefly explain how it works."
   ]
  },
  {
   "cell_type": "code",
   "execution_count": null,
   "metadata": {
    "id": "0Afaj78LIfCE",
    "slideshow": {
     "slide_type": "fragment"
    }
   },
   "outputs": [],
   "source": [
    "# Open output stream for output molecule\n",
    "outfs = oemolostream('fitted_output.mol2')\n",
    "# How many conformers will we generate for fitting?\n",
    "nconfs = 20"
   ]
  },
  {
   "cell_type": "code",
   "execution_count": null,
   "metadata": {
    "colab": {
     "base_uri": "https://localhost:8080/"
    },
    "id": "hKPqkcg9IfCF",
    "outputId": "9a4b7c97-5411-400d-ccce-1f86f3c0681c",
    "slideshow": {
     "slide_type": "fragment"
    }
   },
   "outputs": [],
   "source": [
    "# Setup ROCS to provide specified number of conformers per hit\n",
    "options = OEROCSOptions()\n",
    "options.SetNumBestHits(1)\n",
    "options.SetConfsPerHit(nconfs)\n",
    "rocs = OEROCS(options)\n",
    "rocs.AddMolecule(fitmol) #Add our molecule as the one we are fitting"
   ]
  },
  {
   "cell_type": "code",
   "execution_count": null,
   "metadata": {
    "colab": {
     "base_uri": "https://localhost:8080/"
    },
    "id": "rcuEID3IIfCF",
    "outputId": "0b6223bc-81c4-47ad-93b9-722ab5d3852a",
    "slideshow": {
     "slide_type": "slide"
    }
   },
   "outputs": [],
   "source": [
    "# Loop over results and output\n",
    "for res in rocs.Overlay(refmol):\n",
    "    outmol = res.GetOverlayConf() #Use GetOverlayConf to get just the best; GetOverlayConfs for all\n",
    "    OERemoveColorAtoms(outmol)\n",
    "    OEAddExplicitHydrogens(outmol)\n",
    "    OEWriteMolecule(outfs, outmol)\n",
    "    print(\"title: %s  tanimoto combo = %.2f\" % (outmol.GetTitle(), res.GetTanimotoCombo()))\n",
    "outfs.close()"
   ]
  },
  {
   "cell_type": "markdown",
   "metadata": {
    "id": "lgei-qYeIfCF",
    "slideshow": {
     "slide_type": "slide"
    }
   },
   "source": [
    "### Now let's visualize and see if that worked to reproduce the overlay"
   ]
  },
  {
   "cell_type": "code",
   "execution_count": null,
   "metadata": {
    "colab": {
     "base_uri": "https://localhost:8080/",
     "height": 497
    },
    "id": "wTC9kBqwIfCF",
    "outputId": "e9b58c62-92c9-48e6-d9ce-4d4ea65e8a6d",
    "slideshow": {
     "slide_type": "fragment"
    }
   },
   "outputs": [],
   "source": [
    "import py3Dmol\n",
    "#First we assign the py3Dmol.view as viewer\n",
    "viewer = py3Dmol.view()\n",
    "viewer.addModel(open('ref.mol2', 'r').read(),'mol2')\n",
    "viewer.addModel(open('fitted_output.mol2', 'r').read(),'mol2')\n",
    "viewer.setStyle({'stick':{}})\n",
    "#Zooming into all visualized structures \n",
    "viewer.zoomTo()\n",
    "#And we finally visualize the structures using the command below\n",
    "viewer.show()"
   ]
  },
  {
   "cell_type": "code",
   "execution_count": null,
   "metadata": {
    "slideshow": {
     "slide_type": "skip"
    }
   },
   "outputs": [],
   "source": [
    "# optionally, use nglview\n",
    "#from google.colab import output\n",
    "#output.enable_custom_widget_manager()\n",
    "#import mdtraj, nglview\n",
    "#ref = mdtraj.load('ref.mol2')\n",
    "#view = nglview.show_mdtraj(ref)\n",
    "#fitted = mdtraj.load('fitted_output.mol2')\n",
    "#view.add_trajectory(fitted)\n",
    "#the two lines below may not work for you\n",
    "##view[1].clear_representations() #Use this and the below to switch one to blue sticks to make it easier to see\n",
    "##view[1].add_ball_and_stick(color='blue')\n",
    "#view"
   ]
  },
  {
   "cell_type": "markdown",
   "metadata": {
    "id": "3GxfMqeSIfCF",
    "slideshow": {
     "slide_type": "skip"
    }
   },
   "source": [
    "I've also noted an mdtraj or nglview issue where if the mol2 file is multi-conformer, the view doesn't appear properly (maybe it shows the last match only, or the alignment gets messed up by the multiple conformations)\n",
    "\n",
    "If you'd like to see ALL the overlaid conformations, use `GetConfs()` rather than `GetConf()` above and visualize in PyMol or VMD or Chimera or another viewer which allows you to loop through conformations."
   ]
  }
 ],
 "metadata": {
  "celltoolbar": "Slideshow",
  "colab": {
   "collapsed_sections": [],
   "name": "3D_Structure_Shape.ipynb",
   "provenance": []
  },
  "kernelspec": {
   "display_name": "drug_comp",
   "language": "python",
   "name": "drug_comp"
  },
  "language_info": {
   "codemirror_mode": {
    "name": "ipython",
    "version": 3
   },
   "file_extension": ".py",
   "mimetype": "text/x-python",
   "name": "python",
   "nbconvert_exporter": "python",
   "pygments_lexer": "ipython3",
   "version": "3.9.9"
  },
  "livereveal": {
   "height": 900,
   "start_slideshow_at": "selected",
   "width": 1440
  },
  "toc": {
   "nav_menu": {},
   "number_sections": true,
   "sideBar": true,
   "skip_h1_title": false,
   "toc_cell": false,
   "toc_position": {},
   "toc_section_display": "block",
   "toc_window_display": false
  }
 },
 "nbformat": 4,
 "nbformat_minor": 4
}
