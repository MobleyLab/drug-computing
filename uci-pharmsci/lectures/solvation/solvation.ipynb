{
 "cells": [
  {
   "cell_type": "markdown",
   "metadata": {
    "slideshow": {
     "slide_type": "skip"
    }
   },
   "source": [
    "# PharmSci 175/275 (UCI)\n",
    "## What is this?? \n",
    "The material below is a lecture on solvation models from Drug Discovery Computing Techniques, PharmSci 175/275 at UC Irvine. \n",
    "Extensive materials for this course, as well as extensive background and related materials, are available on the course GitHub repository: [github.com/mobleylab/drug-computing](https://github.com/mobleylab/drug-computing)\n",
    "\n",
    "This material is a set of slides intended for presentation with RISE as detailed [in the course materials on GitHub](https://github.com/MobleyLab/drug-computing/tree/master/uci-pharmsci/lectures/energy_minimization). While it may be useful without RISE, it will also likely appear somewhat less verbose than it would if it were intended for use in written form."
   ]
  },
  {
   "cell_type": "markdown",
   "metadata": {
    "slideshow": {
     "slide_type": "slide"
    }
   },
   "source": [
    "# Solvation models\n",
    "\n",
    "Today: Solvation models for molecular simulation; implicit solvent; how solvent affects simulations.\n",
    "\n",
    "### Instructor: David L. Mobley\n",
    "\n",
    "### Contributors to today's materials:\n",
    "- David L. Mobley"
   ]
  },
  {
   "cell_type": "markdown",
   "metadata": {
    "slideshow": {
     "slide_type": "slide"
    }
   },
   "source": [
    "## Solvation is key for biomolecular structure and function, accuracy in modeling\n",
    "\n",
    "- Imagine improving a molecule's interactions with a receptor but suffering loss in binding affinity. Why might this happen?\n",
    "- Solvation modeling is also important for docking\n",
    "- Biology takes place in solution (lots of water)\n",
    "- Simulations spend a large fraction of time simulating solvent"
   ]
  },
  {
   "cell_type": "markdown",
   "metadata": {
    "slideshow": {
     "slide_type": "subslide"
    }
   },
   "source": [
    "Why lose affinity with improved interactions? Can happen because improved interactions don't offset increased desolvation penalty. e.g. ions overstabilized without desolvation destimates."
   ]
  },
  {
   "cell_type": "markdown",
   "metadata": {
    "slideshow": {
     "slide_type": "subslide"
    }
   },
   "source": [
    "## Continuum solvent models can be understood starting from classical E&M\n",
    "\n",
    "Imagine a positive charge approaching a conducting plane; the solution looks like this:\n",
    "\n",
    "<center><img src=\"images/image_charge.png\" alt=\"GitHub\" style=\"width: 600px;\"/></center>\n",
    "\n",
    "A conducting plane has a dielectric constant ($\\epsilon$) of infinity. Solvents, especially high dielectric ones like water, behave somewhat similarly in terms of electrostatic (charge-charge) interactions."
   ]
  },
  {
   "cell_type": "markdown",
   "metadata": {
    "slideshow": {
     "slide_type": "subslide"
    }
   },
   "source": [
    "## We can also describe solvation of charges in solution using classical E&M\n",
    "\n",
    "- Key goal: Capture average or integrated behavior of solvent\n",
    "- Could work reasonably well for high dielectric solvents\n",
    "- Ignores molecularity of solvent\n",
    "\n",
    "<center><img src=\"images/born.png\" alt=\"GitHub\" style=\"width: 600px;\"/></center>\n"
   ]
  },
  {
   "cell_type": "markdown",
   "metadata": {
    "slideshow": {
     "slide_type": "subslide"
    }
   },
   "source": [
    "## There are various levels of solvation models\n",
    "\n",
    "Computational cost increases down the list; physical rigor highest at top:\n",
    "- _Ab initio QM_ (cost prohibitive)\n",
    "- Polarizable explicit solvent\n",
    "- Fixed charge explicit-solvent\n",
    "- Nonlinear Poisson-Boltzmann (PB)\n",
    "- Linear Poisson-Boltzmann (PB)\n",
    "- Generalized Born\n",
    "- ...\n",
    "- Distance dependent dielectric, surface area models"
   ]
  },
  {
   "cell_type": "markdown",
   "metadata": {
    "slideshow": {
     "slide_type": "subslide"
    }
   },
   "source": [
    "### Some efforts attempt to jump off this trend\n",
    "- Improved GB models\n",
    "- Hybrid solvent models\n",
    "In general -- using clever numerics to take better physics and make it fast (e.g. via lookup tables, etc.)"
   ]
  },
  {
   "cell_type": "markdown",
   "metadata": {
    "slideshow": {
     "slide_type": "subslide"
    }
   },
   "source": [
    "### PB models water as a continuum dielectric\n",
    "\n",
    "- Essentially exact _within_ a continuum solvent model/classical E&M\n",
    "- Ignores granularity/structure of water such as first-solvation shell effects, size of water\n",
    "- Numerical solution requires approximations\n",
    "\n",
    "<center><img src=\"images/born.png\" alt=\"GitHub\" style=\"width: 300px;\"/></center>"
   ]
  },
  {
   "cell_type": "markdown",
   "metadata": {
    "slideshow": {
     "slide_type": "subslide"
    }
   },
   "source": [
    "### PB starts with the Poisson equation\n",
    "\n",
    "$\\nabla \\cdot \\epsilon({\\bf r}) \\nabla \\phi({\\bf r}) = -4\\pi \\rho({\\bf r})$\n",
    "\n",
    "where\n",
    "- $\\phi({\\bf r})$  is the electrostatic potential\n",
    "- $\\epsilon({\\bf r})$ is the dielectric constant (varies with position); often 80 (water) outside, 1 inside molecules\n",
    "- $\\rho({\\bf r})$ is the charge density; partial charges inside, zero or ions outside"
   ]
  },
  {
   "cell_type": "markdown",
   "metadata": {
    "slideshow": {
     "slide_type": "subslide"
    }
   },
   "source": [
    "## The Debye-Huckel model describes ion screening\n",
    "\n",
    "<right><img src=\"images/debye_huckel.png\" alt=\"Debye-Huckel\" style=\"width: 300px;\"/></right>\n",
    "\n",
    "$\\rho_i({\\bf r}) = \\rho_i^0 e^{-q_i \\phi({\\bf r})/(k_B T)}$ where $\\rho_0^i$ is the ion density in bulk\n",
    "\n",
    "This leads to enrichment of ions in regions of opposing electrostatic potential.\n",
    "\n",
    "For a 1:1 salt, $\\rho_{ionic}({\\bf r}) = \\rho_+({\\bf r}) + \\rho_-({\\bf r}) = \\rho^0 e^{ \\phi({\\bf r})/(k_B T)} -\\rho^0 e^{ \\phi({\\bf r})/(k_B T)} = 2\\rho^0 \\sinh (\\frac{\\phi({\\bf r})}{k_B T})$"
   ]
  },
  {
   "cell_type": "markdown",
   "metadata": {
    "slideshow": {
     "slide_type": "subslide"
    }
   },
   "source": [
    "## The linearized PB equation is good for small electrostatic potential\n",
    "\n",
    "We start with $\\nabla \\cdot \\epsilon({\\bf r}) \\nabla \\phi({\\bf r}) - \\kappa \\sinh( \\phi({\\bf r}) = -4\\pi \\rho({\\bf r})$\n",
    "we can Taylor expand the ionic strength term involving $\\kappa$ for small fields, taking the first term, which gives:\n",
    "\n",
    "$\\nabla \\cdot \\epsilon({\\bf r}) \\nabla \\phi({\\bf r}) - \\kappa \\phi({\\bf r}) = -4\\pi \\rho({\\bf r})$\n",
    "\n",
    "This is the linearized form, good for small fields but not highly charged cases."
   ]
  },
  {
   "cell_type": "markdown",
   "metadata": {
    "slideshow": {
     "slide_type": "subslide"
    }
   },
   "source": [
    "### Solution is numeric\n",
    "\n",
    "- Solved via a finite difference scheme on a grid\n",
    "- Distribute charges onto a grid\n",
    "- Find dielectric at each point\n",
    "- Value of field at each point depends on neighboring points, so solve iteratively"
   ]
  },
  {
   "cell_type": "markdown",
   "metadata": {
    "slideshow": {
     "slide_type": "subslide"
    }
   },
   "source": [
    "### The dielectric constant itself is a challenge\n",
    "\n",
    "- What is the internal dielectric constant of a protein or solute? Tough question. Maybe 2-4?\n",
    "- Some pKa work and experiments suggest maybe higher, as high as 20?\n",
    "- Could include conformational relaxation, protonation state changes, as well as electronic polarization\n",
    "- Some of that shouldn't be included\n",
    "- Simulations usually use a value of 1, but some efforts vary depending on polarizability of atoms\n",
    "\n",
    "Inside vs outside is also complex, determined by radius of atoms (often adjustable)"
   ]
  },
  {
   "cell_type": "markdown",
   "metadata": {
    "slideshow": {
     "slide_type": "subslide"
    }
   },
   "source": [
    "### PB calculations have several uses\n",
    "\n",
    "- Visualization of electrostatic potential (e.g. in PyMol [with APBS](https://pymolwiki.org/index.php/APBS) or [Delphi](http://www.protein.osaka-u.ac.jp/rcsfp/supracryst/suzuki/jpxtal/Katsutani/en/potential.php) (see also [here](http://structure.usc.edu/howto/delphi-surface-pymol.html)) or Chimera)\n",
    "- Predicting protein-protein association rates (e.g. [TransComp](http://pipe.sc.fsu.edu/transcomp/))\n",
    "- Fitting of more approximate models\n",
    "- pKa estimation\n",
    "\n",
    "<p float=\"left\">\n",
    "\n",
    "<img  align=\"left\" src=\"http://pipe.sc.fsu.edu/transcomp/img/ProtAssocRates.png\" alt=\"TransComp\" style=\"width: 500px;\"/> <img align=\"right\" src=\"images/1W2I.png\" alt=\"TransComp\" style=\"width: 300px;\"/></p>"
   ]
  },
  {
   "cell_type": "markdown",
   "metadata": {
    "slideshow": {
     "slide_type": "subslide"
    }
   },
   "source": [
    "### Protonation states depend substantially on environment\n",
    "- Effective pKa values depend on environnment\n",
    "- Classical force fields have no reactions, so charges usually stay fixed\n",
    "- That means we take significant care in determining protonation states suitable for pH we want\n",
    "- Exception: Constant pH simulations\n",
    "- pKa prediction estimates free energy shifts in macromolecule relative to model system (e.g. sidechain analog in isolation), uses to predict pKa shift"
   ]
  },
  {
   "cell_type": "markdown",
   "metadata": {
    "slideshow": {
     "slide_type": "subslide"
    }
   },
   "source": [
    "### PB is not normally used for simulations\n",
    "\n",
    "- MD requires gradients (forces); forces are not easy or fast to get from PB\n",
    "- But used for scoring simulations and docking\n",
    "- Used to help understand binding/mutagenesis\n",
    "- Other applications such as protein-protein interactions (above)"
   ]
  },
  {
   "cell_type": "markdown",
   "metadata": {
    "slideshow": {
     "slide_type": "slide"
    }
   },
   "source": [
    "## Generalized born is an approximation to PB that IS commonly used for simulations\n",
    "\n",
    "- Useful for simulations; derivatives are easy to get, can yield fast MD simulations and minimization\n",
    "- To some extent behaves like PB (but approximate)\n",
    "- Hard to understand exactly what approximations it makes\n",
    "- Has deficiencies PB does not\n",
    "- But also has same deficiencies (e.g. both ignore size/molecularity of water)"
   ]
  },
  {
   "cell_type": "markdown",
   "metadata": {
    "slideshow": {
     "slide_type": "subslide"
    }
   },
   "source": [
    "### GB has roughly the right limits\n",
    "\n",
    "- For solvation of a single ion, reduces to the well-known [Born equation](https://en.wikipedia.org/wiki/Born_equation) for ion solvation: $\\Delta G = -\\frac{N_a z^2 e^2}{8 \\pi \\epsilon_0 r_0} \\left( 1 - \\frac{1}{\\epsilon_r}\\right)$\n",
    "- For large distances, get complete screening: Screening exactly cancels Coulomb's law attraction\n",
    "- Correct in certain other cases, such as dipoles inside spheres"
   ]
  },
  {
   "cell_type": "markdown",
   "metadata": {
    "slideshow": {
     "slide_type": "subslide"
    }
   },
   "source": [
    "### In both PB and GB, the surface plays a huge role\n",
    "The surface describes where the dielectric constant changes: Inside versus outside\n",
    "- Molecular surface: Roll a solvent probe on the surface\n",
    "- Van der Waals surface: Intersection of vdW spheres\n",
    "- Gaussian surface: Take surface as continuum or isocontour\n",
    "\n",
    "The surface can be problematic for dynamics, especially in the first two cases; can change discontinuously yielding sudden dramatic changes in energies/forces and thus crashes."
   ]
  },
  {
   "cell_type": "markdown",
   "metadata": {
    "slideshow": {
     "slide_type": "subslide"
    }
   },
   "source": [
    "### Solvation involves a nonpolar component as well\n",
    "\n",
    "- The cavity creation part is often assumed to be dominant\n",
    "- On the smallest length scales this is probably $\\propto V$, the solute volume\n",
    "- At large length scales it amounts to bubble creation, scales with solute surface area\n",
    "- So often assumed to be $\\propto SA$ plus a constant"
   ]
  },
  {
   "cell_type": "markdown",
   "metadata": {
    "slideshow": {
     "slide_type": "subslide"
    }
   },
   "source": [
    "## Implicit solvent models ignore the molecular nature of water\n",
    "\n",
    "Consider two artificial ring-shaped solutes; compute the hydration free energy in explicit solvent (TIP3P water) ([this work](http://dx.doi.org/10.1021/jp709958f):\n",
    "<img src=\"images/rings.png\">\n",
    "\n",
    "The difference is an _asymmetry_ between positive and negative; $\\approx -9.6$ kcal/mol\n",
    "\n",
    "In implicit solvent the hydration free energies are equal (though clever follow-ups have done some work to deal with this, see e.g. work of Purisima and of Onufriev)"
   ]
  },
  {
   "cell_type": "markdown",
   "metadata": {
    "slideshow": {
     "slide_type": "subslide"
    }
   },
   "source": [
    "### Ultimately this is due to water's structure; it is not a dielectric continuum microscopically\n",
    "\n",
    "<img src=\"https://pubs.acs.org/na101/home/literatum/publisher/achs/journals/content/jpcbfk/2008/jpcbfk.2008.112.issue-8/jp709958f/production/images/large/jp709958ff00002.jpeg\" width=\"800px\">"
   ]
  },
  {
   "cell_type": "markdown",
   "metadata": {
    "slideshow": {
     "slide_type": "subslide"
    }
   },
   "source": [
    "### Water has a non-symmetric shape and responds to charge asymmetrically\n",
    "\n",
    "<img src =\"https://pubs.acs.org/na101/home/literatum/publisher/achs/journals/content/jpcbfk/2008/jpcbfk.2008.112.issue-8/jp709958f/production/images/large/jp709958ff00003.jpeg\" width=\"600px\">"
   ]
  },
  {
   "cell_type": "markdown",
   "metadata": {
    "slideshow": {
     "slide_type": "skip"
    }
   },
   "source": [
    "# Could add more slides here on asymmetry"
   ]
  },
  {
   "cell_type": "markdown",
   "metadata": {
    "slideshow": {
     "slide_type": "slide"
    }
   },
   "source": [
    "# Let's look at how solvation impacts conformation and flexibility\n",
    "\n",
    "- We saw gas phase MD recently\n",
    "- What about MD in implicit solvent?\n",
    "- Let's look at how solvation impacts conformation of some simple molecules\n",
    "- [This study](http://dx.doi.org/10.1021/jp0764384) highlighted some molecules which change conformation or flexibility on going into solvent\n",
    "- In that paper, SI Table 2 highlights molecules which change flexibility a lot on going into solvent\n",
    "- Figure 5 highlights some cases where molecules may change conformation going into solvent\n",
    "\n",
    "From those it looks like it might be interesting to try 1,2-diacetoxyethane (SMILES `C(CO)O`) and 2-chloroethyl ether (SMILES `CC(=O)OCCOC(=O)C`)"
   ]
  },
  {
   "cell_type": "markdown",
   "metadata": {
    "slideshow": {
     "slide_type": "slide"
    }
   },
   "source": [
    "## First we'll pull the code we used in the MD sandbox for gas phase MD simulations\n",
    "\n",
    "Let's make this into a bit of a function so we can re-use it in case we want to simulate both molecules. We'll make our function take an argument about how long to run, and produce some named output files.\n",
    "\n",
    "### Here's our function definition"
   ]
  },
  {
   "cell_type": "code",
   "execution_count": 3,
   "metadata": {
    "slideshow": {
     "slide_type": "subslide"
    }
   },
   "outputs": [
    {
     "ename": "ModuleNotFoundError",
     "evalue": "No module named 'openforcefield'",
     "output_type": "error",
     "traceback": [
      "\u001b[0;31m---------------------------------------------------------------------------\u001b[0m",
      "\u001b[0;31mModuleNotFoundError\u001b[0m                       Traceback (most recent call last)",
      "\u001b[0;32m/var/folders/k4/mfxydxms5xb72hl9c7pmc8880000gp/T/ipykernel_48191/177519593.py\u001b[0m in \u001b[0;36m<module>\u001b[0;34m\u001b[0m\n\u001b[1;32m      1\u001b[0m \u001b[0;32mfrom\u001b[0m \u001b[0mopenff\u001b[0m\u001b[0;34m.\u001b[0m\u001b[0mtoolkit\u001b[0m\u001b[0;34m.\u001b[0m\u001b[0mtyping\u001b[0m\u001b[0;34m.\u001b[0m\u001b[0mengines\u001b[0m\u001b[0;34m.\u001b[0m\u001b[0msmirnoff\u001b[0m \u001b[0;32mimport\u001b[0m \u001b[0;34m*\u001b[0m\u001b[0;34m\u001b[0m\u001b[0;34m\u001b[0m\u001b[0m\n\u001b[1;32m      2\u001b[0m \u001b[0;32mfrom\u001b[0m \u001b[0mopenff\u001b[0m\u001b[0;34m.\u001b[0m\u001b[0mtoolkit\u001b[0m\u001b[0;34m.\u001b[0m\u001b[0mtopology\u001b[0m \u001b[0;32mimport\u001b[0m \u001b[0mMolecule\u001b[0m\u001b[0;34m,\u001b[0m \u001b[0mTopology\u001b[0m\u001b[0;34m\u001b[0m\u001b[0;34m\u001b[0m\u001b[0m\n\u001b[0;32m----> 3\u001b[0;31m \u001b[0;32mimport\u001b[0m \u001b[0mopenforcefield\u001b[0m\u001b[0;34m.\u001b[0m\u001b[0mutils\u001b[0m\u001b[0;34m.\u001b[0m\u001b[0mstructure\u001b[0m \u001b[0;32mas\u001b[0m \u001b[0mstructure\u001b[0m\u001b[0;34m\u001b[0m\u001b[0;34m\u001b[0m\u001b[0m\n\u001b[0m\u001b[1;32m      4\u001b[0m \u001b[0;32mfrom\u001b[0m \u001b[0msimtk\u001b[0m \u001b[0;32mimport\u001b[0m \u001b[0mopenmm\u001b[0m\u001b[0;34m,\u001b[0m \u001b[0munit\u001b[0m\u001b[0;34m\u001b[0m\u001b[0;34m\u001b[0m\u001b[0m\n\u001b[1;32m      5\u001b[0m \u001b[0;32mimport\u001b[0m \u001b[0mos\u001b[0m\u001b[0;34m,\u001b[0m \u001b[0mtime\u001b[0m\u001b[0;34m\u001b[0m\u001b[0;34m\u001b[0m\u001b[0m\n",
      "\u001b[0;31mModuleNotFoundError\u001b[0m: No module named 'openforcefield'"
     ]
    }
   ],
   "source": [
    "from openff.toolkit.typing.engines.smirnoff import *\n",
    "from openff.toolkit.topology import Molecule, Topology\n",
    "\n",
    "# structure is deprecated...\n",
    "import openff.toolkit.utils.structure as structure\n",
    "\n",
    "from simtk import openmm, unit\n",
    "import os, time\n",
    "import parmed\n",
    "\n",
    "def gas_phase_MD(oemol, nsteps, outprefix='molecule'):\n",
    "    \"\"\"Run gas phase MD on a molecule using the SMIRNOFF force field and Langevin dynamics in OpenMM\n",
    "for a specified number of steps, writing output trajectory/coordinate files to the specified prefix.\n",
    "Trajectory snapshots will be stored to a NetCDF file every 100 frames.\n",
    "\n",
    "    Arguments:\n",
    "    _________\n",
    "        oemol: (OpenEye OEMol object)\n",
    "            OpenEye OEMol of the molecule to simulate. Must have all hydrogens and have 3D conformation.\n",
    "        nsteps: integer\n",
    "            Number of 2 femtosecond timesteps to take\n",
    "        outprefix (optional, default 'molecule'): string\n",
    "            Prefix for output files (trajectory/Topology/etc.).\n",
    "    Returns:\n",
    "    ________\n",
    "        status: (bool)\n",
    "            True/False depending on whether task succeeded\n",
    "        system: (OpenMM System)\n",
    "            system as simulated\n",
    "        topology: (OpenMM Topology)\n",
    "            Topology for system\n",
    "        positions: (simtk.unit position array)\n",
    "            final position array\n",
    "        \n",
    "    \"\"\"\n",
    "    # Create OpenFF Molecule from oemol\n",
    "    offmol = Molecule.from_openeye(oemol)\n",
    "    \n",
    "    # Prep forcefield, create system and Topology\n",
    "    ff = ForceField('openff-1.0.0.offxml')\n",
    "    topology = Topology.from_molecules([offmol])\n",
    "    system = ff.create_openmm_system(topology)\n",
    "\n",
    "    positions = structure.extractPositionsFromOEMol(oemol)\n",
    "    \n",
    "    # Energy minimize\n",
    "    # Even though we're just going to minimize, we still have to set up an integrator, since a Simulation needs one\n",
    "    integrator = openmm.VerletIntegrator(2.0*unit.femtoseconds)\n",
    "    # Prep the Simulation using the parameterized system, the integrator, and the topology\n",
    "    simulation = openmm.app.Simulation(topology, system, integrator)\n",
    "    # Copy in the positions\n",
    "    simulation.context.setPositions( positions) \n",
    "\n",
    "    # Get initial state and energy; print\n",
    "    state = simulation.context.getState(getEnergy = True)\n",
    "    energy = state.getPotentialEnergy() / unit.kilocalories_per_mole\n",
    "    #print(\"Energy before minimization (kcal/mol): %.2g\" % energy)\n",
    "\n",
    "    # Minimize, get final state and energy and print\n",
    "    simulation.minimizeEnergy()\n",
    "    state = simulation.context.getState(getEnergy=True, getPositions=True)\n",
    "    energy = state.getPotentialEnergy() / unit.kilocalories_per_mole\n",
    "    #print(\"Energy after minimization (kcal/mol): %.2g\" % energy)\n",
    "    newpositions = state.getPositions()\n",
    "    \n",
    "    from mdtraj.reporters import NetCDFReporter\n",
    "    integrator = openmm.LangevinIntegrator(300*unit.kelvin, 1./unit.picosecond, 2.*unit.femtoseconds)\n",
    "\n",
    "    # Prep Simulation\n",
    "    simulation = openmm.app.Simulation(topology, system, integrator)\n",
    "    # Copy in minimized positions\n",
    "    simulation.context.setPositions(newpositions)\n",
    "\n",
    "    # Initialize velocities to correct temperature\n",
    "    simulation.context.setVelocitiesToTemperature(300*unit.kelvin)\n",
    "    # Set up to write trajectory file to NetCDF file in data directory every 100 frames\n",
    "    netcdf_reporter = NetCDFReporter(os.path.join('.', '%s.nc' % outprefix), 100) #Store every 100 frames\n",
    "    # Initialize reporters, including a CSV file to store certain stats every 100 frames\n",
    "    simulation.reporters.append(netcdf_reporter)\n",
    "    simulation.reporters.append(openmm.app.StateDataReporter(os.path.join('.', '%s.csv' % outprefix), 100, step=True, potentialEnergy=True, temperature=True, density=True))\n",
    "\n",
    "    # Run the simulation and print start info; store timing\n",
    "    print(\"Starting simulation\")\n",
    "    start = time.clock()\n",
    "    simulation.step(nsteps) \n",
    "    end = time.clock()\n",
    "\n",
    "    # Print elapsed time info, finalize trajectory file\n",
    "    print(\"Elapsed time %.2f seconds\" % (end-start))\n",
    "    netcdf_reporter.close()\n",
    "    print(\"Done!\")\n",
    "    \n",
    "    # Get state\n",
    "    state = simulation.context.getState(getEnergy=True, getPositions=True)\n",
    "    \n",
    "    # Write out a PDB\n",
    "    from simtk.openmm.app import PDBFile\n",
    "    openmm_topology = topology.to_openmm()\n",
    "    with open(outprefix+'.pdb', 'w') as outfile:\n",
    "        PDBFile.writeFile(openmm_topology, state.getPositions(), outfile)\n",
    "    \n",
    "    # Return\n",
    "    return True, system, topology, state.getPositions()"
   ]
  },
  {
   "cell_type": "markdown",
   "metadata": {
    "slideshow": {
     "slide_type": "subslide"
    }
   },
   "source": [
    "### Let's test it out: We'll start by prepping our two molecules"
   ]
  },
  {
   "cell_type": "code",
   "execution_count": 4,
   "metadata": {
    "slideshow": {
     "slide_type": "fragment"
    }
   },
   "outputs": [],
   "source": [
    "# What SMILES string for our molecules? Should be isomeric SMILES\n",
    "mol_smiles_strings = ['C(CO)O', 'CC(=O)OCCOC(=O)C']\n",
    "\n",
    "# Import stuff\n",
    "from openeye.oechem import *\n",
    "import oenotebook as oenb\n",
    "from openeye.oeomega import * # conformer generation\n",
    "from openeye.oequacpac import * #for partial charge assignment\n",
    "\n",
    "# Create empty OEMols, convert, and save\n",
    "my_molecules = []\n",
    "for mol_smiles in mol_smiles_strings:\n",
    "    mol = OEMol()\n",
    "    # Convert SMILES and store\n",
    "    OESmilesToMol(mol, mol_smiles)\n",
    "    my_molecules.append(mol)"
   ]
  },
  {
   "cell_type": "markdown",
   "metadata": {
    "slideshow": {
     "slide_type": "subslide"
    }
   },
   "source": [
    "### Now generate conformers for our molecules"
   ]
  },
  {
   "cell_type": "code",
   "execution_count": 5,
   "metadata": {
    "slideshow": {
     "slide_type": "fragment"
    }
   },
   "outputs": [],
   "source": [
    "#initialize omega for conformer generation\n",
    "omega = OEOmega()\n",
    "omega.SetMaxConfs(1) #Generate only a single conformer\n",
    "omega.SetIncludeInput(False)\n",
    "omega.SetStrictStereo(False) #Pick random stereoisomer if stereochemistry not provided\n",
    "\n",
    "# Set up to store molecules after conformers generated/charged\n",
    "final_molecules = []\n",
    "\n",
    "for mol in my_molecules:\n",
    "    # Set to use a simple neutral pH model \n",
    "    OESetNeutralpHModel(mol)\n",
    "    # Generate conformers with Omega; keep only best conformer\n",
    "    status = omega(mol)\n",
    "    if not status:\n",
    "        print(\"Error generating conformers.\" )\n",
    "    \n",
    "    final_molecules.append(OEMol(mol))"
   ]
  },
  {
   "cell_type": "markdown",
   "metadata": {
    "slideshow": {
     "slide_type": "slide"
    }
   },
   "source": [
    "### Now we run our function on those two molecules"
   ]
  },
  {
   "cell_type": "code",
   "execution_count": 6,
   "metadata": {
    "slideshow": {
     "slide_type": "fragment"
    }
   },
   "outputs": [
    {
     "ename": "NameError",
     "evalue": "name 'gas_phase_MD' is not defined",
     "output_type": "error",
     "traceback": [
      "\u001b[0;31m---------------------------------------------------------------------------\u001b[0m",
      "\u001b[0;31mNameError\u001b[0m                                 Traceback (most recent call last)",
      "\u001b[0;32m/var/folders/k4/mfxydxms5xb72hl9c7pmc8880000gp/T/ipykernel_48191/1765070456.py\u001b[0m in \u001b[0;36m<module>\u001b[0;34m\u001b[0m\n\u001b[1;32m      1\u001b[0m \u001b[0;31m# 10000 steps (on these systems) is good for a test and will generate reasonable plots; 100000 steps will give you really quite solid data\u001b[0m\u001b[0;34m\u001b[0m\u001b[0;34m\u001b[0m\u001b[0;34m\u001b[0m\u001b[0m\n\u001b[0;32m----> 2\u001b[0;31m \u001b[0mstatus1\u001b[0m\u001b[0;34m,\u001b[0m \u001b[0msystem1\u001b[0m\u001b[0;34m,\u001b[0m \u001b[0mtopology1\u001b[0m\u001b[0;34m,\u001b[0m \u001b[0mpositions1\u001b[0m \u001b[0;34m=\u001b[0m \u001b[0mgas_phase_MD\u001b[0m\u001b[0;34m(\u001b[0m\u001b[0mfinal_molecules\u001b[0m\u001b[0;34m[\u001b[0m\u001b[0;36m0\u001b[0m\u001b[0;34m]\u001b[0m\u001b[0;34m,\u001b[0m \u001b[0;36m100000\u001b[0m\u001b[0;34m,\u001b[0m \u001b[0moutprefix\u001b[0m\u001b[0;34m=\u001b[0m\u001b[0;34m'test1'\u001b[0m\u001b[0;34m)\u001b[0m\u001b[0;34m\u001b[0m\u001b[0;34m\u001b[0m\u001b[0m\n\u001b[0m\u001b[1;32m      3\u001b[0m \u001b[0mstatus2\u001b[0m\u001b[0;34m,\u001b[0m \u001b[0msystem2\u001b[0m\u001b[0;34m,\u001b[0m \u001b[0mtopology2\u001b[0m\u001b[0;34m,\u001b[0m \u001b[0mpositions2\u001b[0m \u001b[0;34m=\u001b[0m \u001b[0mgas_phase_MD\u001b[0m\u001b[0;34m(\u001b[0m\u001b[0mfinal_molecules\u001b[0m\u001b[0;34m[\u001b[0m\u001b[0;36m1\u001b[0m\u001b[0;34m]\u001b[0m\u001b[0;34m,\u001b[0m \u001b[0;36m100000\u001b[0m\u001b[0;34m,\u001b[0m \u001b[0moutprefix\u001b[0m\u001b[0;34m=\u001b[0m\u001b[0;34m'test2'\u001b[0m\u001b[0;34m)\u001b[0m\u001b[0;34m\u001b[0m\u001b[0;34m\u001b[0m\u001b[0m\n",
      "\u001b[0;31mNameError\u001b[0m: name 'gas_phase_MD' is not defined"
     ]
    }
   ],
   "source": [
    "# 10000 steps (on these systems) is good for a test and will generate reasonable plots; 100000 steps will give you really quite solid data\n",
    "status1, system1, topology1, positions1 = gas_phase_MD(final_molecules[0], 100000, outprefix='test1')\n",
    "status2, system2, topology2, positions2 = gas_phase_MD(final_molecules[1], 100000, outprefix='test2')"
   ]
  },
  {
   "cell_type": "markdown",
   "metadata": {
    "slideshow": {
     "slide_type": "subslide"
    }
   },
   "source": [
    "## Now let's make an alternate function which does the same thing, but in implicit solvent\n",
    "\n",
    "\n",
    "Basically we just need the same function as above, but with the addition of Generalized Born (GB) implicit solvent parameters."
   ]
  },
  {
   "cell_type": "code",
   "execution_count": 7,
   "metadata": {
    "slideshow": {
     "slide_type": "subslide"
    }
   },
   "outputs": [],
   "source": [
    "from io import StringIO\n",
    "\n",
    "def GBSA_MD(oemol, nsteps, outprefix='molecule'):\n",
    "    \"\"\"Run GBSA (OBC1) MD on a molecule using the SMIRNOFF force field and Langevin dynamics in OpenMM\n",
    "for a specified number of steps, writing output trajectory/coordinate files to the specified prefix.\n",
    "Trajectory snapshots will be stored to a NetCDF file every 100 frames.\n",
    "\n",
    "    Arguments:\n",
    "    _________\n",
    "        oemol: (OpenEye OEMol object)\n",
    "            OpenEye OEMol of the molecule to simulate. Must have all hydrogens and have 3D conformation.\n",
    "        nsteps: integer\n",
    "            Number of 2 femtosecond timesteps to take\n",
    "        outprefix (optional, default 'molecule'): string\n",
    "            Prefix for output files (trajectory/Topology/etc.).\n",
    "    Returns:\n",
    "    ________\n",
    "        status: (bool)\n",
    "            True/False depending on whether task succeeded\n",
    "        system: (OpenMM System)\n",
    "            system as simulated\n",
    "        topology: (OpenMM Topology)\n",
    "            Topology for system\n",
    "        positions: (simtk.unit position array)\n",
    "            final position array\n",
    "        \n",
    "    \"\"\"\n",
    "    \n",
    "    # Get implicit solvent parameters ready\n",
    "    GB_xml_string = u\"\"\"\\\n",
    "<SMIRNOFF version=\"0.3\" aromaticity_model=\"OEAroModel_MDL\">\n",
    "    <Date>2019-08-08</Date>\n",
    "    <Author>J. Chodera, (MSKCC); J. Wagner (Open Force Field)</Author>\n",
    "    <!-- This file is intended to replicate the settings and per-particle parameters provided by OpenMM's customgbforces.GBSAHCTForce class -->\n",
    "    <GBSA version=\"0.3\" gb_model=\"HCT\" solvent_dielectric=\"78.5\" solute_dielectric=\"1\" sa_model=\"ACE\" surface_area_penalty=\"5.4*calories/mole/angstroms**2\" solvent_radius=\"1.4*angstroms\">\n",
    "      <Atom smirks=\"[*:1]\" radius=\"0.15*nanometer\" scale=\"0.8\"/>\n",
    "      <Atom smirks=\"[#1:1]\" radius=\"0.12*nanometer\" scale=\"0.85\"/>\n",
    "      <Atom smirks=\"[#1:1]~[#6]\" radius=\"0.13*nanometer\" scale=\"0.85\"/>\n",
    "      <Atom smirks=\"[#1:1]~[#7]\" radius=\"0.13*nanometer\" scale=\"0.85\"/>\n",
    "      <Atom smirks=\"[#1:1]~[#8]\" radius=\"0.08*nanometer\" scale=\"0.85\"/>\n",
    "      <Atom smirks=\"[#1:1]~[#16]\" radius=\"0.08*nanometer\" scale=\"0.85\"/>\n",
    "      <Atom smirks=\"[#6:1]\" radius=\"0.17*nanometer\" scale=\"0.72\"/>\n",
    "      <Atom smirks=\"[#7:1]\" radius=\"0.155*nanometer\" scale=\"0.79\"/>\n",
    "      <Atom smirks=\"[#8:1]\" radius=\"0.15*nanometer\" scale=\"0.85\"/>\n",
    "      <Atom smirks=\"[#9:1]\" radius=\"0.15*nanometer\" scale=\"0.88\"/>\n",
    "      <Atom smirks=\"[#14:1]\" radius=\"0.21*nanometer\" scale=\"0.8\"/>\n",
    "      <Atom smirks=\"[#15:1]\" radius=\"0.185*nanometer\" scale=\"0.86\"/>\n",
    "      <Atom smirks=\"[#16:1]\" radius=\"0.18*nanometer\" scale=\"0.96\"/>\n",
    "      <Atom smirks=\"[#17:1]\" radius=\"0.17*nanometer\" scale=\"0.8\"/>\n",
    "    </GBSA>\n",
    "</SMIRNOFF>\"\"\"\n",
    "    GB_xml = StringIO(GB_xml_string)\n",
    "    \n",
    "    # Prep forcefield, create system and Topology\n",
    "    ff = ForceField('openff-1.0.0.offxml', GB_xml)\n",
    "    # Create OpenFF Molecule from oemol\n",
    "    offmol = Molecule.from_openeye(oemol)\n",
    "    \n",
    "    topology = Topology.from_molecules([offmol])\n",
    "    system = ff.create_openmm_system(topology)\n",
    "\n",
    "    positions = structure.extractPositionsFromOEMol(oemol)\n",
    "\n",
    "\n",
    "    \n",
    "    # Energy minimize\n",
    "    # Even though we're just going to minimize, we still have to set up an integrator, since a Simulation needs one\n",
    "    integrator = openmm.VerletIntegrator(2.0*unit.femtoseconds)\n",
    "    # Prep the Simulation using the parameterized system, the integrator, and the topology\n",
    "    simulation = openmm.app.Simulation(topology, system, integrator)\n",
    "    # Copy in the positions\n",
    "    simulation.context.setPositions( positions) \n",
    "\n",
    "    # Get initial state and energy; print\n",
    "    state = simulation.context.getState(getEnergy = True)\n",
    "    energy = state.getPotentialEnergy() / unit.kilocalories_per_mole\n",
    "    #print(\"Energy before minimization (kcal/mol): %.2g\" % energy)\n",
    "\n",
    "    # Minimize, get final state and energy and print\n",
    "    simulation.minimizeEnergy()\n",
    "    state = simulation.context.getState(getEnergy=True, getPositions=True)\n",
    "    energy = state.getPotentialEnergy() / unit.kilocalories_per_mole\n",
    "    #print(\"Energy after minimization (kcal/mol): %.2g\" % energy)\n",
    "    newpositions = state.getPositions()\n",
    "    \n",
    "    from mdtraj.reporters import NetCDFReporter\n",
    "    integrator = openmm.LangevinIntegrator(300*unit.kelvin, 1./unit.picosecond, 2.*unit.femtoseconds)\n",
    "\n",
    "    # Prep Simulation\n",
    "    simulation = openmm.app.Simulation(topology, system, integrator)\n",
    "    # Copy in minimized positions\n",
    "    simulation.context.setPositions(newpositions)\n",
    "\n",
    "    # Initialize velocities to correct temperature\n",
    "    simulation.context.setVelocitiesToTemperature(300*unit.kelvin)\n",
    "    # Set up to write trajectory file to NetCDF file in data directory every 100 frames\n",
    "    netcdf_reporter = NetCDFReporter(os.path.join('.', '%s.nc' % outprefix), 100) #Store every 100 frames\n",
    "    # Initialize reporters, including a CSV file to store certain stats every 100 frames\n",
    "    simulation.reporters.append(netcdf_reporter)\n",
    "    simulation.reporters.append(openmm.app.StateDataReporter(os.path.join('.', '%s.csv' % outprefix), 100, step=True, potentialEnergy=True, temperature=True, density=True))\n",
    "\n",
    "    # Run the simulation and print start info; store timing\n",
    "    print(\"Starting simulation\")\n",
    "    start = time.clock()\n",
    "    simulation.step(nsteps) \n",
    "    end = time.clock()\n",
    "\n",
    "    # Print elapsed time info, finalize trajectory file\n",
    "    print(\"Elapsed time %.2f seconds\" % (end-start))\n",
    "    netcdf_reporter.close()\n",
    "    print(\"Done!\")\n",
    "    \n",
    "    # Get state\n",
    "    state = simulation.context.getState(getEnergy=True, getPositions=True)\n",
    "    \n",
    "    # Write out a PDB\n",
    "    from simtk.openmm.app import PDBFile\n",
    "    openmm_topology = topology.to_openmm()\n",
    "    with open(outprefix+'.pdb', 'w') as outfile:\n",
    "        PDBFile.writeFile(openmm_topology, state.getPositions(), outfile)\n",
    "    \n",
    "    # Return\n",
    "    return True, system, topology, state.getPositions()\n",
    "    \n"
   ]
  },
  {
   "cell_type": "markdown",
   "metadata": {
    "slideshow": {
     "slide_type": "subslide"
    }
   },
   "source": [
    "### Now we run our function on the two molecules again\n",
    "\n",
    "We don't need to re-generate molecules/starting coordinates"
   ]
  },
  {
   "cell_type": "code",
   "execution_count": 28,
   "metadata": {
    "slideshow": {
     "slide_type": "fragment"
    }
   },
   "outputs": [
    {
     "name": "stdout",
     "output_type": "stream",
     "text": [
      "Starting simulation\n"
     ]
    },
    {
     "name": "stderr",
     "output_type": "stream",
     "text": [
      "/Users/dmobley/anaconda3/envs/drugcomp/lib/python3.7/site-packages/ipykernel_launcher.py:104: DeprecationWarning: time.clock has been deprecated in Python 3.3 and will be removed from Python 3.8: use time.perf_counter or time.process_time instead\n",
      "/Users/dmobley/anaconda3/envs/drugcomp/lib/python3.7/site-packages/ipykernel_launcher.py:106: DeprecationWarning: time.clock has been deprecated in Python 3.3 and will be removed from Python 3.8: use time.perf_counter or time.process_time instead\n"
     ]
    },
    {
     "name": "stdout",
     "output_type": "stream",
     "text": [
      "Elapsed time 41.16 seconds\n",
      "Done!\n",
      "Starting simulation\n",
      "Elapsed time 41.95 seconds\n",
      "Done!\n"
     ]
    }
   ],
   "source": [
    "status1, system1, topology1, positions1 = GBSA_MD(final_molecules[0], 100000, outprefix='test1_GB')\n",
    "status2, system2, topology2, positions2 = GBSA_MD(final_molecules[1], 100000, outprefix='test2_GB')"
   ]
  },
  {
   "cell_type": "markdown",
   "metadata": {
    "slideshow": {
     "slide_type": "slide"
    }
   },
   "source": [
    "## Now let's analyze the results in both cases and see if solvent is making a difference\n",
    "\n",
    "### We'll start with the first molecule, in the gas phase case\n",
    "\n",
    "Here, let's visualize the molecule, then decide some properties to compute.\n",
    "For visualization we'll take out rotational and translational motion."
   ]
  },
  {
   "cell_type": "code",
   "execution_count": 29,
   "metadata": {
    "slideshow": {
     "slide_type": "subslide"
    }
   },
   "outputs": [
    {
     "data": {
      "application/vnd.jupyter.widget-view+json": {
       "model_id": "709fd78f12a443a8b39acc57b8f4e5af",
       "version_major": 2,
       "version_minor": 0
      },
      "text/plain": [
       "NGLWidget(count=1000)"
      ]
     },
     "metadata": {},
     "output_type": "display_data"
    }
   ],
   "source": [
    "import mdtraj\n",
    "import nglview\n",
    "traj= mdtraj.load(os.path.join('.', 'test1.nc'), top=os.path.join('.', 'test1.pdb'))\n",
    "# Take out rotational/translational motion by superimposing on itself for easier viewing\n",
    "traj.superpose(traj)\n",
    "\n",
    "# View the trajectory\n",
    "view = nglview.show_mdtraj(traj)\n",
    "view"
   ]
  },
  {
   "cell_type": "markdown",
   "metadata": {
    "slideshow": {
     "slide_type": "slide"
    }
   },
   "source": [
    "### On to the implicit solvent case"
   ]
  },
  {
   "cell_type": "code",
   "execution_count": 30,
   "metadata": {
    "slideshow": {
     "slide_type": "fragment"
    }
   },
   "outputs": [
    {
     "data": {
      "application/vnd.jupyter.widget-view+json": {
       "model_id": "73f9f76c6c534aa1a79f33a45b4a1369",
       "version_major": 2,
       "version_minor": 0
      },
      "text/plain": [
       "NGLWidget(count=1000)"
      ]
     },
     "metadata": {},
     "output_type": "display_data"
    }
   ],
   "source": [
    "import mdtraj\n",
    "import nglview\n",
    "traj2= mdtraj.load(os.path.join('.', 'test1_GB.nc'), top=os.path.join('.', 'test1_GB.pdb'))\n",
    "# Take out rotational/translational motion by superimposing on itself for easier viewing\n",
    "traj2.superpose(traj2)\n",
    "\n",
    "# View the trajectory\n",
    "view = nglview.show_mdtraj(traj2)\n",
    "view"
   ]
  },
  {
   "cell_type": "markdown",
   "metadata": {
    "slideshow": {
     "slide_type": "slide"
    }
   },
   "source": [
    "### What did we observe? \n",
    "\n",
    "- In gas phase, the two polar hydrogens usually point the same direction; not in GB\n",
    "- Transitions in the orientation of the hydrogens are faster in GB\n",
    "- The molecule may be more extended more often in GB"
   ]
  },
  {
   "cell_type": "markdown",
   "metadata": {
    "slideshow": {
     "slide_type": "subslide"
    }
   },
   "source": [
    "### Now let's compute some properties to see if we can back that up quantitatively\n",
    "\n",
    "If the two hydrogens usually point in the same direction in gas phase but not in GB, that means the distance between them should be smaller in gas phase than in GB (because they never get to the extended conformation shown below). \n",
    "\n",
    "So let's compute and graph the distance between protons.\n",
    "\n",
    "<img src =\"images/extended.png\" width=\"400px\">"
   ]
  },
  {
   "cell_type": "code",
   "execution_count": 33,
   "metadata": {
    "slideshow": {
     "slide_type": "subslide"
    }
   },
   "outputs": [
    {
     "name": "stdout",
     "output_type": "stream",
     "text": [
      "Populating the interactive namespace from numpy and matplotlib\n"
     ]
    },
    {
     "name": "stderr",
     "output_type": "stream",
     "text": [
      "/Users/dmobley/anaconda3/envs/drugcomp/lib/python3.7/site-packages/IPython/core/magics/pylab.py:160: UserWarning: pylab import has clobbered these variables: ['Arrow', 'Text']\n",
      "`%matplotlib` prevents importing * from pylab and numpy\n",
      "  \"\\n`%matplotlib` prevents importing * from pylab and numpy\"\n"
     ]
    },
    {
     "data": {
      "image/png": "[encoded data removed]",
      "text/plain": [
       "<Figure size 432x288 with 1 Axes>"
      ]
     },
     "metadata": {
      "needs_background": "light"
     },
     "output_type": "display_data"
    }
   ],
   "source": [
    "# Let's extract and graph the distances between the hydroxyl protonsfor the first molecule, 1,2-ethanediol\n",
    "topology1 = traj.topology\n",
    "# I opened the molecule in a viewer and manually input the indices of the hydrogen atoms, less 1 (python indexing)\n",
    "hydrogen_pair = [8, 9]\n",
    "dists1 = mdtraj.compute_distances(traj, [hydrogen_pair])\n",
    "\n",
    "dists2 = mdtraj.compute_distances(traj2, [hydrogen_pair])\n",
    "\n",
    "%pylab inline\n",
    "figure()\n",
    "plot(dists1)\n",
    "plot(dists2)\n",
    "ylabel(r'distance (nm)')\n",
    "xlabel('Frame number')\n",
    "show()"
   ]
  },
  {
   "cell_type": "markdown",
   "metadata": {
    "slideshow": {
     "slide_type": "subslide"
    }
   },
   "source": [
    "#### So it looks like the GB case indeed has a higher distance; let's do a histogram to see it better"
   ]
  },
  {
   "cell_type": "code",
   "execution_count": 34,
   "metadata": {
    "slideshow": {
     "slide_type": "skip"
    }
   },
   "outputs": [
    {
     "name": "stdout",
     "output_type": "stream",
     "text": [
      " 0\n",
      " 1\n",
      " 2\n",
      " 3\n",
      " 4\n",
      " 5\n",
      " 6\n",
      " 7\n",
      " 8\n",
      " 9\n"
     ]
    }
   ],
   "source": [
    "# To see your atom names you could use this (though we'd actually need to get OpenFF to assign names first, above)\n",
    "for atom in topology1.atoms: \n",
    "    print(atom.name, atom.index)"
   ]
  },
  {
   "cell_type": "code",
   "execution_count": 35,
   "metadata": {
    "slideshow": {
     "slide_type": "subslide"
    }
   },
   "outputs": [
    {
     "data": {
      "image/png": "[encoded data removed]",
      "text/plain": [
       "<Figure size 432x288 with 1 Axes>"
      ]
     },
     "metadata": {
      "needs_background": "light"
     },
     "output_type": "display_data"
    }
   ],
   "source": [
    "figure()\n",
    "hist(dists1, alpha=0.9) #The alpha value makes the histograms semi-transparent\n",
    "hist(dists2, alpha=0.9) \n",
    "xlabel(r'Distance (nm)')\n",
    "show()"
   ]
  },
  {
   "cell_type": "markdown",
   "metadata": {
    "slideshow": {
     "slide_type": "subslide"
    }
   },
   "source": [
    "### We also thought transitions in the orientations of the hydrogens are faster in GB\n",
    "\n",
    "Let's look at the torsional angles for the hydroxyls to see if we can observe a difference"
   ]
  },
  {
   "cell_type": "code",
   "execution_count": 36,
   "metadata": {
    "slideshow": {
     "slide_type": "fragment"
    }
   },
   "outputs": [
    {
     "data": {
      "text/plain": [
       "Text(0.5, 1.0, 'Gas phase trajectory')"
      ]
     },
     "execution_count": 36,
     "metadata": {},
     "output_type": "execute_result"
    },
    {
     "data": {
      "image/png": "[encoded data removed]",
      "text/plain": [
       "<Figure size 432x288 with 1 Axes>"
      ]
     },
     "metadata": {
      "needs_background": "light"
     },
     "output_type": "display_data"
    }
   ],
   "source": [
    "dihedral1_atoms=[1, 0, 2, 8] # I pulled these from the names of the atoms, printed using code above\n",
    "dihedral2_atoms=[0, 1, 3, 9]\n",
    "\n",
    "dihedrals1 = mdtraj.compute_dihedrals( traj, [dihedral1_atoms, dihedral2_atoms])\n",
    "dihedrals2 = mdtraj.compute_dihedrals( traj2, [dihedral1_atoms, dihedral2_atoms])\n",
    "figure()\n",
    "plot(dihedrals1[:,0], alpha=0.9)\n",
    "plot(dihedrals1[:,1], alpha=0.9)\n",
    "xlabel('Frame number')\n",
    "ylabel('Dihedral angle')\n",
    "title('Gas phase trajectory')"
   ]
  },
  {
   "cell_type": "markdown",
   "metadata": {
    "slideshow": {
     "slide_type": "subslide"
    }
   },
   "source": [
    "#### GBSA case"
   ]
  },
  {
   "cell_type": "code",
   "execution_count": 37,
   "metadata": {
    "slideshow": {
     "slide_type": "fragment"
    }
   },
   "outputs": [
    {
     "data": {
      "text/plain": [
       "Text(0.5, 1.0, 'Water trajectory')"
      ]
     },
     "execution_count": 37,
     "metadata": {},
     "output_type": "execute_result"
    },
    {
     "data": {
      "image/png": "[encoded data removed]",
      "text/plain": [
       "<Figure size 432x288 with 1 Axes>"
      ]
     },
     "metadata": {
      "needs_background": "light"
     },
     "output_type": "display_data"
    }
   ],
   "source": [
    "figure()\n",
    "plot(dihedrals2[:,0], alpha=0.9)\n",
    "plot(dihedrals2[:,1], alpha=0.9)\n",
    "xlabel('Frame number')\n",
    "ylabel('Dihedral angle')\n",
    "title('Water trajectory')"
   ]
  },
  {
   "cell_type": "markdown",
   "metadata": {
    "slideshow": {
     "slide_type": "subslide"
    }
   },
   "source": [
    "It seems like there may be more transitions, though if so, it's somewhat subtle. But it also seems to be that the GBSA case spends more time in the state near 2 radians. \n",
    "\n",
    "### We also thought we observed that the two hydrogens have directions which are less correlated in GB\n",
    "\n",
    "Another way to check this would be to actually compute the correlation in the torsional angles in the two cases. Let's do that."
   ]
  },
  {
   "cell_type": "code",
   "execution_count": 38,
   "metadata": {
    "slideshow": {
     "slide_type": "fragment"
    }
   },
   "outputs": [
    {
     "name": "stdout",
     "output_type": "stream",
     "text": [
      "[-44.030907] [-212.58937]\n"
     ]
    }
   ],
   "source": [
    "# Compute correlation for gas phase case\n",
    "correlation1 = np.correlate( dihedrals1[:,0], dihedrals1[:,1])\n",
    "# Compute correlation for GB case\n",
    "correlation2 = np.correlate( dihedrals2[:,0], dihedrals2[:,1])\n",
    "print(correlation1, correlation2)"
   ]
  },
  {
   "cell_type": "markdown",
   "metadata": {
    "slideshow": {
     "slide_type": "fragment"
    }
   },
   "source": [
    "So indeed it looks like the torsional angles are less correlated in the GB case than in the gas phase case, supporting the observation that the protons don't have to point in the same direction in GB."
   ]
  },
  {
   "cell_type": "markdown",
   "metadata": {
    "slideshow": {
     "slide_type": "subslide"
    }
   },
   "source": [
    "### As a final check, let's compute the radius of gyration, $R_g$, a measure of size"
   ]
  },
  {
   "cell_type": "code",
   "execution_count": 39,
   "metadata": {
    "slideshow": {
     "slide_type": "subslide"
    }
   },
   "outputs": [
    {
     "data": {
      "image/png": "[encoded data removed]",
      "text/plain": [
       "<Figure size 432x288 with 1 Axes>"
      ]
     },
     "metadata": {
      "needs_background": "light"
     },
     "output_type": "display_data"
    }
   ],
   "source": [
    "g1 = mdtraj.compute_rg(traj)\n",
    "g2 = mdtraj.compute_rg(traj2)\n",
    "figure()\n",
    "plot(g1)\n",
    "plot(g2)\n",
    "xlabel('Frame')\n",
    "ylabel(r'$R_g$, nanometers')\n",
    "show()"
   ]
  },
  {
   "cell_type": "markdown",
   "metadata": {
    "slideshow": {
     "slide_type": "slide"
    }
   },
   "source": [
    "## Now let's take a look at our other molecule\n",
    "\n",
    "We'll do a bit less analysis here for brevity, but let's start off with a visualization of the two cases again."
   ]
  },
  {
   "cell_type": "code",
   "execution_count": 40,
   "metadata": {
    "slideshow": {
     "slide_type": "subslide"
    }
   },
   "outputs": [
    {
     "data": {
      "application/vnd.jupyter.widget-view+json": {
       "model_id": "a78823b446df4004a40d07decea9f953",
       "version_major": 2,
       "version_minor": 0
      },
      "text/plain": [
       "NGLWidget(count=1000)"
      ]
     },
     "metadata": {},
     "output_type": "display_data"
    }
   ],
   "source": [
    "import mdtraj\n",
    "import nglview\n",
    "traj3= mdtraj.load(os.path.join('.', 'test2.nc'), top=os.path.join('.', 'test2.pdb'))\n",
    "# Take out rotational/translational motion by superimposing on itself for easier viewing\n",
    "traj3.superpose(traj3)\n",
    "\n",
    "# View the trajectory\n",
    "view = nglview.show_mdtraj(traj3)\n",
    "view"
   ]
  },
  {
   "cell_type": "code",
   "execution_count": 41,
   "metadata": {
    "slideshow": {
     "slide_type": "subslide"
    }
   },
   "outputs": [
    {
     "data": {
      "application/vnd.jupyter.widget-view+json": {
       "model_id": "38f60ed75a4344919915c9ba899ab231",
       "version_major": 2,
       "version_minor": 0
      },
      "text/plain": [
       "NGLWidget(count=1000)"
      ]
     },
     "metadata": {},
     "output_type": "display_data"
    }
   ],
   "source": [
    "import mdtraj\n",
    "import nglview\n",
    "traj4= mdtraj.load(os.path.join('.', 'test2_GB.nc'), top=os.path.join('.', 'test2_GB.pdb'))\n",
    "# Take out rotational/translational motion by superimposing on itself for easier viewing\n",
    "traj4.superpose(traj4)\n",
    "\n",
    "# View the trajectory\n",
    "view = nglview.show_mdtraj(traj4)\n",
    "view"
   ]
  },
  {
   "cell_type": "markdown",
   "metadata": {
    "slideshow": {
     "slide_type": "subslide"
    }
   },
   "source": [
    "### We could do a lot of the same analysis here\n",
    "\n",
    "We could do a lot of the same analysis in this case. I don't think I see anything super obvious in the visualization, and this is not a case (like the diol above) where there will be particularly strong internal electrostatic interactions, so we may see less. \n",
    "\n",
    "For now, let's just look at the radius of gyration as a simple proxy."
   ]
  },
  {
   "cell_type": "code",
   "execution_count": 42,
   "metadata": {
    "slideshow": {
     "slide_type": "subslide"
    }
   },
   "outputs": [
    {
     "data": {
      "image/png": "[encoded data removed]",
      "text/plain": [
       "<Figure size 432x288 with 1 Axes>"
      ]
     },
     "metadata": {
      "needs_background": "light"
     },
     "output_type": "display_data"
    }
   ],
   "source": [
    "g3 = mdtraj.compute_rg(traj3)\n",
    "g4 = mdtraj.compute_rg(traj4)\n",
    "figure()\n",
    "plot(g3)\n",
    "plot(g4)\n",
    "xlabel('Frame')\n",
    "ylabel(r'$R_g$, nanometers')\n",
    "show()"
   ]
  },
  {
   "cell_type": "markdown",
   "metadata": {
    "slideshow": {
     "slide_type": "subslide"
    }
   },
   "source": [
    "### Well, that sure doesn't show much\n",
    "\n",
    "Perhaps the radius of gyration is just not a good measure here, as that looks very inconclusive. What about if we look at root mean squared distance (RMSD) from the starting conformation?"
   ]
  },
  {
   "cell_type": "code",
   "execution_count": 43,
   "metadata": {
    "slideshow": {
     "slide_type": "subslide"
    }
   },
   "outputs": [
    {
     "data": {
      "image/png": "[encoded data removed]",
      "text/plain": [
       "<Figure size 432x288 with 1 Axes>"
      ]
     },
     "metadata": {
      "needs_background": "light"
     },
     "output_type": "display_data"
    }
   ],
   "source": [
    "r3 = mdtraj.rmsd(traj3, traj3[0])\n",
    "r4 = mdtraj.rmsd(traj4, traj3[0])\n",
    "figure()\n",
    "plot(r3)\n",
    "plot(r4)\n",
    "xlabel('Frame')\n",
    "ylabel(r'RMSD, nanometers')\n",
    "show()"
   ]
  },
  {
   "cell_type": "markdown",
   "metadata": {
    "slideshow": {
     "slide_type": "subslide"
    }
   },
   "source": [
    "### That doesn't seem to show much either.\n",
    "\n",
    "So far, it doesn't seem like we see see much for this case. The RMSD calculation does show some structural transitions, but it's not super obvious that the GB case has dramatically more flexibility.\n",
    "\n",
    "The previous study (noted above) does indicate that on longer timescales, there is somewhat more flexibility in solution than in gas phase for this case, as indicated by a significant change in entropy on transfer to solution. However, here, our tests are on a significantly shorter timescale and we seem not yet to have enough data that it shows up structurally. "
   ]
  }
 ],
 "metadata": {
  "celltoolbar": "Slideshow",
  "kernelspec": {
   "display_name": "Python [conda env:drugcomp] *",
   "language": "python",
   "name": "conda-env-drugcomp-py"
  },
  "language_info": {
   "codemirror_mode": {
    "name": "ipython",
    "version": 3
   },
   "file_extension": ".py",
   "mimetype": "text/x-python",
   "name": "python",
   "nbconvert_exporter": "python",
   "pygments_lexer": "ipython3",
   "version": "3.8.12"
  },
  "livereveal": {
   "height": 900,
   "start_slideshow_at": "selected",
   "width": 1440
  },
  "toc": {
   "nav_menu": {},
   "number_sections": true,
   "sideBar": true,
   "skip_h1_title": false,
   "toc_cell": false,
   "toc_position": {},
   "toc_section_display": "block",
   "toc_window_display": false
  }
 },
 "nbformat": 4,
 "nbformat_minor": 2
}
