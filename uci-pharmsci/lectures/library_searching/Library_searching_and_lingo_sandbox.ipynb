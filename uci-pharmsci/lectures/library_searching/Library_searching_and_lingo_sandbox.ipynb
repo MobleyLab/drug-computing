{
 "cells": [
  {
   "cell_type": "markdown",
   "metadata": {
    "id": "X-g4SCM_tlLq"
   },
   "source": [
    "### The OpenEye tools can handle conversions and parsing of SMILES\n",
    "As we already saw in the 3D structure/shape lecture (to a limited extent) the OpenEye tools can work with common molecular file formats, but also with chemical names AND with SMILES strings. \n",
    "\n",
    "We previously saw (in the 3D structure/shape iPython notebook) that we can create molecules from their names or SMILES strings. Let's recap that, and *also* see how to generate SMILES strings for molecules we already have, and IUPAC names for molecules we already have.\n",
    "\n",
    "Written by David Mobley, with thanks to Danielle Bergazin and AK Nandkeolyar."
   ]
  },
  {
   "cell_type": "markdown",
   "metadata": {},
   "source": [
    "**This notebook requires the OpenEye toolkits on top of a standard scientific Python installation.**\n",
    "\n",
    "## Preparation for using Google Colab (SKIP IF RUNNING LOCALLY))\n",
    "\n",
    "[![Open in Colab](https://colab.research.google.com/assets/colab-badge.svg)](https://colab.research.google.com/github/MobleyLab/drug-computing/blob/master/uci-pharmsci/lectures/library_searching/Library_searching_and_lingo_sandbox.ipynb)\n",
    "\n",
    "If you are running this on Google Colab, you need to take a couple additional steps of preparation:\n",
    "1) Mount your Google Drive to this notebook:"
   ]
  },
  {
   "cell_type": "code",
   "execution_count": null,
   "metadata": {},
   "outputs": [],
   "source": [
    "# Run cell if using collab\n",
    "\n",
    "# Mount google drive to Colab Notebooks to access files\n",
    "from google.colab import drive\n",
    "drive.mount('/content/drive', force_remount = True)"
   ]
  },
  {
   "cell_type": "markdown",
   "metadata": {},
   "source": [
    "2) **If you are running this on Google Colab, pip install dependencies**:"
   ]
  },
  {
   "cell_type": "code",
   "execution_count": null,
   "metadata": {},
   "outputs": [],
   "source": [
    "!pip install -i https://pypi.anaconda.org/openeye/simple openeye-toolkits"
   ]
  },
  {
   "cell_type": "markdown",
   "metadata": {},
   "source": [
    "3) **Make sure your OpenEye license is on your Drive and configured**; adjust the path below if needed and then run this cell to test:"
   ]
  },
  {
   "cell_type": "code",
   "execution_count": null,
   "metadata": {},
   "outputs": [],
   "source": [
    "license_filename = '/content/drive/MyDrive/oe_license.txt'\n",
    "import openeye\n",
    "\n",
    "import os\n",
    "if os.path.isfile(license_filename):\n",
    "  license_file = open(license_filename, 'r')\n",
    "  openeye.OEAddLicenseData(license_file.read())\n",
    "  license_file.close()\n",
    "else:\n",
    "  print(\"Error: Your OpenEye license is not readable; please check your filename and that you have mounted your Google Drive\")\n",
    "\n",
    "licensed = openeye.oechem.OEChemIsLicensed()\n",
    "print(\"Was your OpenEye license correctly installed (True/False)? \" + str(licensed))\n",
    "if not licensed:\n",
    "  print(\"Error: Your OpenEye license is not correctly installed.\")\n",
    "  raise Exception(\"Error: Your OpenEye license is not correctly installed.\")"
   ]
  },
  {
   "cell_type": "markdown",
   "metadata": {},
   "source": [
    "## Continue with notebook, whether locally or on Colab"
   ]
  },
  {
   "cell_type": "code",
   "execution_count": 14,
   "metadata": {
    "colab": {
     "base_uri": "https://localhost:8080/"
    },
    "executionInfo": {
     "elapsed": 649,
     "status": "ok",
     "timestamp": 1639683553940,
     "user": {
      "displayName": "Danielle Bergazin",
      "photoUrl": "https://lh3.googleusercontent.com/a-/AOh14GiOdJdx7etc0W4Yfmh-4-g-P0aJMsIonVchL0BInA=s64",
      "userId": "10589367849843705173"
     },
     "user_tz": 480
    },
    "id": "7qsLNy2ytlLy",
    "outputId": "4247e5ea-90fb-49cb-8caf-bce3ad49f307"
   },
   "outputs": [
    {
     "name": "stdout",
     "output_type": "stream",
     "text": [
      "Molecule 1 is 1,3,7-trimethylpurine-2,6-dione and has smiles Cn1cnc2c1c(=O)n(c(=O)n2C)C\n",
      "Created molecule 2 from SMILES. It's called cyclohexane\n"
     ]
    }
   ],
   "source": [
    "from openeye.oechem import *\n",
    "from openeye.oeiupac import *\n",
    "\n",
    "#Create a new empty molecule\n",
    "mol = OEMol()\n",
    "#Parse this IUPAC name into the molecule\n",
    "#OEParseIUPACName(mol, '1-cyclopropyl-6-fluoro-4-oxo-7-piperazin-1-yl-quinoline-3-carboxylic acid')\n",
    "OEParseIUPACName(mol, 'caffeine')\n",
    "\n",
    "#Create an IUPAC name AND canonical SMILES string for this molecule\n",
    "name = OECreateIUPACName(mol)\n",
    "smi = OECreateCanSmiString(mol)\n",
    "print( \"Molecule 1 is %s and has smiles %s\" % (name, smi) )\n",
    "\n",
    "#Let's create another molecule from SMILES and get its name\n",
    "mol2 = OEMol()\n",
    "OEParseSmiles( mol2, 'C1CCCCC1')\n",
    "print(\"Created molecule 2 from SMILES. It's called %s\" % OECreateIUPACName(mol2))"
   ]
  },
  {
   "cell_type": "markdown",
   "metadata": {
    "id": "kUratgEntlL0"
   },
   "source": [
    "The same approach will apply if you want to generate a name or SMILES from a molecule you read from a file. Specifically, you would first read in the molecule to an `OEMol` object or similar (as seen several times already, including in the 3D Structure/Shape lecture) and then simply run the relevant function (`OEParseIUPACName`, `OECreateCanSmiString`) on your molecule object.\n",
    "\n",
    "# We can also visualize our molecule here using OEDepict\n",
    "We can easily write it out to an image file, here `test.png`. Conveniently, iPython notebooks can display images, so we can also display that image inline here by reading it from the file. "
   ]
  },
  {
   "cell_type": "code",
   "execution_count": 15,
   "metadata": {
    "colab": {
     "base_uri": "https://localhost:8080/"
    },
    "executionInfo": {
     "elapsed": 172,
     "status": "ok",
     "timestamp": 1639683558013,
     "user": {
      "displayName": "Danielle Bergazin",
      "photoUrl": "https://lh3.googleusercontent.com/a-/AOh14GiOdJdx7etc0W4Yfmh-4-g-P0aJMsIonVchL0BInA=s64",
      "userId": "10589367849843705173"
     },
     "user_tz": 480
    },
    "id": "xuX1c_MLtlL1",
    "outputId": "312f1629-e4bf-43fa-bd4e-eb6ab00f0df5"
   },
   "outputs": [
    {
     "data": {
      "text/plain": [
       "True"
      ]
     },
     "execution_count": 15,
     "metadata": {},
     "output_type": "execute_result"
    }
   ],
   "source": [
    "from openeye.oedepict import *\n",
    "OEPrepareDepiction(mol)\n",
    "OERenderMolecule('test.png', mol)\n",
    "#If your molecule already has explicit hydrogens, you may wish to suppress all of these except polar hydrogens\n",
    "#as described here: http://docs.eyesopen.com/toolkits/cookbook/python/depiction/polarhydrogens.html"
   ]
  },
  {
   "cell_type": "markdown",
   "metadata": {
    "id": "Gks2-Rb3tlL2"
   },
   "source": [
    "### Display the image:"
   ]
  },
  {
   "cell_type": "code",
   "execution_count": 16,
   "metadata": {
    "colab": {
     "base_uri": "https://localhost:8080/",
     "height": 212
    },
    "executionInfo": {
     "elapsed": 168,
     "status": "ok",
     "timestamp": 1639683620436,
     "user": {
      "displayName": "Danielle Bergazin",
      "photoUrl": "https://lh3.googleusercontent.com/a-/AOh14GiOdJdx7etc0W4Yfmh-4-g-P0aJMsIonVchL0BInA=s64",
      "userId": "10589367849843705173"
     },
     "user_tz": 480
    },
    "id": "459mjmsdwfK1",
    "outputId": "3ef9d511-dfd7-4146-92ad-c78137bf0898"
   },
   "outputs": [
    {
     "data": {
      "image/png": "[encoded data removed]",
      "text/plain": [
       "<IPython.core.display.Image object>"
      ]
     },
     "execution_count": 16,
     "metadata": {
      "image/png": {
       "width": 300
      }
     },
     "output_type": "execute_result"
    }
   ],
   "source": [
    "from IPython.display import Image\n",
    "Image('test.png',width = 300)"
   ]
  },
  {
   "cell_type": "markdown",
   "metadata": {
    "id": "16SZ5WoWwdjm"
   },
   "source": [
    "\n",
    "### OpenEye's `oenotebook` toolkit interfaces with Jupyter notebooks to display molecules\n",
    "\n",
    "This is super easy as long as you are inside a Jupyter notebook (see [the OpenEye notebook examples](https://www.eyesopen.com/notebooks-directory) for more related examples).\n",
    "\n",
    "(Currently we do not have `oenotebook` working on Colab because of version incompatibilities; in some cases it can locally be installed via `pip install -i https://pypi.anaconda.org/openeye/label/oenotebook/simple openeye-oenotebook`)"
   ]
  },
  {
   "cell_type": "code",
   "execution_count": 5,
   "metadata": {
    "colab": {
     "base_uri": "https://localhost:8080/",
     "height": 217
    },
    "executionInfo": {
     "elapsed": 188,
     "status": "ok",
     "timestamp": 1639684063936,
     "user": {
      "displayName": "Danielle Bergazin",
      "photoUrl": "https://lh3.googleusercontent.com/a-/AOh14GiOdJdx7etc0W4Yfmh-4-g-P0aJMsIonVchL0BInA=s64",
      "userId": "10589367849843705173"
     },
     "user_tz": 480
    },
    "id": "lWikL0VMtlL3",
    "outputId": "78a158e3-2ace-4cdf-f3ae-bad688ad867d"
   },
   "outputs": [
    {
     "ename": "ModuleNotFoundError",
     "evalue": "No module named 'oenotebook'",
     "output_type": "error",
     "traceback": [
      "\u001b[0;31m---------------------------------------------------------------------------\u001b[0m",
      "\u001b[0;31mModuleNotFoundError\u001b[0m                       Traceback (most recent call last)",
      "\u001b[0;32m/var/folders/7z/88tvgj2941bclbbw1xhn0t8r0000gn/T/ipykernel_13442/3825319222.py\u001b[0m in \u001b[0;36m<module>\u001b[0;34m\u001b[0m\n\u001b[0;32m----> 1\u001b[0;31m \u001b[0;32mimport\u001b[0m \u001b[0moenotebook\u001b[0m \u001b[0;32mas\u001b[0m \u001b[0moenb\u001b[0m\u001b[0;34m\u001b[0m\u001b[0;34m\u001b[0m\u001b[0m\n\u001b[0m\u001b[1;32m      2\u001b[0m \u001b[0moenb\u001b[0m\u001b[0;34m.\u001b[0m\u001b[0mdraw_mol\u001b[0m\u001b[0;34m(\u001b[0m\u001b[0mmol\u001b[0m\u001b[0;34m)\u001b[0m\u001b[0;34m\u001b[0m\u001b[0;34m\u001b[0m\u001b[0m\n",
      "\u001b[0;31mModuleNotFoundError\u001b[0m: No module named 'oenotebook'"
     ]
    }
   ],
   "source": [
    "import oenotebook as oenb\n",
    "oenb.draw_mol(mol)"
   ]
  },
  {
   "cell_type": "markdown",
   "metadata": {
    "id": "gyXyozfWtlL3"
   },
   "source": [
    "\n",
    "### ChemDraw and Marvin and other viewers can handle a lot of the same tasks just performed here\n",
    "They can typically handle generating names for molecules, or generating molecules from names, and SMILES strings can also be generated for molecules or vise versa. Here, however, we'll focus on using the OpenEye toolkits. Other chemical toolkits also should have similar features in general. Markdown can also be used to display images. \n",
    "\n",
    "# A technical note on the uniqueness of SMILES, and handling chiral compounds\n",
    "## SMILES in general are not unique\n",
    "In general, there is NOT a 1-1 correspondence between a SMILES string and a molecule. Rather, several SMILES strings can typically be written which correspond to the same chemical compound. Normally this is helpful, as the user wishing to specify a compound doesn't have to provide the *right* SMILES in order to identify the molecule they want. This also makes sense when we consider chemical names, which have a similar property (several names may correspond to one compound).\n",
    "\n",
    "## Sometimes this non-uniqueness is undesirable\n",
    "Suppose you're faced with a large corporate compound library and you want to apply some method to select a portion of this for experimental follow-up. However, you're aware that there may be duplicate compounds (under different names or identifiers) in the library. How do you check for (and rule out) these duplicates so your experimental group doesn't involve running duplicate assays except when they want to? You can't use SMILES OR names since neither of these corresponds 1-1 to particular molecules.\n",
    "\n",
    "However, there is a fix - a *canonical SMILES string*, which is basically a standardized way of writing SMILES strings. OpenEye's tools can assign these (and in fact that's what we generated above -- canonical SMILES strings) to molecules, and they DO have a 1-1 correspondence to particular compounds. So if you create canonical SMILES strings for all of your compounds, you can then check that these are unique within your set, and filter out duplicates.\n",
    "\n",
    "## Chirality poses another hurdle for SMILES\n",
    "\n",
    "Standard SMILES strings do not denote molecular chirality. This is a major limitation, since it would prevent a 1-1 correspondence between SMILES and molecules for all chiral molecules AND it would prevent SMILES strings from uniquely identifying particular isomers or enantiomers of chiral compounds. Fortunately, there is a solution -- *isomeric* SMILES strings, which clearly indicate the chirality/isomeric state of the specified molecule.\n",
    "\n",
    "Here is an example of ofloxacin, an antibacterial drug with one particular isomer which is more active than the other. Specifically, levofloxacin is more active/effective than ofloxacin (which is a racemic mixture of the two isomers). Let's generate both from their names and compare SMILES strings.\n",
    "\n",
    "Note that chirality around tetrahedral centers is shown with the `@` symbol once or twice. "
   ]
  },
  {
   "cell_type": "code",
   "execution_count": 7,
   "metadata": {
    "colab": {
     "base_uri": "https://localhost:8080/",
     "height": 269
    },
    "executionInfo": {
     "elapsed": 214,
     "status": "ok",
     "timestamp": 1639683631666,
     "user": {
      "displayName": "Danielle Bergazin",
      "photoUrl": "https://lh3.googleusercontent.com/a-/AOh14GiOdJdx7etc0W4Yfmh-4-g-P0aJMsIonVchL0BInA=s64",
      "userId": "10589367849843705173"
     },
     "user_tz": 480
    },
    "id": "NBmO_yaItlL4",
    "outputId": "39b20f99-99d2-4c96-9185-4ae3e2898386"
   },
   "outputs": [
    {
     "name": "stdout",
     "output_type": "stream",
     "text": [
      "CC1COc2c3n1cc(c(=O)c3cc(c2N4CCN(CC4)C)F)C(=O)O\n",
      "CC1COc2c3n1cc(c(=O)c3cc(c2N4CCN(CC4)C)F)C(=O)O\n",
      "C[C@H]1COc2c3n1cc(c(=O)c3cc(c2N4CCN(CC4)C)F)C(=O)O\n"
     ]
    },
    {
     "data": {
      "image/png": "[encoded data removed]",
      "text/plain": [
       "<IPython.core.display.Image object>"
      ]
     },
     "execution_count": 7,
     "metadata": {
      "image/png": {
       "width": 300
      }
     },
     "output_type": "execute_result"
    }
   ],
   "source": [
    "#Create a new molecule for ofloxacin\n",
    "mol = OEMol()\n",
    "#Generate ofloxacin\n",
    "OEParseIUPACName( mol, 'ofloxacin')\n",
    "#Print canonical and isomeric smiles - which are the same in this case since no isomer is specified.\n",
    "print(OECreateCanSmiString(mol))\n",
    "print(OECreateIsoSmiString(mol))\n",
    "\n",
    "#Create a new molecule for levofloxacin\n",
    "mol2 = OEMol()\n",
    "#Generate levofloxacin\n",
    "OEParseIUPACName(mol2,'levofloxacin')\n",
    "#Print isomeric SMILES string which should now be different\n",
    "print(OECreateIsoSmiString(mol2))\n",
    "\n",
    "from openeye.oedepict import *\n",
    "OEPrepareDepiction(mol2)\n",
    "OERenderMolecule('test.png', mol2)\n",
    "Image('test.png',width = 300)"
   ]
  },
  {
   "cell_type": "markdown",
   "metadata": {
    "id": "PUrsDXaRtlL5"
   },
   "source": [
    "\n",
    "### We should also address orientation at double bonds\n",
    "It's also important to note that orientation at double bonds is handled with /, as in the following example"
   ]
  },
  {
   "cell_type": "code",
   "execution_count": 8,
   "metadata": {
    "colab": {
     "base_uri": "https://localhost:8080/"
    },
    "executionInfo": {
     "elapsed": 183,
     "status": "ok",
     "timestamp": 1639683634722,
     "user": {
      "displayName": "Danielle Bergazin",
      "photoUrl": "https://lh3.googleusercontent.com/a-/AOh14GiOdJdx7etc0W4Yfmh-4-g-P0aJMsIonVchL0BInA=s64",
      "userId": "10589367849843705173"
     },
     "user_tz": 480
    },
    "id": "iKZKhnLUtlL6",
    "outputId": "b8eb2296-eaf2-4505-8834-029a156da7ed"
   },
   "outputs": [
    {
     "name": "stdout",
     "output_type": "stream",
     "text": [
      "Mol3: C(=CF)F C(=C/F)\\F\n",
      "Mol4: C(=CF)F C(=C\\F)\\F\n"
     ]
    },
    {
     "data": {
      "text/plain": [
       "True"
      ]
     },
     "execution_count": 8,
     "metadata": {},
     "output_type": "execute_result"
    }
   ],
   "source": [
    "#Here, we look at cis- vs trans-difluoroethene\n",
    "mol3 = OEMol()\n",
    "OEParseSmiles( mol3, 'F/C=C/F')\n",
    "mol4 = OEMol()\n",
    "OEParseSmiles( mol4, 'F/C=C\\F')\n",
    "print(\"Mol3:\", OECreateCanSmiString(mol3), OECreateIsoSmiString(mol3))\n",
    "print(\"Mol4:\", OECreateCanSmiString(mol4), OECreateIsoSmiString(mol4))\n",
    "OEPrepareDepiction(mol3)\n",
    "OERenderMolecule('test3.png', mol3)\n",
    "OEPrepareDepiction(mol4)\n",
    "OERenderMolecule('test4.png', mol4)"
   ]
  },
  {
   "cell_type": "code",
   "execution_count": 9,
   "metadata": {
    "colab": {
     "base_uri": "https://localhost:8080/",
     "height": 173
    },
    "executionInfo": {
     "elapsed": 150,
     "status": "ok",
     "timestamp": 1639683750639,
     "user": {
      "displayName": "Danielle Bergazin",
      "photoUrl": "https://lh3.googleusercontent.com/a-/AOh14GiOdJdx7etc0W4Yfmh-4-g-P0aJMsIonVchL0BInA=s64",
      "userId": "10589367849843705173"
     },
     "user_tz": 480
    },
    "id": "jqxKHrMTw1PY",
    "outputId": "41adfa37-f6d0-408e-bd2c-738dc7db19c2"
   },
   "outputs": [
    {
     "data": {
      "image/png": "[encoded data removed]",
      "text/plain": [
       "<IPython.core.display.Image object>"
      ]
     },
     "execution_count": 9,
     "metadata": {
      "image/png": {
       "width": 150
      }
     },
     "output_type": "execute_result"
    }
   ],
   "source": [
    "Image('test3.png', width = 150) "
   ]
  },
  {
   "cell_type": "code",
   "execution_count": 9,
   "metadata": {
    "colab": {
     "base_uri": "https://localhost:8080/",
     "height": 95
    },
    "executionInfo": {
     "elapsed": 210,
     "status": "ok",
     "timestamp": 1639683754852,
     "user": {
      "displayName": "Danielle Bergazin",
      "photoUrl": "https://lh3.googleusercontent.com/a-/AOh14GiOdJdx7etc0W4Yfmh-4-g-P0aJMsIonVchL0BInA=s64",
      "userId": "10589367849843705173"
     },
     "user_tz": 480
    },
    "id": "v0vfVeHtw4XI",
    "outputId": "c84e985f-82f8-46b1-c05f-b164c681dc01"
   },
   "outputs": [
    {
     "data": {
      "image/png": "[encoded data removed]",
      "text/plain": [
       "<IPython.core.display.Image object>"
      ]
     },
     "execution_count": 9,
     "metadata": {
      "image/png": {
       "width": 150
      }
     },
     "output_type": "execute_result"
    }
   ],
   "source": [
    "Image('test4.png', width = 150) "
   ]
  },
  {
   "cell_type": "markdown",
   "metadata": {
    "collapsed": true,
    "id": "GZHMcZiqtlL7"
   },
   "source": [
    "# Lingo comparisons are a great tool for searching databases quickly\n",
    "Here let's look at a very simple/quick Lingo comparison:"
   ]
  },
  {
   "cell_type": "code",
   "execution_count": 10,
   "metadata": {
    "colab": {
     "base_uri": "https://localhost:8080/"
    },
    "executionInfo": {
     "elapsed": 147,
     "status": "ok",
     "timestamp": 1639683758139,
     "user": {
      "displayName": "Danielle Bergazin",
      "photoUrl": "https://lh3.googleusercontent.com/a-/AOh14GiOdJdx7etc0W4Yfmh-4-g-P0aJMsIonVchL0BInA=s64",
      "userId": "10589367849843705173"
     },
     "user_tz": 480
    },
    "id": "12wtfiWDtlL7",
    "outputId": "cd3f9dad-84e7-4942-a358-7f86140322c0"
   },
   "outputs": [
    {
     "name": "stdout",
     "output_type": "stream",
     "text": [
      "0.02222222276031971\n"
     ]
    }
   ],
   "source": [
    "#Initialize two OE molecules\n",
    "mol1 = OEMol()\n",
    "mol2 = OEMol()\n",
    "\n",
    "#Load compounds by their names\n",
    "OEParseIUPACName(mol1, 'ibuprofen')\n",
    "OEParseIUPACName(mol2, 'caffeine')\n",
    "\n",
    "#Initialize a lingo search object with molecule 1 as the query\n",
    "lingo = OELingoSim(mol1)\n",
    "\n",
    "#Apply lingo to calculat the similarity (0 to 1 range) of molecule 2\n",
    "sim = lingo.Similarity(mol2)\n",
    "#Print result\n",
    "print(sim)"
   ]
  },
  {
   "cell_type": "markdown",
   "metadata": {
    "id": "N2pZoJ5FtlL8"
   },
   "source": [
    "## Next, let's see use this to search a \"mini-database\" of compounds.\n",
    "Here we'll just make up a query molecule and a list of molecules we want to compare it to, and find the most similar compounds (those meeting some similarity threshold)."
   ]
  },
  {
   "cell_type": "code",
   "execution_count": 11,
   "metadata": {
    "colab": {
     "base_uri": "https://localhost:8080/"
    },
    "executionInfo": {
     "elapsed": 149,
     "status": "ok",
     "timestamp": 1639683760904,
     "user": {
      "displayName": "Danielle Bergazin",
      "photoUrl": "https://lh3.googleusercontent.com/a-/AOh14GiOdJdx7etc0W4Yfmh-4-g-P0aJMsIonVchL0BInA=s64",
      "userId": "10589367849843705173"
     },
     "user_tz": 480
    },
    "id": "4vqa4rQStlL8",
    "outputId": "a55c5ab9-42d8-410e-c42d-9d0ad64f63b6"
   },
   "outputs": [
    {
     "name": "stdout",
     "output_type": "stream",
     "text": [
      "Similarity of benzoic acid to tylenol is 0.47\n",
      "Similarity of benzoic acid to phenol is 0.50\n",
      "Similarity of benzoic acid to ibuprofen is 0.57\n",
      "Similarity of benzoic acid to biphenyl is 0.33\n"
     ]
    }
   ],
   "source": [
    "#Initialize our query molecule\n",
    "mol1 = OEMol()\n",
    "queryname = 'benzoic acid'\n",
    "#queryname = 'dopamine'\n",
    "OEParseIUPACName(mol1, queryname)\n",
    "\n",
    "#Set up our lingo search based on the query\n",
    "lingo = OELingoSim(mol1)\n",
    "\n",
    "#Specify a cutoff we'll use for filtering\n",
    "cutoff = 0.3\n",
    "\n",
    "#Specify our database - what compounds do we want to look at?\n",
    "names = ['tylenol', 'phenol', 'toluene', 'benzene', 'naphthalene', 'ibuprofen', 'naproxen', 'acetic acid', 'aniline', 'biphenyl']\n",
    "\n",
    "# Optionally add some from SMILES\n",
    "#smiles = ['c1ccccc1OCCNO']\n",
    "#addlnames = []\n",
    "#mol = OEMol()\n",
    "#for smi in smiles:\n",
    "#    OEParseSmiles(mol, smi)\n",
    "#    addlnames.append( OECreateIUPACName(mol))\n",
    "#names += addlnames\n",
    "\n",
    "#Loop over our \"database\" and do our lingo comparison/search\n",
    "for name in names:\n",
    "    #Initialize this molecule\n",
    "    mol2 = OEMol()\n",
    "    OEParseIUPACName(mol2, name)\n",
    "    #Do our lingo comparison\n",
    "    sim = lingo.Similarity(mol2)\n",
    "    \n",
    "    #Check and see if it is a match; if so, do something\n",
    "    if sim > cutoff:\n",
    "        print(\"Similarity of %s to %s is %.2f\" % (queryname, name, sim))\n",
    "        #More generally, you could dump image files of all molecules matching, or write them out to a file, or..."
   ]
  },
  {
   "cell_type": "code",
   "execution_count": null,
   "metadata": {},
   "outputs": [],
   "source": [
    "#OERenderMolecule('test3.png', mol3)\n",
    "#OEPrepareDepiction(mol4)\n",
    "#OERenderMolecule('test4.png', mol4)"
   ]
  },
  {
   "cell_type": "markdown",
   "metadata": {},
   "source": [
    "## Let's load a group of molecules from ZINC and check them for similarity\n",
    "\n",
    "I've already included a set of molecules here, \"CAAA.smi\", downloaded from ZINC. Let's check them for similarity.\n",
    "\n",
    "(You may have to do appropriate bookkeeping to ensure this file is in the directory you're working in.)\n",
    "\n",
    "We'll just repurpose the same strategy from above and print out those with similarity above some cutoff."
   ]
  },
  {
   "cell_type": "code",
   "execution_count": 13,
   "metadata": {},
   "outputs": [
    {
     "name": "stdout",
     "output_type": "stream",
     "text": [
      "Similarity of caffeine to 1075510 is 0.49\n",
      "Similarity of caffeine to 618254481 is 0.39\n",
      "Similarity of caffeine to 12505415 is 0.30\n",
      "Similarity of caffeine to 369431 is 0.70\n",
      "Similarity of caffeine to 12541508 is 0.68\n",
      "Similarity of caffeine to 33762 is 0.34\n",
      "Similarity of caffeine to 1867630 is 0.79\n",
      "Similarity of caffeine to 1646905 is 0.82\n",
      "Similarity of caffeine to 517161 is 0.64\n",
      "Similarity of caffeine to 26423221 is 0.40\n",
      "Similarity of caffeine to 534656009 is 0.40\n",
      "Similarity of caffeine to 6082801 is 0.68\n",
      "Similarity of caffeine to 71283781 is 0.30\n",
      "Similarity of caffeine to 40448 is 0.74\n",
      "Similarity of caffeine to 182570 is 0.74\n",
      "Similarity of caffeine to 517162 is 0.66\n",
      "Similarity of caffeine to 40477861 is 0.33\n",
      "Similarity of caffeine to 40498833 is 0.32\n",
      "Similarity of caffeine to 12232557 is 0.36\n",
      "Similarity of caffeine to 339454 is 0.34\n",
      "Similarity of caffeine to 518508 is 0.72\n",
      "Similarity of caffeine to 12598698 is 0.72\n",
      "Similarity of caffeine to 12232559 is 0.36\n",
      "Similarity of caffeine to 221 is 0.68\n",
      "Similarity of caffeine to 8401377 is 0.35\n",
      "Similarity of caffeine to 4783935 is 0.45\n",
      "Similarity of caffeine to 68031 is 0.68\n"
     ]
    },
    {
     "name": "stderr",
     "output_type": "stream",
     "text": [
      "Warning: Problem parsing SMILES:\n",
      "Warning: smiles zinc_id\n",
      "Warning:  ^\n",
      "\n",
      "Warning: Error reading molecule \"\" in Canonical stereo SMILES format.\n"
     ]
    }
   ],
   "source": [
    "# Get file for reading, initiate empty oemol to read to\n",
    "ifile = oemolistream('CAAA.smi')\n",
    "mol = OEMol()\n",
    "\n",
    "# Take a molecule to use as query\n",
    "querymol = OEMol()\n",
    "queryname = 'caffeine'\n",
    "OEParseIUPACName(querymol, queryname)\n",
    "\n",
    "#Set up our lingo search based on the query\n",
    "lingo = OELingoSim(querymol)\n",
    "\n",
    "#Specify a cutoff we'll use for filtering\n",
    "cutoff = 0.3\n",
    "\n",
    "# Loop over all the molecules in the file, reading them.\n",
    "# This file is currently formatted in a way OEChem automatically understands, with the first entry being a \n",
    "# SMILES and the second entry being a (in this case numerical) title.\n",
    "# You will encounter a warning because the first line has headers, which OEChem does not expect.\n",
    "while OEReadMolecule(ifile, mol):\n",
    "\n",
    "    sim = lingo.Similarity(mol)\n",
    "    #print(mol.NumAtoms())\n",
    "    if sim > cutoff:\n",
    "        print(\"Similarity of %s to %s is %.2f\" % (queryname, mol.GetTitle(), sim))\n",
    "    #print(mol.GetTitle(), sim)\n",
    "ifile.close()"
   ]
  },
  {
   "cell_type": "markdown",
   "metadata": {},
   "source": [
    "## Add saving/depiction of similar molecules, generate a sorted list\n",
    "\n",
    "**As an exercise**, store and/or depict those molecules which are similar to your reference molecule.\n",
    "\n",
    "You may also wish to consider generating a sorted list of molecules which are similar to your reference molecule, from most similar to least similar.\n",
    "\n",
    "(One usage note: The code above reads all molecules into the same OEMol object, `mol`, overwriting one another. If you wish to save molecules, you will want to generate a new OEMol of those you want to save and store it into a data structure, e.g. via `newmol = OEMol(mol)` and then saving newmol somewhere.)"
   ]
  },
  {
   "cell_type": "code",
   "execution_count": null,
   "metadata": {},
   "outputs": [],
   "source": []
  }
 ],
 "metadata": {
  "anaconda-cloud": {},
  "colab": {
   "collapsed_sections": [],
   "name": "Library_searching_and_lingo_sandbox.ipynb",
   "provenance": []
  },
  "kernelspec": {
   "display_name": "drugcomp",
   "language": "python",
   "name": "drugcomp"
  },
  "language_info": {
   "codemirror_mode": {
    "name": "ipython",
    "version": 3
   },
   "file_extension": ".py",
   "mimetype": "text/x-python",
   "name": "python",
   "nbconvert_exporter": "python",
   "pygments_lexer": "ipython3",
   "version": "3.8.12"
  },
  "toc": {
   "nav_menu": {},
   "number_sections": true,
   "sideBar": true,
   "skip_h1_title": false,
   "toc_cell": false,
   "toc_position": {},
   "toc_section_display": "block",
   "toc_window_display": false
  }
 },
 "nbformat": 4,
 "nbformat_minor": 1
}
