{
 "cells": [
  {
   "cell_type": "markdown",
   "metadata": {
    "id": "ZPT9MLn-miYj"
   },
   "source": [
    "# Monte Carlo methods - A Sandbox/Demo\n",
    "\n",
    "Monte Carlo broadly refers to random sampling methods. Here we will focus mainly on Monte Carlo sampling in the context of molecular simulations, but it's worth briefly considering an example of Monte Carlo integration. Particularly, we can use Monte Carlo integration to calculate $\\pi$ with just a few lines of code.\n",
    "\n",
    "## Preparation \n",
    "\n",
    "To use this notebook you will either need to run it locally using Jupyter (with a fortran library you pre-compile) or on Google Colab. This notebook briefly explains either route, though if you are going the local route you may need to compile the library before installing some of the other course materials, or do so in a clean/new conda environment. Some users have reported that conda installing `openforcefield`, `openmm` and the openeye toolkits after installing `gfortran` results in the loss of the ability to compile fortran libraries for use in Python.\n",
    "\n",
    "\n",
    "### Preparation for Google Colab (NOT FOR LOCAL USE)\n",
    "\n",
    "[![Open in Colab](https://colab.research.google.com/assets/colab-badge.svg)](https://colab.research.google.com/github/MobleyLab/drug-computing/blob/master/uci-pharmsci/lectures/MC/MC_Sandbox.ipynb)\n",
    "\n",
    "For Google Colab, pip installation of software is faster, but we've only been able to get `gfortran` working via a conda installation, so we'll need to go that route. Begin by unsetting the PYTHONPATH to prevent issues with miniconda, then installing miniconda (which will take perhaps 20 seconds to a couple of minutes):"
   ]
  },
  {
   "cell_type": "code",
   "execution_count": null,
   "metadata": {},
   "outputs": [],
   "source": [
    "%env PYTHONPATH=\n",
    "! wget https://repo.anaconda.com/miniconda/Miniconda3-py37_4.10.3-Linux-x86_64.sh\n",
    "! chmod +x Miniconda3-py37_4.10.3-Linux-x86_64.sh\n",
    "! bash ./Miniconda3-py37_4.10.3-Linux-x86_64.sh -b -f -p /usr/local\n",
    "import sys\n",
    "sys.path.append('/usr/local/lib/python3.7/site-packages/')"
   ]
  },
  {
   "cell_type": "markdown",
   "metadata": {},
   "source": [
    "Once that is done, install `gfortran`, which will take roughly a similar amount of time:"
   ]
  },
  {
   "cell_type": "code",
   "execution_count": null,
   "metadata": {},
   "outputs": [],
   "source": [
    "!conda install -c conda-forge libgfortran --yes"
   ]
  },
  {
   "cell_type": "markdown",
   "metadata": {},
   "source": [
    "Next, mount your Google Drive and ensure you have the mc_sandbox.f90 file available **at a path you define below**:"
   ]
  },
  {
   "cell_type": "code",
   "execution_count": null,
   "metadata": {},
   "outputs": [],
   "source": [
    "from google.colab import drive\n",
    "drive.mount('/content/drive',force_remount = True)\n",
    "\n",
    "#EDIT THIS TO DEFINE WHERE YOU PUT THE FILE:\n",
    "md_library_path = '/content/drive/MyDrive/drug-computing/uci-pharmsci/lectures/MC/'\n",
    "\n",
    "# Then run:\n",
    "%cd $md_library_path"
   ]
  },
  {
   "cell_type": "markdown",
   "metadata": {},
   "source": [
    "Then compile the requisite library:"
   ]
  },
  {
   "cell_type": "code",
   "execution_count": 1,
   "metadata": {},
   "outputs": [
    {
     "name": "stdout",
     "output_type": "stream",
     "text": [
      "running build\n",
      "running config_cc\n",
      "running config_fc\n",
      "running build_src\n",
      "creating /var/folders/cq/9m71_bk509l55nczqkqxpy3c0000gn/T/tmpgilfwutm/src.macosx-10.9-x86_64-3.9\n",
      "Reading fortran codes...\n",
      "\tReading file 'mc_sandbox.f90' (format:free)\n",
      "Post-processing...\n",
      "\tBlock: mc_sandbox\n",
      "\t\t\tBlock: calcenergy\n",
      "Post-processing (stage 2)...\n",
      "Building modules...\n",
      "    Building module \"mc_sandbox\"...\n",
      "        Constructing wrapper function \"calcenergy\"...\n",
      "          penergy = calcenergy(pos,l,rc,[dim,natom])\n",
      "    Wrote C/API module \"mc_sandbox\" to file \"/var/folders/cq/9m71_bk509l55nczqkqxpy3c0000gn/T/tmpgilfwutm/src.macosx-10.9-x86_64-3.9/mc_sandboxmodule.c\"\n",
      "copying /opt/anaconda3/envs/drug_comp/lib/python3.9/site-packages/numpy/f2py/src/fortranobject.c -> /var/folders/cq/9m71_bk509l55nczqkqxpy3c0000gn/T/tmpgilfwutm/src.macosx-10.9-x86_64-3.9\n",
      "copying /opt/anaconda3/envs/drug_comp/lib/python3.9/site-packages/numpy/f2py/src/fortranobject.h -> /var/folders/cq/9m71_bk509l55nczqkqxpy3c0000gn/T/tmpgilfwutm/src.macosx-10.9-x86_64-3.9\n",
      "/opt/anaconda3/envs/drug_comp/lib/python3.9/site-packages/setuptools/command/install.py:34: SetuptoolsDeprecationWarning: setup.py install is deprecated. Use build and pip and other standards-based tools.\n",
      "  warnings.warn(\n",
      "running build_ext\n",
      "creating /var/folders/cq/9m71_bk509l55nczqkqxpy3c0000gn/T/tmpgilfwutm/var\n",
      "creating /var/folders/cq/9m71_bk509l55nczqkqxpy3c0000gn/T/tmpgilfwutm/var/folders\n",
      "creating /var/folders/cq/9m71_bk509l55nczqkqxpy3c0000gn/T/tmpgilfwutm/var/folders/cq\n",
      "creating /var/folders/cq/9m71_bk509l55nczqkqxpy3c0000gn/T/tmpgilfwutm/var/folders/cq/9m71_bk509l55nczqkqxpy3c0000gn\n",
      "creating /var/folders/cq/9m71_bk509l55nczqkqxpy3c0000gn/T/tmpgilfwutm/var/folders/cq/9m71_bk509l55nczqkqxpy3c0000gn/T\n",
      "creating /var/folders/cq/9m71_bk509l55nczqkqxpy3c0000gn/T/tmpgilfwutm/var/folders/cq/9m71_bk509l55nczqkqxpy3c0000gn/T/tmpgilfwutm\n",
      "creating /var/folders/cq/9m71_bk509l55nczqkqxpy3c0000gn/T/tmpgilfwutm/var/folders/cq/9m71_bk509l55nczqkqxpy3c0000gn/T/tmpgilfwutm/src.macosx-10.9-x86_64-3.9\n",
      "In file included from /var/folders/cq/9m71_bk509l55nczqkqxpy3c0000gn/T/tmpgilfwutm/src.macosx-10.9-x86_64-3.9/mc_sandboxmodule.c:20:\n",
      "In file included from /var/folders/cq/9m71_bk509l55nczqkqxpy3c0000gn/T/tmpgilfwutm/src.macosx-10.9-x86_64-3.9/fortranobject.h:13:\n",
      "In file included from /opt/anaconda3/envs/drug_comp/lib/python3.9/site-packages/numpy/core/include/numpy/arrayobject.h:5:\n",
      "In file included from /opt/anaconda3/envs/drug_comp/lib/python3.9/site-packages/numpy/core/include/numpy/ndarrayobject.h:12:\n",
      "In file included from /opt/anaconda3/envs/drug_comp/lib/python3.9/site-packages/numpy/core/include/numpy/ndarraytypes.h:1960:\n",
      "\u001b[1m/opt/anaconda3/envs/drug_comp/lib/python3.9/site-packages/numpy/core/include/numpy/npy_1_7_deprecated_api.h:17:2: \u001b[0mIn file included from /var/folders/cq/9m71_bk509l55nczqkqxpy3c0000gn/T/tmpgilfwutm/src.macosx-10.9-x86_64-3.9/fortranobject.c:2:\n",
      "In file included from /var/folders/cq/9m71_bk509l55nczqkqxpy3c0000gn/T/tmpgilfwutm/src.macosx-10.9-x86_64-3.9/fortranobject.h:13:\n",
      "In file included from /opt/anaconda3/envs/drug_comp/lib/python3.9/site-packages/numpy/core/include/numpy/arrayobject.h:5:\n",
      "In file included from /opt/anaconda3/envs/drug_comp/lib/python3.9/site-packages/numpy/core/include/numpy/ndarrayobject.h:12:\n",
      "In file included from /opt/anaconda3/envs/drug_comp/lib/python3.9/site-packages/numpy/core/include/numpy/ndarraytypes.h:1960:\n",
      "\u001b[1m/opt/anaconda3/envs/drug_comp/lib/python3.9/site-packages/numpy/core/include/numpy/npy_1_7_deprecated_api.h:17:2: \u001b[0m\u001b[0;1;35mwarning: \u001b[0;1;35m\u001b[0mwarning\u001b[1m: \"Using deprecated NumPy API, disable it with \"          \"#define NPY_NO_DEPRECATED_API NPY_1_7_API_VERSION\" [-W#warnings]\u001b[0m\u001b[0m\u001b[1m\n",
      "\"Using deprecated NumPy API, disable it with \"          \"#define NPY_NO_DEPRECATED_API NPY_1_7_API_VERSION\" [-W#warnings]\u001b[0m\n",
      "#warning \"Using deprecated NumPy API, disable it with \" \\\n",
      "\u001b[0;1;32m ^\n",
      "\u001b[0m#warning \"Using deprecated NumPy API, disable it with \" \\\n",
      "\u001b[0;1;32m ^\n",
      "\u001b[0m\u001b[1m/var/folders/cq/9m71_bk509l55nczqkqxpy3c0000gn/T/tmpgilfwutm/src.macosx-10.9-x86_64-3.9/mc_sandboxmodule.c:113:12: \u001b[0m\u001b[0;1;35mwarning: \u001b[0m\u001b[1munused function 'f2py_size' [-Wunused-function]\u001b[0m\n",
      "static int f2py_size(PyArrayObject* var, ...)\n",
      "\u001b[0;1;32m           ^\n",
      "\u001b[0m2 warnings generated.\n",
      "1 warning generated.\n",
      "\u001b[01m\u001b[Kmc_sandbox.f90:10:28:\u001b[m\u001b[K\n",
      "\n",
      "   10 |     real(8) :: d2, sep, disp, shiftval, rc2, id6, id2, id12\n",
      "      |                            \u001b[01;35m\u001b[K1\u001b[m\u001b[K\n",
      "\u001b[01;35m\u001b[KWarning:\u001b[m\u001b[K Unused variable '\u001b[01m\u001b[Kdisp\u001b[m\u001b[K' declared at \u001b[01;35m\u001b[K(1)\u001b[m\u001b[K [\u001b[01;35m\u001b[K\u001b]8;;https://gcc.gnu.org/onlinedocs/gcc/Warning-Options.html#index-Wunused-variable\u0007-Wunused-variable\u001b]8;;\u0007\u001b[m\u001b[K]\n",
      "\u001b[01m\u001b[Kmc_sandbox.f90:10:22:\u001b[m\u001b[K\n",
      "\n",
      "   10 |     real(8) :: d2, sep, disp, shiftval, rc2, id6, id2, id12\n",
      "      |                      \u001b[01;35m\u001b[K1\u001b[m\u001b[K\n",
      "\u001b[01;35m\u001b[KWarning:\u001b[m\u001b[K Unused variable '\u001b[01m\u001b[Ksep\u001b[m\u001b[K' declared at \u001b[01;35m\u001b[K(1)\u001b[m\u001b[K [\u001b[01;35m\u001b[K\u001b]8;;https://gcc.gnu.org/onlinedocs/gcc/Warning-Options.html#index-Wunused-variable\u0007-Wunused-variable\u001b]8;;\u0007\u001b[m\u001b[K]\n",
      "ld: warning: dylib (/usr/local/lib/libgfortran.dylib) was built for newer macOS version (11.0) than being linked (10.9)\n",
      "ld: warning: dylib (/usr/local/lib/libquadmath.dylib) was built for newer macOS version (11.0) than being linked (10.9)\n",
      "Removing build directory /var/folders/cq/9m71_bk509l55nczqkqxpy3c0000gn/T/tmpgilfwutm\n"
     ]
    }
   ],
   "source": [
    "!f2py3 -c -m mc_sandbox mc_sandbox.f90"
   ]
  },
  {
   "cell_type": "markdown",
   "metadata": {},
   "source": [
    "### Preparation for local use\n",
    "\n",
    "For local use, you need to compile the fortran module `mc_sandbox` for use as a Python library. This accelerates the numerical calculations and a similar framework will be used in the MD and MC assignments. Use `f2py3 -c -m mc_sandbox mc_sandbox.f90` to compile. (As noted above you may need to do this in advance of installing certain modules, such as the beginning of the course, or by making a clean conda environment.)"
   ]
  },
  {
   "cell_type": "markdown",
   "metadata": {},
   "source": [
    "## Calculating $\\pi$ via MC integration\n",
    "\n",
    "So, let's calculate $\\pi$ by doing MC integration. Particularly, let's consider a drawing random numbers between -1 and 1, and then imagine a circle centered at (0, 0). Consider the area of that circle (of radius 1) to that of the full square spanned by our random numbers (2 units wide). Particularly, if $R$ is the radius of the circle, then the ratio of the areas is:\n",
    "\\begin{equation}\n",
    "\\frac{A_{sq}}{A_{cir}} = \\frac{(2R)^2}{\\pi R^2} = \\frac{4}{\\pi} \n",
    "\\end{equation}\n",
    "\n",
    "so we find\n",
    "\\begin{equation}\n",
    "\\pi = \\frac{4 A_{cir}}{A_{sq}}\n",
    "\\end{equation}\n",
    "\n",
    "So, if we randomly place points in an interval -1 to 1, and then check to see how many fall within a square versus within a circle, we can use the ratio of counts (related to the ratio of the areas) to determine $\\pi$."
   ]
  },
  {
   "cell_type": "code",
   "execution_count": 2,
   "metadata": {
    "colab": {
     "base_uri": "https://localhost:8080/"
    },
    "executionInfo": {
     "elapsed": 7,
     "status": "ok",
     "timestamp": 1639776429313,
     "user": {
      "displayName": "Danielle Bergazin",
      "photoUrl": "https://lh3.googleusercontent.com/a-/AOh14GiOdJdx7etc0W4Yfmh-4-g-P0aJMsIonVchL0BInA=s64",
      "userId": "10589367849843705173"
     },
     "user_tz": 480
    },
    "id": "TvQqTVkKmiYo",
    "outputId": "70fa4076-a910-4aef-d77e-942ae3147f7f"
   },
   "outputs": [
    {
     "name": "stdout",
     "output_type": "stream",
     "text": [
      "3.132\n"
     ]
    }
   ],
   "source": [
    "#Import modules we need\n",
    "import numpy\n",
    "import numpy.random\n",
    "\n",
    "#Number of data points to sample\n",
    "Ntrials = 1000\n",
    "\n",
    "#Randomly generate array of XY positions - spanning -1 to 1\n",
    "XY = 2.*numpy.random.rand( Ntrials, 2)-1.\n",
    "\n",
    "#Compute distance from each point to center of the circle\n",
    "distances = numpy.sqrt( numpy.sum( XY*XY, axis=1))\n",
    "\n",
    "#Find indices of data points which are within the unit circle\n",
    "#Note that you could code this in a more straightforward - but slower - way by setting up a \n",
    "#'for' loop over data points and checking to see where the distance is less than 1.\n",
    "indices_inside = numpy.where( distances < 1)\n",
    "\n",
    "#Find how many points are here\n",
    "num_inside = len( indices_inside[0] )\n",
    "\n",
    "#Calculate estimate of pi\n",
    "pi_estimate = 4.*num_inside/float(Ntrials)\n",
    "print(pi_estimate)"
   ]
  },
  {
   "cell_type": "markdown",
   "metadata": {
    "id": "QZHJjEKrmiYr"
   },
   "source": [
    "### Let's take a look at what we've done here, graphically. \n",
    "We can plot the points inside and outside in two different colors to see."
   ]
  },
  {
   "cell_type": "code",
   "execution_count": 3,
   "metadata": {
    "colab": {
     "base_uri": "https://localhost:8080/",
     "height": 337
    },
    "executionInfo": {
     "elapsed": 578,
     "status": "ok",
     "timestamp": 1639776429887,
     "user": {
      "displayName": "Danielle Bergazin",
      "photoUrl": "https://lh3.googleusercontent.com/a-/AOh14GiOdJdx7etc0W4Yfmh-4-g-P0aJMsIonVchL0BInA=s64",
      "userId": "10589367849843705173"
     },
     "user_tz": 480
    },
    "id": "Z0P4hbs7miYs",
    "outputId": "bb92522a-7b7b-4d60-d47d-1ba5afa8db26"
   },
   "outputs": [
    {
     "name": "stdout",
     "output_type": "stream",
     "text": [
      "Populating the interactive namespace from numpy and matplotlib\n"
     ]
    },
    {
     "data": {
      "image/png": "[encoded data removed]",
      "text/plain": [
       "<Figure size 360x360 with 1 Axes>"
      ]
     },
     "metadata": {
      "needs_background": "light"
     },
     "output_type": "display_data"
    }
   ],
   "source": [
    "%pylab inline\n",
    "\n",
    "#After the code above, indices_inside has the numbers of points which are inside our unit circle.\n",
    "#We would also like indices of points which are outside the unit circle\n",
    "indices_outside = numpy.where( distances > 1)\n",
    "\n",
    "#Make our plot of points inside and outside using circles for the data points\n",
    "#blue for inside, red for outside\n",
    "plot(XY[indices_inside[0],0], XY[indices_inside[0],1], 'bo')\n",
    "plot(XY[indices_outside[0],0], XY[indices_outside[0],1], 'ro')\n",
    "\n",
    "#Adjust plot settings to look nicer\n",
    "axis('equal') #Set to have equal axes\n",
    "F = pylab.gcf() #Get handle of current figure\n",
    "F.set_size_inches(5,5) #Set size to be square (default view is rectangular)\n",
    "\n",
    "#Bonus: Drawing a unit circle on the graph is up to you"
   ]
  },
  {
   "cell_type": "markdown",
   "metadata": {
    "id": "YdOgP7QMmiYt"
   },
   "source": [
    "# Let's revisit the LJ particles we saw in the MD sandbox\n",
    "\n",
    "In our last sandbox, we looked at molecular dynamics on a pair of Lennard-Jones particles. Now let's revisit that, but within the Metropolis Monte Carlo framework. Optionally, you could make things a little more interesting here by considering an extra particle. But for now let's just start with the same two particles as last time to make visualization easy.. \n",
    "\n",
    "Here, we'll apply the Metropolis MC framework as discussed in lecture, where every step we:\n",
    "* Randomly pick a particle\n",
    "* Change each of x, y, and z a small amount between $-\\Delta r_{max}$ and $\\Delta r_{max}$\n",
    "* Compute the energy change $\\Delta U$\n",
    "* Apply the Metropolis criterion to decide whether to accept the move or reject it\n",
    "  * If $\\Delta U < 0$, accept the move\n",
    "  * If $\\Delta U > 0$, accept with the probability $P_{acc} = e^{-\\Delta U/T}$\n",
    "* If accepted, keep the new configuration\n",
    "* Regardless of whether we accept it or not, update any running averages with the current state and energy\n",
    "\n",
    "\n",
    "## Let's run some MC \n",
    "\n",
    "(As noted above, you will need to have compiled the `mc_sandbox` Fortran library before doing this, using either the appropriate technique for local work or for on Colab.)"
   ]
  },
  {
   "cell_type": "markdown",
   "metadata": {
    "id": "bK6b5opJmiYv"
   },
   "source": [
    "### First, we set up our system:"
   ]
  },
  {
   "cell_type": "code",
   "execution_count": 4,
   "metadata": {
    "colab": {
     "base_uri": "https://localhost:8080/",
     "height": 374
    },
    "executionInfo": {
     "elapsed": 159,
     "status": "error",
     "timestamp": 1639776596911,
     "user": {
      "displayName": "Danielle Bergazin",
      "photoUrl": "https://lh3.googleusercontent.com/a-/AOh14GiOdJdx7etc0W4Yfmh-4-g-P0aJMsIonVchL0BInA=s64",
      "userId": "10589367849843705173"
     },
     "user_tz": 480
    },
    "id": "IdGleQdrmiYw",
    "outputId": "19b15bad-7aed-4d3c-88be-da5ca10d1ba8"
   },
   "outputs": [],
   "source": [
    "import mc_sandbox\n",
    "import numpy as np\n",
    "import numpy.random\n",
    "\n",
    "#Let's define the variables we'll need\n",
    "Cut = 2.5\n",
    "L = 3.0 #Let's put these in a small box so they don't lose each other\n",
    "max_displacement = 0.1 #Maximum move size\n",
    "T = 1. #You should play with this and see how the results change. Don't make it an integer - use a floating point value (i.e. 1., not 1)\n",
    "\n",
    "#Choose N for number of particles; you could adjust this later.\n",
    "N = 2\n",
    "\n",
    "#Allocate position array - initially just zeros\n",
    "Pos = np.zeros((N,3), float)\n",
    "\n",
    "#Let's place the first two particles just as we did in MD Sandbox:\n",
    "Pos[0,:] = np.array([0,0,0])\n",
    "#We'll place the second one fairly nearby - at this point using the same starting location\n",
    "#as in the MD sandbox\n",
    "Pos[1,:] = np.array([1.5,0,0])\n",
    "\n",
    "#If you have any other particles, let's just place them randomly\n",
    "for i in range(2,N):\n",
    "    Pos[i,:] = L*np.random.random( 3 )"
   ]
  },
  {
   "cell_type": "markdown",
   "metadata": {
    "id": "yOgdjWqemiYw"
   },
   "source": [
    "### Now let's run a step of MC!"
   ]
  },
  {
   "cell_type": "code",
   "execution_count": 5,
   "metadata": {
    "colab": {
     "base_uri": "https://localhost:8080/",
     "height": 236
    },
    "executionInfo": {
     "elapsed": 166,
     "status": "error",
     "timestamp": 1638842369632,
     "user": {
      "displayName": "Danielle Bergazin",
      "photoUrl": "https://lh3.googleusercontent.com/a-/AOh14GiOdJdx7etc0W4Yfmh-4-g-P0aJMsIonVchL0BInA=s64",
      "userId": "10589367849843705173"
     },
     "user_tz": 480
    },
    "id": "p2ZowFCemiYx",
    "outputId": "baedbc52-df5e-448f-e9cc-a6829e701a41"
   },
   "outputs": [
    {
     "name": "stdout",
     "output_type": "stream",
     "text": [
      "U, Unew, DeltaU:  -0.3366534854145746 -0.36577928769710005 -0.029125802282525426\n",
      "Acceptance probability Pacc= 1.0295541065850924\n",
      "Accepted\n"
     ]
    }
   ],
   "source": [
    "#Set maximum number of steps to run\n",
    "max_steps = 10000\n",
    "\n",
    "#Set up storage for position vs step\n",
    "Pos_t = np.zeros(( N,3,max_steps), float)\n",
    "#Store initial positions\n",
    "Pos_t[:,:,0] = Pos\n",
    "\n",
    "#Evaluate initial energy\n",
    "U = mc_sandbox.calcenergy(Pos, L, Cut)\n",
    "\n",
    "#Pick a random particle\n",
    "num = np.random.randint(N) #Random integer from 0 up to but not including N\n",
    "\n",
    "#Store old position in case we need to revert\n",
    "#Note that it's necessary here to make a copy, otherwise both still point to the same \n",
    "#coordinates (try OldPos = Pos to see).\n",
    "OldPos = Pos.copy() \n",
    "\n",
    "#Pick a move - adjusting to make it between -DeltaX and +DeltaX\n",
    "move = max_displacement * (np.random.random( 3)*2.-1.)\n",
    "\n",
    "#Update position\n",
    "Pos[num, :] += move\n",
    "\n",
    "#Evaluate new energy\n",
    "Unew = mc_sandbox.calcenergy( Pos, L, Cut)\n",
    "DeltaU = Unew - U\n",
    "print(\"U, Unew, DeltaU: \", U, Unew, DeltaU) #Just for debugging purposes so we can see what's happening.\n",
    "\n",
    "#Print acceptance probability\n",
    "Pacc = np.exp(-DeltaU/T)\n",
    "print(\"Acceptance probability Pacc=\", Pacc) #Just for debugging purposes so we can see what's happening.\n",
    "\n",
    "#We can handle the uphill and downhill cases with a single 'if' statement\n",
    "if np.random.rand() < Pacc:\n",
    "    print(\"Accepted\")  #Just for debugging purposes so we can see what's happening.\n",
    "    U = Unew\n",
    "else: #Revert\n",
    "    Pos = OldPos\n",
    "    print(\"Rejected\") #Just for debugging purposes so we can see what's happening.\n",
    "\n",
    "\n",
    "#Remember, at the end, if we are tracking energy, we update running averages/tracking data \n",
    "#with the current position and energy\n",
    "Pos_t[:, :, 1] = Pos"
   ]
  },
  {
   "cell_type": "markdown",
   "metadata": {
    "id": "0uxuLuN5miYx"
   },
   "source": [
    "## Now let's again define that get_r function so we can look at the separation between our particles over time\n",
    "Last time, I was lazy and didn't handle the minimum image convention (in part because I knew we weren't giving the particles enough energy initially that they wouldn't fly apart). Here, because T (effectively, the kinetic energy) is an adjustable parameter we might end up with them flying apart, so we need to use the minimum image convention to properly measure the distance between particles. In other words, if a particle crosses the box edge and then finds the other particle and interacts with it, we want our distance measurement to notice that they are interacting rather than reporting that they are very distant. (The Fortran code we have is using this convention for its energy calculations).\n",
    "\n",
    "So, we define a new get_r function which handles this:"
   ]
  },
  {
   "cell_type": "code",
   "execution_count": 1,
   "metadata": {
    "id": "KN0hOwTumiYy"
   },
   "outputs": [],
   "source": [
    "def get_r(Pos, L):\n",
    "    \"\"\"Calculate r, the distance between particles, for a position array containing just two particles. Return it.\n",
    "    Unlike in MD sandbox, here we also implement the minimum image convention\"\"\"\n",
    "    \n",
    "    #Get displacement\n",
    "    disp = Pos[1,:] - Pos[0,:]\n",
    "    #Apply minimum image convention\n",
    "    disp = disp - L*np.round(disp/L) \n",
    "    #Calculate distance\n",
    "    d = np.sqrt( np.dot( disp, disp))\n",
    "    return d"
   ]
  },
  {
   "cell_type": "markdown",
   "metadata": {
    "id": "j7ux0OMcmiYy"
   },
   "source": [
    "## Now, write your own code - adapting the code from above for a single step - to run an MC simulation of your pair of LJ particles\n",
    "\n",
    "Because a little more code is required than for the MD assignment, I provide some comments guiding you through the steps you'll need to do. And I also provide code to generate a plot at the end.\n",
    "\n",
    "Be sure to track the acceptance probability over all suggested moves. (This could be used to adjust the size of the moves you suggest)."
   ]
  },
  {
   "cell_type": "code",
   "execution_count": null,
   "metadata": {
    "id": "92OBZmk8miYy"
   },
   "outputs": [],
   "source": [
    "# Put your code here\n"
   ]
  },
  {
   "cell_type": "code",
   "execution_count": null,
   "metadata": {
    "id": "v8bmWIH1miYz"
   },
   "outputs": [],
   "source": [
    "##GET READY TO PLOT\n",
    "#Find x axis (MC steps rather than time, as it was in the MD sandbox)\n",
    "t = np.arange(0,max_steps)\n",
    "#Find y axis (r values)\n",
    "r_vs_t = []\n",
    "for i in range(max_steps):\n",
    "    r=get_r(Pos_t[:,:,i], L)\n",
    "    r_vs_t.append(r)\n",
    "\n",
    "r_vs_t = np.array(r_vs_t)\n",
    "\n",
    "#Plot\n",
    "figure()\n",
    "plot(t, r_vs_t)"
   ]
  },
  {
   "cell_type": "markdown",
   "metadata": {
    "id": "cQGV07tEmiYz"
   },
   "source": [
    "## Other things to be sure to try\n",
    "* See what happens if you adjust the temperature. Particularly, check what happens in the limit of T becoming very small (approaching zero). Are uphill moves ever accepted? What does an MC search end up doing?\n",
    "* Try making the box size reasonably big and see what happens at a moderate temperature\n",
    "* Adjust the move size (`max_displacement`) to make the acceptance probability 30-50%. How big can you make it? \n",
    "\n",
    "## Other things to try if you have extra time\n",
    "* Check the probability distribution of separations and see how it varies with temperature. \n",
    "\n",
    "## Simulation best practices\n",
    "\n",
    "Scott Shell has some very useful [simulation best practices](https://sites.engineering.ucsb.edu/~shell/che210d/Simulation_best_practices.pdf) tips which can help with thinking through how to code up and conduct effective simulations. "
   ]
  }
 ],
 "metadata": {
  "anaconda-cloud": {},
  "colab": {
   "name": "MC Sandbox.ipynb",
   "provenance": []
  },
  "kernelspec": {
   "display_name": "Python [conda env:drug_comp] *",
   "language": "python",
   "name": "conda-env-drug_comp-py"
  },
  "language_info": {
   "codemirror_mode": {
    "name": "ipython",
    "version": 3
   },
   "file_extension": ".py",
   "mimetype": "text/x-python",
   "name": "python",
   "nbconvert_exporter": "python",
   "pygments_lexer": "ipython3",
   "version": "3.9.9"
  },
  "toc": {
   "nav_menu": {},
   "number_sections": true,
   "sideBar": true,
   "skip_h1_title": false,
   "toc_cell": false,
   "toc_position": {},
   "toc_section_display": "block",
   "toc_window_display": false
  }
 },
 "nbformat": 4,
 "nbformat_minor": 4
}
