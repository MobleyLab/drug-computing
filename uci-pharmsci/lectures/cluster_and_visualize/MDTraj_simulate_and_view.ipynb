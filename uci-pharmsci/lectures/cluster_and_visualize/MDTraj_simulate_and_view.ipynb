{
 "cells": [
  {
   "cell_type": "markdown",
   "metadata": {},
   "source": [
    "# MDTraj and OpenMM\n",
    "This example builds on the MDTraj \"Simulation with OpenMM\" example (https://mdtraj.org/1.8.0/examples/openmm.html) to set up a very simple simulation of a tryptophan zipper with the AMBER force fields in implicit solvent, run a few steps of dynamics, and visualize the result. "
   ]
  },
  {
   "cell_type": "code",
   "execution_count": 3,
   "metadata": {},
   "outputs": [],
   "source": [
    "import os\n",
    "import mdtraj\n",
    "import mdtraj.reporters\n",
    "from simtk import unit #Units is an extremely useful module that allows numbers to carry around assigned units\n",
    "import openmm as mm\n",
    "#from simtk.openmm import app\n",
    "from openmm import app"
   ]
  },
  {
   "cell_type": "code",
   "execution_count": 4,
   "metadata": {},
   "outputs": [
    {
     "name": "stdout",
     "output_type": "stream",
     "text": [
      "Done\n"
     ]
    }
   ],
   "source": [
    "#Load PDB NMR structure of mini-protein tryptophan zipper, AKA TRP-ZIP.\n",
    "pdb = mdtraj.load_pdb('http://www.rcsb.org/pdb/files/1LE1.pdb')\n",
    "\n",
    "#Convert PDB to openmm format\n",
    "topology = pdb.topology.to_openmm()\n",
    "#Assign AMBER force field parameters\n",
    "forcefield = app.ForceField('amber99sbildn.xml', 'amber99_obc.xml')\n",
    "\n",
    "#Set up an OpenMM System with non-periodic boundary conditions (simplest setup, not generally advisable)\n",
    "system = forcefield.createSystem(topology, nonbondedMethod=app.CutoffNonPeriodic)\n",
    "\n",
    "#We'll use Langevin dynamics to simulate/as the thermostat; 1.0/ps friction and 2.0 femtosecond timestep. Temperature 330K\n",
    "integrator = mm.LangevinIntegrator(330*unit.kelvin, 1.0/unit.picoseconds, 2.0*unit.femtoseconds)\n",
    "#Initialize simulation\n",
    "simulation = app.Simulation(topology, system, integrator)\n",
    "#Set starting coordinates\n",
    "simulation.context.setPositions(pdb.xyz[0])\n",
    "#Assign random starting velocities from correct distribution\n",
    "simulation.context.setVelocitiesToTemperature(330*unit.kelvin)\n",
    "\n",
    "#Set up storage of trajectories, storing snapshots every 10 frames to the HDF5 format\n",
    "reporter = mdtraj.reporters.HDF5Reporter('test.h5', 10)\n",
    "simulation.reporters.append(reporter)\n",
    "\n",
    "#Run 100 steps of dynamics (you can increase this number if you want)\n",
    "simulation.step(100)\n",
    "\n",
    "#Close \"reporter\" file storing trajectory info\n",
    "reporter.close()\n",
    "print(\"Done\")"
   ]
  },
  {
   "cell_type": "markdown",
   "metadata": {},
   "source": [
    "## Now use the NGLView widget/tool to embed visualization"
   ]
  },
  {
   "cell_type": "code",
   "execution_count": 5,
   "metadata": {},
   "outputs": [
    {
     "data": {
      "application/vnd.jupyter.widget-view+json": {
       "model_id": "ecc1988bd97a48c6a1467b8cbc55c354",
       "version_major": 2,
       "version_minor": 0
      },
      "text/plain": []
     },
     "metadata": {},
     "output_type": "display_data"
    },
    {
     "name": "stdout",
     "output_type": "stream",
     "text": [
      "<mdtraj.Trajectory with 10 frames, 220 atoms, 13 residues, and unitcells>\n"
     ]
    },
    {
     "data": {
      "application/vnd.jupyter.widget-view+json": {
       "model_id": "4e7ef9af33a344b7822061f959bf6dfe",
       "version_major": 2,
       "version_minor": 0
      },
      "text/plain": [
       "NGLWidget(max_frame=9)"
      ]
     },
     "metadata": {},
     "output_type": "display_data"
    }
   ],
   "source": [
    "from __future__ import print_function\n",
    "import nglview #Embedded viewer\n",
    "\n",
    "#Load test trajectory\n",
    "traj = mdtraj.load('test.h5')\n",
    "\n",
    "#Print info on what's in our trajectory\n",
    "print(traj)\n",
    "\n",
    "#Load MDTraj trajectory into view (it's also possible to visualize PDB's\n",
    "# and a variety of other formats)\n",
    "view = nglview.show_mdtraj(traj)\n",
    "\n",
    "#Add space filling representation (optional)\n",
    "view.add_representation('spacefill', selection='all' )\n",
    "\n",
    "#Other things you might want to try\n",
    "view.clear_representations()\n",
    "view.add_licorice('not hydrogen') #Try 'not hydrogen' or 'all' for example\n",
    "view.add_ribbon()\n",
    "\n",
    "\n",
    "\n",
    "#This view command needs to be LAST OF ALL or you will get a blank viewer\n",
    "view\n",
    "\n",
    "\n",
    "#VIEWER USAGE:\n",
    "# - Use your typical zoom command/gesture (i.e. pinch) to zoom in and out \n",
    "# - Click and drag to reorient\n",
    "# - Click on specific atoms/residues to find out details of what they are (and how they could be selected)"
   ]
  },
  {
   "cell_type": "markdown",
   "metadata": {
    "collapsed": true
   },
   "source": [
    "## Other viewer usage notes\n",
    "\n",
    "The nglview viewer seems to be relatively full featured (https://github.com/arose/nglview), but is very fiddly; it is notoriously difficult to get working on some platforms/in some environments, and we have not yet gotten it working in Google Colab. It may or may not work on your platform.\n",
    "\n",
    "Some usage notes which might or might not be useful include:"
   ]
  },
  {
   "cell_type": "code",
   "execution_count": 4,
   "metadata": {},
   "outputs": [],
   "source": [
    "#It is possible to add additional trajectories to your view, such as using:\n",
    "#view.add_trajectory(nglview.MDTrajTrajectory(traj2))\n",
    "\n",
    "#Other \"trajectories\" don't have to be of the same type; for example, you could load a `pytraj` \n",
    "#trajectory from AMBER's pytraj module, or you can even load a molecular structure from the RDKit\n",
    "#toolkit (an open source Chem toolkit somewhat like OpenEye's toolkits), such as via:\n",
    "#view.add_trajectory(nglview.RdkitStructure(its_object))\n",
    "\n",
    "#See additional examples at https://github.com/arose/nglview/blob/master/examples/representations_and_selection_language.ipynb"
   ]
  },
  {
   "cell_type": "code",
   "execution_count": null,
   "metadata": {},
   "outputs": [],
   "source": []
  }
 ],
 "metadata": {
  "anaconda-cloud": {},
  "kernelspec": {
   "display_name": "drugcomp23",
   "language": "python",
   "name": "drugcomp23"
  },
  "language_info": {
   "codemirror_mode": {
    "name": "ipython",
    "version": 3
   },
   "file_extension": ".py",
   "mimetype": "text/x-python",
   "name": "python",
   "nbconvert_exporter": "python",
   "pygments_lexer": "ipython3",
   "version": "3.9.16"
  },
  "widgets": {
   "state": {
    "6a73f6815a874a8f8ada495d6261339c": {
     "views": [
      {
       "cell_index": 4
      }
     ]
    }
   },
   "version": "1.2.0"
  }
 },
 "nbformat": 4,
 "nbformat_minor": 1
}
