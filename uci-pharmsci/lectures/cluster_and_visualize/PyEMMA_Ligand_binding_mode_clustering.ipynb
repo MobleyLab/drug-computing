{
  "cells": [
    {
      "cell_type": "markdown",
      "metadata": {
        "id": "WO2IxX1g_dZZ"
      },
      "source": [
        "# Cluster ligand binding modes with an MSM\n",
        "\n",
        "In simulations, ligand binding modes often interconvert somewhat slowly. In this notebook we work through an example which takes stored simulation data and builds an MSM to cluster the ligand binding modes which were sampled. This is based on a research problem we encountered, but takes a slightly simplified form.\n",
        "\n",
        "Please see [the PyEMMA LiveCoMS article](https://doi.org/10.33011/livecoms.1.1.5965) and associated GitHub repository [https://github.com/markovmodel/pyemma_tutorials](https://github.com/markovmodel/pyemma_tutorials) for additional background and tutorials.\n",
        "\n",
        "## Preparation for using Google Colab (SKIP IF RUNNING LOCALLY)\n",
        "\n",
        "[![Open in Colab](https://colab.research.google.com/assets/colab-badge.svg)](https://colab.research.google.com/github/MobleyLab/drug-computing/blob/master/uci-pharmsci/lectures/cluster_and_visualize/PyEMMA_Ligand_binding_mode_clustering.ipynb)\n",
        "\n",
        "If you are running this on Google Colab, you need to take a couple additional steps of preparation:\n",
        "1) Mount your Google Drive to this notebook:"
      ]
    },
    {
      "cell_type": "code",
      "execution_count": 1,
      "metadata": {
        "colab": {
          "base_uri": "https://localhost:8080/"
        },
        "id": "Cdy16DIV_dZb",
        "outputId": "a06d8cc1-4a44-4464-a167-978add14efdf"
      },
      "outputs": [
        {
          "output_type": "stream",
          "name": "stdout",
          "text": [
            "Mounted at /content/drive\n"
          ]
        }
      ],
      "source": [
        "# Run cell if using collab\n",
        "\n",
        "# Mount google drive to Colab Notebooks to access files\n",
        "from google.colab import drive\n",
        "drive.mount('/content/drive', force_remount = True)"
      ]
    },
    {
      "cell_type": "markdown",
      "metadata": {
        "id": "0NqzAb_Y_dZc"
      },
      "source": [
        "2) **If you are running this on Google Colab, install dependencies**:\n",
        "\n",
        "(You will need to run this cell twice if you encounter an error the first time.)"
      ]
    },
    {
      "cell_type": "code",
      "execution_count": 3,
      "metadata": {
        "id": "DNUPudjHhxfb",
        "colab": {
          "base_uri": "https://localhost:8080/"
        },
        "outputId": "9f8b2cfc-d30c-4155-861e-0e9110fc9bdd"
      },
      "outputs": [
        {
          "output_type": "stream",
          "name": "stdout",
          "text": [
            "✨🍰✨ Everything looks OK!\n",
            "✨🍰✨ Everything looks OK!\n",
            "CPU times: user 27.4 ms, sys: 11.3 ms, total: 38.7 ms\n",
            "Wall time: 1.33 s\n"
          ]
        }
      ],
      "source": [
        "%%time \n",
        "### run this block if running notebook on google collab\n",
        "\n",
        "# Import condacolab python library and install condacolab (~5-10 minutes). \n",
        "\n",
        "# Make sure to rerun this cell after it crashes\n",
        "!pip install --target=$nb_path -q condacolab\n",
        "import condacolab\n",
        "condacolab.install()\n",
        "\n",
        "# Check condacolab to ensure that it works\n",
        "condacolab.check()"
      ]
    },
    {
      "cell_type": "code",
      "source": [
        "# Install packages - MUST be in a separate cell from the above because of library issues with how condacolab works.\n",
        "!conda config --add channels conda-forge\n",
        "!conda install pyemma "
      ],
      "metadata": {
        "colab": {
          "base_uri": "https://localhost:8080/"
        },
        "id": "xDaN08l1AG-3",
        "outputId": "7ae530b7-2352-4629-ec86-0aa429bceacb"
      },
      "execution_count": 4,
      "outputs": [
        {
          "output_type": "stream",
          "name": "stdout",
          "text": [
            "Warning: 'conda-forge' already in 'channels' list, moving to the top\n",
            "Collecting package metadata (current_repodata.json): - \b\b\\ \b\b| \b\b/ \b\b- \b\b\\ \b\b| \b\b/ \b\b- \b\b\\ \b\b| \b\b/ \b\b- \b\b\\ \b\b| \b\b/ \b\b- \b\b\\ \b\b| \b\b/ \b\b- \b\b\\ \b\b| \b\b/ \b\b- \b\b\\ \b\b| \b\b/ \b\b- \b\b\\ \b\b| \b\b/ \b\b- \b\b\\ \b\b| \b\b/ \b\b- \b\b\\ \b\b| \b\b/ \b\b- \b\b\\ \b\b| \b\b/ \b\b- \b\b\\ \b\b| \b\b/ \b\b- \b\b\\ \b\b| \b\b/ \b\b- \b\b\\ \b\b| \b\b/ \b\b- \b\b\\ \b\b| \b\b/ \b\b- \b\b\\ \b\b| \b\b/ \b\b- \b\b\\ \b\b| \b\b/ \b\b- \b\b\\ \b\b| \b\b/ \b\b- \b\bdone\n",
            "Solving environment: | \b\b/ \b\b- \b\b\\ \b\b| \b\b/ \b\b- \b\b\\ \b\b| \b\b/ \b\b- \b\b\\ \b\b| \b\b/ \b\b- \b\b\\ \b\b| \b\b/ \b\b- \b\b\\ \b\b| \b\b/ \b\b- \b\b\\ \b\b| \b\b/ \b\b- \b\b\\ \b\b| \b\b/ \b\b- \b\b\\ \b\b| \b\b/ \b\b- \b\b\\ \b\b| \b\b/ \b\b- \b\b\\ \b\b| \b\b/ \b\b- \b\b\\ \b\b| \b\b/ \b\b- \b\b\\ \b\b| \b\b/ \b\b- \b\b\\ \b\b| \b\b/ \b\b- \b\b\\ \b\b| \b\b/ \b\b- \b\b\\ \b\b| \b\b/ \b\b- \b\b\\ \b\b| \b\b/ \b\b- \b\b\\ \b\b| \b\b/ \b\b- \b\b\\ \b\b| \b\b/ \b\b- \b\b\\ \b\b| \b\b/ \b\b- \b\b\\ \b\b| \b\b/ \b\b- \b\b\\ \b\b| \b\b/ \b\b- \b\bdone\n",
            "\n",
            "# All requested packages already installed.\n",
            "\n"
          ]
        }
      ]
    },
    {
      "cell_type": "markdown",
      "metadata": {
        "id": "_lekq2ti_dZd"
      },
      "source": [
        "3) **Navigate to where you have the content for this lecture on Drive**; edit this path if needed"
      ]
    },
    {
      "cell_type": "code",
      "execution_count": 6,
      "metadata": {
        "colab": {
          "base_uri": "https://localhost:8080/"
        },
        "id": "qvSB7KUs_dZe",
        "outputId": "0822aa60-26fd-4abc-9841-2fa93c3263e2"
      },
      "outputs": [
        {
          "output_type": "stream",
          "name": "stdout",
          "text": [
            "/content/drive/MyDrive/drug-computing/uci-pharmsci/lectures/cluster_and_visualize\n",
            "4XH_1-top.pdb  lig-first.pdb  test.h5\n"
          ]
        }
      ],
      "source": [
        "# Move into directory so that files can be accessed\n",
        "%cd /content/drive/MyDrive/drug-computing/uci-pharmsci/lectures/cluster_and_visualize\n",
        "# list files/folders in directory\n",
        "%ls"
      ]
    },
    {
      "cell_type": "markdown",
      "metadata": {
        "id": "eC55dSQD_dZe"
      },
      "source": [
        "## Prep for running locally\n",
        "\n",
        "If running locally, you need a standard scientific Python installation with `openmm` installed (as is standard for this class), and then you additionally need to `conda install -c conda-forge pyemma`. "
      ]
    },
    {
      "cell_type": "markdown",
      "metadata": {
        "id": "0Gt4MUdJhuiY"
      },
      "source": [
        "## Featurization\n",
        "\n",
        "Our first step is \"featurization\" -- to try and identify which features or coordinates in our simulations can separate the slow transitions between ligand binding modes.\n",
        "\n",
        "Import the [pyEMMA coordinates](http://emma-project.org/latest/api/index_coor.html) package: \n",
        ">  This package contains functions and classes for reading and writing trajectory files, extracting order parameters from them (such as distances or angles), as well as various methods for dimensionality reduction and clustering."
      ]
    },
    {
      "cell_type": "code",
      "execution_count": 7,
      "metadata": {
        "id": "i-eVcBVShuif"
      },
      "outputs": [],
      "source": [
        "import pyemma.coordinates as coor\n",
        "import numpy as np"
      ]
    },
    {
      "cell_type": "code",
      "execution_count": 8,
      "metadata": {
        "id": "UnU19tUthuih"
      },
      "outputs": [],
      "source": [
        "#Define our input MD files\n",
        "md_nc = '4XH_1-md_subsamp.nc'\n",
        "topfile = '4XH_1-top.pdb'"
      ]
    },
    {
      "cell_type": "markdown",
      "metadata": {
        "id": "m5etBseChuii"
      },
      "source": [
        "From the coordinates module, use the [featurizer](http://emma-project.org/latest/api/generated/pyemma.coordinates.featurizer.html#pyemma.coordinates.featurizer) to select the ligand heavy atoms."
      ]
    },
    {
      "cell_type": "code",
      "execution_count": 9,
      "metadata": {
        "colab": {
          "base_uri": "https://localhost:8080/"
        },
        "id": "TT7NXb4Xhuii",
        "outputId": "e625faee-7de0-4dad-8211-0a93f9187faa"
      },
      "outputs": [
        {
          "output_type": "stream",
          "name": "stdout",
          "text": [
            "Selected 11 heavy atoms\n"
          ]
        }
      ],
      "source": [
        "feat = coor.featurizer(topfile)\n",
        "lig_atoms = feat.select(\"resname LIG and not type H\")\n",
        "feat.add_selection(lig_atoms)\n",
        "print('Selected %s heavy atoms' % len(lig_atoms))"
      ]
    },
    {
      "cell_type": "markdown",
      "metadata": {
        "id": "ljSgmabNhuij"
      },
      "source": [
        "Load the coordinates from disc. Often, coordinates will not fit into memory, so we'll just create a loader by specifying the files as follows using the [source module](http://emma-project.org/latest/api/generated/pyemma.coordinates.source.html):"
      ]
    },
    {
      "cell_type": "code",
      "execution_count": 10,
      "metadata": {
        "colab": {
          "base_uri": "https://localhost:8080/"
        },
        "id": "NDlk7Gnyhuik",
        "outputId": "da5a0219-371f-4aaf-a54f-36499371ab63"
      },
      "outputs": [
        {
          "output_type": "stream",
          "name": "stdout",
          "text": [
            "number of trajectories =  1\n",
            "trajectory length =  750\n",
            "number of dimension =  33\n"
          ]
        }
      ],
      "source": [
        "inp = coor.source(md_nc, feat)\n",
        "print('number of trajectories = ',inp.number_of_trajectories())\n",
        "print('trajectory length = ',inp.trajectory_length(0))\n",
        "print('number of dimension = ',inp.dimension())"
      ]
    },
    {
      "cell_type": "markdown",
      "metadata": {
        "id": "ZYX5dMsuhuil"
      },
      "source": [
        "# Dimensionality Reduction\n",
        "## Time-lagged independent component analysis (TICA)\n",
        "[TICA theory](http://docs.markovmodel.org/lecture_tica.html)\n",
        "\n",
        "Run TICA for a series of lag times and select a suitable lag time for further analysis. In order to do so, have a look at the implied timescales generated by TICA. The [TICA object](http://emma-project.org/latest/api/generated/pyemma.coordinates.tica.html#pyemma.coordinates.tica) has an attribute timescales.\n",
        "\n"
      ]
    },
    {
      "cell_type": "code",
      "execution_count": 11,
      "metadata": {
        "id": "1MPLRhLqhuil"
      },
      "outputs": [],
      "source": [
        "#Frames in MD simulation were taken every 10ps \n",
        "#Give a range of different lag times to try out\n",
        "dt = 10\n",
        "lag_list = np.arange(1, 20,5)\n",
        "nlags = lag_list.shape[0]"
      ]
    },
    {
      "cell_type": "code",
      "execution_count": 12,
      "metadata": {
        "colab": {
          "base_uri": "https://localhost:8080/"
        },
        "id": "hqsQ7NiRhuim",
        "outputId": "08958f4c-7fc2-4cfb-c073-aaa9b1ed09d9"
      },
      "outputs": [
        {
          "output_type": "stream",
          "name": "stdout",
          "text": [
            "type of Y: <class 'list'>\n",
            "length of Y: 1\n",
            "shape of first element: (750, 33)\n"
          ]
        }
      ],
      "source": [
        "#Load the trajectory files\n",
        "Y = inp.get_output()\n",
        "print(\"type of Y:\", type(Y))\n",
        "print(\"length of Y:\", len(Y))\n",
        "print(\"shape of first element:\", Y[0].shape)"
      ]
    },
    {
      "cell_type": "code",
      "execution_count": 13,
      "metadata": {
        "id": "-zKfT3Mthuin"
      },
      "outputs": [],
      "source": [
        "#Try out different lag times fr \n",
        "lag_times = []\n",
        "for lag in lag_list:\n",
        "    data = coor.tica(np.vstack(Y),lag, kinetic_map=True, var_cutoff=0.95, reversible=True)\n",
        "    lag_times.append(data.timescales[:10])\n",
        "lag_times = np.asarray(lag_times)"
      ]
    },
    {
      "cell_type": "code",
      "execution_count": 14,
      "metadata": {
        "id": "HRY63hpxhuin"
      },
      "outputs": [],
      "source": [
        "import matplotlib.pyplot as plt\n",
        "%matplotlib inline"
      ]
    },
    {
      "cell_type": "code",
      "execution_count": 15,
      "metadata": {
        "colab": {
          "base_uri": "https://localhost:8080/",
          "height": 303
        },
        "id": "SiBK7ZnHhuio",
        "outputId": "84fae0da-8c86-4341-fc7c-9f7f1574507b"
      },
      "outputs": [
        {
          "output_type": "execute_result",
          "data": {
            "text/plain": [
              "Text(0, 0.5, 'Timescales [$ps$]')"
            ]
          },
          "metadata": {},
          "execution_count": 15
        },
        {
          "output_type": "display_data",
          "data": {
            "image/png": "[encoded data removed]",
            "text/plain": [
              "<Figure size 432x288 with 1 Axes>"
            ]
          },
          "metadata": {
            "needs_background": "light"
          }
        }
      ],
      "source": [
        "#Plot the different lag times\n",
        "plt.plot(dt*lag_list, dt*lag_times, linewidth=2)\n",
        "plt.xlabel(r\"Lag time [$ps$]\", fontsize=12)\n",
        "plt.ylabel(r\"Timescales [$ps$]\", fontsize=12)"
      ]
    },
    {
      "cell_type": "code",
      "execution_count": 16,
      "metadata": {
        "colab": {
          "base_uri": "https://localhost:8080/"
        },
        "id": "QNuUMDuThuio",
        "outputId": "b67efddd-ec50-4fe3-d6ca-124878ac6f24"
      },
      "outputs": [
        {
          "output_type": "stream",
          "name": "stdout",
          "text": [
            "TICA dimension  17\n"
          ]
        }
      ],
      "source": [
        "#Select a lag time where the lines start to level off\n",
        "#Here, I'll use 80ps\n",
        "lag = int(80/ dt)\n",
        "\n",
        "tica_obj = coor.tica(inp, lag=lag, kinetic_map=True, var_cutoff=0.95, reversible=True)\n",
        "print('TICA dimension ', tica_obj.dimension())"
      ]
    },
    {
      "cell_type": "markdown",
      "metadata": {
        "id": "UGuXMp8uhuip"
      },
      "source": [
        "Plot the first two TICA components. The TICA object has a get_output() method."
      ]
    },
    {
      "cell_type": "code",
      "execution_count": 17,
      "metadata": {
        "colab": {
          "base_uri": "https://localhost:8080/"
        },
        "id": "kbTE4XLhhuip",
        "outputId": "7fb96129-28ff-4d9a-ae44-21e30c183989"
      },
      "outputs": [
        {
          "output_type": "stream",
          "name": "stdout",
          "text": [
            "number of trajectories =  1\n",
            "number of frames =  750\n",
            "number of dimensions =  17\n"
          ]
        }
      ],
      "source": [
        "Y = tica_obj.get_output() # get tica coordinates\n",
        "print('number of trajectories = ', np.shape(Y)[0])\n",
        "print('number of frames = ', np.shape(Y)[1])\n",
        "print('number of dimensions = ',np.shape(Y)[2])"
      ]
    },
    {
      "cell_type": "markdown",
      "metadata": {
        "id": "-qtd2SMjhuiq"
      },
      "source": [
        "PyEMMA has a [plotting module](http://emma-project.org/latest/api/index_plots.html#plots-plotting-tools-pyemma-plots) which we can use to plot the TICA coordinates"
      ]
    },
    {
      "cell_type": "code",
      "execution_count": 18,
      "metadata": {
        "id": "qMb4xog5huiq"
      },
      "outputs": [],
      "source": [
        "from pyemma import plots"
      ]
    },
    {
      "cell_type": "code",
      "execution_count": 19,
      "metadata": {
        "colab": {
          "base_uri": "https://localhost:8080/",
          "height": 296
        },
        "id": "Algdtrp0huiq",
        "outputId": "b1a77576-f3ef-4c05-f4a8-9f74799d4c77"
      },
      "outputs": [
        {
          "output_type": "execute_result",
          "data": {
            "text/plain": [
              "Text(0, 0.5, 'TIC 2')"
            ]
          },
          "metadata": {},
          "execution_count": 19
        },
        {
          "output_type": "display_data",
          "data": {
            "image/png": "[encoded data removed]",
            "text/plain": [
              "<Figure size 432x288 with 2 Axes>"
            ]
          },
          "metadata": {
            "needs_background": "light"
          }
        }
      ],
      "source": [
        "plots.plot_free_energy(np.vstack(Y)[:, 0], np.vstack(Y)[:, 1], nbins=25)\n",
        "plt.xlabel('TIC 1')\n",
        "plt.ylabel('TIC 2')"
      ]
    },
    {
      "cell_type": "markdown",
      "metadata": {
        "id": "UxtCaBx4huiq"
      },
      "source": [
        "# Clustering the data\n",
        "\n",
        "## K-means clustering\n",
        "Use [k-means clustering](http://emma-project.org/latest/api/generated/pyemma.coordinates.clustering.KmeansClustering.html#pyemma.coordinates.clustering.KmeansClustering) and get the discrete trajectories"
      ]
    },
    {
      "cell_type": "code",
      "execution_count": 20,
      "metadata": {
        "colab": {
          "base_uri": "https://localhost:8080/",
          "height": 54,
          "referenced_widgets": [
            "12eac87dfa7f4d6daf4bb6a0b1c53d8d",
            "c39b58cabaf34f54ab7512271d50a065",
            "30680783583f49dfac3fce1c7f921973",
            "ec27fc56d99b4772aab7e8d6bf4d638c",
            "3f135515027f4699a1c247d0a67f9157",
            "aeddc71587da47e692fa91cae62e375f",
            "00255cf278c549cd904abf4358b182b8",
            "c15777fe05ab4dedb5bfeb3b19e15166",
            "54ee9fb171a94cb5bee04716ebd801ab",
            "23b1cc84e4454a3895b8ca9922be0a43",
            "26d5dc84664d49fcb953f8742fcde39c",
            "6929c673d0384b3a874175ca41105281",
            "6033fd93fe9c461d89f121278ce8552e",
            "36499e52c5be47fe888aaf1ed6f9738d",
            "3eaa23007b60461e83c84ff50fd11ab0",
            "114659aa609444188cee25dc014f3117",
            "dd9bb43747bb4e9d86ea0fe37dae8fa8",
            "c63fe38e8ea644f8a4868952015c3065",
            "b4f2cc3edced4cdba7abed2afef7a06a",
            "54250664e6db440088db1131eb9ff677",
            "646c7a54bbe441d08376df397f590707",
            "0f4f91c4c0a243919210445a7ca1fb48"
          ]
        },
        "id": "0ZEArxInhuiq",
        "outputId": "84567164-288e-4a42-e7b5-7c950286fa8b"
      },
      "outputs": [
        {
          "output_type": "stream",
          "name": "stdout",
          "text": [
            "31-12-21 01:18:00 pyemma.coordinates.clustering.kmeans.KmeansClustering[15] INFO     The number of cluster centers was not specified, using min(sqrt(N), 5000)=27 as n_clusters.\n"
          ]
        },
        {
          "output_type": "display_data",
          "data": {
            "application/vnd.jupyter.widget-view+json": {
              "model_id": "12eac87dfa7f4d6daf4bb6a0b1c53d8d",
              "version_minor": 0,
              "version_major": 2
            },
            "text/plain": [
              "initialize kmeans++ centers:   0%|          | 0/27 [00:00<?, ?it/s]"
            ]
          },
          "metadata": {}
        },
        {
          "output_type": "display_data",
          "data": {
            "application/vnd.jupyter.widget-view+json": {
              "model_id": "6929c673d0384b3a874175ca41105281",
              "version_minor": 0,
              "version_major": 2
            },
            "text/plain": [
              "kmeans iterations:   0%|          | 0/100 [00:00<?, ?it/s]"
            ]
          },
          "metadata": {}
        }
      ],
      "source": [
        "cl = coor.cluster_kmeans(data=np.vstack(Y), max_iter=100)\n",
        "# for later use we save the discrete trajectories and cluster center coordinates:\n",
        "dtrajs = cl.dtrajs\n",
        "cc_x = cl.clustercenters[:, 0]\n",
        "cc_y = cl.clustercenters[:, 1]"
      ]
    },
    {
      "cell_type": "markdown",
      "metadata": {
        "id": "5fpyWGy9huir"
      },
      "source": [
        "Visualize the clusters"
      ]
    },
    {
      "cell_type": "code",
      "execution_count": 21,
      "metadata": {
        "colab": {
          "base_uri": "https://localhost:8080/",
          "height": 296
        },
        "id": "zhaLxu7Ehuir",
        "outputId": "e8322ba2-e65c-47dd-e011-0978642e3a55"
      },
      "outputs": [
        {
          "output_type": "execute_result",
          "data": {
            "text/plain": [
              "Text(0, 0.5, 'TIC 2')"
            ]
          },
          "metadata": {},
          "execution_count": 21
        },
        {
          "output_type": "display_data",
          "data": {
            "image/png": "[encoded data removed]",
            "text/plain": [
              "<Figure size 432x288 with 2 Axes>"
            ]
          },
          "metadata": {
            "needs_background": "light"
          }
        }
      ],
      "source": [
        "plots.plot_free_energy(np.vstack(Y)[:, 0], np.vstack(Y)[:, 1], nbins=25)\n",
        "plt.scatter(cc_x, cc_y, marker = 'x', s=50,color = 'black')\n",
        "plt.xlabel('TIC 1')\n",
        "plt.ylabel('TIC 2')"
      ]
    },
    {
      "cell_type": "markdown",
      "metadata": {
        "id": "45SEntpXhuir"
      },
      "source": [
        "If you have time, try other clustering methods (regular space, regular time) and visualize the results. Which method do you prefer?"
      ]
    },
    {
      "cell_type": "markdown",
      "metadata": {
        "id": "JlpIt3iIhuir"
      },
      "source": [
        "# Markov State Model construction\n",
        "#### Theory: \n",
        "- [Implied timescales](http://docs.markovmodel.org/lecture_implied_timescales.html)\n",
        "- Pande, V. S., K. A. Beauchamp, and G. R. Bowman. [Everything you wanted to know about Markov State Models but were afraid to ask](http://www.sciencedirect.com/science/article/pii/S1046202310001568?via%3Dihub)\n",
        " Methods 52.1 (2010): 99-105\n",
        "Let's estimate MSMs at different lagtimes. Now we would like the lagtime to converge within the statistical uncertainty.\n",
        "\n",
        "This function estimates an MSM for each of the lag-times we have provided: $\\tau=n_{lag}\\cdot t_{\\text{stride}}$ Where $n_{lag}$ is one of the integers given in the lags list, and  $t_{\\text{stride}}$ is the trajectory time-stride. For the example data given here the last parameter is $80\\,\\mathrm{ps}$. The implied-timescales are then computed as:\n",
        "   $$ t_i = \\frac{-\\tau}{\\ln | \\lambda_i(\\tau) |}.$$\n",
        "The its object contains these implied time-scales which can be plotted using one of PyEMMAs built in function for quick inspection - here you can also defined the time-units to ensure the axes express physical time."
      ]
    },
    {
      "cell_type": "code",
      "execution_count": 22,
      "metadata": {
        "id": "lkKSqkhhhuis"
      },
      "outputs": [],
      "source": [
        "from pyemma import msm"
      ]
    },
    {
      "cell_type": "code",
      "execution_count": 23,
      "metadata": {
        "colab": {
          "base_uri": "https://localhost:8080/",
          "height": 34,
          "referenced_widgets": [
            "5be9ed46b5b145a98acd679fbfdde0cb",
            "f3cf80888f5d467eb8a62e5b3a1888f9",
            "12f1b32c5a4b4f3ba5c91b4acf5b5945",
            "588bd025bdc6424091be44525b5aa7ca",
            "599ff3abeb9d462ab9dd22a0f229d544",
            "5b80d33d778e4d108cae4641aa658649",
            "dfd1f458ee0b46df846312fa5f401113",
            "e0e9a1f02cd9484a9cab2133fce6bcb4",
            "6bd4cf257c864785a356fe27436a4aa9",
            "723f1685c13049deb8b9f2edd437b4ee",
            "e88b639b312149a6872cc722e998ae3f"
          ]
        },
        "id": "Tw3hEH7Yhuis",
        "outputId": "cb572d10-ca68-42ed-8932-5971a5948b90"
      },
      "outputs": [
        {
          "output_type": "stream",
          "name": "stdout",
          "text": [
            "8\n"
          ]
        },
        {
          "output_type": "display_data",
          "data": {
            "application/vnd.jupyter.widget-view+json": {
              "model_id": "5be9ed46b5b145a98acd679fbfdde0cb",
              "version_minor": 0,
              "version_major": 2
            },
            "text/plain": [
              "estimating MaximumLikelihoodMSM:   0%|          | 0/5 [00:00<?, ?it/s]"
            ]
          },
          "metadata": {}
        }
      ],
      "source": [
        "print(lag)\n",
        "its = msm.timescales_msm(dtrajs, lags=lag, nits=10)"
      ]
    },
    {
      "cell_type": "code",
      "execution_count": 24,
      "metadata": {
        "colab": {
          "base_uri": "https://localhost:8080/",
          "height": 283
        },
        "id": "hdQilOcxhuis",
        "outputId": "07db8753-61a8-4ea4-afe3-dc1d3ad7f6b0"
      },
      "outputs": [
        {
          "output_type": "display_data",
          "data": {
            "image/png": "[encoded data removed]",
            "text/plain": [
              "<Figure size 432x288 with 1 Axes>"
            ]
          },
          "metadata": {
            "needs_background": "light"
          }
        }
      ],
      "source": [
        "plots.plot_implied_timescales(its,dt=dt, units='$ps$')\n",
        "plt.ylim(1,5000);"
      ]
    },
    {
      "cell_type": "markdown",
      "metadata": {
        "id": "VHbCtEtghuis"
      },
      "source": [
        "Use plots.plot_implied_timescales to visualize."
      ]
    },
    {
      "cell_type": "markdown",
      "metadata": {
        "id": "qo3nNwB1huis"
      },
      "source": [
        "It has been shown that the implied timescales (y-axis) should be independent of the lag time (x-axis) [3]. For short lag times this is not the case, but after about 40 picoseconds, they are fairly constant. Some of the faster timescales (lower value on y-axis) either still increase as a function of lag-time or fall below the grey shaded area in the plot. This is often the case and is due to a combination of numerical issues and an imperfect discretization - this mean that the processes associated with these time-scales will be unreliable. The grey area defines the lag-time of the model, and therefore also the time-resolution of what can be resolved. If the processess fall within this area, they are generally not resolved.\n",
        "\n",
        "Basically - we have to make a compromise, we want to have the model which the highest time-resolution which still has implied time-scales which are lag-time independent.\n",
        "\n",
        "Sometimes it can be useful to quantify the uncertainty of these time-scales, to get a better idea of any changes in the implied-timescales carry any statistical significance. "
      ]
    },
    {
      "cell_type": "markdown",
      "metadata": {
        "id": "heQC3tSqhuit"
      },
      "source": [
        "Estimate uncertainties using Bayesian sampling. Note that these errors tend to be a bit underestimated, but we can still see that the timescales are flat within the error for lag times above 40 picoseconds."
      ]
    },
    {
      "cell_type": "code",
      "execution_count": 25,
      "metadata": {
        "colab": {
          "base_uri": "https://localhost:8080/",
          "height": 283,
          "referenced_widgets": [
            "6aded41370eb449aa6d463d3614d5ec3",
            "a23e29680270473a85f181af6f3fab65",
            "ddaa7a9c17514568852e9574929a1f2d",
            "bb084f436b7445f7bfe407eef748a396",
            "20def4a4e0e347bda5abf3eff88dd374",
            "4e22091f03944164a0c0f981f66387e0",
            "2a98876ebcef401daccdc51ac1289b5c",
            "96c456c8ccf34594b78fca8079a790e3",
            "ac619431427e4fc0b74268c463ca73b6",
            "4c8f73fa0fa348cda24f1394716f7155",
            "eee6309694534e6a9284145b4ccd3250"
          ]
        },
        "id": "zaT002brhuit",
        "outputId": "afb901f8-d671-4571-cb1b-cbdd3f1fb635"
      },
      "outputs": [
        {
          "output_type": "display_data",
          "data": {
            "application/vnd.jupyter.widget-view+json": {
              "model_id": "6aded41370eb449aa6d463d3614d5ec3",
              "version_minor": 0,
              "version_major": 2
            },
            "text/plain": [
              "estimating BayesianMSM:   0%|          | 0/5 [00:00<?, ?it/s]"
            ]
          },
          "metadata": {}
        },
        {
          "output_type": "display_data",
          "data": {
            "image/png": "[encoded data removed]",
            "text/plain": [
              "<Figure size 432x288 with 1 Axes>"
            ]
          },
          "metadata": {
            "needs_background": "light"
          }
        }
      ],
      "source": [
        "its = msm.timescales_msm(dtrajs, lags=lag, nits=10, errors='bayes')\n",
        "plots.plot_implied_timescales(its, dt=dt, units='$ps$')\n",
        "plt.ylim(1, 5000);"
      ]
    },
    {
      "cell_type": "markdown",
      "metadata": {
        "id": "Gq6M99Iqhuit"
      },
      "source": [
        "Now build an MSM at a good lag time:"
      ]
    },
    {
      "cell_type": "code",
      "execution_count": 26,
      "metadata": {
        "id": "kn9wi8kMhuit"
      },
      "outputs": [],
      "source": [
        "M = msm.estimate_markov_model(dtrajs, lag)"
      ]
    },
    {
      "cell_type": "code",
      "execution_count": 27,
      "metadata": {
        "colab": {
          "base_uri": "https://localhost:8080/"
        },
        "id": "Yi192aoFhuit",
        "outputId": "5412c273-e78d-4270-9b24-afda304c4fd9"
      },
      "outputs": [
        {
          "output_type": "execute_result",
          "data": {
            "text/plain": [
              "array([[ 4.,  0.,  0.,  0.,  0.,  1.,  0.,  0.,  1.,  0.,  4.,  0.,  0.,\n",
              "         0.,  2.,  1.,  0.,  0.,  2.,  0.,  0.,  3.,  2.,  0.,  2.,  2.,\n",
              "         0.],\n",
              "       [ 0.,  2.,  1.,  0.,  3.,  0.,  3.,  0.,  0.,  3.,  0.,  0.,  0.,\n",
              "         1.,  0.,  0.,  0.,  1.,  0.,  0.,  0.,  0.,  0.,  2.,  0.,  3.,\n",
              "         0.],\n",
              "       [ 1.,  0.,  5.,  1.,  1.,  0.,  0.,  0.,  9.,  0.,  0.,  0.,  2.,\n",
              "         0.,  0.,  2.,  4.,  0.,  0.,  2.,  5.,  0.,  0.,  0.,  1.,  3.,\n",
              "         4.],\n",
              "       [ 0.,  2.,  0.,  5.,  0.,  0.,  0.,  0.,  0.,  0.,  3.,  0.,  0.,\n",
              "         0.,  0.,  0.,  0.,  6.,  0.,  0.,  0.,  0.,  0.,  1.,  0.,  1.,\n",
              "         0.],\n",
              "       [ 1.,  1.,  1.,  0.,  4.,  0.,  0.,  0.,  0.,  0.,  6.,  0.,  0.,\n",
              "         0.,  4.,  4.,  1.,  0.,  1.,  0.,  4.,  0.,  1.,  3.,  2.,  7.,\n",
              "         0.],\n",
              "       [ 0.,  0.,  0.,  0.,  2.,  1.,  0.,  0.,  0.,  0.,  1.,  0.,  0.,\n",
              "         0.,  3.,  0.,  0.,  0.,  2.,  0.,  1.,  3.,  3.,  2.,  4.,  0.,\n",
              "         0.],\n",
              "       [ 0.,  1.,  0.,  0.,  1.,  0.,  1.,  0.,  0.,  5.,  0.,  0.,  0.,\n",
              "         3.,  0.,  1.,  0.,  0.,  0.,  1.,  0.,  0.,  0.,  2.,  1.,  2.,\n",
              "         0.],\n",
              "       [ 0.,  0.,  0.,  0.,  0.,  0.,  0.,  0.,  1.,  0.,  0.,  0.,  1.,\n",
              "         0.,  0.,  0.,  1.,  0.,  0.,  0.,  1.,  0.,  0.,  0.,  0.,  0.,\n",
              "         0.],\n",
              "       [ 0.,  0.,  5.,  0.,  2.,  0.,  0.,  0.,  5.,  0.,  2.,  1.,  3.,\n",
              "         0.,  0.,  0.,  9.,  0.,  0.,  1.,  3.,  0.,  0.,  1.,  0.,  0.,\n",
              "         6.],\n",
              "       [ 0.,  1.,  0.,  0.,  0.,  0.,  8.,  3.,  1., 16.,  1.,  1.,  0.,\n",
              "         4.,  0.,  0.,  0.,  0.,  0.,  1.,  0.,  0.,  0.,  1.,  0.,  1.,\n",
              "         0.],\n",
              "       [ 5.,  1.,  1.,  0.,  6.,  3.,  0.,  0.,  0.,  0.,  8.,  1.,  0.,\n",
              "         1.,  0.,  3.,  1.,  0.,  5.,  0.,  1.,  2.,  0.,  2.,  6.,  4.,\n",
              "         1.],\n",
              "       [ 0.,  1.,  0.,  1.,  1.,  0.,  1.,  0.,  0.,  1.,  1.,  1.,  0.,\n",
              "         1.,  0.,  0.,  0.,  2.,  0.,  0.,  0.,  0.,  0.,  0.,  0.,  1.,\n",
              "         0.],\n",
              "       [ 0.,  0.,  2.,  0.,  0.,  0.,  0.,  0.,  4.,  1.,  0.,  0.,  5.,\n",
              "         0.,  0.,  0.,  5.,  0.,  0.,  3.,  2.,  0.,  0.,  0.,  0.,  0.,\n",
              "         0.],\n",
              "       [ 0.,  1.,  0.,  0.,  0.,  0.,  1.,  0.,  0.,  4.,  0.,  2.,  0.,\n",
              "         2.,  1.,  0.,  0.,  0.,  0.,  0.,  0.,  0.,  0.,  0.,  0.,  2.,\n",
              "         0.],\n",
              "       [ 0.,  0.,  1.,  0.,  1.,  5.,  0.,  0.,  1.,  1.,  2.,  0.,  0.,\n",
              "         0.,  9.,  4.,  0.,  0.,  0.,  0.,  1.,  0.,  4.,  0.,  1.,  1.,\n",
              "         0.],\n",
              "       [ 0.,  2.,  0.,  0.,  4.,  3.,  2.,  0.,  0.,  0.,  2.,  0.,  0.,\n",
              "         0.,  5.,  5.,  2.,  0.,  2.,  0.,  0.,  1.,  2.,  0.,  6.,  3.,\n",
              "         0.],\n",
              "       [ 0.,  1.,  9.,  0.,  0.,  0.,  0.,  0.,  5.,  0.,  1.,  0.,  4.,\n",
              "         0.,  0.,  0.,  6.,  1.,  0.,  1.,  5.,  1.,  0.,  0.,  0.,  1.,\n",
              "         4.],\n",
              "       [ 0.,  1.,  0.,  4.,  1.,  0.,  0.,  0.,  0.,  0.,  0.,  3.,  0.,\n",
              "         0.,  0.,  0.,  0.,  1.,  0.,  1.,  0.,  0.,  0.,  1.,  0.,  0.,\n",
              "         0.],\n",
              "       [ 4.,  0.,  0.,  0.,  0.,  1.,  0.,  0.,  0.,  0.,  3.,  0.,  0.,\n",
              "         0.,  0.,  2.,  0.,  0.,  1.,  0.,  0.,  2.,  3.,  3.,  0.,  1.,\n",
              "         0.],\n",
              "       [ 0.,  0.,  2.,  0.,  0.,  0.,  0.,  0.,  2.,  0.,  0.,  0.,  3.,\n",
              "         0.,  0.,  0.,  1.,  1.,  0.,  0.,  1.,  0.,  0.,  0.,  0.,  0.,\n",
              "         0.],\n",
              "       [ 0.,  0.,  8.,  0.,  1.,  1.,  0.,  1.,  3.,  0.,  0.,  0.,  4.,\n",
              "         0.,  0.,  2.,  5.,  0.,  0.,  0.,  5.,  0.,  0.,  0.,  1.,  1.,\n",
              "         5.],\n",
              "       [ 4.,  0.,  0.,  1.,  0.,  1.,  0.,  0.,  0.,  0.,  1.,  0.,  0.,\n",
              "         0.,  0.,  1.,  0.,  0.,  3.,  0.,  0.,  3.,  8.,  2.,  2.,  1.,\n",
              "         0.],\n",
              "       [ 2.,  0.,  0.,  0.,  3.,  4.,  0.,  0.,  0.,  0.,  1.,  1.,  0.,\n",
              "         0.,  1.,  2.,  0.,  0.,  5.,  0.,  0.,  5.,  4.,  2.,  2.,  1.,\n",
              "         0.],\n",
              "       [ 0.,  0.,  0.,  0.,  4.,  0.,  1.,  0.,  1.,  3.,  1.,  1.,  0.,\n",
              "         1.,  2.,  5.,  0.,  0.,  1.,  0.,  0.,  3.,  2.,  3.,  2.,  3.,\n",
              "         0.],\n",
              "       [ 2.,  2.,  1.,  0.,  2.,  2.,  0.,  0.,  0.,  0.,  2.,  0.,  0.,\n",
              "         0.,  3.,  5.,  0.,  0.,  0.,  0.,  0.,  4.,  4.,  2.,  3.,  2.,\n",
              "         1.],\n",
              "       [ 0.,  3.,  1.,  6.,  2.,  0.,  1.,  0.,  2.,  3.,  5.,  1.,  0.,\n",
              "         0.,  1.,  3.,  0.,  0.,  0.,  0.,  1.,  1.,  0.,  5.,  2.,  3.,\n",
              "         2.],\n",
              "       [ 1.,  0.,  3.,  0.,  0.,  0.,  0.,  0.,  3.,  1.,  1.,  0.,  0.,\n",
              "         0.,  0.,  0.,  4.,  0.,  0.,  0.,  7.,  1.,  0.,  2.,  0.,  0.,\n",
              "         3.]])"
            ]
          },
          "metadata": {},
          "execution_count": 27
        }
      ],
      "source": [
        "#Count of transitions between two states\n",
        "M.count_matrix_active"
      ]
    },
    {
      "cell_type": "markdown",
      "metadata": {
        "id": "YH0GRzzIhuit"
      },
      "source": [
        "## Validation - Chapman-Kolmogorov test\n",
        "\n",
        "Let's see if our Markov model fulfill the Chapman-Kolmogorov equation. This is a way of testing the self-consistency of the model. There will be more background this tomorrow morning.\n",
        "\n",
        "The MSM instance has a method to make the testing very easy:"
      ]
    },
    {
      "cell_type": "code",
      "execution_count": 28,
      "metadata": {
        "colab": {
          "base_uri": "https://localhost:8080/",
          "height": 17,
          "referenced_widgets": [
            "852489bc69ef4407814ff373daaa02b8",
            "69de14f48d5645f3b69a2cc7169d0253",
            "a11ebaef400c4352ba5f52e8b6b566fa",
            "537c3a08e8be41dabf2edb7f5349285a",
            "2136ba96fb134dc580abb127dbe4bfe9",
            "07fe0fc5805e47b9b1f5b3a95f49adcf",
            "274cf6962454417ba109943ca19776d7",
            "efc0aa560a074388a8de4f100f72c153",
            "3b06178a3e51449b89c5e54dd4937492",
            "ae09ec54aaec4eddb23c924f65a0c2bb",
            "cc84a5b2e82a48cf9ca7971b008a70e0"
          ]
        },
        "id": "my4ZkZochuiu",
        "outputId": "f28fc740-bea9-483d-d9cc-15a80b8c152d"
      },
      "outputs": [
        {
          "output_type": "display_data",
          "data": {
            "application/vnd.jupyter.widget-view+json": {
              "model_id": "852489bc69ef4407814ff373daaa02b8",
              "version_minor": 0,
              "version_major": 2
            },
            "text/plain": [
              "estimating MaximumLikelihoodMSM:   0%|          | 0/9 [00:00<?, ?it/s]"
            ]
          },
          "metadata": {}
        }
      ],
      "source": [
        "ckt = M.cktest(3)"
      ]
    },
    {
      "cell_type": "code",
      "execution_count": 29,
      "metadata": {
        "colab": {
          "base_uri": "https://localhost:8080/",
          "height": 624
        },
        "id": "4Y_e1UWPhuiu",
        "outputId": "378e9994-3928-405c-93e9-81395556af2e"
      },
      "outputs": [
        {
          "output_type": "display_data",
          "data": {
            "image/png": "[encoded data removed]",
            "text/plain": [
              "<Figure size 648x648 with 9 Axes>"
            ]
          },
          "metadata": {
            "needs_background": "light"
          }
        }
      ],
      "source": [
        "plots.plot_cktest(ckt,dt=dt,units=\"ps\");"
      ]
    },
    {
      "cell_type": "markdown",
      "metadata": {
        "id": "wQJfUAIZhuiu"
      },
      "source": [
        "What is shown here is the predicted transition probabilities from the Markov model (blue) and corresponding ones estimated directly from the data you used to estimate the Markov model (that is, training a Markov model with a larger lag-time). More formally what we check is whether the following relation is approximately fulfilled:\n",
        "$$ \\underbrace{T^k(\\tau)}_{\\text{Markov model prediction}} \\approx \\underbrace{T(k\\tau)}_{\\text{estimation from data}} $$\n",
        "where $k$ is some positive integer, and $T(\\cdot)$ is a transition probability matrix for a given lag-time. Basically, we want to ensure these lines are as close as possible to each other. More depth on this topic is given tomorrow morning.\n"
      ]
    },
    {
      "cell_type": "markdown",
      "metadata": {
        "id": "vAHJm9i1huiu"
      },
      "source": [
        "## Spectral analysis\n",
        "\n",
        "\n",
        "Let us have a closer look at the timescales that were already seen in the its plot:"
      ]
    },
    {
      "cell_type": "code",
      "execution_count": 30,
      "metadata": {
        "colab": {
          "base_uri": "https://localhost:8080/",
          "height": 296
        },
        "id": "lZru2Cx3huiu",
        "outputId": "7c45a09c-7ec4-46d2-e28c-672a80592678"
      },
      "outputs": [
        {
          "output_type": "execute_result",
          "data": {
            "text/plain": [
              "(-0.5, 10.5)"
            ]
          },
          "metadata": {},
          "execution_count": 30
        },
        {
          "output_type": "display_data",
          "data": {
            "image/png": "[encoded data removed]",
            "text/plain": [
              "<Figure size 432x288 with 1 Axes>"
            ]
          },
          "metadata": {
            "needs_background": "light"
          }
        }
      ],
      "source": [
        "plt.plot(dt*M.timescales(),linewidth=0,marker='o')\n",
        "plt.xlabel('index');plt.ylabel(r'timescale (1 ps)'); plt.xlim(-0.5,10.5)"
      ]
    },
    {
      "cell_type": "markdown",
      "metadata": {
        "id": "L6_ZJ7rfhuiv"
      },
      "source": [
        "## PCCA\n",
        "\n",
        "#### Theory\n",
        "- [PCCA: perron-cluster cluster analysis](http://docs.markovmodel.org/lecture_pcca.html)\n",
        "\n",
        "Select a suitable number of metastable states and run PCCA."
      ]
    },
    {
      "cell_type": "code",
      "execution_count": 31,
      "metadata": {
        "id": "xEszrNkthuiv"
      },
      "outputs": [],
      "source": [
        "#Perform PCCA analysis and store data\n",
        "n_clusters = 3\n",
        "M.pcca(n_clusters)\n",
        "pcca_sets = M.metastable_sets\n",
        "centers = cl.clustercenters[M.active_set]\n",
        "cluster_labels = M.metastable_assignments"
      ]
    },
    {
      "cell_type": "markdown",
      "metadata": {
        "id": "tG4zNrLMhuiv"
      },
      "source": [
        "Visualize the PCCA assignments in the free energy landscape defined by the first two TICA coordinates.\n",
        "Hints: A Markov model object has an attribute M.metastable_sets. Also, you need to find out how to access the clustercenters defined in the previous step."
      ]
    },
    {
      "cell_type": "code",
      "execution_count": 32,
      "metadata": {
        "colab": {
          "base_uri": "https://localhost:8080/",
          "height": 368
        },
        "id": "Xs50aH1Mhuiv",
        "outputId": "d77f784a-88ef-487f-ef2e-cd75963be54d"
      },
      "outputs": [
        {
          "output_type": "stream",
          "name": "stderr",
          "text": [
            "*c* argument looks like a single numeric RGB or RGBA sequence, which should be avoided as value-mapping will have precedence in case its length matches with *x* & *y*.  Please use the *color* keyword-argument or provide a 2-D array with a single row if you intend to specify the same RGB or RGBA value for all points.\n",
            "*c* argument looks like a single numeric RGB or RGBA sequence, which should be avoided as value-mapping will have precedence in case its length matches with *x* & *y*.  Please use the *color* keyword-argument or provide a 2-D array with a single row if you intend to specify the same RGB or RGBA value for all points.\n",
            "*c* argument looks like a single numeric RGB or RGBA sequence, which should be avoided as value-mapping will have precedence in case its length matches with *x* & *y*.  Please use the *color* keyword-argument or provide a 2-D array with a single row if you intend to specify the same RGB or RGBA value for all points.\n"
          ]
        },
        {
          "output_type": "execute_result",
          "data": {
            "text/plain": [
              "Text(0, 0.5, 'TIC 2')"
            ]
          },
          "metadata": {},
          "execution_count": 32
        },
        {
          "output_type": "display_data",
          "data": {
            "image/png": "[encoded data removed]",
            "text/plain": [
              "<Figure size 432x288 with 2 Axes>"
            ]
          },
          "metadata": {
            "needs_background": "light"
          }
        }
      ],
      "source": [
        "#Plot PCCA data\n",
        "_, ax = plots.plot_free_energy(np.vstack(Y)[:, 0], np.vstack(Y)[:, 1], nbins=25)\n",
        "pcca_sets = M.metastable_sets\n",
        "\n",
        "cm = plt.get_cmap('gist_rainbow')\n",
        "colors = [cm(1.*i/n_clusters) for i in range(n_clusters)]\n",
        "\n",
        "for i, color in enumerate(colors[:n_clusters]):\n",
        "    ax.scatter(cl.clustercenters[pcca_sets[i],0], cl.clustercenters[pcca_sets[i],1], marker='X', c=color,s=100, edgecolors='k')\n",
        "ax.set_xlabel('TIC 1')\n",
        "ax.set_ylabel('TIC 2')\n",
        "#plt.savefig('4XH_1_c0-tiCA-PCCA.png', dpi=300,bbox_inches='tight')"
      ]
    },
    {
      "cell_type": "markdown",
      "metadata": {
        "id": "Mf0TO2j1huiv"
      },
      "source": [
        "### Extracting the PCCA cluster frames"
      ]
    },
    {
      "cell_type": "code",
      "execution_count": 33,
      "metadata": {
        "colab": {
          "base_uri": "https://localhost:8080/"
        },
        "id": "HMxLEF2ahuiv",
        "outputId": "27c5b512-260c-4a86-d132-18588bb17c4a"
      },
      "outputs": [
        {
          "output_type": "stream",
          "name": "stdout",
          "text": [
            "Storing 100 PCCA samples each to: \n",
            "\t4XH_1_c0-pcca0_samples.dcd\n",
            "\t4XH_1_c0-pcca1_samples.dcd\n",
            "\t4XH_1_c0-pcca2_samples.dcd\n"
          ]
        }
      ],
      "source": [
        "#Extract the assigned trajectory frames from PCCA\n",
        "n_samples = 100\n",
        "pcca_dist = M.metastable_distributions\n",
        "pcca_samples = M.sample_by_distributions(pcca_dist, n_samples)\n",
        "\n",
        "outfiles = ['4XH_1_c0-pcca%s_samples.dcd' % (N) for N in range(n_clusters)]\n",
        "pcca_outfiles = coor.save_trajs(inp, pcca_samples, outfiles=outfiles)\n",
        "print('Storing %s PCCA samples each to: \\n\\t%s' % (n_samples, '\\n\\t'.join(pcca_outfiles)))"
      ]
    },
    {
      "cell_type": "markdown",
      "metadata": {
        "id": "VCzV_2YEhuiw"
      },
      "source": [
        "## Assigning frames to PCCA clusters"
      ]
    },
    {
      "cell_type": "code",
      "execution_count": 34,
      "metadata": {
        "id": "86jeHg8Shuiw"
      },
      "outputs": [],
      "source": [
        "def assignTrajFramesToPCCACenters(tica_coord, pcca_centers, pcca_labels):\n",
        "    \"\"\"\n",
        "    Given the TICA coordinates data for a trajectory, assign data to\n",
        "    the nearest clsuter centers as defined from PCCA.\n",
        "    Parameters:\n",
        "    -----------\n",
        "    tica_coord : numpy array, tica coordinates for the associated trajectory.\n",
        "    pcca_centers : numpy array, contains the coordinates of the cluster centers\n",
        "              from the active set states obtained from PCCA.\n",
        "    pcca_labels : list, cluster assignment of the centers from PCCA.\n",
        "    Returns:\n",
        "    -------\n",
        "    traj_cluster_labels : list of arrays, cluster assignment for each\n",
        "                          trajectory frame where every array is for each trajectory\n",
        "    \"\"\"\n",
        "    assignments = coor.assign_to_centers(tica_coord, pcca_centers)\n",
        "    traj_cluster_labels = []\n",
        "    for a in assignments:\n",
        "        traj_cluster_labels.append(pcca_labels[a])\n",
        "    return traj_cluster_labels"
      ]
    },
    {
      "cell_type": "code",
      "execution_count": 35,
      "metadata": {
        "id": "ujTFZGzUhuix"
      },
      "outputs": [],
      "source": [
        "traj_cluster_labels = assignTrajFramesToPCCACenters(Y, centers, cluster_labels)"
      ]
    },
    {
      "cell_type": "code",
      "execution_count": 36,
      "metadata": {
        "colab": {
          "base_uri": "https://localhost:8080/"
        },
        "id": "q09GFJFZhuix",
        "outputId": "8cff0869-e6b1-4f3c-d3d1-f54b2edfe913"
      },
      "outputs": [
        {
          "output_type": "execute_result",
          "data": {
            "text/plain": [
              "[array([1, 1, 1, 1, 1, 1, 1, 1, 1, 1, 1, 1, 1, 1, 1, 1, 1, 1, 1, 1, 1, 1,\n",
              "        1, 1, 1, 1, 1, 1, 1, 1, 1, 1, 1, 1, 1, 1, 1, 1, 1, 1, 1, 1, 1, 1,\n",
              "        1, 1, 1, 1, 1, 1, 1, 1, 1, 1, 1, 1, 1, 1, 1, 1, 1, 1, 1, 1, 1, 1,\n",
              "        1, 1, 1, 1, 1, 1, 1, 1, 1, 1, 1, 1, 1, 1, 1, 1, 1, 1, 1, 1, 1, 1,\n",
              "        1, 1, 1, 1, 1, 1, 1, 1, 1, 1, 1, 1, 1, 1, 1, 1, 1, 1, 1, 1, 1, 1,\n",
              "        1, 1, 1, 1, 1, 1, 1, 1, 1, 1, 1, 1, 1, 1, 1, 1, 1, 1, 1, 1, 1, 1,\n",
              "        1, 1, 1, 1, 1, 1, 1, 1, 1, 1, 1, 1, 1, 1, 1, 1, 1, 1, 1, 1, 1, 1,\n",
              "        1, 1, 1, 1, 1, 1, 1, 0, 0, 0, 0, 0, 0, 0, 0, 0, 0, 0, 0, 0, 0, 0,\n",
              "        0, 0, 0, 0, 0, 0, 0, 0, 0, 0, 0, 0, 0, 0, 0, 0, 0, 0, 0, 1, 1, 1,\n",
              "        1, 1, 1, 1, 2, 2, 1, 1, 1, 1, 1, 1, 1, 1, 1, 1, 1, 1, 1, 1, 1, 1,\n",
              "        1, 1, 1, 1, 1, 1, 1, 1, 1, 1, 1, 1, 1, 1, 1, 1, 1, 1, 1, 1, 1, 1,\n",
              "        1, 1, 1, 2, 2, 2, 2, 2, 2, 2, 2, 2, 2, 2, 2, 2, 2, 2, 2, 2, 2, 2,\n",
              "        2, 2, 2, 2, 2, 2, 2, 2, 2, 2, 2, 2, 2, 2, 2, 2, 2, 2, 2, 2, 2, 2,\n",
              "        2, 2, 2, 2, 2, 2, 2, 2, 2, 2, 2, 2, 2, 2, 2, 2, 2, 2, 2, 2, 2, 2,\n",
              "        2, 1, 1, 1, 1, 1, 1, 1, 2, 2, 2, 2, 2, 2, 2, 2, 2, 2, 2, 2, 2, 2,\n",
              "        2, 2, 2, 2, 0, 2, 2, 2, 2, 2, 2, 2, 2, 2, 2, 2, 2, 2, 2, 2, 2, 2,\n",
              "        2, 2, 2, 2, 2, 2, 2, 2, 2, 2, 2, 2, 2, 2, 2, 2, 1, 0, 1, 0, 0, 0,\n",
              "        0, 0, 0, 0, 0, 0, 0, 0, 1, 0, 1, 1, 1, 1, 1, 1, 1, 1, 1, 1, 1, 1,\n",
              "        1, 1, 1, 1, 1, 1, 1, 1, 1, 1, 1, 1, 1, 1, 1, 1, 1, 1, 1, 1, 1, 1,\n",
              "        1, 1, 1, 1, 2, 1, 1, 1, 1, 1, 1, 1, 1, 1, 1, 1, 1, 1, 1, 1, 1, 1,\n",
              "        1, 1, 1, 1, 2, 2, 2, 2, 2, 2, 1, 2, 2, 2, 1, 1, 1, 1, 1, 1, 1, 1,\n",
              "        1, 1, 1, 1, 1, 1, 1, 1, 1, 1, 0, 0, 0, 1, 1, 1, 1, 1, 1, 1, 1, 1,\n",
              "        1, 1, 0, 1, 1, 0, 0, 0, 1, 0, 0, 1, 0, 1, 0, 0, 0, 0, 0, 0, 0, 0,\n",
              "        0, 0, 0, 0, 0, 0, 0, 0, 0, 0, 0, 0, 0, 0, 0, 0, 0, 0, 0, 0, 0, 0,\n",
              "        0, 0, 0, 0, 0, 1, 1, 0, 0, 0, 0, 0, 0, 0, 0, 0, 0, 0, 0, 0, 0, 0,\n",
              "        0, 0, 0, 0, 0, 0, 0, 0, 0, 0, 0, 1, 1, 1, 1, 1, 1, 1, 1, 1, 1, 1,\n",
              "        1, 1, 1, 1, 0, 1, 0, 0, 0, 0, 0, 0, 0, 0, 0, 1, 1, 2, 2, 2, 2, 2,\n",
              "        2, 2, 2, 2, 2, 2, 2, 2, 2, 2, 2, 2, 2, 2, 2, 2, 2, 2, 2, 2, 2, 2,\n",
              "        2, 2, 2, 2, 2, 2, 2, 2, 2, 2, 2, 2, 2, 2, 2, 2, 2, 2, 2, 2, 2, 2,\n",
              "        2, 2, 2, 2, 2, 2, 2, 2, 2, 2, 2, 2, 2, 2, 2, 2, 2, 2, 2, 2, 2, 2,\n",
              "        2, 2, 2, 2, 2, 2, 2, 2, 2, 2, 2, 2, 2, 2, 2, 2, 2, 2, 1, 1, 1, 1,\n",
              "        1, 1, 1, 1, 1, 1, 1, 1, 1, 1, 1, 1, 1, 1, 1, 1, 1, 1, 1, 1, 1, 1,\n",
              "        1, 1, 1, 1, 1, 1, 1, 1, 1, 1, 1, 1, 1, 1, 1, 1, 1, 1, 1, 1, 1, 1,\n",
              "        1, 1, 1, 1, 1, 1, 1, 1, 1, 1, 1, 1, 1, 1, 1, 1, 1, 1, 1, 1, 1, 1,\n",
              "        1, 0])]"
            ]
          },
          "metadata": {},
          "execution_count": 36
        }
      ],
      "source": [
        "traj_cluster_labels"
      ]
    },
    {
      "cell_type": "markdown",
      "metadata": {
        "id": "N8fKGxdChuix"
      },
      "source": [
        "# Plotting ligand binding mode sampling with RMSD"
      ]
    },
    {
      "cell_type": "code",
      "execution_count": 37,
      "metadata": {
        "id": "gyPhjsAqhuix"
      },
      "outputs": [],
      "source": [
        "def plotPoseSampling(distances,\n",
        "                     cluster_labels,\n",
        "                     title=\"Binding Mode Frequency\",\n",
        "                     acc_it=[], n_clusters=4,\n",
        "                     cmap='gist_rainbow'):\n",
        "    \"\"\"Function that plots the RMSD of the ligand atoms with each frame/data point colored\n",
        "    according to the cluster assignment.\n",
        "    \n",
        "    Parameters:\n",
        "    - distances : np.array of the desired RMSD to plot\n",
        "    - cluster_labels : list of the cluster assigments of the trajectory frames\n",
        "    \"\"\"\n",
        "    \n",
        "    #Define plot settings\n",
        "    N = len(cluster_labels)\n",
        "    plt.figure(figsize=(12, 8), dpi=300,tight_layout=True)\n",
        "    f, ax = plt.subplots(2)\n",
        "    \n",
        "    #Get the color mappings for the number of clusters\n",
        "    cm = plt.get_cmap(cmap)\n",
        "    colors = [cm(1.*i/n_clusters) for i in range(n_clusters)]\n",
        "\n",
        "    #Compute and plot the % frequency in bar plot\n",
        "    labeled_frames = {n:[] for n in range(n_clusters)}\n",
        "    for i, label in enumerate(cluster_labels):\n",
        "        labeled_frames[label].append(i)\n",
        "    freq = { key:len(val)/N*100 for key,val in labeled_frames.items() }\n",
        "    rect = ax[0].bar(range(len(freq.keys())),freq.values(), align='center', color=colors)\n",
        "    ax[0].set_xlabel(\"Ligand Binding Mode\")\n",
        "    ax[0].set_ylabel(\"% Frequency\")\n",
        "    ax[0].set_xticks([])\n",
        "    \n",
        "    #Generate a list of colors corresponding to the cluster assignment \n",
        "    colr_list = []\n",
        "    for x in cluster_labels:\n",
        "        colr_list.append(colors[x])\n",
        "    \n",
        "    #Convert frame numbers to time\n",
        "    time = [0.2*t for t in range(N)]\n",
        "    \n",
        "    #Lineplot of RMSD relative to initial frame\n",
        "    #Convert distances from nm to angstrom (distances*10.0)\n",
        "    ax[1].plot(time, 10.0*distances, 'k', linewidth=0.25)\n",
        "    #Colored Scatterplot points to state of minimum RMSD\n",
        "    ax[1].scatter(time, 10.0*distances,c=colr_list,clip_on=False,s=25, edgecolors=None)\n",
        "    \n",
        "    #With BLUES, plot the vertical lines to indicate the accepted moves\n",
        "    if acc_it:\n",
        "        for it in acc_it:\n",
        "            ax[1].axvline(x=it, color='k', linestyle='--')\n",
        "            \n",
        "    #Label axis        \n",
        "    ax[1].set_xlabel(\"Time (ns)\")\n",
        "    ax[1].set_ylabel(r\"RMSD $\\AA$\")\n",
        "    ax[1].xaxis.grid(False)\n",
        "    ax[1].yaxis.grid(False, which='major')\n",
        "    plt.autoscale(enable=True, axis='both', tight=True)\n",
        "    ax[0].set_title(title+\" N=%s\" %N)"
      ]
    },
    {
      "cell_type": "code",
      "execution_count": 38,
      "metadata": {
        "id": "QN9vduYrhuix"
      },
      "outputs": [],
      "source": [
        "def rmsdNP(traj, ref, idx):\n",
        "    \"\"\"Compute the RMSD wihtout trajectory alignment\n",
        "    \n",
        "    Parameters:\n",
        "    - traj : mdtraj.Trajectory \n",
        "    - ref  : mdtraj.Trajectory  \n",
        "            reference trajectory to compare `traj` object\n",
        "    - idx  : list of atom inidices\n",
        "    \"\"\"\n",
        "    return np.sqrt(3*np.sum(np.square(traj.xyz[:,idx,:] - ref.xyz[:,idx,:]),\n",
        "                          axis=(1, 2))/idx.shape[0])\n"
      ]
    },
    {
      "cell_type": "code",
      "execution_count": 39,
      "metadata": {
        "id": "1-9LhP4Bhuiy"
      },
      "outputs": [],
      "source": [
        "import mdtraj as md"
      ]
    },
    {
      "cell_type": "code",
      "execution_count": 40,
      "metadata": {
        "colab": {
          "base_uri": "https://localhost:8080/"
        },
        "id": "Or-O5gbFhuiy",
        "outputId": "2172bdea-37a5-4f0f-e903-48d18115808f"
      },
      "outputs": [
        {
          "output_type": "stream",
          "name": "stdout",
          "text": [
            "<mdtraj.Trajectory with 750 frames, 5132 atoms, 323 residues, and unitcells>\n"
          ]
        }
      ],
      "source": [
        "#Create an mdtraj.Trajectory object to extract frames from\n",
        "pdb = md.load(topfile)\n",
        "ctraj = md.load(md_nc,top=pdb.top)\n",
        "print(ctraj)"
      ]
    },
    {
      "cell_type": "code",
      "execution_count": 41,
      "metadata": {
        "id": "sm_T4o4Jhuiy"
      },
      "outputs": [],
      "source": [
        "# Compute the RMSD of the ligand heavy atoms relative to the starting frame\n",
        "md_dist = rmsdNP(ctraj, ctraj[0],ctraj.top.select('resname LIG and not type H'))"
      ]
    },
    {
      "cell_type": "code",
      "execution_count": 42,
      "metadata": {
        "colab": {
          "base_uri": "https://localhost:8080/",
          "height": 312
        },
        "id": "haSe7o5shuiy",
        "outputId": "80a8d17b-c58d-4551-b2b3-947a67f90ff7"
      },
      "outputs": [
        {
          "output_type": "display_data",
          "data": {
            "text/plain": [
              "<Figure size 3600x2400 with 0 Axes>"
            ]
          },
          "metadata": {}
        },
        {
          "output_type": "display_data",
          "data": {
            "image/png": "[encoded data removed]",
            "text/plain": [
              "<Figure size 432x288 with 2 Axes>"
            ]
          },
          "metadata": {
            "needs_background": "light"
          }
        }
      ],
      "source": [
        "# Plot the frequency of sampling of each binding mode\n",
        "plotPoseSampling(md_dist,traj_cluster_labels[0],n_clusters=n_clusters,\n",
        "                 title=\"MD 150ns Binding Mode Frequency\")\n",
        "#plt.savefig('4XH_1-bmodes-freq.png', dpi=300, bbox_inches='tight')"
      ]
    },
    {
      "cell_type": "markdown",
      "metadata": {
        "collapsed": true,
        "id": "oMgdCWxLhuiy"
      },
      "source": [
        "# Acknowledgements\n",
        "\n",
        "Authors: **Nathan M. Lim**\n",
        " - Material adapted from Markov State Modeling workshop at UCSD 2017 hosted by **Frank Noe** and **Rommie Amaro**\n",
        "\n",
        " \n",
        "# References\n",
        "1. Shaw DE, Maragakis P, Lindorff-Larsen K, Piana S, Dror RO, Eastwood MP, Bank JA, Jumper JM, Salmon JK, Shan Y, Wriggers W: Atomic-level characterization of the structural dynamics of proteins. *Science* **330**:341-346 (2010). doi: 10.1126/science.1187409.\n",
        "2. Molgedey, L. and H. G. Schuster, Phys. Rev. Lett. 72, 3634 (1994).\n",
        "3. Pérez-Hernández, G. and Paul, F. and Giogino, T. and de Fabritiis, G. and Noé, F. Identification of slow molecular order parameters for Markov model construction. *J. Chem. Phys.* **139**:015102 (2013)\n",
        "4. Swope WC, Pitera JW and Suits F. Describing protein folding kinetics by molecular dynamics simulations: 1. Theory.  *J. Phys. Chem. B* **108**:6571-6581 (2004)\n",
        "5. Röblitz S. and M. Weber: Fuzzy spectral clustering by PCCA+: application to Markov state models and data classification. Adv. Data. Anal. Classif. DOI 10.1007/s11634-013-0134-6 (2013) \n",
        "6. Noé F, Doose S, Daidone I, Löllmann M, Chodera JD, Sauer M, Smith JC. Dynamical fingerprints for probing individual relaxation processes in biomolecular dynamics with simulations and kinetic experiments. *Proc. Natl. Acad. Sci. USA*, **108**: 4822-4827 (2011)\n",
        "7. Metzner P, Schütte C, Vanden-Eijnden, E. Transition Path Theory for Markov Jump Processes. *Multiscale Model. Simul.* **7**. 1192--1219 (2009)\n",
        "8. Noé F, Schütte C, Vanden-Eijnden E, Reich L and Weikl T. Constructing the Full Ensemble of Folding Pathways from Short Off-Equilibrium Simulations. *Proc. Natl. Acad. Sci. USA*, **106**:19011-19016 (2009)"
      ]
    }
  ],
  "metadata": {
    "anaconda-cloud": {},
    "colab": {
      "collapsed_sections": [],
      "name": "PyEMMA_Ligand_binding_mode_clustering.ipynb",
      "provenance": []
    },
    "kernelspec": {
      "display_name": "Python [conda env:drugcomp] *",
      "language": "python",
      "name": "conda-env-drugcomp-py"
    },
    "language_info": {
      "codemirror_mode": {
        "name": "ipython",
        "version": 3
      },
      "file_extension": ".py",
      "mimetype": "text/x-python",
      "name": "python",
      "nbconvert_exporter": "python",
      "pygments_lexer": "ipython3",
      "version": "3.8.12"
    },
    "toc": {
      "nav_menu": {},
      "number_sections": true,
      "sideBar": true,
      "skip_h1_title": false,
      "toc_cell": false,
      "toc_position": {},
      "toc_section_display": "block",
      "toc_window_display": false
    },
    "widgets": {
      "application/vnd.jupyter.widget-state+json": {
        "12eac87dfa7f4d6daf4bb6a0b1c53d8d": {
          "model_module": "@jupyter-widgets/controls",
          "model_name": "HBoxModel",
          "model_module_version": "1.5.0",
          "state": {
            "_view_name": "HBoxView",
            "_dom_classes": [],
            "_model_name": "HBoxModel",
            "_view_module": "@jupyter-widgets/controls",
            "_model_module_version": "1.5.0",
            "_view_count": null,
            "_view_module_version": "1.5.0",
            "box_style": "",
            "layout": "IPY_MODEL_c39b58cabaf34f54ab7512271d50a065",
            "_model_module": "@jupyter-widgets/controls",
            "children": [
              "IPY_MODEL_30680783583f49dfac3fce1c7f921973",
              "IPY_MODEL_ec27fc56d99b4772aab7e8d6bf4d638c",
              "IPY_MODEL_3f135515027f4699a1c247d0a67f9157"
            ]
          }
        },
        "c39b58cabaf34f54ab7512271d50a065": {
          "model_module": "@jupyter-widgets/base",
          "model_name": "LayoutModel",
          "model_module_version": "1.2.0",
          "state": {
            "_view_name": "LayoutView",
            "grid_template_rows": null,
            "right": null,
            "justify_content": null,
            "_view_module": "@jupyter-widgets/base",
            "overflow": null,
            "_model_module_version": "1.2.0",
            "_view_count": null,
            "flex_flow": "row wrap",
            "width": "100%",
            "min_width": null,
            "border": null,
            "align_items": null,
            "bottom": null,
            "_model_module": "@jupyter-widgets/base",
            "top": null,
            "grid_column": null,
            "overflow_y": null,
            "overflow_x": null,
            "grid_auto_flow": null,
            "grid_area": null,
            "grid_template_columns": null,
            "flex": null,
            "_model_name": "LayoutModel",
            "justify_items": null,
            "grid_row": null,
            "max_height": null,
            "align_content": null,
            "visibility": null,
            "align_self": null,
            "height": null,
            "min_height": null,
            "padding": null,
            "grid_auto_rows": null,
            "grid_gap": null,
            "max_width": null,
            "order": null,
            "_view_module_version": "1.2.0",
            "grid_template_areas": null,
            "object_position": null,
            "object_fit": null,
            "grid_auto_columns": null,
            "margin": null,
            "display": "inline-flex",
            "left": null
          }
        },
        "30680783583f49dfac3fce1c7f921973": {
          "model_module": "@jupyter-widgets/controls",
          "model_name": "HTMLModel",
          "model_module_version": "1.5.0",
          "state": {
            "_view_name": "HTMLView",
            "style": "IPY_MODEL_aeddc71587da47e692fa91cae62e375f",
            "_dom_classes": [],
            "description": "",
            "_model_name": "HTMLModel",
            "placeholder": "​",
            "_view_module": "@jupyter-widgets/controls",
            "_model_module_version": "1.5.0",
            "value": "100%",
            "_view_count": null,
            "_view_module_version": "1.5.0",
            "description_tooltip": null,
            "_model_module": "@jupyter-widgets/controls",
            "layout": "IPY_MODEL_00255cf278c549cd904abf4358b182b8"
          }
        },
        "ec27fc56d99b4772aab7e8d6bf4d638c": {
          "model_module": "@jupyter-widgets/controls",
          "model_name": "FloatProgressModel",
          "model_module_version": "1.5.0",
          "state": {
            "_view_name": "ProgressView",
            "style": "IPY_MODEL_c15777fe05ab4dedb5bfeb3b19e15166",
            "_dom_classes": [],
            "description": "",
            "_model_name": "FloatProgressModel",
            "bar_style": "",
            "max": 27,
            "_view_module": "@jupyter-widgets/controls",
            "_model_module_version": "1.5.0",
            "value": 27,
            "_view_count": null,
            "_view_module_version": "1.5.0",
            "orientation": "horizontal",
            "min": 0,
            "description_tooltip": null,
            "_model_module": "@jupyter-widgets/controls",
            "layout": "IPY_MODEL_54ee9fb171a94cb5bee04716ebd801ab"
          }
        },
        "3f135515027f4699a1c247d0a67f9157": {
          "model_module": "@jupyter-widgets/controls",
          "model_name": "HTMLModel",
          "model_module_version": "1.5.0",
          "state": {
            "_view_name": "HTMLView",
            "style": "IPY_MODEL_23b1cc84e4454a3895b8ca9922be0a43",
            "_dom_classes": [],
            "description": "",
            "_model_name": "HTMLModel",
            "placeholder": "​",
            "_view_module": "@jupyter-widgets/controls",
            "_model_module_version": "1.5.0",
            "value": " 27/27 [00:00&lt;00:00,  8.77it/s]",
            "_view_count": null,
            "_view_module_version": "1.5.0",
            "description_tooltip": null,
            "_model_module": "@jupyter-widgets/controls",
            "layout": "IPY_MODEL_26d5dc84664d49fcb953f8742fcde39c"
          }
        },
        "aeddc71587da47e692fa91cae62e375f": {
          "model_module": "@jupyter-widgets/controls",
          "model_name": "DescriptionStyleModel",
          "model_module_version": "1.5.0",
          "state": {
            "_view_name": "StyleView",
            "_model_name": "DescriptionStyleModel",
            "description_width": "",
            "_view_module": "@jupyter-widgets/base",
            "_model_module_version": "1.5.0",
            "_view_count": null,
            "_view_module_version": "1.2.0",
            "_model_module": "@jupyter-widgets/controls"
          }
        },
        "00255cf278c549cd904abf4358b182b8": {
          "model_module": "@jupyter-widgets/base",
          "model_name": "LayoutModel",
          "model_module_version": "1.2.0",
          "state": {
            "_view_name": "LayoutView",
            "grid_template_rows": null,
            "right": null,
            "justify_content": null,
            "_view_module": "@jupyter-widgets/base",
            "overflow": null,
            "_model_module_version": "1.2.0",
            "_view_count": null,
            "flex_flow": null,
            "width": null,
            "min_width": null,
            "border": null,
            "align_items": null,
            "bottom": null,
            "_model_module": "@jupyter-widgets/base",
            "top": null,
            "grid_column": null,
            "overflow_y": null,
            "overflow_x": null,
            "grid_auto_flow": null,
            "grid_area": null,
            "grid_template_columns": null,
            "flex": null,
            "_model_name": "LayoutModel",
            "justify_items": null,
            "grid_row": null,
            "max_height": null,
            "align_content": null,
            "visibility": null,
            "align_self": null,
            "height": null,
            "min_height": null,
            "padding": null,
            "grid_auto_rows": null,
            "grid_gap": null,
            "max_width": null,
            "order": null,
            "_view_module_version": "1.2.0",
            "grid_template_areas": null,
            "object_position": null,
            "object_fit": null,
            "grid_auto_columns": null,
            "margin": null,
            "display": null,
            "left": null
          }
        },
        "c15777fe05ab4dedb5bfeb3b19e15166": {
          "model_module": "@jupyter-widgets/controls",
          "model_name": "ProgressStyleModel",
          "model_module_version": "1.5.0",
          "state": {
            "_view_name": "StyleView",
            "_model_name": "ProgressStyleModel",
            "description_width": "",
            "_view_module": "@jupyter-widgets/base",
            "_model_module_version": "1.5.0",
            "_view_count": null,
            "_view_module_version": "1.2.0",
            "bar_color": null,
            "_model_module": "@jupyter-widgets/controls"
          }
        },
        "54ee9fb171a94cb5bee04716ebd801ab": {
          "model_module": "@jupyter-widgets/base",
          "model_name": "LayoutModel",
          "model_module_version": "1.2.0",
          "state": {
            "_view_name": "LayoutView",
            "grid_template_rows": null,
            "right": null,
            "justify_content": null,
            "_view_module": "@jupyter-widgets/base",
            "overflow": null,
            "_model_module_version": "1.2.0",
            "_view_count": null,
            "flex_flow": null,
            "width": null,
            "min_width": null,
            "border": null,
            "align_items": null,
            "bottom": null,
            "_model_module": "@jupyter-widgets/base",
            "top": null,
            "grid_column": null,
            "overflow_y": null,
            "overflow_x": null,
            "grid_auto_flow": null,
            "grid_area": null,
            "grid_template_columns": null,
            "flex": "2",
            "_model_name": "LayoutModel",
            "justify_items": null,
            "grid_row": null,
            "max_height": null,
            "align_content": null,
            "visibility": null,
            "align_self": null,
            "height": null,
            "min_height": null,
            "padding": null,
            "grid_auto_rows": null,
            "grid_gap": null,
            "max_width": null,
            "order": null,
            "_view_module_version": "1.2.0",
            "grid_template_areas": null,
            "object_position": null,
            "object_fit": null,
            "grid_auto_columns": null,
            "margin": null,
            "display": null,
            "left": null
          }
        },
        "23b1cc84e4454a3895b8ca9922be0a43": {
          "model_module": "@jupyter-widgets/controls",
          "model_name": "DescriptionStyleModel",
          "model_module_version": "1.5.0",
          "state": {
            "_view_name": "StyleView",
            "_model_name": "DescriptionStyleModel",
            "description_width": "",
            "_view_module": "@jupyter-widgets/base",
            "_model_module_version": "1.5.0",
            "_view_count": null,
            "_view_module_version": "1.2.0",
            "_model_module": "@jupyter-widgets/controls"
          }
        },
        "26d5dc84664d49fcb953f8742fcde39c": {
          "model_module": "@jupyter-widgets/base",
          "model_name": "LayoutModel",
          "model_module_version": "1.2.0",
          "state": {
            "_view_name": "LayoutView",
            "grid_template_rows": null,
            "right": null,
            "justify_content": null,
            "_view_module": "@jupyter-widgets/base",
            "overflow": null,
            "_model_module_version": "1.2.0",
            "_view_count": null,
            "flex_flow": null,
            "width": null,
            "min_width": null,
            "border": null,
            "align_items": null,
            "bottom": null,
            "_model_module": "@jupyter-widgets/base",
            "top": null,
            "grid_column": null,
            "overflow_y": null,
            "overflow_x": null,
            "grid_auto_flow": null,
            "grid_area": null,
            "grid_template_columns": null,
            "flex": null,
            "_model_name": "LayoutModel",
            "justify_items": null,
            "grid_row": null,
            "max_height": null,
            "align_content": null,
            "visibility": null,
            "align_self": null,
            "height": null,
            "min_height": null,
            "padding": null,
            "grid_auto_rows": null,
            "grid_gap": null,
            "max_width": null,
            "order": null,
            "_view_module_version": "1.2.0",
            "grid_template_areas": null,
            "object_position": null,
            "object_fit": null,
            "grid_auto_columns": null,
            "margin": null,
            "display": null,
            "left": null
          }
        },
        "6929c673d0384b3a874175ca41105281": {
          "model_module": "@jupyter-widgets/controls",
          "model_name": "HBoxModel",
          "model_module_version": "1.5.0",
          "state": {
            "_view_name": "HBoxView",
            "_dom_classes": [],
            "_model_name": "HBoxModel",
            "_view_module": "@jupyter-widgets/controls",
            "_model_module_version": "1.5.0",
            "_view_count": null,
            "_view_module_version": "1.5.0",
            "box_style": "",
            "layout": "IPY_MODEL_6033fd93fe9c461d89f121278ce8552e",
            "_model_module": "@jupyter-widgets/controls",
            "children": [
              "IPY_MODEL_36499e52c5be47fe888aaf1ed6f9738d",
              "IPY_MODEL_3eaa23007b60461e83c84ff50fd11ab0",
              "IPY_MODEL_114659aa609444188cee25dc014f3117"
            ]
          }
        },
        "6033fd93fe9c461d89f121278ce8552e": {
          "model_module": "@jupyter-widgets/base",
          "model_name": "LayoutModel",
          "model_module_version": "1.2.0",
          "state": {
            "_view_name": "LayoutView",
            "grid_template_rows": null,
            "right": null,
            "justify_content": null,
            "_view_module": "@jupyter-widgets/base",
            "overflow": null,
            "_model_module_version": "1.2.0",
            "_view_count": null,
            "flex_flow": "row wrap",
            "width": "100%",
            "min_width": null,
            "border": null,
            "align_items": null,
            "bottom": null,
            "_model_module": "@jupyter-widgets/base",
            "top": null,
            "grid_column": null,
            "overflow_y": null,
            "overflow_x": null,
            "grid_auto_flow": null,
            "grid_area": null,
            "grid_template_columns": null,
            "flex": null,
            "_model_name": "LayoutModel",
            "justify_items": null,
            "grid_row": null,
            "max_height": null,
            "align_content": null,
            "visibility": null,
            "align_self": null,
            "height": null,
            "min_height": null,
            "padding": null,
            "grid_auto_rows": null,
            "grid_gap": null,
            "max_width": null,
            "order": null,
            "_view_module_version": "1.2.0",
            "grid_template_areas": null,
            "object_position": null,
            "object_fit": null,
            "grid_auto_columns": null,
            "margin": null,
            "display": "inline-flex",
            "left": null
          }
        },
        "36499e52c5be47fe888aaf1ed6f9738d": {
          "model_module": "@jupyter-widgets/controls",
          "model_name": "HTMLModel",
          "model_module_version": "1.5.0",
          "state": {
            "_view_name": "HTMLView",
            "style": "IPY_MODEL_dd9bb43747bb4e9d86ea0fe37dae8fa8",
            "_dom_classes": [],
            "description": "",
            "_model_name": "HTMLModel",
            "placeholder": "​",
            "_view_module": "@jupyter-widgets/controls",
            "_model_module_version": "1.5.0",
            "value": "100%",
            "_view_count": null,
            "_view_module_version": "1.5.0",
            "description_tooltip": null,
            "_model_module": "@jupyter-widgets/controls",
            "layout": "IPY_MODEL_c63fe38e8ea644f8a4868952015c3065"
          }
        },
        "3eaa23007b60461e83c84ff50fd11ab0": {
          "model_module": "@jupyter-widgets/controls",
          "model_name": "FloatProgressModel",
          "model_module_version": "1.5.0",
          "state": {
            "_view_name": "ProgressView",
            "style": "IPY_MODEL_b4f2cc3edced4cdba7abed2afef7a06a",
            "_dom_classes": [],
            "description": "",
            "_model_name": "FloatProgressModel",
            "bar_style": "",
            "max": 100,
            "_view_module": "@jupyter-widgets/controls",
            "_model_module_version": "1.5.0",
            "value": 100,
            "_view_count": null,
            "_view_module_version": "1.5.0",
            "orientation": "horizontal",
            "min": 0,
            "description_tooltip": null,
            "_model_module": "@jupyter-widgets/controls",
            "layout": "IPY_MODEL_54250664e6db440088db1131eb9ff677"
          }
        },
        "114659aa609444188cee25dc014f3117": {
          "model_module": "@jupyter-widgets/controls",
          "model_name": "HTMLModel",
          "model_module_version": "1.5.0",
          "state": {
            "_view_name": "HTMLView",
            "style": "IPY_MODEL_646c7a54bbe441d08376df397f590707",
            "_dom_classes": [],
            "description": "",
            "_model_name": "HTMLModel",
            "placeholder": "​",
            "_view_module": "@jupyter-widgets/controls",
            "_model_module_version": "1.5.0",
            "value": " 100/100 [00:00&lt;00:00, 1016.84it/s]",
            "_view_count": null,
            "_view_module_version": "1.5.0",
            "description_tooltip": null,
            "_model_module": "@jupyter-widgets/controls",
            "layout": "IPY_MODEL_0f4f91c4c0a243919210445a7ca1fb48"
          }
        },
        "dd9bb43747bb4e9d86ea0fe37dae8fa8": {
          "model_module": "@jupyter-widgets/controls",
          "model_name": "DescriptionStyleModel",
          "model_module_version": "1.5.0",
          "state": {
            "_view_name": "StyleView",
            "_model_name": "DescriptionStyleModel",
            "description_width": "",
            "_view_module": "@jupyter-widgets/base",
            "_model_module_version": "1.5.0",
            "_view_count": null,
            "_view_module_version": "1.2.0",
            "_model_module": "@jupyter-widgets/controls"
          }
        },
        "c63fe38e8ea644f8a4868952015c3065": {
          "model_module": "@jupyter-widgets/base",
          "model_name": "LayoutModel",
          "model_module_version": "1.2.0",
          "state": {
            "_view_name": "LayoutView",
            "grid_template_rows": null,
            "right": null,
            "justify_content": null,
            "_view_module": "@jupyter-widgets/base",
            "overflow": null,
            "_model_module_version": "1.2.0",
            "_view_count": null,
            "flex_flow": null,
            "width": null,
            "min_width": null,
            "border": null,
            "align_items": null,
            "bottom": null,
            "_model_module": "@jupyter-widgets/base",
            "top": null,
            "grid_column": null,
            "overflow_y": null,
            "overflow_x": null,
            "grid_auto_flow": null,
            "grid_area": null,
            "grid_template_columns": null,
            "flex": null,
            "_model_name": "LayoutModel",
            "justify_items": null,
            "grid_row": null,
            "max_height": null,
            "align_content": null,
            "visibility": null,
            "align_self": null,
            "height": null,
            "min_height": null,
            "padding": null,
            "grid_auto_rows": null,
            "grid_gap": null,
            "max_width": null,
            "order": null,
            "_view_module_version": "1.2.0",
            "grid_template_areas": null,
            "object_position": null,
            "object_fit": null,
            "grid_auto_columns": null,
            "margin": null,
            "display": null,
            "left": null
          }
        },
        "b4f2cc3edced4cdba7abed2afef7a06a": {
          "model_module": "@jupyter-widgets/controls",
          "model_name": "ProgressStyleModel",
          "model_module_version": "1.5.0",
          "state": {
            "_view_name": "StyleView",
            "_model_name": "ProgressStyleModel",
            "description_width": "",
            "_view_module": "@jupyter-widgets/base",
            "_model_module_version": "1.5.0",
            "_view_count": null,
            "_view_module_version": "1.2.0",
            "bar_color": null,
            "_model_module": "@jupyter-widgets/controls"
          }
        },
        "54250664e6db440088db1131eb9ff677": {
          "model_module": "@jupyter-widgets/base",
          "model_name": "LayoutModel",
          "model_module_version": "1.2.0",
          "state": {
            "_view_name": "LayoutView",
            "grid_template_rows": null,
            "right": null,
            "justify_content": null,
            "_view_module": "@jupyter-widgets/base",
            "overflow": null,
            "_model_module_version": "1.2.0",
            "_view_count": null,
            "flex_flow": null,
            "width": null,
            "min_width": null,
            "border": null,
            "align_items": null,
            "bottom": null,
            "_model_module": "@jupyter-widgets/base",
            "top": null,
            "grid_column": null,
            "overflow_y": null,
            "overflow_x": null,
            "grid_auto_flow": null,
            "grid_area": null,
            "grid_template_columns": null,
            "flex": "2",
            "_model_name": "LayoutModel",
            "justify_items": null,
            "grid_row": null,
            "max_height": null,
            "align_content": null,
            "visibility": null,
            "align_self": null,
            "height": null,
            "min_height": null,
            "padding": null,
            "grid_auto_rows": null,
            "grid_gap": null,
            "max_width": null,
            "order": null,
            "_view_module_version": "1.2.0",
            "grid_template_areas": null,
            "object_position": null,
            "object_fit": null,
            "grid_auto_columns": null,
            "margin": null,
            "display": null,
            "left": null
          }
        },
        "646c7a54bbe441d08376df397f590707": {
          "model_module": "@jupyter-widgets/controls",
          "model_name": "DescriptionStyleModel",
          "model_module_version": "1.5.0",
          "state": {
            "_view_name": "StyleView",
            "_model_name": "DescriptionStyleModel",
            "description_width": "",
            "_view_module": "@jupyter-widgets/base",
            "_model_module_version": "1.5.0",
            "_view_count": null,
            "_view_module_version": "1.2.0",
            "_model_module": "@jupyter-widgets/controls"
          }
        },
        "0f4f91c4c0a243919210445a7ca1fb48": {
          "model_module": "@jupyter-widgets/base",
          "model_name": "LayoutModel",
          "model_module_version": "1.2.0",
          "state": {
            "_view_name": "LayoutView",
            "grid_template_rows": null,
            "right": null,
            "justify_content": null,
            "_view_module": "@jupyter-widgets/base",
            "overflow": null,
            "_model_module_version": "1.2.0",
            "_view_count": null,
            "flex_flow": null,
            "width": null,
            "min_width": null,
            "border": null,
            "align_items": null,
            "bottom": null,
            "_model_module": "@jupyter-widgets/base",
            "top": null,
            "grid_column": null,
            "overflow_y": null,
            "overflow_x": null,
            "grid_auto_flow": null,
            "grid_area": null,
            "grid_template_columns": null,
            "flex": null,
            "_model_name": "LayoutModel",
            "justify_items": null,
            "grid_row": null,
            "max_height": null,
            "align_content": null,
            "visibility": null,
            "align_self": null,
            "height": null,
            "min_height": null,
            "padding": null,
            "grid_auto_rows": null,
            "grid_gap": null,
            "max_width": null,
            "order": null,
            "_view_module_version": "1.2.0",
            "grid_template_areas": null,
            "object_position": null,
            "object_fit": null,
            "grid_auto_columns": null,
            "margin": null,
            "display": null,
            "left": null
          }
        },
        "5be9ed46b5b145a98acd679fbfdde0cb": {
          "model_module": "@jupyter-widgets/controls",
          "model_name": "HBoxModel",
          "model_module_version": "1.5.0",
          "state": {
            "_view_name": "HBoxView",
            "_dom_classes": [],
            "_model_name": "HBoxModel",
            "_view_module": "@jupyter-widgets/controls",
            "_model_module_version": "1.5.0",
            "_view_count": null,
            "_view_module_version": "1.5.0",
            "box_style": "",
            "layout": "IPY_MODEL_f3cf80888f5d467eb8a62e5b3a1888f9",
            "_model_module": "@jupyter-widgets/controls",
            "children": [
              "IPY_MODEL_12f1b32c5a4b4f3ba5c91b4acf5b5945",
              "IPY_MODEL_588bd025bdc6424091be44525b5aa7ca",
              "IPY_MODEL_599ff3abeb9d462ab9dd22a0f229d544"
            ]
          }
        },
        "f3cf80888f5d467eb8a62e5b3a1888f9": {
          "model_module": "@jupyter-widgets/base",
          "model_name": "LayoutModel",
          "model_module_version": "1.2.0",
          "state": {
            "_view_name": "LayoutView",
            "grid_template_rows": null,
            "right": null,
            "justify_content": null,
            "_view_module": "@jupyter-widgets/base",
            "overflow": null,
            "_model_module_version": "1.2.0",
            "_view_count": null,
            "flex_flow": "row wrap",
            "width": "100%",
            "min_width": null,
            "border": null,
            "align_items": null,
            "bottom": null,
            "_model_module": "@jupyter-widgets/base",
            "top": null,
            "grid_column": null,
            "overflow_y": null,
            "overflow_x": null,
            "grid_auto_flow": null,
            "grid_area": null,
            "grid_template_columns": null,
            "flex": null,
            "_model_name": "LayoutModel",
            "justify_items": null,
            "grid_row": null,
            "max_height": null,
            "align_content": null,
            "visibility": null,
            "align_self": null,
            "height": null,
            "min_height": null,
            "padding": null,
            "grid_auto_rows": null,
            "grid_gap": null,
            "max_width": null,
            "order": null,
            "_view_module_version": "1.2.0",
            "grid_template_areas": null,
            "object_position": null,
            "object_fit": null,
            "grid_auto_columns": null,
            "margin": null,
            "display": "inline-flex",
            "left": null
          }
        },
        "12f1b32c5a4b4f3ba5c91b4acf5b5945": {
          "model_module": "@jupyter-widgets/controls",
          "model_name": "HTMLModel",
          "model_module_version": "1.5.0",
          "state": {
            "_view_name": "HTMLView",
            "style": "IPY_MODEL_5b80d33d778e4d108cae4641aa658649",
            "_dom_classes": [],
            "description": "",
            "_model_name": "HTMLModel",
            "placeholder": "​",
            "_view_module": "@jupyter-widgets/controls",
            "_model_module_version": "1.5.0",
            "value": "100%",
            "_view_count": null,
            "_view_module_version": "1.5.0",
            "description_tooltip": null,
            "_model_module": "@jupyter-widgets/controls",
            "layout": "IPY_MODEL_dfd1f458ee0b46df846312fa5f401113"
          }
        },
        "588bd025bdc6424091be44525b5aa7ca": {
          "model_module": "@jupyter-widgets/controls",
          "model_name": "FloatProgressModel",
          "model_module_version": "1.5.0",
          "state": {
            "_view_name": "ProgressView",
            "style": "IPY_MODEL_e0e9a1f02cd9484a9cab2133fce6bcb4",
            "_dom_classes": [],
            "description": "",
            "_model_name": "FloatProgressModel",
            "bar_style": "",
            "max": 5,
            "_view_module": "@jupyter-widgets/controls",
            "_model_module_version": "1.5.0",
            "value": 5,
            "_view_count": null,
            "_view_module_version": "1.5.0",
            "orientation": "horizontal",
            "min": 0,
            "description_tooltip": null,
            "_model_module": "@jupyter-widgets/controls",
            "layout": "IPY_MODEL_6bd4cf257c864785a356fe27436a4aa9"
          }
        },
        "599ff3abeb9d462ab9dd22a0f229d544": {
          "model_module": "@jupyter-widgets/controls",
          "model_name": "HTMLModel",
          "model_module_version": "1.5.0",
          "state": {
            "_view_name": "HTMLView",
            "style": "IPY_MODEL_723f1685c13049deb8b9f2edd437b4ee",
            "_dom_classes": [],
            "description": "",
            "_model_name": "HTMLModel",
            "placeholder": "​",
            "_view_module": "@jupyter-widgets/controls",
            "_model_module_version": "1.5.0",
            "value": " 5/5 [00:00&lt;00:00,  4.62it/s]",
            "_view_count": null,
            "_view_module_version": "1.5.0",
            "description_tooltip": null,
            "_model_module": "@jupyter-widgets/controls",
            "layout": "IPY_MODEL_e88b639b312149a6872cc722e998ae3f"
          }
        },
        "5b80d33d778e4d108cae4641aa658649": {
          "model_module": "@jupyter-widgets/controls",
          "model_name": "DescriptionStyleModel",
          "model_module_version": "1.5.0",
          "state": {
            "_view_name": "StyleView",
            "_model_name": "DescriptionStyleModel",
            "description_width": "",
            "_view_module": "@jupyter-widgets/base",
            "_model_module_version": "1.5.0",
            "_view_count": null,
            "_view_module_version": "1.2.0",
            "_model_module": "@jupyter-widgets/controls"
          }
        },
        "dfd1f458ee0b46df846312fa5f401113": {
          "model_module": "@jupyter-widgets/base",
          "model_name": "LayoutModel",
          "model_module_version": "1.2.0",
          "state": {
            "_view_name": "LayoutView",
            "grid_template_rows": null,
            "right": null,
            "justify_content": null,
            "_view_module": "@jupyter-widgets/base",
            "overflow": null,
            "_model_module_version": "1.2.0",
            "_view_count": null,
            "flex_flow": null,
            "width": null,
            "min_width": null,
            "border": null,
            "align_items": null,
            "bottom": null,
            "_model_module": "@jupyter-widgets/base",
            "top": null,
            "grid_column": null,
            "overflow_y": null,
            "overflow_x": null,
            "grid_auto_flow": null,
            "grid_area": null,
            "grid_template_columns": null,
            "flex": null,
            "_model_name": "LayoutModel",
            "justify_items": null,
            "grid_row": null,
            "max_height": null,
            "align_content": null,
            "visibility": null,
            "align_self": null,
            "height": null,
            "min_height": null,
            "padding": null,
            "grid_auto_rows": null,
            "grid_gap": null,
            "max_width": null,
            "order": null,
            "_view_module_version": "1.2.0",
            "grid_template_areas": null,
            "object_position": null,
            "object_fit": null,
            "grid_auto_columns": null,
            "margin": null,
            "display": null,
            "left": null
          }
        },
        "e0e9a1f02cd9484a9cab2133fce6bcb4": {
          "model_module": "@jupyter-widgets/controls",
          "model_name": "ProgressStyleModel",
          "model_module_version": "1.5.0",
          "state": {
            "_view_name": "StyleView",
            "_model_name": "ProgressStyleModel",
            "description_width": "",
            "_view_module": "@jupyter-widgets/base",
            "_model_module_version": "1.5.0",
            "_view_count": null,
            "_view_module_version": "1.2.0",
            "bar_color": null,
            "_model_module": "@jupyter-widgets/controls"
          }
        },
        "6bd4cf257c864785a356fe27436a4aa9": {
          "model_module": "@jupyter-widgets/base",
          "model_name": "LayoutModel",
          "model_module_version": "1.2.0",
          "state": {
            "_view_name": "LayoutView",
            "grid_template_rows": null,
            "right": null,
            "justify_content": null,
            "_view_module": "@jupyter-widgets/base",
            "overflow": null,
            "_model_module_version": "1.2.0",
            "_view_count": null,
            "flex_flow": null,
            "width": null,
            "min_width": null,
            "border": null,
            "align_items": null,
            "bottom": null,
            "_model_module": "@jupyter-widgets/base",
            "top": null,
            "grid_column": null,
            "overflow_y": null,
            "overflow_x": null,
            "grid_auto_flow": null,
            "grid_area": null,
            "grid_template_columns": null,
            "flex": "2",
            "_model_name": "LayoutModel",
            "justify_items": null,
            "grid_row": null,
            "max_height": null,
            "align_content": null,
            "visibility": null,
            "align_self": null,
            "height": null,
            "min_height": null,
            "padding": null,
            "grid_auto_rows": null,
            "grid_gap": null,
            "max_width": null,
            "order": null,
            "_view_module_version": "1.2.0",
            "grid_template_areas": null,
            "object_position": null,
            "object_fit": null,
            "grid_auto_columns": null,
            "margin": null,
            "display": null,
            "left": null
          }
        },
        "723f1685c13049deb8b9f2edd437b4ee": {
          "model_module": "@jupyter-widgets/controls",
          "model_name": "DescriptionStyleModel",
          "model_module_version": "1.5.0",
          "state": {
            "_view_name": "StyleView",
            "_model_name": "DescriptionStyleModel",
            "description_width": "",
            "_view_module": "@jupyter-widgets/base",
            "_model_module_version": "1.5.0",
            "_view_count": null,
            "_view_module_version": "1.2.0",
            "_model_module": "@jupyter-widgets/controls"
          }
        },
        "e88b639b312149a6872cc722e998ae3f": {
          "model_module": "@jupyter-widgets/base",
          "model_name": "LayoutModel",
          "model_module_version": "1.2.0",
          "state": {
            "_view_name": "LayoutView",
            "grid_template_rows": null,
            "right": null,
            "justify_content": null,
            "_view_module": "@jupyter-widgets/base",
            "overflow": null,
            "_model_module_version": "1.2.0",
            "_view_count": null,
            "flex_flow": null,
            "width": null,
            "min_width": null,
            "border": null,
            "align_items": null,
            "bottom": null,
            "_model_module": "@jupyter-widgets/base",
            "top": null,
            "grid_column": null,
            "overflow_y": null,
            "overflow_x": null,
            "grid_auto_flow": null,
            "grid_area": null,
            "grid_template_columns": null,
            "flex": null,
            "_model_name": "LayoutModel",
            "justify_items": null,
            "grid_row": null,
            "max_height": null,
            "align_content": null,
            "visibility": null,
            "align_self": null,
            "height": null,
            "min_height": null,
            "padding": null,
            "grid_auto_rows": null,
            "grid_gap": null,
            "max_width": null,
            "order": null,
            "_view_module_version": "1.2.0",
            "grid_template_areas": null,
            "object_position": null,
            "object_fit": null,
            "grid_auto_columns": null,
            "margin": null,
            "display": null,
            "left": null
          }
        },
        "6aded41370eb449aa6d463d3614d5ec3": {
          "model_module": "@jupyter-widgets/controls",
          "model_name": "HBoxModel",
          "model_module_version": "1.5.0",
          "state": {
            "_view_name": "HBoxView",
            "_dom_classes": [],
            "_model_name": "HBoxModel",
            "_view_module": "@jupyter-widgets/controls",
            "_model_module_version": "1.5.0",
            "_view_count": null,
            "_view_module_version": "1.5.0",
            "box_style": "",
            "layout": "IPY_MODEL_a23e29680270473a85f181af6f3fab65",
            "_model_module": "@jupyter-widgets/controls",
            "children": [
              "IPY_MODEL_ddaa7a9c17514568852e9574929a1f2d",
              "IPY_MODEL_bb084f436b7445f7bfe407eef748a396",
              "IPY_MODEL_20def4a4e0e347bda5abf3eff88dd374"
            ]
          }
        },
        "a23e29680270473a85f181af6f3fab65": {
          "model_module": "@jupyter-widgets/base",
          "model_name": "LayoutModel",
          "model_module_version": "1.2.0",
          "state": {
            "_view_name": "LayoutView",
            "grid_template_rows": null,
            "right": null,
            "justify_content": null,
            "_view_module": "@jupyter-widgets/base",
            "overflow": null,
            "_model_module_version": "1.2.0",
            "_view_count": null,
            "flex_flow": "row wrap",
            "width": "100%",
            "min_width": null,
            "border": null,
            "align_items": null,
            "bottom": null,
            "_model_module": "@jupyter-widgets/base",
            "top": null,
            "grid_column": null,
            "overflow_y": null,
            "overflow_x": null,
            "grid_auto_flow": null,
            "grid_area": null,
            "grid_template_columns": null,
            "flex": null,
            "_model_name": "LayoutModel",
            "justify_items": null,
            "grid_row": null,
            "max_height": null,
            "align_content": null,
            "visibility": null,
            "align_self": null,
            "height": null,
            "min_height": null,
            "padding": null,
            "grid_auto_rows": null,
            "grid_gap": null,
            "max_width": null,
            "order": null,
            "_view_module_version": "1.2.0",
            "grid_template_areas": null,
            "object_position": null,
            "object_fit": null,
            "grid_auto_columns": null,
            "margin": null,
            "display": "inline-flex",
            "left": null
          }
        },
        "ddaa7a9c17514568852e9574929a1f2d": {
          "model_module": "@jupyter-widgets/controls",
          "model_name": "HTMLModel",
          "model_module_version": "1.5.0",
          "state": {
            "_view_name": "HTMLView",
            "style": "IPY_MODEL_4e22091f03944164a0c0f981f66387e0",
            "_dom_classes": [],
            "description": "",
            "_model_name": "HTMLModel",
            "placeholder": "​",
            "_view_module": "@jupyter-widgets/controls",
            "_model_module_version": "1.5.0",
            "value": "100%",
            "_view_count": null,
            "_view_module_version": "1.5.0",
            "description_tooltip": null,
            "_model_module": "@jupyter-widgets/controls",
            "layout": "IPY_MODEL_2a98876ebcef401daccdc51ac1289b5c"
          }
        },
        "bb084f436b7445f7bfe407eef748a396": {
          "model_module": "@jupyter-widgets/controls",
          "model_name": "FloatProgressModel",
          "model_module_version": "1.5.0",
          "state": {
            "_view_name": "ProgressView",
            "style": "IPY_MODEL_96c456c8ccf34594b78fca8079a790e3",
            "_dom_classes": [],
            "description": "",
            "_model_name": "FloatProgressModel",
            "bar_style": "",
            "max": 5,
            "_view_module": "@jupyter-widgets/controls",
            "_model_module_version": "1.5.0",
            "value": 5,
            "_view_count": null,
            "_view_module_version": "1.5.0",
            "orientation": "horizontal",
            "min": 0,
            "description_tooltip": null,
            "_model_module": "@jupyter-widgets/controls",
            "layout": "IPY_MODEL_ac619431427e4fc0b74268c463ca73b6"
          }
        },
        "20def4a4e0e347bda5abf3eff88dd374": {
          "model_module": "@jupyter-widgets/controls",
          "model_name": "HTMLModel",
          "model_module_version": "1.5.0",
          "state": {
            "_view_name": "HTMLView",
            "style": "IPY_MODEL_4c8f73fa0fa348cda24f1394716f7155",
            "_dom_classes": [],
            "description": "",
            "_model_name": "HTMLModel",
            "placeholder": "​",
            "_view_module": "@jupyter-widgets/controls",
            "_model_module_version": "1.5.0",
            "value": " 5/5 [00:01&lt;00:00,  4.70it/s]",
            "_view_count": null,
            "_view_module_version": "1.5.0",
            "description_tooltip": null,
            "_model_module": "@jupyter-widgets/controls",
            "layout": "IPY_MODEL_eee6309694534e6a9284145b4ccd3250"
          }
        },
        "4e22091f03944164a0c0f981f66387e0": {
          "model_module": "@jupyter-widgets/controls",
          "model_name": "DescriptionStyleModel",
          "model_module_version": "1.5.0",
          "state": {
            "_view_name": "StyleView",
            "_model_name": "DescriptionStyleModel",
            "description_width": "",
            "_view_module": "@jupyter-widgets/base",
            "_model_module_version": "1.5.0",
            "_view_count": null,
            "_view_module_version": "1.2.0",
            "_model_module": "@jupyter-widgets/controls"
          }
        },
        "2a98876ebcef401daccdc51ac1289b5c": {
          "model_module": "@jupyter-widgets/base",
          "model_name": "LayoutModel",
          "model_module_version": "1.2.0",
          "state": {
            "_view_name": "LayoutView",
            "grid_template_rows": null,
            "right": null,
            "justify_content": null,
            "_view_module": "@jupyter-widgets/base",
            "overflow": null,
            "_model_module_version": "1.2.0",
            "_view_count": null,
            "flex_flow": null,
            "width": null,
            "min_width": null,
            "border": null,
            "align_items": null,
            "bottom": null,
            "_model_module": "@jupyter-widgets/base",
            "top": null,
            "grid_column": null,
            "overflow_y": null,
            "overflow_x": null,
            "grid_auto_flow": null,
            "grid_area": null,
            "grid_template_columns": null,
            "flex": null,
            "_model_name": "LayoutModel",
            "justify_items": null,
            "grid_row": null,
            "max_height": null,
            "align_content": null,
            "visibility": null,
            "align_self": null,
            "height": null,
            "min_height": null,
            "padding": null,
            "grid_auto_rows": null,
            "grid_gap": null,
            "max_width": null,
            "order": null,
            "_view_module_version": "1.2.0",
            "grid_template_areas": null,
            "object_position": null,
            "object_fit": null,
            "grid_auto_columns": null,
            "margin": null,
            "display": null,
            "left": null
          }
        },
        "96c456c8ccf34594b78fca8079a790e3": {
          "model_module": "@jupyter-widgets/controls",
          "model_name": "ProgressStyleModel",
          "model_module_version": "1.5.0",
          "state": {
            "_view_name": "StyleView",
            "_model_name": "ProgressStyleModel",
            "description_width": "",
            "_view_module": "@jupyter-widgets/base",
            "_model_module_version": "1.5.0",
            "_view_count": null,
            "_view_module_version": "1.2.0",
            "bar_color": null,
            "_model_module": "@jupyter-widgets/controls"
          }
        },
        "ac619431427e4fc0b74268c463ca73b6": {
          "model_module": "@jupyter-widgets/base",
          "model_name": "LayoutModel",
          "model_module_version": "1.2.0",
          "state": {
            "_view_name": "LayoutView",
            "grid_template_rows": null,
            "right": null,
            "justify_content": null,
            "_view_module": "@jupyter-widgets/base",
            "overflow": null,
            "_model_module_version": "1.2.0",
            "_view_count": null,
            "flex_flow": null,
            "width": null,
            "min_width": null,
            "border": null,
            "align_items": null,
            "bottom": null,
            "_model_module": "@jupyter-widgets/base",
            "top": null,
            "grid_column": null,
            "overflow_y": null,
            "overflow_x": null,
            "grid_auto_flow": null,
            "grid_area": null,
            "grid_template_columns": null,
            "flex": "2",
            "_model_name": "LayoutModel",
            "justify_items": null,
            "grid_row": null,
            "max_height": null,
            "align_content": null,
            "visibility": null,
            "align_self": null,
            "height": null,
            "min_height": null,
            "padding": null,
            "grid_auto_rows": null,
            "grid_gap": null,
            "max_width": null,
            "order": null,
            "_view_module_version": "1.2.0",
            "grid_template_areas": null,
            "object_position": null,
            "object_fit": null,
            "grid_auto_columns": null,
            "margin": null,
            "display": null,
            "left": null
          }
        },
        "4c8f73fa0fa348cda24f1394716f7155": {
          "model_module": "@jupyter-widgets/controls",
          "model_name": "DescriptionStyleModel",
          "model_module_version": "1.5.0",
          "state": {
            "_view_name": "StyleView",
            "_model_name": "DescriptionStyleModel",
            "description_width": "",
            "_view_module": "@jupyter-widgets/base",
            "_model_module_version": "1.5.0",
            "_view_count": null,
            "_view_module_version": "1.2.0",
            "_model_module": "@jupyter-widgets/controls"
          }
        },
        "eee6309694534e6a9284145b4ccd3250": {
          "model_module": "@jupyter-widgets/base",
          "model_name": "LayoutModel",
          "model_module_version": "1.2.0",
          "state": {
            "_view_name": "LayoutView",
            "grid_template_rows": null,
            "right": null,
            "justify_content": null,
            "_view_module": "@jupyter-widgets/base",
            "overflow": null,
            "_model_module_version": "1.2.0",
            "_view_count": null,
            "flex_flow": null,
            "width": null,
            "min_width": null,
            "border": null,
            "align_items": null,
            "bottom": null,
            "_model_module": "@jupyter-widgets/base",
            "top": null,
            "grid_column": null,
            "overflow_y": null,
            "overflow_x": null,
            "grid_auto_flow": null,
            "grid_area": null,
            "grid_template_columns": null,
            "flex": null,
            "_model_name": "LayoutModel",
            "justify_items": null,
            "grid_row": null,
            "max_height": null,
            "align_content": null,
            "visibility": null,
            "align_self": null,
            "height": null,
            "min_height": null,
            "padding": null,
            "grid_auto_rows": null,
            "grid_gap": null,
            "max_width": null,
            "order": null,
            "_view_module_version": "1.2.0",
            "grid_template_areas": null,
            "object_position": null,
            "object_fit": null,
            "grid_auto_columns": null,
            "margin": null,
            "display": null,
            "left": null
          }
        },
        "852489bc69ef4407814ff373daaa02b8": {
          "model_module": "@jupyter-widgets/controls",
          "model_name": "HBoxModel",
          "model_module_version": "1.5.0",
          "state": {
            "_view_name": "HBoxView",
            "_dom_classes": [],
            "_model_name": "HBoxModel",
            "_view_module": "@jupyter-widgets/controls",
            "_model_module_version": "1.5.0",
            "_view_count": null,
            "_view_module_version": "1.5.0",
            "box_style": "",
            "layout": "IPY_MODEL_69de14f48d5645f3b69a2cc7169d0253",
            "_model_module": "@jupyter-widgets/controls",
            "children": [
              "IPY_MODEL_a11ebaef400c4352ba5f52e8b6b566fa",
              "IPY_MODEL_537c3a08e8be41dabf2edb7f5349285a",
              "IPY_MODEL_2136ba96fb134dc580abb127dbe4bfe9"
            ]
          }
        },
        "69de14f48d5645f3b69a2cc7169d0253": {
          "model_module": "@jupyter-widgets/base",
          "model_name": "LayoutModel",
          "model_module_version": "1.2.0",
          "state": {
            "_view_name": "LayoutView",
            "grid_template_rows": null,
            "right": null,
            "justify_content": null,
            "_view_module": "@jupyter-widgets/base",
            "overflow": null,
            "_model_module_version": "1.2.0",
            "_view_count": null,
            "flex_flow": "row wrap",
            "width": "100%",
            "min_width": null,
            "border": null,
            "align_items": null,
            "bottom": null,
            "_model_module": "@jupyter-widgets/base",
            "top": null,
            "grid_column": null,
            "overflow_y": null,
            "overflow_x": null,
            "grid_auto_flow": null,
            "grid_area": null,
            "grid_template_columns": null,
            "flex": null,
            "_model_name": "LayoutModel",
            "justify_items": null,
            "grid_row": null,
            "max_height": null,
            "align_content": null,
            "visibility": null,
            "align_self": null,
            "height": null,
            "min_height": null,
            "padding": null,
            "grid_auto_rows": null,
            "grid_gap": null,
            "max_width": null,
            "order": null,
            "_view_module_version": "1.2.0",
            "grid_template_areas": null,
            "object_position": null,
            "object_fit": null,
            "grid_auto_columns": null,
            "margin": null,
            "display": "inline-flex",
            "left": null
          }
        },
        "a11ebaef400c4352ba5f52e8b6b566fa": {
          "model_module": "@jupyter-widgets/controls",
          "model_name": "HTMLModel",
          "model_module_version": "1.5.0",
          "state": {
            "_view_name": "HTMLView",
            "style": "IPY_MODEL_07fe0fc5805e47b9b1f5b3a95f49adcf",
            "_dom_classes": [],
            "description": "",
            "_model_name": "HTMLModel",
            "placeholder": "​",
            "_view_module": "@jupyter-widgets/controls",
            "_model_module_version": "1.5.0",
            "value": "100%",
            "_view_count": null,
            "_view_module_version": "1.5.0",
            "description_tooltip": null,
            "_model_module": "@jupyter-widgets/controls",
            "layout": "IPY_MODEL_274cf6962454417ba109943ca19776d7"
          }
        },
        "537c3a08e8be41dabf2edb7f5349285a": {
          "model_module": "@jupyter-widgets/controls",
          "model_name": "FloatProgressModel",
          "model_module_version": "1.5.0",
          "state": {
            "_view_name": "ProgressView",
            "style": "IPY_MODEL_efc0aa560a074388a8de4f100f72c153",
            "_dom_classes": [],
            "description": "",
            "_model_name": "FloatProgressModel",
            "bar_style": "",
            "max": 9,
            "_view_module": "@jupyter-widgets/controls",
            "_model_module_version": "1.5.0",
            "value": 9,
            "_view_count": null,
            "_view_module_version": "1.5.0",
            "orientation": "horizontal",
            "min": 0,
            "description_tooltip": null,
            "_model_module": "@jupyter-widgets/controls",
            "layout": "IPY_MODEL_3b06178a3e51449b89c5e54dd4937492"
          }
        },
        "2136ba96fb134dc580abb127dbe4bfe9": {
          "model_module": "@jupyter-widgets/controls",
          "model_name": "HTMLModel",
          "model_module_version": "1.5.0",
          "state": {
            "_view_name": "HTMLView",
            "style": "IPY_MODEL_ae09ec54aaec4eddb23c924f65a0c2bb",
            "_dom_classes": [],
            "description": "",
            "_model_name": "HTMLModel",
            "placeholder": "​",
            "_view_module": "@jupyter-widgets/controls",
            "_model_module_version": "1.5.0",
            "value": " 9/9 [00:01&lt;00:00, 11.14it/s]",
            "_view_count": null,
            "_view_module_version": "1.5.0",
            "description_tooltip": null,
            "_model_module": "@jupyter-widgets/controls",
            "layout": "IPY_MODEL_cc84a5b2e82a48cf9ca7971b008a70e0"
          }
        },
        "07fe0fc5805e47b9b1f5b3a95f49adcf": {
          "model_module": "@jupyter-widgets/controls",
          "model_name": "DescriptionStyleModel",
          "model_module_version": "1.5.0",
          "state": {
            "_view_name": "StyleView",
            "_model_name": "DescriptionStyleModel",
            "description_width": "",
            "_view_module": "@jupyter-widgets/base",
            "_model_module_version": "1.5.0",
            "_view_count": null,
            "_view_module_version": "1.2.0",
            "_model_module": "@jupyter-widgets/controls"
          }
        },
        "274cf6962454417ba109943ca19776d7": {
          "model_module": "@jupyter-widgets/base",
          "model_name": "LayoutModel",
          "model_module_version": "1.2.0",
          "state": {
            "_view_name": "LayoutView",
            "grid_template_rows": null,
            "right": null,
            "justify_content": null,
            "_view_module": "@jupyter-widgets/base",
            "overflow": null,
            "_model_module_version": "1.2.0",
            "_view_count": null,
            "flex_flow": null,
            "width": null,
            "min_width": null,
            "border": null,
            "align_items": null,
            "bottom": null,
            "_model_module": "@jupyter-widgets/base",
            "top": null,
            "grid_column": null,
            "overflow_y": null,
            "overflow_x": null,
            "grid_auto_flow": null,
            "grid_area": null,
            "grid_template_columns": null,
            "flex": null,
            "_model_name": "LayoutModel",
            "justify_items": null,
            "grid_row": null,
            "max_height": null,
            "align_content": null,
            "visibility": null,
            "align_self": null,
            "height": null,
            "min_height": null,
            "padding": null,
            "grid_auto_rows": null,
            "grid_gap": null,
            "max_width": null,
            "order": null,
            "_view_module_version": "1.2.0",
            "grid_template_areas": null,
            "object_position": null,
            "object_fit": null,
            "grid_auto_columns": null,
            "margin": null,
            "display": null,
            "left": null
          }
        },
        "efc0aa560a074388a8de4f100f72c153": {
          "model_module": "@jupyter-widgets/controls",
          "model_name": "ProgressStyleModel",
          "model_module_version": "1.5.0",
          "state": {
            "_view_name": "StyleView",
            "_model_name": "ProgressStyleModel",
            "description_width": "",
            "_view_module": "@jupyter-widgets/base",
            "_model_module_version": "1.5.0",
            "_view_count": null,
            "_view_module_version": "1.2.0",
            "bar_color": null,
            "_model_module": "@jupyter-widgets/controls"
          }
        },
        "3b06178a3e51449b89c5e54dd4937492": {
          "model_module": "@jupyter-widgets/base",
          "model_name": "LayoutModel",
          "model_module_version": "1.2.0",
          "state": {
            "_view_name": "LayoutView",
            "grid_template_rows": null,
            "right": null,
            "justify_content": null,
            "_view_module": "@jupyter-widgets/base",
            "overflow": null,
            "_model_module_version": "1.2.0",
            "_view_count": null,
            "flex_flow": null,
            "width": null,
            "min_width": null,
            "border": null,
            "align_items": null,
            "bottom": null,
            "_model_module": "@jupyter-widgets/base",
            "top": null,
            "grid_column": null,
            "overflow_y": null,
            "overflow_x": null,
            "grid_auto_flow": null,
            "grid_area": null,
            "grid_template_columns": null,
            "flex": "2",
            "_model_name": "LayoutModel",
            "justify_items": null,
            "grid_row": null,
            "max_height": null,
            "align_content": null,
            "visibility": null,
            "align_self": null,
            "height": null,
            "min_height": null,
            "padding": null,
            "grid_auto_rows": null,
            "grid_gap": null,
            "max_width": null,
            "order": null,
            "_view_module_version": "1.2.0",
            "grid_template_areas": null,
            "object_position": null,
            "object_fit": null,
            "grid_auto_columns": null,
            "margin": null,
            "display": null,
            "left": null
          }
        },
        "ae09ec54aaec4eddb23c924f65a0c2bb": {
          "model_module": "@jupyter-widgets/controls",
          "model_name": "DescriptionStyleModel",
          "model_module_version": "1.5.0",
          "state": {
            "_view_name": "StyleView",
            "_model_name": "DescriptionStyleModel",
            "description_width": "",
            "_view_module": "@jupyter-widgets/base",
            "_model_module_version": "1.5.0",
            "_view_count": null,
            "_view_module_version": "1.2.0",
            "_model_module": "@jupyter-widgets/controls"
          }
        },
        "cc84a5b2e82a48cf9ca7971b008a70e0": {
          "model_module": "@jupyter-widgets/base",
          "model_name": "LayoutModel",
          "model_module_version": "1.2.0",
          "state": {
            "_view_name": "LayoutView",
            "grid_template_rows": null,
            "right": null,
            "justify_content": null,
            "_view_module": "@jupyter-widgets/base",
            "overflow": null,
            "_model_module_version": "1.2.0",
            "_view_count": null,
            "flex_flow": null,
            "width": null,
            "min_width": null,
            "border": null,
            "align_items": null,
            "bottom": null,
            "_model_module": "@jupyter-widgets/base",
            "top": null,
            "grid_column": null,
            "overflow_y": null,
            "overflow_x": null,
            "grid_auto_flow": null,
            "grid_area": null,
            "grid_template_columns": null,
            "flex": null,
            "_model_name": "LayoutModel",
            "justify_items": null,
            "grid_row": null,
            "max_height": null,
            "align_content": null,
            "visibility": null,
            "align_self": null,
            "height": null,
            "min_height": null,
            "padding": null,
            "grid_auto_rows": null,
            "grid_gap": null,
            "max_width": null,
            "order": null,
            "_view_module_version": "1.2.0",
            "grid_template_areas": null,
            "object_position": null,
            "object_fit": null,
            "grid_auto_columns": null,
            "margin": null,
            "display": null,
            "left": null
          }
        }
      }
    }
  },
  "nbformat": 4,
  "nbformat_minor": 0
}