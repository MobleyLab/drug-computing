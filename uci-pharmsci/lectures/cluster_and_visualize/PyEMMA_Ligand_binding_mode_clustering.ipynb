{
  "nbformat": 4,
  "nbformat_minor": 0,
  "metadata": {
    "anaconda-cloud": {},
    "kernelspec": {
      "display_name": "Python [conda env:drugcomp] *",
      "language": "python",
      "name": "conda-env-drugcomp-py"
    },
    "language_info": {
      "codemirror_mode": {
        "name": "ipython",
        "version": 3
      },
      "file_extension": ".py",
      "mimetype": "text/x-python",
      "name": "python",
      "nbconvert_exporter": "python",
      "pygments_lexer": "ipython3",
      "version": "3.7.6"
    },
    "toc": {
      "nav_menu": {},
      "number_sections": true,
      "sideBar": true,
      "skip_h1_title": false,
      "toc_cell": false,
      "toc_position": {},
      "toc_section_display": "block",
      "toc_window_display": false
    },
    "colab": {
      "name": "PyEMMA-Ligand_binding_mode_clustering.ipynb",
      "provenance": [],
      "collapsed_sections": []
    },
    "widgets": {
      "application/vnd.jupyter.widget-state+json": {
        "aead02a8dab14ea2b1b6a1257aba4e19": {
          "model_module": "@jupyter-widgets/controls",
          "model_name": "HBoxModel",
          "model_module_version": "1.5.0",
          "state": {
            "_view_name": "HBoxView",
            "_dom_classes": [],
            "_model_name": "HBoxModel",
            "_view_module": "@jupyter-widgets/controls",
            "_model_module_version": "1.5.0",
            "_view_count": null,
            "_view_module_version": "1.5.0",
            "box_style": "",
            "layout": "IPY_MODEL_7bfd94ed8e6a4181ad396f1ae472a8a3",
            "_model_module": "@jupyter-widgets/controls",
            "children": [
              "IPY_MODEL_47439e83ad8346a9bf03482d24b040fa",
              "IPY_MODEL_f31039faad2d432299bae78d4832829c",
              "IPY_MODEL_d9a119fdc6214602b9d9e4e6990ee26c"
            ]
          }
        },
        "7bfd94ed8e6a4181ad396f1ae472a8a3": {
          "model_module": "@jupyter-widgets/base",
          "model_name": "LayoutModel",
          "model_module_version": "1.2.0",
          "state": {
            "_view_name": "LayoutView",
            "grid_template_rows": null,
            "right": null,
            "justify_content": null,
            "_view_module": "@jupyter-widgets/base",
            "overflow": null,
            "_model_module_version": "1.2.0",
            "_view_count": null,
            "flex_flow": "row wrap",
            "width": "100%",
            "min_width": null,
            "border": null,
            "align_items": null,
            "bottom": null,
            "_model_module": "@jupyter-widgets/base",
            "top": null,
            "grid_column": null,
            "overflow_y": null,
            "overflow_x": null,
            "grid_auto_flow": null,
            "grid_area": null,
            "grid_template_columns": null,
            "flex": null,
            "_model_name": "LayoutModel",
            "justify_items": null,
            "grid_row": null,
            "max_height": null,
            "align_content": null,
            "visibility": null,
            "align_self": null,
            "height": null,
            "min_height": null,
            "padding": null,
            "grid_auto_rows": null,
            "grid_gap": null,
            "max_width": null,
            "order": null,
            "_view_module_version": "1.2.0",
            "grid_template_areas": null,
            "object_position": null,
            "object_fit": null,
            "grid_auto_columns": null,
            "margin": null,
            "display": "inline-flex",
            "left": null
          }
        },
        "47439e83ad8346a9bf03482d24b040fa": {
          "model_module": "@jupyter-widgets/controls",
          "model_name": "HTMLModel",
          "model_module_version": "1.5.0",
          "state": {
            "_view_name": "HTMLView",
            "style": "IPY_MODEL_99468fa7b7b84e2a8672e51589727b5c",
            "_dom_classes": [],
            "description": "",
            "_model_name": "HTMLModel",
            "placeholder": "​",
            "_view_module": "@jupyter-widgets/controls",
            "_model_module_version": "1.5.0",
            "value": "100%",
            "_view_count": null,
            "_view_module_version": "1.5.0",
            "description_tooltip": null,
            "_model_module": "@jupyter-widgets/controls",
            "layout": "IPY_MODEL_1253ff80b2a24233ad9d561401963220"
          }
        },
        "f31039faad2d432299bae78d4832829c": {
          "model_module": "@jupyter-widgets/controls",
          "model_name": "FloatProgressModel",
          "model_module_version": "1.5.0",
          "state": {
            "_view_name": "ProgressView",
            "style": "IPY_MODEL_14495cf67a8843cdbdad44968c7d8d60",
            "_dom_classes": [],
            "description": "",
            "_model_name": "FloatProgressModel",
            "bar_style": "",
            "max": 27,
            "_view_module": "@jupyter-widgets/controls",
            "_model_module_version": "1.5.0",
            "value": 27,
            "_view_count": null,
            "_view_module_version": "1.5.0",
            "orientation": "horizontal",
            "min": 0,
            "description_tooltip": null,
            "_model_module": "@jupyter-widgets/controls",
            "layout": "IPY_MODEL_53b78a8fec9847e580d2e92f4dd51c70"
          }
        },
        "d9a119fdc6214602b9d9e4e6990ee26c": {
          "model_module": "@jupyter-widgets/controls",
          "model_name": "HTMLModel",
          "model_module_version": "1.5.0",
          "state": {
            "_view_name": "HTMLView",
            "style": "IPY_MODEL_afa9fa848ebb4f51b27a70baccaef5e0",
            "_dom_classes": [],
            "description": "",
            "_model_name": "HTMLModel",
            "placeholder": "​",
            "_view_module": "@jupyter-widgets/controls",
            "_model_module_version": "1.5.0",
            "value": " 27/27 [00:00&lt;00:00,  7.50it/s]",
            "_view_count": null,
            "_view_module_version": "1.5.0",
            "description_tooltip": null,
            "_model_module": "@jupyter-widgets/controls",
            "layout": "IPY_MODEL_dd3479c1ac284cfa80a7fe8c11570aac"
          }
        },
        "99468fa7b7b84e2a8672e51589727b5c": {
          "model_module": "@jupyter-widgets/controls",
          "model_name": "DescriptionStyleModel",
          "model_module_version": "1.5.0",
          "state": {
            "_view_name": "StyleView",
            "_model_name": "DescriptionStyleModel",
            "description_width": "",
            "_view_module": "@jupyter-widgets/base",
            "_model_module_version": "1.5.0",
            "_view_count": null,
            "_view_module_version": "1.2.0",
            "_model_module": "@jupyter-widgets/controls"
          }
        },
        "1253ff80b2a24233ad9d561401963220": {
          "model_module": "@jupyter-widgets/base",
          "model_name": "LayoutModel",
          "model_module_version": "1.2.0",
          "state": {
            "_view_name": "LayoutView",
            "grid_template_rows": null,
            "right": null,
            "justify_content": null,
            "_view_module": "@jupyter-widgets/base",
            "overflow": null,
            "_model_module_version": "1.2.0",
            "_view_count": null,
            "flex_flow": null,
            "width": null,
            "min_width": null,
            "border": null,
            "align_items": null,
            "bottom": null,
            "_model_module": "@jupyter-widgets/base",
            "top": null,
            "grid_column": null,
            "overflow_y": null,
            "overflow_x": null,
            "grid_auto_flow": null,
            "grid_area": null,
            "grid_template_columns": null,
            "flex": null,
            "_model_name": "LayoutModel",
            "justify_items": null,
            "grid_row": null,
            "max_height": null,
            "align_content": null,
            "visibility": null,
            "align_self": null,
            "height": null,
            "min_height": null,
            "padding": null,
            "grid_auto_rows": null,
            "grid_gap": null,
            "max_width": null,
            "order": null,
            "_view_module_version": "1.2.0",
            "grid_template_areas": null,
            "object_position": null,
            "object_fit": null,
            "grid_auto_columns": null,
            "margin": null,
            "display": null,
            "left": null
          }
        },
        "14495cf67a8843cdbdad44968c7d8d60": {
          "model_module": "@jupyter-widgets/controls",
          "model_name": "ProgressStyleModel",
          "model_module_version": "1.5.0",
          "state": {
            "_view_name": "StyleView",
            "_model_name": "ProgressStyleModel",
            "description_width": "",
            "_view_module": "@jupyter-widgets/base",
            "_model_module_version": "1.5.0",
            "_view_count": null,
            "_view_module_version": "1.2.0",
            "bar_color": null,
            "_model_module": "@jupyter-widgets/controls"
          }
        },
        "53b78a8fec9847e580d2e92f4dd51c70": {
          "model_module": "@jupyter-widgets/base",
          "model_name": "LayoutModel",
          "model_module_version": "1.2.0",
          "state": {
            "_view_name": "LayoutView",
            "grid_template_rows": null,
            "right": null,
            "justify_content": null,
            "_view_module": "@jupyter-widgets/base",
            "overflow": null,
            "_model_module_version": "1.2.0",
            "_view_count": null,
            "flex_flow": null,
            "width": null,
            "min_width": null,
            "border": null,
            "align_items": null,
            "bottom": null,
            "_model_module": "@jupyter-widgets/base",
            "top": null,
            "grid_column": null,
            "overflow_y": null,
            "overflow_x": null,
            "grid_auto_flow": null,
            "grid_area": null,
            "grid_template_columns": null,
            "flex": "2",
            "_model_name": "LayoutModel",
            "justify_items": null,
            "grid_row": null,
            "max_height": null,
            "align_content": null,
            "visibility": null,
            "align_self": null,
            "height": null,
            "min_height": null,
            "padding": null,
            "grid_auto_rows": null,
            "grid_gap": null,
            "max_width": null,
            "order": null,
            "_view_module_version": "1.2.0",
            "grid_template_areas": null,
            "object_position": null,
            "object_fit": null,
            "grid_auto_columns": null,
            "margin": null,
            "display": null,
            "left": null
          }
        },
        "afa9fa848ebb4f51b27a70baccaef5e0": {
          "model_module": "@jupyter-widgets/controls",
          "model_name": "DescriptionStyleModel",
          "model_module_version": "1.5.0",
          "state": {
            "_view_name": "StyleView",
            "_model_name": "DescriptionStyleModel",
            "description_width": "",
            "_view_module": "@jupyter-widgets/base",
            "_model_module_version": "1.5.0",
            "_view_count": null,
            "_view_module_version": "1.2.0",
            "_model_module": "@jupyter-widgets/controls"
          }
        },
        "dd3479c1ac284cfa80a7fe8c11570aac": {
          "model_module": "@jupyter-widgets/base",
          "model_name": "LayoutModel",
          "model_module_version": "1.2.0",
          "state": {
            "_view_name": "LayoutView",
            "grid_template_rows": null,
            "right": null,
            "justify_content": null,
            "_view_module": "@jupyter-widgets/base",
            "overflow": null,
            "_model_module_version": "1.2.0",
            "_view_count": null,
            "flex_flow": null,
            "width": null,
            "min_width": null,
            "border": null,
            "align_items": null,
            "bottom": null,
            "_model_module": "@jupyter-widgets/base",
            "top": null,
            "grid_column": null,
            "overflow_y": null,
            "overflow_x": null,
            "grid_auto_flow": null,
            "grid_area": null,
            "grid_template_columns": null,
            "flex": null,
            "_model_name": "LayoutModel",
            "justify_items": null,
            "grid_row": null,
            "max_height": null,
            "align_content": null,
            "visibility": null,
            "align_self": null,
            "height": null,
            "min_height": null,
            "padding": null,
            "grid_auto_rows": null,
            "grid_gap": null,
            "max_width": null,
            "order": null,
            "_view_module_version": "1.2.0",
            "grid_template_areas": null,
            "object_position": null,
            "object_fit": null,
            "grid_auto_columns": null,
            "margin": null,
            "display": null,
            "left": null
          }
        },
        "aaf513975ed74c8aa0671653f3b315c1": {
          "model_module": "@jupyter-widgets/controls",
          "model_name": "HBoxModel",
          "model_module_version": "1.5.0",
          "state": {
            "_view_name": "HBoxView",
            "_dom_classes": [],
            "_model_name": "HBoxModel",
            "_view_module": "@jupyter-widgets/controls",
            "_model_module_version": "1.5.0",
            "_view_count": null,
            "_view_module_version": "1.5.0",
            "box_style": "",
            "layout": "IPY_MODEL_d8bbc33255b643c2806c36e3cdadd74f",
            "_model_module": "@jupyter-widgets/controls",
            "children": [
              "IPY_MODEL_c4c716a26d484cd49ab4d2f783c12dba",
              "IPY_MODEL_80d3a1c887b043cca4a0edad58937732",
              "IPY_MODEL_696a263f7d814836b9715a9ffa28bc6e"
            ]
          }
        },
        "d8bbc33255b643c2806c36e3cdadd74f": {
          "model_module": "@jupyter-widgets/base",
          "model_name": "LayoutModel",
          "model_module_version": "1.2.0",
          "state": {
            "_view_name": "LayoutView",
            "grid_template_rows": null,
            "right": null,
            "justify_content": null,
            "_view_module": "@jupyter-widgets/base",
            "overflow": null,
            "_model_module_version": "1.2.0",
            "_view_count": null,
            "flex_flow": "row wrap",
            "width": "100%",
            "min_width": null,
            "border": null,
            "align_items": null,
            "bottom": null,
            "_model_module": "@jupyter-widgets/base",
            "top": null,
            "grid_column": null,
            "overflow_y": null,
            "overflow_x": null,
            "grid_auto_flow": null,
            "grid_area": null,
            "grid_template_columns": null,
            "flex": null,
            "_model_name": "LayoutModel",
            "justify_items": null,
            "grid_row": null,
            "max_height": null,
            "align_content": null,
            "visibility": null,
            "align_self": null,
            "height": null,
            "min_height": null,
            "padding": null,
            "grid_auto_rows": null,
            "grid_gap": null,
            "max_width": null,
            "order": null,
            "_view_module_version": "1.2.0",
            "grid_template_areas": null,
            "object_position": null,
            "object_fit": null,
            "grid_auto_columns": null,
            "margin": null,
            "display": "inline-flex",
            "left": null
          }
        },
        "c4c716a26d484cd49ab4d2f783c12dba": {
          "model_module": "@jupyter-widgets/controls",
          "model_name": "HTMLModel",
          "model_module_version": "1.5.0",
          "state": {
            "_view_name": "HTMLView",
            "style": "IPY_MODEL_6e074915dc934f54be34c3d1a6fa008d",
            "_dom_classes": [],
            "description": "",
            "_model_name": "HTMLModel",
            "placeholder": "​",
            "_view_module": "@jupyter-widgets/controls",
            "_model_module_version": "1.5.0",
            "value": "100%",
            "_view_count": null,
            "_view_module_version": "1.5.0",
            "description_tooltip": null,
            "_model_module": "@jupyter-widgets/controls",
            "layout": "IPY_MODEL_75976b196eeb4452912992469f6d35c0"
          }
        },
        "80d3a1c887b043cca4a0edad58937732": {
          "model_module": "@jupyter-widgets/controls",
          "model_name": "FloatProgressModel",
          "model_module_version": "1.5.0",
          "state": {
            "_view_name": "ProgressView",
            "style": "IPY_MODEL_fbcfffa704bf45fd893ea8c9ee78610b",
            "_dom_classes": [],
            "description": "",
            "_model_name": "FloatProgressModel",
            "bar_style": "",
            "max": 100,
            "_view_module": "@jupyter-widgets/controls",
            "_model_module_version": "1.5.0",
            "value": 100,
            "_view_count": null,
            "_view_module_version": "1.5.0",
            "orientation": "horizontal",
            "min": 0,
            "description_tooltip": null,
            "_model_module": "@jupyter-widgets/controls",
            "layout": "IPY_MODEL_dd5e901cad0646f0aadefd5aee842533"
          }
        },
        "696a263f7d814836b9715a9ffa28bc6e": {
          "model_module": "@jupyter-widgets/controls",
          "model_name": "HTMLModel",
          "model_module_version": "1.5.0",
          "state": {
            "_view_name": "HTMLView",
            "style": "IPY_MODEL_43372e9a96414126b45ebe1c98061406",
            "_dom_classes": [],
            "description": "",
            "_model_name": "HTMLModel",
            "placeholder": "​",
            "_view_module": "@jupyter-widgets/controls",
            "_model_module_version": "1.5.0",
            "value": " 100/100 [00:00&lt;00:00,  9.40it/s]",
            "_view_count": null,
            "_view_module_version": "1.5.0",
            "description_tooltip": null,
            "_model_module": "@jupyter-widgets/controls",
            "layout": "IPY_MODEL_db0ca6fc21ee47aea427aa0bf069e1de"
          }
        },
        "6e074915dc934f54be34c3d1a6fa008d": {
          "model_module": "@jupyter-widgets/controls",
          "model_name": "DescriptionStyleModel",
          "model_module_version": "1.5.0",
          "state": {
            "_view_name": "StyleView",
            "_model_name": "DescriptionStyleModel",
            "description_width": "",
            "_view_module": "@jupyter-widgets/base",
            "_model_module_version": "1.5.0",
            "_view_count": null,
            "_view_module_version": "1.2.0",
            "_model_module": "@jupyter-widgets/controls"
          }
        },
        "75976b196eeb4452912992469f6d35c0": {
          "model_module": "@jupyter-widgets/base",
          "model_name": "LayoutModel",
          "model_module_version": "1.2.0",
          "state": {
            "_view_name": "LayoutView",
            "grid_template_rows": null,
            "right": null,
            "justify_content": null,
            "_view_module": "@jupyter-widgets/base",
            "overflow": null,
            "_model_module_version": "1.2.0",
            "_view_count": null,
            "flex_flow": null,
            "width": null,
            "min_width": null,
            "border": null,
            "align_items": null,
            "bottom": null,
            "_model_module": "@jupyter-widgets/base",
            "top": null,
            "grid_column": null,
            "overflow_y": null,
            "overflow_x": null,
            "grid_auto_flow": null,
            "grid_area": null,
            "grid_template_columns": null,
            "flex": null,
            "_model_name": "LayoutModel",
            "justify_items": null,
            "grid_row": null,
            "max_height": null,
            "align_content": null,
            "visibility": null,
            "align_self": null,
            "height": null,
            "min_height": null,
            "padding": null,
            "grid_auto_rows": null,
            "grid_gap": null,
            "max_width": null,
            "order": null,
            "_view_module_version": "1.2.0",
            "grid_template_areas": null,
            "object_position": null,
            "object_fit": null,
            "grid_auto_columns": null,
            "margin": null,
            "display": null,
            "left": null
          }
        },
        "fbcfffa704bf45fd893ea8c9ee78610b": {
          "model_module": "@jupyter-widgets/controls",
          "model_name": "ProgressStyleModel",
          "model_module_version": "1.5.0",
          "state": {
            "_view_name": "StyleView",
            "_model_name": "ProgressStyleModel",
            "description_width": "",
            "_view_module": "@jupyter-widgets/base",
            "_model_module_version": "1.5.0",
            "_view_count": null,
            "_view_module_version": "1.2.0",
            "bar_color": null,
            "_model_module": "@jupyter-widgets/controls"
          }
        },
        "dd5e901cad0646f0aadefd5aee842533": {
          "model_module": "@jupyter-widgets/base",
          "model_name": "LayoutModel",
          "model_module_version": "1.2.0",
          "state": {
            "_view_name": "LayoutView",
            "grid_template_rows": null,
            "right": null,
            "justify_content": null,
            "_view_module": "@jupyter-widgets/base",
            "overflow": null,
            "_model_module_version": "1.2.0",
            "_view_count": null,
            "flex_flow": null,
            "width": null,
            "min_width": null,
            "border": null,
            "align_items": null,
            "bottom": null,
            "_model_module": "@jupyter-widgets/base",
            "top": null,
            "grid_column": null,
            "overflow_y": null,
            "overflow_x": null,
            "grid_auto_flow": null,
            "grid_area": null,
            "grid_template_columns": null,
            "flex": "2",
            "_model_name": "LayoutModel",
            "justify_items": null,
            "grid_row": null,
            "max_height": null,
            "align_content": null,
            "visibility": null,
            "align_self": null,
            "height": null,
            "min_height": null,
            "padding": null,
            "grid_auto_rows": null,
            "grid_gap": null,
            "max_width": null,
            "order": null,
            "_view_module_version": "1.2.0",
            "grid_template_areas": null,
            "object_position": null,
            "object_fit": null,
            "grid_auto_columns": null,
            "margin": null,
            "display": null,
            "left": null
          }
        },
        "43372e9a96414126b45ebe1c98061406": {
          "model_module": "@jupyter-widgets/controls",
          "model_name": "DescriptionStyleModel",
          "model_module_version": "1.5.0",
          "state": {
            "_view_name": "StyleView",
            "_model_name": "DescriptionStyleModel",
            "description_width": "",
            "_view_module": "@jupyter-widgets/base",
            "_model_module_version": "1.5.0",
            "_view_count": null,
            "_view_module_version": "1.2.0",
            "_model_module": "@jupyter-widgets/controls"
          }
        },
        "db0ca6fc21ee47aea427aa0bf069e1de": {
          "model_module": "@jupyter-widgets/base",
          "model_name": "LayoutModel",
          "model_module_version": "1.2.0",
          "state": {
            "_view_name": "LayoutView",
            "grid_template_rows": null,
            "right": null,
            "justify_content": null,
            "_view_module": "@jupyter-widgets/base",
            "overflow": null,
            "_model_module_version": "1.2.0",
            "_view_count": null,
            "flex_flow": null,
            "width": null,
            "min_width": null,
            "border": null,
            "align_items": null,
            "bottom": null,
            "_model_module": "@jupyter-widgets/base",
            "top": null,
            "grid_column": null,
            "overflow_y": null,
            "overflow_x": null,
            "grid_auto_flow": null,
            "grid_area": null,
            "grid_template_columns": null,
            "flex": null,
            "_model_name": "LayoutModel",
            "justify_items": null,
            "grid_row": null,
            "max_height": null,
            "align_content": null,
            "visibility": null,
            "align_self": null,
            "height": null,
            "min_height": null,
            "padding": null,
            "grid_auto_rows": null,
            "grid_gap": null,
            "max_width": null,
            "order": null,
            "_view_module_version": "1.2.0",
            "grid_template_areas": null,
            "object_position": null,
            "object_fit": null,
            "grid_auto_columns": null,
            "margin": null,
            "display": null,
            "left": null
          }
        },
        "0442c622407a4bd4ad738929bbdb8114": {
          "model_module": "@jupyter-widgets/controls",
          "model_name": "HBoxModel",
          "model_module_version": "1.5.0",
          "state": {
            "_view_name": "HBoxView",
            "_dom_classes": [],
            "_model_name": "HBoxModel",
            "_view_module": "@jupyter-widgets/controls",
            "_model_module_version": "1.5.0",
            "_view_count": null,
            "_view_module_version": "1.5.0",
            "box_style": "",
            "layout": "IPY_MODEL_9b884ef1fa0f4282aad6cfe7a5b3ab42",
            "_model_module": "@jupyter-widgets/controls",
            "children": [
              "IPY_MODEL_5ab5b22d69944e319667f346cb88fbcc",
              "IPY_MODEL_14612d52697140b4aa9f8d56063f3d6a",
              "IPY_MODEL_041093efc5784eecaf5b0daa2d8d8a9a"
            ]
          }
        },
        "9b884ef1fa0f4282aad6cfe7a5b3ab42": {
          "model_module": "@jupyter-widgets/base",
          "model_name": "LayoutModel",
          "model_module_version": "1.2.0",
          "state": {
            "_view_name": "LayoutView",
            "grid_template_rows": null,
            "right": null,
            "justify_content": null,
            "_view_module": "@jupyter-widgets/base",
            "overflow": null,
            "_model_module_version": "1.2.0",
            "_view_count": null,
            "flex_flow": "row wrap",
            "width": "100%",
            "min_width": null,
            "border": null,
            "align_items": null,
            "bottom": null,
            "_model_module": "@jupyter-widgets/base",
            "top": null,
            "grid_column": null,
            "overflow_y": null,
            "overflow_x": null,
            "grid_auto_flow": null,
            "grid_area": null,
            "grid_template_columns": null,
            "flex": null,
            "_model_name": "LayoutModel",
            "justify_items": null,
            "grid_row": null,
            "max_height": null,
            "align_content": null,
            "visibility": null,
            "align_self": null,
            "height": null,
            "min_height": null,
            "padding": null,
            "grid_auto_rows": null,
            "grid_gap": null,
            "max_width": null,
            "order": null,
            "_view_module_version": "1.2.0",
            "grid_template_areas": null,
            "object_position": null,
            "object_fit": null,
            "grid_auto_columns": null,
            "margin": null,
            "display": "inline-flex",
            "left": null
          }
        },
        "5ab5b22d69944e319667f346cb88fbcc": {
          "model_module": "@jupyter-widgets/controls",
          "model_name": "HTMLModel",
          "model_module_version": "1.5.0",
          "state": {
            "_view_name": "HTMLView",
            "style": "IPY_MODEL_62d4cab3645e417f9de504e35437ebd3",
            "_dom_classes": [],
            "description": "",
            "_model_name": "HTMLModel",
            "placeholder": "​",
            "_view_module": "@jupyter-widgets/controls",
            "_model_module_version": "1.5.0",
            "value": "100%",
            "_view_count": null,
            "_view_module_version": "1.5.0",
            "description_tooltip": null,
            "_model_module": "@jupyter-widgets/controls",
            "layout": "IPY_MODEL_50073445f7b04015beb5b202328aa089"
          }
        },
        "14612d52697140b4aa9f8d56063f3d6a": {
          "model_module": "@jupyter-widgets/controls",
          "model_name": "FloatProgressModel",
          "model_module_version": "1.5.0",
          "state": {
            "_view_name": "ProgressView",
            "style": "IPY_MODEL_6fa4bb9bc999435eac6b3ec7676ff8ed",
            "_dom_classes": [],
            "description": "",
            "_model_name": "FloatProgressModel",
            "bar_style": "",
            "max": 5,
            "_view_module": "@jupyter-widgets/controls",
            "_model_module_version": "1.5.0",
            "value": 5,
            "_view_count": null,
            "_view_module_version": "1.5.0",
            "orientation": "horizontal",
            "min": 0,
            "description_tooltip": null,
            "_model_module": "@jupyter-widgets/controls",
            "layout": "IPY_MODEL_5e0ff578088e4c6bb02708ca17713196"
          }
        },
        "041093efc5784eecaf5b0daa2d8d8a9a": {
          "model_module": "@jupyter-widgets/controls",
          "model_name": "HTMLModel",
          "model_module_version": "1.5.0",
          "state": {
            "_view_name": "HTMLView",
            "style": "IPY_MODEL_eeaa8aa33a5441a399ceb1c284c9ee63",
            "_dom_classes": [],
            "description": "",
            "_model_name": "HTMLModel",
            "placeholder": "​",
            "_view_module": "@jupyter-widgets/controls",
            "_model_module_version": "1.5.0",
            "value": " 5/5 [00:00&lt;00:00,  5.99it/s]",
            "_view_count": null,
            "_view_module_version": "1.5.0",
            "description_tooltip": null,
            "_model_module": "@jupyter-widgets/controls",
            "layout": "IPY_MODEL_a77940739e9e49f99807143daba2d3cf"
          }
        },
        "62d4cab3645e417f9de504e35437ebd3": {
          "model_module": "@jupyter-widgets/controls",
          "model_name": "DescriptionStyleModel",
          "model_module_version": "1.5.0",
          "state": {
            "_view_name": "StyleView",
            "_model_name": "DescriptionStyleModel",
            "description_width": "",
            "_view_module": "@jupyter-widgets/base",
            "_model_module_version": "1.5.0",
            "_view_count": null,
            "_view_module_version": "1.2.0",
            "_model_module": "@jupyter-widgets/controls"
          }
        },
        "50073445f7b04015beb5b202328aa089": {
          "model_module": "@jupyter-widgets/base",
          "model_name": "LayoutModel",
          "model_module_version": "1.2.0",
          "state": {
            "_view_name": "LayoutView",
            "grid_template_rows": null,
            "right": null,
            "justify_content": null,
            "_view_module": "@jupyter-widgets/base",
            "overflow": null,
            "_model_module_version": "1.2.0",
            "_view_count": null,
            "flex_flow": null,
            "width": null,
            "min_width": null,
            "border": null,
            "align_items": null,
            "bottom": null,
            "_model_module": "@jupyter-widgets/base",
            "top": null,
            "grid_column": null,
            "overflow_y": null,
            "overflow_x": null,
            "grid_auto_flow": null,
            "grid_area": null,
            "grid_template_columns": null,
            "flex": null,
            "_model_name": "LayoutModel",
            "justify_items": null,
            "grid_row": null,
            "max_height": null,
            "align_content": null,
            "visibility": null,
            "align_self": null,
            "height": null,
            "min_height": null,
            "padding": null,
            "grid_auto_rows": null,
            "grid_gap": null,
            "max_width": null,
            "order": null,
            "_view_module_version": "1.2.0",
            "grid_template_areas": null,
            "object_position": null,
            "object_fit": null,
            "grid_auto_columns": null,
            "margin": null,
            "display": null,
            "left": null
          }
        },
        "6fa4bb9bc999435eac6b3ec7676ff8ed": {
          "model_module": "@jupyter-widgets/controls",
          "model_name": "ProgressStyleModel",
          "model_module_version": "1.5.0",
          "state": {
            "_view_name": "StyleView",
            "_model_name": "ProgressStyleModel",
            "description_width": "",
            "_view_module": "@jupyter-widgets/base",
            "_model_module_version": "1.5.0",
            "_view_count": null,
            "_view_module_version": "1.2.0",
            "bar_color": null,
            "_model_module": "@jupyter-widgets/controls"
          }
        },
        "5e0ff578088e4c6bb02708ca17713196": {
          "model_module": "@jupyter-widgets/base",
          "model_name": "LayoutModel",
          "model_module_version": "1.2.0",
          "state": {
            "_view_name": "LayoutView",
            "grid_template_rows": null,
            "right": null,
            "justify_content": null,
            "_view_module": "@jupyter-widgets/base",
            "overflow": null,
            "_model_module_version": "1.2.0",
            "_view_count": null,
            "flex_flow": null,
            "width": null,
            "min_width": null,
            "border": null,
            "align_items": null,
            "bottom": null,
            "_model_module": "@jupyter-widgets/base",
            "top": null,
            "grid_column": null,
            "overflow_y": null,
            "overflow_x": null,
            "grid_auto_flow": null,
            "grid_area": null,
            "grid_template_columns": null,
            "flex": "2",
            "_model_name": "LayoutModel",
            "justify_items": null,
            "grid_row": null,
            "max_height": null,
            "align_content": null,
            "visibility": null,
            "align_self": null,
            "height": null,
            "min_height": null,
            "padding": null,
            "grid_auto_rows": null,
            "grid_gap": null,
            "max_width": null,
            "order": null,
            "_view_module_version": "1.2.0",
            "grid_template_areas": null,
            "object_position": null,
            "object_fit": null,
            "grid_auto_columns": null,
            "margin": null,
            "display": null,
            "left": null
          }
        },
        "eeaa8aa33a5441a399ceb1c284c9ee63": {
          "model_module": "@jupyter-widgets/controls",
          "model_name": "DescriptionStyleModel",
          "model_module_version": "1.5.0",
          "state": {
            "_view_name": "StyleView",
            "_model_name": "DescriptionStyleModel",
            "description_width": "",
            "_view_module": "@jupyter-widgets/base",
            "_model_module_version": "1.5.0",
            "_view_count": null,
            "_view_module_version": "1.2.0",
            "_model_module": "@jupyter-widgets/controls"
          }
        },
        "a77940739e9e49f99807143daba2d3cf": {
          "model_module": "@jupyter-widgets/base",
          "model_name": "LayoutModel",
          "model_module_version": "1.2.0",
          "state": {
            "_view_name": "LayoutView",
            "grid_template_rows": null,
            "right": null,
            "justify_content": null,
            "_view_module": "@jupyter-widgets/base",
            "overflow": null,
            "_model_module_version": "1.2.0",
            "_view_count": null,
            "flex_flow": null,
            "width": null,
            "min_width": null,
            "border": null,
            "align_items": null,
            "bottom": null,
            "_model_module": "@jupyter-widgets/base",
            "top": null,
            "grid_column": null,
            "overflow_y": null,
            "overflow_x": null,
            "grid_auto_flow": null,
            "grid_area": null,
            "grid_template_columns": null,
            "flex": null,
            "_model_name": "LayoutModel",
            "justify_items": null,
            "grid_row": null,
            "max_height": null,
            "align_content": null,
            "visibility": null,
            "align_self": null,
            "height": null,
            "min_height": null,
            "padding": null,
            "grid_auto_rows": null,
            "grid_gap": null,
            "max_width": null,
            "order": null,
            "_view_module_version": "1.2.0",
            "grid_template_areas": null,
            "object_position": null,
            "object_fit": null,
            "grid_auto_columns": null,
            "margin": null,
            "display": null,
            "left": null
          }
        },
        "da75557fc1a74b8bad5bc2a130bd2309": {
          "model_module": "@jupyter-widgets/controls",
          "model_name": "HBoxModel",
          "model_module_version": "1.5.0",
          "state": {
            "_view_name": "HBoxView",
            "_dom_classes": [],
            "_model_name": "HBoxModel",
            "_view_module": "@jupyter-widgets/controls",
            "_model_module_version": "1.5.0",
            "_view_count": null,
            "_view_module_version": "1.5.0",
            "box_style": "",
            "layout": "IPY_MODEL_5377ad15770a466c93a0e2dea894852c",
            "_model_module": "@jupyter-widgets/controls",
            "children": [
              "IPY_MODEL_0e80b6aa310a4a9f88978ef95ee2cb26",
              "IPY_MODEL_825e7a8eb93f424e973c4818511dc9aa",
              "IPY_MODEL_29743c6ab35944c3bc45a623fd18376c"
            ]
          }
        },
        "5377ad15770a466c93a0e2dea894852c": {
          "model_module": "@jupyter-widgets/base",
          "model_name": "LayoutModel",
          "model_module_version": "1.2.0",
          "state": {
            "_view_name": "LayoutView",
            "grid_template_rows": null,
            "right": null,
            "justify_content": null,
            "_view_module": "@jupyter-widgets/base",
            "overflow": null,
            "_model_module_version": "1.2.0",
            "_view_count": null,
            "flex_flow": "row wrap",
            "width": "100%",
            "min_width": null,
            "border": null,
            "align_items": null,
            "bottom": null,
            "_model_module": "@jupyter-widgets/base",
            "top": null,
            "grid_column": null,
            "overflow_y": null,
            "overflow_x": null,
            "grid_auto_flow": null,
            "grid_area": null,
            "grid_template_columns": null,
            "flex": null,
            "_model_name": "LayoutModel",
            "justify_items": null,
            "grid_row": null,
            "max_height": null,
            "align_content": null,
            "visibility": null,
            "align_self": null,
            "height": null,
            "min_height": null,
            "padding": null,
            "grid_auto_rows": null,
            "grid_gap": null,
            "max_width": null,
            "order": null,
            "_view_module_version": "1.2.0",
            "grid_template_areas": null,
            "object_position": null,
            "object_fit": null,
            "grid_auto_columns": null,
            "margin": null,
            "display": "inline-flex",
            "left": null
          }
        },
        "0e80b6aa310a4a9f88978ef95ee2cb26": {
          "model_module": "@jupyter-widgets/controls",
          "model_name": "HTMLModel",
          "model_module_version": "1.5.0",
          "state": {
            "_view_name": "HTMLView",
            "style": "IPY_MODEL_5062cdca37b64cefa382183a7e86e174",
            "_dom_classes": [],
            "description": "",
            "_model_name": "HTMLModel",
            "placeholder": "​",
            "_view_module": "@jupyter-widgets/controls",
            "_model_module_version": "1.5.0",
            "value": "100%",
            "_view_count": null,
            "_view_module_version": "1.5.0",
            "description_tooltip": null,
            "_model_module": "@jupyter-widgets/controls",
            "layout": "IPY_MODEL_d9be0440df554437b622b592f6f28476"
          }
        },
        "825e7a8eb93f424e973c4818511dc9aa": {
          "model_module": "@jupyter-widgets/controls",
          "model_name": "FloatProgressModel",
          "model_module_version": "1.5.0",
          "state": {
            "_view_name": "ProgressView",
            "style": "IPY_MODEL_f45de453970a48adb2c61ed19cc2c22a",
            "_dom_classes": [],
            "description": "",
            "_model_name": "FloatProgressModel",
            "bar_style": "",
            "max": 5,
            "_view_module": "@jupyter-widgets/controls",
            "_model_module_version": "1.5.0",
            "value": 5,
            "_view_count": null,
            "_view_module_version": "1.5.0",
            "orientation": "horizontal",
            "min": 0,
            "description_tooltip": null,
            "_model_module": "@jupyter-widgets/controls",
            "layout": "IPY_MODEL_d679e9a3252e4af78b579cd0ed3613ec"
          }
        },
        "29743c6ab35944c3bc45a623fd18376c": {
          "model_module": "@jupyter-widgets/controls",
          "model_name": "HTMLModel",
          "model_module_version": "1.5.0",
          "state": {
            "_view_name": "HTMLView",
            "style": "IPY_MODEL_0982b9c569604f04be5ba927fb1112bf",
            "_dom_classes": [],
            "description": "",
            "_model_name": "HTMLModel",
            "placeholder": "​",
            "_view_module": "@jupyter-widgets/controls",
            "_model_module_version": "1.5.0",
            "value": " 5/5 [00:01&lt;00:00,  5.64it/s]",
            "_view_count": null,
            "_view_module_version": "1.5.0",
            "description_tooltip": null,
            "_model_module": "@jupyter-widgets/controls",
            "layout": "IPY_MODEL_fa0f65c8ffb247a68aed60e70a45e9d1"
          }
        },
        "5062cdca37b64cefa382183a7e86e174": {
          "model_module": "@jupyter-widgets/controls",
          "model_name": "DescriptionStyleModel",
          "model_module_version": "1.5.0",
          "state": {
            "_view_name": "StyleView",
            "_model_name": "DescriptionStyleModel",
            "description_width": "",
            "_view_module": "@jupyter-widgets/base",
            "_model_module_version": "1.5.0",
            "_view_count": null,
            "_view_module_version": "1.2.0",
            "_model_module": "@jupyter-widgets/controls"
          }
        },
        "d9be0440df554437b622b592f6f28476": {
          "model_module": "@jupyter-widgets/base",
          "model_name": "LayoutModel",
          "model_module_version": "1.2.0",
          "state": {
            "_view_name": "LayoutView",
            "grid_template_rows": null,
            "right": null,
            "justify_content": null,
            "_view_module": "@jupyter-widgets/base",
            "overflow": null,
            "_model_module_version": "1.2.0",
            "_view_count": null,
            "flex_flow": null,
            "width": null,
            "min_width": null,
            "border": null,
            "align_items": null,
            "bottom": null,
            "_model_module": "@jupyter-widgets/base",
            "top": null,
            "grid_column": null,
            "overflow_y": null,
            "overflow_x": null,
            "grid_auto_flow": null,
            "grid_area": null,
            "grid_template_columns": null,
            "flex": null,
            "_model_name": "LayoutModel",
            "justify_items": null,
            "grid_row": null,
            "max_height": null,
            "align_content": null,
            "visibility": null,
            "align_self": null,
            "height": null,
            "min_height": null,
            "padding": null,
            "grid_auto_rows": null,
            "grid_gap": null,
            "max_width": null,
            "order": null,
            "_view_module_version": "1.2.0",
            "grid_template_areas": null,
            "object_position": null,
            "object_fit": null,
            "grid_auto_columns": null,
            "margin": null,
            "display": null,
            "left": null
          }
        },
        "f45de453970a48adb2c61ed19cc2c22a": {
          "model_module": "@jupyter-widgets/controls",
          "model_name": "ProgressStyleModel",
          "model_module_version": "1.5.0",
          "state": {
            "_view_name": "StyleView",
            "_model_name": "ProgressStyleModel",
            "description_width": "",
            "_view_module": "@jupyter-widgets/base",
            "_model_module_version": "1.5.0",
            "_view_count": null,
            "_view_module_version": "1.2.0",
            "bar_color": null,
            "_model_module": "@jupyter-widgets/controls"
          }
        },
        "d679e9a3252e4af78b579cd0ed3613ec": {
          "model_module": "@jupyter-widgets/base",
          "model_name": "LayoutModel",
          "model_module_version": "1.2.0",
          "state": {
            "_view_name": "LayoutView",
            "grid_template_rows": null,
            "right": null,
            "justify_content": null,
            "_view_module": "@jupyter-widgets/base",
            "overflow": null,
            "_model_module_version": "1.2.0",
            "_view_count": null,
            "flex_flow": null,
            "width": null,
            "min_width": null,
            "border": null,
            "align_items": null,
            "bottom": null,
            "_model_module": "@jupyter-widgets/base",
            "top": null,
            "grid_column": null,
            "overflow_y": null,
            "overflow_x": null,
            "grid_auto_flow": null,
            "grid_area": null,
            "grid_template_columns": null,
            "flex": "2",
            "_model_name": "LayoutModel",
            "justify_items": null,
            "grid_row": null,
            "max_height": null,
            "align_content": null,
            "visibility": null,
            "align_self": null,
            "height": null,
            "min_height": null,
            "padding": null,
            "grid_auto_rows": null,
            "grid_gap": null,
            "max_width": null,
            "order": null,
            "_view_module_version": "1.2.0",
            "grid_template_areas": null,
            "object_position": null,
            "object_fit": null,
            "grid_auto_columns": null,
            "margin": null,
            "display": null,
            "left": null
          }
        },
        "0982b9c569604f04be5ba927fb1112bf": {
          "model_module": "@jupyter-widgets/controls",
          "model_name": "DescriptionStyleModel",
          "model_module_version": "1.5.0",
          "state": {
            "_view_name": "StyleView",
            "_model_name": "DescriptionStyleModel",
            "description_width": "",
            "_view_module": "@jupyter-widgets/base",
            "_model_module_version": "1.5.0",
            "_view_count": null,
            "_view_module_version": "1.2.0",
            "_model_module": "@jupyter-widgets/controls"
          }
        },
        "fa0f65c8ffb247a68aed60e70a45e9d1": {
          "model_module": "@jupyter-widgets/base",
          "model_name": "LayoutModel",
          "model_module_version": "1.2.0",
          "state": {
            "_view_name": "LayoutView",
            "grid_template_rows": null,
            "right": null,
            "justify_content": null,
            "_view_module": "@jupyter-widgets/base",
            "overflow": null,
            "_model_module_version": "1.2.0",
            "_view_count": null,
            "flex_flow": null,
            "width": null,
            "min_width": null,
            "border": null,
            "align_items": null,
            "bottom": null,
            "_model_module": "@jupyter-widgets/base",
            "top": null,
            "grid_column": null,
            "overflow_y": null,
            "overflow_x": null,
            "grid_auto_flow": null,
            "grid_area": null,
            "grid_template_columns": null,
            "flex": null,
            "_model_name": "LayoutModel",
            "justify_items": null,
            "grid_row": null,
            "max_height": null,
            "align_content": null,
            "visibility": null,
            "align_self": null,
            "height": null,
            "min_height": null,
            "padding": null,
            "grid_auto_rows": null,
            "grid_gap": null,
            "max_width": null,
            "order": null,
            "_view_module_version": "1.2.0",
            "grid_template_areas": null,
            "object_position": null,
            "object_fit": null,
            "grid_auto_columns": null,
            "margin": null,
            "display": null,
            "left": null
          }
        },
        "bf7bc433da3747e58a05369d817dc214": {
          "model_module": "@jupyter-widgets/controls",
          "model_name": "HBoxModel",
          "model_module_version": "1.5.0",
          "state": {
            "_view_name": "HBoxView",
            "_dom_classes": [],
            "_model_name": "HBoxModel",
            "_view_module": "@jupyter-widgets/controls",
            "_model_module_version": "1.5.0",
            "_view_count": null,
            "_view_module_version": "1.5.0",
            "box_style": "",
            "layout": "IPY_MODEL_b4970c5dd45c4de68e3adceaf96c9ca5",
            "_model_module": "@jupyter-widgets/controls",
            "children": [
              "IPY_MODEL_55456623c271487e88749c6b353af953",
              "IPY_MODEL_d3194a3e30cf4b4fbe957d688ac00bee",
              "IPY_MODEL_cb9a85aeaeb64e20909a89c6c4d5df1b"
            ]
          }
        },
        "b4970c5dd45c4de68e3adceaf96c9ca5": {
          "model_module": "@jupyter-widgets/base",
          "model_name": "LayoutModel",
          "model_module_version": "1.2.0",
          "state": {
            "_view_name": "LayoutView",
            "grid_template_rows": null,
            "right": null,
            "justify_content": null,
            "_view_module": "@jupyter-widgets/base",
            "overflow": null,
            "_model_module_version": "1.2.0",
            "_view_count": null,
            "flex_flow": "row wrap",
            "width": "100%",
            "min_width": null,
            "border": null,
            "align_items": null,
            "bottom": null,
            "_model_module": "@jupyter-widgets/base",
            "top": null,
            "grid_column": null,
            "overflow_y": null,
            "overflow_x": null,
            "grid_auto_flow": null,
            "grid_area": null,
            "grid_template_columns": null,
            "flex": null,
            "_model_name": "LayoutModel",
            "justify_items": null,
            "grid_row": null,
            "max_height": null,
            "align_content": null,
            "visibility": null,
            "align_self": null,
            "height": null,
            "min_height": null,
            "padding": null,
            "grid_auto_rows": null,
            "grid_gap": null,
            "max_width": null,
            "order": null,
            "_view_module_version": "1.2.0",
            "grid_template_areas": null,
            "object_position": null,
            "object_fit": null,
            "grid_auto_columns": null,
            "margin": null,
            "display": "inline-flex",
            "left": null
          }
        },
        "55456623c271487e88749c6b353af953": {
          "model_module": "@jupyter-widgets/controls",
          "model_name": "HTMLModel",
          "model_module_version": "1.5.0",
          "state": {
            "_view_name": "HTMLView",
            "style": "IPY_MODEL_ab9c16903b2d46dd82ad9cadea92c8fb",
            "_dom_classes": [],
            "description": "",
            "_model_name": "HTMLModel",
            "placeholder": "​",
            "_view_module": "@jupyter-widgets/controls",
            "_model_module_version": "1.5.0",
            "value": "100%",
            "_view_count": null,
            "_view_module_version": "1.5.0",
            "description_tooltip": null,
            "_model_module": "@jupyter-widgets/controls",
            "layout": "IPY_MODEL_d0ad10b374434407bedc451da29bcdad"
          }
        },
        "d3194a3e30cf4b4fbe957d688ac00bee": {
          "model_module": "@jupyter-widgets/controls",
          "model_name": "FloatProgressModel",
          "model_module_version": "1.5.0",
          "state": {
            "_view_name": "ProgressView",
            "style": "IPY_MODEL_15346a5aedd744c3bd662edc647fb17b",
            "_dom_classes": [],
            "description": "",
            "_model_name": "FloatProgressModel",
            "bar_style": "",
            "max": 9,
            "_view_module": "@jupyter-widgets/controls",
            "_model_module_version": "1.5.0",
            "value": 9,
            "_view_count": null,
            "_view_module_version": "1.5.0",
            "orientation": "horizontal",
            "min": 0,
            "description_tooltip": null,
            "_model_module": "@jupyter-widgets/controls",
            "layout": "IPY_MODEL_da5fd64e1c8d44549d7af8245bb60af8"
          }
        },
        "cb9a85aeaeb64e20909a89c6c4d5df1b": {
          "model_module": "@jupyter-widgets/controls",
          "model_name": "HTMLModel",
          "model_module_version": "1.5.0",
          "state": {
            "_view_name": "HTMLView",
            "style": "IPY_MODEL_d5a2d363b75a42a68833f8136d4a2251",
            "_dom_classes": [],
            "description": "",
            "_model_name": "HTMLModel",
            "placeholder": "​",
            "_view_module": "@jupyter-widgets/controls",
            "_model_module_version": "1.5.0",
            "value": " 9/9 [00:01&lt;00:00,  9.76it/s]",
            "_view_count": null,
            "_view_module_version": "1.5.0",
            "description_tooltip": null,
            "_model_module": "@jupyter-widgets/controls",
            "layout": "IPY_MODEL_eb0f286112ce48b0bd55ced362eda7ce"
          }
        },
        "ab9c16903b2d46dd82ad9cadea92c8fb": {
          "model_module": "@jupyter-widgets/controls",
          "model_name": "DescriptionStyleModel",
          "model_module_version": "1.5.0",
          "state": {
            "_view_name": "StyleView",
            "_model_name": "DescriptionStyleModel",
            "description_width": "",
            "_view_module": "@jupyter-widgets/base",
            "_model_module_version": "1.5.0",
            "_view_count": null,
            "_view_module_version": "1.2.0",
            "_model_module": "@jupyter-widgets/controls"
          }
        },
        "d0ad10b374434407bedc451da29bcdad": {
          "model_module": "@jupyter-widgets/base",
          "model_name": "LayoutModel",
          "model_module_version": "1.2.0",
          "state": {
            "_view_name": "LayoutView",
            "grid_template_rows": null,
            "right": null,
            "justify_content": null,
            "_view_module": "@jupyter-widgets/base",
            "overflow": null,
            "_model_module_version": "1.2.0",
            "_view_count": null,
            "flex_flow": null,
            "width": null,
            "min_width": null,
            "border": null,
            "align_items": null,
            "bottom": null,
            "_model_module": "@jupyter-widgets/base",
            "top": null,
            "grid_column": null,
            "overflow_y": null,
            "overflow_x": null,
            "grid_auto_flow": null,
            "grid_area": null,
            "grid_template_columns": null,
            "flex": null,
            "_model_name": "LayoutModel",
            "justify_items": null,
            "grid_row": null,
            "max_height": null,
            "align_content": null,
            "visibility": null,
            "align_self": null,
            "height": null,
            "min_height": null,
            "padding": null,
            "grid_auto_rows": null,
            "grid_gap": null,
            "max_width": null,
            "order": null,
            "_view_module_version": "1.2.0",
            "grid_template_areas": null,
            "object_position": null,
            "object_fit": null,
            "grid_auto_columns": null,
            "margin": null,
            "display": null,
            "left": null
          }
        },
        "15346a5aedd744c3bd662edc647fb17b": {
          "model_module": "@jupyter-widgets/controls",
          "model_name": "ProgressStyleModel",
          "model_module_version": "1.5.0",
          "state": {
            "_view_name": "StyleView",
            "_model_name": "ProgressStyleModel",
            "description_width": "",
            "_view_module": "@jupyter-widgets/base",
            "_model_module_version": "1.5.0",
            "_view_count": null,
            "_view_module_version": "1.2.0",
            "bar_color": null,
            "_model_module": "@jupyter-widgets/controls"
          }
        },
        "da5fd64e1c8d44549d7af8245bb60af8": {
          "model_module": "@jupyter-widgets/base",
          "model_name": "LayoutModel",
          "model_module_version": "1.2.0",
          "state": {
            "_view_name": "LayoutView",
            "grid_template_rows": null,
            "right": null,
            "justify_content": null,
            "_view_module": "@jupyter-widgets/base",
            "overflow": null,
            "_model_module_version": "1.2.0",
            "_view_count": null,
            "flex_flow": null,
            "width": null,
            "min_width": null,
            "border": null,
            "align_items": null,
            "bottom": null,
            "_model_module": "@jupyter-widgets/base",
            "top": null,
            "grid_column": null,
            "overflow_y": null,
            "overflow_x": null,
            "grid_auto_flow": null,
            "grid_area": null,
            "grid_template_columns": null,
            "flex": "2",
            "_model_name": "LayoutModel",
            "justify_items": null,
            "grid_row": null,
            "max_height": null,
            "align_content": null,
            "visibility": null,
            "align_self": null,
            "height": null,
            "min_height": null,
            "padding": null,
            "grid_auto_rows": null,
            "grid_gap": null,
            "max_width": null,
            "order": null,
            "_view_module_version": "1.2.0",
            "grid_template_areas": null,
            "object_position": null,
            "object_fit": null,
            "grid_auto_columns": null,
            "margin": null,
            "display": null,
            "left": null
          }
        },
        "d5a2d363b75a42a68833f8136d4a2251": {
          "model_module": "@jupyter-widgets/controls",
          "model_name": "DescriptionStyleModel",
          "model_module_version": "1.5.0",
          "state": {
            "_view_name": "StyleView",
            "_model_name": "DescriptionStyleModel",
            "description_width": "",
            "_view_module": "@jupyter-widgets/base",
            "_model_module_version": "1.5.0",
            "_view_count": null,
            "_view_module_version": "1.2.0",
            "_model_module": "@jupyter-widgets/controls"
          }
        },
        "eb0f286112ce48b0bd55ced362eda7ce": {
          "model_module": "@jupyter-widgets/base",
          "model_name": "LayoutModel",
          "model_module_version": "1.2.0",
          "state": {
            "_view_name": "LayoutView",
            "grid_template_rows": null,
            "right": null,
            "justify_content": null,
            "_view_module": "@jupyter-widgets/base",
            "overflow": null,
            "_model_module_version": "1.2.0",
            "_view_count": null,
            "flex_flow": null,
            "width": null,
            "min_width": null,
            "border": null,
            "align_items": null,
            "bottom": null,
            "_model_module": "@jupyter-widgets/base",
            "top": null,
            "grid_column": null,
            "overflow_y": null,
            "overflow_x": null,
            "grid_auto_flow": null,
            "grid_area": null,
            "grid_template_columns": null,
            "flex": null,
            "_model_name": "LayoutModel",
            "justify_items": null,
            "grid_row": null,
            "max_height": null,
            "align_content": null,
            "visibility": null,
            "align_self": null,
            "height": null,
            "min_height": null,
            "padding": null,
            "grid_auto_rows": null,
            "grid_gap": null,
            "max_width": null,
            "order": null,
            "_view_module_version": "1.2.0",
            "grid_template_areas": null,
            "object_position": null,
            "object_fit": null,
            "grid_auto_columns": null,
            "margin": null,
            "display": null,
            "left": null
          }
        }
      }
    }
  },
  "cells": [
    {
      "cell_type": "markdown",
      "metadata": {
        "id": "0Gt4MUdJhuiY"
      },
      "source": [
        "Please see [the PyEMMA LiveCoMS article](https://doi.org/10.33011/livecoms.1.1.5965) and associated GitHub repository [https://github.com/markovmodel/pyemma_tutorials](https://github.com/markovmodel/pyemma_tutorials) for additional background and tutorials.\n",
        "\n",
        "# Featurization\n",
        "\n",
        "Import the [pyEMMA coordinates](http://emma-project.org/latest/api/index_coor.html).\n",
        ">  This package contains functions and classes for reading and writing trajectory files, extracting order parameters from them (such as distances or angles), as well as various methods for dimensionality reduction and clustering."
      ]
    },
    {
      "cell_type": "code",
      "metadata": {
        "id": "DNUPudjHhxfb"
      },
      "source": [
        "%%time \n",
        "### run this block if running notebook on google collab\n",
        "\n",
        "# Import condacolab python library and install condacolab (~5-10 minutes). \n",
        "\n",
        "# Make sure to rerun this cell after it crashes\n",
        "!pip install --target=$nb_path -q condacolab\n",
        "import condacolab\n",
        "condacolab.install()\n",
        "\n",
        "# Check condacolab to ensure that it works\n",
        "condacolab.check()\n",
        "\n",
        "# Install packages\n",
        "!conda config --add channels conda-forge\n",
        "!conda install pyemma \n",
        "\n",
        "### run this block if running notebook on google collab\n",
        "# When running for the first time, you will need to click on the link \n",
        "# at the bottom of the output and copy/paste the code into here\n",
        "from google.colab import drive\n",
        "drive.mount('/content/drive', force_remount = True)\n",
        "\n",
        "# Move into directory so that files can be accessed\n",
        "%cd /content/drive/MyDrive/drug-computing/uci-pharmsci/lectures/cluster_and_visualize\n",
        "# list files/folders in directory\n",
        "%ls"
      ],
      "execution_count": null,
      "outputs": []
    },
    {
      "cell_type": "code",
      "source": [
        ""
      ],
      "metadata": {
        "id": "M6fR9CKKJaG3"
      },
      "execution_count": null,
      "outputs": []
    },
    {
      "cell_type": "code",
      "metadata": {
        "id": "i-eVcBVShuif"
      },
      "source": [
        "import pyemma.coordinates as coor\n",
        "import numpy as np"
      ],
      "execution_count": 2,
      "outputs": []
    },
    {
      "cell_type": "code",
      "metadata": {
        "id": "UnU19tUthuih"
      },
      "source": [
        "#Define our input MD files\n",
        "md_nc = '4XH_1-md_subsamp.nc'\n",
        "topfile = '4XH_1-top.pdb'"
      ],
      "execution_count": 3,
      "outputs": []
    },
    {
      "cell_type": "markdown",
      "metadata": {
        "id": "m5etBseChuii"
      },
      "source": [
        "From the coordinates module, use the [featurizer](http://emma-project.org/latest/api/generated/pyemma.coordinates.featurizer.html#pyemma.coordinates.featurizer) to select the ligand heavy atoms."
      ]
    },
    {
      "cell_type": "code",
      "metadata": {
        "colab": {
          "base_uri": "https://localhost:8080/"
        },
        "id": "TT7NXb4Xhuii",
        "outputId": "260db446-6ee8-43c8-fdd3-41bc3ff5d7d6"
      },
      "source": [
        "feat = coor.featurizer(topfile)\n",
        "lig_atoms = feat.select(\"resname LIG and not type H\")\n",
        "feat.add_selection(lig_atoms)\n",
        "print('Selected %s heavy atoms' % len(lig_atoms))"
      ],
      "execution_count": 4,
      "outputs": [
        {
          "output_type": "stream",
          "name": "stdout",
          "text": [
            "Selected 11 heavy atoms\n"
          ]
        }
      ]
    },
    {
      "cell_type": "markdown",
      "metadata": {
        "id": "ljSgmabNhuij"
      },
      "source": [
        "Load the coordinates from disc. Often, coordinates will not fit into memory, so we'll just create a loader by specifying the files as follows using the [source module](http://emma-project.org/latest/api/generated/pyemma.coordinates.source.html):"
      ]
    },
    {
      "cell_type": "code",
      "metadata": {
        "colab": {
          "base_uri": "https://localhost:8080/"
        },
        "id": "NDlk7Gnyhuik",
        "outputId": "01a73889-fd56-4e66-810b-5c1940ef7a71"
      },
      "source": [
        "inp = coor.source(md_nc, feat)\n",
        "print('number of trajectories = ',inp.number_of_trajectories())\n",
        "print('trajectory length = ',inp.trajectory_length(0))\n",
        "print('number of dimension = ',inp.dimension())"
      ],
      "execution_count": 5,
      "outputs": [
        {
          "output_type": "stream",
          "name": "stdout",
          "text": [
            "number of trajectories =  1\n",
            "trajectory length =  750\n",
            "number of dimension =  33\n"
          ]
        }
      ]
    },
    {
      "cell_type": "markdown",
      "metadata": {
        "id": "ZYX5dMsuhuil"
      },
      "source": [
        "# Dimensionality Reduction\n",
        "## time-lagged independent component analysis (TICA)\n",
        "[TICA theory](http://docs.markovmodel.org/lecture_tica.html)\n",
        "\n",
        "Run TICA for a series of lag times and select a suitable lag time for further analysis. In order to do so, have a look at the implied timescales generated by TICA. The [TICA object](http://emma-project.org/latest/api/generated/pyemma.coordinates.tica.html#pyemma.coordinates.tica) has an attribute timescales.\n",
        "\n"
      ]
    },
    {
      "cell_type": "code",
      "metadata": {
        "id": "1MPLRhLqhuil"
      },
      "source": [
        "#Frames in MD simulation were taken every 10ps \n",
        "#Give a range of different lag times to try out\n",
        "dt = 10\n",
        "lag_list = np.arange(1, 20,5)\n",
        "nlags = lag_list.shape[0]"
      ],
      "execution_count": 6,
      "outputs": []
    },
    {
      "cell_type": "code",
      "metadata": {
        "colab": {
          "base_uri": "https://localhost:8080/"
        },
        "id": "hqsQ7NiRhuim",
        "outputId": "131bfbf3-8e47-402b-ba04-8bdb80f0a4bd"
      },
      "source": [
        "#Load the trajectory files\n",
        "Y = inp.get_output()\n",
        "print(\"type of Y:\", type(Y))\n",
        "print(\"length of Y:\", len(Y))\n",
        "print(\"shape of first element:\", Y[0].shape)"
      ],
      "execution_count": 7,
      "outputs": [
        {
          "output_type": "stream",
          "name": "stdout",
          "text": [
            "type of Y: <class 'list'>\n",
            "length of Y: 1\n",
            "shape of first element: (750, 33)\n"
          ]
        }
      ]
    },
    {
      "cell_type": "code",
      "metadata": {
        "id": "-zKfT3Mthuin"
      },
      "source": [
        "#Try out different lag times fr \n",
        "lag_times = []\n",
        "for lag in lag_list:\n",
        "    data = coor.tica(np.vstack(Y),lag, kinetic_map=True, var_cutoff=0.95, reversible=True)\n",
        "    lag_times.append(data.timescales[:10])\n",
        "lag_times = np.asarray(lag_times)"
      ],
      "execution_count": 8,
      "outputs": []
    },
    {
      "cell_type": "code",
      "metadata": {
        "id": "HRY63hpxhuin"
      },
      "source": [
        "import matplotlib.pyplot as plt\n",
        "%matplotlib inline"
      ],
      "execution_count": 9,
      "outputs": []
    },
    {
      "cell_type": "code",
      "metadata": {
        "colab": {
          "base_uri": "https://localhost:8080/",
          "height": 303
        },
        "id": "SiBK7ZnHhuio",
        "outputId": "5ea6ca3b-c5ff-440a-9de8-d7c28ab92855"
      },
      "source": [
        "#Plot the different lag times\n",
        "plt.plot(dt*lag_list, dt*lag_times, linewidth=2)\n",
        "plt.xlabel(r\"Lag time [$ps$]\", fontsize=12)\n",
        "plt.ylabel(r\"Timescales [$ps$]\", fontsize=12)"
      ],
      "execution_count": 10,
      "outputs": [
        {
          "output_type": "execute_result",
          "data": {
            "text/plain": [
              "Text(0, 0.5, 'Timescales [$ps$]')"
            ]
          },
          "metadata": {},
          "execution_count": 10
        },
        {
          "output_type": "display_data",
          "data": {
            "image/png": "[encoded data removed]",
            "text/plain": [
              "<Figure size 432x288 with 1 Axes>"
            ]
          },
          "metadata": {
            "needs_background": "light"
          }
        }
      ]
    },
    {
      "cell_type": "code",
      "metadata": {
        "colab": {
          "base_uri": "https://localhost:8080/"
        },
        "id": "QNuUMDuThuio",
        "outputId": "746d0bfb-ff01-455a-d3fc-2a5dd76e2b9b"
      },
      "source": [
        "#Select a lag time where the lines start to level off\n",
        "#Here, I'll use 80ps\n",
        "lag = np.int(80/ dt)\n",
        "\n",
        "tica_obj = coor.tica(inp, lag=lag, kinetic_map=True, var_cutoff=0.95, reversible=True)\n",
        "print('TICA dimension ', tica_obj.dimension())"
      ],
      "execution_count": 39,
      "outputs": [
        {
          "output_type": "stream",
          "name": "stdout",
          "text": [
            "TICA dimension  17\n"
          ]
        }
      ]
    },
    {
      "cell_type": "markdown",
      "metadata": {
        "id": "UGuXMp8uhuip"
      },
      "source": [
        "Plot the first two TICA components. The TICA object has a get_output() method."
      ]
    },
    {
      "cell_type": "code",
      "metadata": {
        "colab": {
          "base_uri": "https://localhost:8080/"
        },
        "id": "kbTE4XLhhuip",
        "outputId": "5ed9c6b0-363d-408b-bcd1-8fe70dfe0d2c"
      },
      "source": [
        "Y = tica_obj.get_output() # get tica coordinates\n",
        "print('number of trajectories = ', np.shape(Y)[0])\n",
        "print('number of frames = ', np.shape(Y)[1])\n",
        "print('number of dimensions = ',np.shape(Y)[2])"
      ],
      "execution_count": 12,
      "outputs": [
        {
          "output_type": "stream",
          "name": "stdout",
          "text": [
            "number of trajectories =  1\n",
            "number of frames =  750\n",
            "number of dimensions =  17\n"
          ]
        }
      ]
    },
    {
      "cell_type": "markdown",
      "metadata": {
        "id": "-qtd2SMjhuiq"
      },
      "source": [
        "PyEMMA has a [plotting module](http://emma-project.org/latest/api/index_plots.html#plots-plotting-tools-pyemma-plots) which we can use to plot the TICA coordinates"
      ]
    },
    {
      "cell_type": "code",
      "metadata": {
        "id": "qMb4xog5huiq"
      },
      "source": [
        "from pyemma import plots"
      ],
      "execution_count": 13,
      "outputs": []
    },
    {
      "cell_type": "code",
      "metadata": {
        "colab": {
          "base_uri": "https://localhost:8080/",
          "height": 296
        },
        "id": "Algdtrp0huiq",
        "outputId": "2d1ec6aa-baa7-45e0-b4a2-9b0be900b847"
      },
      "source": [
        "plots.plot_free_energy(np.vstack(Y)[:, 0], np.vstack(Y)[:, 1], nbins=25)\n",
        "plt.xlabel('TIC 1')\n",
        "plt.ylabel('TIC 2')"
      ],
      "execution_count": 14,
      "outputs": [
        {
          "output_type": "execute_result",
          "data": {
            "text/plain": [
              "Text(0, 0.5, 'TIC 2')"
            ]
          },
          "metadata": {},
          "execution_count": 14
        },
        {
          "output_type": "display_data",
          "data": {
            "image/png": "[encoded data removed]",
            "text/plain": [
              "<Figure size 432x288 with 2 Axes>"
            ]
          },
          "metadata": {
            "needs_background": "light"
          }
        }
      ]
    },
    {
      "cell_type": "markdown",
      "metadata": {
        "id": "UxtCaBx4huiq"
      },
      "source": [
        "# Clustering the data\n",
        "\n",
        "## K-means clustering\n",
        "Use [k-means clustering](http://emma-project.org/latest/api/generated/pyemma.coordinates.clustering.KmeansClustering.html#pyemma.coordinates.clustering.KmeansClustering) and get the discrete trajectories"
      ]
    },
    {
      "cell_type": "code",
      "metadata": {
        "colab": {
          "base_uri": "https://localhost:8080/",
          "height": 34,
          "referenced_widgets": [
            "aead02a8dab14ea2b1b6a1257aba4e19",
            "7bfd94ed8e6a4181ad396f1ae472a8a3",
            "47439e83ad8346a9bf03482d24b040fa",
            "f31039faad2d432299bae78d4832829c",
            "d9a119fdc6214602b9d9e4e6990ee26c",
            "99468fa7b7b84e2a8672e51589727b5c",
            "1253ff80b2a24233ad9d561401963220",
            "14495cf67a8843cdbdad44968c7d8d60",
            "53b78a8fec9847e580d2e92f4dd51c70",
            "afa9fa848ebb4f51b27a70baccaef5e0",
            "dd3479c1ac284cfa80a7fe8c11570aac",
            "aaf513975ed74c8aa0671653f3b315c1",
            "d8bbc33255b643c2806c36e3cdadd74f",
            "c4c716a26d484cd49ab4d2f783c12dba",
            "80d3a1c887b043cca4a0edad58937732",
            "696a263f7d814836b9715a9ffa28bc6e",
            "6e074915dc934f54be34c3d1a6fa008d",
            "75976b196eeb4452912992469f6d35c0",
            "fbcfffa704bf45fd893ea8c9ee78610b",
            "dd5e901cad0646f0aadefd5aee842533",
            "43372e9a96414126b45ebe1c98061406",
            "db0ca6fc21ee47aea427aa0bf069e1de"
          ]
        },
        "id": "0ZEArxInhuiq",
        "outputId": "0f0c3f66-c0f7-4ef2-db74-5f97d9212a8a"
      },
      "source": [
        "cl = coor.cluster_kmeans(data=np.vstack(Y), max_iter=100)\n",
        "# for later use we save the discrete trajectories and cluster center coordinates:\n",
        "dtrajs = cl.dtrajs\n",
        "cc_x = cl.clustercenters[:, 0]\n",
        "cc_y = cl.clustercenters[:, 1]"
      ],
      "execution_count": 15,
      "outputs": [
        {
          "output_type": "stream",
          "name": "stdout",
          "text": [
            "20-12-21 19:04:35 pyemma.coordinates.clustering.kmeans.KmeansClustering[15] INFO     The number of cluster centers was not specified, using min(sqrt(N), 5000)=27 as n_clusters.\n"
          ]
        },
        {
          "output_type": "display_data",
          "data": {
            "application/vnd.jupyter.widget-view+json": {
              "model_id": "aead02a8dab14ea2b1b6a1257aba4e19",
              "version_minor": 0,
              "version_major": 2
            },
            "text/plain": [
              "initialize kmeans++ centers:   0%|          | 0/27 [00:00<?, ?it/s]"
            ]
          },
          "metadata": {}
        },
        {
          "output_type": "display_data",
          "data": {
            "application/vnd.jupyter.widget-view+json": {
              "model_id": "aaf513975ed74c8aa0671653f3b315c1",
              "version_minor": 0,
              "version_major": 2
            },
            "text/plain": [
              "kmeans iterations:   0%|          | 0/100 [00:00<?, ?it/s]"
            ]
          },
          "metadata": {}
        }
      ]
    },
    {
      "cell_type": "markdown",
      "metadata": {
        "id": "5fpyWGy9huir"
      },
      "source": [
        "Visualize the clusters"
      ]
    },
    {
      "cell_type": "code",
      "metadata": {
        "colab": {
          "base_uri": "https://localhost:8080/",
          "height": 296
        },
        "id": "zhaLxu7Ehuir",
        "outputId": "1d7a6f10-37ec-4256-82d2-87ee32600421"
      },
      "source": [
        "plots.plot_free_energy(np.vstack(Y)[:, 0], np.vstack(Y)[:, 1], nbins=25)\n",
        "plt.scatter(cc_x, cc_y, marker = 'x', s=50,color = 'black')\n",
        "plt.xlabel('TIC 1')\n",
        "plt.ylabel('TIC 2')"
      ],
      "execution_count": 16,
      "outputs": [
        {
          "output_type": "execute_result",
          "data": {
            "text/plain": [
              "Text(0, 0.5, 'TIC 2')"
            ]
          },
          "metadata": {},
          "execution_count": 16
        },
        {
          "output_type": "display_data",
          "data": {
            "image/png": "[encoded data removed]",
            "text/plain": [
              "<Figure size 432x288 with 2 Axes>"
            ]
          },
          "metadata": {
            "needs_background": "light"
          }
        }
      ]
    },
    {
      "cell_type": "markdown",
      "metadata": {
        "id": "45SEntpXhuir"
      },
      "source": [
        "If you have time, try other clustering methods (regular space, regular time) and visualize the results. Which method do you prefer?"
      ]
    },
    {
      "cell_type": "markdown",
      "metadata": {
        "id": "JlpIt3iIhuir"
      },
      "source": [
        "# Markov State Model construction\n",
        "#### Theory: \n",
        "- [Implied timescales](http://docs.markovmodel.org/lecture_implied_timescales.html)\n",
        "- Pande, V. S., K. A. Beauchamp, and G. R. Bowman. [Everything you wanted to know about Markov State Models but were afraid to ask](http://www.sciencedirect.com/science/article/pii/S1046202310001568?via%3Dihub)\n",
        " Methods 52.1 (2010): 99-105\n",
        "Let's estimate MSMs at different lagtimes. Now we would like the lagtime to converge within the statistical uncertainty.\n",
        "\n",
        "This function estimates an MSM for each of the lag-times we have provided: $\\tau=n_{lag}\\cdot t_{\\text{stride}}$ Where $n_{lag}$ is one of the integers given in the lags list, and  $t_{\\text{stride}}$ is the trajectory time-stride. For the example data given here the last parameter is $80\\,\\mathrm{ps}$. The implied-timescales are then computed as:\n",
        "   $$ t_i = \\frac{-\\tau}{\\ln | \\lambda_i(\\tau) |}.$$\n",
        "The its object contains these implied time-scales which can be plotted using one of PyEMMAs built in function for quick inspection - here you can also defined the time-units to ensure the axes express physical time."
      ]
    },
    {
      "cell_type": "code",
      "metadata": {
        "id": "lkKSqkhhhuis"
      },
      "source": [
        "from pyemma import msm"
      ],
      "execution_count": 17,
      "outputs": []
    },
    {
      "cell_type": "code",
      "metadata": {
        "colab": {
          "base_uri": "https://localhost:8080/",
          "height": 34,
          "referenced_widgets": [
            "0442c622407a4bd4ad738929bbdb8114",
            "9b884ef1fa0f4282aad6cfe7a5b3ab42",
            "5ab5b22d69944e319667f346cb88fbcc",
            "14612d52697140b4aa9f8d56063f3d6a",
            "041093efc5784eecaf5b0daa2d8d8a9a",
            "62d4cab3645e417f9de504e35437ebd3",
            "50073445f7b04015beb5b202328aa089",
            "6fa4bb9bc999435eac6b3ec7676ff8ed",
            "5e0ff578088e4c6bb02708ca17713196",
            "eeaa8aa33a5441a399ceb1c284c9ee63",
            "a77940739e9e49f99807143daba2d3cf"
          ]
        },
        "id": "Tw3hEH7Yhuis",
        "outputId": "1026c250-3fae-46f7-af8d-4d868751e781"
      },
      "source": [
        "print(lag)\n",
        "its = msm.timescales_msm(dtrajs, lags=lag, nits=10)"
      ],
      "execution_count": 18,
      "outputs": [
        {
          "output_type": "stream",
          "name": "stdout",
          "text": [
            "8\n"
          ]
        },
        {
          "output_type": "display_data",
          "data": {
            "application/vnd.jupyter.widget-view+json": {
              "model_id": "0442c622407a4bd4ad738929bbdb8114",
              "version_minor": 0,
              "version_major": 2
            },
            "text/plain": [
              "estimating MaximumLikelihoodMSM:   0%|          | 0/5 [00:00<?, ?it/s]"
            ]
          },
          "metadata": {}
        }
      ]
    },
    {
      "cell_type": "code",
      "metadata": {
        "colab": {
          "base_uri": "https://localhost:8080/",
          "height": 283
        },
        "id": "hdQilOcxhuis",
        "outputId": "277272ba-485d-42c8-8a76-9c6c0f5df950"
      },
      "source": [
        "plots.plot_implied_timescales(its,dt=dt, units='$ps$')\n",
        "plt.ylim(1,5000);"
      ],
      "execution_count": 19,
      "outputs": [
        {
          "output_type": "display_data",
          "data": {
            "image/png": "[encoded data removed]",
            "text/plain": [
              "<Figure size 432x288 with 1 Axes>"
            ]
          },
          "metadata": {
            "needs_background": "light"
          }
        }
      ]
    },
    {
      "cell_type": "markdown",
      "metadata": {
        "id": "VHbCtEtghuis"
      },
      "source": [
        "Use plots.plot_implied_timescales to visualize."
      ]
    },
    {
      "cell_type": "markdown",
      "metadata": {
        "id": "qo3nNwB1huis"
      },
      "source": [
        "It has been shown that the implied timescales (y-axis) should be independent of the lag time (x-axis) [3]. For short lag times this is not the case, but after about 40 picoseconds, they are fairly constant. Some of the faster timescales (lower value on y-axis) either still increase as a function of lag-time or fall below the grey shaded area in the plot. This is often the case and is due to a combination of numerical issues and an imperfect discretization - this mean that the processes associated with these time-scales will be unreliable. The grey area defines the lag-time of the model, and therefore also the time-resolution of what can be resolved. If the processess fall within this area, they are generally not resolved.\n",
        "\n",
        "Basically - we have to make a compromise, we want to have the model which the highest time-resolution which still has implied time-scales which are lag-time independent.\n",
        "\n",
        "Sometimes it can be useful to quantify the uncertainty of these time-scales, to get a better idea of any changes in the implied-timescales carry any statistical significance. \n",
        "\n",
        "**using the docstring of the its-function, try to figure out how to obtain Bayesian error estimates of the implied time-scales**"
      ]
    },
    {
      "cell_type": "markdown",
      "metadata": {
        "id": "heQC3tSqhuit"
      },
      "source": [
        "Estimate uncertainties using Bayesian sampling. Note that these errors tend to be a bit underestimated, but we can still see that the timescales are flat within the error for lag times above 40 picoseconds."
      ]
    },
    {
      "cell_type": "code",
      "metadata": {
        "colab": {
          "base_uri": "https://localhost:8080/",
          "height": 283,
          "referenced_widgets": [
            "da75557fc1a74b8bad5bc2a130bd2309",
            "5377ad15770a466c93a0e2dea894852c",
            "0e80b6aa310a4a9f88978ef95ee2cb26",
            "825e7a8eb93f424e973c4818511dc9aa",
            "29743c6ab35944c3bc45a623fd18376c",
            "5062cdca37b64cefa382183a7e86e174",
            "d9be0440df554437b622b592f6f28476",
            "f45de453970a48adb2c61ed19cc2c22a",
            "d679e9a3252e4af78b579cd0ed3613ec",
            "0982b9c569604f04be5ba927fb1112bf",
            "fa0f65c8ffb247a68aed60e70a45e9d1"
          ]
        },
        "id": "zaT002brhuit",
        "outputId": "80490bbe-9e19-4ba7-fdf4-9bcbd6a8e71e"
      },
      "source": [
        "its = msm.timescales_msm(dtrajs, lags=lag, nits=10, errors='bayes')\n",
        "plots.plot_implied_timescales(its, dt=dt, units='$ps$')\n",
        "plt.ylim(1, 5000);"
      ],
      "execution_count": 20,
      "outputs": [
        {
          "output_type": "display_data",
          "data": {
            "application/vnd.jupyter.widget-view+json": {
              "model_id": "da75557fc1a74b8bad5bc2a130bd2309",
              "version_minor": 0,
              "version_major": 2
            },
            "text/plain": [
              "estimating BayesianMSM:   0%|          | 0/5 [00:00<?, ?it/s]"
            ]
          },
          "metadata": {}
        },
        {
          "output_type": "display_data",
          "data": {
            "image/png": "[encoded data removed]",
            "text/plain": [
              "<Figure size 432x288 with 1 Axes>"
            ]
          },
          "metadata": {
            "needs_background": "light"
          }
        }
      ]
    },
    {
      "cell_type": "markdown",
      "metadata": {
        "id": "Gq6M99Iqhuit"
      },
      "source": [
        "Now build an MSM at a good lag time:"
      ]
    },
    {
      "cell_type": "code",
      "metadata": {
        "id": "kn9wi8kMhuit"
      },
      "source": [
        "M = msm.estimate_markov_model(dtrajs, lag)"
      ],
      "execution_count": 21,
      "outputs": []
    },
    {
      "cell_type": "code",
      "metadata": {
        "colab": {
          "base_uri": "https://localhost:8080/"
        },
        "id": "Yi192aoFhuit",
        "outputId": "4674608e-ee8a-433d-efb8-6b618dd89164"
      },
      "source": [
        "#Count of transitions between two states\n",
        "M.count_matrix_active"
      ],
      "execution_count": 22,
      "outputs": [
        {
          "output_type": "execute_result",
          "data": {
            "text/plain": [
              "array([[17.,  1.,  1.,  0.,  1.,  1.,  0.,  0.,  4.,  0.,  0.,  0.,  0.,\n",
              "        12.,  0.,  5.,  2.,  0.,  2., 14.,  0.,  0.,  0.,  0.,  0.,  2.,\n",
              "         0.],\n",
              "       [ 0.,  6.,  1.,  0.,  0.,  2.,  0.,  0.,  0.,  2.,  0.,  0.,  1.,\n",
              "         0.,  5.,  0.,  2.,  6.,  2.,  0.,  0.,  1.,  1.,  0.,  4.,  0.,\n",
              "         3.],\n",
              "       [ 2.,  1.,  5.,  1.,  1.,  3.,  2.,  3.,  0.,  3.,  0.,  1.,  1.,\n",
              "         3.,  0.,  0.,  3.,  1.,  4.,  2.,  0.,  1.,  3.,  0.,  3.,  0.,\n",
              "         1.],\n",
              "       [ 0.,  0.,  0.,  2.,  2.,  0.,  0.,  3.,  0.,  0.,  1.,  0.,  0.,\n",
              "         0.,  0.,  0.,  1.,  0.,  0.,  0.,  2.,  1.,  0.,  0.,  0.,  1.,\n",
              "         1.],\n",
              "       [ 0.,  0.,  3.,  3.,  2.,  0.,  0.,  3.,  0.,  0.,  0.,  2.,  0.,\n",
              "         0.,  1.,  0.,  0.,  0.,  0.,  0.,  2.,  2.,  1.,  0.,  0.,  0.,\n",
              "         0.],\n",
              "       [ 1.,  4.,  3.,  0.,  0.,  7.,  0.,  0.,  0.,  3.,  0.,  0.,  1.,\n",
              "         0.,  1.,  0.,  2.,  4.,  4.,  1.,  0.,  0.,  1.,  0.,  2.,  0.,\n",
              "         4.],\n",
              "       [ 0.,  0.,  0.,  0.,  0.,  0.,  2.,  0.,  0.,  0.,  0.,  3.,  0.,\n",
              "         0.,  0.,  0.,  0.,  0.,  0.,  0.,  0.,  0.,  5.,  0.,  0.,  0.,\n",
              "         0.],\n",
              "       [ 1.,  0.,  1.,  2.,  5.,  0.,  0.,  2.,  0.,  0.,  1.,  0.,  0.,\n",
              "         0.,  0.,  0.,  2.,  0.,  1.,  0.,  5.,  1.,  0.,  0.,  1.,  1.,\n",
              "         0.],\n",
              "       [ 8.,  0.,  2.,  0.,  0.,  0.,  0.,  0.,  3.,  0.,  0.,  0.,  0.,\n",
              "         3.,  0.,  2.,  0.,  0.,  0.,  2.,  0.,  1.,  0.,  2.,  0.,  1.,\n",
              "         0.],\n",
              "       [ 1.,  1.,  3.,  1.,  0.,  0.,  0.,  0.,  0.,  5.,  0.,  0.,  4.,\n",
              "         1.,  2.,  0.,  1.,  4.,  0.,  0.,  1.,  0.,  0.,  0.,  5.,  0.,\n",
              "         4.],\n",
              "       [ 2.,  0.,  0.,  0.,  0.,  0.,  0.,  0.,  0.,  0.,  0.,  0.,  0.,\n",
              "         1.,  0.,  1.,  0.,  0.,  0.,  0.,  0.,  0.,  0.,  0.,  0.,  0.,\n",
              "         0.],\n",
              "       [ 0.,  0.,  0.,  0.,  0.,  0.,  2.,  1.,  0.,  0.,  0.,  1.,  0.,\n",
              "         0.,  0.,  0.,  0.,  0.,  0.,  0.,  1.,  2.,  3.,  0.,  1.,  0.,\n",
              "         0.],\n",
              "       [ 0.,  5.,  1.,  0.,  0.,  1.,  0.,  0.,  0.,  3.,  0.,  0.,  9.,\n",
              "         1.,  2.,  0.,  2.,  2.,  2.,  0.,  0.,  0.,  0.,  0.,  1.,  0.,\n",
              "         4.],\n",
              "       [ 8.,  0.,  3.,  0.,  0.,  0.,  0.,  0.,  3.,  0.,  1.,  1.,  2.,\n",
              "         7.,  0.,  2.,  0.,  0.,  0., 17.,  1.,  0.,  0.,  1.,  3.,  0.,\n",
              "         0.],\n",
              "       [ 0.,  1.,  1.,  1.,  0.,  2.,  0.,  1.,  0.,  2.,  0.,  0.,  2.,\n",
              "         0.,  3.,  0.,  0.,  2.,  1.,  0.,  0.,  3.,  0.,  0.,  2.,  0.,\n",
              "         2.],\n",
              "       [ 4.,  0.,  0.,  0.,  0.,  0.,  0.,  0.,  4.,  0.,  0.,  0.,  0.,\n",
              "         2.,  0.,  1.,  0.,  0.,  0.,  0.,  0.,  0.,  0.,  1.,  0.,  3.,\n",
              "         0.],\n",
              "       [ 0.,  3.,  2.,  0.,  2.,  0.,  0.,  2.,  1.,  2.,  0.,  0.,  0.,\n",
              "         1.,  4.,  0.,  1.,  3.,  3.,  0.,  0.,  0.,  1.,  0.,  3.,  0.,\n",
              "         2.],\n",
              "       [ 0.,  6.,  1.,  0.,  0.,  1.,  0.,  0.,  0.,  2.,  0.,  0.,  6.,\n",
              "         1.,  1.,  0.,  2.,  6.,  4.,  0.,  0.,  0.,  0.,  0.,  1.,  0.,\n",
              "         2.],\n",
              "       [ 1.,  0.,  9.,  0.,  1.,  6.,  1.,  0.,  0.,  2.,  0.,  0.,  1.,\n",
              "         0.,  1.,  0.,  3.,  2.,  8.,  1.,  0.,  0.,  0.,  1.,  8.,  0.,\n",
              "         4.],\n",
              "       [11.,  1.,  1.,  0.,  0.,  1.,  0.,  0.,  3.,  2.,  0.,  0.,  1.,\n",
              "        11.,  0.,  1.,  2.,  0.,  1.,  6.,  0.,  0.,  1.,  1.,  1.,  1.,\n",
              "         0.],\n",
              "       [ 0.,  0.,  0.,  3.,  2.,  0.,  0.,  5.,  0.,  0.,  1.,  0.,  0.,\n",
              "         0.,  0.,  0.,  1.,  0.,  0.,  0.,  6.,  1.,  0.,  0.,  0.,  0.,\n",
              "         0.],\n",
              "       [ 0.,  0.,  5.,  1.,  2.,  1.,  1.,  2.,  0.,  1.,  0.,  0.,  0.,\n",
              "         1.,  0.,  0.,  3.,  0.,  1.,  0.,  0.,  1.,  0.,  0.,  2.,  0.,\n",
              "         0.],\n",
              "       [ 0.,  0.,  0.,  0.,  1.,  0.,  2.,  0.,  0.,  1.,  0.,  3.,  0.,\n",
              "         0.,  0.,  0.,  0.,  0.,  5.,  0.,  0.,  4.,  1.,  0.,  0.,  0.,\n",
              "         0.],\n",
              "       [ 2.,  0.,  0.,  0.,  0.,  0.,  0.,  0.,  2.,  0.,  0.,  0.,  0.,\n",
              "         1.,  0.,  0.,  0.,  0.,  0.,  0.,  1.,  0.,  0.,  1.,  0.,  1.,\n",
              "         0.],\n",
              "       [ 2.,  2.,  2.,  0.,  0.,  2.,  0.,  1.,  2.,  4.,  0.,  0.,  5.,\n",
              "         3.,  3.,  0.,  2.,  1.,  5.,  0.,  0.,  0.,  0.,  0.,  2.,  0.,\n",
              "         4.],\n",
              "       [ 2.,  0.,  0.,  0.,  0.,  0.,  0.,  0.,  2.,  0.,  0.,  0.,  0.,\n",
              "         1.,  0.,  3.,  0.,  0.,  0.,  1.,  0.,  0.,  0.,  1.,  0.,  0.,\n",
              "         0.],\n",
              "       [ 0.,  6.,  1.,  0.,  0.,  7.,  0.,  0.,  0.,  2.,  0.,  0.,  0.,\n",
              "         0.,  1.,  0.,  3.,  2.,  2.,  1.,  0.,  4.,  0.,  0.,  1.,  0.,\n",
              "         2.]])"
            ]
          },
          "metadata": {},
          "execution_count": 22
        }
      ]
    },
    {
      "cell_type": "markdown",
      "metadata": {
        "id": "YH0GRzzIhuit"
      },
      "source": [
        "## Validation - Chapman-Kolmogorov test\n",
        "\n",
        "Let's see if our Markov model fulfill the Chapman-Kolmogorov equation. This is a way of testing the self-consistency of the model. There will be more background this tomorrow morning.\n",
        "\n",
        "The MSM instance has a method to make the testing very easy:"
      ]
    },
    {
      "cell_type": "code",
      "metadata": {
        "colab": {
          "base_uri": "https://localhost:8080/",
          "height": 17,
          "referenced_widgets": [
            "bf7bc433da3747e58a05369d817dc214",
            "b4970c5dd45c4de68e3adceaf96c9ca5",
            "55456623c271487e88749c6b353af953",
            "d3194a3e30cf4b4fbe957d688ac00bee",
            "cb9a85aeaeb64e20909a89c6c4d5df1b",
            "ab9c16903b2d46dd82ad9cadea92c8fb",
            "d0ad10b374434407bedc451da29bcdad",
            "15346a5aedd744c3bd662edc647fb17b",
            "da5fd64e1c8d44549d7af8245bb60af8",
            "d5a2d363b75a42a68833f8136d4a2251",
            "eb0f286112ce48b0bd55ced362eda7ce"
          ]
        },
        "id": "my4ZkZochuiu",
        "outputId": "210e840b-e6ab-4490-ec98-4f2fae489fe2"
      },
      "source": [
        "ckt = M.cktest(3)"
      ],
      "execution_count": 23,
      "outputs": [
        {
          "output_type": "display_data",
          "data": {
            "application/vnd.jupyter.widget-view+json": {
              "model_id": "bf7bc433da3747e58a05369d817dc214",
              "version_minor": 0,
              "version_major": 2
            },
            "text/plain": [
              "estimating MaximumLikelihoodMSM:   0%|          | 0/9 [00:00<?, ?it/s]"
            ]
          },
          "metadata": {}
        }
      ]
    },
    {
      "cell_type": "code",
      "metadata": {
        "colab": {
          "base_uri": "https://localhost:8080/",
          "height": 624
        },
        "id": "4Y_e1UWPhuiu",
        "outputId": "003ad3a8-79ba-475f-cef6-2f92618358bd"
      },
      "source": [
        "plots.plot_cktest(ckt,dt=dt,units=\"ps\");"
      ],
      "execution_count": 24,
      "outputs": [
        {
          "output_type": "display_data",
          "data": {
            "image/png": "[encoded data removed]",
            "text/plain": [
              "<Figure size 648x648 with 9 Axes>"
            ]
          },
          "metadata": {
            "needs_background": "light"
          }
        }
      ]
    },
    {
      "cell_type": "markdown",
      "metadata": {
        "id": "wQJfUAIZhuiu"
      },
      "source": [
        "What is shown here is the predicted transition probabilities from the Markov model (blue) and corresponding ones estimated directly from the data you used to estimate the Markov model (that is, training a Markov model with a larger lag-time). More formally what we check is whether the following relation is approximately fulfilled:\n",
        "$$ \\underbrace{T^k(\\tau)}_{\\text{Markov model prediction}} \\approx \\underbrace{T(k\\tau)}_{\\text{estimation from data}} $$\n",
        "where $k$ is some positive integer, and $T(\\cdot)$ is a transition probability matrix for a given lag-time. Basically, we want to ensure these lines are as close as possible to each other. More depth on this topic is given tomorrow morning.\n"
      ]
    },
    {
      "cell_type": "markdown",
      "metadata": {
        "id": "vAHJm9i1huiu"
      },
      "source": [
        "## Spectral analysis\n",
        "\n",
        "\n",
        "Let us have a closer look at the timescales that were already seen in the its plot:"
      ]
    },
    {
      "cell_type": "code",
      "metadata": {
        "colab": {
          "base_uri": "https://localhost:8080/",
          "height": 296
        },
        "id": "lZru2Cx3huiu",
        "outputId": "074871a4-5b2e-4606-dd27-c9d0fd9320ed"
      },
      "source": [
        "plt.plot(dt*M.timescales(),linewidth=0,marker='o')\n",
        "plt.xlabel('index');plt.ylabel(r'timescale (1 ps)'); plt.xlim(-0.5,10.5)"
      ],
      "execution_count": 25,
      "outputs": [
        {
          "output_type": "execute_result",
          "data": {
            "text/plain": [
              "(-0.5, 10.5)"
            ]
          },
          "metadata": {},
          "execution_count": 25
        },
        {
          "output_type": "display_data",
          "data": {
            "image/png": "[encoded data removed]",
            "text/plain": [
              "<Figure size 432x288 with 1 Axes>"
            ]
          },
          "metadata": {
            "needs_background": "light"
          }
        }
      ]
    },
    {
      "cell_type": "markdown",
      "metadata": {
        "id": "L6_ZJ7rfhuiv"
      },
      "source": [
        "## PCCA\n",
        "\n",
        "#### Theory\n",
        "- [PCCA: perron-cluster cluster analysis](http://docs.markovmodel.org/lecture_pcca.html)\n",
        "\n",
        "Select a suitable number of metastable states and run PCCA."
      ]
    },
    {
      "cell_type": "code",
      "metadata": {
        "id": "xEszrNkthuiv"
      },
      "source": [
        "#Perform PCCA analysis and store data\n",
        "n_clusters = 3\n",
        "M.pcca(n_clusters)\n",
        "pcca_sets = M.metastable_sets\n",
        "centers = cl.clustercenters[M.active_set]\n",
        "cluster_labels = M.metastable_assignments"
      ],
      "execution_count": 26,
      "outputs": []
    },
    {
      "cell_type": "markdown",
      "metadata": {
        "id": "tG4zNrLMhuiv"
      },
      "source": [
        "Visualize the PCCA assignments in the free energy landscape defined by the first two TICA coordinates.\n",
        "Hints: A Markov model object has an attribute M.metastable_sets. Also, you need to find out how to access the clustercenters defined in the previous step."
      ]
    },
    {
      "cell_type": "code",
      "metadata": {
        "colab": {
          "base_uri": "https://localhost:8080/",
          "height": 368
        },
        "id": "Xs50aH1Mhuiv",
        "outputId": "4fa53863-1e39-4a55-cb88-85d2c1fd8d23"
      },
      "source": [
        "#Plot PCCA data\n",
        "_, ax = plots.plot_free_energy(np.vstack(Y)[:, 0], np.vstack(Y)[:, 1], nbins=25)\n",
        "pcca_sets = M.metastable_sets\n",
        "\n",
        "cm = plt.get_cmap('gist_rainbow')\n",
        "colors = [cm(1.*i/n_clusters) for i in range(n_clusters)]\n",
        "\n",
        "for i, color in enumerate(colors[:n_clusters]):\n",
        "    ax.scatter(cl.clustercenters[pcca_sets[i],0], cl.clustercenters[pcca_sets[i],1], marker='X', c=color,s=100, edgecolors='k')\n",
        "ax.set_xlabel('TIC 1')\n",
        "ax.set_ylabel('TIC 2')\n",
        "#plt.savefig('4XH_1_c0-tiCA-PCCA.png', dpi=300,bbox_inches='tight')"
      ],
      "execution_count": 27,
      "outputs": [
        {
          "output_type": "stream",
          "name": "stderr",
          "text": [
            "*c* argument looks like a single numeric RGB or RGBA sequence, which should be avoided as value-mapping will have precedence in case its length matches with *x* & *y*.  Please use the *color* keyword-argument or provide a 2-D array with a single row if you intend to specify the same RGB or RGBA value for all points.\n",
            "*c* argument looks like a single numeric RGB or RGBA sequence, which should be avoided as value-mapping will have precedence in case its length matches with *x* & *y*.  Please use the *color* keyword-argument or provide a 2-D array with a single row if you intend to specify the same RGB or RGBA value for all points.\n",
            "*c* argument looks like a single numeric RGB or RGBA sequence, which should be avoided as value-mapping will have precedence in case its length matches with *x* & *y*.  Please use the *color* keyword-argument or provide a 2-D array with a single row if you intend to specify the same RGB or RGBA value for all points.\n"
          ]
        },
        {
          "output_type": "execute_result",
          "data": {
            "text/plain": [
              "Text(0, 0.5, 'TIC 2')"
            ]
          },
          "metadata": {},
          "execution_count": 27
        },
        {
          "output_type": "display_data",
          "data": {
            "image/png": "[encoded data removed]",
            "text/plain": [
              "<Figure size 432x288 with 2 Axes>"
            ]
          },
          "metadata": {
            "needs_background": "light"
          }
        }
      ]
    },
    {
      "cell_type": "markdown",
      "metadata": {
        "id": "Mf0TO2j1huiv"
      },
      "source": [
        "### Extracting the PCCA cluster frames"
      ]
    },
    {
      "cell_type": "code",
      "metadata": {
        "colab": {
          "base_uri": "https://localhost:8080/"
        },
        "id": "HMxLEF2ahuiv",
        "outputId": "4650cd97-65f6-40a1-8a76-c7c2edbfd369"
      },
      "source": [
        "#Extract the assigned trajectory frames from PCCA\n",
        "n_samples = 100\n",
        "pcca_dist = M.metastable_distributions\n",
        "pcca_samples = M.sample_by_distributions(pcca_dist, n_samples)\n",
        "\n",
        "outfiles = ['4XH_1_c0-pcca%s_samples.dcd' % (N) for N in range(n_clusters)]\n",
        "pcca_outfiles = coor.save_trajs(inp, pcca_samples, outfiles=outfiles)\n",
        "print('Storing %s PCCA samples each to: \\n\\t%s' % (n_samples, '\\n\\t'.join(pcca_outfiles)))"
      ],
      "execution_count": 28,
      "outputs": [
        {
          "output_type": "stream",
          "name": "stdout",
          "text": [
            "Storing 100 PCCA samples each to: \n",
            "\t4XH_1_c0-pcca0_samples.dcd\n",
            "\t4XH_1_c0-pcca1_samples.dcd\n",
            "\t4XH_1_c0-pcca2_samples.dcd\n"
          ]
        }
      ]
    },
    {
      "cell_type": "markdown",
      "metadata": {
        "id": "VCzV_2YEhuiw"
      },
      "source": [
        "## Assigning frames to PCCA clusters"
      ]
    },
    {
      "cell_type": "code",
      "metadata": {
        "id": "86jeHg8Shuiw"
      },
      "source": [
        "def assignTrajFramesToPCCACenters(tica_coord, pcca_centers, pcca_labels):\n",
        "    \"\"\"\n",
        "    Given the TICA coordinates data for a trajectory, assign data to\n",
        "    the nearest clsuter centers as defined from PCCA.\n",
        "    Parameters:\n",
        "    -----------\n",
        "    tica_coord : numpy array, tica coordinates for the associated trajectory.\n",
        "    pcca_centers : numpy array, contains the coordinates of the cluster centers\n",
        "              from the active set states obtained from PCCA.\n",
        "    pcca_labels : list, cluster assignment of the centers from PCCA.\n",
        "    Returns:\n",
        "    -------\n",
        "    traj_cluster_labels : list of arrays, cluster assignment for each\n",
        "                          trajectory frame where every array is for each trajectory\n",
        "    \"\"\"\n",
        "    assignments = coor.assign_to_centers(tica_coord, pcca_centers)\n",
        "    traj_cluster_labels = []\n",
        "    for a in assignments:\n",
        "        traj_cluster_labels.append(pcca_labels[a])\n",
        "    return traj_cluster_labels"
      ],
      "execution_count": 29,
      "outputs": []
    },
    {
      "cell_type": "code",
      "metadata": {
        "id": "ujTFZGzUhuix"
      },
      "source": [
        "traj_cluster_labels = assignTrajFramesToPCCACenters(Y, centers, cluster_labels)"
      ],
      "execution_count": 30,
      "outputs": []
    },
    {
      "cell_type": "code",
      "metadata": {
        "colab": {
          "base_uri": "https://localhost:8080/"
        },
        "id": "q09GFJFZhuix",
        "outputId": "543eb218-b513-4891-b141-42d920e0d90e"
      },
      "source": [
        "traj_cluster_labels"
      ],
      "execution_count": 31,
      "outputs": [
        {
          "output_type": "execute_result",
          "data": {
            "text/plain": [
              "[array([1, 1, 1, 1, 1, 1, 1, 1, 1, 1, 1, 1, 1, 1, 1, 1, 1, 1, 1, 1, 1, 1,\n",
              "        1, 1, 1, 1, 1, 1, 1, 1, 1, 1, 1, 1, 1, 1, 1, 1, 1, 1, 1, 1, 1, 1,\n",
              "        1, 1, 1, 1, 1, 1, 1, 1, 1, 1, 1, 1, 1, 1, 1, 1, 1, 1, 1, 1, 1, 1,\n",
              "        1, 1, 1, 1, 1, 1, 1, 1, 1, 1, 1, 1, 1, 1, 1, 1, 1, 1, 1, 1, 1, 1,\n",
              "        1, 1, 1, 1, 1, 1, 1, 1, 1, 1, 1, 1, 1, 1, 1, 1, 1, 1, 1, 1, 1, 1,\n",
              "        1, 1, 1, 1, 1, 1, 1, 1, 1, 1, 1, 1, 1, 1, 1, 1, 1, 1, 1, 1, 1, 1,\n",
              "        1, 1, 1, 1, 1, 1, 1, 1, 1, 1, 1, 1, 1, 1, 1, 1, 1, 1, 1, 1, 1, 1,\n",
              "        1, 1, 1, 1, 1, 1, 1, 0, 1, 0, 0, 0, 0, 0, 0, 0, 0, 0, 0, 0, 0, 0,\n",
              "        0, 0, 0, 0, 0, 0, 0, 0, 0, 0, 0, 1, 0, 0, 0, 0, 1, 0, 1, 1, 1, 1,\n",
              "        1, 1, 1, 1, 2, 2, 1, 1, 1, 1, 1, 1, 1, 1, 1, 1, 1, 1, 1, 1, 1, 1,\n",
              "        1, 1, 1, 1, 1, 1, 1, 1, 1, 1, 1, 1, 1, 1, 1, 1, 1, 1, 1, 1, 1, 1,\n",
              "        1, 1, 1, 2, 2, 2, 2, 2, 2, 2, 2, 2, 2, 2, 2, 2, 2, 2, 2, 2, 2, 2,\n",
              "        2, 2, 2, 2, 2, 2, 2, 2, 2, 2, 2, 2, 2, 2, 2, 2, 2, 2, 2, 2, 2, 2,\n",
              "        2, 2, 2, 2, 2, 2, 2, 2, 2, 2, 2, 2, 2, 2, 2, 2, 2, 2, 2, 2, 2, 2,\n",
              "        2, 1, 1, 1, 1, 1, 1, 1, 2, 2, 2, 2, 2, 2, 2, 2, 2, 2, 2, 2, 2, 2,\n",
              "        2, 2, 2, 2, 2, 2, 2, 2, 2, 2, 2, 2, 2, 2, 2, 2, 2, 2, 2, 2, 2, 2,\n",
              "        2, 2, 2, 2, 2, 2, 2, 2, 2, 2, 2, 2, 2, 2, 2, 2, 1, 0, 1, 1, 0, 0,\n",
              "        0, 0, 0, 0, 0, 1, 1, 0, 1, 1, 1, 1, 1, 1, 1, 1, 1, 1, 1, 1, 1, 1,\n",
              "        1, 1, 1, 1, 1, 1, 1, 1, 1, 1, 1, 1, 1, 1, 1, 1, 1, 1, 1, 1, 1, 1,\n",
              "        1, 1, 1, 1, 2, 1, 1, 1, 1, 1, 1, 1, 1, 1, 1, 1, 1, 1, 1, 1, 1, 1,\n",
              "        1, 1, 1, 1, 2, 2, 2, 2, 2, 2, 1, 2, 2, 2, 1, 1, 1, 1, 1, 1, 1, 1,\n",
              "        1, 1, 1, 1, 1, 1, 1, 1, 1, 1, 1, 1, 1, 1, 1, 1, 1, 1, 1, 1, 1, 1,\n",
              "        1, 1, 1, 1, 1, 0, 0, 0, 1, 1, 0, 1, 0, 1, 0, 0, 0, 0, 0, 0, 0, 0,\n",
              "        0, 0, 0, 0, 0, 0, 0, 0, 0, 0, 0, 0, 0, 0, 0, 0, 0, 0, 0, 0, 0, 0,\n",
              "        0, 0, 0, 0, 0, 1, 1, 0, 0, 0, 0, 0, 0, 0, 0, 0, 0, 1, 0, 1, 0, 0,\n",
              "        0, 0, 0, 0, 0, 0, 0, 0, 0, 0, 0, 1, 1, 1, 1, 1, 1, 1, 1, 1, 1, 1,\n",
              "        1, 1, 1, 1, 0, 1, 0, 0, 0, 0, 0, 0, 0, 0, 0, 1, 1, 2, 2, 2, 2, 2,\n",
              "        2, 2, 2, 2, 2, 2, 2, 2, 2, 2, 2, 2, 2, 2, 2, 2, 2, 2, 2, 2, 2, 2,\n",
              "        2, 2, 2, 2, 2, 2, 2, 2, 2, 2, 2, 2, 2, 2, 2, 2, 2, 2, 2, 2, 2, 2,\n",
              "        2, 2, 2, 2, 2, 2, 2, 2, 2, 2, 2, 2, 2, 2, 2, 2, 2, 2, 2, 2, 2, 2,\n",
              "        2, 2, 2, 2, 2, 2, 2, 2, 2, 2, 2, 2, 2, 2, 2, 2, 2, 2, 1, 1, 1, 1,\n",
              "        1, 1, 1, 1, 1, 1, 1, 1, 1, 1, 1, 1, 1, 1, 1, 1, 1, 1, 1, 1, 1, 1,\n",
              "        1, 1, 1, 1, 1, 1, 1, 1, 1, 1, 1, 1, 1, 1, 1, 1, 1, 1, 1, 1, 1, 1,\n",
              "        1, 1, 1, 1, 1, 1, 1, 1, 1, 1, 1, 1, 1, 1, 1, 1, 1, 1, 1, 1, 1, 1,\n",
              "        1, 1])]"
            ]
          },
          "metadata": {},
          "execution_count": 31
        }
      ]
    },
    {
      "cell_type": "markdown",
      "metadata": {
        "id": "N8fKGxdChuix"
      },
      "source": [
        "# Plotting ligand binding mode sampling with RMSD"
      ]
    },
    {
      "cell_type": "code",
      "metadata": {
        "id": "gyPhjsAqhuix"
      },
      "source": [
        "def plotPoseSampling(distances,\n",
        "                     cluster_labels,\n",
        "                     title=\"Binding Mode Frequency\",\n",
        "                     acc_it=[], n_clusters=4,\n",
        "                     cmap='gist_rainbow'):\n",
        "    \"\"\"Function that plots the RMSD of the ligand atoms with each frame/data point colored\n",
        "    according to the cluster assignment.\n",
        "    \n",
        "    Parameters:\n",
        "    - distances : np.array of the desired RMSD to plot\n",
        "    - cluster_labels : list of the cluster assigments of the trajectory frames\n",
        "    \"\"\"\n",
        "    \n",
        "    #Define plot settings\n",
        "    N = len(cluster_labels)\n",
        "    plt.figure(figsize=(12, 8), dpi=300,tight_layout=True)\n",
        "    f, ax = plt.subplots(2)\n",
        "    \n",
        "    #Get the color mappings for the number of clusters\n",
        "    cm = plt.get_cmap(cmap)\n",
        "    colors = [cm(1.*i/n_clusters) for i in range(n_clusters)]\n",
        "\n",
        "    #Compute and plot the % frequency in bar plot\n",
        "    labeled_frames = {n:[] for n in range(n_clusters)}\n",
        "    for i, label in enumerate(cluster_labels):\n",
        "        labeled_frames[label].append(i)\n",
        "    freq = { key:len(val)/N*100 for key,val in labeled_frames.items() }\n",
        "    rect = ax[0].bar(range(len(freq.keys())),freq.values(), align='center', color=colors)\n",
        "    ax[0].set_xlabel(\"Ligand Binding Mode\")\n",
        "    ax[0].set_ylabel(\"% Frequency\")\n",
        "    ax[0].set_xticks([])\n",
        "    \n",
        "    #Generate a list of colors corresponding to the cluster assignment \n",
        "    colr_list = []\n",
        "    for x in cluster_labels:\n",
        "        colr_list.append(colors[x])\n",
        "    \n",
        "    #Convert frame numbers to time\n",
        "    time = [0.2*t for t in range(N)]\n",
        "    \n",
        "    #Lineplot of RMSD relative to initial frame\n",
        "    #Convert distances from nm to angstrom (distances*10.0)\n",
        "    ax[1].plot(time, 10.0*distances, 'k', linewidth=0.25)\n",
        "    #Colored Scatterplot points to state of minimum RMSD\n",
        "    ax[1].scatter(time, 10.0*distances,c=colr_list,clip_on=False,s=25, edgecolors=None)\n",
        "    \n",
        "    #With BLUES, plot the vertical lines to indicate the accepted moves\n",
        "    if acc_it:\n",
        "        for it in acc_it:\n",
        "            ax[1].axvline(x=it, color='k', linestyle='--')\n",
        "            \n",
        "    #Label axis        \n",
        "    ax[1].set_xlabel(\"Time (ns)\")\n",
        "    ax[1].set_ylabel(r\"RMSD $\\AA$\")\n",
        "    ax[1].xaxis.grid(False)\n",
        "    ax[1].yaxis.grid(False, which='major')\n",
        "    plt.autoscale(enable=True, axis='both', tight=True)\n",
        "    ax[0].set_title(title+\" N=%s\" %N)"
      ],
      "execution_count": 32,
      "outputs": []
    },
    {
      "cell_type": "code",
      "metadata": {
        "id": "QN9vduYrhuix"
      },
      "source": [
        "def rmsdNP(traj, ref, idx):\n",
        "    \"\"\"Compute the RMSD wihtout trajectory alignment\n",
        "    \n",
        "    Parameters:\n",
        "    - traj : mdtraj.Trajectory \n",
        "    - ref  : mdtraj.Trajectory  \n",
        "            reference trajectory to compare `traj` object\n",
        "    - idx  : list of atom inidices\n",
        "    \"\"\"\n",
        "    return np.sqrt(3*np.sum(np.square(traj.xyz[:,idx,:] - ref.xyz[:,idx,:]),\n",
        "                          axis=(1, 2))/idx.shape[0])\n"
      ],
      "execution_count": 33,
      "outputs": []
    },
    {
      "cell_type": "code",
      "metadata": {
        "id": "1-9LhP4Bhuiy"
      },
      "source": [
        "import mdtraj as md"
      ],
      "execution_count": 34,
      "outputs": []
    },
    {
      "cell_type": "code",
      "metadata": {
        "colab": {
          "base_uri": "https://localhost:8080/"
        },
        "id": "Or-O5gbFhuiy",
        "outputId": "5b99ccf3-fb8b-4b19-b4f9-415c8c6ff988"
      },
      "source": [
        "#Create an mdtraj.Trajectory object to extract frames from\n",
        "pdb = md.load(topfile)\n",
        "ctraj = md.load(md_nc,top=pdb.top)\n",
        "print(ctraj)"
      ],
      "execution_count": 35,
      "outputs": [
        {
          "output_type": "stream",
          "name": "stdout",
          "text": [
            "<mdtraj.Trajectory with 750 frames, 5132 atoms, 323 residues, and unitcells>\n"
          ]
        }
      ]
    },
    {
      "cell_type": "code",
      "metadata": {
        "id": "sm_T4o4Jhuiy"
      },
      "source": [
        "# Compute the RMSD of the ligand heavy atoms relative to the starting frame\n",
        "md_dist = rmsdNP(ctraj, ctraj[0],ctraj.top.select('resname LIG and not type H'))"
      ],
      "execution_count": 36,
      "outputs": []
    },
    {
      "cell_type": "code",
      "metadata": {
        "colab": {
          "base_uri": "https://localhost:8080/",
          "height": 312
        },
        "id": "haSe7o5shuiy",
        "outputId": "d20d2161-eb1f-4db7-b9d1-c725f7170ea0"
      },
      "source": [
        "# Plot the frequency of sampling of each binding mode\n",
        "plotPoseSampling(md_dist,traj_cluster_labels[0],n_clusters=n_clusters,\n",
        "                 title=\"MD 150ns Binding Mode Frequency\")\n",
        "#plt.savefig('4XH_1-bmodes-freq.png', dpi=300, bbox_inches='tight')"
      ],
      "execution_count": 37,
      "outputs": [
        {
          "output_type": "display_data",
          "data": {
            "text/plain": [
              "<Figure size 3600x2400 with 0 Axes>"
            ]
          },
          "metadata": {}
        },
        {
          "output_type": "display_data",
          "data": {
            "image/png": "[encoded data removed]",
            "text/plain": [
              "<Figure size 432x288 with 2 Axes>"
            ]
          },
          "metadata": {
            "needs_background": "light"
          }
        }
      ]
    },
    {
      "cell_type": "markdown",
      "metadata": {
        "collapsed": true,
        "id": "oMgdCWxLhuiy"
      },
      "source": [
        "# Acknowledgements\n",
        "\n",
        "Authors: **Nathan M. Lim**\n",
        " - Material adapted from Markov State Modeling workshop at UCSD 2017 hosted by **Frank Noe** and **Rommie Amaro**\n",
        "\n",
        " \n",
        "# References\n",
        "1. Shaw DE, Maragakis P, Lindorff-Larsen K, Piana S, Dror RO, Eastwood MP, Bank JA, Jumper JM, Salmon JK, Shan Y,\n",
        "Wriggers W: Atomic-level characterization of the structural dynamics of proteins.\n",
        "*Science* **330**:341-346 (2010). doi: 10.1126/science.1187409.\n",
        "2. Molgedey, L. and H. G. Schuster, Phys. Rev. Lett. 72, 3634 (1994).\n",
        "3. Pérez-Hernández, G. and Paul, F. and Giogino, T. and de Fabritiis, G. and Noé, F. Identification of slow molecular order parameters for Markov model construction. *J. Chem. Phys.* **139**:015102 (2013)\n",
        "4. Swope WC, Pitera JW and Suits F. Describing protein folding kinetics by molecular dynamics simulations: 1. Theory. \n",
        "*J. Phys. Chem. B* **108**:6571-6581 (2004)\n",
        "5. Röblitz S. and M. Weber: Fuzzy spectral clustering by PCCA+: application to Markov state models and data classification. Adv. Data. Anal. Classif. DOI 10.1007/s11634-013-0134-6 (2013) \n",
        "6. Noé F, Doose S, Daidone I, Löllmann M, Chodera JD, Sauer M, Smith JC. Dynamical fingerprints for probing individual relaxation processes in biomolecular dynamics with simulations and kinetic experiments. *Proc. Natl. Acad. Sci. USA*, **108**: 4822-4827 (2011)\n",
        "7. Metzner P, Schütte C, Vanden-Eijnden, E. Transition Path Theory for Markov Jump Processes. *Multiscale Model. Simul.* **7**. 1192--1219 (2009)\n",
        "8. Noé F, Schütte C, Vanden-Eijnden E, Reich L and Weikl T. Constructing the Full Ensemble of Folding Pathways from Short Off-Equilibrium Simulations. *Proc. Natl. Acad. Sci. USA*, **106**:19011-19016 (2009)"
      ]
    },
    {
      "cell_type": "code",
      "metadata": {
        "collapsed": true,
        "id": "FzFDoYB4huiz"
      },
      "source": [
        ""
      ],
      "execution_count": null,
      "outputs": []
    }
  ]
}