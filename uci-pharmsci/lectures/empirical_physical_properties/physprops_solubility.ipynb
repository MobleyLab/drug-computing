{
 "cells": [
  {
   "cell_type": "markdown",
   "metadata": {
    "id": "oY6quLsPyoKw"
   },
   "source": [
    "# This is a sandbox/preface for the solubility calculation assignment\n",
    "\n",
    "The solubility calculation assignment focuses on building a simple linear solubility model which attempts to predict solubilities for a series of new compounds based on a model trained on a set of compounds with known solubilities. To put it another way, we have a test set and a training set, and want to use the known solubilities from the training set to predict solubilities for the test set. \n",
    "\n",
    "## For solubility prediction, we'll use a series of *descriptors*\n",
    "\n",
    "Descriptors are properties of our molecule which might (or might not) be related to the solubility. For example, we might think that solubility will in general tend to go down as molecular weight goes up, and go up as polarity increases (or go down as polarity decreases) and so on. \n",
    "\n",
    "Here, let's take a sample molecule and calculate a series of descriptors which we might want to use in constructing a simple solubility model. "
   ]
  },
  {
   "cell_type": "code",
   "execution_count": 2,
   "metadata": {
    "colab": {
     "base_uri": "https://localhost:8080/"
    },
    "executionInfo": {
     "elapsed": 19872,
     "status": "ok",
     "timestamp": 1639684691809,
     "user": {
      "displayName": "Danielle Bergazin",
      "photoUrl": "https://lh3.googleusercontent.com/a-/AOh14GiOdJdx7etc0W4Yfmh-4-g-P0aJMsIonVchL0BInA=s64",
      "userId": "10589367849843705173"
     },
     "user_tz": 480
    },
    "id": "_ceueWxuyxQO",
    "outputId": "94d34d6b-ee44-4f4a-f301-6ff24b984696"
   },
   "outputs": [
    {
     "name": "stdout",
     "output_type": "stream",
     "text": [
      "✨🍰✨ Everything looks OK!\n",
      "✨🍰✨ Everything looks OK!\n",
      "Collecting package metadata (current_repodata.json): - \b\b\\ \b\b| \b\b/ \b\b- \b\b\\ \b\b| \b\b/ \b\b- \b\b\\ \b\b| \b\b/ \b\b- \b\b\\ \b\b| \b\b/ \b\b- \b\b\\ \b\b| \b\bdone\n",
      "Solving environment: - \b\b\\ \b\b| \b\b/ \b\b- \b\b\\ \b\b| \b\b/ \b\b- \b\b\\ \b\b| \b\b/ \b\b- \b\b\\ \b\b| \b\b/ \b\b- \b\b\\ \b\b| \b\b/ \b\b- \b\b\\ \b\b| \b\b/ \b\b- \b\b\\ \b\b| \b\b/ \b\bdone\n",
      "\n",
      "## Package Plan ##\n",
      "\n",
      "  environment location: /usr/local\n",
      "\n",
      "  added / updated specs:\n",
      "    - numpy\n",
      "    - scipy\n",
      "\n",
      "\n",
      "The following packages will be SUPERSEDED by a higher-priority channel:\n",
      "\n",
      "  ca-certificates    conda-forge::ca-certificates-2021.10.~ --> anaconda::ca-certificates-2020.10.14-0\n",
      "  certifi            conda-forge::certifi-2021.10.8-py37h8~ --> anaconda::certifi-2020.6.20-py37_0\n",
      "\n",
      "\n",
      "Preparing transaction: \\ \b\bdone\n",
      "Verifying transaction: / \b\bdone\n",
      "Executing transaction: \\ \b\bdone\n",
      "Collecting package metadata (current_repodata.json): - \b\b\\ \b\b| \b\b/ \b\b- \b\b\\ \b\b| \b\b/ \b\b- \b\b\\ \b\b| \b\b/ \b\b- \b\b\\ \b\b| \b\b/ \b\b- \b\b\\ \b\b| \b\b/ \b\b- \b\b\\ \b\b| \b\b/ \b\b- \b\b\\ \b\b| \b\bdone\n",
      "Solving environment: - \b\b\\ \b\b| \b\b/ \b\b- \b\b\\ \b\b| \b\b/ \b\b- \b\b\\ \b\b| \b\b/ \b\b- \b\b\\ \b\b| \b\b/ \b\bdone\n",
      "\n",
      "## Package Plan ##\n",
      "\n",
      "  environment location: /usr/local\n",
      "\n",
      "  added / updated specs:\n",
      "    - openeye-toolkits\n",
      "\n",
      "\n",
      "The following packages will be UPDATED:\n",
      "\n",
      "  ca-certificates    anaconda::ca-certificates-2020.10.14-0 --> conda-forge::ca-certificates-2021.10.8-ha878542_0\n",
      "  certifi                anaconda::certifi-2020.6.20-py37_0 --> conda-forge::certifi-2021.10.8-py37h89c1867_1\n",
      "\n",
      "\n",
      "Preparing transaction: \\ \b\bdone\n",
      "Verifying transaction: / \b\bdone\n",
      "Executing transaction: \\ \b\bdone\n",
      "Looking in indexes: https://pypi.anaconda.org/openeye/label/oenotebook/simple, https://pypi.org/simple, https://pypi.anaconda.org/openeye/simple/\n",
      "Requirement already satisfied: openeye-oenotebook in /usr/local/lib/python3.7/site-packages (0.8.1)\n",
      "Requirement already satisfied: openeye-toolkits in /usr/local/lib/python3.7/site-packages (from openeye-oenotebook) (2021.2.0)\n",
      "Requirement already satisfied: jupyter in /usr/local/lib/python3.7/site-packages (from openeye-oenotebook) (1.0.0)\n",
      "Requirement already satisfied: ipython in /usr/local/lib/python3.7/site-packages (from openeye-oenotebook) (7.30.1)\n",
      "Requirement already satisfied: pandas in /usr/local/lib/python3.7/site-packages (from openeye-oenotebook) (1.3.5)\n",
      "Requirement already satisfied: jedi>=0.16 in /usr/local/lib/python3.7/site-packages (from ipython->openeye-oenotebook) (0.18.1)\n",
      "Requirement already satisfied: backcall in /usr/local/lib/python3.7/site-packages (from ipython->openeye-oenotebook) (0.2.0)\n",
      "Requirement already satisfied: prompt-toolkit!=3.0.0,!=3.0.1,<3.1.0,>=2.0.0 in /usr/local/lib/python3.7/site-packages (from ipython->openeye-oenotebook) (3.0.24)\n",
      "Requirement already satisfied: setuptools>=18.5 in /usr/local/lib/python3.7/site-packages (from ipython->openeye-oenotebook) (49.6.0.post20210108)\n",
      "Requirement already satisfied: traitlets>=4.2 in /usr/local/lib/python3.7/site-packages (from ipython->openeye-oenotebook) (5.1.1)\n",
      "Requirement already satisfied: pickleshare in /usr/local/lib/python3.7/site-packages (from ipython->openeye-oenotebook) (0.7.5)\n",
      "Requirement already satisfied: pygments in /usr/local/lib/python3.7/site-packages (from ipython->openeye-oenotebook) (2.10.0)\n",
      "Requirement already satisfied: matplotlib-inline in /usr/local/lib/python3.7/site-packages (from ipython->openeye-oenotebook) (0.1.3)\n",
      "Requirement already satisfied: pexpect>4.3 in /usr/local/lib/python3.7/site-packages (from ipython->openeye-oenotebook) (4.8.0)\n",
      "Requirement already satisfied: decorator in /usr/local/lib/python3.7/site-packages (from ipython->openeye-oenotebook) (5.1.0)\n",
      "Requirement already satisfied: parso<0.9.0,>=0.8.0 in /usr/local/lib/python3.7/site-packages (from jedi>=0.16->ipython->openeye-oenotebook) (0.8.3)\n",
      "Requirement already satisfied: ptyprocess>=0.5 in /usr/local/lib/python3.7/site-packages (from pexpect>4.3->ipython->openeye-oenotebook) (0.7.0)\n",
      "Requirement already satisfied: wcwidth in /usr/local/lib/python3.7/site-packages (from prompt-toolkit!=3.0.0,!=3.0.1,<3.1.0,>=2.0.0->ipython->openeye-oenotebook) (0.2.5)\n",
      "Requirement already satisfied: jupyter-console in /usr/local/lib/python3.7/site-packages (from jupyter->openeye-oenotebook) (6.4.0)\n",
      "Requirement already satisfied: ipykernel in /usr/local/lib/python3.7/site-packages (from jupyter->openeye-oenotebook) (6.6.0)\n",
      "Requirement already satisfied: nbconvert in /usr/local/lib/python3.7/site-packages (from jupyter->openeye-oenotebook) (6.3.0)\n",
      "Requirement already satisfied: notebook in /usr/local/lib/python3.7/site-packages (from jupyter->openeye-oenotebook) (6.4.6)\n",
      "Requirement already satisfied: ipywidgets in /usr/local/lib/python3.7/site-packages (from jupyter->openeye-oenotebook) (7.6.5)\n",
      "Requirement already satisfied: qtconsole in /usr/local/lib/python3.7/site-packages (from jupyter->openeye-oenotebook) (5.2.2)\n",
      "Requirement already satisfied: argcomplete>=1.12.3 in /usr/local/lib/python3.7/site-packages (from ipykernel->jupyter->openeye-oenotebook) (1.12.3)\n",
      "Requirement already satisfied: debugpy<2.0,>=1.0.0 in /usr/local/lib/python3.7/site-packages (from ipykernel->jupyter->openeye-oenotebook) (1.5.1)\n",
      "Requirement already satisfied: importlib-metadata<5 in /usr/local/lib/python3.7/site-packages (from ipykernel->jupyter->openeye-oenotebook) (4.8.2)\n",
      "Requirement already satisfied: tornado<7.0,>=4.2 in /usr/local/lib/python3.7/site-packages (from ipykernel->jupyter->openeye-oenotebook) (6.1)\n",
      "Requirement already satisfied: jupyter-client<8.0 in /usr/local/lib/python3.7/site-packages (from ipykernel->jupyter->openeye-oenotebook) (7.1.0)\n",
      "Requirement already satisfied: typing-extensions>=3.6.4 in /usr/local/lib/python3.7/site-packages (from importlib-metadata<5->ipykernel->jupyter->openeye-oenotebook) (4.0.1)\n",
      "Requirement already satisfied: zipp>=0.5 in /usr/local/lib/python3.7/site-packages (from importlib-metadata<5->ipykernel->jupyter->openeye-oenotebook) (3.6.0)\n",
      "Requirement already satisfied: jupyter-core>=4.6.0 in /usr/local/lib/python3.7/site-packages (from jupyter-client<8.0->ipykernel->jupyter->openeye-oenotebook) (4.9.1)\n",
      "Requirement already satisfied: pyzmq>=13 in /usr/local/lib/python3.7/site-packages (from jupyter-client<8.0->ipykernel->jupyter->openeye-oenotebook) (22.3.0)\n",
      "Requirement already satisfied: nest-asyncio>=1.5 in /usr/local/lib/python3.7/site-packages (from jupyter-client<8.0->ipykernel->jupyter->openeye-oenotebook) (1.5.4)\n",
      "Requirement already satisfied: python-dateutil>=2.1 in /usr/local/lib/python3.7/site-packages (from jupyter-client<8.0->ipykernel->jupyter->openeye-oenotebook) (2.8.2)\n",
      "Requirement already satisfied: entrypoints in /usr/local/lib/python3.7/site-packages (from jupyter-client<8.0->ipykernel->jupyter->openeye-oenotebook) (0.3)\n",
      "Requirement already satisfied: six>=1.5 in /usr/local/lib/python3.7/site-packages (from python-dateutil>=2.1->jupyter-client<8.0->ipykernel->jupyter->openeye-oenotebook) (1.15.0)\n",
      "Requirement already satisfied: nbformat>=4.2.0 in /usr/local/lib/python3.7/site-packages (from ipywidgets->jupyter->openeye-oenotebook) (5.1.3)\n",
      "Requirement already satisfied: jupyterlab-widgets>=1.0.0 in /usr/local/lib/python3.7/site-packages (from ipywidgets->jupyter->openeye-oenotebook) (1.0.2)\n",
      "Requirement already satisfied: ipython-genutils~=0.2.0 in /usr/local/lib/python3.7/site-packages (from ipywidgets->jupyter->openeye-oenotebook) (0.2.0)\n",
      "Requirement already satisfied: widgetsnbextension~=3.5.0 in /usr/local/lib/python3.7/site-packages (from ipywidgets->jupyter->openeye-oenotebook) (3.5.2)\n",
      "Requirement already satisfied: jsonschema!=2.5.0,>=2.4 in /usr/local/lib/python3.7/site-packages (from nbformat>=4.2.0->ipywidgets->jupyter->openeye-oenotebook) (4.3.0)\n",
      "Requirement already satisfied: attrs>=17.4.0 in /usr/local/lib/python3.7/site-packages (from jsonschema!=2.5.0,>=2.4->nbformat>=4.2.0->ipywidgets->jupyter->openeye-oenotebook) (21.2.0)\n",
      "Requirement already satisfied: importlib-resources>=1.4.0 in /usr/local/lib/python3.7/site-packages (from jsonschema!=2.5.0,>=2.4->nbformat>=4.2.0->ipywidgets->jupyter->openeye-oenotebook) (5.4.0)\n",
      "Requirement already satisfied: pyrsistent!=0.17.0,!=0.17.1,!=0.17.2,>=0.14.0 in /usr/local/lib/python3.7/site-packages (from jsonschema!=2.5.0,>=2.4->nbformat>=4.2.0->ipywidgets->jupyter->openeye-oenotebook) (0.18.0)\n",
      "Requirement already satisfied: jinja2 in /usr/local/lib/python3.7/site-packages (from notebook->jupyter->openeye-oenotebook) (3.0.3)\n",
      "Requirement already satisfied: argon2-cffi in /usr/local/lib/python3.7/site-packages (from notebook->jupyter->openeye-oenotebook) (21.3.0)\n",
      "Requirement already satisfied: prometheus-client in /usr/local/lib/python3.7/site-packages (from notebook->jupyter->openeye-oenotebook) (0.12.0)\n",
      "Requirement already satisfied: terminado>=0.8.3 in /usr/local/lib/python3.7/site-packages (from notebook->jupyter->openeye-oenotebook) (0.12.1)\n",
      "Requirement already satisfied: Send2Trash>=1.8.0 in /usr/local/lib/python3.7/site-packages (from notebook->jupyter->openeye-oenotebook) (1.8.0)\n",
      "Requirement already satisfied: argon2-cffi-bindings in /usr/local/lib/python3.7/site-packages (from argon2-cffi->notebook->jupyter->openeye-oenotebook) (21.2.0)\n",
      "Requirement already satisfied: cffi>=1.0.1 in /usr/local/lib/python3.7/site-packages (from argon2-cffi-bindings->argon2-cffi->notebook->jupyter->openeye-oenotebook) (1.14.5)\n",
      "Requirement already satisfied: pycparser in /usr/local/lib/python3.7/site-packages (from cffi>=1.0.1->argon2-cffi-bindings->argon2-cffi->notebook->jupyter->openeye-oenotebook) (2.20)\n",
      "Requirement already satisfied: MarkupSafe>=2.0 in /usr/local/lib/python3.7/site-packages (from jinja2->notebook->jupyter->openeye-oenotebook) (2.0.1)\n",
      "Requirement already satisfied: testpath in /usr/local/lib/python3.7/site-packages (from nbconvert->jupyter->openeye-oenotebook) (0.5.0)\n",
      "Requirement already satisfied: bleach in /usr/local/lib/python3.7/site-packages (from nbconvert->jupyter->openeye-oenotebook) (4.1.0)\n",
      "Requirement already satisfied: nbclient<0.6.0,>=0.5.0 in /usr/local/lib/python3.7/site-packages (from nbconvert->jupyter->openeye-oenotebook) (0.5.9)\n",
      "Requirement already satisfied: jupyterlab-pygments in /usr/local/lib/python3.7/site-packages (from nbconvert->jupyter->openeye-oenotebook) (0.1.2)\n",
      "Requirement already satisfied: pandocfilters>=1.4.1 in /usr/local/lib/python3.7/site-packages (from nbconvert->jupyter->openeye-oenotebook) (1.5.0)\n",
      "Requirement already satisfied: mistune<2,>=0.8.1 in /usr/local/lib/python3.7/site-packages (from nbconvert->jupyter->openeye-oenotebook) (0.8.4)\n",
      "Requirement already satisfied: defusedxml in /usr/local/lib/python3.7/site-packages (from nbconvert->jupyter->openeye-oenotebook) (0.7.1)\n",
      "Requirement already satisfied: webencodings in /usr/local/lib/python3.7/site-packages (from bleach->nbconvert->jupyter->openeye-oenotebook) (0.5.1)\n",
      "Requirement already satisfied: packaging in /usr/local/lib/python3.7/site-packages (from bleach->nbconvert->jupyter->openeye-oenotebook) (21.3)\n",
      "Requirement already satisfied: OpenEye-toolkits-python3-linux-x64==2021.2.0 in /usr/local/lib/python3.7/site-packages (from openeye-toolkits->openeye-oenotebook) (2021.2.0)\n",
      "Requirement already satisfied: pyparsing!=3.0.5,>=2.0.2 in /usr/local/lib/python3.7/site-packages (from packaging->bleach->nbconvert->jupyter->openeye-oenotebook) (3.0.6)\n",
      "Requirement already satisfied: numpy>=1.17.3 in /usr/local/lib/python3.7/site-packages (from pandas->openeye-oenotebook) (1.19.1)\n",
      "Requirement already satisfied: pytz>=2017.3 in /usr/local/lib/python3.7/site-packages (from pandas->openeye-oenotebook) (2021.3)\n",
      "Requirement already satisfied: qtpy in /usr/local/lib/python3.7/site-packages (from qtconsole->jupyter->openeye-oenotebook) (1.11.3)\n"
     ]
    }
   ],
   "source": [
    "# Run cells if using collab\n",
    "\n",
    "%env PYTHONPATH="
   ]
  },
  {
   "cell_type": "code",
   "execution_count": null,
   "metadata": {},
   "outputs": [],
   "source": [
    "%env PYTHONPATH=\n",
    "! wget https://github.com/conda-forge/miniforge/releases/latest/download/Miniforge3-Linux-x86_64.sh\n",
    "! chmod +x Miniforge3-Linux-x86_64.sh\n",
    "! bash ./Miniforge3-Linux-x86_64.sh -b -f -p /usr/local\n",
    "import sys\n",
    "sys.path.append('/usr/local/lib/python3.10/site-packages/')"
   ]
  },
  {
   "cell_type": "code",
   "execution_count": 3,
   "metadata": {
    "colab": {
     "base_uri": "https://localhost:8080/"
    },
    "executionInfo": {
     "elapsed": 26466,
     "status": "ok",
     "timestamp": 1639684730574,
     "user": {
      "displayName": "Danielle Bergazin",
      "photoUrl": "https://lh3.googleusercontent.com/a-/AOh14GiOdJdx7etc0W4Yfmh-4-g-P0aJMsIonVchL0BInA=s64",
      "userId": "10589367849843705173"
     },
     "user_tz": 480
    },
    "id": "vSPGstjIz2Wf",
    "outputId": "ffd6699d-6e75-4235-e1eb-741aa0e66aed"
   },
   "outputs": [
    {
     "name": "stdout",
     "output_type": "stream",
     "text": [
      "Mounted at /content/drive\n"
     ]
    }
   ],
   "source": [
    "# Run cell if using collab\n",
    "\n",
    "# Mount google drive to Colab Notebooks to access files\n",
    "from google.colab import drive\n",
    "drive.mount('/content/drive', force_remount = True)"
   ]
  },
  {
   "cell_type": "code",
   "execution_count": null,
   "metadata": {},
   "outputs": [],
   "source": [
    "!mamba install -c openeye openeye-toolkits --yes"
   ]
  },
  {
   "cell_type": "code",
   "execution_count": 4,
   "metadata": {
    "colab": {
     "base_uri": "https://localhost:8080/"
    },
    "executionInfo": {
     "elapsed": 294,
     "status": "ok",
     "timestamp": 1639684733567,
     "user": {
      "displayName": "Danielle Bergazin",
      "photoUrl": "https://lh3.googleusercontent.com/a-/AOh14GiOdJdx7etc0W4Yfmh-4-g-P0aJMsIonVchL0BInA=s64",
      "userId": "10589367849843705173"
     },
     "user_tz": 480
    },
    "id": "flg51bTdz6C9",
    "outputId": "85049f37-9250-4f05-b819-4826480a78b5"
   },
   "outputs": [
    {
     "data": {
      "text/plain": []
     },
     "execution_count": 4,
     "metadata": {},
     "output_type": "execute_result"
    }
   ],
   "source": [
    "# Run cell if using collab\n",
    "\n",
    "# Link openeye license to .bash_profile  \n",
    "%%shell \n",
    "echo export OE_LICENSE=\"/content/drive/MyDrive/drug-computing/oelicense/oe_license.txt\" >> ~/.bash_profile\n",
    "source ~/.bash_profile"
   ]
  },
  {
   "cell_type": "code",
   "execution_count": null,
   "metadata": {
    "id": "uV2s45_Dz-gG"
   },
   "outputs": [],
   "source": [
    "# Move into directory so that files for this lecture can be accessed\n",
    "#%cd /content/drive/MyDrive/drug-computing/uci-pharmsci/lectures/empirical_physical_properties\n",
    "\n",
    "#set the OE_LICENSE environment variable to point to the license file\n",
    "%env OE_LICENSE=/content/drive/MyDrive/drug-computing/oelicense/oe_license.txt\n",
    "# Check the OE_LICENSE environment variable set\n",
    "%env"
   ]
  },
  {
   "cell_type": "code",
   "execution_count": 1,
   "metadata": {
    "colab": {
     "base_uri": "https://localhost:8080/"
    },
    "executionInfo": {
     "elapsed": 2815,
     "status": "ok",
     "timestamp": 1639684745048,
     "user": {
      "displayName": "Danielle Bergazin",
      "photoUrl": "https://lh3.googleusercontent.com/a-/AOh14GiOdJdx7etc0W4Yfmh-4-g-P0aJMsIonVchL0BInA=s64",
      "userId": "10589367849843705173"
     },
     "user_tz": 480
    },
    "id": "BN36NKHWyoK3",
    "outputId": "ed3aef4f-4110-4a39-c691-756ba9d964e9"
   },
   "outputs": [
    {
     "name": "stdout",
     "output_type": "stream",
     "text": [
      "Molecular weight: 128.17\n",
      "Number of atoms: 18\n",
      "Number of heavy atoms: 10\n",
      "Number of ring atoms: 10\n",
      "Number of halogens: 0\n",
      "Number of nitrogens: 0\n",
      "Number of oxygens: 0\n",
      "Number of rotatable bonds: 0\n",
      "Calculated logP: 3.57\n",
      "Number of aromatic rings: 2\n",
      "Polar surface area: 0.00\n",
      "Number of hbond donors: 0\n",
      "Number of hbond acceptors: 0\n",
      "Number of rings: 1\n",
      "Calculated solvation free energy: -4.13\n"
     ]
    }
   ],
   "source": [
    "from openeye.oechem import *\n",
    "from openeye.oemolprop import *\n",
    "from openeye.oeiupac import *\n",
    "from openeye.oezap import *\n",
    "from openeye.oeomega import *\n",
    "import numpy as np\n",
    "import scipy.stats\n",
    "\n",
    "#Initialize an OpenEye molecule\n",
    "mol = OEMol()\n",
    "\n",
    "#let's look at phenol\n",
    "OEParseIUPACName( mol, 'naphthalene' )\n",
    "\n",
    "#Generate conformation\n",
    "omega = OEOmega()\n",
    "omega(mol)\n",
    "\n",
    "#Here one of the descriptors we'll use is the calculated solvation free energy, from OpenEye's ZAP electrostatics solver\n",
    "#Get zap ready for electrostatics calculations\n",
    "zap = OEZap()\n",
    "zap.SetInnerDielectric( 1.0 )\n",
    "zap.SetGridSpacing(0.5)\n",
    "area = OEArea()\n",
    "\n",
    "#Reduce verbosity\n",
    "OEThrow.SetLevel(OEErrorLevel_Warning)\n",
    "\n",
    "\n",
    "#Let's print a bunch of properties\n",
    "#Molecular weight\n",
    "print( \"Molecular weight: %.2f\" % OECalculateMolecularWeight(mol) )\n",
    "#Number of atoms\n",
    "print( \"Number of atoms: %s\" % mol.NumAtoms() ) \n",
    "#Number of heavy atoms\n",
    "print( \"Number of heavy atoms: %s\" % OECount(mol, OEIsHeavy() ) )\n",
    "#Number of ring atoms\n",
    "print( \"Number of ring atoms: %s\" % OECount(mol, OEAtomIsInRing() ) )\n",
    "#Number of halogens\n",
    "print( \"Number of halogens: %s\" % OECount( mol, OEIsHalogen() ))\n",
    "print (\"Number of nitrogens: %s\" % OECount( mol, OEIsNitrogen() ) )\n",
    "print( \"Number of oxygens: %s\" % OECount( mol, OEIsOxygen() ) )\n",
    "print( \"Number of rotatable bonds: %s\" % OECount( mol, OEIsRotor() ) )\n",
    "\n",
    "#Calculated logP - water to octanol partitioning coefficient (which is often something which may correlate somewhat with solubility)\n",
    "print( \"Calculated logP: %.2f\" %  OEGetXLogP( mol ) )\n",
    "\n",
    "print( \"Number of aromatic rings: %s\" % OEGetAromaticRingCount( mol ) )\n",
    "\n",
    "    \n",
    "    \n",
    "#Calculate lots of other properties using molprop toolkit as per example in OE MolProp manual\n",
    "#Handle the setup of 'filter', which computes lots of properties with the goal of filtering compounds. Here we'll not do any filtering\n",
    "#and will use it solely for property calculation\n",
    "filt = OEFilter()\n",
    "ostr = oeosstream()\n",
    "pwnd = False\n",
    "filt.SetTable( ostr, pwnd)\n",
    "#headers = ostr.str().split('\\t') #Python 2.x would want something like this; Python 3 version follows\n",
    "headers = ostr.str().decode().split('\\t')\n",
    "ostr.clear()\n",
    "filt(mol)\n",
    "#fields = ostr.str().split('\\t') #Python 2.x would want something like this; Python 3 version follows\n",
    "fields = ostr.str().decode().split('\\t')\n",
    "tmpdct = dict( zip(headers, fields) ) #Format the data we need into a dictionary for easy extraction\n",
    "\n",
    "print(\"Polar surface area: %s\" % tmpdct[ '2d PSA' ] )\n",
    "print(\"Number of hbond donors: %s\" % int(tmpdct['hydrogen-bond donors']) )\n",
    "print(\"Number of hbond acceptors: %s\" % int(tmpdct['hydrogen-bond acceptors']) )\n",
    "print (\"Number of rings: %s\" % int(tmpdct['number of ring systems']) )\n",
    "#print(tmpdct.keys())\n",
    "\n",
    "#Quickly estimate hydration free energy, or a value correlated with that -- from ZAP manual\n",
    "#Do ZAP setup for molecule\n",
    "OEAssignBondiVdWRadii(mol)\n",
    "OEMMFFAtomTypes(mol)\n",
    "OEMMFF94PartialCharges(mol)\n",
    "zap.SetMolecule( mol )\n",
    "solv = zap.CalcSolvationEnergy()\n",
    "aval = area.GetArea( mol )\n",
    "#Empirically estimate solvation free energy (hydration)\n",
    "solvation = 0.59*solv + 0.01*aval #Convert electrostatic part to kcal/mol; use empirically determined kcal/sq angstrom value times surface area term\n",
    "print (\"Calculated solvation free energy: %.2f\" % solvation)"
   ]
  },
  {
   "cell_type": "code",
   "execution_count": null,
   "metadata": {
    "id": "m6F_Mtu7zxWO"
   },
   "outputs": [],
   "source": []
  },
  {
   "cell_type": "markdown",
   "metadata": {
    "id": "s0LBiwvMyoK8"
   },
   "source": [
    "## In the assignment, these get stored in a dictionary. Let's see how that works."
   ]
  },
  {
   "cell_type": "code",
   "execution_count": 3,
   "metadata": {
    "colab": {
     "base_uri": "https://localhost:8080/"
    },
    "executionInfo": {
     "elapsed": 296,
     "status": "ok",
     "timestamp": 1639684751451,
     "user": {
      "displayName": "Danielle Bergazin",
      "photoUrl": "https://lh3.googleusercontent.com/a-/AOh14GiOdJdx7etc0W4Yfmh-4-g-P0aJMsIonVchL0BInA=s64",
      "userId": "10589367849843705173"
     },
     "user_tz": 480
    },
    "id": "RcUkRaT-yoK9",
    "outputId": "bb12bdf1-b4fb-44ec-8802-37caafb3ad98"
   },
   "outputs": [
    {
     "name": "stdout",
     "output_type": "stream",
     "text": [
      "{'phenol': {'mw': 94.11124000000002, 'rotatable bonds': 0}}\n"
     ]
    }
   ],
   "source": [
    "#Initialize an empty dictionary\n",
    "compounds = {}\n",
    "#Name we're working with\n",
    "molname = 'phenol'\n",
    "#Create a new OEMol to store this into\n",
    "mol = OEMol()\n",
    "\n",
    "#let's look at phenol\n",
    "OEParseIUPACName( mol, molname )\n",
    "\n",
    "#Generate conformation\n",
    "omega = OEOmega()\n",
    "omega(mol)\n",
    "\n",
    "#Create a slot in our dictionary for phenol\n",
    "compounds[molname] = {} #Make it another empty dictionary\n",
    "\n",
    "#Now let's store some stuff in there\n",
    "compounds[molname]['mw'] = OECalculateMolecularWeight(mol)\n",
    "compounds[molname]['rotatable bonds'] = OECount( mol, OEIsRotor() )\n",
    "\n",
    "\n",
    "\n",
    "#TO DO: Try making an update here to add properties for another compound of your choice to the dictionary\n",
    "\n",
    "\n",
    "\n",
    "#Let's print it out\n",
    "print(compounds)"
   ]
  },
  {
   "cell_type": "markdown",
   "metadata": {
    "id": "IJaDs1FKyoK-"
   },
   "source": [
    "The point here is just that a dictionary is a flexible data structure which allows us to easily store away information we might want later in an organized manner. For example, if I want to see everything I have for phenol, I simply use:"
   ]
  },
  {
   "cell_type": "code",
   "execution_count": 4,
   "metadata": {
    "colab": {
     "base_uri": "https://localhost:8080/"
    },
    "executionInfo": {
     "elapsed": 458,
     "status": "ok",
     "timestamp": 1639684755034,
     "user": {
      "displayName": "Danielle Bergazin",
      "photoUrl": "https://lh3.googleusercontent.com/a-/AOh14GiOdJdx7etc0W4Yfmh-4-g-P0aJMsIonVchL0BInA=s64",
      "userId": "10589367849843705173"
     },
     "user_tz": 480
    },
    "id": "u70sWek8yoK_",
    "outputId": "beebfea8-29c6-4b8e-dadb-4a6491f57dc7"
   },
   "outputs": [
    {
     "name": "stdout",
     "output_type": "stream",
     "text": [
      "{'mw': 94.11124000000002, 'rotatable bonds': 0}\n"
     ]
    }
   ],
   "source": [
    "print( compounds['phenol'])"
   ]
  },
  {
   "cell_type": "code",
   "execution_count": null,
   "metadata": {
    "collapsed": true,
    "id": "ciEQepdoyoLA"
   },
   "outputs": [],
   "source": []
  }
 ],
 "metadata": {
  "colab": {
   "collapsed_sections": [],
   "name": "physprops_solubility.ipynb",
   "provenance": []
  },
  "kernelspec": {
   "display_name": "drugcomp23",
   "language": "python",
   "name": "drugcomp23"
  },
  "language_info": {
   "codemirror_mode": {
    "name": "ipython",
    "version": 3
   },
   "file_extension": ".py",
   "mimetype": "text/x-python",
   "name": "python",
   "nbconvert_exporter": "python",
   "pygments_lexer": "ipython3",
   "version": "3.9.16"
  }
 },
 "nbformat": 4,
 "nbformat_minor": 1
}
