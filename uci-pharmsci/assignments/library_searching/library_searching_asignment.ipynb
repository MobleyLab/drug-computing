{
 "cells": [
  {
   "cell_type": "markdown",
   "metadata": {
    "id": "CUqMDtgw1VH0"
   },
   "source": [
    "[![Open in Colab](https://colab.research.google.com/assets/colab-badge.svg)](https://colab.research.google.com/github/MobleyLab/drug-computing/blob/master/uci-pharmsci/assignments/library_searching/library_searching_asignment.ipynb)"
   ]
  },
  {
   "cell_type": "markdown",
   "metadata": {
    "id": "U62m97Om6GKH"
   },
   "source": [
    "# Docking and library searching assignment, PharmSci 175/275\n",
    "\n",
    "### Submission by AK Nandkeolyar\n",
    "\n",
    "## Objective\n",
    "In this assignment you will perform one or more sample library searches to examine docking performance on a test set or test sets. This assignment will differ somewhat from the others in that it gives you more of a chance to explore.\n",
    "\n",
    "## Overview\n",
    "As discussed in class, docking methods are one of the fairly widely used computational methods for studying binding, and have seen significant applications in the area of virtual screening of libraries of potential ligands to filter out compounds which are unlikely to be active and hopefully increase the success rate of finding active compounds via experiments. These methods, while fairly fast, are still typically require a few seconds per compound or more, and thus often are unsuited for filtering large libraries of millions of compounds. In such cases, even faster methods such as LINGO searches may be used for pre-filtering.\n",
    "\n",
    "Here, I am providing you with sample scripts to perform a test LINGO search to filter a library of several million compounds down to a smaller number which have similarity to a known ligand, then to dock these to a target receptor and look at enrichment of active compounds. The test case I have provided is binding of various small molecules to the LEDGF site of HIV-1 integrase, as seen in the 3D structure/shape assignment and as described in the SAMPL4 paper referenced below.\n",
    "\n",
    "In this exercise, you will work through the example I provide, then perform tests of your own on at least three different data sets to see how well docking and LINGO searches will perform for you. You should also examine different scoring functions (within OpenEye’s docking toolkit). Think of this assignment as a bit of a sandbox - you are given some tools and a chance to play around. It is likely that the ideas you generate will help me make this assignment more successful the next time around, and any feedback is appreciated.\n",
    "\n",
    "# Your assignment\n",
    "\n",
    "Here, you will start off by doing a couple example activities so you can see how to use the OpenEye tools to do LINGO searches and docking. Once you’ve done these, then you will have the opportunity to branch out, try other things, and see what will work best on the system(s) you are looking at.\n",
    "\n",
    "As background for this, I suggest you read, if you have not already done so, the paper on the [SAMPL4 HIV integrase challenge](http://dx.doi.org/10.1007/s10822-014-9723-5), as well as the [DUD paper](http://dx.doi.org/10.1021/jm0608356); the later [DUD-E paper](http://dx.doi.org/10.1021/jm300687e) may also be helpful.\n",
    "\n",
    "Here, your warm-up work will relate to the HIV-1 integrase system studied in the SAMPL4 challenge (and seen in the 3D structure/shape assignment).\n",
    "\n",
    "## Warm-up Part 1: Lingo search and other prep\n",
    "\n",
    "Here, your task is to do a simple test of the Lingo search method by downloading a subset of the ZINC database, hiding some known integrase inhibitors in it, and testing the ability of the LINGO search method to enrich the database for known HIV-1 integrase inhibitors.\n",
    "\n",
    "### First get some compounds to work with\n",
    "\n",
    "As a starting point, let's get some compounds to work with. Visit the ZINC15 database (zinc15.docking.org), and click through on \"Tranches\" (subsets) towards the bottom left. This allows you to select all available compounds or subsets by purchaseability, molecular weight, calculated logP, etc. (You can toggle on and off rows and columns by clicking the top or left columns or rows), and filter by reaction likelihood (top menu) or wait time (top menu) and other properties. Select some subset of compounds (600 million is probably too many; let's keep it to a couple million or less) using these options. \n",
    "\n",
    "Once you've selected a subset (I filtered to get \"clean\" \"in stock\" compounds between 200-400 Daltons in some of the middle logP ranges) click the download buttom at the top right to pop up a \"Download Tranches\" menu. **Don't actually download**. Just copy the listed tranche codes; we can use those here to make your life easier.\n",
    "\n",
    "Now paste your tranche codes into the box below as a string called `tranches`, like this:"
   ]
  },
  {
   "cell_type": "markdown",
   "metadata": {
    "id": "zKthp7bv6ICn"
   },
   "source": [
    "## Installing Packages\n",
    "\n",
    "***If you are running this on Google Colab, please add the installation blocks from the [getting started notebook](https://github.com/MobleyLab/drug-computing/blob/master/uci-pharmsci/Getting_Started.ipynb) or [condacolab](https://github.com/aakankschit/drug-computing/blob/master/uci-pharmsci/Getting_Started_condacolab.ipynb) here and then execute the code below***"
   ]
  },
  {
   "cell_type": "code",
   "execution_count": 16,
   "metadata": {},
   "outputs": [],
   "source": [
    "import urllib\n",
    "import pickle\n",
    "import numpy as np \n",
    "import pandas as pd\n",
    "import matplotlib.pyplot as plt\n",
    "from openeye.oechem import *\n",
    "from openeye import oedocking\n",
    "from openeye import oeomega"
   ]
  },
  {
   "cell_type": "markdown",
   "metadata": {
    "id": "viv9OiTo6GKL"
   },
   "source": [
    "Now we'll use the code below (using Python's `urllib` module) to download the files from these tranches and link them together into one big text file for further processing (so we don't have to download again if we need them again), and also save them to the list `zinc_compounds`. \n",
    "\n",
    "The file may be large. (e.g. I downloaded about 4.5 million compounds and ended up with a roughly 260 MB file; this could be reduced using compression but it's a lot of data regardless).\n",
    "\n",
    "If you wanted to do an even larger number of compounds, you would probably want to process one tranche at a time rather than grouping them all up into one large set like I'm doing here. \n",
    "\n",
    "**You should just need to run this code**:"
   ]
  },
  {
   "cell_type": "code",
   "execution_count": 17,
   "metadata": {
    "id": "IxEB1QCy6GKK",
    "tags": []
   },
   "outputs": [],
   "source": [
    "# Tranches. Replace these with your selected tranches\n",
    "tranches = \"EKAA EKAB EKBA EKBB EKCA EKCB EKEA EKEB FKAA FKAB FKBA FKBB FKCA FKCB FKEA FKEB GKAA GKAB GKBA GKBB GKCA GKCB GKEA GKEB\""
   ]
  },
  {
   "cell_type": "code",
   "execution_count": null,
   "metadata": {
    "id": "8yvlBw-t6GKL"
   },
   "outputs": [],
   "source": [
    "# Split up the string of tranches into a list\n",
    "tranches_elements = tranches.split()\n",
    "\n",
    "# Set up an output file and list for storing results\n",
    "filename = 'zinc_compounds.smi'\n",
    "out_file = open(filename, 'w')\n",
    "zinc_compounds = []\n",
    "\n",
    "# Loop over SMILES string files for desired tranches \n",
    "import urllib\n",
    "for t_id in tranches_elements:\n",
    "    prefix = t_id[0:2]\n",
    "    # Retrieve file-like object for iterating over contents of this one\n",
    "    contents = urllib.request.urlopen('http://files.docking.org/2D/' + prefix + '/'+ t_id +'.smi')\n",
    "    # Loop over each line, decode from bytes format to string, write to output. Skip the first line of each file\n",
    "    # which is a header line\n",
    "    for line in contents:\n",
    "        if line.split()[0].decode() != 'smiles':\n",
    "            # Replace some special characters at the same time\n",
    "            out_file.write(line.decode().replace('\\n',''))\n",
    "            zinc_compounds.append(line.decode().replace('\\r\\n',''))\n",
    "            \n",
    "out_file.close()"
   ]
  },
  {
   "cell_type": "markdown",
   "metadata": {
    "id": "6Wcl-Il56GKM"
   },
   "source": [
    "### Now retrieve the SAMPL4 compounds from a file"
   ]
  },
  {
   "cell_type": "markdown",
   "metadata": {
    "id": "TTG4zs5z6GKM"
   },
   "source": [
    "Next, you need to load the SAMPL4 compounds and insert them in your set. These are present in this directory as `SAMPL4_smiles.smi`. Both the ZINC data and the SAMPL4 data are in a format where the SMILES string is the first entry on each line and the compound ID or name is the second entry.\n",
    "\n",
    "**Insert code below to read in the SAMPL4 compounds (stored in `sampl4_compounds`) and then make a new list called `all_compounds` which contains the ZINC compounds plus the SAMPL4 compounds**"
   ]
  },
  {
   "cell_type": "code",
   "execution_count": 5,
   "metadata": {
    "id": "8gdRVmF26GKM"
   },
   "outputs": [],
   "source": [
    "# Your code goes here\n",
    "with open('sampl4_smiles.smi', 'r') as file_in:\n",
    "    sampl4_compounds = []\n",
    "    for line in file_in:\n",
    "        sampl4_compounds.append(line)\n",
    "all_compounds = zinc_compounds + sampl4_compounds"
   ]
  },
  {
   "cell_type": "markdown",
   "metadata": {
    "id": "EtY9s-Nz6GKN"
   },
   "source": [
    "### Let's also get a known integrase ligand for use as reference\n",
    "\n",
    "`3NF8_ligand.pdb` in this directory contains a known HIV integrase ligand (from the 3NF8 structure in the PDB) which can be used as a query for trying to find other, similar integrase ligands, as we will do here. Using Python code or a 2D viewer, create a SMILES string for this ligand (recommended option: Use the OpenEye toolkits, read it in as an OEMol, and create an isomeric SMILES string for it) and save it into a plain text file named something like `query.smi`; this will serve as the query molecule for our LINGO search. You can also save it to a variable like `querymolecule_smiles` in this notebook.\n",
    "\n",
    "**Your code for this goes here (if you use code) and make sure you end up with a `querymolecule_smiles` variable:**"
   ]
  },
  {
   "cell_type": "code",
   "execution_count": 50,
   "metadata": {
    "id": "8dQ9Eosb6GKN"
   },
   "outputs": [],
   "source": [
    "querymolecule_smiles = 'CC[C@@H](C)NC(=O)c1ccccc1C[N@@H+](CC=C)Cc2ccc3c(c2C(=O)[O-])OC[C@@H](O3)CCC(=O)[O-]'"
   ]
  },
  {
   "cell_type": "code",
   "execution_count": 51,
   "metadata": {},
   "outputs": [],
   "source": [
    "istream = oemolistream('3NF8_ligand.pdb')\n",
    "mol = OEMol()\n",
    "OEReadMolecule(istream,mol)\n",
    "istream.close()"
   ]
  },
  {
   "cell_type": "code",
   "execution_count": 52,
   "metadata": {},
   "outputs": [
    {
     "data": {
      "text/plain": [
       "'c1cc2c(cc1Cl)CC(=O)N2Cc3ccc4c(c3C(=O)[O-])OCCO4'"
      ]
     },
     "execution_count": 52,
     "metadata": {},
     "output_type": "execute_result"
    }
   ],
   "source": [
    "OECreateIsoSmiString(mol)"
   ]
  },
  {
   "cell_type": "markdown",
   "metadata": {
    "id": "c8Xe0bwq6GKO"
   },
   "source": [
    "### Update the code below to process your `all_compounds` list and filter it down to 10k compounds\n",
    "\n",
    "Next, you'll process your set of compounds from ZINC (plus the known ligands you inserted) and compare to the reference molecule in `querymolecule_smiles`using the code below.\n",
    "\n",
    "The code below currently takes in a `combined.smi` input file; you'll need to modify it to use your input (an `all_compounds` list)."
   ]
  },
  {
   "cell_type": "code",
   "execution_count": 56,
   "metadata": {
    "id": "hSOd83BD6GKO"
   },
   "outputs": [
    {
     "name": "stdout",
     "output_type": "stream",
     "text": [
      "1960642\n",
      "Molecules, most similar to least similar:\n"
     ]
    }
   ],
   "source": [
    "from openeye.oechem import *\n",
    "import pickle\n",
    "\n",
    "#INFILE: Input file containing SMILES strings and titles of the molecules you want to examine\n",
    "#infile = 'combined.smi'\n",
    "#infile = all_compounds\n",
    "\n",
    "#Query molecule: This assumes you already have `querymolecule_smiles` containing the SMILES string for your query molecule\n",
    "#Load reference molecule\n",
    "qmol = OEGraphMol()\n",
    "OEParseSmiles( qmol, querymolecule_smiles )\n",
    "\n",
    "#Initialize lingo comparison\n",
    "lingo = OELingoSim( qmol )\n",
    "\n",
    "#########################################################################\n",
    "#Load other molecules and do the LINGO search to compute similarity scores\n",
    "#########################################################################\n",
    "\n",
    "#file = open( infile, 'r') #Open input file for reading\n",
    "#text = file.readlines() #Read contents and close\n",
    "#file.close()\n",
    "\n",
    "#Initialize storage for results\n",
    "sims_by_name = {}\n",
    "smiles_by_name = {}\n",
    "text=all_compounds\n",
    "#Loop over the text we read in and do similarity comparison\n",
    "for (idx,line) in enumerate(text):\n",
    "\n",
    "    #Every 1000 molecules, print an update on progress.\n",
    "    #if idx%1000==0:\n",
    "        #print(\"%s/%s\" % (idx, len(text) ))\n",
    "\n",
    "    #Extract data - split the line up into components\n",
    "    tmp = line.split()\n",
    "\n",
    "    #Initialize new, empty molecule\n",
    "    mol = OEGraphMol()\n",
    "    #Read SMILES into molecule from first entry on line read from file\n",
    "    OEParseSmiles( mol, tmp[0] )\n",
    "    \n",
    "        #DO similarity comparison via lingo\n",
    "    sim = lingo.Similarity( mol )\n",
    "\n",
    "    #Load and score smiles string and name for future reference.\n",
    "    smi = tmp[0]\n",
    "    name = tmp[1]\n",
    "    sims_by_name[ name ] = sim\n",
    "    smiles_by_name[name] = smi\n",
    "\n",
    "#########################################################################\n",
    "#Process results, print out info, store results.\n",
    "#########################################################################\n",
    "\n",
    "#Get lists of similarities and compound names.\n",
    "similarities = list(sims_by_name.values())\n",
    "names = list(sims_by_name.keys())\n",
    "print(len(names))\n",
    "\n",
    "#Do a sort of the names by similarity score, highest to lowest.\n",
    "names = sorted(names, key=lambda name: -sims_by_name[name])\n",
    "\n",
    "#Print out maximum similarity score\n",
    "#print(\"Max similarity: %.3f\" % max(similarities))\n",
    "\n",
    "#Save top 10,000 most similar compounds (the full set is probably too large to save again) to a pickle file in case we want to re-load them to do anything else with them.\n",
    "saveNum = 10000\n",
    "smiles = [ smiles_by_name[name] for name in names[0:saveNum] ]\n",
    "file = open('match_names_and_smiles.pickle', 'wb')\n",
    "pickle.dump((names, smiles), file)\n",
    "file.close()\n",
    "\n",
    "#Save 1,000 most similar componds (again, full set is too large) to a plain text file, AND print out info on them..\n",
    "file = open('match_names_and_smiles.txt', 'w')\n",
    "print(\"Molecules, most similar to least similar:\")\n",
    "for n in range(saveNum):\n",
    "    #Store top (saveNum) most similar molecules.\n",
    "    name = names[n]\n",
    "    #print('%s \\t %s' % (name, sims_by_name[name]))\n",
    "    file.write('%s\\t %s \\t %s\\n' % ( smiles_by_name[name], names[n], sims_by_name[name]))\n",
    "file.close()"
   ]
  },
  {
   "cell_type": "markdown",
   "metadata": {
    "id": "iUHtbuq86GKO"
   },
   "source": [
    "### Check how well your Lingo search did at finding the known active compounds\n",
    "\n",
    "The script above writes the top 10,000 matches to a pickle file and a text file. Check how many of the known active compounds (from `sampl4_compounds`) are in the top 10,000. Specifically, write a python script which:\n",
    "- Takes the top 10,000 Lingo matches\n",
    "- Checks their names against the actives in `sampl4_compounds`\n",
    "- Calcluate the enrichment factor for this 10,000 compounds (the number of actives you actually found, divided by the number you would expect to find if you were guessing randomly and the Lingo search were doing no good (so that active compounds were divided randomly throughout the full set).\n",
    "\n",
    "You may wish to also use `oenotebook` to depict some of your top compounds and see how they compare to the actual actives. \n",
    "\n",
    "Ask for help if these tasks seem challenging. \n",
    "\n",
    "**Your python code for this should go here**:"
   ]
  },
  {
   "cell_type": "code",
   "execution_count": 93,
   "metadata": {
    "id": "4_GVTH8N6GKP"
   },
   "outputs": [],
   "source": [
    "file = open('match_names_and_smiles.txt', 'r')\n",
    "text = file.readlines()\n",
    "file.close()\n",
    "\n",
    "# Creates a Dictionary of SMILE strings \n",
    "mol_by_name = {}\n",
    "for line in text:\n",
    "    tmp = line.split()\n",
    "    name=tmp[1]\n",
    "    smiles=tmp[0]\n",
    "    mol_by_name[name] = smiles\n",
    "\n",
    "#Load actual binders\n",
    "file = open('SAMPL4_smiles.smi', 'r')\n",
    "text = file.readlines()\n",
    "file.close()\n",
    "binders=[]\n",
    "for line in text:\n",
    "    smiles=line.split()[1]\n",
    "    binders.append(smiles)"
   ]
  },
  {
   "cell_type": "code",
   "execution_count": 94,
   "metadata": {},
   "outputs": [],
   "source": [
    "score=0\n",
    "scores=0\n",
    "enrichment_scores = []\n",
    "i=0\n",
    "ranks = []\n",
    "for key in mol_by_name:\n",
    "    i+=1\n",
    "    ranks.append(i)\n",
    "    if key in binders:\n",
    "        scores+=1\n",
    "        enrichment_scores.append(scores)\n",
    "    else:\n",
    "        enrichment_scores.append(scores)\n",
    "Fraction_of_binders = [enrichment_score/len(binders) for enrichment_score in enrichment_scores]              "
   ]
  },
  {
   "cell_type": "code",
   "execution_count": 96,
   "metadata": {},
   "outputs": [
    {
     "name": "stdout",
     "output_type": "stream",
     "text": [
      "['AVX38779_0', 'AVX101124_1', 'AVX101118_1', 'AVX38783_1', 'AVX17558_3', 'AVX38782_1', 'AVX17260_0', 'AVX17680_0', 'AVX101121_0', 'AVX17557_3', 'AVX101122_1', 'AVX38785_1', 'AVX38672_0', 'AVX17556_3', 'AVX17377_0', 'AVX38780_0', 'AVX38708_1', 'AVX38747_0', 'GL5243102_0', 'AVX17557_2', 'AVX40911_0', 'AVX38749_0', 'AVX38787_1', 'GL5243104_0', 'AVX17542_0', 'AVX17257_0', 'AVX38748_0', 'AVX38786_1', 'AVX17375_2', 'GL5243106_0', 'AVX15988_0', 'AVX40812_0', 'AVX101140_0', 'AVX101119_0', 'AVX38743_5', 'AVX17389_0', 'GL5243100_0', 'AVX17379_0', 'AVX17715_0', 'AVX38741_1', 'AVX38742_3', 'AVX17287_0', 'AVX40811_0', 'AVX38753_3', 'AVX38674_0', 'AVX17286_0', 'AVX38784_5', 'AVX17560_0', 'AVX38789_1', 'AVX17631_0', 'AVX38673_1', 'pC2A03_0', 'AVX17679_0', 'AVX17285_0', 'AVX38781_1', 'AVX38788_1']\n"
     ]
    }
   ],
   "source": [
    "print(binders)"
   ]
  },
  {
   "cell_type": "code",
   "execution_count": 20,
   "metadata": {},
   "outputs": [],
   "source": [
    "import numpy as np\n",
    "random_actives = np.linspace(0,0.6,len(Fraction_of_binders))"
   ]
  },
  {
   "cell_type": "code",
   "execution_count": 21,
   "metadata": {},
   "outputs": [
    {
     "data": {
      "text/plain": [
       "<matplotlib.legend.Legend at 0x143c14610>"
      ]
     },
     "execution_count": 21,
     "metadata": {},
     "output_type": "execute_result"
    },
    {
     "data": {
      "image/png": "[encoded data removed]",
      "text/plain": [
       "<Figure size 432x288 with 1 Axes>"
      ]
     },
     "metadata": {
      "needs_background": "light"
     },
     "output_type": "display_data"
    }
   ],
   "source": [
    "import matplotlib.pyplot as plt\n",
    "fig1,ax1 = plt.subplots()\n",
    "ax1.plot(ranks,Fraction_of_binders,label='Enrichment')\n",
    "ax1.plot(ranks,random_actives,label='Random Actives')\n",
    "plt.xlabel(\"Rank\")\n",
    "plt.ylabel(\"Enrichment Score\")\n",
    "plt.title(\"Enrichment Plot\")\n",
    "plt.legend(loc=\"lower right\")"
   ]
  },
  {
   "cell_type": "markdown",
   "metadata": {
    "id": "4Rbm0HCc6GKP"
   },
   "source": [
    "## Warm-up Part 2: Docking\n",
    "\n",
    "In this section, your starting point is rather similar to that in the section above — but this time, since docking is a lot slower than a LINGO search, let’s just see how simple docking can do at picking out SAMPL4 active compounds from a larger set of nonbinders. This directory contains a file called `Maybridge_nonbinders.smi`, which is non-binders from a set of fragments Tom Peat and his collaborators experimentally screened initially in SAMPL4 (which led to the lead series found in `SAMPL4_smiles.smi`). This directory also contains `3NF8_prepped.pdb`, the receptor, and `3NF8_ligand.pdb`, a reference ligand from that structure.\n",
    "\n",
    "\n",
    "Also get a copy of `dock_example.py` from there, a docking tool based on an example from the OpenEye documentation, and `get_scores_from_sdf.py`, a rough Python script for analyzing the output and making an enrichment plot.\n",
    "\n",
    "### Read in the relevant data\n",
    "\n",
    "Read in the `Maybridge_nonbinders.smi` and `SAMPL4_smiles.smi` into a single list of lines similary to what was done above, so you have a list of compounds to dock here (we'll be docking both active and inactive compounds and seeing how well we can do at recognizing the actives). Store these into separate lists, then make a combined list of both that's called `all_docking_compounds`.\n",
    "\n",
    "**Insert your code for this here**:"
   ]
  },
  {
   "cell_type": "code",
   "execution_count": 10,
   "metadata": {},
   "outputs": [],
   "source": [
    "with open('Maybridge_nonbinders.smi', 'r') as file_in:\n",
    "    Maybridge_compounds = []\n",
    "    for line in file_in:\n",
    "        Maybridge_compounds.append(line)\n",
    "all_docking_compounds = Maybridge_compounds + sampl4_compounds"
   ]
  },
  {
   "cell_type": "markdown",
   "metadata": {
    "id": "e1pFNBT_6GKP"
   },
   "source": [
    "### Now dock using the compounds using the code below.\n",
    "\n",
    "The code below will use the `Chemgauss4` scoring function from the OpenEye toolkits to dock your compounds to the target. You should try it out; you may also want to revisit it later and consider testing alternate scoring functions [described in the OpenEye documentation](https://docs.eyesopen.com/toolkits/python/dockingtk/docking.html) such as the Hybrid2, PLP, or Chemscore scoring functions. `Hybrid2` is particularly interesting as it is a combination of docking and shape comparison and could perform particularly well here since we have both the receptor AND a known ligand we can use. Comparing performance of these methods would be a useful outcome of this exercise.\n",
    "\n",
    "This draws on code you saw in the docking sandbox.\n",
    "\n",
    "#### Prep your receptor for docking"
   ]
  },
  {
   "cell_type": "code",
   "execution_count": 11,
   "metadata": {
    "id": "sGTbwLKu6GKP"
   },
   "outputs": [
    {
     "data": {
      "text/plain": [
       "True"
      ]
     },
     "execution_count": 11,
     "metadata": {},
     "output_type": "execute_result"
    }
   ],
   "source": [
    "from openeye import oedocking\n",
    "from openeye import oeomega\n",
    "from openeye import oechem\n",
    "\n",
    "# Load the HIV integrase receptor from disk\n",
    "imstr = oemolistream('3NF8_prepped.pdb')\n",
    "protein = oechem.OEGraphMol()\n",
    "oechem.OEReadMolecule(imstr, protein)\n",
    "imstr.close()\n",
    "\n",
    "# Load a reference ligand; we'll use this to indicate where the binding site is (and for `Hybrid`, it serves as a reference ligand)\n",
    "ligand = oechem.OEGraphMol()\n",
    "imstr = oechem.oemolistream('3NF8_ligand.pdb')\n",
    "oechem.OEReadMolecule(imstr, ligand)\n",
    "imstr.close()\n",
    "\n",
    "# Initialize the receptor for docking\n",
    "receptor = oechem.OEGraphMol()\n",
    "oedocking.OEMakeReceptor(receptor, protein, ligand)"
   ]
  },
  {
   "cell_type": "markdown",
   "metadata": {
    "id": "wHqtjfx_6GKP"
   },
   "source": [
    "#### Choose your docking scoring function\n",
    "\n",
    "If you wish to test other scoring functions, this would be where you would change it"
   ]
  },
  {
   "cell_type": "code",
   "execution_count": 24,
   "metadata": {
    "id": "8DNWnT8Y6GKQ"
   },
   "outputs": [],
   "source": [
    "#Set the docking method and docking resolution\n",
    "# Note: Chemgauss4 is the scoring function for FRED\n",
    "dock_method = oedocking.OEDockMethod_Chemgauss4\n",
    "dock_resolution = oedocking.OESearchResolution_Default\n",
    "sdtag = oedocking.OEDockMethodGetName( dock_method )\n",
    "\n",
    "#Generate our OEDocking object\n",
    "dock = oedocking.OEDock( dock_method, dock_resolution)\n",
    "\n",
    "#Initialize the OEDocking by providing it the receptor\n",
    "if not dock.Initialize(receptor):\n",
    "    # raise an exception if the receptor cannot be initialized\n",
    "    raise Exception(\"Unable to initialize Docking with {0}\".format(self.args.receptor))"
   ]
  },
  {
   "cell_type": "markdown",
   "metadata": {
    "id": "ScIfNrxO6GKQ"
   },
   "source": [
    "#### Define a function for docking"
   ]
  },
  {
   "cell_type": "code",
   "execution_count": 25,
   "metadata": {
    "id": "Lwbr_M796GKQ"
   },
   "outputs": [],
   "source": [
    "def dock_molecule( dock: \"OEDock\", sdtag: str, num_poses: int, mcmol ) -> tuple:\n",
    "    ''' Docks the multiconfomer molecule, with the given number of poses\n",
    "        Returns a tuple of the docked molecule (dockedMol) and its score\n",
    "        i.e. ( dockedMol, score )\n",
    "    '''\n",
    "    dockedMol = oechem.OEMol()\n",
    "\n",
    "    #Dock the molecule into a given number of poses\n",
    "    res = dock.DockMultiConformerMolecule(dockedMol, mcmol, num_poses)\n",
    "    \n",
    "    if res == oedocking.OEDockingReturnCode_Success:\n",
    "        \n",
    "        #Annotate the molecule with the score and SDTag that contains the docking method\n",
    "        oedocking.OESetSDScore(dockedMol, dock, sdtag)\n",
    "        dock.AnnotatePose(dockedMol)\n",
    "        score = dock.ScoreLigand(dockedMol)\n",
    "        oechem.OESetSDData(dockedMol, sdtag, \"{}\".format(score))\n",
    "        return dockedMol, score\n",
    "    \n",
    "    else:\n",
    "        # raise an exception if the docking is not successful\n",
    "        raise Exception(\"Unable to dock ligand {0} to receptor\".format( dockedMol ))"
   ]
  },
  {
   "cell_type": "markdown",
   "metadata": {
    "id": "DSMS8RwO6GKQ"
   },
   "source": [
    "#### Run docking\n",
    "\n",
    "Note that this assumes your ligand SMILES and names are stored in `all_docking_compounds`.\n",
    "\n",
    "You shouldn't have to change settings here, but you can if you like; e.g. for testing purposes you might wish to dock just a subset of the compounds."
   ]
  },
  {
   "cell_type": "code",
   "execution_count": null,
   "metadata": {
    "id": "mDOeg4YD6GKQ"
   },
   "outputs": [],
   "source": [
    "omega = oeomega.OEOmega()\n",
    "omega.SetStrictStereo(False) \n",
    "\n",
    "# Generate conformers for compounds and dock\n",
    "inmols = []\n",
    "usednames = []\n",
    "for idx,line in enumerate(all_docking_compounds):\n",
    "    tmp = line.split()\n",
    "    smi = tmp[0]\n",
    "    mol = oechem.OEMol()\n",
    "    name = tmp[1]\n",
    "    if name=='' or name==None or len(name)<3:\n",
    "        #Define alternate name based on index\n",
    "        name = 'mol%s smiles %s' % (idx, smi)\n",
    "        print(\"No name found on line %s; using alternate name %s...\" % (idx, name))\n",
    "    if not name in usednames: #Make sure haven't already used this one\n",
    "        usednames.append(name)\n",
    "        oechem.OEParseSmiles(mol, smi)\n",
    "        mol.SetTitle(name)\n",
    "        builtOK = omega(mol)\n",
    "        inmols.append(mol)\n",
    "    else:\n",
    "        continue\n",
    "\n",
    "#Define how many docked poses to generate per molecule\n",
    "num_poses = 2\n",
    "\n",
    "\n",
    "#Open a filestream for writing the docked molecules\n",
    "scores = {}\n",
    "with oechem.oemolostream( 'dock-results.sdf') as ofs:\n",
    "\n",
    "    #Loop over 3D molecules from the input filestream\n",
    "    for mcmol in inmols:\n",
    "\n",
    "        #Call our written docking function\n",
    "        dockedMol, score = dock_molecule( dock, sdtag, num_poses, mcmol )\n",
    "        print(\"{} {} score = {:.4f}\".format(sdtag, dockedMol.GetTitle(), score))\n",
    "\n",
    "        #Write docked molecules to output filestream\n",
    "        oechem.OEWriteMolecule(ofs, dockedMol)\n",
    "        \n",
    "        # Store score\n",
    "        scores[ mcmol.GetTitle()] = score\n"
   ]
  },
  {
   "cell_type": "markdown",
   "metadata": {
    "id": "gv-tl3kp6GKQ"
   },
   "source": [
    "Here, `dock-results.sdf` is a key output file. This is a structure file (sdf) and will contain 3D poses of molecules docked into the receptor, along with scores. You can visualize these by loading them into PyMol or a similar viewer (e.g. Vida, VMD, Chimera, ...) along with the receptor (`3NF8_prepped.pdb`).\n",
    "\n",
    "### Now let's do an enrichment plot\n",
    "\n",
    "If we needed to use the scores stored to file, we would start by retrieving them from the SDF file they're stored in. But we already have them in `scores`, which is a dictionary storing scores by molecule title. So here, our first step is to load active compounds and check which ones are present among our docked compounds, at which ranks.\n",
    "\n",
    "You should be able to just run this code:"
   ]
  },
  {
   "cell_type": "code",
   "execution_count": null,
   "metadata": {
    "id": "vsiohxdr6GKR"
   },
   "outputs": [],
   "source": [
    "# Read active compounds\n",
    "active_smiles_by_name = {}\n",
    "file = open('SAMPL4_smiles.smi', 'r')\n",
    "text = file.readlines()\n",
    "file.close()\n",
    "for line in text:\n",
    "    tmp = line.split()\n",
    "    active_smiles_by_name[tmp[1]] = tmp[0]\n",
    "\n",
    "# Build list of titles sorted by score\n",
    "sorted_titles = list(scores.keys())\n",
    "sorted_titles.sort( key = lambda title: scores[title] )\n",
    "\n",
    "# Count how many actives are found at which ranks\n",
    "ct = 0\n",
    "fnd_actives = []\n",
    "for active_name in active_smiles_by_name.keys():\n",
    "    if active_name in sorted_titles:\n",
    "        ct += 1\n",
    "        print(\"Active %s found in docking results at rank %s\" % ( active_name, sorted_titles.index(active_name)))\n",
    "        fnd_actives.append( active_name )\n",
    "\n",
    "print(\"Total compounds: %s\" % len(sorted_titles))\n",
    "\n",
    "#Find number of actives\n",
    "n_actives = len(fnd_actives)"
   ]
  },
  {
   "cell_type": "markdown",
   "metadata": {
    "id": "7Fiyur8k6GKR"
   },
   "source": [
    "The next step is to actually generate an enrichment plot. This does a really basic one, which it should display inline AND save to a PDF file:"
   ]
  },
  {
   "cell_type": "code",
   "execution_count": 28,
   "metadata": {
    "id": "tNFpyTfd6GKR"
   },
   "outputs": [
    {
     "name": "stdout",
     "output_type": "stream",
     "text": [
      "Populating the interactive namespace from numpy and matplotlib\n"
     ]
    },
    {
     "name": "stderr",
     "output_type": "stream",
     "text": [
      "/opt/anaconda3/envs/drug_comp/lib/python3.9/site-packages/IPython/core/magics/pylab.py:159: UserWarning: pylab import has clobbered these variables: ['Text', 'Arrow', 'text']\n",
      "`%matplotlib` prevents importing * from pylab and numpy\n",
      "  warn(\"pylab import has clobbered these variables: %s\"  % clobbered +\n"
     ]
    },
    {
     "data": {
      "image/png": "[encoded data removed]",
      "text/plain": [
       "<Figure size 432x288 with 1 Axes>"
      ]
     },
     "metadata": {
      "needs_background": "light"
     },
     "output_type": "display_data"
    },
    {
     "data": {
      "text/plain": [
       "<Figure size 432x288 with 0 Axes>"
      ]
     },
     "metadata": {},
     "output_type": "display_data"
    }
   ],
   "source": [
    "#Do an enrichment plot\n",
    "%pylab inline\n",
    "numfound = []\n",
    "ct=0\n",
    "for name in sorted_titles:\n",
    "    if name in active_smiles_by_name.keys():\n",
    "        ct+=1\n",
    "    numfound.append(ct)\n",
    "fracfound = [ ct/float(n_actives) for ct in numfound]\n",
    "plot( arange(len(sorted_titles)), fracfound, 'bo')\n",
    "plot( [0, len(sorted_titles)], [0, 1]) #Random line\n",
    "legend(('Docking results', 'Expected for random'))\n",
    "xlabel('Rank')\n",
    "ylabel('Fraction of actives found')\n",
    "show()"
   ]
  },
  {
   "cell_type": "markdown",
   "metadata": {},
   "source": [
    "## Hybrid Method Run for Example"
   ]
  },
  {
   "cell_type": "code",
   "execution_count": 15,
   "metadata": {},
   "outputs": [],
   "source": [
    "#Set the docking method and docking resolution\n",
    "# Note: Chemgauss4 is the scoring function for FRED\n",
    "dock_method = oedocking.OEDockMethod_Hybrid\n",
    "dock_resolution = oedocking.OESearchResolution_Default\n",
    "sdtag = oedocking.OEDockMethodGetName( dock_method )\n",
    "\n",
    "#Generate our OEDocking object\n",
    "dock = oedocking.OEDock( dock_method, dock_resolution)\n",
    "\n",
    "#Initialize the OEDocking by providing it the receptor\n",
    "if not dock.Initialize(receptor):\n",
    "    # raise an exception if the receptor cannot be initialized\n",
    "    raise Exception(\"Unable to initialize Docking with {0}\".format(self.args.receptor))"
   ]
  },
  {
   "cell_type": "code",
   "execution_count": 18,
   "metadata": {
    "id": "Lwbr_M796GKQ"
   },
   "outputs": [],
   "source": [
    "def dock_molecule( dock: \"OEDock\", sdtag: str, num_poses: int, mcmol ) -> tuple:\n",
    "    ''' Docks the multiconfomer molecule, with the given number of poses\n",
    "        Returns a tuple of the docked molecule (dockedMol) and its score\n",
    "        i.e. ( dockedMol, score )\n",
    "    '''\n",
    "    dockedMol = oechem.OEMol()\n",
    "\n",
    "    #Dock the molecule into a given number of poses\n",
    "    res = dock.DockMultiConformerMolecule(dockedMol, mcmol, num_poses)\n",
    "    \n",
    "    if res == oedocking.OEDockingReturnCode_Success:\n",
    "        \n",
    "        #Annotate the molecule with the score and SDTag that contains the docking method\n",
    "        oedocking.OESetSDScore(dockedMol, dock, sdtag)\n",
    "        dock.AnnotatePose(dockedMol)\n",
    "        score = dock.ScoreLigand(dockedMol)\n",
    "        oechem.OESetSDData(dockedMol, sdtag, \"{}\".format(score))\n",
    "        return dockedMol, score\n",
    "    \n",
    "    else:\n",
    "        # raise an exception if the docking is not successful\n",
    "        raise Exception(\"Unable to dock ligand {0} to receptor\".format( dockedMol ))"
   ]
  },
  {
   "cell_type": "code",
   "execution_count": null,
   "metadata": {
    "id": "mDOeg4YD6GKQ"
   },
   "outputs": [],
   "source": [
    "omega = oeomega.OEOmega()\n",
    "omega.SetStrictStereo(False) \n",
    "\n",
    "# Generate conformers for compounds and dock\n",
    "inmols = []\n",
    "usednames = []\n",
    "for idx,line in enumerate(all_docking_compounds):\n",
    "    tmp = line.split()\n",
    "    smi = tmp[0]\n",
    "    mol = oechem.OEMol()\n",
    "    name = tmp[1]\n",
    "    if name=='' or name==None or len(name)<3:\n",
    "        #Define alternate name based on index\n",
    "        name = 'mol%s smiles %s' % (idx, smi)\n",
    "        print(\"No name found on line %s; using alternate name %s...\" % (idx, name))\n",
    "    if not name in usednames: #Make sure haven't already used this one\n",
    "        usednames.append(name)\n",
    "        oechem.OEParseSmiles(mol, smi)\n",
    "        mol.SetTitle(name)\n",
    "        builtOK = omega(mol)\n",
    "        inmols.append(mol)\n",
    "    else:\n",
    "        continue\n",
    "\n",
    "#Define how many docked poses to generate per molecule\n",
    "num_poses = 2\n",
    "\n",
    "\n",
    "#Open a filestream for writing the docked molecules\n",
    "scores = {}\n",
    "with oechem.oemolostream( 'dock-results.sdf') as ofs:\n",
    "\n",
    "    #Loop over 3D molecules from the input filestream\n",
    "    for mcmol in inmols:\n",
    "\n",
    "        #Call our written docking function\n",
    "        dockedMol, score = dock_molecule( dock, sdtag, num_poses, mcmol )\n",
    "        print(\"{} {} score = {:.4f}\".format(sdtag, dockedMol.GetTitle(), score))\n",
    "\n",
    "        #Write docked molecules to output filestream\n",
    "        oechem.OEWriteMolecule(ofs, dockedMol)\n",
    "        \n",
    "        # Store score\n",
    "        scores[ mcmol.GetTitle()] = score\n"
   ]
  },
  {
   "cell_type": "code",
   "execution_count": null,
   "metadata": {
    "id": "vsiohxdr6GKR"
   },
   "outputs": [],
   "source": [
    "# Read active compounds\n",
    "active_smiles_by_name = {}\n",
    "file = open('SAMPL4_smiles.smi', 'r')\n",
    "text = file.readlines()\n",
    "file.close()\n",
    "for line in text:\n",
    "    tmp = line.split()\n",
    "    active_smiles_by_name[tmp[1]] = tmp[0]\n",
    "\n",
    "# Build list of titles sorted by score\n",
    "sorted_titles = list(scores.keys())\n",
    "sorted_titles.sort( key = lambda title: scores[title] )\n",
    "\n",
    "# Count how many actives are found at which ranks\n",
    "ct = 0\n",
    "fnd_actives = []\n",
    "for active_name in active_smiles_by_name.keys():\n",
    "    if active_name in sorted_titles:\n",
    "        ct += 1\n",
    "        print(\"Active %s found in docking results at rank %s\" % ( active_name, sorted_titles.index(active_name)))\n",
    "        fnd_actives.append( active_name )\n",
    "\n",
    "print(\"Total compounds: %s\" % len(sorted_titles))\n",
    "\n",
    "#Find number of actives\n",
    "n_actives = len(fnd_actives)"
   ]
  },
  {
   "cell_type": "code",
   "execution_count": 22,
   "metadata": {
    "id": "tNFpyTfd6GKR"
   },
   "outputs": [
    {
     "name": "stdout",
     "output_type": "stream",
     "text": [
      "Populating the interactive namespace from numpy and matplotlib\n"
     ]
    },
    {
     "data": {
      "image/png": "[encoded data removed]",
      "text/plain": [
       "<Figure size 432x288 with 1 Axes>"
      ]
     },
     "metadata": {
      "needs_background": "light"
     },
     "output_type": "display_data"
    },
    {
     "data": {
      "text/plain": [
       "<Figure size 432x288 with 0 Axes>"
      ]
     },
     "metadata": {},
     "output_type": "display_data"
    }
   ],
   "source": [
    "#Do an enrichment plot\n",
    "%pylab inline\n",
    "numfound = []\n",
    "ct=0\n",
    "for name in sorted_titles:\n",
    "    if name in active_smiles_by_name.keys():\n",
    "        ct+=1\n",
    "    numfound.append(ct)\n",
    "fracfound = [ ct/float(n_actives) for ct in numfound]\n",
    "plot( arange(len(sorted_titles)), fracfound, 'bo')\n",
    "plot( [0, len(sorted_titles)], [0, 1]) #Random line\n",
    "legend(('Docking results', 'Expected for random'))\n",
    "xlabel('Rank')\n",
    "ylabel('Fraction of actives found')\n",
    "show()"
   ]
  },
  {
   "cell_type": "markdown",
   "metadata": {
    "id": "ENguMXEx6GKR"
   },
   "source": [
    "## Sandbox: Try out some other things\n",
    "\n",
    "For the final programming part of this assignment, you have the opportunity to try out some other things *of your choice* which relate to the topic. For example, you might consider linking the two tests above -- if you dock the results of a LINGO search, how well can docking do at further enriching the active compounds? \n",
    "\n",
    "You also might be interested in getting the DUD-E set's HIV integrase ligands (actives) and decoys (nonbinders) -- this provides a second set of actual integrase binders which are fairly distinct from the series represented by the 3NF8 ligand (see http://dude.docking.org/targets). You could experiment to see whether docking and/or lingo searches can recognize the DUD-E integrase ligands out of the DUD-E integrase decoys, or out of ALL non-binders from DUD-E, or even whether it can recognize DUD-E integrase ligands hidden in a subset of ZINC. Experimenting here would give you a sense of how the performance of these methods depends on the dataset you are using.\n",
    "\n",
    "You could likewise take any of the other ligand+decoy sets from DUD-E and evaluate docking and/or LINGO performance on those. \n",
    "\n",
    "You are free to try a variety of things, but **your final submission should include your results on at least three different datasets, and you should look at several different scoring functions. You should provide enrichment plots for every different system and scoring function examined.** Unlike some of our other assignments, relatively minimal coding is required here - mostly you’re just running things I’ve provided for you - so you should take some more time to examine the results. "
   ]
  },
  {
   "cell_type": "markdown",
   "metadata": {},
   "source": [
    "# Functions\n",
    "\n",
    "Given that I am going to have to re-use a lot of code blocks multiple times, I have modified them to be compatible with custom built data frames that I creating from data retrieved from the DUD-E database. Please see below for the structure of the data frames."
   ]
  },
  {
   "cell_type": "markdown",
   "metadata": {},
   "source": [
    "## Lingo Search Function\n",
    "\n",
    "Writes a `.txt` called `txt_file_name` file that contains the 1000 similar compounds, also writes a `.pickle` called `pickle_file_name` that contains 10,000 compounds. It should be noted that the names should be input with `.txt` and `.pickle` extensions."
   ]
  },
  {
   "cell_type": "code",
   "execution_count": 38,
   "metadata": {
    "id": "hSOd83BD6GKO"
   },
   "outputs": [],
   "source": [
    "def lingo_search(df_smiles_names,pickle_file_name,text_file_name,querymolecule_smiles):\n",
    "    #Query molecule: This assumes you already have `querymolecule_smiles` containing the SMILES string for your query molecule\n",
    "    #Load reference molecule\n",
    "    qmol = OEGraphMol()\n",
    "    OEParseSmiles( qmol, querymolecule_smiles )\n",
    "\n",
    "    #Initialize lingo comparison\n",
    "    lingo = OELingoSim( qmol )\n",
    "\n",
    "    #########################################################################\n",
    "    #Load other molecules and do the LINGO search to compute similarity scores\n",
    "    #########################################################################\n",
    "\n",
    "    #Initialize storage for results\n",
    "    sims_by_name = {}\n",
    "    smiles_by_name = {}\n",
    "    #Loop over the text we read in and do similarity comparison\n",
    "    for idx,line in df_smiles_names.iterrows():\n",
    "\n",
    "        #Initialize new, empty molecule\n",
    "        mol = OEGraphMol()\n",
    "        #Read SMILES into molecule from first entry on line read from file\n",
    "        OEParseSmiles( mol, line['smiles'] )\n",
    "\n",
    "            #DO similarity comparison via lingo\n",
    "        sim = lingo.Similarity( mol )\n",
    "\n",
    "        #Load and score smiles string and name for future reference.\n",
    "        smi = line['smiles']\n",
    "        name = line['names']\n",
    "        sims_by_name[ name ] = sim\n",
    "        smiles_by_name[name] = smi\n",
    "\n",
    "    #########################################################################\n",
    "    #Process results, print out info, store results.\n",
    "    #########################################################################\n",
    "\n",
    "    #Get lists of similarities and compound names.\n",
    "    similarities = list(sims_by_name.values())\n",
    "    names = list(sims_by_name.keys())\n",
    "    print(len(names))\n",
    "\n",
    "    #Do a sort of the names by similarity score, highest to lowest.\n",
    "    names = sorted(names, key=lambda name: -sims_by_name[name])\n",
    "\n",
    "    #Print out maximum similarity score\n",
    "    #print(\"Max similarity: %.3f\" % max(similarities))\n",
    "\n",
    "    #Save top 10,000 most similar compounds (the full set is probably too large to save again) to a pickle file in case we want to re-load them to do anything else with them.\n",
    "    saveNum = 10000\n",
    "    smiles = [ smiles_by_name[name] for name in names[0:saveNum] ]\n",
    "    file = open(pickle_file_name, 'wb')\n",
    "    pickle.dump((names, smiles), file)\n",
    "    file.close()\n",
    "\n",
    "    #Save 1,000 most similar componds (again, full set is too large) to a plain text file, AND print out info on them..\n",
    "    file = open(text_file_name, 'w')\n",
    "    #print(\"Molecules, most similar to least similar:\")\n",
    "    for n in range(0,1000):\n",
    "        #Store top (saveNum) most similar molecules.\n",
    "        name = names[n]\n",
    "        #print('%s \\t %s' % (name, sims_by_name[name]))\n",
    "        file.write('%s\\t %s \\t %s\\n' % ( smiles_by_name[name], names[n], sims_by_name[name]))\n",
    "    file.close()\n"
   ]
  },
  {
   "cell_type": "markdown",
   "metadata": {},
   "source": [
    "## Lingo Search Enrichment Scoring Function\n",
    "\n",
    "Reads the `.txt` file containing the 1000 compounds as well as the text file that contains the list of actives. Returns an enrichment score and ranks associated as a `pandas Data-Frame`."
   ]
  },
  {
   "cell_type": "code",
   "execution_count": 30,
   "metadata": {
    "id": "4_GVTH8N6GKP"
   },
   "outputs": [],
   "source": [
    "def get_enrichment_score(all_compounds_txt_file,actives_txt_file):\n",
    "    \n",
    "    ## Load Data\n",
    "    all_compounds = pd.read_csv(all_compounds_txt_file,sep=\" \",header=None)\n",
    "    all_compounds.columns = ['SMILES','Names','No','Sims']\n",
    "    all_compounds = all_compounds.drop(['No'],axis=1)\n",
    "    all_actives = pd.read_csv(actives_txt_file,sep=\" \",header=None)\n",
    "    all_actives.columns = ['SMILES','No','Names']\n",
    "    all_actives = all_actives.drop(['No'],axis=1)\n",
    "    \n",
    "    # Creates a Dictionary of SMILE strings \n",
    "    mol_by_name = {}\n",
    "    for idx,rows in all_compounds.iterrows():\n",
    "        name=rows['Names']\n",
    "        smiles=rows['SMILES']\n",
    "        mol_by_name[name] = smiles\n",
    "    binders=[]\n",
    "    for idx,rows in all_actives.iterrows():\n",
    "        names=rows['Names']\n",
    "        binders.append(names)\n",
    "    \n",
    "    # Enrichment Score Calculation\n",
    "    scores = 0\n",
    "    i=0\n",
    "    enrichment_scores = []\n",
    "    ranks = []\n",
    "    for key in mol_by_name:\n",
    "        i+=1\n",
    "        ranks.append(i)\n",
    "        if key in binders:\n",
    "            scores+=1\n",
    "            enrichment_scores.append(scores)\n",
    "        else:\n",
    "            enrichment_scores.append(scores)\n",
    "            \n",
    "    Fraction_of_binders = [enrichment_score/len(binders) for enrichment_score in enrichment_scores] \n",
    "    df_binders = pd.DataFrame()\n",
    "    df_binders['ranks'] = ranks\n",
    "    df_binders['Fraction_of_binders'] = Fraction_of_binders\n",
    "    df_binders['Random_Actives']=np.linspace(0,0.6,len(Fraction_of_binders))\n",
    "    \n",
    "    \n",
    "    return df_binders"
   ]
  },
  {
   "cell_type": "markdown",
   "metadata": {},
   "source": [
    "## Docking Function\n",
    "\n",
    "Takes an input of `receptor pdb file`, `ligand pdb file`, a string `docking Method`,a `data-frame of the SMILES and compound Names`,a string for naming the results file `results.sdf` and the list of actives as either an `.ism` file or a `dictionary`. Provides the fraction of bound ligands `fracfound` and the sorted names of the ligands `sorted_titles`."
   ]
  },
  {
   "cell_type": "code",
   "execution_count": 70,
   "metadata": {},
   "outputs": [],
   "source": [
    "def docking(receptor_file,ligand_file,docking_method,df_compounds,docking_results_file,list_of_actives_file):\n",
    "    from openeye import oedocking\n",
    "    from openeye import oeomega\n",
    "    from openeye import oechem\n",
    "    imstr = oemolistream(receptor_file)\n",
    "    protein = oechem.OEGraphMol()\n",
    "    oechem.OEReadMolecule(imstr, protein)\n",
    "    imstr.close()\n",
    "\n",
    "    # Load a reference ligand; we'll use this to indicate where the binding site is (and for `Hybrid`, it serves as a reference ligand)\n",
    "    ligand = oechem.OEGraphMol()\n",
    "    imstr = oechem.oemolistream(ligand_file)\n",
    "    oechem.OEReadMolecule(imstr, ligand)\n",
    "    imstr.close()\n",
    "\n",
    "    # Initialize the receptor for docking\n",
    "    receptor = oechem.OEGraphMol()\n",
    "    oedocking.OEMakeReceptor(receptor, protein, ligand)\n",
    "    \n",
    "    # Use appropriate Docking Method\n",
    "    \n",
    "    if docking_method=='Fred':\n",
    "        dock_method = oedocking.OEDockMethod_Chemgauss4\n",
    "    elif docking_method=='Hybrid':\n",
    "        dock_method = oedocking.OEDockMethod_Hybrid\n",
    "    dock_resolution = oedocking.OESearchResolution_Default\n",
    "    sdtag = oedocking.OEDockMethodGetName( dock_method )\n",
    "\n",
    "    #Generate our OEDocking object\n",
    "    dock = oedocking.OEDock( dock_method, dock_resolution)\n",
    "\n",
    "    #Initialize the OEDocking by providing it the receptor\n",
    "    if not dock.Initialize(receptor):\n",
    "        # raise an exception if the receptor cannot be initialized\n",
    "        raise Exception(\"Unable to initialize Docking with {0}\".format(self.args.receptor))\n",
    "        \n",
    "    def dock_molecule( dock: \"OEDock\", sdtag: str, num_poses: int, mcmol ) -> tuple:\n",
    "        ''' Docks the multiconfomer molecule, with the given number of poses\n",
    "            Returns a tuple of the docked molecule (dockedMol) and its score\n",
    "            i.e. ( dockedMol, score )\n",
    "        '''\n",
    "        dockedMol = oechem.OEMol()\n",
    "\n",
    "        #Dock the molecule into a given number of poses\n",
    "        res = dock.DockMultiConformerMolecule(dockedMol, mcmol, num_poses)\n",
    "\n",
    "        if res == oedocking.OEDockingReturnCode_Success:\n",
    "\n",
    "            #Annotate the molecule with the score and SDTag that contains the docking method\n",
    "            oedocking.OESetSDScore(dockedMol, dock, sdtag)\n",
    "            dock.AnnotatePose(dockedMol)\n",
    "            score = dock.ScoreLigand(dockedMol)\n",
    "            oechem.OESetSDData(dockedMol, sdtag, \"{}\".format(score))\n",
    "            return dockedMol, score\n",
    "\n",
    "        else:\n",
    "            # raise an exception if the docking is not successful\n",
    "            raise Exception(\"Unable to dock ligand {0} to receptor\".format( dockedMol ))\n",
    "            \n",
    "    # G\n",
    "    omega = oeomega.OEOmega()\n",
    "    omega.SetMaxConfs(10)\n",
    "    omega.SetStrictStereo(False)\n",
    "    omega.SetStrictAtomTypes(False)\n",
    "\n",
    "    # Generate conformers for compounds and dock\n",
    "    inmols = []\n",
    "    usednames = []\n",
    "    for idx,line in df_compounds.iterrows():\n",
    "        smi = line['smiles']\n",
    "        mol = oechem.OEMol()\n",
    "        name = line['names']\n",
    "        if name=='' or name==None or len(name)<3:\n",
    "            #Define alternate name based on index\n",
    "            name = 'mol%s smiles %s' % (idx, smi)\n",
    "            print(\"No name found on line %s; using alternate name %s...\" % (idx, name))\n",
    "        if not name in usednames: #Make sure haven't already used this one\n",
    "            usednames.append(name)\n",
    "            oechem.OEParseSmiles(mol, smi)\n",
    "            mol.SetTitle(name)\n",
    "            builtOK = omega(mol)\n",
    "            inmols.append(mol)\n",
    "        else:\n",
    "            continue\n",
    "\n",
    "    #Define how many docked poses to generate per molecule\n",
    "    num_poses = 2\n",
    "\n",
    "\n",
    "    #Open a filestream for writing the docked molecules\n",
    "    scores = {}\n",
    "    with oechem.oemolostream( docking_results_file) as ofs:\n",
    "\n",
    "        #Loop over 3D molecules from the input filestream\n",
    "        for mcmol in inmols:\n",
    "\n",
    "            #Call our written docking function\n",
    "            dockedMol, score = dock_molecule( dock, sdtag, num_poses, mcmol )\n",
    "            #print(\"{} {} score = {:.4f}\".format(sdtag, dockedMol.GetTitle(), score))\n",
    "\n",
    "            #Write docked molecules to output filestream\n",
    "            oechem.OEWriteMolecule(ofs, dockedMol)\n",
    "\n",
    "            # Store score\n",
    "            scores[ mcmol.GetTitle()] = score\n",
    "    if type(list_of_actives_file)==str:\n",
    "        active_smiles_by_name = {}\n",
    "        file = open(list_of_actives_file, 'r')\n",
    "        text = file.readlines()\n",
    "        file.close()\n",
    "        for line in text:\n",
    "            tmp = line.split()\n",
    "            active_smiles_by_name[tmp[2]] = tmp[0]\n",
    "    else:\n",
    "        active_smiles_by_name=list_of_actives_file\n",
    "\n",
    "    # Build list of titles sorted by score\n",
    "    sorted_titles = list(scores.keys())\n",
    "    sorted_titles.sort( key = lambda title: scores[title] )\n",
    "\n",
    "    # Count how many actives are found at which ranks\n",
    "    ct = 0\n",
    "    fnd_actives = []\n",
    "    for active_name in active_smiles_by_name.keys():\n",
    "        if active_name in sorted_titles:\n",
    "            ct += 1\n",
    "            #print(\"Active %s found in docking results at rank %s\" % ( active_name, sorted_titles.index(active_name)))\n",
    "            fnd_actives.append( active_name )\n",
    "\n",
    "    #print(\"Total compounds: %s\" % len(sorted_titles))\n",
    "\n",
    "    #Find number of actives\n",
    "    n_actives = len(fnd_actives)\n",
    "    \n",
    "    numfound = []\n",
    "    ct=0\n",
    "    for name in sorted_titles:\n",
    "        if name in active_smiles_by_name.keys():\n",
    "            ct+=1\n",
    "        numfound.append(ct)\n",
    "    fracfound = [ ct/float(n_actives) for ct in numfound]\n",
    "    \n",
    "    return fracfound,sorted_titles     "
   ]
  },
  {
   "cell_type": "markdown",
   "metadata": {},
   "source": [
    "# DUD-E HIV Integrase Example\n",
    " Data taken from the DUD-E database for HIV integrase inhibitors. Code Cells below are used to prepare data."
   ]
  },
  {
   "cell_type": "code",
   "execution_count": 25,
   "metadata": {
    "id": "8gdRVmF26GKM"
   },
   "outputs": [],
   "source": [
    "# Your code goes here\n",
    "with open('./hivint/actives_final.ism', 'r') as file_in:\n",
    "    actives_names = []\n",
    "    actives_smiles=[]\n",
    "    for line in file_in:\n",
    "        smiles = line.split(' ')[0]\n",
    "        name = line.split(' ')[2]\n",
    "        names = name.strip('\\n')\n",
    "        actives_names.append(names)\n",
    "        actives_smiles.append(smiles)"
   ]
  },
  {
   "cell_type": "code",
   "execution_count": 26,
   "metadata": {},
   "outputs": [],
   "source": [
    "with open('./hivint/decoys_final.ism', 'r') as file_in:\n",
    "    decoys_names = []\n",
    "    decoys_smiles=[]\n",
    "    for line in file_in:\n",
    "        smiles = line.split(' ')[0]\n",
    "        name = line.split(' ')[1]\n",
    "        names = name.strip('\\n')\n",
    "        decoys_names.append(names)\n",
    "        decoys_smiles.append(smiles)"
   ]
  },
  {
   "cell_type": "code",
   "execution_count": 44,
   "metadata": {},
   "outputs": [],
   "source": [
    "dt_hivintegrase = pd.DataFrame()\n",
    "dt_hivintegrase['names'] = actives_names+decoys_names\n",
    "dt_hivintegrase['smiles'] =  actives_smiles+decoys_smiles"
   ]
  },
  {
   "cell_type": "code",
   "execution_count": 45,
   "metadata": {},
   "outputs": [
    {
     "name": "stdout",
     "output_type": "stream",
     "text": [
      "             names                                             smiles\n",
      "0     CHEMBL414850  Oc3c(C(=O)NCc1ccc(F)cc1)nc(N2CCCCS2(=O)=O)c4cc...\n",
      "1     CHEMBL198001     OC(=O)C(=O)\\C=C(/O)c2cn(Cc1ccc(F)cc1)c3ccccc23\n",
      "2     CHEMBL196391  COc3ccc2n(Cc1ccc(F)cc1)cc(C(/O)=C/C(=O)C(O)=O)...\n",
      "3     CHEMBL210234  CN(C(=O)C(=O)N1CCCCC1)c3nc(C(=O)NCc2ccc(F)cc2)...\n",
      "4     CHEMBL212412   COc4c2c(C(=O)N(Cc1ccc(F)cc1)C23CC3)c(O)c5ncccc45\n",
      "...            ...                                                ...\n",
      "6745     C66584685        Cc1cc(ccc1[N-]S(=O)(=O)CC(C)C)C(=O)N2CCSCC2\n",
      "6746     C66587368  c1cc(cc(c1)S(=O)(=O)C(F)F)[N-]S(=O)(=O)c2ccc(c...\n",
      "6747     C66855710    CCN(C1CCN(CC1)C(=O)Cc2c(nc(s2)[S-])C)S(=O)(=O)C\n",
      "6748     C67003519    C[C@H](CSC)/C(=N/S(=O)(=O)N1CCc2c(ccs2)C1)/[O-]\n",
      "6749     C67634897   CCO[C@H]1C[C@H]1/C(=N/S(=O)(=O)c2cccc(c2)I)/[O-]\n",
      "\n",
      "[6750 rows x 2 columns]\n"
     ]
    }
   ],
   "source": [
    "print(dt_hivintegrase)"
   ]
  },
  {
   "cell_type": "markdown",
   "metadata": {
    "tags": []
   },
   "source": [
    "## Lingo Search HIV Int"
   ]
  },
  {
   "cell_type": "code",
   "execution_count": 46,
   "metadata": {},
   "outputs": [],
   "source": [
    "istream = oemolistream('./hivint/crystal_ligand.mol2')\n",
    "mol = OEMol()\n",
    "OEReadMolecule(istream,mol)\n",
    "istream.close()\n",
    "query_molecule = OECreateIsoSmiString(mol)"
   ]
  },
  {
   "cell_type": "code",
   "execution_count": 47,
   "metadata": {},
   "outputs": [
    {
     "name": "stdout",
     "output_type": "stream",
     "text": [
      "6745\n"
     ]
    }
   ],
   "source": [
    "lingo_search(dt_hivintegrase,'hivintegrase_dude.pickle','hivintegrase_dude.txt',query_molecule)\n",
    "df_hivintegrase_lingo_enrivhment = get_enrichment_score('hivintegrase_dude.txt','./hivint/actives_final.ism')"
   ]
  },
  {
   "cell_type": "code",
   "execution_count": 48,
   "metadata": {},
   "outputs": [
    {
     "name": "stdout",
     "output_type": "stream",
     "text": [
      "     ranks  Fraction_of_binders  Random_Actives\n",
      "0        1                 0.00        0.000000\n",
      "1        2                 0.00        0.000601\n",
      "2        3                 0.00        0.001201\n",
      "3        4                 0.00        0.001802\n",
      "4        5                 0.00        0.002402\n",
      "..     ...                  ...             ...\n",
      "995    996                 0.09        0.597598\n",
      "996    997                 0.09        0.598198\n",
      "997    998                 0.10        0.598799\n",
      "998    999                 0.10        0.599399\n",
      "999   1000                 0.10        0.600000\n",
      "\n",
      "[1000 rows x 3 columns]\n"
     ]
    }
   ],
   "source": [
    "print(df_hivintegrase_lingo_enrivhment)"
   ]
  },
  {
   "cell_type": "code",
   "execution_count": 49,
   "metadata": {},
   "outputs": [
    {
     "data": {
      "text/plain": [
       "<matplotlib.legend.Legend at 0x1850ebe50>"
      ]
     },
     "execution_count": 49,
     "metadata": {},
     "output_type": "execute_result"
    },
    {
     "data": {
      "image/png": "[encoded data removed]",
      "text/plain": [
       "<Figure size 432x288 with 1 Axes>"
      ]
     },
     "metadata": {
      "needs_background": "light"
     },
     "output_type": "display_data"
    }
   ],
   "source": [
    "import matplotlib.pyplot as plt\n",
    "fig1,ax1 = plt.subplots()\n",
    "ax1.plot(df_hivintegrase_lingo_enrivhment['ranks'],df_hivintegrase_lingo_enrivhment['Fraction_of_binders'],label='Enrichment')\n",
    "ax1.plot(df_hivintegrase_lingo_enrivhment['ranks'],df_hivintegrase_lingo_enrivhment['Random_Actives'],label='Random Actives')\n",
    "plt.xlabel(\"Rank\")\n",
    "plt.ylabel(\"Enrichment Score\")\n",
    "plt.title(\"Enrichment Plot\")\n",
    "plt.legend(loc=\"lower right\")"
   ]
  },
  {
   "cell_type": "code",
   "execution_count": 64,
   "metadata": {},
   "outputs": [],
   "source": [
    "new_actives={}\n",
    "names_lingo=[]\n",
    "smiles_lingo=[]\n",
    "dt_hivint_lingo = pd.DataFrame(columns=['names','smiles'])\n",
    "with open('hivintegrase_dude.txt') as file:\n",
    "    for line in file:\n",
    "        names = line.split()[1]\n",
    "        smiles = line.split()[0]\n",
    "        names_lingo.append(names)\n",
    "        smiles_lingo.append(smiles)\n",
    "        if names in actives_names:\n",
    "            new_actives[names]=smiles\n",
    "dt_hivint_lingo['names'] = names_lingo\n",
    "dt_hivint_lingo['smiles']=smiles_lingo"
   ]
  },
  {
   "cell_type": "code",
   "execution_count": 65,
   "metadata": {},
   "outputs": [
    {
     "name": "stdout",
     "output_type": "stream",
     "text": [
      "            names                                             smiles\n",
      "0       C62827971            Cc1c(sc(c1C(=O)[O-])NC(=O)Nc2cccnc2Cl)C\n",
      "1       C24768587  c1ccc2c(c1)CC[C@]23C(=O)N(C(=O)N3)CC(=O)Nc4cc5...\n",
      "2       C36990827            c1ccc2c(c1)CC(C2)Nc3cc4c(cc3Cl)NC(=O)C4\n",
      "3       C02901296  c1cc2c(cc1CC[NH2+]Cc3cc4c(cc3[N+](=O)[O-])OCO4...\n",
      "4       C13449416  c1cc2c(cc1C(=O)[O-])CCN2C(=O)C3CCN(CC3)S(=O)(=...\n",
      "..            ...                                                ...\n",
      "995     C66091551  COC(CN1C(=O)C(=C([C@]12c3ccccc3NC2=O)C(=O)c4cc...\n",
      "996     C39570255  CCC1CCC2(CC1)C(=O)N(C(=O)N2)CC(=O)N3CCC[C@@H]3...\n",
      "997  CHEMBL288097              Oc4ccc3oc2ccc(Cc1ccccc1)cc2c(=O)c3c4O\n",
      "998     C41668748        CC1(C(=O)N(C(=O)N1)CCSc2ccc(cn2)C(=O)[O-])C\n",
      "999     C37370972        Cc1cc(nc(n1)[N-]S(=O)(=O)c2ccsc2C(=O)[O-])C\n",
      "\n",
      "[1000 rows x 2 columns]\n"
     ]
    }
   ],
   "source": [
    "print(dt_hivint_lingo)"
   ]
  },
  {
   "cell_type": "code",
   "execution_count": 67,
   "metadata": {},
   "outputs": [
    {
     "name": "stdout",
     "output_type": "stream",
     "text": [
      "<class 'dict'>\n"
     ]
    }
   ],
   "source": [
    "print(type(new_actives))"
   ]
  },
  {
   "cell_type": "markdown",
   "metadata": {},
   "source": [
    "## Docking - HIV Int\n",
    "\n",
    "Using Hybrid Docking Method"
   ]
  },
  {
   "cell_type": "code",
   "execution_count": 71,
   "metadata": {},
   "outputs": [],
   "source": [
    "hivintegrase_frac_found,hivintegrase_sorted = docking('./hivint/receptor.pdb','./hivint/crystal_ligand.mol2','Hybrid',dt_hivint_lingo,'hivint_dock_result.sdf',new_actives)"
   ]
  },
  {
   "cell_type": "code",
   "execution_count": 75,
   "metadata": {
    "id": "tNFpyTfd6GKR"
   },
   "outputs": [
    {
     "name": "stdout",
     "output_type": "stream",
     "text": [
      "Populating the interactive namespace from numpy and matplotlib\n"
     ]
    },
    {
     "data": {
      "image/png": "[encoded data removed]",
      "text/plain": [
       "<Figure size 432x288 with 1 Axes>"
      ]
     },
     "metadata": {
      "needs_background": "light"
     },
     "output_type": "display_data"
    }
   ],
   "source": [
    "#Do an enrichment plot\n",
    "%pylab inline\n",
    "plot( arange(len(hivintegrase_sorted)), hivintegrase_frac_found)\n",
    "plot( [0, len(hivintegrase_sorted)], [0, 1]) #Random line\n",
    "legend(('Docking results', 'Expected for random'))\n",
    "xlabel('Rank')\n",
    "ylabel('Fraction of actives found')\n",
    "show()"
   ]
  },
  {
   "cell_type": "markdown",
   "metadata": {},
   "source": [
    "Using Fred Docking Method"
   ]
  },
  {
   "cell_type": "code",
   "execution_count": 73,
   "metadata": {},
   "outputs": [],
   "source": [
    "hivintegrase_frac_found_fred,hivintegrase_sorted_fred = docking('./hivint/receptor.pdb','./hivint/crystal_ligand.mol2','Fred',dt_hivint_lingo,'hivint_dock_result_fred.sdf',new_actives)"
   ]
  },
  {
   "cell_type": "code",
   "execution_count": 76,
   "metadata": {
    "id": "tNFpyTfd6GKR"
   },
   "outputs": [
    {
     "name": "stdout",
     "output_type": "stream",
     "text": [
      "Populating the interactive namespace from numpy and matplotlib\n"
     ]
    },
    {
     "data": {
      "image/png": "[encoded data removed]",
      "text/plain": [
       "<Figure size 432x288 with 1 Axes>"
      ]
     },
     "metadata": {
      "needs_background": "light"
     },
     "output_type": "display_data"
    }
   ],
   "source": [
    "#Do an enrichment plot\n",
    "%pylab inline\n",
    "plot( arange(len(hivintegrase_sorted_fred)), hivintegrase_frac_found_fred)\n",
    "plot( [0, len(hivintegrase_sorted_fred)], [0, 1]) #Random line\n",
    "legend(('Docking results', 'Expected for random'))\n",
    "xlabel('Rank')\n",
    "ylabel('Fraction of actives found')\n",
    "show()"
   ]
  },
  {
   "cell_type": "markdown",
   "metadata": {},
   "source": [
    "## Lingo Search with Zinc Compounds - HIV Int\n",
    "\n",
    "This section explores enrichment of this dataset when additional compounds are added. These compounds are added using the ZINC data base."
   ]
  },
  {
   "cell_type": "code",
   "execution_count": null,
   "metadata": {
    "id": "IxEB1QCy6GKK",
    "tags": []
   },
   "outputs": [],
   "source": [
    "# Tranches. Replace these with your selected tranches\n",
    "# Compounds selected were in-stock and had an appropriate logP>=5\n",
    "tranches = \"EJAA EJAB EJBA EJBB EJCA EJCB EJEA EJEB FJAA FJAB FJBA FJBB FJCA FJCB FJEA FJEB GJAA GJAB GJBA GJBB GJCA GJCB GJEA GJEB EKAA EKAB EKBA EKBB EKCA EKCB EKEA EKEB FKAA FKAB FKBA FKBB FKCA FKCB FKEA FKEB GKAA GKAB GKBA GKBB GKCA GKCB GKEA GKEB\""
   ]
  },
  {
   "cell_type": "code",
   "execution_count": null,
   "metadata": {
    "id": "8yvlBw-t6GKL"
   },
   "outputs": [],
   "source": [
    "# Split up the string of tranches into a list\n",
    "tranches_elements = tranches.split()\n",
    "\n",
    "# Set up an output file and list for storing results\n",
    "filename = 'zinc_compounds_hivint.smi'\n",
    "out_file = open(filename, 'w')\n",
    "zinc_compounds = []\n",
    "\n",
    "# Loop over SMILES string files for desired tranches \n",
    "import urllib\n",
    "for t_id in tranches_elements:\n",
    "    prefix = t_id[0:2]\n",
    "    # Retrieve file-like object for iterating over contents of this one\n",
    "    contents = urllib.request.urlopen('http://files.docking.org/2D/' + prefix + '/'+ t_id +'.smi')\n",
    "    # Loop over each line, decode from bytes format to string, write to output. Skip the first line of each file\n",
    "    # which is a header line\n",
    "    for line in contents:\n",
    "        if line.split()[0].decode() != 'smiles':\n",
    "            # Replace some special characters at the same time\n",
    "            out_file.write(line.decode().replace('\\n',''))\n",
    "            zinc_compounds.append(line.decode().replace('\\r\\n',''))\n",
    "            \n",
    "out_file.close()"
   ]
  },
  {
   "cell_type": "code",
   "execution_count": 77,
   "metadata": {},
   "outputs": [],
   "source": [
    "zinc_hivint_names = []\n",
    "zinc_hivint_smiles = []\n",
    "with open('zinc_compounds_hivint.smi') as file:\n",
    "    for line in file:\n",
    "        name = line.split()[1]\n",
    "        smiles = line.split()[0]\n",
    "        zinc_hivint_names.append(name)\n",
    "        zinc_hivint_smiles.append(smiles)    "
   ]
  },
  {
   "cell_type": "code",
   "execution_count": 78,
   "metadata": {},
   "outputs": [],
   "source": [
    "dt_hivintegrase_zinc = pd.DataFrame()\n",
    "dt_hivintegrase_zinc['names'] = actives_names+decoys_names+zinc_hivint_names\n",
    "dt_hivintegrase_zinc['smiles'] =  actives_smiles+decoys_smiles+zinc_hivint_smiles"
   ]
  },
  {
   "cell_type": "code",
   "execution_count": 79,
   "metadata": {},
   "outputs": [
    {
     "name": "stderr",
     "output_type": "stream",
     "text": [
      "Warning: Problem parsing SMILES:\n",
      "Warning: Inconsistent cis/trans bond stereo.\n",
      "Warning: C(=C\\c1ccccc1)\\C(/C=C/c1ccccc1)=C\\C=C\\c1ccccc1\n"
     ]
    },
    {
     "name": "stdout",
     "output_type": "stream",
     "text": [
      "229450\n"
     ]
    }
   ],
   "source": [
    "lingo_search(dt_hivintegrase_zinc,'hivintegrase_dude_zinc.pickle','hivintegrase_dude_zinc.txt',query_molecule)\n",
    "df_hivintegrase_lingo_enrivhment_zinc = get_enrichment_score('hivintegrase_dude_zinc.txt','./hivint/actives_final.ism')"
   ]
  },
  {
   "cell_type": "code",
   "execution_count": 80,
   "metadata": {},
   "outputs": [
    {
     "data": {
      "text/plain": [
       "<matplotlib.legend.Legend at 0x18a1fb670>"
      ]
     },
     "execution_count": 80,
     "metadata": {},
     "output_type": "execute_result"
    },
    {
     "data": {
      "image/png": "[encoded data removed]",
      "text/plain": [
       "<Figure size 432x288 with 1 Axes>"
      ]
     },
     "metadata": {
      "needs_background": "light"
     },
     "output_type": "display_data"
    }
   ],
   "source": [
    "import matplotlib.pyplot as plt\n",
    "fig1,ax1 = plt.subplots()\n",
    "ax1.plot(df_hivintegrase_lingo_enrivhment_zinc['ranks'],df_hivintegrase_lingo_enrivhment_zinc['Fraction_of_binders'],label='Enrichment')\n",
    "ax1.plot(df_hivintegrase_lingo_enrivhment_zinc['ranks'],df_hivintegrase_lingo_enrivhment_zinc['Random_Actives'],label='Random Actives')\n",
    "plt.xlabel(\"Rank\")\n",
    "plt.ylabel(\"Enrichment Score\")\n",
    "plt.title(\"Enrichment Plot\")\n",
    "plt.legend(loc=\"lower right\")"
   ]
  },
  {
   "cell_type": "markdown",
   "metadata": {},
   "source": [
    "# DUD-E HIV Reverse Transcriptase Example"
   ]
  },
  {
   "cell_type": "code",
   "execution_count": 81,
   "metadata": {
    "id": "8gdRVmF26GKM"
   },
   "outputs": [],
   "source": [
    "# Your code goes here\n",
    "with open('./hivrt/actives_final.ism', 'r') as file_in:\n",
    "    actives_names = []\n",
    "    actives_smiles=[]\n",
    "    for line in file_in:\n",
    "        smiles = line.split(' ')[0]\n",
    "        name = line.split(' ')[2]\n",
    "        names = name.strip('\\n')\n",
    "        actives_names.append(names)\n",
    "        actives_smiles.append(smiles)"
   ]
  },
  {
   "cell_type": "code",
   "execution_count": 82,
   "metadata": {},
   "outputs": [],
   "source": [
    "with open('./hivrt/decoys_final.ism', 'r') as file_in:\n",
    "    decoys_names = []\n",
    "    decoys_smiles=[]\n",
    "    for line in file_in:\n",
    "        smiles = line.split(' ')[0]\n",
    "        name = line.split(' ')[1]\n",
    "        names = name.strip('\\n')\n",
    "        decoys_names.append(names)\n",
    "        decoys_smiles.append(smiles)"
   ]
  },
  {
   "cell_type": "code",
   "execution_count": 83,
   "metadata": {},
   "outputs": [],
   "source": [
    "dt_hivrt = pd.DataFrame()\n",
    "dt_hivrt['names'] = actives_names+decoys_names\n",
    "dt_hivrt['smiles'] =  actives_smiles+decoys_smiles"
   ]
  },
  {
   "cell_type": "markdown",
   "metadata": {
    "tags": []
   },
   "source": [
    "## Lingo Search-HIV RT"
   ]
  },
  {
   "cell_type": "code",
   "execution_count": 84,
   "metadata": {},
   "outputs": [],
   "source": [
    "istream = oemolistream('./hivrt/crystal_ligand.mol2')\n",
    "mol = OEMol()\n",
    "OEReadMolecule(istream,mol)\n",
    "istream.close()\n",
    "query_molecule = OECreateIsoSmiString(mol)"
   ]
  },
  {
   "cell_type": "code",
   "execution_count": 85,
   "metadata": {},
   "outputs": [
    {
     "name": "stdout",
     "output_type": "stream",
     "text": [
      "19217\n"
     ]
    }
   ],
   "source": [
    "lingo_search(dt_hivrt,'hivrte_dude.pickle','hivrt_dude.txt',query_molecule)\n",
    "df_hivrt_lingo_enrichment = get_enrichment_score('hivrt_dude.txt','./hivrt/actives_final.ism')"
   ]
  },
  {
   "cell_type": "code",
   "execution_count": 86,
   "metadata": {},
   "outputs": [
    {
     "name": "stdout",
     "output_type": "stream",
     "text": [
      "     ranks  Fraction_of_binders  Random_Actives\n",
      "0        1             0.002959        0.000000\n",
      "1        2             0.005917        0.000601\n",
      "2        3             0.005917        0.001201\n",
      "3        4             0.005917        0.001802\n",
      "4        5             0.005917        0.002402\n",
      "..     ...                  ...             ...\n",
      "995    996             0.171598        0.597598\n",
      "996    997             0.171598        0.598198\n",
      "997    998             0.171598        0.598799\n",
      "998    999             0.171598        0.599399\n",
      "999   1000             0.171598        0.600000\n",
      "\n",
      "[1000 rows x 3 columns]\n"
     ]
    }
   ],
   "source": [
    "print(df_hivrt_lingo_enrichment)"
   ]
  },
  {
   "cell_type": "code",
   "execution_count": 87,
   "metadata": {},
   "outputs": [
    {
     "data": {
      "text/plain": [
       "<matplotlib.legend.Legend at 0x189e52670>"
      ]
     },
     "execution_count": 87,
     "metadata": {},
     "output_type": "execute_result"
    },
    {
     "data": {
      "image/png": "[encoded data removed]",
      "text/plain": [
       "<Figure size 432x288 with 1 Axes>"
      ]
     },
     "metadata": {
      "needs_background": "light"
     },
     "output_type": "display_data"
    }
   ],
   "source": [
    "import matplotlib.pyplot as plt\n",
    "fig1,ax1 = plt.subplots()\n",
    "ax1.plot(df_hivrt_lingo_enrichment['ranks'],df_hivrt_lingo_enrichment['Fraction_of_binders'],label='Enrichment')\n",
    "ax1.plot(df_hivrt_lingo_enrichment['ranks'],df_hivrt_lingo_enrichment['Random_Actives'],label='Random Actives')\n",
    "plt.xlabel(\"Rank\")\n",
    "plt.ylabel(\"Enrichment Score\")\n",
    "plt.title(\"Enrichment Plot\")\n",
    "plt.legend(loc=\"lower right\")"
   ]
  },
  {
   "cell_type": "markdown",
   "metadata": {},
   "source": [
    "## Docking HIV-RT\n",
    "\n",
    "Using Hybrid Docking Method"
   ]
  },
  {
   "cell_type": "code",
   "execution_count": 91,
   "metadata": {},
   "outputs": [],
   "source": [
    "new_actives_hivrt={}\n",
    "names_lingo=[]\n",
    "smiles_lingo=[]\n",
    "dt_hivrt_lingo = pd.DataFrame(columns=['names','smiles'])\n",
    "with open('hivrt_dude.txt') as file:\n",
    "    for line in file:\n",
    "        names = line.split()[1]\n",
    "        smiles = line.split()[0]\n",
    "        names_lingo.append(names)\n",
    "        smiles_lingo.append(smiles)\n",
    "        if names in actives_names:\n",
    "            new_actives_hivrt[names]=smiles\n",
    "dt_hivrt_lingo['names'] = names_lingo\n",
    "dt_hivrt_lingo['smiles']=smiles_lingo"
   ]
  },
  {
   "cell_type": "code",
   "execution_count": 92,
   "metadata": {},
   "outputs": [],
   "source": [
    "hivrt_frac_found,hivrt_sorted = docking('./hivrt/receptor.pdb','./hivrt/crystal_ligand.mol2','Hybrid',dt_hivrt_lingo,'hivrt_dock_result.sdf',new_actives_hivrt)"
   ]
  },
  {
   "cell_type": "code",
   "execution_count": 94,
   "metadata": {
    "id": "tNFpyTfd6GKR"
   },
   "outputs": [
    {
     "name": "stdout",
     "output_type": "stream",
     "text": [
      "Populating the interactive namespace from numpy and matplotlib\n"
     ]
    },
    {
     "data": {
      "image/png": "[encoded data removed]",
      "text/plain": [
       "<Figure size 432x288 with 1 Axes>"
      ]
     },
     "metadata": {
      "needs_background": "light"
     },
     "output_type": "display_data"
    },
    {
     "data": {
      "text/plain": [
       "<Figure size 432x288 with 0 Axes>"
      ]
     },
     "metadata": {},
     "output_type": "display_data"
    }
   ],
   "source": [
    "#Do an enrichment plot\n",
    "%pylab inline\n",
    "plot( arange(len(hivrt_sorted)), hivrt_frac_found)\n",
    "plot( [0, len(hivrt_sorted)], [0, 1]) #Random line\n",
    "legend(('Docking results', 'Expected for random'))\n",
    "xlabel('Rank')\n",
    "ylabel('Fraction of actives found')\n",
    "show()\n",
    "savefig( 'docking-results-enrichment-hivint.pdf')"
   ]
  },
  {
   "cell_type": "markdown",
   "metadata": {},
   "source": [
    "Using Fred Docking Method"
   ]
  },
  {
   "cell_type": "code",
   "execution_count": 95,
   "metadata": {},
   "outputs": [],
   "source": [
    "hivrt_frac_found_fred,hivrt_sorted_fred = docking('./hivrt/receptor.pdb','./hivrt/crystal_ligand.mol2','Fred',dt_hivrt_lingo,'hivint_dock_result_fred.sdf',new_actives_hivrt)"
   ]
  },
  {
   "cell_type": "code",
   "execution_count": 96,
   "metadata": {
    "id": "tNFpyTfd6GKR"
   },
   "outputs": [
    {
     "name": "stdout",
     "output_type": "stream",
     "text": [
      "Populating the interactive namespace from numpy and matplotlib\n"
     ]
    },
    {
     "data": {
      "image/png": "[encoded data removed]",
      "text/plain": [
       "<Figure size 432x288 with 1 Axes>"
      ]
     },
     "metadata": {
      "needs_background": "light"
     },
     "output_type": "display_data"
    },
    {
     "data": {
      "text/plain": [
       "<Figure size 432x288 with 0 Axes>"
      ]
     },
     "metadata": {},
     "output_type": "display_data"
    }
   ],
   "source": [
    "#Do an enrichment plot\n",
    "%pylab inline\n",
    "plot( arange(len(hivrt_sorted_fred)), hivrt_frac_found_fred)\n",
    "plot( [0, len(hivrt_sorted_fred)], [0, 1]) #Random line\n",
    "legend(('Docking results', 'Expected for random'))\n",
    "xlabel('Rank')\n",
    "ylabel('Fraction of actives found')\n",
    "show()"
   ]
  },
  {
   "cell_type": "markdown",
   "metadata": {},
   "source": [
    "### Lingo Search with Zinc Compounds - HIV RT\n",
    "\n",
    "I have used the same ZINC compounds for the HIV RT as the HIV Integrase."
   ]
  },
  {
   "cell_type": "code",
   "execution_count": 98,
   "metadata": {},
   "outputs": [],
   "source": [
    "dt_hivrt_zinc = pd.DataFrame()\n",
    "dt_hivrt_zinc['names'] = actives_names+decoys_names+zinc_hivint_names\n",
    "dt_hivrt_zinc['smiles'] =  actives_smiles+decoys_smiles+zinc_hivint_smiles"
   ]
  },
  {
   "cell_type": "code",
   "execution_count": 99,
   "metadata": {},
   "outputs": [
    {
     "name": "stderr",
     "output_type": "stream",
     "text": [
      "Warning: Problem parsing SMILES:\n",
      "Warning: Inconsistent cis/trans bond stereo.\n",
      "Warning: C(=C\\c1ccccc1)\\C(/C=C/c1ccccc1)=C\\C=C\\c1ccccc1\n"
     ]
    },
    {
     "name": "stdout",
     "output_type": "stream",
     "text": [
      "229450\n"
     ]
    }
   ],
   "source": [
    "lingo_search(dt_hivintegrase_zinc,'hivrt_dude_zinc.pickle','hivrt_dude_zinc.txt',query_molecule)\n",
    "df_hivintegrase_lingo_enrivhment_zinc = get_enrichment_score('hivintegrase_dude_zinc.txt','./hivint/actives_final.ism')"
   ]
  },
  {
   "cell_type": "code",
   "execution_count": 100,
   "metadata": {},
   "outputs": [
    {
     "data": {
      "text/plain": [
       "<matplotlib.legend.Legend at 0x189226580>"
      ]
     },
     "execution_count": 100,
     "metadata": {},
     "output_type": "execute_result"
    },
    {
     "data": {
      "image/png": "[encoded data removed]",
      "text/plain": [
       "<Figure size 432x288 with 1 Axes>"
      ]
     },
     "metadata": {
      "needs_background": "light"
     },
     "output_type": "display_data"
    }
   ],
   "source": [
    "fig1,ax1 = plt.subplots()\n",
    "ax1.plot(df_hivintegrase_lingo_enrivhment_zinc['ranks'],df_hivintegrase_lingo_enrivhment_zinc['Fraction_of_binders'],label='Enrichment')\n",
    "ax1.plot(df_hivintegrase_lingo_enrivhment_zinc['ranks'],df_hivintegrase_lingo_enrivhment_zinc['Random_Actives'],label='Random Actives')\n",
    "plt.xlabel(\"Rank\")\n",
    "plt.ylabel(\"Enrichment Score\")\n",
    "plt.title(\"Enrichment Plot\")\n",
    "plt.legend(loc=\"lower right\")"
   ]
  },
  {
   "cell_type": "markdown",
   "metadata": {
    "id": "gqNCYrty6GKR"
   },
   "source": [
    "## Consider some questions\n",
    "\n",
    "- Why does LINGO do so well here, at least in your initial test above? (Hint: Note who produced the 3NF8 structure by looking it up on the PDB. Is this part of the same series as the SAMPL4 ligands? Do you find that typical ZINC compounds bear a strong resemblance to these, or not?)\n",
    "- You might be interested in looking at physical properties (size, number of rotatable bonds, polarity, etc.) of the LINGO matches to see how they compare to the SAMPL4 ligands; if so, feel free to ask if you need any help figuring out how to calculate those properties using the OpenEye tools.\n",
    "- Which of the docking scoring functions you tried performs best? Do any of them perform better than random in the second example above?\n",
    "- If you try docking on the results of a LINGO search — does it do any further enrichment? How does this depend on the database you dock? If you are docking compounds from ZINC, can you be sure the enrichment (or lack thereof) is real? (Hint: Do you know the compounds from ZINC are inactive?)\n",
    "- If you compare results of a single method (i.e. docking) on several different databases or targets, comment on how the contents of the database, or the target you are working on, impacts performance. If possible, speculate as to why.\n",
    "\n",
    "## Write a brief report below (or separately) for submission\n",
    "\n",
    "Submit a brief report explaining what you did along with key plots you generated, either in this notebook or as a separate file uploaded to Canvas. Explain what you think your results mean, and answer any of the above questions you are able to. The key idea here is really to do three things:\n",
    "- Explain what you did and show me the results\n",
    "- Tell me what you learned and what you thought was interesting. This should include commenting on how much enrichment depends on the data set you examine and what scoring function you use. \n",
    "- Point out anything which is particularly helpful in understanding strengths and weaknesses of docking and LINGO and how they might work together.\n",
    "- Also attach all enrichment plots you are reporting on, including the one you were assigned in Warm-Up Part 2"
   ]
  },
  {
   "cell_type": "markdown",
   "metadata": {
    "id": "fP50dG2L6GKR"
   },
   "source": [
    "In the above cells, I have utilized two datasets related to HIV-inhibitorase and HIV-reverse transcriptase which I acquired from DUD-E data base. For each of these datasets, I first perform `LINGO` search to find the top 1000 compounds to the query ligand using the `LINGO` similarity search and then perform docking on these compounds. There are two methods of molecular docking that I am utilizing here- 1. `Hybrid` and the 2. `Fred` that utilize `Chemical Gaussian Overaly` and `Chemgauss` exhaustive searches in the `Openeye Toolkit`. To streamline my sandbox experiments, I have written functions to reduce the number of lines of code required and a description of the functions can be found in the [Functions](#Functions) section. "
   ]
  },
  {
   "cell_type": "markdown",
   "metadata": {},
   "source": [
    "First I would like to discuss the example of the HIV-integrase with SAMPL4 actives and then with the DUD-E dataset. The performance of `LINGO Search` and `Docking` were much better with the SAMPL4 actives when compared to that of the DUD-E dataset. This can be attributed to the fact that the DUD-E dataset contains decoys that are similar to the actives but come from different chemical classes. The SAMPL4 actives originate from the same chemical class and hence both `LINGO Search` and `Docking` do a better job in finidng actives than compared to actives and decoys from the DUD-E dataset.\n",
    "\n",
    "Next, I was interested to look at combining the actives and decoys from DUD-E with decoys from ZINC to expand the chemical space and further test the capabilities of the `LINGO Search` algorithm. I found that the performance of the `LINGO Search` algorithm seemed to be awful when additional ZINC compounds were added to the dataset, this might be becuase the compounds are random and additionally its difficult to find actives related to targets on ZINC which would have further reduced the performance. As can be seen from the graphs above, the enrichment is nearly Zero with the `LINGO Search` after the addition of the ZINC compounds. I was interested in picking more appropriate ZINC compounds, to elaborate based on having similar chemical properties such as logP, following Lipinki's rule of 5 (MW<500) and also being commercially avaialble. However, it would seem that the `LINGO Search` did not perform very well, which would mean it found a lot of compounds from the ZINC database that were similar to the ligand but there was no method of identifying whether these were actives which my have punished its performance. The enrchiment plot for the HIV RT DUD-E database can be found in the [DUD-E HIV Reverse Transcriptase Example](#Lingo-Search-with-Zinc-Compounds---HIV-RT) and the one for the [DUD-E HIV Integrase](#Lingo-Search-with-Zinc-Compounds---HIV-Int)\n",
    "\n",
    "It would seem that the enrichment scores were improved for docking methods after having first filtered out the compounds using the `LINGO Search`, this was tested for only the DUD-E data and not for the SAMPL4 actives, though given the performance of the `LINGO Search` on that dataset, the docking scores would have definitely imporved. As far as the example of the [HIV Integrase Example](#DUD-E-HIV-Integrase-Example), the enrichment plots for docking can be found in the [Docking-HIV int](#Docking---HIV-Int) section, the enrichment is much better after utilizing compounds selected by `LINGO Search`. Additionally, using a list of actives that were present in the selected compounds from the `LINGO Search` as compared to the entire list of actives offers a better performance indicator of docking without penalizing the algorithm for not containing all of the original actives. In this case the Hybrid method slightly outperforms the Fred method. In the case of [HIV Reverse Transcriptase Example](#DUD-E-HIV-Reverse-Transcriptase-Example), both methods demonstrate similar performance, see [HIV RT Docking](#Docking-HIV-RT) for enrichment plots. This demonstrates that docking performance is dependent on the ligand structure and the data set being utilized. Performance on the SAMPL4 actives and decoys data was quite similar between both methods, this dataset had more poor performance for docking compared to the DUD-E HIV integrase example, but this is again because the results of the `LINGO Search` were not used for docking.\n",
    "\n"
   ]
  },
  {
   "cell_type": "code",
   "execution_count": null,
   "metadata": {},
   "outputs": [],
   "source": []
  }
 ],
 "metadata": {
  "colab": {
   "name": "library_searching_asignment.ipynb",
   "provenance": []
  },
  "kernelspec": {
   "display_name": "drug_comp",
   "language": "python",
   "name": "drug_comp"
  },
  "language_info": {
   "codemirror_mode": {
    "name": "ipython",
    "version": 3
   },
   "file_extension": ".py",
   "mimetype": "text/x-python",
   "name": "python",
   "nbconvert_exporter": "python",
   "pygments_lexer": "ipython3",
   "version": "3.9.9"
  },
  "toc": {
   "nav_menu": {},
   "number_sections": true,
   "sideBar": true,
   "skip_h1_title": false,
   "toc_cell": false,
   "toc_position": {},
   "toc_section_display": "block",
   "toc_window_display": false
  }
 },
 "nbformat": 4,
 "nbformat_minor": 4
}
