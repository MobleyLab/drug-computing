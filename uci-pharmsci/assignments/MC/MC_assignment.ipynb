{
  "cells": [
    {
      "cell_type": "markdown",
      "source": [
        "[![Open in Colab](https://colab.research.google.com/assets/colab-badge.svg)](https://colab.research.google.com/github/MobleyLab/drug-computing/blob/master/uci-pharmsci/assignments/MC/MC_assignment.ipynb)"
      ],
      "metadata": {
        "id": "anFx-F5q0Mrr"
      }
    },
    {
      "cell_type": "markdown",
      "metadata": {
        "id": "d_zQHE7i4C2f"
      },
      "source": [
        "# Monte Carlo assignment, PharmSci 175/275\n",
        "\n",
        "Authors: David L. Mobley (UC Irvine) and M. Scott Shell (UCSB); adapted by Mobley from a similar assignment by Shell.\n",
        "\n",
        "## Objective and intro:\n",
        "In this assigment you will perform a basic Monte Carlo simulation for the same linear polymer system as in the Molecular Dynamics assignment (which is a prerequisite for this assignment), and compute thermodynamic properties for this system. \n",
        "\n",
        "### Overview:\n",
        "Here, we will study the same simple model of polymers as in the MD assignment, where we have a series of Lennard-Jones spheres connected by harmonic spring “bonds”. Here, you will use Fortran routines that are provided for energy evaluations, and write your own Python Monte Carlo code for proposing and accepting or rejecting moves (as you will have seen in the Monte Carlo sandbox we tried in class). The Fortran code is provided, and you will write your own Python code. A template containing some functions (reused from the MD assignment) you may want is provided below. \n",
        "While this LJ system is, again, not of direct relevance to drug discovery, the Monte Carlo approach sees widespread use in a huge range of settings including molecular simulations but also in a wide range of other areas. It is very much worth being familiar with the basic approach.\n",
        "\n",
        "\n",
        "## Your assignment\n",
        "\n",
        "### Some settings\n",
        "For the general background of what you’re simulating and the variables ($M$, $L$, $Cut$, etc...) see the [Molecular dynamics assignment](../MD/MD.ipynb). Again, the simulation will use periodic boundary conditions, a cutoff of $R_c = 2.5$, and no tail correction. Again, $N = 240$, $T = 1.0$, and $N/V = 0.8$ (dictating $L$). As usual in these assignments, we are using dimensionless variables. Since the system to be simulated is the same, this writeup will focus on details.\n",
        "\n",
        "### Part A: Write a Python code for MC simulation of the polymeric system\n",
        "\n",
        "Your task here is to write a Python code to perform MC simulations of the polymeric system. A Fortran library for evaluating energies of the system, given a position array, is provided (as in the last assignment). A template for your Python code is given below, along with documentation for the provided functions.\n",
        "\n",
        "You will work in the canonical ensemble (NVT) here, and your MC moves should consist of single-atom displacements by random amounts in each of the x, y, and z directions. Each step, you will propose a move of some (randomly selected) atom by up to some maximum displacement in each of the x, y, and z directions. \n",
        "\n",
        "To make this process faster, do not evaluate the entire potential energy every time an atom is moved. Moving a single atom only changes interactions involving that atom, so you can compute only the interaction energy of that atom with other atoms. A Fortran function is provided that will do this in `mclib.f90` (which you will need to compile as usual via `f2py -c -m mclib mclib.f90`). This means that it is unnecessary to do a full energy evaluation for every proposed MC move. But note that, to get the energy change $\\Delta U$, you need to calculate this interaction energy both before and after a proposed move. \n",
        "\n",
        "\n",
        "You can then keep a running total of the energy by doing updates of the form $U = U+\\Delta U$. As noted in class, _only make this change after a move is accepted_. Also, for precision reasons, you will need to recompute the total energy occasionally (do this every 10 moves per particle (a move per particle just means you've done enough moves you could have moved each particle once, but since you pick particles randomly you won't necessarily do so), or 2,400 moves) by doing a full update of the system energy (with the provided Fortran function). \n",
        "\n",
        "During your MC simulation, you should compute the average acceptance ratio by keeping track of the number of proposed and the number of accepted moves. The acceptance ratio is the number accepted divided by the number proposed.\n",
        "\n",
        "You will probably want to write a function `ProposeMove`: which takes a position array and a maximum step size; picks a random particle in the position array and displaces it by a distance up to the maximum step size in each direction, and returns the new proposed position array. You are free to write other functions also if they are helpful.\n",
        "\n",
        "One practical consideration: Explicit copies of arrays are required to save positions before moving a particle. For example, you might do the following:"
      ]
    },
    {
      "cell_type": "raw",
      "metadata": {
        "id": "HVEMiMFD4C2l"
      },
      "source": [
        "OldPos = Pos.copy()\n",
        "#Compute old energy\n",
        "Pos = ProposeMove(Pos, stepsize)\n",
        "#Compute new energy\n",
        "#decide if to accept or reject\n",
        "if Reject:\n",
        "\tPos = OldPos"
      ]
    },
    {
      "cell_type": "markdown",
      "metadata": {
        "id": "kUAeAluP4C2n"
      },
      "source": [
        "The `copy()` command is essential. If it is not used, `OldPos` will point to the same data in memory as `Pos` does, so when `Pos` is changed, `OldPos` will also change. To give an analogy, it’s like you and I are both working on the same shared document with our computers. If I change my copy, it will change the copy you see, since they are the same. To get around this, you must make a copy of the document after I tell you where it is, so that subsequent changes in my copy will not affect your copy.\n",
        "\n",
        "_(Technical aside: The above code is not optimally efficient. The entire position array is copied to OldPos each time. In fact, it would probably be faster to copy only the position of the particle which will be moved, though this would require a more complicated version of ProposeMove)._\n",
        "\n",
        "#### Fortran code provided\n",
        "\n",
        "The `mclib` library provides:"
      ]
    },
    {
      "cell_type": "raw",
      "metadata": {
        "id": "PojYTqMP4C2n"
      },
      "source": [
        "mclib.calcenergy(Pos, M, L, Cut): \n",
        "\tTakes a position array, M, L, and a cutoff distance, and computes the total energy of the system, returning this as a scalar. \n",
        "\n",
        "mclib.calcinteractionenergy(OldPos, partnum, M, L, Cut):\n",
        "\tSame as calcenergy, but calculates the interaction energy of particle number ‘partnum’ with the rest of the system and returns this as a scalar.\n",
        "\n",
        "mclib.calcenergyforces(Pos, M, L, Cut, Forces): \n",
        "\tCalculates energy and forces in system, given position array Pos, M, L, cutoff Cut, and force array Forces. "
      ]
    },
    {
      "cell_type": "markdown",
      "source": [
        "## Installing Packages\n",
        "***If you are running this on Google Colab, please add the installation blocks from the [getting started notebook](https://github.com/MobleyLab/drug-computing/blob/master/uci-pharmsci/Getting_Started.ipynb) or [condacolab](https://github.com/aakankschit/drug-computing/blob/master/uci-pharmsci/Getting_Started_condacolab.ipynb) here and then execute the code below***"
      ],
      "metadata": {
        "id": "w7qrU7Zr4OE7"
      }
    },
    {
      "cell_type": "markdown",
      "metadata": {
        "id": "cGvB_1GT4C2o"
      },
      "source": [
        "#### Python functions provided\n",
        "\n",
        "We provide an `MC_functions.py` python module which includes the same line search and conjugate gradient algorithms used previously, for your use here, as well as an `InitPositions(N, L)` function which will generate initial positions and return a position array."
      ]
    },
    {
      "cell_type": "markdown",
      "metadata": {
        "id": "Oj0Lbmmd4C2o"
      },
      "source": [
        "#### Template Python code for Part A and following"
      ]
    },
    {
      "cell_type": "code",
      "execution_count": null,
      "metadata": {
        "id": "G3gDwoy74C2o",
        "outputId": "6611ac36-cb40-4f0a-b4ba-cc8d73194dc4"
      },
      "outputs": [
        {
          "ename": "ModuleNotFoundError",
          "evalue": "No module named 'mclib'",
          "output_type": "error",
          "traceback": [
            "\u001b[0;31m---------------------------------------------------------------------------\u001b[0m",
            "\u001b[0;31mModuleNotFoundError\u001b[0m                       Traceback (most recent call last)",
            "\u001b[0;32m<ipython-input-3-6269b2d970f2>\u001b[0m in \u001b[0;36m<module>\u001b[0;34m()\u001b[0m\n\u001b[1;32m      7\u001b[0m \u001b[0;34m\u001b[0m\u001b[0m\n\u001b[1;32m      8\u001b[0m \u001b[0;31m#import compiled fortran library\u001b[0m\u001b[0;34m\u001b[0m\u001b[0;34m\u001b[0m\u001b[0m\n\u001b[0;32m----> 9\u001b[0;31m \u001b[0;32mimport\u001b[0m \u001b[0mmclib\u001b[0m\u001b[0;34m\u001b[0m\u001b[0m\n\u001b[0m\u001b[1;32m     10\u001b[0m \u001b[0;34m\u001b[0m\u001b[0m\n\u001b[1;32m     11\u001b[0m \u001b[0;31m# Import helper functions for line search, conjugate gradient as in MD assignment\u001b[0m\u001b[0;34m\u001b[0m\u001b[0;34m\u001b[0m\u001b[0m\n",
            "\u001b[0;31mModuleNotFoundError\u001b[0m: No module named 'mclib'"
          ]
        }
      ],
      "source": [
        "#import python modules\n",
        "import numpy as np\n",
        "import time\n",
        "import pickle\n",
        "import sys\n",
        "import os\n",
        "\n",
        "#import compiled fortran library\n",
        "import mclib\n",
        "\n",
        "# Import helper functions for line search, conjugate gradient as in MD assignment\n",
        "from MC_functions import *\n",
        "\n",
        "#========== GLOBAL VARIABLES ==========\n",
        "#distance cutoff for pairwise interactions\n",
        "Cut = 2.5\n",
        "#set the random number seed; useful for debugging\n",
        "#np.random.seed(342324)\n",
        "\n",
        "\n",
        "#NOTE:\n",
        "#You may assume unit masses in everything below \n",
        "\n",
        "\n",
        "# Write your `ProposeMove` function here, as well as perhaps code to test it and make sure it works."
      ]
    },
    {
      "cell_type": "markdown",
      "metadata": {
        "id": "nCLQjAhZ4C2q"
      },
      "source": [
        "### Part B: Develop a run protocol for your code\n",
        "\n",
        "For this, you may reuse any portions of the MD Assignment python code you find useful, incorporating them into your Python code for this assignment (some are already provided for you below). Your run protocol should:\n",
        "- Initially place the atoms on a cubic lattice (as in the MD assignment)\n",
        "- Energy minimize the initial configuration using conjugate-gradient\n",
        "- Perform Monte Carlo steps\n",
        "\n",
        "Perform simulations for M = 1, 2, and 4, with N = 240 as before. For each polymer length:\n",
        "- Find the value of the position displacement step size that gives approx. 50% acceptance\n",
        "- Perform 5 long trials, each starting with a different seed for the random number generator. You might try 500 steps per particle as a starting point.\n",
        "- Average the average potential energy (averaged across the 5 trials) as a function of the number of MC steps; plot one series for each value of M\n",
        "- Identify the \"time\" (in MC steps per particle) where these graphs suggest equilibration has occurred and the production period can begin. Indicate this point on your graph. (Note that this is the point where there is no longer a trend in energy)\n",
        "\n",
        "Again, note that an \"MC step per particle\" does not mean that you necessarily have moved each particle once, but rather that you have taken one step for every particle in the system. So for example for a 10 particle system, one step per particle would correspond to 10 steps\n",
        "\n",
        "Explain, for your writeup (which you can insert at the bottom of this document), how the optimum stepsize depends on the polymer chain length, and (if you can see any trend) how the equilibration time varies with chain length. Explain why."
      ]
    },
    {
      "cell_type": "code",
      "execution_count": null,
      "metadata": {
        "id": "9BbPUs-A4C2r"
      },
      "outputs": [],
      "source": [
        "# Your work here"
      ]
    },
    {
      "cell_type": "markdown",
      "metadata": {
        "id": "YDlx2F4A4C2r"
      },
      "source": [
        "### Part C: Compute the average potential energy as a function of M\n",
        "\n",
        "Perform additional simulations to compute $\\left< U \\right>$, the average potential energy, for each M. Use the equilibration times from above to discard some initial data for equilibration before collecting “production” data towards computing $\\left< U \\right>$.  That is, discard any data collected before the system is equilibrated. For each M, perform 5 trials and compute $\\left< U \\right>$ across all 5 trials and all MC steps. Collect data for at least 1000 steps per particle. (Note: You can use the same simulations for Part D below).\n",
        "\n",
        "*_Extra credit_*: Compare your results to average energies from the MD Assignment. There may be some small differences. If you see any differences, explain their likely source (think ensembles). "
      ]
    },
    {
      "cell_type": "code",
      "execution_count": null,
      "metadata": {
        "id": "3IaePr694C2s"
      },
      "outputs": [],
      "source": [
        "# Your work here"
      ]
    },
    {
      "cell_type": "markdown",
      "metadata": {
        "id": "Su6V3QGR4C2s"
      },
      "source": [
        "### Part D: Compute the mean squared displacement\n",
        "From the production period of Part C, and for each M, compute the mean-squared displacement as a function of MC steps per particle, averaged over the five trials. Graph these curves. If you still have the data, also plot the mean squared displacement from the MD Assignment, where the horizontal axis for the MD data should be number of MD steps and the MC data should have the number of MC steps per particle. This will compare how fast space is explored compared to the number of movements per particle. Which method explores phase space faster, MC or MD?  (To get good averages here, make sure you run long enough that each atom moves at least a couple of particle diameters over the course of the production run (on average))."
      ]
    },
    {
      "cell_type": "code",
      "execution_count": null,
      "metadata": {
        "id": "tDNwQpgC4C2s"
      },
      "outputs": [],
      "source": [
        "# Your work here"
      ]
    },
    {
      "cell_type": "markdown",
      "metadata": {
        "id": "f8KJD7vU4C2s"
      },
      "source": [
        "## Do your report\n",
        "\n",
        "### What to turn in\n",
        "\n",
        "- Your Python code\n",
        "- The step sizes resulting in approximately 50% acceptance and explain why they vary\n",
        "- Average energies (Part C)\n",
        "- Plots of the energy in equilibration (Part B) and of the mean squared displacement (Part D), compared with that from the MD assignment. For the purposes of these plots, you should roughly equate \"MC steps\" with \"time\" (though in fact they are not equivalent)\n",
        "- The answer to the questions in Part B, and the extra credit in Part C if desired, and which method explores phase space faster (Part D).\n",
        "- A brief summary of what you observed/learned (below) and your comments. Make sure I don't have to hunt for your answers to questions.\n",
        "- Describe whether you think you got this right (why or why not)\n",
        "\n",
        "These can be provided in this notebook; insertions above are fine. \n",
        "\n",
        "You may submit this notebook via the course website.\n",
        "\n",
        "\n",
        "### Put your writeup here\n",
        "\n",
        "Here, give your writeup/answer questions given above, discuss plots, summarize what you observed/learned, etc."
      ]
    },
    {
      "cell_type": "markdown",
      "metadata": {
        "id": "61InOdG94C2t"
      },
      "source": [
        "(Your writeup goes here)"
      ]
    }
  ],
  "metadata": {
    "kernelspec": {
      "display_name": "Python [conda env:workshop_test]",
      "language": "python",
      "name": "conda-env-workshop_test-py"
    },
    "language_info": {
      "codemirror_mode": {
        "name": "ipython",
        "version": 3
      },
      "file_extension": ".py",
      "mimetype": "text/x-python",
      "name": "python",
      "nbconvert_exporter": "python",
      "pygments_lexer": "ipython3",
      "version": "3.6.3"
    },
    "toc": {
      "nav_menu": {},
      "number_sections": true,
      "sideBar": true,
      "skip_h1_title": false,
      "toc_cell": false,
      "toc_position": {},
      "toc_section_display": "block",
      "toc_window_display": false
    },
    "colab": {
      "name": "MC_assignment.ipynb",
      "provenance": []
    }
  },
  "nbformat": 4,
  "nbformat_minor": 0
}