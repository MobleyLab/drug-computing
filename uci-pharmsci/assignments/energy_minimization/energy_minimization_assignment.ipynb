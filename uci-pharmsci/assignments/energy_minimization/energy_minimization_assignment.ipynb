{
 "cells": [
  {
   "cell_type": "markdown",
   "metadata": {
    "id": "i-3XyaYu09Lb"
   },
   "source": [
    "[![Open in Colab](https://colab.research.google.com/assets/colab-badge.svg)](https://colab.research.google.com/github/MobleyLab/drug-computing/blob/master/uci-pharmsci/assignments/energy_minimization/energy_minimization_assignment.ipynb)"
   ]
  },
  {
   "cell_type": "markdown",
   "metadata": {
    "id": "HDy6rJla5cdI"
   },
   "source": [
    "# Energy Minimization Assignment, PharmSci 175/275\n",
    "##### By David Mobley (UCI), Jan. 2018\n",
    "##### Adapted with permission from an assignment by M. Scott Shell (UCSB)\n",
    "\n",
    "### Submission by AK Nandkeolyar\n",
    "\n",
    "## Overview\n",
    "In this assignment, you will begin with a provided template and several functions, as well as a Fortran library, and add additional code to perform a conjugate-gradient minimization. That is, you will write a conjugate-gradient minimizer. You will then apply this minimize to generate Lennard-Jones clusters with varying numbers of particles, and look at how the energy varies as a function of cluster size.  \n",
    "\n",
    "The Jupyter notebook for this assignment is laid out with action items YOU need to take labeled as Step 1-7. These are interspersed with background information on the problem, some examples, and a sandbox section to tinker with some of the functions. So read on, and watch for the sections which require your action.\n",
    "\n",
    "## What are Lennard-Jones clusters?\n",
    "\n",
    "Clusters are small, stable packings of (often spherical) particles. These particles could be colloidal particles, nanoparticles, etc. There has been considerable work spent studying these clusters over the years, from atomic sizes up to colloidal particles in the nanometer to micrometers scale. Cluster analysis is important to understanding a range of phenomena, including structures of solids, aggregation and precipitation of particles, the structure of nanomaterials, self-assembly behavior of synthetic and biomolecular systems, and diffusion in dense liquids.\n",
    "\n",
    "A cluster can be characterized by the number and type of particles and the energetic interactions between them. Here, we will examine Lennard-Jones (LJ) clusters, which are clusters of simple attractive spherical particles with interactions modeled by the Lennard-Jones interaction. \n",
    "\n",
    "For LJ clusters, there are cluster sizes of unusual stability. These are called magic number clusters and correspond to cluster sizes where the packing of atoms is particularly efficient, leading to very favorable energies and hence exceptional stability. The most stable such clusters are built from an icosahedral arrangement of particles, and the first few such **magic numbers** for cluster sizes of icosahedral geometries are 13, 19, 38, 55, and 75. \n",
    "\n",
    "These clusters are still interesting from a basic physical chemistry point of view, but our interest here is mainly in (a) energy minimization algorithms, and (b) learning how to do non-trivial numerics in Python.\n",
    "\n",
    "## Here, we will energy minimize Lennard-Jones clusters of different sizes\n",
    "\n",
    "Here, we will examine different numbers of particles and attempt to find the minimum energy cluster for each number of particles. Our energy model will use the LJ potential in its dimensionless form (meaning that we have changed units so that all of the constants are hidden in the units). We denote this by putting a star on the potential:\n",
    "\n",
    "\\begin{equation}\n",
    "U^* = \\sum \\limits_{i<j} 4(r_{ij}^{-12} - r_{ij}^{-6})\n",
    "\\end{equation}\n",
    "\n",
    "We will start with a random initial configuration of particles, and try to use an energy minimization algorithm to find the most stable configuration of particles. But when there are more than just a few particles, there will be more than one local minimum, so there is no guarantee the energy minimizer will find the global minimum. In such cases, we will need to minimize from random initial configurations many times in order to ensure we locate the global minimum.\n",
    "There is also the possibility of forming multiple separate clusters separated by a significant difference. This is not unlikely, since the LJ interaction is only very weakly attractive at large distances. So, to ensure we form single clusters, we will use a weak biasing potential to pull all of the particles towards the origin, biasing the system towards forming a single cluster. Otherwise, the LJ potential will tend to be too weak to pull together very distant particles in these tests. We will use a harmonic biasing potential, so that the total potential energy (“force field”) is:\n",
    "\n",
    "\\begin{equation}\n",
    "U^* = \\sum\\limits_i \\alpha |\\mathbf{r}_i|^2 + \\sum \\limits_{i<j} 4(r_{ij}^{-12} - r_{ij}^{-6})\n",
    "\\end{equation}\n",
    "\n",
    "Here we will use $\\alpha = 0.0001 N^{-2/3}$ where $N$ is the number of particles; this will be a very small number. This particular form is selected so that the energy due to this term for a cluster of $N$ particles is, on average, constant regardless of $N$.\n",
    "\n",
    "## Additional details\n",
    "For this assignment, your job is to perform a conjugate-gradient minimization of Lennard-Jones particles which are initially randomly distributed in space. I am providing several items for you:\n",
    "* A Fortran library (emlib) which you can use within Python to calculate energies and forces\n",
    "* A Python library (pos_to_pdb.py) which you can use to output structures to your disk to visualize motion of your particles (for example with PyMol) if you so desire\n",
    "* A template for your assignment (below) in iPython notebook format; this also will be posted on the class website in plain Python format in case my experiment with iPython notebooks fails here. \n",
    " * This template contains some code which will get you started, including code for a line search minimization. \n",
    " * It also contains places for you to write the functions (outlined below) you need to write to complete the assignment.\n",
    "* Here we will be using position and force arrays to represent positions/forces on all of the atoms in the system. Make sure you are [comfortable with that notation](https://github.com/MobleyLab/drug-computing/blob/master/uci-pharmsci/lectures/energy_minimization/energy_minimization.ipynb) before beginning.\n",
    " \n",
    "## A quick (but important) note on Notebook usage:\n",
    "iPython notebooks such as this one often contain a variety of cells containing code. These are normally intended to be run, which you can when you have an individual cell selected, by hitting the button at the top with a 'play' symbol, or by typing shift-enter. If you do NOT do so on each of the cells defining variables/functions which will be used here, then you will encounter an error about undefined variables when you run the later cells. \n",
    " \n",
    "## Your step 1 for the assignment: Start by doing some file bookkeeping:\n",
    " * Find `emlib.f90` and optional utility `pos_to_pdb.py` in this directory.\n",
    " * In the command prompt navigate to that folder and type 'f2py -c -m emlib emlib.f90' which should compile the fortran library for use within python (For more on F2Py, refer to the [f2py documentation](https://docs.scipy.org/doc/numpy-dev/f2py/)). In OS X, this may require you to install the (free) XCode developer tools (available from the Mac App store) and the command-line developer tools first (the latter via `xcode-select --install`). In Linux it should just work. Windows would be a hurdle.\n",
    " * In your command prompt, start theis Jupyter notebook (in OSX this would be something like 'Jupyter notebook 272EnergyMinimization'), which should open it in your web browser; you're running it already unless you are looking at the HTML version of this file.\n",
    " \n",
    "Template Python code for the assignment is provided below. I suggest making a new notebook which is a copy of this one (perhaps containing your name in the filename) and working from there. \n",
    " \n",
    " \n",
    " ## Next, we prep Python for the work:\n",
    " \n",
    " First we import the numpy numerical library we're going to need, as well as the compiled Fortran library emlib"
   ]
  },
  {
   "cell_type": "markdown",
   "metadata": {
    "id": "j5JVt6OP5fKs"
   },
   "source": [
    "## Installing Packages\n",
    "\n",
    "***If you are running this on Google Colab, please add the installation blocks from the [getting started notebook](https://github.com/MobleyLab/drug-computing/blob/master/uci-pharmsci/Getting_Started.ipynb) or [condacolab](https://github.com/aakankschit/drug-computing/blob/master/uci-pharmsci/Getting_Started_condacolab.ipynb) here and then execute the code below***"
   ]
  },
  {
   "cell_type": "code",
   "execution_count": 10,
   "metadata": {
    "collapsed": false,
    "jupyter": {
     "outputs_hidden": false
    },
    "pycharm": {
     "name": "#%%\n"
    }
   },
   "outputs": [
    {
     "name": "stdout",
     "output_type": "stream",
     "text": [
      "running build\n",
      "running config_cc\n",
      "running config_fc\n",
      "running build_src\n",
      "creating /var/folders/cq/9m71_bk509l55nczqkqxpy3c0000gn/T/tmp23f5xc3v/src.macosx-10.9-x86_64-3.9\n",
      "Reading fortran codes...\n",
      "\tReading file 'emlib.f90' (format:free)\n",
      "Post-processing...\n",
      "\tBlock: emlib\n",
      "\t\t\tBlock: calcenergy\n",
      "\t\t\tBlock: calcforces\n",
      "\t\t\tBlock: calcenergyforces\n",
      "Post-processing (stage 2)...\n",
      "Building modules...\n",
      "    Building module \"emlib\"...\n",
      "        Constructing wrapper function \"calcenergy\"...\n",
      "          penergy = calcenergy(pos,[dim,natom])\n",
      "        Constructing wrapper function \"calcforces\"...\n",
      "          forces = calcforces(pos,[dim,natom])\n",
      "        Constructing wrapper function \"calcenergyforces\"...\n",
      "          penergy,forces = calcenergyforces(pos,[dim,natom])\n",
      "    Wrote C/API module \"emlib\" to file \"/var/folders/cq/9m71_bk509l55nczqkqxpy3c0000gn/T/tmp23f5xc3v/src.macosx-10.9-x86_64-3.9/emlibmodule.c\"\n",
      "copying /opt/anaconda3/envs/drug_comp/lib/python3.9/site-packages/numpy/f2py/src/fortranobject.c -> /var/folders/cq/9m71_bk509l55nczqkqxpy3c0000gn/T/tmp23f5xc3v/src.macosx-10.9-x86_64-3.9\n",
      "copying /opt/anaconda3/envs/drug_comp/lib/python3.9/site-packages/numpy/f2py/src/fortranobject.h -> /var/folders/cq/9m71_bk509l55nczqkqxpy3c0000gn/T/tmp23f5xc3v/src.macosx-10.9-x86_64-3.9\n",
      "/opt/anaconda3/envs/drug_comp/lib/python3.9/site-packages/setuptools/command/install.py:34: SetuptoolsDeprecationWarning: setup.py install is deprecated. Use build and pip and other standards-based tools.\n",
      "  warnings.warn(\n",
      "running build_ext\n",
      "creating /var/folders/cq/9m71_bk509l55nczqkqxpy3c0000gn/T/tmp23f5xc3v/var\n",
      "creating /var/folders/cq/9m71_bk509l55nczqkqxpy3c0000gn/T/tmp23f5xc3v/var/folders\n",
      "creating /var/folders/cq/9m71_bk509l55nczqkqxpy3c0000gn/T/tmp23f5xc3v/var/folders/cq\n",
      "creating /var/folders/cq/9m71_bk509l55nczqkqxpy3c0000gn/T/tmp23f5xc3v/var/folders/cq/9m71_bk509l55nczqkqxpy3c0000gn\n",
      "creating /var/folders/cq/9m71_bk509l55nczqkqxpy3c0000gn/T/tmp23f5xc3v/var/folders/cq/9m71_bk509l55nczqkqxpy3c0000gn/T\n",
      "creating /var/folders/cq/9m71_bk509l55nczqkqxpy3c0000gn/T/tmp23f5xc3v/var/folders/cq/9m71_bk509l55nczqkqxpy3c0000gn/T/tmp23f5xc3v\n",
      "creating /var/folders/cq/9m71_bk509l55nczqkqxpy3c0000gn/T/tmp23f5xc3v/var/folders/cq/9m71_bk509l55nczqkqxpy3c0000gn/T/tmp23f5xc3v/src.macosx-10.9-x86_64-3.9\n",
      "In file included from /var/folders/cq/9m71_bk509l55nczqkqxpy3c0000gn/T/tmp23f5xc3v/src.macosx-10.9-x86_64-3.9/fortranobject.c:2:\n",
      "In file included from /var/folders/cq/9m71_bk509l55nczqkqxpy3c0000gn/T/tmp23f5xc3v/src.macosx-10.9-x86_64-3.9/fortranobject.h:13:\n",
      "In file included from /opt/anaconda3/envs/drug_comp/lib/python3.9/site-packages/numpy/core/include/numpy/arrayobject.h:5:\n",
      "In file included from /opt/anaconda3/envs/drug_comp/lib/python3.9/site-packages/numpy/core/include/numpy/ndarrayobject.h:12:\n",
      "In file included from /opt/anaconda3/envs/drug_comp/lib/python3.9/site-packages/numpy/core/include/numpy/ndarraytypes.h:1960:\n",
      "\u001B[1m/opt/anaconda3/envs/drug_comp/lib/python3.9/site-packages/numpy/core/include/numpy/npy_1_7_deprecated_api.h:17:2: \u001B[0m\u001B[0;1;35mwarning: \u001B[0m\u001B[1m\"Using deprecated NumPy API, disable it with \"          \"#define NPY_NO_DEPRECATED_API NPY_1_7_API_VERSION\" [-W#warnings]\u001B[0m\n",
      "#warning \"Using deprecated NumPy API, disable it with \" \\\n",
      "\u001B[0;1;32m ^\n",
      "\u001B[0mIn file included from /var/folders/cq/9m71_bk509l55nczqkqxpy3c0000gn/T/tmp23f5xc3v/src.macosx-10.9-x86_64-3.9/emlibmodule.c:20:\n",
      "In file included from /var/folders/cq/9m71_bk509l55nczqkqxpy3c0000gn/T/tmp23f5xc3v/src.macosx-10.9-x86_64-3.9/fortranobject.h:13:\n",
      "In file included from /opt/anaconda3/envs/drug_comp/lib/python3.9/site-packages/numpy/core/include/numpy/arrayobject.h:5:\n",
      "In file included from /opt/anaconda3/envs/drug_comp/lib/python3.9/site-packages/numpy/core/include/numpy/ndarrayobject.h:12:\n",
      "In file included from /opt/anaconda3/envs/drug_comp/lib/python3.9/site-packages/numpy/core/include/numpy/ndarraytypes.h:1960:\n",
      "\u001B[1m/opt/anaconda3/envs/drug_comp/lib/python3.9/site-packages/numpy/core/include/numpy/npy_1_7_deprecated_api.h:17:2: \u001B[0m\u001B[0;1;35mwarning: \u001B[0m\u001B[1m\"Using deprecated NumPy API, disable it with \"          \"#define NPY_NO_DEPRECATED_API NPY_1_7_API_VERSION\" [-W#warnings]\u001B[0m\n",
      "#warning \"Using deprecated NumPy API, disable it with \" \\\n",
      "\u001B[0;1;32m ^\n",
      "\u001B[0m\u001B[1m/var/folders/cq/9m71_bk509l55nczqkqxpy3c0000gn/T/tmp23f5xc3v/src.macosx-10.9-x86_64-3.9/emlibmodule.c:113:12: \u001B[0m\u001B[0;1;35mwarning: \u001B[0m\u001B[1munused function 'f2py_size' [-Wunused-function]\u001B[0m\n",
      "static int f2py_size(PyArrayObject* var, ...)\n",
      "\u001B[0;1;32m           ^\n",
      "\u001B[0m2 warnings generated.\n",
      "1 warning generated.\n",
      "ld: warning: dylib (/usr/local/lib/libgfortran.dylib) was built for newer macOS version (11.0) than being linked (10.9)\n",
      "ld: warning: dylib (/usr/local/lib/libquadmath.dylib) was built for newer macOS version (11.0) than being linked (10.9)\n",
      "Removing build directory /var/folders/cq/9m71_bk509l55nczqkqxpy3c0000gn/T/tmp23f5xc3v\n"
     ]
    }
   ],
   "source": [
    "!f2py3 -c -m emlib emlib.f90"
   ]
  },
  {
   "cell_type": "code",
   "execution_count": 1,
   "metadata": {
    "id": "DiyM0EjL5cdN"
   },
   "outputs": [],
   "source": [
    "import numpy as np\n",
    "import emlib\n",
    "from pos_to_pdb import * \n",
    "#This would allow you to export coordinates if you want, later"
   ]
  },
  {
   "cell_type": "markdown",
   "metadata": {
    "id": "4yRrbzl15cdO"
   },
   "source": [
    "## Important technical note: Unit masses, etc.\n",
    "\n",
    "Note that all of the following code will assume unit atomic masses, such that forces and accelerations are equal -- that is, instead of $F=ma$ we write $F=a$ assuming that $m=1$. We also drop most constants. This is a relatively common trick in physics when you are interested only in seeing how the basic equations work, and not in quantitative comparison with experimental numbers. It can be called using \"dimensionless units\". "
   ]
  },
  {
   "cell_type": "markdown",
   "metadata": {
    "id": "iLqveN7Y5cdO"
   },
   "source": [
    "## Then we define the LineSearch function:"
   ]
  },
  {
   "cell_type": "markdown",
   "metadata": {
    "id": "b3XLJo4h5cdO"
   },
   "source": [
    "Here is the `LineSearch` function which is provided for you. Read the prototype (definition) and documentation to understand what it needs and what it will do (note that you do NOT need to read all the code):"
   ]
  },
  {
   "cell_type": "code",
   "execution_count": 2,
   "metadata": {
    "id": "Cz_zeUNd5cdP"
   },
   "outputs": [],
   "source": [
    "def LineSearch(Pos, Dir, dx, EFracTol, Accel = 1.5, MaxInc = 10.,\n",
    "               MaxIter = 10000):\n",
    "    \"\"\"Performs a line search along direction Dir.\n",
    "    Input:\n",
    "       Pos: starting positions, (N,3) array\n",
    "       Dir: (N,3) array of gradient direction\n",
    "       dx: initial step amount, a float\n",
    "       EFracTol: fractional energy tolerance\n",
    "       Accel: acceleration factor\n",
    "       MaxInc: the maximum increase in energy for bracketing\n",
    "       MaxIter: maximum number of iteration steps\n",
    "Output:\n",
    "       PEnergy: value of potential energy at minimum along Dir\n",
    "       PosMin: minimum energy (N,3) position array along Dir\n",
    "\"\"\"\n",
    "    #start the iteration counter\n",
    "    Iter = 0\n",
    "\n",
    "    #find the normalized direction\n",
    "    NormDir = Dir / np.sqrt(np.sum(Dir * Dir))\n",
    "\n",
    "    #take the first two steps and compute energies\n",
    "    Dists = [0., dx]\n",
    "    PEs = [emlib.calcenergy(Pos + NormDir * x) for x in Dists]\n",
    "\n",
    "    #if the second point is not downhill in energy, back\n",
    "    #off and take a shorter step until we find one\n",
    "    while PEs[1] > PEs[0]:\n",
    "        Iter += 1\n",
    "        dx = dx * 0.5\n",
    "        Dists[1] = dx\n",
    "        PEs[1] = emlib.calcenergy(Pos + NormDir * dx)\n",
    "\n",
    "    #find a third point\n",
    "    Dists.append( 2. * dx )\n",
    "    PEs.append( emlib.calcenergy(Pos + NormDir * 2. * dx) )\n",
    "\n",
    "    #keep stepping forward until the third point is higher\n",
    "    #in energy; then we have bracketed a minimum\n",
    "    while PEs[2] < PEs[1]:\n",
    "        Iter += 1\n",
    "\n",
    "        #find a fourth point and evaluate energy\n",
    "        Dists.append( Dists[-1] + dx )\n",
    "        PEs.append( emlib.calcenergy(Pos + NormDir * Dists[-1]) )\n",
    "\n",
    "        #check if we increased too much in energy; if so, back off\n",
    "        if (PEs[3] - PEs[0]) > MaxInc * (PEs[0] - PEs[2]):\n",
    "            PEs = PEs[:3]\n",
    "            Dists = Dists[:3]\n",
    "            dx = dx * 0.5\n",
    "        else:\n",
    "            #shift all of the points over\n",
    "            PEs = PEs[-3:]\n",
    "            Dists = Dists[-3:]\n",
    "            dx = dx * Accel    \n",
    "                \n",
    "    #we've bracketed a minimum; now we want to find it to high\n",
    "    #accuracy\n",
    "    OldPE3 = 1.e300\n",
    "    while True:\n",
    "        Iter += 1\n",
    "        if Iter > MaxIter:\n",
    "            print(\"Warning: maximum number of iterations reached in line search.\")\n",
    "            break\n",
    "\n",
    "        #store distances for ease of code-reading\n",
    "        d0, d1, d2 = Dists\n",
    "        PE0, PE1, PE2 = PEs\n",
    "\n",
    "        #use a parobolic approximation to estimate the location\n",
    "        #of the minimum\n",
    "        d10 = d0 - d1\n",
    "        d12 = d2 - d1\n",
    "        Num = d12*d12*(PE0-PE1) - d10*d10*(PE2-PE1)\n",
    "        Dem = d12*(PE0-PE1) - d10*(PE2-PE1)\n",
    "\n",
    "        if Dem == 0:\n",
    "            #parabolic extrapolation won't work; set new dist = 0\n",
    "            d3 = 0\n",
    "        else:\n",
    "            #location of parabolic minimum\n",
    "            d3 = d1 + 0.5 * Num / Dem\n",
    "\n",
    "        #compute the new potential energy\n",
    "        PE3 = emlib.calcenergy(Pos + NormDir * d3)\n",
    "\n",
    "        #sometimes the parabolic approximation can fail;\n",
    "        #check if d3 is out of range < d0 or > d2 or the new energy is higher\n",
    "        if d3 < d0 or d3 > d2 or PE3 > PE0 or PE3 > PE1 or PE3 > PE2:\n",
    "            #instead, just compute the new distance by bisecting two\n",
    "            #of the existing points along the line search\n",
    "            if abs(d2 - d1) > abs(d0 - d1):\n",
    "                d3 = 0.5 * (d2 + d1)\n",
    "            else:\n",
    "                d3 = 0.5 * (d0 + d1)\n",
    "            PE3 = emlib.calcenergy(Pos + NormDir * d3)\n",
    "\n",
    "        #decide which three points to keep; we want to keep\n",
    "        #the three that are closest to the minimum\n",
    "        if d3 < d1:\n",
    "            if PE3 < PE1:\n",
    "                #get rid of point 2\n",
    "                Dists, PEs = [d0, d3, d1], [PE0, PE3, PE1]\n",
    "            else:\n",
    "                #get rid of point 0\n",
    "                Dists, PEs = [d3, d1, d2], [PE3, PE1, PE2]\n",
    "        else:\n",
    "            if PE3 < PE1:\n",
    "                #get rid of point 0\n",
    "                Dists, PEs = [d1, d3, d2], [PE1, PE3, PE2]\n",
    "            else:\n",
    "                #get rid of point 2\n",
    "                Dists, PEs = [d0, d1, d3], [PE0, PE1, PE3]\n",
    "\n",
    "        #check how much we've changed\n",
    "        if abs(OldPE3 - PE3) < EFracTol * abs(PE3):\n",
    "            #the fractional change is less than the tolerance,\n",
    "            #so we are done and can exit the loop\n",
    "            break\n",
    "        OldPE3 = PE3\n",
    "\n",
    "    #return the position array at the minimum (point 1)\n",
    "    PosMin = Pos + NormDir * Dists[1]\n",
    "    PEMin = PEs[1]\n",
    "\n",
    "    return PEMin, PosMin"
   ]
  },
  {
   "cell_type": "markdown",
   "metadata": {
    "id": "73o2EjbG5cdP"
   },
   "source": [
    "## Step 2: Write a function to assign random initial positions to your atoms\n",
    "\n",
    "We need a function that can randomly place N atoms in a box with sides of length L. Write a function based on a tool from the numpy 'random' module to do this. Some hints are in order:\n",
    "\n",
    "* NumPy contains a ‘random’ module which is good for obtaining random numbers and/or arrays. For example, if you have imported numpy as np, then np.random.random(shape) returns a random array with the specified shape (i.e. ‘np.random.random(3)’ would be a 3x1 array) with elements randomly selected between 0 to 1. Try this out: "
   ]
  },
  {
   "cell_type": "code",
   "execution_count": 3,
   "metadata": {
    "id": "FoKqhioL5cdQ",
    "outputId": "132969c7-2e96-439f-fe88-9ca13c98281d"
   },
   "outputs": [
    {
     "name": "stdout",
     "output_type": "stream",
     "text": [
      "a=\n",
      " [0.05950989 0.99116295 0.61051996]\n",
      "b=\n",
      " [[0.49396718 0.76325081 0.18773935]\n",
      " [0.31406643 0.15277525 0.47305892]]\n"
     ]
    }
   ],
   "source": [
    "a = np.random.random(3)\n",
    "print(\"a=\\n\",a)\n",
    "b = np.random.random((2,3))\n",
    "print(\"b=\\n\",b)"
   ]
  },
  {
   "cell_type": "markdown",
   "metadata": {
    "id": "_89OVEUB5cdQ"
   },
   "source": [
    "* Note that in your function, you want the numbers to run from 0 to L. You might try out what happens if you multiply 'a' and 'b' in the code above by some number.\n",
    "\n",
    "Now, write your function. I've written the doc string and some comments for you, but you have to fill in its inner workings:"
   ]
  },
  {
   "cell_type": "code",
   "execution_count": 4,
   "metadata": {
    "id": "EHCUgSST5cdR",
    "tags": []
   },
   "outputs": [],
   "source": [
    "def InitPositions(N, L):\n",
    "    \"\"\"Returns an array of initial positions of each atom,\n",
    "placed randomly within a box of dimensions L.\n",
    "Input:\n",
    "    N: number of atoms\n",
    "    L: box width\n",
    "Output:\n",
    "    Pos: (N,3) array of positions\n",
    "\"\"\"\n",
    "    #### WRITE YOUR CODE HERE ####\n",
    "    ## In my code, I can accomplish this function in 1 line \n",
    "    ## using a numpy function.\n",
    "    ## Yours can be longer if you want. It's more important that it be right than that it be short.\n",
    "    Pos = np.random.uniform(0,L,(N,3))\n",
    "    return Pos"
   ]
  },
  {
   "cell_type": "markdown",
   "metadata": {},
   "source": [
    "## Step 3: Write the Conjugate Gradient function described below\n",
    "\n",
    "Fill in code for the ConjugateGradient function below based on the discussion in class and below, supplemented by your reading of Leach's book (and other online sources if needed). Some additional guidance and hints are warranted first.\n",
    "\n",
    "### Hints for ConjugateGradient:\n",
    "* As discussed/demonstrated above, a LineSearch function is already provided for you here\n",
    "* You will need to remember that our force and position arrays give the force/position of all of the atoms in the system (x, y, and z components) as [introduced previously](https://github.com/MobleyLab/drug-computing/blob/master/uci-pharmsci/lectures/energy_minimization/energy_minimization.ipynb).\n",
    "* Keep careful track of which quantities you expect to be vectors/arrays versus scalars. You may wish to check that quantities are what you expect they are.\n",
    "* You are going to want to keep doing line searches until the energy stops changing. Write a loop to do this, and store your evaluated energies as you go.\n",
    "* A fortran library, `emlib`, is provided for you to calculate energies and forces. You should be able to ask for 'help(emlib)' for info on usage. You can also look directly at the Fortran code if you would like, though this may be less helpful.\n",
    "* You can get the potential energy and forces using the provided library using functions from emlib. For example, if `Pos` is an array of positions:\n",
    "\n",
    "   `PEnergy, Forces = emlib.calcenergyforces(Pos)`\n",
    "\n",
    "   `Forces = emlib.calcforces( Pos )`\n",
    "* Conjugate gradient does not specify an initial direction. Your initial search should be in the direction of the force.\n",
    "* After the initial line search, subsequent line search directions $i$ should be found using this expression for $v_i$, the direction matrix:\n",
    "\n",
    "   \\begin{equation}\n",
    "   \\mathbf{v}_i^N = \\mathbf{f}_i^N + \\gamma_i \\mathbf{v}_{i-1}^N\n",
    "   \\end{equation}\n",
    "\n",
    "   where\n",
    "\n",
    "   \\begin{equation}\n",
    "   \\gamma_i = \\frac{ (\\mathbf{f}_i^N-\\mathbf{f}_{i-1}^N) \\mathbf{f}_i^N}{\\mathbf{f}_{i-1}^N \\mathbf{f}_{i-1}^N}\n",
    "   \\end{equation}\n",
    "\n",
    "   Note that here, $\\mathbf{f}_i^N$ denotes the force on the particles at step $i$ (and hence it has 3N dimensions - $x$, $y$, and $z$ for each particle) and $\\mathbf{f}_{i-1}^N$ is the force at the last ($i-1$) step, [as discussed previously](https://github.com/MobleyLab/drug-computing/blob/master/uci-pharmsci/lectures/energy_minimization/energy_minimization.ipynb). Note that the forces are a collection of vectors, one vector for the force on each particle. $\\gamma_i$ should be just a number (scalar). Hint: Note that if you have a force array consisting of a set of vectors, the product you want inside the equation for $\\gamma_i$ should be an element-by-element multiplication, not a dot or inner product.  **Be sure to see the helpful tips about how to calculate this which were given in the energy minimization lecture**!\n",
    "\n",
    "* You want to end up at the point, in your code, where you can obtain the new direction by calculating something like `Dir = newForces + gamma * Dir`\n",
    "* Continue successive line searches in your CG minimization until the fractional change in energy on subsequent searches is less than the tolerance. That is, you'll set it up to use an `EFracTolCG` variable and continue until this criteria is met (where $U_i$ is the potential energy at the present step):\n",
    "\\begin{equation}\n",
    "\\left|U_i-U_{i-1}\\right| < EFracTolCG \\times \\left| U_i\\right|\n",
    "\\end{equation}\n",
    "\n",
    "* To debug your code, you will probably want to initially use `print` statements in the minimization routine to monitor the energy as a function of step to make sure it's doing the right thing!\n",
    "\n",
    "\n",
    "\n",
    "### Now actually write ConjugateGradient:"
   ]
  },
  {
   "cell_type": "code",
   "execution_count": 5,
   "metadata": {
    "collapsed": false,
    "jupyter": {
     "outputs_hidden": false
    },
    "pycharm": {
     "name": "#%%\n"
    }
   },
   "outputs": [
    {
     "name": "stdout",
     "output_type": "stream",
     "text": [
      "Help on module emlib:\n",
      "\n",
      "NAME\n",
      "    emlib\n",
      "\n",
      "DESCRIPTION\n",
      "    This module 'emlib' is auto-generated with f2py (version:1.22.0).\n",
      "    Functions:\n",
      "        penergy = calcenergy(pos,dim=shape(pos, 1),natom=shape(pos, 0))\n",
      "        forces = calcforces(pos,dim=shape(pos, 1),natom=shape(pos, 0))\n",
      "        penergy,forces = calcenergyforces(pos,dim=shape(pos, 1),natom=shape(pos, 0))\n",
      "    .\n",
      "\n",
      "DATA\n",
      "    __f2py_numpy_version__ = '1.22.0'\n",
      "    calcenergy = <fortran object>\n",
      "    calcenergyforces = <fortran object>\n",
      "    calcforces = <fortran object>\n",
      "\n",
      "VERSION\n",
      "    1.22.0\n",
      "\n",
      "FILE\n",
      "    /Users/aakankschit/Desktop/Mobley Lab/drug-computing/uci-pharmsci/assignments/energy_minimization/emlib.cpython-39-darwin.so\n",
      "\n",
      "\n"
     ]
    }
   ],
   "source": [
    "help(emlib)"
   ]
  },
  {
   "cell_type": "code",
   "execution_count": 6,
   "metadata": {
    "id": "SV7aqGW75cdR",
    "tags": []
   },
   "outputs": [],
   "source": [
    "def ConjugateGradient(Pos, dx, EFracTolLS, EFracTolCG):\n",
    "    \"\"\"Performs a conjugate gradient search.\n",
    "Input:\n",
    "    Pos: starting positions, (N,3) array\n",
    "    dx: initial step amount\n",
    "    EFracTolLS: fractional energy tolerance for line search\n",
    "    EFracTolCG: fractional energy tolerance for conjugate gradient\n",
    "Output:\n",
    "    PEnergy: value of potential energy at minimum\n",
    "    Pos: minimum energy (N,3) position array\n",
    "\"\"\"\n",
    "    #### WRITE YOUR CODE HERE ####\n",
    "    ## In my code, I can accomplish this function in 10 lines ###\n",
    "    PE_old,force_old = emlib.calcenergyforces(Pos)\n",
    "    direction = force_old\n",
    "    while True:\n",
    "        PE_new,Pos_new = LineSearch(Pos,direction,dx,EFracTolLS)\n",
    "        # Estimate new Direction\n",
    "        force_new = emlib.calcforces(Pos_new)\n",
    "        gamma = sum(sum(np.multiply((force_new-force_old),force_new)))/sum(sum(np.multiply(force_old,force_old)))\n",
    "        direction = force_new + gamma*direction\n",
    "        # Update Positions, Energies and forces with new values\n",
    "        Pos = Pos_new\n",
    "        force_old=force_new\n",
    "        deltaEnergyTol = np.absolute((PE_new-PE_old)/PE_new)\n",
    "        if deltaEnergyTol<EFracTolCG:\n",
    "            break\n",
    "        PE_old = PE_new\n",
    "\n",
    "    #A return statement you may/will use to finish things off\n",
    "    return PE_new, Pos"
   ]
  },
  {
   "cell_type": "code",
   "execution_count": 16,
   "metadata": {
    "collapsed": false,
    "jupyter": {
     "outputs_hidden": false
    },
    "pycharm": {
     "name": "#%%\n"
    }
   },
   "outputs": [
    {
     "name": "stdout",
     "output_type": "stream",
     "text": [
      "-2.9999394293438266\n"
     ]
    }
   ],
   "source": [
    "Pos = InitPositions(3,np.cbrt(25*10**3))\n",
    "dir=emlib.calcforces(Pos)\n",
    "EFracTolLS=10**-8\n",
    "EFracTolCG=10**-10\n",
    "dx=0.001\n",
    "PEnergy,Pos_min_LS=ConjugateGradient(Pos,dx,EFracTolLS,EFracTolCG)\n",
    "print(PEnergy)"
   ]
  },
  {
   "cell_type": "markdown",
   "metadata": {
    "id": "u7vhgY4_5cdS"
   },
   "source": [
    "## Step 4: Energy minimize a variety of clusters, storing energies\n",
    "\n",
    "Write code to use the functions you wrote above, plus the emlib module, to energy minimize clusters of various sizes. Loop over clusters from size N=2 to (and including) N=25. For each particle number, do the following:\n",
    "* Perform K (to be specified below in the section on graphing) minimizations, each starting from a different random configuration of particles \n",
    "* Store the K energies to a list \n",
    "* Display the minimum, average, and standard deviation of the minimized energies for the trials. Note standard deviations can be calculated with the numpy.std function (`np.std()`)\n",
    "* After doing this, you'll be tasked with making some plots. \n",
    "\n",
    "Use the following settings:\n",
    "* `dx = 0.001`\n",
    "* `EFracTolCG = 1.0e-10`\n",
    "* `EFracTolLS = 1.0e-8`\n",
    "* And place the particles with L chosen such that the average number density of particles ($N/V$, where $V=L^3$) is $0.001$. That is, for every $N$, solve for $L$ such that $N/L^3 = 0.001$. \n",
    "\n",
    "These are relatively typical settings for this kind of a system. \n",
    "\n",
    "**I suggest you do this first for just one N and K to make sure it works**. Then set up a loop over N and perhaps (if you like) a loop over K as well.  Reserve the large K values until you are absolutely certain it’s working. Note that if the computational time becomes prohibitive (i.e. if it runs more than overnight, or your computer is having difficulties handling the lode) we can migrate your simulations to GreenPlanet. \n",
    "\n",
    "You can easily add visualization of a trajectory by adding, within your ConjugateGradient function’s central loop, a call to the PosToPDB function of the pos_to_pdb module. Assuming you’ve done ‘from pos_to_pdb import *’ you’d add something like: \n",
    "\n",
    "`PosToPDB( Pos, L, ‘mytrajectory.pdb’)`\n",
    "\n",
    "within the loop inside your ConjugateGradient minimizer. This will write out each step of the minimization as a separate frame in a pdb file, which you can download with scp and view in PyMol to see exactly what’s going on. \n",
    "Note that visualization (really, the file I/O and coordinate conversions) will slow things considerably, so I suggest you only do this in one specific case to check out what’s going on, or to troubleshoot if things don't appear to be working. It should also be possible to add interactive visualization via `nglview` here, though I've not done that for you.\n",
    "\n",
    "* Hint: **You MAY want to use Python's pickle module to save out your data at the end of your calculations, since the next step involves plotting your data and you may want to easily be able to read it back in**. At the very least - whether you save it to disk or not - you'll want to store it (specifically, the minimum and average energies at each N) to variables for later reuse. If you had the variable `energies` containing all of the energies obtained at K = 10000 you might dump this using:"
   ]
  },
  {
   "cell_type": "markdown",
   "metadata": {
    "id": "vH2XT0EN5cdS"
   },
   "source": [
    "### Write your code here:\n",
    "Disclaimer: I probably could have done this better with a for loop."
   ]
  },
  {
   "cell_type": "markdown",
   "metadata": {},
   "source": [
    "#### K = 10"
   ]
  },
  {
   "cell_type": "code",
   "execution_count": 17,
   "metadata": {
    "id": "Pm0vU5Nd5cdS",
    "tags": []
   },
   "outputs": [],
   "source": [
    "#Your energy minimization code here\n",
    "#This will be the longest code you write in this assignment\n",
    "## For k = 10\n",
    "Pos_config = []\n",
    "Pos_min_config=[]\n",
    "PEnergy_min_config=[]\n",
    "PEnergy_av = []\n",
    "PEnergy_std = []\n",
    "PEnergy_min = []\n",
    "#k=np.array(10,100,1000,10000)\n",
    "N=list(range(2,26,1)) # Number of particles\n",
    "for n in N:\n",
    "    Pos_min_config_k=[]\n",
    "    PEnergy_min_config_k=[]\n",
    "    for i in range(10):\n",
    "        Pos = InitPositions(n,np.cbrt(n*10**3))# Changes the configuration and the number of particles\n",
    "        PEnergy,Pos_min=ConjugateGradient(Pos,0.001,10**-8,10**-10)\n",
    "        PEnergy_min_config_k.append(PEnergy)\n",
    "        Pos_min_config_k.append(Pos_min)\n",
    "    Pos_min_config.append(Pos_min_config_k)\n",
    "    PEnergy_min_config.append(PEnergy_min_config_k)\n",
    "    PEnergy_std.append(np.std(PEnergy_min_config_k))\n",
    "    PEnergy_min.append(np.amin(PEnergy_min_config_k))\n",
    "    PEnergy_av.append(np.mean(PEnergy_min_config_k))\n",
    "import pandas as pd\n",
    "PEnergy_Dataframe_k10 = pd.DataFrame()\n",
    "PEnergy_Dataframe_k10['Number_Particles']=N\n",
    "PEnergy_Dataframe_k10['Average_Energy'] = PEnergy_av\n",
    "PEnergy_Dataframe_k10['Std_Dev']=PEnergy_std\n",
    "PEnergy_Dataframe_k10['Min_Energy']=PEnergy_min\n"
   ]
  },
  {
   "cell_type": "markdown",
   "metadata": {
    "tags": []
   },
   "source": [
    "#### K=100"
   ]
  },
  {
   "cell_type": "code",
   "execution_count": 18,
   "metadata": {},
   "outputs": [],
   "source": [
    "Pos_config = []\n",
    "Pos_min_config=[]\n",
    "PEnergy_min_config=[]\n",
    "PEnergy_av = []\n",
    "PEnergy_std = []\n",
    "PEnergy_min = []\n",
    "#k=np.array(10,100,1000,10000)\n",
    "N=list(range(2,26,1)) # Number of particles\n",
    "for n in N:\n",
    "    Pos_min_config_k=[]\n",
    "    PEnergy_min_config_k=[]\n",
    "    for i in range(100):\n",
    "        Pos = InitPositions(n,np.cbrt(n*10**3))# Changes the configuration and the number of particles\n",
    "        PEnergy,Pos_min=ConjugateGradient(Pos,0.001,10**-8,10**-10)\n",
    "        PEnergy_min_config_k.append(PEnergy)\n",
    "        Pos_min_config_k.append(Pos_min)\n",
    "    Pos_min_config.append(Pos_min_config_k)\n",
    "    PEnergy_min_config.append(PEnergy_min_config_k)\n",
    "    PEnergy_std.append(np.std(PEnergy_min_config_k))\n",
    "    PEnergy_min.append(np.amin(PEnergy_min_config_k))\n",
    "    PEnergy_av.append(np.mean(PEnergy_min_config_k))\n",
    "import pandas as pd\n",
    "PEnergy_Dataframe_k100 = pd.DataFrame()\n",
    "PEnergy_Dataframe_k100['Number_Particles']=N\n",
    "PEnergy_Dataframe_k100['Average_Energy'] = PEnergy_av\n",
    "PEnergy_Dataframe_k100['Std_Dev']=PEnergy_std\n",
    "PEnergy_Dataframe_k100['Min_Energy']=PEnergy_min"
   ]
  },
  {
   "cell_type": "markdown",
   "metadata": {
    "tags": []
   },
   "source": [
    "#### K=10000"
   ]
  },
  {
   "cell_type": "code",
   "execution_count": 19,
   "metadata": {},
   "outputs": [],
   "source": [
    "Pos_config = []\n",
    "Pos_min_config=[]\n",
    "PEnergy_min_config=[]\n",
    "PEnergy_av = []\n",
    "PEnergy_std = []\n",
    "PEnergy_min = []\n",
    "#k=np.array(10,100,1000,10000)\n",
    "N=list(range(2,26,1)) # Number of particles\n",
    "for n in N:\n",
    "    Pos_min_config_k=[]\n",
    "    PEnergy_min_config_k=[]\n",
    "    for i in range(10000):\n",
    "        Pos = InitPositions(n,np.cbrt(n*10**3))# Changes the configuration and the number of particles\n",
    "        PEnergy,Pos_min=ConjugateGradient(Pos,0.001,10**-8,10**-10)\n",
    "        PEnergy_min_config_k.append(PEnergy)\n",
    "        Pos_min_config_k.append(Pos_min)\n",
    "    Pos_min_config.append(Pos_min_config_k)\n",
    "    PEnergy_min_config.append(PEnergy_min_config_k)\n",
    "    PEnergy_std.append(np.std(PEnergy_min_config_k))\n",
    "    PEnergy_min.append(np.amin(PEnergy_min_config_k))\n",
    "    PEnergy_av.append(np.mean(PEnergy_min_config_k))\n",
    "import pandas as pd\n",
    "PEnergy_Dataframe_k10K = pd.DataFrame()\n",
    "PEnergy_Dataframe_k10K['Number_Particles']=N\n",
    "PEnergy_Dataframe_k10K['Average_Energy'] = PEnergy_av\n",
    "PEnergy_Dataframe_k10K['Std_Dev']=PEnergy_std\n",
    "PEnergy_Dataframe_k10K['Min_Energy']=PEnergy_min"
   ]
  },
  {
   "cell_type": "markdown",
   "metadata": {
    "id": "pJE5QAIZ5cdT"
   },
   "source": [
    "## Step 5: Graph your findings"
   ]
  },
  {
   "cell_type": "markdown",
   "metadata": {
    "id": "q5epq_ia5cdT"
   },
   "source": [
    "Plot the minimum and average energies as a function of N for each of K=100, 1000, and 10000. The last case may be fairly time consuming (i.e. several hours) and should be done without output of pdb files for visualization (since this can slow it down).\n",
    "\n",
    "Use matplotlib/PyLab to make these plots.\n",
    "\n",
    "**Hint: If your minimizations are proceeding extremely slowly, it may mean you have an error in calculation of gamma**, such that even K=100 or K=10 could take a very long time. Ensure you have implemented the equation for gamma correctly. Even with a correct gamma value, this will take considerable time for the larger N values."
   ]
  },
  {
   "cell_type": "markdown",
   "metadata": {},
   "source": [
    "#### Plot of Average Energies"
   ]
  },
  {
   "cell_type": "code",
   "execution_count": 64,
   "metadata": {
    "id": "s4CQyPhN5cdT",
    "tags": []
   },
   "outputs": [
    {
     "data": {
      "text/plain": [
       "<matplotlib.legend.Legend at 0x17e4798e0>"
      ]
     },
     "execution_count": 64,
     "metadata": {},
     "output_type": "execute_result"
    },
    {
     "data": {
      "image/png": "[encoded data removed]",
      "text/plain": [
       "<Figure size 432x288 with 1 Axes>"
      ]
     },
     "metadata": {
      "needs_background": "light"
     },
     "output_type": "display_data"
    }
   ],
   "source": [
    "#Your code for this here\n",
    "import matplotlib.pyplot as plt\n",
    "fig1, ax1 = plt.subplots()\n",
    "ax1.plot(PEnergy_Dataframe_k10['Number_Particles'],PEnergy_Dataframe_k10['Average_Energy'],label=\"k=10\")\n",
    "ax1.plot(PEnergy_Dataframe_k100['Number_Particles'],PEnergy_Dataframe_k100['Average_Energy'],label=\"k=100\")\n",
    "ax1.plot(PEnergy_Dataframe_k10K['Number_Particles'],PEnergy_Dataframe_k10K['Average_Energy'],label=\"k=10K\")\n",
    "plt.ylabel(\"Average Energy\")\n",
    "plt.xlabel(\"Number of Particles\")\n",
    "plt.title(\"Average Energies Plot\")\n",
    "plt.legend(loc=\"upper right\")"
   ]
  },
  {
   "cell_type": "markdown",
   "metadata": {},
   "source": [
    "#### Plot of Minimum Energies"
   ]
  },
  {
   "cell_type": "code",
   "execution_count": 66,
   "metadata": {
    "collapsed": false,
    "jupyter": {
     "outputs_hidden": false
    },
    "pycharm": {
     "name": "#%%\n"
    }
   },
   "outputs": [
    {
     "data": {
      "text/plain": [
       "<matplotlib.legend.Legend at 0x17ee0f3d0>"
      ]
     },
     "execution_count": 66,
     "metadata": {},
     "output_type": "execute_result"
    },
    {
     "data": {
      "image/png": "[encoded data removed]",
      "text/plain": [
       "<Figure size 432x288 with 1 Axes>"
      ]
     },
     "metadata": {
      "needs_background": "light"
     },
     "output_type": "display_data"
    }
   ],
   "source": [
    "fig2, ax2 = plt.subplots()\n",
    "ax2.plot(PEnergy_Dataframe_k10['Number_Particles'],PEnergy_Dataframe_k10['Min_Energy'],label=\"k=10\")\n",
    "ax2.plot(PEnergy_Dataframe_k100['Number_Particles'],PEnergy_Dataframe_k100['Min_Energy'],label=\"k=100\")\n",
    "ax2.plot(PEnergy_Dataframe_k10K['Number_Particles'],PEnergy_Dataframe_k10K['Min_Energy'],label=\"k=10K\")\n",
    "plt.ylabel(\"Minimum Energy\")\n",
    "plt.xlabel(\"Number of Particles\")\n",
    "plt.title(\"Minimum Energies Plot\")\n",
    "plt.legend(loc=\"upper right\")"
   ]
  },
  {
   "cell_type": "markdown",
   "metadata": {
    "id": "swp53i0X5cdT"
   },
   "source": [
    "## Step 6: Compare with what's expected\n",
    "\n",
    "Compare your results (your minimum energy at each N value) with the known global minimum energies, via a plot and by commenting on the results. These are from ( Leary, J. Global Optimization 11:35 (1997)). Add this curve to your graph. Why might your results be higher?\n",
    "\n",
    "<img src=\"https://github.com/aakankschit/drug-computing/blob/master/uci-pharmsci/assignments/energy_minimization/Leary_table.png?raw=1\" width=500>\n"
   ]
  },
  {
   "cell_type": "code",
   "execution_count": 22,
   "metadata": {
    "id": "SdtCYwY95cdT",
    "tags": []
   },
   "outputs": [],
   "source": [
    "#Write code here to add these to your graph\n",
    "# Define a dataframe with expected data\n",
    "PE_Expected  = pd.DataFrame()\n",
    "PE_Expected[\"Number_Particles\"]=list(range(2,26))\n",
    "PE_Expected[\"Expected_Energies\"]= np.array([-1,-3,-6,-9,-12.710,-16.5,-19.8,-24.1,-28.4,-32.7,-37.96,-44.32,-47.8,-52.32,-56.81,-61.31,-66.5,-72.65,-77.17,-81.68,-86.8,-92.84,-97.34,-102.37])"
   ]
  },
  {
   "cell_type": "code",
   "execution_count": 68,
   "metadata": {},
   "outputs": [
    {
     "data": {
      "text/plain": [
       "<matplotlib.legend.Legend at 0x176d75d60>"
      ]
     },
     "execution_count": 68,
     "metadata": {},
     "output_type": "execute_result"
    },
    {
     "data": {
      "image/png": "[encoded data removed]",
      "text/plain": [
       "<Figure size 432x288 with 1 Axes>"
      ]
     },
     "metadata": {
      "needs_background": "light"
     },
     "output_type": "display_data"
    }
   ],
   "source": [
    "fig1, ax1 = plt.subplots()\n",
    "ax1.plot(PEnergy_Dataframe_k10['Number_Particles'],PEnergy_Dataframe_k10['Average_Energy'],label=\"k=10\")\n",
    "ax1.plot(PEnergy_Dataframe_k100['Number_Particles'],PEnergy_Dataframe_k100['Average_Energy'],label=\"k=100\")\n",
    "ax1.plot(PEnergy_Dataframe_k10K['Number_Particles'],PEnergy_Dataframe_k10K['Average_Energy'],label=\"k=10K\")\n",
    "ax1.plot(PE_Expected[\"Number_Particles\"],PE_Expected[\"Expected_Energies\"],label=\"Expected\")\n",
    "plt.ylabel(\"Average Energy\")\n",
    "plt.xlabel(\"Number of Particles\")\n",
    "plt.title(\"Average Energies Plot\")\n",
    "plt.legend(loc=\"upper right\")"
   ]
  },
  {
   "cell_type": "markdown",
   "metadata": {
    "id": "OghtRLxJ5cdT"
   },
   "source": [
    "## Step 7: Fit a curve to the data \n",
    "\n",
    "(**For undergraduates, this section is optional.**)\n",
    "\n",
    "Based on macroscopic arguments, the energy of a cluster could scale with both surface area (via a surface tension) and volume (via an energy density for bulk) of the cluster. So we could model the minimum energy as depending on the cluster size in this way:\n",
    "\\begin{equation}\n",
    "U_{min} \\propto a + b N^{2/3} +cN\n",
    "\\end{equation}\n",
    "\n",
    "Fit this equation to your data in the K=10000 case. You can do this using a least-squares fit, for example using fitting functions within SciPy (`optimize.leastsq`, for example, or similar functions in `scipy.stats`. A fairly dated tutorial is [here](http://www.tau.ac.il/~kineret/amit/scipy_tutorial) (sec 5.4), or see [stack overflow](https://stackoverflow.com/questions/19791581/how-to-use-leastsq-function-from-scipy-optimize-in-python-to-fit-both-a-straight).\n",
    "\n",
    "**Once you perform the fit, plot the difference between the true minimum energy and the expected energy from this equation as a function of N. Can you identify the magic numbers from this curve?**"
   ]
  },
  {
   "cell_type": "code",
   "execution_count": 51,
   "metadata": {
    "id": "Uv-bZgI95cdT",
    "tags": []
   },
   "outputs": [],
   "source": [
    "#Your code here\n",
    "from scipy.optimize import curve_fit\n",
    "def obj_fun(N,a,b,c):\n",
    "    return a + b*N**(2/3) + c*N\n",
    "# fit\n",
    "popt, pcov = curve_fit(obj_fun,PEnergy_Dataframe_k10K['Number_Particles'],PEnergy_Dataframe_k10K['Min_Energy'])"
   ]
  },
  {
   "cell_type": "code",
   "execution_count": 70,
   "metadata": {},
   "outputs": [
    {
     "data": {
      "text/plain": [
       "Text(0.5, 1.0, 'Energy Difference Plot')"
      ]
     },
     "execution_count": 70,
     "metadata": {},
     "output_type": "execute_result"
    },
    {
     "data": {
      "image/png": "[encoded data removed]",
      "text/plain": [
       "<Figure size 432x288 with 1 Axes>"
      ]
     },
     "metadata": {
      "needs_background": "light"
     },
     "output_type": "display_data"
    }
   ],
   "source": [
    "a,b,c = popt\n",
    "PE_fit = obj_fun(PEnergy_Dataframe_k10K['Number_Particles'],a,b,c)\n",
    "PE_fit_df = pd.DataFrame()\n",
    "PE_fit_df[\"Fitted_Energy\"]=PE_fit-PEnergy_Dataframe_k10K['Min_Energy']\n",
    "PE_fit_df[\"Number_Particles\"]=N\n",
    "plt.plot(PE_fit_df[\"Number_Particles\"],PE_fit_df[\"Fitted_Energy\"],)\n",
    "plt.axhline(y=0,color='r')\n",
    "plt.ylabel(\"Difference in Energies\")\n",
    "plt.xlabel(\"Number of Particles\")\n",
    "plt.title(\"Energy Difference Plot\")\n",
    "#plt.legend(loc=\"upper right\")"
   ]
  },
  {
   "cell_type": "markdown",
   "metadata": {
    "id": "WOUVHreK5cdU"
   },
   "source": [
    "## Step 8: Submit your results\n",
    "\n",
    "Submit (via Canvas) your graphs, with axes and curves labeled. Also attach a copy of your Python code (this notebook or, if you prefer, a separate script). Specifically, you should be including:\n",
    "* Your Python code\n",
    "* A graph (or graphs) of minimum and average energies as a function of N for K=100, 1000, and 10000. (Note you can use savefig to save graphs). These can be included in this notebook, or saved separately.\n",
    "* A graph comparing your results for the K=10000 case with the expected results from Leary, as a function of N, overlaid with a fitted curve using the equation above (Step 7); undergrads can omit the fit if desired as this is optional. Provide the parameters determined in your fit.\n",
    "* Give brief discussion of why your results might be higher than those of Leary. Comment on the magic numbers (step 7).  \n",
    "\n",
    "### Please give clear answers to questions given above, ideally in a box below or a separate report\n",
    "\n",
    "Specifically, explain whether you can identify the magic numbers, how you can tell what they are, etc. If you are not certain whether your results are right, explain any reservations you have and why, discuss where you think you might have gone wrong, etc. Basically, be sure to answer all my questions AND give a very brief discussion of your results. The main ways to lose points on this assignment are to:\n",
    "- not finish\n",
    "- submit late\n",
    "- not discuss your results\n",
    "I tend to be generous with partial credit for people whose work is mostly correct/mostly complete."
   ]
  },
  {
   "cell_type": "markdown",
   "metadata": {
    "pycharm": {
     "name": "#%% md\n"
    }
   },
   "source": [
    "### Discussion\n",
    "\n",
    "From the energy expected and the energy calculated using the conjugate gradient method are quite similar however, the energy calculated appears to be slightly highe. From the graph of estimated energy using CG and the expected data from Leary it can be seen that the CG values are slightly higher as the number of particles get larger. This may be because our assumption of equal and opposite forces may be getting violated and we might not be accounting for additional forces acting on the particles. Additionally, we assume that the masses of the particles themselves do not matter and that allows us to equate forces to direction in our CG algorithm, but this is not true as the number of particles increases the masses and volumes of the particles compared to our box is no longer negligible.\n",
    "\n",
    "As far as the magic numbers are concerned, I have shown a horizontal line, in red for the energy difference plot, this shows the N values at which the expected and fitted values calculated were nearly the same. This also shows that for smaller N values the calculations were more or less viable rather than for larger values."
   ]
  },
  {
   "cell_type": "code",
   "execution_count": null,
   "metadata": {},
   "outputs": [],
   "source": []
  }
 ],
 "metadata": {
  "anaconda-cloud": {},
  "colab": {
   "name": "energy_minimization_assignment.ipynb",
   "provenance": []
  },
  "kernelspec": {
   "display_name": "Python [conda env:drug_comp] *",
   "language": "python",
   "name": "conda-env-drug_comp-py"
  },
  "language_info": {
   "codemirror_mode": {
    "name": "ipython",
    "version": 3
   },
   "file_extension": ".py",
   "mimetype": "text/x-python",
   "name": "python",
   "nbconvert_exporter": "python",
   "pygments_lexer": "ipython3",
   "version": "3.9.9"
  },
  "toc": {
   "nav_menu": {},
   "number_sections": true,
   "sideBar": true,
   "skip_h1_title": false,
   "toc_cell": false,
   "toc_position": {},
   "toc_section_display": "block",
   "toc_window_display": false
  }
 },
 "nbformat": 4,
 "nbformat_minor": 4
}