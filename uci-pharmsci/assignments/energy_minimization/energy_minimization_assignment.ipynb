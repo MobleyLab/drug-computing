{
  "cells": [
    {
      "cell_type": "markdown",
      "metadata": {
        "id": "vee3CuctpND3"
      },
      "source": [
        "# Energy Minimization Assignment, PharmSci 175/275\n",
        "##### By David Mobley (UCI), Jan. 2018\n",
        "\n",
        "##### Adapted with permission from an assignment by M. Scott Shell (UCSB)\n",
        "\n",
        "## Overview\n",
        "In this assignment, you will begin with a provided template and several functions, as well as a Fortran library, and add additional code to perform a conjugate-gradient minimization. That is, you will write a conjugate-gradient minimizer. You will then apply this minimize to generate Lennard-Jones clusters with varying numbers of particles, and look at how the energy varies as a function of cluster size.  \n",
        "\n",
        "The Jupyter notebook for this assignment is laid out with action items YOU need to take labeled as Step 1-7. These are interspersed with background information on the problem, some examples, and a sandbox section to tinker with some of the functions. So read on, and watch for the sections which require your action.\n",
        "\n",
        "## What are Lennard-Jones clusters?\n",
        "\n",
        "Clusters are small, stable packings of (often spherical) particles. These particles could be colloidal particles, nanoparticles, etc. There has been considerable work spent studying these clusters over the years, from atomic sizes up to colloidal particles in the nanometer to micrometers scale. Cluster analysis is important to understanding a range of phenomena, including structures of solids, aggregation and precipitation of particles, the structure of nanomaterials, self-assembly behavior of synthetic and biomolecular systems, and diffusion in dense liquids.\n",
        "\n",
        "A cluster can be characterized by the number and type of particles and the energetic interactions between them. Here, we will examine Lennard-Jones (LJ) clusters, which are clusters of simple attractive spherical particles with interactions modeled by the Lennard-Jones interaction. \n",
        "\n",
        "For LJ clusters, there are cluster sizes of unusual stability. These are called magic number clusters and correspond to cluster sizes where the packing of atoms is particularly efficient, leading to very favorable energies and hence exceptional stability. The most stable such clusters are built from an icosahedral arrangement of particles, and the first few such **magic numbers** for cluster sizes of icosahedral geometries are 13, 19, 38, 55, and 75. \n",
        "\n",
        "These clusters are still interesting from a basic physical chemistry point of view, but our interest here is mainly in (a) energy minimization algorithms, and (b) learning how to do non-trivial numerics in Python.\n",
        "\n",
        "## Here, we will energy minimize Lennard-Jones clusters of different sizes\n",
        "\n",
        "Here, we will examine different numbers of particles and attempt to find the minimum energy cluster for each number of particles. Our energy model will use the LJ potential in its dimensionless form (meaning that we have changed units so that all of the constants are hidden in the units). We denote this by putting a star on the potential:\n",
        "\n",
        "\\begin{equation}\n",
        "U^* = \\sum \\limits_{i<j} 4(r_{ij}^{-12} - r_{ij}^{-6})\n",
        "\\end{equation}\n",
        "\n",
        "We will start with a random initial configuration of particles, and try to use an energy minimization algorithm to find the most stable configuration of particles. But when there are more than just a few particles, there will be more than one local minimum, so there is no guarantee the energy minimizer will find the global minimum. In such cases, we will need to minimize from random initial configurations many times in order to ensure we locate the global minimum.\n",
        "There is also the possibility of forming multiple separate clusters separated by a significant difference. This is not unlikely, since the LJ interaction is only very weakly attractive at large distances. So, to ensure we form single clusters, we will use a weak biasing potential to pull all of the particles towards the origin, biasing the system towards forming a single cluster. Otherwise, the LJ potential will tend to be too weak to pull together very distant particles in these tests. We will use a harmonic biasing potential, so that the total potential energy (“force field”) is:\n",
        "\n",
        "\\begin{equation}\n",
        "U^* = \\sum\\limits_i \\alpha |\\mathbf{r}_i|^2 + \\sum \\limits_{i<j} 4(r_{ij}^{-12} - r_{ij}^{-6})\n",
        "\\end{equation}\n",
        "\n",
        "Here we will use $\\alpha = 0.0001 N^{-2/3}$ where $N$ is the number of particles; this will be a very small number. This particular form is selected so that the energy due to this term for a cluster of $N$ particles is, on average, constant regardless of $N$.\n",
        "\n",
        "## Additional details\n",
        "For this assignment, your job is to perform a conjugate-gradient minimization of Lennard-Jones particles which are initially randomly distributed in space. I am providing several items for you:\n",
        "* A Fortran library (emlib) which you can use within Python to calculate energies and forces\n",
        "* A Python library (pos_to_pdb.py) which you can use to output structures to your disk to visualize motion of your particles (for example with PyMol) if you so desire\n",
        "* A template for your assignment (below) in iPython notebook format; this also will be posted on the class website in plain Python format in case my experiment with iPython notebooks fails here. \n",
        " * This template contains some code which will get you started, including code for a line search minimization. \n",
        " * It also contains places for you to write the functions (outlined below) you need to write to complete the assignment.\n",
        "* Here we will be using position and force arrays to represent positions/forces on all of the atoms in the system. Make sure you are [comfortable with that notation](https://github.com/MobleyLab/drug-computing/blob/master/uci-pharmsci/lectures/energy_minimization/energy_minimization.ipynb) before beginning.\n",
        " \n",
        "## A quick (but important) note on Notebook usage:\n",
        "iPython notebooks such as this one often contain a variety of cells containing code. These are normally intended to be run, which you can when you have an individual cell selected, by hitting the button at the top with a 'play' symbol, or by typing shift-enter. If you do NOT do so on each of the cells defining variables/functions which will be used here, then you will encounter an error about undefined variables when you run the later cells. \n",
        " \n",
        "## Your step 1 for the assignment: Start by doing some file bookkeeping:\n",
        " * Find `emlib.f90` and optional utility `pos_to_pdb.py` in this directory.\n",
        " * In the command prompt navigate to that folder and type 'f2py -c -m emlib emlib.f90' which should compile the fortran library for use within python (For more on F2Py, refer to the [f2py documentation](https://docs.scipy.org/doc/numpy-dev/f2py/)). In OS X, this may require you to install the (free) XCode developer tools (available from the Mac App store) and the command-line developer tools first (the latter via `xcode-select --install`). In Linux it should just work. Windows would be a hurdle.\n",
        " * In your command prompt, start theis Jupyter notebook (in OSX this would be something like 'Jupyter notebook 272EnergyMinimization'), which should open it in your web browser; you're running it already unless you are looking at the HTML version of this file.\n",
        " \n",
        "Template Python code for the assignment is provided below. I suggest making a new notebook which is a copy of this one (perhaps containing your name in the filename) and working from there. \n",
        " \n",
        " \n",
        " ## Next, we prep Python for the work:\n",
        " \n",
        " First we import the numpy numerical library we're going to need, as well as the compiled Fortran library emlib"
      ]
    },
    {
      "cell_type": "code",
      "source": [
        "# Run cell if using collab\n",
        "\n",
        "# Import condacolab python library and install condacolab (~5 minutes). \n",
        "# Rerun cell after crashing\n",
        "#!pip install --target=$nb_path -q condacolab\n",
        "#import condacolab\n",
        "#condacolab.install()\n",
        "\n",
        "#check condacolab to ensure that it works\n",
        "#condacolab.check()\n",
        "\n",
        "#other installs\n",
        "#!conda install -c conda-forge nb_conda nglview py3dmol mdtraj --yes\n",
        "!pip install emlib \n",
        "#!conda install -c anaconda scipy numpy --yes\n",
        "#!conda install -c openeye openeye-toolkits --yes\n",
        "\n",
        "# Mount google drive to Colab Notebooks to access files\n",
        "from google.colab import drive\n",
        "drive.mount('/content/drive', force_remount = True)\n",
        "\n",
        "# Move into directory \n",
        "%cd /content/drive/MyDrive/drug-computing/uci-pharmsci/assignments/energy_minimization"
      ],
      "metadata": {
        "id": "4KCrygpzpRq8"
      },
      "execution_count": null,
      "outputs": []
    },
    {
      "cell_type": "code",
      "execution_count": 2,
      "metadata": {
        "collapsed": true,
        "id": "EbsYjNWrpNEB"
      },
      "outputs": [],
      "source": [
        "import numpy as np\n",
        "import emlib\n",
        "from pos_to_pdb import * \n",
        "#This would allow you to export coordinates if you want, later"
      ]
    },
    {
      "cell_type": "markdown",
      "metadata": {
        "id": "DzKoSjKkpNEC"
      },
      "source": [
        "## Important technical note: Unit masses, etc.\n",
        "\n",
        "Note that all of the following code will assume unit atomic masses, such that forces and accelerations are equal -- that is, instead of $F=ma$ we write $F=a$ assuming that $m=1$. We also drop most constants. This is a relatively common trick in physics when you are interested only in seeing how the basic equations work, and not in quantitative comparison with experimental numbers. It can be called using \"dimensionless units\". "
      ]
    },
    {
      "cell_type": "markdown",
      "metadata": {
        "id": "qHuJju1LpNED"
      },
      "source": [
        "## Then we define the LineSearch function:"
      ]
    },
    {
      "cell_type": "markdown",
      "metadata": {
        "id": "KJL_FW3MpNED"
      },
      "source": [
        "Here is the `LineSearch` function which is provided for you. Read the prototype (definition) and documentation to understand what it needs and what it will do (note that you do NOT need to read all the code):"
      ]
    },
    {
      "cell_type": "code",
      "execution_count": 3,
      "metadata": {
        "id": "i7J-sXXbpNEE"
      },
      "outputs": [],
      "source": [
        "def LineSearch(Pos, Dir, dx, EFracTol, Accel = 1.5, MaxInc = 10.,\n",
        "               MaxIter = 10000):\n",
        "    \"\"\"Performs a line search along direction Dir.\n",
        "    Input:\n",
        "       Pos: starting positions, (N,3) array\n",
        "       Dir: (N,3) array of gradient direction\n",
        "       dx: initial step amount, a float\n",
        "       EFracTol: fractional energy tolerance\n",
        "       Accel: acceleration factor\n",
        "       MaxInc: the maximum increase in energy for bracketing\n",
        "       MaxIter: maximum number of iteration steps\n",
        "Output:\n",
        "       PEnergy: value of potential energy at minimum along Dir\n",
        "       PosMin: minimum energy (N,3) position array along Dir\n",
        "\"\"\"\n",
        "    #start the iteration counter\n",
        "    Iter = 0\n",
        "\n",
        "    #find the normalized direction\n",
        "    NormDir = Dir / np.sqrt(np.sum(Dir * Dir))\n",
        "\n",
        "    #take the first two steps and compute energies\n",
        "    Dists = [0., dx]\n",
        "    PEs = [emlib.calcenergy(Pos + NormDir * x) for x in Dists]\n",
        "\n",
        "    #if the second point is not downhill in energy, back\n",
        "    #off and take a shorter step until we find one\n",
        "    while PEs[1] > PEs[0]:\n",
        "        Iter += 1\n",
        "        dx = dx * 0.5\n",
        "        Dists[1] = dx\n",
        "        PEs[1] = emlib.calcenergy(Pos + NormDir * dx)\n",
        "\n",
        "    #find a third point\n",
        "    Dists.append( 2. * dx )\n",
        "    PEs.append( emlib.calcenergy(Pos + NormDir * 2. * dx) )\n",
        "\n",
        "    #keep stepping forward until the third point is higher\n",
        "    #in energy; then we have bracketed a minimum\n",
        "    while PEs[2] < PEs[1]:\n",
        "        Iter += 1\n",
        "\n",
        "        #find a fourth point and evaluate energy\n",
        "        Dists.append( Dists[-1] + dx )\n",
        "        PEs.append( emlib.calcenergy(Pos + NormDir * Dists[-1]) )\n",
        "\n",
        "        #check if we increased too much in energy; if so, back off\n",
        "        if (PEs[3] - PEs[0]) > MaxInc * (PEs[0] - PEs[2]):\n",
        "            PEs = PEs[:3]\n",
        "            Dists = Dists[:3]\n",
        "            dx = dx * 0.5\n",
        "        else:\n",
        "            #shift all of the points over\n",
        "            PEs = PEs[-3:]\n",
        "            Dists = Dists[-3:]\n",
        "            dx = dx * Accel    \n",
        "                \n",
        "    #we've bracketed a minimum; now we want to find it to high\n",
        "    #accuracy\n",
        "    OldPE3 = 1.e300\n",
        "    while True:\n",
        "        Iter += 1\n",
        "        if Iter > MaxIter:\n",
        "            print(\"Warning: maximum number of iterations reached in line search.\")\n",
        "            break\n",
        "\n",
        "        #store distances for ease of code-reading\n",
        "        d0, d1, d2 = Dists\n",
        "        PE0, PE1, PE2 = PEs\n",
        "\n",
        "        #use a parobolic approximation to estimate the location\n",
        "        #of the minimum\n",
        "        d10 = d0 - d1\n",
        "        d12 = d2 - d1\n",
        "        Num = d12*d12*(PE0-PE1) - d10*d10*(PE2-PE1)\n",
        "        Dem = d12*(PE0-PE1) - d10*(PE2-PE1)\n",
        "        if Dem == 0:\n",
        "            #parabolic extrapolation won't work; set new dist = 0\n",
        "            d3 = 0\n",
        "        else:\n",
        "            #location of parabolic minimum\n",
        "            d3 = d1 + 0.5 * Num / Dem\n",
        "\n",
        "        #compute the new potential energy\n",
        "        PE3 = emlib.calcenergy(Pos + NormDir * d3)\n",
        "\n",
        "        #sometimes the parabolic approximation can fail;\n",
        "        #check if d3 is out of range < d0 or > d2 or the new energy is higher\n",
        "        if d3 < d0 or d3 > d2 or PE3 > PE0 or PE3 > PE1 or PE3 > PE2:\n",
        "            #instead, just compute the new distance by bisecting two\n",
        "            #of the existing points along the line search\n",
        "            if abs(d2 - d1) > abs(d0 - d1):\n",
        "                d3 = 0.5 * (d2 + d1)\n",
        "            else:\n",
        "                d3 = 0.5 * (d0 + d1)\n",
        "            PE3 = emlib.calcenergy(Pos + NormDir * d3)\n",
        "\n",
        "        #decide which three points to keep; we want to keep\n",
        "        #the three that are closest to the minimum\n",
        "        if d3 < d1:\n",
        "            if PE3 < PE1:\n",
        "                #get rid of point 2\n",
        "                Dists, PEs = [d0, d3, d1], [PE0, PE3, PE1]\n",
        "            else:\n",
        "                #get rid of point 0\n",
        "                Dists, PEs = [d3, d1, d2], [PE3, PE1, PE2]\n",
        "        else:\n",
        "            if PE3 < PE1:\n",
        "                #get rid of point 0\n",
        "                Dists, PEs = [d1, d3, d2], [PE1, PE3, PE2]\n",
        "            else:\n",
        "                #get rid of point 2\n",
        "                Dists, PEs = [d0, d1, d3], [PE0, PE1, PE3]\n",
        "\n",
        "        #check how much we've changed\n",
        "        if abs(OldPE3 - PE3) < EFracTol * abs(PE3):\n",
        "            #the fractional change is less than the tolerance,\n",
        "            #so we are done and can exit the loop\n",
        "            break\n",
        "        OldPE3 = PE3\n",
        "\n",
        "    #return the position array at the minimum (point 1)\n",
        "    PosMin = Pos + NormDir * Dists[1]\n",
        "    PEMin = PEs[1]\n",
        "\n",
        "    return PEMin, PosMin"
      ]
    },
    {
      "cell_type": "markdown",
      "metadata": {
        "id": "62SWn8Z8pNEF"
      },
      "source": [
        "## Step 2: Write a function to assign random initial positions to your atoms\n",
        "\n",
        "We need a function that can randomly place N atoms in a box with sides of length L. Write a function based on a tool from the numpy 'random' module to do this. Some hints are in order:\n",
        "\n",
        "* NumPy contains a ‘random’ module which is good for obtaining random numbers and/or arrays. For example, if you have imported numpy as np, then np.random.random(shape) returns a random array with the specified shape (i.e. ‘np.random.random(3)’ would be a 3x1 array) with elements randomly selected between 0 to 1. Try this out: "
      ]
    },
    {
      "cell_type": "code",
      "execution_count": 4,
      "metadata": {
        "id": "WxHiv8wEpNEG",
        "colab": {
          "base_uri": "https://localhost:8080/"
        },
        "outputId": "b17b6f57-4983-4b6b-ea85-c3b563543288"
      },
      "outputs": [
        {
          "output_type": "stream",
          "name": "stdout",
          "text": [
            "a=\n",
            " [0.02856741 0.05772524 0.93436708]\n",
            "b=\n",
            " [[0.97914562 0.54823413 0.37962706]\n",
            " [0.27729272 0.25168129 0.17951113]]\n"
          ]
        }
      ],
      "source": [
        "a = np.random.random(3)\n",
        "print(\"a=\\n\",a)\n",
        "b = np.random.random((2,3))\n",
        "print(\"b=\\n\",b)"
      ]
    },
    {
      "cell_type": "markdown",
      "metadata": {
        "id": "pvbXRvXRpNEH"
      },
      "source": [
        "* Note that in your function, you want the numbers to run from 0 to L. You might try out what happens if you multiply 'a' and 'b' in the code above by some number.\n",
        "\n",
        "Now, write your function. I've written the doc string and some comments for you, but you have to fill in its inner workings:"
      ]
    },
    {
      "cell_type": "code",
      "execution_count": 5,
      "metadata": {
        "collapsed": true,
        "id": "Mq2y_kDVpNEI"
      },
      "outputs": [],
      "source": [
        "def InitPositions(N, L):\n",
        "    \"\"\"Returns an array of initial positions of each atom,\n",
        "placed randomly within a box of dimensions L.\n",
        "Input:\n",
        "    N: number of atoms\n",
        "    L: box width\n",
        "Output:\n",
        "    Pos: (N,3) array of positions\n",
        "\"\"\"\n",
        "    #### WRITE YOUR CODE HERE ####\n",
        "    ## In my code, I can accomplish this function in 1 line \n",
        "    ## using a numpy function.\n",
        "    ## Yours can be longer if you want. It's more important that it be right than that it be short.\n",
        "    \n",
        "    return Pos"
      ]
    },
    {
      "cell_type": "markdown",
      "metadata": {
        "id": "haaj2GEMpNEJ"
      },
      "source": [
        "## Step 3: Write the Conjugate Gradient function described below\n",
        "\n",
        "Fill in code for the ConjugateGradient function below based on the discussion in class and below, supplemented by your reading of Leach's book (and other online sources if needed). Some additional guidance and hints are warranted first.\n",
        "\n",
        "### Hints for ConjugateGradient:\n",
        "* As discussed/demonstrated above, a LineSearch function is already provided for you here\n",
        "* You will need to remember that our force and position arrays give the force/position of all of the atoms in the system (x, y, and z components) as [introduced previously](https://github.com/MobleyLab/drug-computing/blob/master/uci-pharmsci/lectures/energy_minimization/energy_minimization.ipynb). \n",
        "* Keep careful track of which quantities you expect to be vectors/arrays versus scalars. You may wish to check that quantities are what you expect they are.\n",
        "* You are going to want to keep doing line searches until the energy stops changing. Write a loop to do this, and store your evaluated energies as you go.\n",
        "* A fortran library, `emlib`, is provided for you to calculate energies and forces. You should be able to ask for 'help(emlib)' for info on usage. You can also look directly at the Fortran code if you would like, though this may be less helpful.\n",
        "* You can get the potential energy and forces using the provided library using functions from emlib. For example, if `Pos` is an array of positions: \n",
        "\n",
        "   `PEnergy, Forces = emlib.calcenergyforces(Pos)`\n",
        "   \n",
        "   `Forces = emlib.calcforces( Pos )`\n",
        "* Conjugate gradient does not specify an initial direction. Your initial search should be in the direction of the force. \n",
        "* After the initial line search, subsequent line search directions $i$ should be found using this expression for $v_i$, the direction matrix:\n",
        "\n",
        "   \\begin{equation}\n",
        "   \\mathbf{v}_i^N = \\mathbf{f}_i^N + \\gamma_i \\mathbf{v}_{i-1}^N\n",
        "   \\end{equation}\n",
        "   \n",
        "   where\n",
        "   \n",
        "   \\begin{equation}\n",
        "   \\gamma_i = \\frac{ (\\mathbf{f}_i^N-\\mathbf{f}_{i-1}^N) \\mathbf{f}_i^N}{\\mathbf{f}_{i-1}^N \\mathbf{f}_{i-1}^N}\n",
        "   \\end{equation}\n",
        "   \n",
        "   Note that here, $\\mathbf{f}_i^N$ denotes the force on the particles at step $i$ (and hence it has 3N dimensions - $x$, $y$, and $z$ for each particle) and $\\mathbf{f}_{i-1}^N$ is the force at the last ($i-1$) step, [as discussed previously](https://github.com/MobleyLab/drug-computing/blob/master/uci-pharmsci/lectures/energy_minimization/energy_minimization.ipynb). Note that the forces are a collection of vectors, one vector for the force on each particle. $\\gamma_i$ should be just a number (scalar). Hint: Note that if you have a force array consisting of a set of vectors, the product you want inside the equation for $\\gamma_i$ should be an element-by-element multiplication, not a dot or inner product.  **Be sure to see the helpful tips about how to calculate this which were given in the energy minimization lecture**!\n",
        "   \n",
        "* You want to end up at the point, in your code, where you can obtain the new direction by calculating something like `Dir = newForces + gamma * Dir`\n",
        "* Continue successive line searches in your CG minimization until the fractional change in energy on subsequent searches is less than the tolerance. That is, you'll set it up to use an `EFracTolCG` variable and continue until this criteria is met (where $U_i$ is the potential energy at the present step): \n",
        "\\begin{equation}\n",
        "\\left|U_i-U_{i-1}\\right| < EFracTolCG \\times \\left| U_i\\right|\n",
        "\\end{equation}\n",
        "\n",
        "* To debug your code, you will probably want to initially use `print` statements in the minimization routine to monitor the energy as a function of step to make sure it's doing the right thing!\n",
        "\n",
        "\n",
        "\n",
        "### Now actually write ConjugateGradient:"
      ]
    },
    {
      "cell_type": "code",
      "execution_count": 6,
      "metadata": {
        "collapsed": true,
        "id": "wcl0T39MpNEJ"
      },
      "outputs": [],
      "source": [
        "def ConjugateGradient(Pos, dx, EFracTolLS, EFracTolCG):\n",
        "    \"\"\"Performs a conjugate gradient search.\n",
        "Input:\n",
        "    Pos: starting positions, (N,3) array\n",
        "    dx: initial step amount\n",
        "    EFracTolLS: fractional energy tolerance for line search\n",
        "    EFracTolCG: fractional energy tolerance for conjugate gradient\n",
        "Output:\n",
        "    PEnergy: value of potential energy at minimum\n",
        "    Pos: minimum energy (N,3) position array\n",
        "\"\"\"\n",
        "    #### WRITE YOUR CODE HERE ####\n",
        "    ## In my code, I can accomplish this function in 10 lines ###\n",
        "    \n",
        "    #A return statement you may/will use to finish things off    \n",
        "    return PEnergy, Pos"
      ]
    },
    {
      "cell_type": "markdown",
      "metadata": {
        "id": "wIZw7pqnpNEK"
      },
      "source": [
        "## Step 4: Energy minimize a variety of clusters, storing energies\n",
        "\n",
        "Write code to use the functions you wrote above, plus the emlib module, to energy minimize clusters of various sizes. Loop over clusters from size N=2 to (and including) N=25. For each particle number, do the following:\n",
        "* Perform K (to be specified below in the section on graphing) minimizations, each starting from a different random configuration of particles \n",
        "* Store the K energies to a list \n",
        "* Display the minimum, average, and standard deviation of the minimized energies for the trials. Note standard deviations can be calculated with the numpy.std function (`np.std()`)\n",
        "* After doing this, you'll be tasked with making some plots. \n",
        "\n",
        "Use the following settings:\n",
        "* `dx = 0.001`\n",
        "* `EFracTolCG = 1.0e-10`\n",
        "* `EFracTolLS = 1.0e-8`\n",
        "* And place the particles with L chosen such that the average number density of particles ($N/V$, where $V=L^3$) is $0.001$. That is, for every $N$, solve for $L$ such that $N/L^3 = 0.001$. \n",
        "\n",
        "These are relatively typical settings for this kind of a system. \n",
        "\n",
        "**I suggest you do this first for just one N and K to make sure it works**. Then set up a loop over N and perhaps (if you like) a loop over K as well.  Reserve the large K values until you are absolutely certain it’s working. Note that if the computational time becomes prohibitive (i.e. if it runs more than overnight, or your computer is having difficulties handling the lode) we can migrate your simulations to GreenPlanet. \n",
        "\n",
        "You can easily add visualization of a trajectory by adding, within your ConjugateGradient function’s central loop, a call to the PosToPDB function of the pos_to_pdb module. Assuming you’ve done ‘from pos_to_pdb import *’ you’d add something like: \n",
        "\n",
        "`PosToPDB( Pos, L, ‘mytrajectory.pdb’)`\n",
        "\n",
        "within the loop inside your ConjugateGradient minimizer. This will write out each step of the minimization as a separate frame in a pdb file, which you can download with scp and view in PyMol to see exactly what’s going on. \n",
        "Note that visualization (really, the file I/O and coordinate conversions) will slow things considerably, so I suggest you only do this in one specific case to check out what’s going on, or to troubleshoot if things don't appear to be working. It should also be possible to add interactive visualization via `nglview` here, though I've not done that for you.\n",
        "\n",
        "* Hint: **You MAY want to use Python's pickle module to save out your data at the end of your calculations, since the next step involves plotting your data and you may want to easily be able to read it back in**. At the very least - whether you save it to disk or not - you'll want to store it (specifically, the minimum and average energies at each N) to variables for later reuse. If you had the variable `energies` containing all of the energies obtained at K = 10000 you might dump this using:"
      ]
    },
    {
      "cell_type": "code",
      "source": [
        "%ls"
      ],
      "metadata": {
        "id": "GzTEV9b6rvho",
        "colab": {
          "base_uri": "https://localhost:8080/"
        },
        "outputId": "3f055833-c004-44b1-8771-9dcdce23e154"
      },
      "execution_count": 7,
      "outputs": [
        {
          "output_type": "stream",
          "name": "stdout",
          "text": [
            "emlib.f90                             Leary_table.png\n",
            "energies.pickle                       pos_to_pdb.py\n",
            "energy_minimization_assignment.html   \u001b[0m\u001b[01;34m__pycache__\u001b[0m/\n",
            "energy_minimization_assignment.ipynb  README.md\n"
          ]
        }
      ]
    },
    {
      "cell_type": "code",
      "execution_count": 8,
      "metadata": {
        "collapsed": true,
        "id": "7BaMgja7pNEL",
        "colab": {
          "base_uri": "https://localhost:8080/",
          "height": 246
        },
        "outputId": "6161383d-61d5-4336-ebdb-1e70c33ec935"
      },
      "outputs": [
        {
          "output_type": "error",
          "ename": "NameError",
          "evalue": "ignored",
          "traceback": [
            "\u001b[0;31m---------------------------------------------------------------------------\u001b[0m",
            "\u001b[0;31mNameError\u001b[0m                                 Traceback (most recent call last)",
            "\u001b[0;32m<ipython-input-8-d2fbe87efb5d>\u001b[0m in \u001b[0;36m<module>\u001b[0;34m()\u001b[0m\n\u001b[1;32m      1\u001b[0m \u001b[0;32mimport\u001b[0m \u001b[0mpickle\u001b[0m\u001b[0;34m\u001b[0m\u001b[0;34m\u001b[0m\u001b[0m\n\u001b[1;32m      2\u001b[0m \u001b[0mfile\u001b[0m \u001b[0;34m=\u001b[0m \u001b[0mopen\u001b[0m\u001b[0;34m(\u001b[0m\u001b[0;34m'energies.pickle'\u001b[0m\u001b[0;34m,\u001b[0m \u001b[0;34m\"w\"\u001b[0m\u001b[0;34m)\u001b[0m\u001b[0;34m\u001b[0m\u001b[0;34m\u001b[0m\u001b[0m\n\u001b[0;32m----> 3\u001b[0;31m \u001b[0mpickle\u001b[0m\u001b[0;34m.\u001b[0m\u001b[0mdump\u001b[0m\u001b[0;34m(\u001b[0m \u001b[0menergies\u001b[0m\u001b[0;34m,\u001b[0m \u001b[0mfile\u001b[0m\u001b[0;34m)\u001b[0m\u001b[0;34m\u001b[0m\u001b[0;34m\u001b[0m\u001b[0m\n\u001b[0m\u001b[1;32m      4\u001b[0m \u001b[0mfile\u001b[0m\u001b[0;34m.\u001b[0m\u001b[0mclose\u001b[0m\u001b[0;34m(\u001b[0m\u001b[0;34m)\u001b[0m\u001b[0;34m\u001b[0m\u001b[0;34m\u001b[0m\u001b[0m\n\u001b[1;32m      5\u001b[0m \u001b[0;31m#To load again, use:\u001b[0m\u001b[0;34m\u001b[0m\u001b[0;34m\u001b[0m\u001b[0;34m\u001b[0m\u001b[0m\n",
            "\u001b[0;31mNameError\u001b[0m: name 'energies' is not defined"
          ]
        }
      ],
      "source": [
        "import pickle\n",
        "file = open('energies.pickle', \"w\")\n",
        "pickle.dump( energies, file) \n",
        "file.close()\n",
        "#To load again, use:\n",
        "#file = open(\"energies.pickle\", \"r\") \n",
        "#energies = pickle.load(file)\n",
        "#file.close()"
      ]
    },
    {
      "cell_type": "markdown",
      "metadata": {
        "id": "9thCxxM7pNEL"
      },
      "source": [
        "### Write your code here:\n"
      ]
    },
    {
      "cell_type": "code",
      "execution_count": null,
      "metadata": {
        "collapsed": true,
        "id": "bgaAZicqpNEL"
      },
      "outputs": [],
      "source": [
        "#Your energy minimization code here\n",
        "#This will be the longest code you write in this assignment"
      ]
    },
    {
      "cell_type": "markdown",
      "metadata": {
        "id": "hcv98hs8pNEM"
      },
      "source": [
        "## Step 5: Graph your findings"
      ]
    },
    {
      "cell_type": "markdown",
      "metadata": {
        "id": "d834f-PKpNEM"
      },
      "source": [
        "Plot the minimum and average energies as a function of N for each of K=100, 1000, and 10000. The last case may be fairly time consuming (i.e. several hours) and should be done without output of pdb files for visualization (since this can slow it down).\n",
        "\n",
        "Use matplotlib/PyLab to make these plots.\n",
        "\n",
        "**Hint: If your minimizations are proceeding extremely slowly, it may mean you have an error in calculation of gamma**, such that even K=100 or K=10 could take a very long time. Ensure you have implemented the equation for gamma correctly. Even with a correct gamma value, this will take considerable time for the larger N values."
      ]
    },
    {
      "cell_type": "code",
      "execution_count": null,
      "metadata": {
        "collapsed": true,
        "id": "iBZnViXipNEM"
      },
      "outputs": [],
      "source": [
        "#Your code for this here"
      ]
    },
    {
      "cell_type": "markdown",
      "metadata": {
        "id": "eDZBJqnwpNEM"
      },
      "source": [
        "## Step 6: Compare with what's expected\n",
        "\n",
        "Compare your results (your minimum energy at each N value) with the known global minimum energies, via a plot and by commenting on the results. These are from ( Leary, J. Global Optimization 11:35 (1997)). Add this curve to your graph. Why might your results be higher?\n"
      ]
    },
    {
      "cell_type": "code",
      "source": [
        "from IPython.display import Image\n",
        "\n",
        "Image('Leary_table.png',width = 700)"
      ],
      "metadata": {
        "colab": {
          "base_uri": "https://localhost:8080/",
          "height": 256
        },
        "id": "AbaZzsZ1s_9f",
        "outputId": "cdc495b5-e9af-4e7a-93cb-d0fcf6e8895e"
      },
      "execution_count": 11,
      "outputs": [
        {
          "output_type": "execute_result",
          "data": {
            "image/png": "[encoded data removed]",
            "text/plain": [
              "<IPython.core.display.Image object>"
            ]
          },
          "metadata": {
            "image/png": {
              "width": 700
            }
          },
          "execution_count": 11
        }
      ]
    },
    {
      "cell_type": "code",
      "execution_count": null,
      "metadata": {
        "collapsed": true,
        "id": "-tr4LSCjpNEN"
      },
      "outputs": [],
      "source": [
        "#Write code here to add these to your graph"
      ]
    },
    {
      "cell_type": "markdown",
      "metadata": {
        "id": "VE--mr7PpNEN"
      },
      "source": [
        "## Step 7: Fit a curve to the data \n",
        "\n",
        "(**For undergraduates, this section is optional.**)\n",
        "\n",
        "Based on macroscopic arguments, the energy of a cluster could scale with both surface area (via a surface tension) and volume (via an energy density for bulk) of the cluster. So we could model the minimum energy as depending on the cluster size in this way:\n",
        "\\begin{equation}\n",
        "U_{min} \\propto a + b N^{2/3} +cN\n",
        "\\end{equation}\n",
        "\n",
        "Fit this equation to your data in the K=10000 case. You can do this using a least-squares fit, for example using fitting functions within SciPy (`optimize.leastsq`, for example, or similar functions in `scipy.stats`. A fairly dated tutorial is [here](http://www.tau.ac.il/~kineret/amit/scipy_tutorial) (sec 5.4), or see [stack overflow](https://stackoverflow.com/questions/19791581/how-to-use-leastsq-function-from-scipy-optimize-in-python-to-fit-both-a-straight).\n",
        "\n",
        "**Once you perform the fit, plot the difference between the true minimum energy and the expected energy from this equation as a function of N. Can you identify the magic numbers from this curve?**"
      ]
    },
    {
      "cell_type": "code",
      "execution_count": null,
      "metadata": {
        "collapsed": true,
        "id": "b3hTk1v6pNEN"
      },
      "outputs": [],
      "source": [
        "#Your code here"
      ]
    },
    {
      "cell_type": "markdown",
      "metadata": {
        "id": "A4npTypopNEN"
      },
      "source": [
        "## Step 8: Submit your results\n",
        "\n",
        "Submit (via Canvas) your graphs, with axes and curves labeled. Also attach a copy of your Python code (this notebook or, if you prefer, a separate script). Specifically, you should be including:\n",
        "* Your Python code\n",
        "* A graph (or graphs) of minimum and average energies as a function of N for K=100, 1000, and 10000. (Note you can use savefig to save graphs). These can be included in this notebook, or saved separately.\n",
        "* A graph comparing your results for the K=10000 case with the expected results from Leary, as a function of N, overlaid with a fitted curve using the equation above (Step 7); undergrads can omit the fit if desired as this is optional. Provide the parameters determined in your fit.\n",
        "* Give brief discussion of why your results might be higher than those of Leary. Comment on the magic numbers (step 7).  \n",
        "\n",
        "### Please give clear answers to questions given above, ideally in a box below or a separate report\n",
        "\n",
        "Specifically, explain whether you can identify the magic numbers, how you can tell what they are, etc. If you are not certain whether your results are right, explain any reservations you have and why, discuss where you think you might have gone wrong, etc. Basically, be sure to answer all my questions AND give a very brief discussion of your results. The main ways to lose points on this assignment are to:\n",
        "- not finish\n",
        "- submit late\n",
        "- not discuss your results\n",
        "I tend to be generous with partial credit for people whose work is mostly correct/mostly complete."
      ]
    }
  ],
  "metadata": {
    "anaconda-cloud": {},
    "kernelspec": {
      "display_name": "Python (drugcomp)",
      "language": "python",
      "name": "drugcomp"
    },
    "language_info": {
      "codemirror_mode": {
        "name": "ipython",
        "version": 3
      },
      "file_extension": ".py",
      "mimetype": "text/x-python",
      "name": "python",
      "nbconvert_exporter": "python",
      "pygments_lexer": "ipython3",
      "version": "3.7.6"
    },
    "toc": {
      "nav_menu": {},
      "number_sections": true,
      "sideBar": true,
      "skip_h1_title": false,
      "toc_cell": false,
      "toc_position": {},
      "toc_section_display": "block",
      "toc_window_display": false
    },
    "colab": {
      "name": "energy_minimization_assignment.ipynb",
      "provenance": [],
      "collapsed_sections": []
    }
  },
  "nbformat": 4,
  "nbformat_minor": 0
}