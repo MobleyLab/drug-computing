{
  "cells": [
    {
      "cell_type": "markdown",
      "metadata": {
        "id": "view-in-github",
        "colab_type": "text"
      },
      "source": [
        "<a href=\"https://colab.research.google.com/github/aakankschit/drug-computing/blob/master/uci-pharmsci/assignments/3D_structure_shape/3D_structure_shape_assignment_colab.ipynb\" target=\"_parent\"><img src=\"https://colab.research.google.com/assets/colab-badge.svg\" alt=\"Open In Colab\"/></a>"
      ]
    },
    {
      "cell_type": "markdown",
      "metadata": {
        "id": "GH7gVE7WyP0a"
      },
      "source": [
        "# 3D Structure/Shape Assignment\n",
        "\n",
        "## Overview\n",
        "\n",
        "This assignment involves two major parts. It first introduces the OEChem toolkits by having you perform some simple tasks with molecules in two and three dimensions, including generating 3D structures of molecules (much of which you will have already seen in the 3D structure/shape lecture and Jupyter notebook). You will also convert between common file formats and do simple shape overlays as well as visualization of your molecules. Some software installation will be required.\n",
        "\n",
        "In the second major part of this assignment, you will use shape overlays to try and recognize HIV integrase inhibitors from a small library of potential HIV integrase inhibitors.\n",
        "\n",
        "## More detailed overview\n",
        "\n",
        "This assignment works through common tasks for working with small molecules. Specifically, you want to model a molecule, and you need to build 2D and 3D structures of the molecule, save to a particular file format for visualization, and compare it to other molecules. Here, you get to do these for the first time. Many different tool sets do these tasks, but here I’ll introduce you to one particular tool set (from OpenEye software) that works particularly well with Python and is free to academics. You have already seen and used this set of tools in class in the 3D structure/shape Jupyter notebook. This assignment will simply build on that notebook. Especially, Step 0 through Step 3 replicate tasks done in that notebook.\n",
        "\n",
        "\n",
        "After completing these initial tasks, you will then take a small library of potential HIV integrase inhibitors, and use a shape-based search to try and identify active compounds on the basis of shape similarity to known inhibitors."
      ]
    },
    {
      "cell_type": "code",
      "source": [
        ""
      ],
      "metadata": {
        "id": "nvKQIyv-KtW-"
      },
      "execution_count": null,
      "outputs": []
    },
    {
      "cell_type": "markdown",
      "metadata": {
        "id": "okcvdgqHyP0c"
      },
      "source": [
        "# Getting started/warm-up\n",
        "\n",
        "Before getting started, make a copy of this Jupyter notebook to work in and name it something else, such as `Mobley_3D_structure_shape.ipynb` if your last name is Mobley.\n",
        "\n",
        "***If you are running this on Google Colab, please add the installation blocks from the [getting started notebook](https://github.com/MobleyLab/drug-computing/blob/master/uci-pharmsci/Getting_Started.ipynb) or [condacolab](https://github.com/aakankschit/drug-computing/blob/master/uci-pharmsci/Getting_Started_condacolab.ipynb) here and then execute the code below***\n",
        "\n",
        "## Step 0: Install PyMol for visualization\n",
        "\n",
        "We've seen `nglview` already for interactive visualization, but it is not as useful for visualizing things which are neither (a) MD simulations, nor (b) single structures. Specifically, here we will generate multiple structures/conformations, so we need a bit better visualization.\n",
        "\n",
        "In this exercise, we’ll begin looking at and working with molecules in 3D, which means we need a viewer. PyMol is a popular general purpose one we will use extensively in this class. You should obtain the free academic version of PyMol online, but if you have any trouble with that please contact me. Alternate viewers like VMD or Chimera could also be used, but here I'll explain PyMol's usage.\n",
        "\n",
        "## Step 1: Build 2D structures of some molecules\n",
        "\n",
        "The first step is to build some molecules to work with. You might need to do this because your boss or research adviser asks you to model certain molecules, or you might come across some 2D structures of molecules in a research paper you would like to model. In any case, for whatever reason, you have a list of molecules to model, and you need to start by building their structures.\n",
        "\n",
        "Let’s start by building 2D structures. If you already have commercial or favorite software for this, like ChemDraw, feel free to use that. If not, I recommend Marvin, which is free, as noted in the 3D structure/shape lecture. You can use it [within your browser](https://marvinjs-demo.chemaxon.com/latest/); you may need to install a free Java plugin to do so) or [download it](https://www.chemaxon.com/products/marvin/marvinsketch/) and install it on your computer (http://www.chemaxon.com/download/marvin/for-end-users/). I normally use the desktop version. \n",
        "\n",
        "In Marvin, draw some structures of molecules (if you have some molecules you’re interested in because of another class or research, you should do them, otherwise just pick some) and save them to your computer (from the file->save as menu) as MDL SDF files, one at a time. \n",
        "\n",
        "Drawing them should produce something like this:\n",
        "![image](https://raw.githubusercontent.com/MobleyLab/drug-computing/master/uci-pharmsci/lectures/3D_structure_shape/Marvin_molecule.png)\n",
        "\n",
        "Use the buttons at the bottom to create pre-formed rings; the tools at right can be used to select specific bond types or stereochemistry, and the buttons at right can be used to introduce elements other than carbon.\n",
        "\n",
        "You should select at least 5-10 molecules to build, of your choice. Try to include some which are relatively similar to one another (i.e. differing only by a functional group, for example) and some which are not.\n",
        "\tOnce your molecules are built, I suggest loading them (or at least one) in PyMol (open PyMol, then go to File->Open, then select your file) and having a quick look. You should see something like the below, though obviously details will depend on your platform (OS X, Linux, Windows) and what you’ve named your molecules. I suggest clicking the “show” button (S, as indicated by the red arrow) and choosing the “sticks” representation so you can see your molecule more clearly. Try clicking it and dragging to rotate -- notice how the molecule is completely planar (two dimensional) right now, even though it shouldn’t be. If you would like, you can choose Display -> Show Valences to show bond types. Experiment with using S to show other representations (such as surface) if you like, and use H to hide representations you’re done with.\n",
        "    \n",
        "![pymol](https://github.com/MobleyLab/drug-computing/blob/master/uci-pharmsci/assignments/3D_structure_shape/pymol.png?raw=1)"
      ]
    },
    {
      "cell_type": "markdown",
      "metadata": {
        "id": "VReZXLoCyP0d"
      },
      "source": [
        "## Step 2: Building 3D structures of molecules\n",
        "\n",
        "In the next step, you will want to build 3D structures of your molecules. I have provided some example Python code for this (and for other tasks) in the [`3D_Structure_shape.ipynb`](https://github.com/MobleyLab/drug-computing/blob/master/uci-pharmsci/lectures/3D_structure_shape/3D_Structure_Shape.ipynb) notebook we used in the relevant lecture.  \n",
        "\n",
        "### First, do this for just one molecule\n",
        "\n",
        "**Put some code in the box just below to read in one of the molecules you drew and saved from the SDF file, generate a 3D conformation, and write it out to a mol2 file**, drawing on the examples from the lecture."
      ]
    },
    {
      "cell_type": "code",
      "execution_count": null,
      "metadata": {
        "collapsed": true,
        "id": "M8ij6GIkyP0e"
      },
      "outputs": [],
      "source": [
        ""
      ]
    },
    {
      "cell_type": "markdown",
      "metadata": {
        "id": "hNFQ_DNgyP0e"
      },
      "source": [
        "### But we're going to want to do this for many molecules, so write some functions\n",
        "\n",
        "Here let's write functions to read molecules, write molecules, and generate conformations; we'll call the last one `expandConformations` because it could be used on a molecule which already has one conformation in order to generate many conformations, as well.\n",
        "\n",
        "We'll make these functions so you can easily reuse them on many molecules.\n",
        "\n",
        "I've written the documentation strings for you in the code below; your job is to fill in the inner workings and then make sure they work\n",
        "\n",
        "#### Write your functions here"
      ]
    },
    {
      "cell_type": "code",
      "execution_count": null,
      "metadata": {
        "collapsed": true,
        "id": "PlVLdvb0yP0e"
      },
      "outputs": [],
      "source": [
        "def readMolecule( inputfile ):\n",
        "    \"\"\"Take specified input molecule file with an OEChem supported molecular file format. Read a molecule from the file and return it as an OEChem OEMol molecule.\"\"\"\n",
        "\n",
        "    #Insert your code (as seen in the example) here to read the input file 'inputfile'\n",
        "\n",
        "    return oemol #Replace oemol with the name of your molecule object\n",
        "\n",
        "\n",
        "def writeMolecule( oemol, outputfile):\n",
        "    \"\"\"Write a provided oemol to specified output file using an OEChem supported file format, as determined by the file extension (such as .mol2 or .sdf).\n",
        "Arguments:\n",
        "- oemol: OEMol molecule to write\n",
        "- outputfile: File to write to.\n",
        "Returns: Nothing\"\"\"\n",
        "\n",
        "    #Insert your code (as seen in the example) here to write an output file\n",
        "\n",
        "def expandConformations( oemol, maxconfs = 100, strictStereo = True ):\n",
        "    \"\"\"Take a provided OEMol molecule, and use OpenEye's Omega to generate multiple conformations of the molecule, which are then returned in a new OEMol molecule.\n",
        "Arguments:\n",
        "- oemol: Provided molecule to generate conformations for\n",
        "- maxconfs: Optional argument (default 100) specifying the maximum number of conformations to generate. Specify 1 to get just a single conformation.\n",
        "- strictStereo: Optional argument specifying whether (True) or not (False) to use strict stereochemistry checking for Omega. Default: True.\n",
        "Returns:\n",
        "- expanded_oemol: OEMol containing the generated conformations.\"\"\"\n",
        "\n",
        "    #Write your code here (as seen in the example)\n",
        "    return expanded_oemol"
      ]
    },
    {
      "cell_type": "markdown",
      "metadata": {
        "id": "v8CSBG-VyP0f"
      },
      "source": [
        "#### You probably want to test your functions now\n",
        "You should probably use the box below to make sure you can read in one of the molecules you created, generate conformations, and write it back out again. If you've written your functions properly, this code should just work!"
      ]
    },
    {
      "cell_type": "code",
      "execution_count": null,
      "metadata": {
        "id": "MeNOf2gqyP0g",
        "outputId": "3664b12a-15c6-49a9-936d-3c0499698bf1"
      },
      "outputs": [
        {
          "ename": "NameError",
          "evalue": "name 'readMolecule' is not defined",
          "output_type": "error",
          "traceback": [
            "\u001b[0;31m---------------------------------------------------------------------------\u001b[0m",
            "\u001b[0;31mNameError\u001b[0m                                 Traceback (most recent call last)",
            "\u001b[0;32m<ipython-input-3-c70605b3adf9>\u001b[0m in \u001b[0;36m<module>\u001b[0;34m()\u001b[0m\n\u001b[1;32m      1\u001b[0m \u001b[0minputfile\u001b[0m \u001b[0;34m=\u001b[0m \u001b[0;34m'test.sdf'\u001b[0m \u001b[0;31m# A test molecule I provided\u001b[0m\u001b[0;34m\u001b[0m\u001b[0m\n\u001b[1;32m      2\u001b[0m \u001b[0;34m\u001b[0m\u001b[0m\n\u001b[0;32m----> 3\u001b[0;31m \u001b[0mmol\u001b[0m \u001b[0;34m=\u001b[0m \u001b[0mreadMolecule\u001b[0m\u001b[0;34m(\u001b[0m\u001b[0minputfile\u001b[0m\u001b[0;34m)\u001b[0m\u001b[0;34m\u001b[0m\u001b[0m\n\u001b[0m\u001b[1;32m      4\u001b[0m \u001b[0mexpandedmol\u001b[0m \u001b[0;34m=\u001b[0m \u001b[0mexpandConformations\u001b[0m\u001b[0;34m(\u001b[0m \u001b[0mmol\u001b[0m \u001b[0;34m)\u001b[0m\u001b[0;34m\u001b[0m\u001b[0m\n\u001b[1;32m      5\u001b[0m \u001b[0mwriteMolecule\u001b[0m\u001b[0;34m(\u001b[0m\u001b[0;34m'test.mol2'\u001b[0m\u001b[0;34m)\u001b[0m \u001b[0;31m#Write out to a mol2 file\u001b[0m\u001b[0;34m\u001b[0m\u001b[0m\n",
            "\u001b[0;31mNameError\u001b[0m: name 'readMolecule' is not defined"
          ]
        }
      ],
      "source": [
        "inputfile = 'test.sdf' # A test molecule I provided\n",
        "\n",
        "mol = readMolecule(inputfile)\n",
        "expandedmol = expandConformations( mol ) \n",
        "writeMolecule('test.mol2') #Write out to a mol2 file"
      ]
    },
    {
      "cell_type": "markdown",
      "metadata": {
        "id": "OSAaPq5gyP0g"
      },
      "source": [
        "Now you should probably check with PyMol that `test.mol2` has a molecule with a 3D conformer in it, or add visualization in this notebook using `nglview` to check."
      ]
    },
    {
      "cell_type": "markdown",
      "metadata": {
        "id": "09Q1EVHryP0h"
      },
      "source": [
        "## Step 3: Shape overlay your molecules\n",
        "\n",
        "### Get ready\n",
        "Next, we want to do a shape overlay of your molecules so we can see how structurally similar they are. This is a common task in drug discovery, as we noted in class, and often can be used in several ways, such as finding out about the likely shape of a binding site based on the molecules which bind there, or finding new molecules which may fit a binding site while being chemically distinct from existing molecules based on their shape. \n",
        "\n",
        "Here, our goal will be to take your entire set of molecules and overlay them onto a common reference structure. Here's an example which does a shape (+color, where color basically measures chemical similarity) overlay for a pair of molecules; this is rather likewhat you saw in the 3D structure/shape lecture: "
      ]
    },
    {
      "cell_type": "code",
      "execution_count": null,
      "metadata": {
        "id": "phAZaasmyP0h",
        "outputId": "9787e511-50c6-402a-c5ab-763ef47d07e5"
      },
      "outputs": [
        {
          "name": "stdout",
          "output_type": "stream",
          "text": [
            "title: naproxen_13  tanimoto combo = 1.47\n",
            "title: naproxen_0  tanimoto combo = 1.47\n",
            "title: naproxen_16  tanimoto combo = 1.47\n",
            "title: naproxen_12  tanimoto combo = 1.47\n",
            "title: naproxen_1  tanimoto combo = 1.47\n",
            "title: naproxen_8  tanimoto combo = 1.47\n",
            "title: naproxen_4  tanimoto combo = 1.47\n",
            "title: naproxen_5  tanimoto combo = 1.47\n",
            "title: naproxen_9  tanimoto combo = 1.46\n",
            "title: naproxen_17  tanimoto combo = 1.46\n"
          ]
        }
      ],
      "source": [
        "from openeye.oechem import *\n",
        "from openeye.oeomega import *\n",
        "from openeye.oeiupac import *\n",
        "from openeye.oeshape import *\n",
        "\n",
        "omega = OEOmega() #Initialize class\n",
        "omega.SetMaxConfs(100) #Here we want to use more conformers if needed\n",
        "omega.SetStrictStereo(False) #Set to false to pick random stereoisomer if stereochemistry is not specified\n",
        "\n",
        "# Make some molecules\n",
        "ibuprofen = OEMol()\n",
        "naproxen = OEMol()\n",
        "OEParseIUPACName(ibuprofen, 'ibuprofen')\n",
        "OEParseIUPACName(naproxen, 'naproxen')\n",
        "\n",
        "#Set up reference molecule\n",
        "refmol = ibuprofen\n",
        "omega(refmol)\n",
        "\n",
        "#Fit molecule\n",
        "fitmol = naproxen\n",
        "omega(fitmol)\n",
        "fitmol.SetTitle('naproxen')\n",
        "\n",
        "# Open output stream for output molecule\n",
        "outfs = oemolostream('fitted_output.mol2')\n",
        "# How many conformers will we generate for fitting?\n",
        "nconfs = 10\n",
        "\n",
        "# Setup ROCS to provide specified number of conformers per hit\n",
        "options = OEROCSOptions()\n",
        "options.SetNumBestHits(nconfs)\n",
        "options.SetConfsPerHit(nconfs)\n",
        "rocs = OEROCS(options)\n",
        "rocs.AddMolecule(fitmol) #Add our molecule as the one we are fitting\n",
        "\n",
        "# Loop over results and output\n",
        "for res in rocs.Overlay(refmol):\n",
        "    outmol = res.GetOverlayConfs() #Use GetOverlayConf to get just the best; GetOverlayConfs for all\n",
        "    OERemoveColorAtoms(outmol)\n",
        "    OEAddExplicitHydrogens(outmol)\n",
        "    OEWriteMolecule(outfs, outmol)\n",
        "    print(\"title: %s  tanimoto combo = %.2f\" % (outmol.GetTitle(), res.GetTanimotoCombo()))\n",
        "outfs.close()\n",
        "\n",
        "# If you wanted, you could also print just the \"color\" similarity:\n",
        "#print(res.GetColorTanimoto())\n",
        "# Or just the shape similarity:\n",
        "#print(res.GetShapeTanimoto())"
      ]
    },
    {
      "cell_type": "markdown",
      "metadata": {
        "id": "owfnNbolyP0h"
      },
      "source": [
        "### Make a function to do this\n",
        "\n",
        "Again, we'd be better off with a function to do this (and we'll use this function also below in the ligand-based design portion of the assignment, below). So, edit the code below and complete the `fitMoleculeToReference` function. The idea of this function is to take two molecules and compare them based on shape. The code here is a little complicated (which is why I’ve written similar code for you) and the only things you should have to change are the variable names and the indentation. What this ultimately will do is take two molecules, overlay them in a number of different ways, and then return (give back to the user) the actual overlays of the molecules, sorted from best to worst, and the “Tanimoto” scores of the overlays in the same order. Tanimoto scores are scores running from 0 to 1 and essentially measure similarity, where 0 means totally dissimilar and 1 means totally identical. Here, we are actually combining TWO Tanimoto scores (a ‘shape’ Tanimoto score and a ‘color’ (Chemistry) tanimoto score) so our overall Tanimoto score runs from 0 to 2.\n",
        "\n",
        "Once you think you’ve got your `fitMoleculeToReference` function working, test it on a specific pair of molecules, then use `writeMolecule` (as above) to write out the reference molecule and the fitted molecule (to .mol2 or .sdf format) and view them in PyMol (after downloading to your computer) to ensure it’s working.\n",
        "\n",
        "When you have the function working, then set up a loop over all of your molecules except your chosen reference molecule, ‘molecule1’, to overlay all of the molecules onto it. Before the loop, set up a list to store the best score for each pair of molecules. Inside the loop, fit each molecule onto the reference and then store the resulting fits to files (being careful not to overwrite any of your existing files). Also store the best score to the list of scores. Also have your program print out the scores. Visualize in PyMol the resulting overlays, and note which ones seem good, which ones seem bad, and which ones seem OK. Note whether these observations seem consistent with the scores (Tanimoto scores) you’re getting or not.\n",
        "\n",
        "For this portion of the assignment, you should submit your reference molecule’s structure (.mol2 or .sdf) as well as the structure of the best overlay you found, with its score. You should also include a sentence or more explaining what you found in this step in your e-mail."
      ]
    },
    {
      "cell_type": "code",
      "execution_count": null,
      "metadata": {
        "collapsed": true,
        "id": "e9Avnr34yP0i"
      },
      "outputs": [],
      "source": [
        "def fitMoleculeToReference( refmol, fitmol, ShapeColor = True):\n",
        "    \"\"\"Take a multi-conformation molecule to be fitted, and fit it onto a reference molecule using shape overlays.\n",
        "Arguments:\n",
        "- refmol: Reference molecule to fit onto\n",
        "- fitmol: Molecule to fit onto the reference molecule; should be multiple-conformation\n",
        "- ShapeColor: Optional argument specifying whether to score overlays based on shape alone (False) or to score based on both shape and color fit (True); in the latter case scores will run from 0 to 2 while in the former they will run from 0 to 1. Default: True.\n",
        "Returns:\n",
        "- fitted: The fitted conformations, ordered by score from best to worst\n",
        "- tanimotos: Tanimoto scores of the fitted conformations.\"\"\"\n",
        "\n",
        "    #Write your code here, as seen in the example\n",
        "\n",
        "    return (fitted, tanimotos)"
      ]
    },
    {
      "cell_type": "markdown",
      "metadata": {
        "id": "Eb-WugN9yP0i"
      },
      "source": [
        "## Step 4: Ligand-based design\n",
        "\n",
        "Your next step involves a simple application of this shape overlay technique to a real problem. You will take an existing ligand -- an HIV-1 integrase inhibitor -- from a structure the protein data bank (PDB) and compare this to a set of molecules which were tested experimentally for possible HIV integrase inhibition. The idea is to see whether the molecules which actually are HIV integrase inhibitors are among those which are most shape similar to the known inhibitor. \n",
        "\n",
        "Here, our exact plan is to take an existing list of 600-700 compounds which were tested for their ability to inhibit HIV-1 integrase. The 3NF8 structure in the PDB gives the crystal structure of one integrase inhibitor from this series bound to HIV-1 integrase. We will use the ligand from that structure as a query, or reference molecule, to see if it easily allows us to recognize other molecules which are likely to bind from our larger set of 600-700 compounds. This somewhat echoes the SAMPL4 HIV integrase challenge reported in [this paper]( http://link.springer.com/article/10.1007/s10822-014-9723-5), though the set of inactive compounds has been expanded somewhat by addition of a portion of the Maybridge fragment library which was also tested experimentally.\n",
        "\n",
        "You will find several supporting files in this directory to help with this part of the assignment:\n",
        "- `actual_w_maybridge.txt`: List of compounds actually tested\n",
        "- `3NF8_ligand.pdb`: To simplify your life, I downloaded the 3NF8 structure and extracted the ligand of interest from it to serve as your reference molecule.\n",
        "- `final_clean_binders.txt`: “Answers” — a text file which can be parsed (by code provided below) into a list of names of binders, which can be used to check your results.\n",
        "Here is what you should do to complete the assignment, starting from the code provided below and the functions you wrote for in Steps 1-3 above:\n",
        "\n",
        "- Set up a loop over the molecules in the set\n",
        "- For every molecule, generate a 3D conformation with your `expandConformations` function, using `strictStereo` set to False (a few molecules have unspecified stereochemistry, and setting this to false here will cause OEChem to pick a random stereoisomer in such cases, which is acceptable in this test)\n",
        "- Use your `fitMolToReference` function to overlay your molecule/conformations onto the reference molecule. Do this twice (getting back two different sets of output) — once with ShapeColor = False and once with it True, so we can compare and find out which works better here.\n",
        "- Store your scores (I store them to a dictionary keyed by molecule name) in a way which allows you to track which molecules they correspond to. \n",
        "- Sort your molecule names by score (for each of the two sets of scores you have). I give an example of how to sort below.\n",
        "- Compare your list of molecule names sorted by score with the list of actual binders (see code below) and identify where you find the actual binders. What you want to track at this stage is how many binders you find at or before each *rank* (entry number) in the list of sorted scores. For example, if there are 60 binders distributed across 650 molecules, you might find the first binder at the top of the list, the second binder at entry number 5, and the third binder at entry number 10. For every entry in the sorted list, store the number of binders found — so in this example, your first 10 entries would be `[ 1, 1, 1, 1, 2, 2, 2, 2, 2, 3]`. If this is still confusing, [see here](ranks.md) for a little more about this process.\n",
        "- For each list of number of compounds found by rank (do this twice, once for each of your two sets of scores), convert it to a list of fraction of actual binders found by rank, by dividing each entry by the total number of binders in the set. For example, if you have found one binder and there are 60 in total, the fracion actives found is 1/60.\n",
        "- Plot the fraction of binders found at each rank, versus the rank, for each of your two scoring schemes. This is an \"enrichment plot\".\n",
        "- Also plot what would be expected if you picked compounds to call \"active\" at random. (Hint, in this approach you would expect to find no actives at rank 0, and all of the actives at rank N, with the fraction of actives found increasing linearly in between). This will allow you to determine whether your approach is doing better than random at recognizing likely active compounds."
      ]
    },
    {
      "cell_type": "markdown",
      "metadata": {
        "id": "dO0jj6cUyP0i"
      },
      "source": [
        "### Some code to get you started\n",
        "\n",
        "This shows how to read in the potential ligands, the reference molecule, and the actual binders."
      ]
    },
    {
      "cell_type": "code",
      "execution_count": null,
      "metadata": {
        "collapsed": true,
        "id": "6vjxUWMWyP0i"
      },
      "outputs": [],
      "source": [
        "from openeye.oechem import *\n",
        "from openeye.oeiupac import *\n",
        "from openeye.oequacpac import *\n",
        "import pickle\n",
        "\n",
        "# Load the text file containing all the potential ligands\n",
        "file = open('actual_w_maybridge.txt', 'r')\n",
        "text = file.readlines()\n",
        "file.close()\n",
        "\n",
        "#Generate OEMols for all of the potential ligands in our test set; store them to a dictionary by their compound name.\n",
        "mol_by_name = {}\n",
        "for line in text:\n",
        "    mol = OEMol()\n",
        "    tmp = line.split()\n",
        "    name=tmp[0]\n",
        "    smiles=tmp[1]\n",
        "    parsed = OEParseSmiles(mol, smiles)\n",
        "    if not parsed:\n",
        "        print(\"Warning, could not parse %s, pausing.\" % name)\n",
        "        raw_input()\n",
        "    mol_by_name[name] = mol\n",
        "    \n",
        "#Load reference molecule which we will ultimately overlay onto\n",
        "istream = oemolistream('3NF8_ligand.pdb')\n",
        "refmol = OEMol()\n",
        "OEReadMolecule( istream, refmol)\n",
        "istream.close()\n",
        "\n",
        "#Standardize protonation state and make sure there are explicit hydrogens\n",
        "OE3DToInternalStereo(refmol)\n",
        "OESetNeutralpHModel(refmol)\n",
        "OEAddExplicitHydrogens(refmol)\n",
        "\n",
        "\n",
        "#For the purposes of telling how we did, load a list of the names of actual binders\n",
        "#Load actual binders\n",
        "file = open('final_clean_binders.txt', 'r')\n",
        "text = file.readlines()\n",
        "file.close()\n",
        "binders = [ line.split()[0].split('_')[0] for line in text]"
      ]
    },
    {
      "cell_type": "markdown",
      "metadata": {
        "id": "pjTvTVI0yP0j"
      },
      "source": [
        "### Sorting lists"
      ]
    },
    {
      "cell_type": "markdown",
      "metadata": {
        "id": "QgnpjVn-yP0j"
      },
      "source": [
        "I mentioned I would give an example of a sorting a list. If I have scores stored in the dictionary `scores_by_name` and I wanted to make a list of names sorted by scores, I could do it this way: "
      ]
    },
    {
      "cell_type": "code",
      "execution_count": null,
      "metadata": {
        "id": "OYGsIvf9yP0j",
        "outputId": "520f50d8-668a-4532-9f11-c1dbccc834c3"
      },
      "outputs": [
        {
          "name": "stdout",
          "output_type": "stream",
          "text": [
            "['b', 'a', 'c']\n"
          ]
        }
      ],
      "source": [
        "# Make up a dummy dictionary to sort\n",
        "scores_by_name = {'a':32, 'b':11, 'c':43}\n",
        "\n",
        "# Make a list we want to sort\n",
        "names = list(scores_by_name.keys())\n",
        "\n",
        "# Define function for sorting\n",
        "def f(x):\n",
        "    return scores_by_name[x]\n",
        "\n",
        "# Sort, print sorted list\n",
        "sorted_names = sorted( names, key=f )\n",
        "print(sorted_names)"
      ]
    },
    {
      "cell_type": "markdown",
      "metadata": {
        "id": "zepVJxityP0j"
      },
      "source": [
        "In reality you will have molecule names, and be sorting them by Tanimoto score. "
      ]
    },
    {
      "cell_type": "markdown",
      "metadata": {
        "id": "1sId6UnUyP0j"
      },
      "source": [
        "### Write your code here\n",
        "\n",
        "Here, complete your assignment as described above:"
      ]
    },
    {
      "cell_type": "code",
      "execution_count": null,
      "metadata": {
        "collapsed": true,
        "id": "gDREvMFsyP0j"
      },
      "outputs": [],
      "source": [
        ""
      ]
    },
    {
      "cell_type": "markdown",
      "metadata": {
        "id": "PIawEUFMyP0j"
      },
      "source": [
        "## What to submit\n",
        "\n",
        "For this assignment, please submit via the course website:\n",
        "- From step 3, structure files for your reference molecule as well as for the best shape overlay onto that structure, with scores. Also submit a sentence or more describing what you found in this section.\n",
        "- From step 4, Your resulting graph of “enrichment” of actual ligands from the set, with axes and curves labeled, along with this Jupyter notebook which produced it\n",
        "- In a box below, or a separate document, a brief explanation of how you see the performance of the shape overlay approach, in view of the linked paper on the SAMPL4 challenge. Why does it do well, or poorly, in this case? Does ‘color’ scoring in addition to shape help? Why or why not? How does this compare to the “null” models tested in the paper? "
      ]
    }
  ],
  "metadata": {
    "kernelspec": {
      "display_name": "Python 3",
      "language": "python",
      "name": "python3"
    },
    "language_info": {
      "codemirror_mode": {
        "name": "ipython",
        "version": 3
      },
      "file_extension": ".py",
      "mimetype": "text/x-python",
      "name": "python",
      "nbconvert_exporter": "python",
      "pygments_lexer": "ipython3",
      "version": "3.6.4"
    },
    "toc": {
      "nav_menu": {},
      "number_sections": true,
      "sideBar": true,
      "skip_h1_title": false,
      "toc_cell": false,
      "toc_position": {},
      "toc_section_display": "block",
      "toc_window_display": false
    },
    "colab": {
      "name": "3D_structure_shape_assignment.ipynb",
      "provenance": [],
      "include_colab_link": true
    }
  },
  "nbformat": 4,
  "nbformat_minor": 0
}