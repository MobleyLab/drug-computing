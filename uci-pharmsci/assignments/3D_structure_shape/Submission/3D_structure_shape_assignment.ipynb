{
 "cells": [
  {
   "cell_type": "markdown",
   "metadata": {
    "id": "-cfqgSTNynHP"
   },
   "source": [
    "[![Open in Colab](https://colab.research.google.com/assets/colab-badge.svg)](https://colab.research.google.com/github/MobleyLab/drug-computing/blob/master/uci-pharmsci/assignments/3D_structure_shape/3D_structure_shape_assignment.ipynb)"
   ]
  },
  {
   "cell_type": "markdown",
   "metadata": {
    "id": "GH7gVE7WyP0a"
   },
   "source": [
    "# 3D Structure/Shape Assignment\n",
    "\n",
    "### Submission by AK Nandkeolyar\n",
    "\n",
    "## Overview\n",
    "\n",
    "This assignment involves two major parts. It first introduces the OEChem toolkits by having you perform some simple tasks with molecules in two and three dimensions, including generating 3D structures of molecules (much of which you will have already seen in the 3D structure/shape lecture and Jupyter notebook). You will also convert between common file formats and do simple shape overlays as well as visualization of your molecules. Some software installation will be required.\n",
    "\n",
    "In the second major part of this assignment, you will use shape overlays to try and recognize HIV integrase inhibitors from a small library of potential HIV integrase inhibitors.\n",
    "\n",
    "## More detailed overview\n",
    "\n",
    "This assignment works through common tasks for working with small molecules. Specifically, you want to model a molecule, and you need to build 2D and 3D structures of the molecule, save to a particular file format for visualization, and compare it to other molecules. Here, you get to do these for the first time. Many different tool sets do these tasks, but here I’ll introduce you to one particular tool set (from OpenEye software) that works particularly well with Python and is free to academics. You have already seen and used this set of tools in class in the 3D structure/shape Jupyter notebook. This assignment will simply build on that notebook. Especially, Step 0 through Step 3 replicate tasks done in that notebook.\n",
    "\n",
    "\n",
    "After completing these initial tasks, you will then take a small library of potential HIV integrase inhibitors, and use a shape-based search to try and identify active compounds on the basis of shape similarity to known inhibitors."
   ]
  },
  {
   "cell_type": "code",
   "execution_count": 133,
   "metadata": {
    "id": "nvKQIyv-KtW-"
   },
   "outputs": [],
   "source": [
    "from openeye.oechem import *\n",
    "from openeye.oeiupac import *\n",
    "from openeye.oeomega import *\n",
    "from openeye.oeshape import *\n",
    "from openeye.oedepict import *\n",
    "import openeye.oedepict as oedepict\n",
    "import pandas as pd\n",
    "import matplotlib.pyplot as plt\n",
    "import operator\n",
    "import numpy as np\n",
    "from sklearn import metrics"
   ]
  },
  {
   "cell_type": "markdown",
   "metadata": {
    "id": "okcvdgqHyP0c"
   },
   "source": [
    "# Getting started/warm-up\n",
    "\n",
    "Before getting started, make a copy of this Jupyter notebook to work in and name it something else, such as `Mobley_3D_structure_shape.ipynb` if your last name is Mobley.\n",
    "\n",
    "***If you are running this on Google Colab, please add the installation blocks from the [getting started notebook](https://github.com/MobleyLab/drug-computing/blob/master/uci-pharmsci/Getting_Started.ipynb) or [condacolab](https://github.com/aakankschit/drug-computing/blob/master/uci-pharmsci/Getting_Started_condacolab.ipynb) here and then execute the code below***\n",
    "\n",
    "## Step 0: Install PyMol for visualization\n",
    "\n",
    "We've seen `nglview` already for interactive visualization, but it is not as useful for visualizing things which are neither (a) MD simulations, nor (b) single structures. Specifically, here we will generate multiple structures/conformations, so we need a bit better visualization.\n",
    "\n",
    "In this exercise, we’ll begin looking at and working with molecules in 3D, which means we need a viewer. PyMol is a popular general purpose one we will use extensively in this class. You should obtain the free academic version of PyMol online, but if you have any trouble with that please contact me. Alternate viewers like VMD or Chimera could also be used, but here I'll explain PyMol's usage.\n",
    "\n",
    "## Step 1: Build 2D structures of some molecules\n",
    "\n",
    "The first step is to build some molecules to work with. You might need to do this because your boss or research adviser asks you to model certain molecules, or you might come across some 2D structures of molecules in a research paper you would like to model. In any case, for whatever reason, you have a list of molecules to model, and you need to start by building their structures.\n",
    "\n",
    "Let’s start by building 2D structures. If you already have commercial or favorite software for this, like ChemDraw, feel free to use that. If not, I recommend Marvin, which is free, as noted in the 3D structure/shape lecture. You can use it [within your browser](https://marvinjs-demo.chemaxon.com/latest/); you may need to install a free Java plugin to do so) or [download it](https://www.chemaxon.com/products/marvin/marvinsketch/) and install it on your computer (http://www.chemaxon.com/download/marvin/for-end-users/). I normally use the desktop version. \n",
    "\n",
    "In Marvin, draw some structures of molecules (if you have some molecules you’re interested in because of another class or research, you should do them, otherwise just pick some) and save them to your computer (from the file->save as menu) as MDL SDF files, one at a time. \n",
    "\n",
    "Drawing them should produce something like this:\n",
    "![image](https://raw.githubusercontent.com/MobleyLab/drug-computing/master/uci-pharmsci/lectures/3D_structure_shape/Marvin_molecule.png)\n",
    "\n",
    "Use the buttons at the bottom to create pre-formed rings; the tools at right can be used to select specific bond types or stereochemistry, and the buttons at right can be used to introduce elements other than carbon.\n",
    "\n",
    "You should select at least 5-10 molecules to build, of your choice. Try to include some which are relatively similar to one another (i.e. differing only by a functional group, for example) and some which are not.\n",
    "\tOnce your molecules are built, I suggest loading them (or at least one) in PyMol (open PyMol, then go to File->Open, then select your file) and having a quick look. You should see something like the below, though obviously details will depend on your platform (OS X, Linux, Windows) and what you’ve named your molecules. I suggest clicking the “show” button (S, as indicated by the red arrow) and choosing the “sticks” representation so you can see your molecule more clearly. Try clicking it and dragging to rotate -- notice how the molecule is completely planar (two dimensional) right now, even though it shouldn’t be. If you would like, you can choose Display -> Show Valences to show bond types. Experiment with using S to show other representations (such as surface) if you like, and use H to hide representations you’re done with.\n",
    "    \n",
    "![pymol](https://github.com/MobleyLab/drug-computing/blob/master/uci-pharmsci/assignments/3D_structure_shape/pymol.png?raw=1)"
   ]
  },
  {
   "cell_type": "markdown",
   "metadata": {
    "id": "VReZXLoCyP0d"
   },
   "source": [
    "## Step 2: Building 3D structures of molecules\n",
    "\n",
    "In the next step, you will want to build 3D structures of your molecules. I have provided some example Python code for this (and for other tasks) in the [`3D_Structure_shape.ipynb`](https://github.com/MobleyLab/drug-computing/blob/master/uci-pharmsci/lectures/3D_structure_shape/3D_Structure_Shape.ipynb) notebook we used in the relevant lecture.  \n",
    "\n",
    "### First, do this for just one molecule\n",
    "\n",
    "**Put some code in the box just below to read in one of the molecules you drew and saved from the SDF file, generate a 3D conformation, and write it out to a mol2 file**, drawing on the examples from the lecture."
   ]
  },
  {
   "cell_type": "code",
   "execution_count": 1,
   "metadata": {},
   "outputs": [
    {
     "name": "stdout",
     "output_type": "stream",
     "text": [
      "3D_structure_shape_assignment.ipynb docking.ipynb\n",
      "3NF8_ligand.pdb                     final_clean_binders.txt\n",
      "SAMPL8_1.sdf                        fitted_output.mol2\n",
      "SAMPL8_2.sdf                        pymol.png\n",
      "SAMPL8_3.sdf                        ranks.md\n",
      "SAMPL8_6.sdf                        test.mol2\n",
      "actual_w_maybridge.txt              test.sdf\n"
     ]
    }
   ],
   "source": [
    "!ls"
   ]
  },
  {
   "cell_type": "code",
   "execution_count": null,
   "metadata": {
    "collapsed": true,
    "id": "M8ij6GIkyP0e",
    "jupyter": {
     "outputs_hidden": true
    }
   },
   "outputs": [],
   "source": [
    "istream = oemolistream('SAMPL8_1.sdf')\n",
    "mol2 = OEMol()\n",
    "OEReadMolecule(istream,mol2)\n",
    "istream.close()"
   ]
  },
  {
   "cell_type": "markdown",
   "metadata": {
    "id": "hNFQ_DNgyP0e"
   },
   "source": [
    "### But we're going to want to do this for many molecules, so write some functions\n",
    "\n",
    "Here let's write functions to read molecules, write molecules, and generate conformations; we'll call the last one `expandConformations` because it could be used on a molecule which already has one conformation in order to generate many conformations, as well.\n",
    "\n",
    "We'll make these functions so you can easily reuse them on many molecules.\n",
    "\n",
    "I've written the documentation strings for you in the code below; your job is to fill in the inner workings and then make sure they work\n",
    "\n",
    "#### Write your functions here"
   ]
  },
  {
   "cell_type": "code",
   "execution_count": 136,
   "metadata": {
    "id": "PlVLdvb0yP0e",
    "tags": []
   },
   "outputs": [],
   "source": [
    "def readMolecule( inputfile ):\n",
    "    \"\"\"Take specified input molecule file with an OEChem supported molecular file format. Read a molecule from the file and return it as an OEChem OEMol molecule.\"\"\"\n",
    "\n",
    "    #Insert your code (as seen in the example) here to read the input file 'inputfile'\n",
    "    istream = oemolistream(inputfile)\n",
    "    oemol = OEMol()\n",
    "    OEReadMolecule(istream,oemol)\n",
    "    istream.close()\n",
    "\n",
    "    return oemol #Replace oemol with the name of your molecule object\n",
    "\n",
    "\n",
    "def writeMolecule( oemol, outputfile):\n",
    "    ostream = oemolostream(outputfile)\n",
    "    OEWriteMolecule(ostream,oemol)\n",
    "    ostream.close()\n",
    "    \"\"\"Write a provided oemol to specified output file using an OEChem supported file format, as determined by the file extension (such as .mol2 or .sdf).\n",
    "Arguments:\n",
    "- oemol: OEMol molecule to write\n",
    "- outputfile: File to write to.\n",
    "Returns: Nothing\"\"\"\n",
    "\n",
    "    #Insert your code (as seen in the example) here to write an output file\n",
    "\n",
    "def expandConformations( oemol, maxconfs = 100, strictStereo = False ):\n",
    "    omega = OEOmega()\n",
    "    omega.SetMaxConfs(maxconfs)\n",
    "    omega.SetStrictStereo(strictStereo)\n",
    "    expanded_oemol = OEMol(oemol)\n",
    "    omega(expanded_oemol)\n",
    "    \"\"\"Take a provided OEMol molecule, and use OpenEye's Omega to generate multiple conformations of the molecule, which are then returned in a new OEMol molecule.\n",
    "Arguments:\n",
    "- oemol: Provided molecule to generate conformations for\n",
    "- maxconfs: Optional argument (default 100) specifying the maximum number of conformations to generate. Specify 1 to get just a single conformation.\n",
    "- strictStereo: Optional argument specifying whether (True) or not (False) to use strict stereochemistry checking for Omega. Default: True.\n",
    "Returns:\n",
    "- expanded_oemol: OEMol containing the generated conformations.\"\"\"\n",
    "\n",
    "    #Write your code here (as seen in the example)\n",
    "    return expanded_oemol"
   ]
  },
  {
   "cell_type": "markdown",
   "metadata": {
    "id": "v8CSBG-VyP0f"
   },
   "source": [
    "#### You probably want to test your functions now\n",
    "You should probably use the box below to make sure you can read in one of the molecules you created, generate conformations, and write it back out again. If you've written your functions properly, this code should just work!"
   ]
  },
  {
   "cell_type": "code",
   "execution_count": 139,
   "metadata": {
    "id": "MeNOf2gqyP0g",
    "outputId": "3664b12a-15c6-49a9-936d-3c0499698bf1"
   },
   "outputs": [],
   "source": [
    "inputfile = 'test.sdf' # A test molecule I provided\n",
    "\n",
    "mol = readMolecule(inputfile)\n",
    "expandedmol = expandConformations( mol ) \n",
    "writeMolecule(expandedmol,'test.mol2') #Write out to a mol2 file"
   ]
  },
  {
   "cell_type": "code",
   "execution_count": 151,
   "metadata": {},
   "outputs": [
    {
     "data": {
      "application/3dmoljs_load.v0": "<div id=\"3dmolviewer_1643777748268179\"  style=\"position: relative; width: 640px; height: 480px\">\n        <p id=\"3dmolwarning_1643777748268179\" style=\"background-color:#ffcccc;color:black\">You appear to be running in JupyterLab (or JavaScript failed to load for some other reason).  You need to install the 3dmol extension: <br>\n        <tt>jupyter labextension install jupyterlab_3dmol</tt></p>\n        </div>\n<script>\n\nvar loadScriptAsync = function(uri){\n  return new Promise((resolve, reject) => {\n    var tag = document.createElement('script');\n    tag.src = uri;\n    tag.async = true;\n    tag.onload = () => {\n      resolve();\n    };\n  var firstScriptTag = document.getElementsByTagName('script')[0];\n  firstScriptTag.parentNode.insertBefore(tag, firstScriptTag);\n});\n};\n\nif(typeof $3Dmolpromise === 'undefined') {\n$3Dmolpromise = null;\n  $3Dmolpromise = loadScriptAsync('https://3dmol.org/build/3Dmol.js');\n}\n\nvar viewer_1643777748268179 = null;\nvar warn = document.getElementById(\"3dmolwarning_1643777748268179\");\nif(warn) {\n    warn.parentNode.removeChild(warn);\n}\n$3Dmolpromise.then(function() {\nviewer_1643777748268179 = $3Dmol.createViewer($(\"#3dmolviewer_1643777748268179\"),{backgroundColor:\"white\"});\nviewer_1643777748268179.addModel(\"@<TRIPOS>MOLECULE\\n*****\\n   38    40     0     0     0\\nSMALL\\nNO_CHARGES\\n\\n@<TRIPOS>ATOM\\n      1 C1          1.6019   -1.3691    0.4333 C.ar      1 <0>         0.0000\\n      2 C2          2.6922   -2.0687   -0.0817 C.ar      1 <0>         0.0000\\n      3 C3          0.8482   -0.5482   -0.3993 C.ar      1 <0>         0.0000\\n      4 C4          3.0435   -1.9487   -1.4348 C.ar      1 <0>         0.0000\\n      5 C5          2.2694   -1.1405   -2.2857 C.ar      1 <0>         0.0000\\n      6 C6          1.1788   -0.4346   -1.7493 C.ar      1 <0>         0.0000\\n      7 C7          4.2228   -2.7184   -1.9641 C.3       1 <0>         0.0000\\n      8 C8          4.8660   -1.9899   -3.1387 C.3       1 <0>         0.0000\\n      9 C9          1.4561   -1.6132   -4.6243 C.3       1 <0>         0.0000\\n     10 C10         2.1653   -2.4663   -5.6603 C.3       1 <0>         0.0000\\n     11 C11         2.5794   -1.0088   -3.7632 C.3       1 <0>         0.0000\\n     12 C12         3.8651   -1.7109   -4.2602 C.3       1 <0>         0.0000\\n     13 C13         4.9794   -5.6057   -7.1355 C.3       1 <0>         0.0000\\n     14 C14         3.9612   -4.9570   -6.2087 C.3       1 <0>         0.0000\\n     15 C15         4.3261   -3.5230   -5.8442 C.3       1 <0>         0.0000\\n     16 N1          3.3568   -2.9160   -4.9396 N.3       1 <0>         0.0000\\n     17 O1          0.4172    0.3854   -2.5308 O.3       1 <0>         0.0000\\n     18 H1          1.3430   -1.4637    1.4837 H         1 <0>         0.0000\\n     19 H2          3.2725   -2.7061    0.5810 H         1 <0>         0.0000\\n     20 H3          0.0026   -0.0007    0.0083 H         1 <0>         0.0000\\n     21 H4          4.9761   -2.8388   -1.1762 H         1 <0>         0.0000\\n     22 H5          3.8923   -3.7209   -2.2601 H         1 <0>         0.0000\\n     23 H6          5.2755   -1.0320   -2.7896 H         1 <0>         0.0000\\n     24 H7          5.7196   -2.5688   -3.5084 H         1 <0>         0.0000\\n     25 H8          0.8492   -0.8354   -5.1003 H         1 <0>         0.0000\\n     26 H9          0.7813   -2.2441   -4.0314 H         1 <0>         0.0000\\n     27 H10         1.5392   -3.3028   -5.9866 H         1 <0>         0.0000\\n     28 H11         2.4232   -1.8570   -6.5361 H         1 <0>         0.0000\\n     29 H12         2.6812    0.0620   -3.9884 H         1 <0>         0.0000\\n     30 H13         4.3453   -1.0568   -5.0029 H         1 <0>         0.0000\\n     31 H14         5.0749   -5.0421   -8.0691 H         1 <0>         0.0000\\n     32 H15         5.9626   -5.6330   -6.6548 H         1 <0>         0.0000\\n     33 H16         4.6974   -6.6343   -7.3809 H         1 <0>         0.0000\\n     34 H17         3.8964   -5.5504   -5.2893 H         1 <0>         0.0000\\n     35 H18         2.9731   -4.9850   -6.6832 H         1 <0>         0.0000\\n     36 H19         5.2953   -3.5009   -5.3361 H         1 <0>         0.0000\\n     37 H20         4.3941   -2.8914   -6.7355 H         1 <0>         0.0000\\n     38 H21        -0.2840    0.7930   -2.0004 H         1 <0>         0.0000\\n@<TRIPOS>BOND\\n     1    1    2 ar\\n     2    1    3 ar\\n     3    2    4 ar\\n     4    3    6 ar\\n     5    4    5 ar\\n     6    4    7 1\\n     7    5    6 ar\\n     8    5   11 1\\n     9    6   17 1\\n    10    7    8 1\\n    11    8   12 1\\n    12    9   10 1\\n    13    9   11 1\\n    14   10   16 1\\n    15   11   12 1\\n    16   12   16 1\\n    17   13   14 1\\n    18   14   15 1\\n    19   15   16 1\\n    20    1   18 1\\n    21    2   19 1\\n    22    3   20 1\\n    23    7   21 1\\n    24    7   22 1\\n    25    8   23 1\\n    26    8   24 1\\n    27    9   25 1\\n    28    9   26 1\\n    29   10   27 1\\n    30   10   28 1\\n    31   11   29 1\\n    32   12   30 1\\n    33   13   31 1\\n    34   13   32 1\\n    35   13   33 1\\n    36   14   34 1\\n    37   14   35 1\\n    38   15   36 1\\n    39   15   37 1\\n    40   17   38 1\\n@<TRIPOS>MOLECULE\\n*****\\n   38    40     0     0     0\\nSMALL\\nNO_CHARGES\\n\\n@<TRIPOS>ATOM\\n      1 C1          1.6019   -1.3691    0.4333 C.ar      1 <0>         0.0000\\n      2 C2          2.6922   -2.0687   -0.0817 C.ar      1 <0>         0.0000\\n      3 C3          0.8482   -0.5482   -0.3993 C.ar      1 <0>         0.0000\\n      4 C4          3.0435   -1.9487   -1.4348 C.ar      1 <0>         0.0000\\n      5 C5          2.2694   -1.1405   -2.2857 C.ar      1 <0>         0.0000\\n      6 C6          1.1788   -0.4346   -1.7493 C.ar      1 <0>         0.0000\\n      7 C7          4.2228   -2.7184   -1.9641 C.3       1 <0>         0.0000\\n      8 C8          4.8660   -1.9899   -3.1387 C.3       1 <0>         0.0000\\n      9 C9          1.4561   -1.6132   -4.6243 C.3       1 <0>         0.0000\\n     10 C10         2.1653   -2.4663   -5.6603 C.3       1 <0>         0.0000\\n     11 C11         2.5794   -1.0088   -3.7632 C.3       1 <0>         0.0000\\n     12 C12         3.8651   -1.7109   -4.2602 C.3       1 <0>         0.0000\\n     13 C13         3.8617   -5.8661   -4.9920 C.3       1 <0>         0.0000\\n     14 C14         3.9612   -4.9570   -6.2087 C.3       1 <0>         0.0000\\n     15 C15         4.3261   -3.5230   -5.8442 C.3       1 <0>         0.0000\\n     16 N1          3.3568   -2.9160   -4.9396 N.3       1 <0>         0.0000\\n     17 O1          0.4172    0.3854   -2.5308 O.3       1 <0>         0.0000\\n     18 H1          1.3430   -1.4637    1.4837 H         1 <0>         0.0000\\n     19 H2          3.2725   -2.7061    0.5810 H         1 <0>         0.0000\\n     20 H3          0.0026   -0.0007    0.0083 H         1 <0>         0.0000\\n     21 H4          4.9761   -2.8388   -1.1762 H         1 <0>         0.0000\\n     22 H5          3.8923   -3.7209   -2.2601 H         1 <0>         0.0000\\n     23 H6          5.2755   -1.0320   -2.7896 H         1 <0>         0.0000\\n     24 H7          5.7196   -2.5688   -3.5084 H         1 <0>         0.0000\\n     25 H8          0.8492   -0.8354   -5.1003 H         1 <0>         0.0000\\n     26 H9          0.7813   -2.2441   -4.0314 H         1 <0>         0.0000\\n     27 H10         1.5392   -3.3028   -5.9866 H         1 <0>         0.0000\\n     28 H11         2.4232   -1.8570   -6.5361 H         1 <0>         0.0000\\n     29 H12         2.6812    0.0620   -3.9884 H         1 <0>         0.0000\\n     30 H13         4.3453   -1.0568   -5.0029 H         1 <0>         0.0000\\n     31 H14         4.8100   -5.8956   -4.4459 H         1 <0>         0.0000\\n     32 H15         3.0893   -5.4980   -4.3090 H         1 <0>         0.0000\\n     33 H16         3.5966   -6.8885   -5.2783 H         1 <0>         0.0000\\n     34 H17         2.9942   -4.9559   -6.7251 H         1 <0>         0.0000\\n     35 H18         4.7009   -5.3681   -6.9059 H         1 <0>         0.0000\\n     36 H19         5.2953   -3.5009   -5.3361 H         1 <0>         0.0000\\n     37 H20         4.3941   -2.8914   -6.7355 H         1 <0>         0.0000\\n     38 H21        -0.2840    0.7930   -2.0004 H         1 <0>         0.0000\\n@<TRIPOS>BOND\\n     1    1    2 ar\\n     2    1    3 ar\\n     3    2    4 ar\\n     4    3    6 ar\\n     5    4    5 ar\\n     6    4    7 1\\n     7    5    6 ar\\n     8    5   11 1\\n     9    6   17 1\\n    10    7    8 1\\n    11    8   12 1\\n    12    9   10 1\\n    13    9   11 1\\n    14   10   16 1\\n    15   11   12 1\\n    16   12   16 1\\n    17   13   14 1\\n    18   14   15 1\\n    19   15   16 1\\n    20    1   18 1\\n    21    2   19 1\\n    22    3   20 1\\n    23    7   21 1\\n    24    7   22 1\\n    25    8   23 1\\n    26    8   24 1\\n    27    9   25 1\\n    28    9   26 1\\n    29   10   27 1\\n    30   10   28 1\\n    31   11   29 1\\n    32   12   30 1\\n    33   13   31 1\\n    34   13   32 1\\n    35   13   33 1\\n    36   14   34 1\\n    37   14   35 1\\n    38   15   36 1\\n    39   15   37 1\\n    40   17   38 1\\n@<TRIPOS>MOLECULE\\n*****\\n   38    40     0     0     0\\nSMALL\\nNO_CHARGES\\n\\n@<TRIPOS>ATOM\\n      1 C1          1.0995   -1.8479   -0.0614 C.ar      1 <0>         0.0000\\n      2 C2          2.3603   -2.4410   -0.0275 C.ar      1 <0>         0.0000\\n      3 C3          0.9817   -0.4642    0.0189 C.ar      1 <0>         0.0000\\n      4 C4          3.5168   -1.6532    0.0735 C.ar      1 <0>         0.0000\\n      5 C5          3.4033   -0.2537    0.1602 C.ar      1 <0>         0.0000\\n      6 C6          2.1247    0.3271    0.1351 C.ar      1 <0>         0.0000\\n      7 C7          4.8651   -2.3205    0.1348 C.3       1 <0>         0.0000\\n      8 C8          5.9441   -1.4279   -0.4656 C.3       1 <0>         0.0000\\n      9 C9          4.7475    1.7496   -0.6939 C.3       1 <0>         0.0000\\n     10 C10         6.2106    2.1321   -0.5725 C.3       1 <0>         0.0000\\n     11 C11         4.6210    0.6214    0.3293 C.3       1 <0>         0.0000\\n     12 C12         5.9962   -0.0802    0.2578 C.3       1 <0>         0.0000\\n     13 C13        10.5355    1.9166   -0.2293 C.3       1 <0>         0.0000\\n     14 C14         9.1189    1.8340   -0.7800 C.3       1 <0>         0.0000\\n     15 C15         8.2191    0.9205    0.0437 C.3       1 <0>         0.0000\\n     16 N1          6.8725    0.8306   -0.5014 N.3       1 <0>         0.0000\\n     17 O1          1.9625    1.6794    0.2296 O.3       1 <0>         0.0000\\n     18 H1          0.2107   -2.4656   -0.1485 H         1 <0>         0.0000\\n     19 H2          2.4370   -3.5243   -0.0744 H         1 <0>         0.0000\\n     20 H3         -0.0035   -0.0061   -0.0116 H         1 <0>         0.0000\\n     21 H4          5.1303   -2.5327    1.1777 H         1 <0>         0.0000\\n     22 H5          4.8129   -3.2801   -0.3932 H         1 <0>         0.0000\\n     23 H6          6.9166   -1.9161   -0.3645 H         1 <0>         0.0000\\n     24 H7          5.7642   -1.2954   -1.5316 H         1 <0>         0.0000\\n     25 H8          4.0998    2.5878   -0.4604 H         1 <0>         0.0000\\n     26 H9          4.5423    1.4126   -1.7073 H         1 <0>         0.0000\\n     27 H10         6.5436    2.7194   -1.4342 H         1 <0>         0.0000\\n     28 H11         6.3702    2.7227    0.3389 H         1 <0>         0.0000\\n     29 H12         4.5641    1.0685    1.3554 H         1 <0>         0.0000\\n     30 H13         6.3945   -0.2327    1.2475 H         1 <0>         0.0000\\n     31 H14        10.5353    2.2932    0.7986 H         1 <0>         0.0000\\n     32 H15        10.9966    0.9237   -0.2257 H         1 <0>         0.0000\\n     33 H16        11.1624    2.5754   -0.8380 H         1 <0>         0.0000\\n     34 H17         9.1640    1.4538   -1.8072 H         1 <0>         0.0000\\n     35 H18         8.6909    2.8424   -0.8258 H         1 <0>         0.0000\\n     36 H19         8.6274   -0.0949    0.0566 H         1 <0>         0.0000\\n     37 H20         8.1394    1.2689    1.0783 H         1 <0>         0.0000\\n     38 H21         1.0201    1.9037    0.2003 H         1 <0>         0.0000\\n@<TRIPOS>BOND\\n     1    1    2 ar\\n     2    1    3 ar\\n     3    2    4 ar\\n     4    3    6 ar\\n     5    4    5 ar\\n     6    4    7 1\\n     7    5    6 ar\\n     8    5   11 1\\n     9    6   17 1\\n    10    7    8 1\\n    11    8   12 1\\n    12    9   10 1\\n    13    9   11 1\\n    14   10   16 1\\n    15   11   12 1\\n    16   12   16 1\\n    17   13   14 1\\n    18   14   15 1\\n    19   15   16 1\\n    20    1   18 1\\n    21    2   19 1\\n    22    3   20 1\\n    23    7   21 1\\n    24    7   22 1\\n    25    8   23 1\\n    26    8   24 1\\n    27    9   25 1\\n    28    9   26 1\\n    29   10   27 1\\n    30   10   28 1\\n    31   11   29 1\\n    32   12   30 1\\n    33   13   31 1\\n    34   13   32 1\\n    35   13   33 1\\n    36   14   34 1\\n    37   14   35 1\\n    38   15   36 1\\n    39   15   37 1\\n    40   17   38 1\\n@<TRIPOS>MOLECULE\\n*****\\n   38    40     0     0     0\\nSMALL\\nNO_CHARGES\\n\\n@<TRIPOS>ATOM\\n      1 C1          1.2071   -1.7780   -0.1012 C.ar      1 <0>         0.0000\\n      2 C2          2.4964   -2.3030   -0.0247 C.ar      1 <0>         0.0000\\n      3 C3          1.0036   -0.4110    0.0578 C.ar      1 <0>         0.0000\\n      4 C4          3.5981   -1.4640    0.2020 C.ar      1 <0>         0.0000\\n      5 C5          3.3940   -0.0834    0.3754 C.ar      1 <0>         0.0000\\n      6 C6          2.0892    0.4310    0.2969 C.ar      1 <0>         0.0000\\n      7 C7          4.9725   -2.0707    0.3114 C.3       1 <0>         0.0000\\n      8 C8          6.0801   -1.0625    0.0139 C.3       1 <0>         0.0000\\n      9 C9          4.8085    1.8339   -0.5134 C.3       1 <0>         0.0000\\n     10 C10         6.3257    1.9837   -0.5822 C.3       1 <0>         0.0000\\n     11 C11         4.5424    0.8583    0.6429 C.3       1 <0>         0.0000\\n     12 C12         5.9043    0.1899    0.8855 C.3       1 <0>         0.0000\\n     13 C13        10.1982   -0.1184    1.7093 C.3       1 <0>         0.0000\\n     14 C14         8.7184    0.2312    1.7782 C.3       1 <0>         0.0000\\n     15 C15         8.2259    0.9565    0.5317 C.3       1 <0>         0.0000\\n     16 N1          6.8184    1.3049    0.6142 N.3       1 <0>         0.0000\\n     17 O1          1.8456    1.7642    0.4579 O.3       1 <0>         0.0000\\n     18 H1          0.3626   -2.4364   -0.2826 H         1 <0>         0.0000\\n     19 H2          2.6382   -3.3753   -0.1376 H         1 <0>         0.0000\\n     20 H3         -0.0028   -0.0064   -0.0078 H         1 <0>         0.0000\\n     21 H4          5.1277   -2.4636    1.3299 H         1 <0>         0.0000\\n     22 H5          5.0371   -2.9326   -0.3729 H         1 <0>         0.0000\\n     23 H6          7.0478   -1.5097    0.2391 H         1 <0>         0.0000\\n     24 H7          6.0764   -0.8089   -1.0418 H         1 <0>         0.0000\\n     25 H8          4.3268    2.8046   -0.3459 H         1 <0>         0.0000\\n     26 H9          4.4406    1.4452   -1.4731 H         1 <0>         0.0000\\n     27 H10         6.7258    1.5374   -1.5075 H         1 <0>         0.0000\\n     28 H11         6.5931    3.0562   -0.5857 H         1 <0>         0.0000\\n     29 H12         4.2987    1.4285    1.5588 H         1 <0>         0.0000\\n     30 H13         5.9623   -0.0918    1.9355 H         1 <0>         0.0000\\n     31 H14        10.4097   -0.7609    0.8487 H         1 <0>         0.0000\\n     32 H15        10.7960    0.7929    1.6063 H         1 <0>         0.0000\\n     33 H16        10.5286   -0.6356    2.6154 H         1 <0>         0.0000\\n     34 H17         8.5504    0.8731    2.6508 H         1 <0>         0.0000\\n     35 H18         8.1384   -0.6862    1.9338 H         1 <0>         0.0000\\n     36 H19         8.7795    1.8913    0.3990 H         1 <0>         0.0000\\n     37 H20         8.3681    0.3459   -0.3656 H         1 <0>         0.0000\\n     38 H21         0.8961    1.9405    0.3775 H         1 <0>         0.0000\\n@<TRIPOS>BOND\\n     1    1    2 ar\\n     2    1    3 ar\\n     3    2    4 ar\\n     4    3    6 ar\\n     5    4    5 ar\\n     6    4    7 1\\n     7    5    6 ar\\n     8    5   11 1\\n     9    6   17 1\\n    10    7    8 1\\n    11    8   12 1\\n    12    9   10 1\\n    13    9   11 1\\n    14   10   16 1\\n    15   11   12 1\\n    16   12   16 1\\n    17   13   14 1\\n    18   14   15 1\\n    19   15   16 1\\n    20    1   18 1\\n    21    2   19 1\\n    22    3   20 1\\n    23    7   21 1\\n    24    7   22 1\\n    25    8   23 1\\n    26    8   24 1\\n    27    9   25 1\\n    28    9   26 1\\n    29   10   27 1\\n    30   10   28 1\\n    31   11   29 1\\n    32   12   30 1\\n    33   13   31 1\\n    34   13   32 1\\n    35   13   33 1\\n    36   14   34 1\\n    37   14   35 1\\n    38   15   36 1\\n    39   15   37 1\\n    40   17   38 1\\n@<TRIPOS>MOLECULE\\n*****\\n   38    40     0     0     0\\nSMALL\\nNO_CHARGES\\n\\n@<TRIPOS>ATOM\\n      1 C1          1.0995   -1.8479   -0.0614 C.ar      1 <0>         0.0000\\n      2 C2          2.3603   -2.4410   -0.0275 C.ar      1 <0>         0.0000\\n      3 C3          0.9817   -0.4642    0.0189 C.ar      1 <0>         0.0000\\n      4 C4          3.5168   -1.6532    0.0735 C.ar      1 <0>         0.0000\\n      5 C5          3.4033   -0.2537    0.1602 C.ar      1 <0>         0.0000\\n      6 C6          2.1247    0.3271    0.1351 C.ar      1 <0>         0.0000\\n      7 C7          4.8651   -2.3205    0.1348 C.3       1 <0>         0.0000\\n      8 C8          5.9441   -1.4279   -0.4656 C.3       1 <0>         0.0000\\n      9 C9          4.7475    1.7496   -0.6939 C.3       1 <0>         0.0000\\n     10 C10         6.2106    2.1321   -0.5725 C.3       1 <0>         0.0000\\n     11 C11         4.6210    0.6214    0.3293 C.3       1 <0>         0.0000\\n     12 C12         5.9962   -0.0802    0.2578 C.3       1 <0>         0.0000\\n     13 C13         9.2561    1.3768   -2.2253 C.3       1 <0>         0.0000\\n     14 C14         9.1189    1.8340   -0.7800 C.3       1 <0>         0.0000\\n     15 C15         8.2191    0.9205    0.0437 C.3       1 <0>         0.0000\\n     16 N1          6.8725    0.8306   -0.5014 N.3       1 <0>         0.0000\\n     17 O1          1.9625    1.6794    0.2296 O.3       1 <0>         0.0000\\n     18 H1          0.2107   -2.4656   -0.1485 H         1 <0>         0.0000\\n     19 H2          2.4370   -3.5243   -0.0744 H         1 <0>         0.0000\\n     20 H3         -0.0035   -0.0061   -0.0116 H         1 <0>         0.0000\\n     21 H4          5.1303   -2.5327    1.1777 H         1 <0>         0.0000\\n     22 H5          4.8129   -3.2801   -0.3932 H         1 <0>         0.0000\\n     23 H6          6.9166   -1.9161   -0.3645 H         1 <0>         0.0000\\n     24 H7          5.7642   -1.2954   -1.5316 H         1 <0>         0.0000\\n     25 H8          4.0998    2.5878   -0.4604 H         1 <0>         0.0000\\n     26 H9          4.5423    1.4126   -1.7073 H         1 <0>         0.0000\\n     27 H10         6.5436    2.7194   -1.4342 H         1 <0>         0.0000\\n     28 H11         6.3702    2.7227    0.3389 H         1 <0>         0.0000\\n     29 H12         4.5641    1.0685    1.3554 H         1 <0>         0.0000\\n     30 H13         6.3945   -0.2327    1.2475 H         1 <0>         0.0000\\n     31 H14         9.6738    0.3664   -2.2791 H         1 <0>         0.0000\\n     32 H15         8.2751    1.3636   -2.7109 H         1 <0>         0.0000\\n     33 H16         9.9040    2.0487   -2.7966 H         1 <0>         0.0000\\n     34 H17         8.6987    2.8464   -0.7713 H         1 <0>         0.0000\\n     35 H18        10.1146    1.8919   -0.3245 H         1 <0>         0.0000\\n     36 H19         8.6274   -0.0949    0.0566 H         1 <0>         0.0000\\n     37 H20         8.1394    1.2689    1.0783 H         1 <0>         0.0000\\n     38 H21         1.0201    1.9037    0.2003 H         1 <0>         0.0000\\n@<TRIPOS>BOND\\n     1    1    2 ar\\n     2    1    3 ar\\n     3    2    4 ar\\n     4    3    6 ar\\n     5    4    5 ar\\n     6    4    7 1\\n     7    5    6 ar\\n     8    5   11 1\\n     9    6   17 1\\n    10    7    8 1\\n    11    8   12 1\\n    12    9   10 1\\n    13    9   11 1\\n    14   10   16 1\\n    15   11   12 1\\n    16   12   16 1\\n    17   13   14 1\\n    18   14   15 1\\n    19   15   16 1\\n    20    1   18 1\\n    21    2   19 1\\n    22    3   20 1\\n    23    7   21 1\\n    24    7   22 1\\n    25    8   23 1\\n    26    8   24 1\\n    27    9   25 1\\n    28    9   26 1\\n    29   10   27 1\\n    30   10   28 1\\n    31   11   29 1\\n    32   12   30 1\\n    33   13   31 1\\n    34   13   32 1\\n    35   13   33 1\\n    36   14   34 1\\n    37   14   35 1\\n    38   15   36 1\\n    39   15   37 1\\n    40   17   38 1\\n@<TRIPOS>MOLECULE\\n*****\\n   38    40     0     0     0\\nSMALL\\nNO_CHARGES\\n\\n@<TRIPOS>ATOM\\n      1 C1          1.2071   -1.7780   -0.1012 C.ar      1 <0>         0.0000\\n      2 C2          2.4964   -2.3030   -0.0247 C.ar      1 <0>         0.0000\\n      3 C3          1.0036   -0.4110    0.0578 C.ar      1 <0>         0.0000\\n      4 C4          3.5981   -1.4640    0.2020 C.ar      1 <0>         0.0000\\n      5 C5          3.3940   -0.0834    0.3754 C.ar      1 <0>         0.0000\\n      6 C6          2.0892    0.4310    0.2969 C.ar      1 <0>         0.0000\\n      7 C7          4.9725   -2.0707    0.3114 C.3       1 <0>         0.0000\\n      8 C8          6.0801   -1.0625    0.0139 C.3       1 <0>         0.0000\\n      9 C9          4.8085    1.8339   -0.5134 C.3       1 <0>         0.0000\\n     10 C10         6.3257    1.9837   -0.5822 C.3       1 <0>         0.0000\\n     11 C11         4.5424    0.8583    0.6429 C.3       1 <0>         0.0000\\n     12 C12         5.9043    0.1899    0.8855 C.3       1 <0>         0.0000\\n     13 C13         8.9306    2.6711    2.2625 C.3       1 <0>         0.0000\\n     14 C14         9.1357    2.1363    0.8523 C.3       1 <0>         0.0000\\n     15 C15         8.2259    0.9565    0.5317 C.3       1 <0>         0.0000\\n     16 N1          6.8184    1.3049    0.6142 N.3       1 <0>         0.0000\\n     17 O1          1.8456    1.7642    0.4579 O.3       1 <0>         0.0000\\n     18 H1          0.3626   -2.4364   -0.2826 H         1 <0>         0.0000\\n     19 H2          2.6382   -3.3753   -0.1376 H         1 <0>         0.0000\\n     20 H3         -0.0028   -0.0064   -0.0078 H         1 <0>         0.0000\\n     21 H4          5.1277   -2.4636    1.3299 H         1 <0>         0.0000\\n     22 H5          5.0371   -2.9326   -0.3729 H         1 <0>         0.0000\\n     23 H6          7.0478   -1.5097    0.2391 H         1 <0>         0.0000\\n     24 H7          6.0764   -0.8089   -1.0418 H         1 <0>         0.0000\\n     25 H8          4.3268    2.8046   -0.3459 H         1 <0>         0.0000\\n     26 H9          4.4406    1.4452   -1.4731 H         1 <0>         0.0000\\n     27 H10         6.7258    1.5374   -1.5075 H         1 <0>         0.0000\\n     28 H11         6.5931    3.0562   -0.5857 H         1 <0>         0.0000\\n     29 H12         4.2987    1.4285    1.5588 H         1 <0>         0.0000\\n     30 H13         5.9623   -0.0918    1.9355 H         1 <0>         0.0000\\n     31 H14         7.8974    3.0014    2.4102 H         1 <0>         0.0000\\n     32 H15         9.1435    1.8877    2.9970 H         1 <0>         0.0000\\n     33 H16         9.5956    3.5150    2.4699 H         1 <0>         0.0000\\n     34 H17        10.1792    1.8175    0.7469 H         1 <0>         0.0000\\n     35 H18         8.9696    2.9463    0.1322 H         1 <0>         0.0000\\n     36 H19         8.4099    0.6084   -0.4896 H         1 <0>         0.0000\\n     37 H20         8.4047    0.1197    1.2142 H         1 <0>         0.0000\\n     38 H21         0.8961    1.9405    0.3775 H         1 <0>         0.0000\\n@<TRIPOS>BOND\\n     1    1    2 ar\\n     2    1    3 ar\\n     3    2    4 ar\\n     4    3    6 ar\\n     5    4    5 ar\\n     6    4    7 1\\n     7    5    6 ar\\n     8    5   11 1\\n     9    6   17 1\\n    10    7    8 1\\n    11    8   12 1\\n    12    9   10 1\\n    13    9   11 1\\n    14   10   16 1\\n    15   11   12 1\\n    16   12   16 1\\n    17   13   14 1\\n    18   14   15 1\\n    19   15   16 1\\n    20    1   18 1\\n    21    2   19 1\\n    22    3   20 1\\n    23    7   21 1\\n    24    7   22 1\\n    25    8   23 1\\n    26    8   24 1\\n    27    9   25 1\\n    28    9   26 1\\n    29   10   27 1\\n    30   10   28 1\\n    31   11   29 1\\n    32   12   30 1\\n    33   13   31 1\\n    34   13   32 1\\n    35   13   33 1\\n    36   14   34 1\\n    37   14   35 1\\n    38   15   36 1\\n    39   15   37 1\\n    40   17   38 1\\n@<TRIPOS>MOLECULE\\n*****\\n   38    40     0     0     0\\nSMALL\\nNO_CHARGES\\n\\n@<TRIPOS>ATOM\\n      1 C1          1.2071   -1.7780   -0.1012 C.ar      1 <0>         0.0000\\n      2 C2          2.4964   -2.3030   -0.0247 C.ar      1 <0>         0.0000\\n      3 C3          1.0036   -0.4110    0.0578 C.ar      1 <0>         0.0000\\n      4 C4          3.5981   -1.4640    0.2020 C.ar      1 <0>         0.0000\\n      5 C5          3.3940   -0.0834    0.3754 C.ar      1 <0>         0.0000\\n      6 C6          2.0892    0.4310    0.2969 C.ar      1 <0>         0.0000\\n      7 C7          4.9725   -2.0707    0.3114 C.3       1 <0>         0.0000\\n      8 C8          6.0801   -1.0625    0.0139 C.3       1 <0>         0.0000\\n      9 C9          4.8085    1.8339   -0.5134 C.3       1 <0>         0.0000\\n     10 C10         6.3257    1.9837   -0.5822 C.3       1 <0>         0.0000\\n     11 C11         4.5424    0.8583    0.6429 C.3       1 <0>         0.0000\\n     12 C12         5.9043    0.1899    0.8855 C.3       1 <0>         0.0000\\n     13 C13         8.5397    1.0537    3.0465 C.3       1 <0>         0.0000\\n     14 C14         8.7184    0.2312    1.7782 C.3       1 <0>         0.0000\\n     15 C15         8.2259    0.9565    0.5317 C.3       1 <0>         0.0000\\n     16 N1          6.8184    1.3049    0.6142 N.3       1 <0>         0.0000\\n     17 O1          1.8456    1.7642    0.4579 O.3       1 <0>         0.0000\\n     18 H1          0.3626   -2.4364   -0.2826 H         1 <0>         0.0000\\n     19 H2          2.6382   -3.3753   -0.1376 H         1 <0>         0.0000\\n     20 H3         -0.0028   -0.0064   -0.0078 H         1 <0>         0.0000\\n     21 H4          5.1277   -2.4636    1.3299 H         1 <0>         0.0000\\n     22 H5          5.0371   -2.9326   -0.3729 H         1 <0>         0.0000\\n     23 H6          7.0478   -1.5097    0.2391 H         1 <0>         0.0000\\n     24 H7          6.0764   -0.8089   -1.0418 H         1 <0>         0.0000\\n     25 H8          4.3268    2.8046   -0.3459 H         1 <0>         0.0000\\n     26 H9          4.4406    1.4452   -1.4731 H         1 <0>         0.0000\\n     27 H10         6.7258    1.5374   -1.5075 H         1 <0>         0.0000\\n     28 H11         6.5931    3.0562   -0.5857 H         1 <0>         0.0000\\n     29 H12         4.2987    1.4285    1.5588 H         1 <0>         0.0000\\n     30 H13         5.9623   -0.0918    1.9355 H         1 <0>         0.0000\\n     31 H14         9.0838    2.0012    2.9794 H         1 <0>         0.0000\\n     32 H15         7.4803    1.2822    3.2010 H         1 <0>         0.0000\\n     33 H16         8.8978    0.5119    3.9272 H         1 <0>         0.0000\\n     34 H17         8.1597   -0.7056    1.8867 H         1 <0>         0.0000\\n     35 H18         9.7766   -0.0331    1.6665 H         1 <0>         0.0000\\n     36 H19         8.7795    1.8913    0.3990 H         1 <0>         0.0000\\n     37 H20         8.3681    0.3459   -0.3656 H         1 <0>         0.0000\\n     38 H21         0.8961    1.9405    0.3775 H         1 <0>         0.0000\\n@<TRIPOS>BOND\\n     1    1    2 ar\\n     2    1    3 ar\\n     3    2    4 ar\\n     4    3    6 ar\\n     5    4    5 ar\\n     6    4    7 1\\n     7    5    6 ar\\n     8    5   11 1\\n     9    6   17 1\\n    10    7    8 1\\n    11    8   12 1\\n    12    9   10 1\\n    13    9   11 1\\n    14   10   16 1\\n    15   11   12 1\\n    16   12   16 1\\n    17   13   14 1\\n    18   14   15 1\\n    19   15   16 1\\n    20    1   18 1\\n    21    2   19 1\\n    22    3   20 1\\n    23    7   21 1\\n    24    7   22 1\\n    25    8   23 1\\n    26    8   24 1\\n    27    9   25 1\\n    28    9   26 1\\n    29   10   27 1\\n    30   10   28 1\\n    31   11   29 1\\n    32   12   30 1\\n    33   13   31 1\\n    34   13   32 1\\n    35   13   33 1\\n    36   14   34 1\\n    37   14   35 1\\n    38   15   36 1\\n    39   15   37 1\\n    40   17   38 1\\n@<TRIPOS>MOLECULE\\n*****\\n   38    40     0     0     0\\nSMALL\\nNO_CHARGES\\n\\n@<TRIPOS>ATOM\\n      1 C1          0.9721   -1.9182   -0.0660 C.ar      1 <0>         0.0000\\n      2 C2          2.1900   -2.5961   -0.0350 C.ar      1 <0>         0.0000\\n      3 C3          0.9477   -0.5299    0.0221 C.ar      1 <0>         0.0000\\n      4 C4          3.3985   -1.8912    0.0739 C.ar      1 <0>         0.0000\\n      5 C5          3.3761   -0.4879    0.1755 C.ar      1 <0>         0.0000\\n      6 C6          2.1411    0.1808    0.1447 C.ar      1 <0>         0.0000\\n      7 C7          4.6933   -2.6600    0.1345 C.3       1 <0>         0.0000\\n      8 C8          5.8879   -1.8126   -0.2951 C.3       1 <0>         0.0000\\n      9 C9          4.9511    1.1953   -0.8975 C.3       1 <0>         0.0000\\n     10 C10         6.4626    1.1232   -1.0935 C.3       1 <0>         0.0000\\n     11 C11         4.6457    0.3166    0.3192 C.3       1 <0>         0.0000\\n     12 C12         5.9250   -0.5071    0.5112 C.3       1 <0>         0.0000\\n     13 C13         9.9313    0.8113    0.5775 C.3       1 <0>         0.0000\\n     14 C14         8.8509    1.8654    0.7736 C.3       1 <0>         0.0000\\n     15 C15         7.4885    1.2606    1.0903 C.3       1 <0>         0.0000\\n     16 N1          7.0188    0.3609    0.0351 N.3       1 <0>         0.0000\\n     17 O1          2.0728    1.5406    0.2400 O.3       1 <0>         0.0000\\n     18 H1          0.0435   -2.4740   -0.1568 H         1 <0>         0.0000\\n     19 H2          2.1921   -3.6822   -0.0907 H         1 <0>         0.0000\\n     20 H3         -0.0042   -0.0065   -0.0076 H         1 <0>         0.0000\\n     21 H4          4.8709   -3.0119    1.1631 H         1 <0>         0.0000\\n     22 H5          4.6046   -3.5573   -0.4980 H         1 <0>         0.0000\\n     23 H6          6.8092   -2.3631   -0.1084 H         1 <0>         0.0000\\n     24 H7          5.8371   -1.6139   -1.3610 H         1 <0>         0.0000\\n     25 H8          4.6267    2.2331   -0.7443 H         1 <0>         0.0000\\n     26 H9          4.4526    0.8295   -1.8078 H         1 <0>         0.0000\\n     27 H10         6.7144    0.6505   -2.0694 H         1 <0>         0.0000\\n     28 H11         6.8835    2.1556   -1.1314 H         1 <0>         0.0000\\n     29 H12         4.5361    0.9508    1.2186 H         1 <0>         0.0000\\n     30 H13         6.0651   -0.7460    1.5521 H         1 <0>         0.0000\\n     31 H14        10.0447    0.1944    1.4746 H         1 <0>         0.0000\\n     32 H15         9.6671    0.1517   -0.2554 H         1 <0>         0.0000\\n     33 H16        10.8987    1.2690    0.3491 H         1 <0>         0.0000\\n     34 H17         8.7700    2.4589   -0.1445 H         1 <0>         0.0000\\n     35 H18         9.1553    2.5483    1.5756 H         1 <0>         0.0000\\n     36 H19         7.5452    0.6716    2.0111 H         1 <0>         0.0000\\n     37 H20         6.7310    2.0384    1.2295 H         1 <0>         0.0000\\n     38 H21         1.1485    1.8300    0.2063 H         1 <0>         0.0000\\n@<TRIPOS>BOND\\n     1    1    2 ar\\n     2    1    3 ar\\n     3    2    4 ar\\n     4    3    6 ar\\n     5    4    5 ar\\n     6    4    7 1\\n     7    5    6 ar\\n     8    5   11 1\\n     9    6   17 1\\n    10    7    8 1\\n    11    8   12 1\\n    12    9   10 1\\n    13    9   11 1\\n    14   10   16 1\\n    15   11   12 1\\n    16   12   16 1\\n    17   13   14 1\\n    18   14   15 1\\n    19   15   16 1\\n    20    1   18 1\\n    21    2   19 1\\n    22    3   20 1\\n    23    7   21 1\\n    24    7   22 1\\n    25    8   23 1\\n    26    8   24 1\\n    27    9   25 1\\n    28    9   26 1\\n    29   10   27 1\\n    30   10   28 1\\n    31   11   29 1\\n    32   12   30 1\\n    33   13   31 1\\n    34   13   32 1\\n    35   13   33 1\\n    36   14   34 1\\n    37   14   35 1\\n    38   15   36 1\\n    39   15   37 1\\n    40   17   38 1\\n@<TRIPOS>MOLECULE\\n*****\\n   38    40     0     0     0\\nSMALL\\nNO_CHARGES\\n\\n@<TRIPOS>ATOM\\n      1 C1          1.0995   -1.8479   -0.0614 C.ar      1 <0>         0.0000\\n      2 C2          2.3603   -2.4410   -0.0275 C.ar      1 <0>         0.0000\\n      3 C3          0.9817   -0.4642    0.0189 C.ar      1 <0>         0.0000\\n      4 C4          3.5168   -1.6532    0.0735 C.ar      1 <0>         0.0000\\n      5 C5          3.4033   -0.2537    0.1602 C.ar      1 <0>         0.0000\\n      6 C6          2.1247    0.3271    0.1351 C.ar      1 <0>         0.0000\\n      7 C7          4.8651   -2.3205    0.1348 C.3       1 <0>         0.0000\\n      8 C8          5.9441   -1.4279   -0.4656 C.3       1 <0>         0.0000\\n      9 C9          4.7475    1.7496   -0.6939 C.3       1 <0>         0.0000\\n     10 C10         6.2106    2.1321   -0.5725 C.3       1 <0>         0.0000\\n     11 C11         4.6210    0.6214    0.3293 C.3       1 <0>         0.0000\\n     12 C12         5.9962   -0.0802    0.2578 C.3       1 <0>         0.0000\\n     13 C13         9.2586   -0.4218   -1.8403 C.3       1 <0>         0.0000\\n     14 C14         9.0801   -0.2783   -0.3356 C.3       1 <0>         0.0000\\n     15 C15         8.2191    0.9205    0.0437 C.3       1 <0>         0.0000\\n     16 N1          6.8725    0.8306   -0.5014 N.3       1 <0>         0.0000\\n     17 O1          1.9625    1.6794    0.2296 O.3       1 <0>         0.0000\\n     18 H1          0.2107   -2.4656   -0.1485 H         1 <0>         0.0000\\n     19 H2          2.4370   -3.5243   -0.0744 H         1 <0>         0.0000\\n     20 H3         -0.0035   -0.0061   -0.0116 H         1 <0>         0.0000\\n     21 H4          5.1303   -2.5327    1.1777 H         1 <0>         0.0000\\n     22 H5          4.8129   -3.2801   -0.3932 H         1 <0>         0.0000\\n     23 H6          6.9166   -1.9161   -0.3645 H         1 <0>         0.0000\\n     24 H7          5.7642   -1.2954   -1.5316 H         1 <0>         0.0000\\n     25 H8          4.0998    2.5878   -0.4604 H         1 <0>         0.0000\\n     26 H9          4.5423    1.4126   -1.7073 H         1 <0>         0.0000\\n     27 H10         6.5436    2.7194   -1.4342 H         1 <0>         0.0000\\n     28 H11         6.3702    2.7227    0.3389 H         1 <0>         0.0000\\n     29 H12         4.5641    1.0685    1.3554 H         1 <0>         0.0000\\n     30 H13         6.3945   -0.2327    1.2475 H         1 <0>         0.0000\\n     31 H14         8.2920   -0.5384   -2.3406 H         1 <0>         0.0000\\n     32 H15         9.7454    0.4698   -2.2485 H         1 <0>         0.0000\\n     33 H16         9.8816   -1.2869   -2.0876 H         1 <0>         0.0000\\n     34 H17        10.0683   -0.1644    0.1251 H         1 <0>         0.0000\\n     35 H18         8.6400   -1.1995    0.0643 H         1 <0>         0.0000\\n     36 H19         8.1202    0.9812    1.1321 H         1 <0>         0.0000\\n     37 H20         8.6625    1.8563   -0.3108 H         1 <0>         0.0000\\n     38 H21         1.0201    1.9037    0.2003 H         1 <0>         0.0000\\n@<TRIPOS>BOND\\n     1    1    2 ar\\n     2    1    3 ar\\n     3    2    4 ar\\n     4    3    6 ar\\n     5    4    5 ar\\n     6    4    7 1\\n     7    5    6 ar\\n     8    5   11 1\\n     9    6   17 1\\n    10    7    8 1\\n    11    8   12 1\\n    12    9   10 1\\n    13    9   11 1\\n    14   10   16 1\\n    15   11   12 1\\n    16   12   16 1\\n    17   13   14 1\\n    18   14   15 1\\n    19   15   16 1\\n    20    1   18 1\\n    21    2   19 1\\n    22    3   20 1\\n    23    7   21 1\\n    24    7   22 1\\n    25    8   23 1\\n    26    8   24 1\\n    27    9   25 1\\n    28    9   26 1\\n    29   10   27 1\\n    30   10   28 1\\n    31   11   29 1\\n    32   12   30 1\\n    33   13   31 1\\n    34   13   32 1\\n    35   13   33 1\\n    36   14   34 1\\n    37   14   35 1\\n    38   15   36 1\\n    39   15   37 1\\n    40   17   38 1\\n@<TRIPOS>MOLECULE\\n*****\\n   38    40     0     0     0\\nSMALL\\nNO_CHARGES\\n\\n@<TRIPOS>ATOM\\n      1 C1          0.9721   -1.9182   -0.0660 C.ar      1 <0>         0.0000\\n      2 C2          2.1900   -2.5961   -0.0350 C.ar      1 <0>         0.0000\\n      3 C3          0.9477   -0.5299    0.0221 C.ar      1 <0>         0.0000\\n      4 C4          3.3985   -1.8912    0.0739 C.ar      1 <0>         0.0000\\n      5 C5          3.3761   -0.4879    0.1755 C.ar      1 <0>         0.0000\\n      6 C6          2.1411    0.1808    0.1447 C.ar      1 <0>         0.0000\\n      7 C7          4.6933   -2.6600    0.1345 C.3       1 <0>         0.0000\\n      8 C8          5.8879   -1.8126   -0.2951 C.3       1 <0>         0.0000\\n      9 C9          4.9511    1.1953   -0.8975 C.3       1 <0>         0.0000\\n     10 C10         6.4626    1.1232   -1.0935 C.3       1 <0>         0.0000\\n     11 C11         4.6457    0.3166    0.3192 C.3       1 <0>         0.0000\\n     12 C12         5.9250   -0.5071    0.5112 C.3       1 <0>         0.0000\\n     13 C13         8.9772    1.5150    3.1278 C.3       1 <0>         0.0000\\n     14 C14         8.4999    0.5933    2.0145 C.3       1 <0>         0.0000\\n     15 C15         7.4885    1.2606    1.0903 C.3       1 <0>         0.0000\\n     16 N1          7.0188    0.3609    0.0351 N.3       1 <0>         0.0000\\n     17 O1          2.0728    1.5406    0.2400 O.3       1 <0>         0.0000\\n     18 H1          0.0435   -2.4740   -0.1568 H         1 <0>         0.0000\\n     19 H2          2.1921   -3.6822   -0.0907 H         1 <0>         0.0000\\n     20 H3         -0.0042   -0.0065   -0.0076 H         1 <0>         0.0000\\n     21 H4          4.8709   -3.0119    1.1631 H         1 <0>         0.0000\\n     22 H5          4.6046   -3.5573   -0.4980 H         1 <0>         0.0000\\n     23 H6          6.8092   -2.3631   -0.1084 H         1 <0>         0.0000\\n     24 H7          5.8371   -1.6139   -1.3610 H         1 <0>         0.0000\\n     25 H8          4.6267    2.2331   -0.7443 H         1 <0>         0.0000\\n     26 H9          4.4526    0.8295   -1.8078 H         1 <0>         0.0000\\n     27 H10         6.7144    0.6505   -2.0694 H         1 <0>         0.0000\\n     28 H11         6.8835    2.1556   -1.1314 H         1 <0>         0.0000\\n     29 H12         4.5361    0.9508    1.2186 H         1 <0>         0.0000\\n     30 H13         6.0651   -0.7460    1.5521 H         1 <0>         0.0000\\n     31 H14         9.4480    2.4141    2.7177 H         1 <0>         0.0000\\n     32 H15         8.1300    1.8288    3.7461 H         1 <0>         0.0000\\n     33 H16         9.6999    1.0135    3.7788 H         1 <0>         0.0000\\n     34 H17         8.0366   -0.2913    2.4667 H         1 <0>         0.0000\\n     35 H18         9.3657    0.2470    1.4377 H         1 <0>         0.0000\\n     36 H19         6.6078    1.5714    1.6612 H         1 <0>         0.0000\\n     37 H20         7.9136    2.1475    0.6101 H         1 <0>         0.0000\\n     38 H21         1.1485    1.8300    0.2063 H         1 <0>         0.0000\\n@<TRIPOS>BOND\\n     1    1    2 ar\\n     2    1    3 ar\\n     3    2    4 ar\\n     4    3    6 ar\\n     5    4    5 ar\\n     6    4    7 1\\n     7    5    6 ar\\n     8    5   11 1\\n     9    6   17 1\\n    10    7    8 1\\n    11    8   12 1\\n    12    9   10 1\\n    13    9   11 1\\n    14   10   16 1\\n    15   11   12 1\\n    16   12   16 1\\n    17   13   14 1\\n    18   14   15 1\\n    19   15   16 1\\n    20    1   18 1\\n    21    2   19 1\\n    22    3   20 1\\n    23    7   21 1\\n    24    7   22 1\\n    25    8   23 1\\n    26    8   24 1\\n    27    9   25 1\\n    28    9   26 1\\n    29   10   27 1\\n    30   10   28 1\\n    31   11   29 1\\n    32   12   30 1\\n    33   13   31 1\\n    34   13   32 1\\n    35   13   33 1\\n    36   14   34 1\\n    37   14   35 1\\n    38   15   36 1\\n    39   15   37 1\\n    40   17   38 1\\n@<TRIPOS>MOLECULE\\n*****\\n   38    40     0     0     0\\nSMALL\\nNO_CHARGES\\n\\n@<TRIPOS>ATOM\\n      1 C1          1.6019   -1.3691    0.4333 C.ar      1 <0>         0.0000\\n      2 C2          2.6922   -2.0687   -0.0817 C.ar      1 <0>         0.0000\\n      3 C3          0.8482   -0.5482   -0.3993 C.ar      1 <0>         0.0000\\n      4 C4          3.0435   -1.9487   -1.4348 C.ar      1 <0>         0.0000\\n      5 C5          2.2694   -1.1405   -2.2857 C.ar      1 <0>         0.0000\\n      6 C6          1.1788   -0.4346   -1.7493 C.ar      1 <0>         0.0000\\n      7 C7          4.2228   -2.7184   -1.9641 C.3       1 <0>         0.0000\\n      8 C8          4.8660   -1.9899   -3.1387 C.3       1 <0>         0.0000\\n      9 C9          1.4561   -1.6132   -4.6243 C.3       1 <0>         0.0000\\n     10 C10         2.1653   -2.4663   -5.6603 C.3       1 <0>         0.0000\\n     11 C11         2.5794   -1.0088   -3.7632 C.3       1 <0>         0.0000\\n     12 C12         3.8651   -1.7109   -4.2602 C.3       1 <0>         0.0000\\n     13 C13         5.8087   -3.1818   -7.8734 C.3       1 <0>         0.0000\\n     14 C14         4.8128   -2.5499   -6.9113 C.3       1 <0>         0.0000\\n     15 C15         4.3261   -3.5230   -5.8442 C.3       1 <0>         0.0000\\n     16 N1          3.3568   -2.9160   -4.9396 N.3       1 <0>         0.0000\\n     17 O1          0.4172    0.3854   -2.5308 O.3       1 <0>         0.0000\\n     18 H1          1.3430   -1.4637    1.4837 H         1 <0>         0.0000\\n     19 H2          3.2725   -2.7061    0.5810 H         1 <0>         0.0000\\n     20 H3          0.0026   -0.0007    0.0083 H         1 <0>         0.0000\\n     21 H4          4.9761   -2.8388   -1.1762 H         1 <0>         0.0000\\n     22 H5          3.8923   -3.7209   -2.2601 H         1 <0>         0.0000\\n     23 H6          5.2755   -1.0320   -2.7896 H         1 <0>         0.0000\\n     24 H7          5.7196   -2.5688   -3.5084 H         1 <0>         0.0000\\n     25 H8          0.8492   -0.8354   -5.1003 H         1 <0>         0.0000\\n     26 H9          0.7813   -2.2441   -4.0314 H         1 <0>         0.0000\\n     27 H10         1.5392   -3.3028   -5.9866 H         1 <0>         0.0000\\n     28 H11         2.4232   -1.8570   -6.5361 H         1 <0>         0.0000\\n     29 H12         2.6812    0.0620   -3.9884 H         1 <0>         0.0000\\n     30 H13         4.3453   -1.0568   -5.0029 H         1 <0>         0.0000\\n     31 H14         6.6891   -3.5527   -7.3389 H         1 <0>         0.0000\\n     32 H15         5.3465   -4.0279   -8.3920 H         1 <0>         0.0000\\n     33 H16         6.1414   -2.4654   -8.6308 H         1 <0>         0.0000\\n     34 H17         3.9496   -2.1930   -7.4851 H         1 <0>         0.0000\\n     35 H18         5.2737   -1.6738   -6.4398 H         1 <0>         0.0000\\n     36 H19         3.8320   -4.3787   -6.3150 H         1 <0>         0.0000\\n     37 H20         5.1579   -3.8996   -5.2406 H         1 <0>         0.0000\\n     38 H21        -0.2840    0.7930   -2.0004 H         1 <0>         0.0000\\n@<TRIPOS>BOND\\n     1    1    2 ar\\n     2    1    3 ar\\n     3    2    4 ar\\n     4    3    6 ar\\n     5    4    5 ar\\n     6    4    7 1\\n     7    5    6 ar\\n     8    5   11 1\\n     9    6   17 1\\n    10    7    8 1\\n    11    8   12 1\\n    12    9   10 1\\n    13    9   11 1\\n    14   10   16 1\\n    15   11   12 1\\n    16   12   16 1\\n    17   13   14 1\\n    18   14   15 1\\n    19   15   16 1\\n    20    1   18 1\\n    21    2   19 1\\n    22    3   20 1\\n    23    7   21 1\\n    24    7   22 1\\n    25    8   23 1\\n    26    8   24 1\\n    27    9   25 1\\n    28    9   26 1\\n    29   10   27 1\\n    30   10   28 1\\n    31   11   29 1\\n    32   12   30 1\\n    33   13   31 1\\n    34   13   32 1\\n    35   13   33 1\\n    36   14   34 1\\n    37   14   35 1\\n    38   15   36 1\\n    39   15   37 1\\n    40   17   38 1\\n@<TRIPOS>MOLECULE\\n*****\\n   38    40     0     0     0\\nSMALL\\nNO_CHARGES\\n\\n@<TRIPOS>ATOM\\n      1 C1          0.9721   -1.9182   -0.0660 C.ar      1 <0>         0.0000\\n      2 C2          2.1900   -2.5961   -0.0350 C.ar      1 <0>         0.0000\\n      3 C3          0.9477   -0.5299    0.0221 C.ar      1 <0>         0.0000\\n      4 C4          3.3985   -1.8912    0.0739 C.ar      1 <0>         0.0000\\n      5 C5          3.3761   -0.4879    0.1755 C.ar      1 <0>         0.0000\\n      6 C6          2.1411    0.1808    0.1447 C.ar      1 <0>         0.0000\\n      7 C7          4.6933   -2.6600    0.1345 C.3       1 <0>         0.0000\\n      8 C8          5.8879   -1.8126   -0.2951 C.3       1 <0>         0.0000\\n      9 C9          4.9511    1.1953   -0.8975 C.3       1 <0>         0.0000\\n     10 C10         6.4626    1.1232   -1.0935 C.3       1 <0>         0.0000\\n     11 C11         4.6457    0.3166    0.3192 C.3       1 <0>         0.0000\\n     12 C12         5.9250   -0.5071    0.5112 C.3       1 <0>         0.0000\\n     13 C13         9.0740    3.1457    1.6943 C.3       1 <0>         0.0000\\n     14 C14         8.5643    2.2211    0.5979 C.3       1 <0>         0.0000\\n     15 C15         7.4885    1.2606    1.0903 C.3       1 <0>         0.0000\\n     16 N1          7.0188    0.3609    0.0351 N.3       1 <0>         0.0000\\n     17 O1          2.0728    1.5406    0.2400 O.3       1 <0>         0.0000\\n     18 H1          0.0435   -2.4740   -0.1568 H         1 <0>         0.0000\\n     19 H2          2.1921   -3.6822   -0.0907 H         1 <0>         0.0000\\n     20 H3         -0.0042   -0.0065   -0.0076 H         1 <0>         0.0000\\n     21 H4          4.8709   -3.0119    1.1631 H         1 <0>         0.0000\\n     22 H5          4.6046   -3.5573   -0.4980 H         1 <0>         0.0000\\n     23 H6          6.8092   -2.3631   -0.1084 H         1 <0>         0.0000\\n     24 H7          5.8371   -1.6139   -1.3610 H         1 <0>         0.0000\\n     25 H8          4.6267    2.2331   -0.7443 H         1 <0>         0.0000\\n     26 H9          4.4526    0.8295   -1.8078 H         1 <0>         0.0000\\n     27 H10         6.7144    0.6505   -2.0694 H         1 <0>         0.0000\\n     28 H11         6.8835    2.1556   -1.1314 H         1 <0>         0.0000\\n     29 H12         4.5361    0.9508    1.2186 H         1 <0>         0.0000\\n     30 H13         6.0651   -0.7460    1.5521 H         1 <0>         0.0000\\n     31 H14         8.2595    3.7476    2.1098 H         1 <0>         0.0000\\n     32 H15         9.5106    2.5590    2.5089 H         1 <0>         0.0000\\n     33 H16         9.8463    3.8234    1.3177 H         1 <0>         0.0000\\n     34 H17         9.4083    1.6387    0.2104 H         1 <0>         0.0000\\n     35 H18         8.1786    2.8249   -0.2320 H         1 <0>         0.0000\\n     36 H19         7.8867    0.6319    1.8930 H         1 <0>         0.0000\\n     37 H20         6.6207    1.8019    1.4802 H         1 <0>         0.0000\\n     38 H21         1.1485    1.8300    0.2063 H         1 <0>         0.0000\\n@<TRIPOS>BOND\\n     1    1    2 ar\\n     2    1    3 ar\\n     3    2    4 ar\\n     4    3    6 ar\\n     5    4    5 ar\\n     6    4    7 1\\n     7    5    6 ar\\n     8    5   11 1\\n     9    6   17 1\\n    10    7    8 1\\n    11    8   12 1\\n    12    9   10 1\\n    13    9   11 1\\n    14   10   16 1\\n    15   11   12 1\\n    16   12   16 1\\n    17   13   14 1\\n    18   14   15 1\\n    19   15   16 1\\n    20    1   18 1\\n    21    2   19 1\\n    22    3   20 1\\n    23    7   21 1\\n    24    7   22 1\\n    25    8   23 1\\n    26    8   24 1\\n    27    9   25 1\\n    28    9   26 1\\n    29   10   27 1\\n    30   10   28 1\\n    31   11   29 1\\n    32   12   30 1\\n    33   13   31 1\\n    34   13   32 1\\n    35   13   33 1\\n    36   14   34 1\\n    37   14   35 1\\n    38   15   36 1\\n    39   15   37 1\\n    40   17   38 1\\n\");\nviewer_1643777748268179.setStyle({\"stick\": {}});\nviewer_1643777748268179.zoomTo();\nviewer_1643777748268179.render();\n});\n</script>",
      "text/html": [
       "<div id=\"3dmolviewer_1643777748268179\"  style=\"position: relative; width: 640px; height: 480px\">\n",
       "        <p id=\"3dmolwarning_1643777748268179\" style=\"background-color:#ffcccc;color:black\">You appear to be running in JupyterLab (or JavaScript failed to load for some other reason).  You need to install the 3dmol extension: <br>\n",
       "        <tt>jupyter labextension install jupyterlab_3dmol</tt></p>\n",
       "        </div>\n",
       "<script>\n",
       "\n",
       "var loadScriptAsync = function(uri){\n",
       "  return new Promise((resolve, reject) => {\n",
       "    var tag = document.createElement('script');\n",
       "    tag.src = uri;\n",
       "    tag.async = true;\n",
       "    tag.onload = () => {\n",
       "      resolve();\n",
       "    };\n",
       "  var firstScriptTag = document.getElementsByTagName('script')[0];\n",
       "  firstScriptTag.parentNode.insertBefore(tag, firstScriptTag);\n",
       "});\n",
       "};\n",
       "\n",
       "if(typeof $3Dmolpromise === 'undefined') {\n",
       "$3Dmolpromise = null;\n",
       "  $3Dmolpromise = loadScriptAsync('https://3dmol.org/build/3Dmol.js');\n",
       "}\n",
       "\n",
       "var viewer_1643777748268179 = null;\n",
       "var warn = document.getElementById(\"3dmolwarning_1643777748268179\");\n",
       "if(warn) {\n",
       "    warn.parentNode.removeChild(warn);\n",
       "}\n",
       "$3Dmolpromise.then(function() {\n",
       "viewer_1643777748268179 = $3Dmol.createViewer($(\"#3dmolviewer_1643777748268179\"),{backgroundColor:\"white\"});\n",
       "viewer_1643777748268179.addModel(\"@<TRIPOS>MOLECULE\\n*****\\n   38    40     0     0     0\\nSMALL\\nNO_CHARGES\\n\\n@<TRIPOS>ATOM\\n      1 C1          1.6019   -1.3691    0.4333 C.ar      1 <0>         0.0000\\n      2 C2          2.6922   -2.0687   -0.0817 C.ar      1 <0>         0.0000\\n      3 C3          0.8482   -0.5482   -0.3993 C.ar      1 <0>         0.0000\\n      4 C4          3.0435   -1.9487   -1.4348 C.ar      1 <0>         0.0000\\n      5 C5          2.2694   -1.1405   -2.2857 C.ar      1 <0>         0.0000\\n      6 C6          1.1788   -0.4346   -1.7493 C.ar      1 <0>         0.0000\\n      7 C7          4.2228   -2.7184   -1.9641 C.3       1 <0>         0.0000\\n      8 C8          4.8660   -1.9899   -3.1387 C.3       1 <0>         0.0000\\n      9 C9          1.4561   -1.6132   -4.6243 C.3       1 <0>         0.0000\\n     10 C10         2.1653   -2.4663   -5.6603 C.3       1 <0>         0.0000\\n     11 C11         2.5794   -1.0088   -3.7632 C.3       1 <0>         0.0000\\n     12 C12         3.8651   -1.7109   -4.2602 C.3       1 <0>         0.0000\\n     13 C13         4.9794   -5.6057   -7.1355 C.3       1 <0>         0.0000\\n     14 C14         3.9612   -4.9570   -6.2087 C.3       1 <0>         0.0000\\n     15 C15         4.3261   -3.5230   -5.8442 C.3       1 <0>         0.0000\\n     16 N1          3.3568   -2.9160   -4.9396 N.3       1 <0>         0.0000\\n     17 O1          0.4172    0.3854   -2.5308 O.3       1 <0>         0.0000\\n     18 H1          1.3430   -1.4637    1.4837 H         1 <0>         0.0000\\n     19 H2          3.2725   -2.7061    0.5810 H         1 <0>         0.0000\\n     20 H3          0.0026   -0.0007    0.0083 H         1 <0>         0.0000\\n     21 H4          4.9761   -2.8388   -1.1762 H         1 <0>         0.0000\\n     22 H5          3.8923   -3.7209   -2.2601 H         1 <0>         0.0000\\n     23 H6          5.2755   -1.0320   -2.7896 H         1 <0>         0.0000\\n     24 H7          5.7196   -2.5688   -3.5084 H         1 <0>         0.0000\\n     25 H8          0.8492   -0.8354   -5.1003 H         1 <0>         0.0000\\n     26 H9          0.7813   -2.2441   -4.0314 H         1 <0>         0.0000\\n     27 H10         1.5392   -3.3028   -5.9866 H         1 <0>         0.0000\\n     28 H11         2.4232   -1.8570   -6.5361 H         1 <0>         0.0000\\n     29 H12         2.6812    0.0620   -3.9884 H         1 <0>         0.0000\\n     30 H13         4.3453   -1.0568   -5.0029 H         1 <0>         0.0000\\n     31 H14         5.0749   -5.0421   -8.0691 H         1 <0>         0.0000\\n     32 H15         5.9626   -5.6330   -6.6548 H         1 <0>         0.0000\\n     33 H16         4.6974   -6.6343   -7.3809 H         1 <0>         0.0000\\n     34 H17         3.8964   -5.5504   -5.2893 H         1 <0>         0.0000\\n     35 H18         2.9731   -4.9850   -6.6832 H         1 <0>         0.0000\\n     36 H19         5.2953   -3.5009   -5.3361 H         1 <0>         0.0000\\n     37 H20         4.3941   -2.8914   -6.7355 H         1 <0>         0.0000\\n     38 H21        -0.2840    0.7930   -2.0004 H         1 <0>         0.0000\\n@<TRIPOS>BOND\\n     1    1    2 ar\\n     2    1    3 ar\\n     3    2    4 ar\\n     4    3    6 ar\\n     5    4    5 ar\\n     6    4    7 1\\n     7    5    6 ar\\n     8    5   11 1\\n     9    6   17 1\\n    10    7    8 1\\n    11    8   12 1\\n    12    9   10 1\\n    13    9   11 1\\n    14   10   16 1\\n    15   11   12 1\\n    16   12   16 1\\n    17   13   14 1\\n    18   14   15 1\\n    19   15   16 1\\n    20    1   18 1\\n    21    2   19 1\\n    22    3   20 1\\n    23    7   21 1\\n    24    7   22 1\\n    25    8   23 1\\n    26    8   24 1\\n    27    9   25 1\\n    28    9   26 1\\n    29   10   27 1\\n    30   10   28 1\\n    31   11   29 1\\n    32   12   30 1\\n    33   13   31 1\\n    34   13   32 1\\n    35   13   33 1\\n    36   14   34 1\\n    37   14   35 1\\n    38   15   36 1\\n    39   15   37 1\\n    40   17   38 1\\n@<TRIPOS>MOLECULE\\n*****\\n   38    40     0     0     0\\nSMALL\\nNO_CHARGES\\n\\n@<TRIPOS>ATOM\\n      1 C1          1.6019   -1.3691    0.4333 C.ar      1 <0>         0.0000\\n      2 C2          2.6922   -2.0687   -0.0817 C.ar      1 <0>         0.0000\\n      3 C3          0.8482   -0.5482   -0.3993 C.ar      1 <0>         0.0000\\n      4 C4          3.0435   -1.9487   -1.4348 C.ar      1 <0>         0.0000\\n      5 C5          2.2694   -1.1405   -2.2857 C.ar      1 <0>         0.0000\\n      6 C6          1.1788   -0.4346   -1.7493 C.ar      1 <0>         0.0000\\n      7 C7          4.2228   -2.7184   -1.9641 C.3       1 <0>         0.0000\\n      8 C8          4.8660   -1.9899   -3.1387 C.3       1 <0>         0.0000\\n      9 C9          1.4561   -1.6132   -4.6243 C.3       1 <0>         0.0000\\n     10 C10         2.1653   -2.4663   -5.6603 C.3       1 <0>         0.0000\\n     11 C11         2.5794   -1.0088   -3.7632 C.3       1 <0>         0.0000\\n     12 C12         3.8651   -1.7109   -4.2602 C.3       1 <0>         0.0000\\n     13 C13         3.8617   -5.8661   -4.9920 C.3       1 <0>         0.0000\\n     14 C14         3.9612   -4.9570   -6.2087 C.3       1 <0>         0.0000\\n     15 C15         4.3261   -3.5230   -5.8442 C.3       1 <0>         0.0000\\n     16 N1          3.3568   -2.9160   -4.9396 N.3       1 <0>         0.0000\\n     17 O1          0.4172    0.3854   -2.5308 O.3       1 <0>         0.0000\\n     18 H1          1.3430   -1.4637    1.4837 H         1 <0>         0.0000\\n     19 H2          3.2725   -2.7061    0.5810 H         1 <0>         0.0000\\n     20 H3          0.0026   -0.0007    0.0083 H         1 <0>         0.0000\\n     21 H4          4.9761   -2.8388   -1.1762 H         1 <0>         0.0000\\n     22 H5          3.8923   -3.7209   -2.2601 H         1 <0>         0.0000\\n     23 H6          5.2755   -1.0320   -2.7896 H         1 <0>         0.0000\\n     24 H7          5.7196   -2.5688   -3.5084 H         1 <0>         0.0000\\n     25 H8          0.8492   -0.8354   -5.1003 H         1 <0>         0.0000\\n     26 H9          0.7813   -2.2441   -4.0314 H         1 <0>         0.0000\\n     27 H10         1.5392   -3.3028   -5.9866 H         1 <0>         0.0000\\n     28 H11         2.4232   -1.8570   -6.5361 H         1 <0>         0.0000\\n     29 H12         2.6812    0.0620   -3.9884 H         1 <0>         0.0000\\n     30 H13         4.3453   -1.0568   -5.0029 H         1 <0>         0.0000\\n     31 H14         4.8100   -5.8956   -4.4459 H         1 <0>         0.0000\\n     32 H15         3.0893   -5.4980   -4.3090 H         1 <0>         0.0000\\n     33 H16         3.5966   -6.8885   -5.2783 H         1 <0>         0.0000\\n     34 H17         2.9942   -4.9559   -6.7251 H         1 <0>         0.0000\\n     35 H18         4.7009   -5.3681   -6.9059 H         1 <0>         0.0000\\n     36 H19         5.2953   -3.5009   -5.3361 H         1 <0>         0.0000\\n     37 H20         4.3941   -2.8914   -6.7355 H         1 <0>         0.0000\\n     38 H21        -0.2840    0.7930   -2.0004 H         1 <0>         0.0000\\n@<TRIPOS>BOND\\n     1    1    2 ar\\n     2    1    3 ar\\n     3    2    4 ar\\n     4    3    6 ar\\n     5    4    5 ar\\n     6    4    7 1\\n     7    5    6 ar\\n     8    5   11 1\\n     9    6   17 1\\n    10    7    8 1\\n    11    8   12 1\\n    12    9   10 1\\n    13    9   11 1\\n    14   10   16 1\\n    15   11   12 1\\n    16   12   16 1\\n    17   13   14 1\\n    18   14   15 1\\n    19   15   16 1\\n    20    1   18 1\\n    21    2   19 1\\n    22    3   20 1\\n    23    7   21 1\\n    24    7   22 1\\n    25    8   23 1\\n    26    8   24 1\\n    27    9   25 1\\n    28    9   26 1\\n    29   10   27 1\\n    30   10   28 1\\n    31   11   29 1\\n    32   12   30 1\\n    33   13   31 1\\n    34   13   32 1\\n    35   13   33 1\\n    36   14   34 1\\n    37   14   35 1\\n    38   15   36 1\\n    39   15   37 1\\n    40   17   38 1\\n@<TRIPOS>MOLECULE\\n*****\\n   38    40     0     0     0\\nSMALL\\nNO_CHARGES\\n\\n@<TRIPOS>ATOM\\n      1 C1          1.0995   -1.8479   -0.0614 C.ar      1 <0>         0.0000\\n      2 C2          2.3603   -2.4410   -0.0275 C.ar      1 <0>         0.0000\\n      3 C3          0.9817   -0.4642    0.0189 C.ar      1 <0>         0.0000\\n      4 C4          3.5168   -1.6532    0.0735 C.ar      1 <0>         0.0000\\n      5 C5          3.4033   -0.2537    0.1602 C.ar      1 <0>         0.0000\\n      6 C6          2.1247    0.3271    0.1351 C.ar      1 <0>         0.0000\\n      7 C7          4.8651   -2.3205    0.1348 C.3       1 <0>         0.0000\\n      8 C8          5.9441   -1.4279   -0.4656 C.3       1 <0>         0.0000\\n      9 C9          4.7475    1.7496   -0.6939 C.3       1 <0>         0.0000\\n     10 C10         6.2106    2.1321   -0.5725 C.3       1 <0>         0.0000\\n     11 C11         4.6210    0.6214    0.3293 C.3       1 <0>         0.0000\\n     12 C12         5.9962   -0.0802    0.2578 C.3       1 <0>         0.0000\\n     13 C13        10.5355    1.9166   -0.2293 C.3       1 <0>         0.0000\\n     14 C14         9.1189    1.8340   -0.7800 C.3       1 <0>         0.0000\\n     15 C15         8.2191    0.9205    0.0437 C.3       1 <0>         0.0000\\n     16 N1          6.8725    0.8306   -0.5014 N.3       1 <0>         0.0000\\n     17 O1          1.9625    1.6794    0.2296 O.3       1 <0>         0.0000\\n     18 H1          0.2107   -2.4656   -0.1485 H         1 <0>         0.0000\\n     19 H2          2.4370   -3.5243   -0.0744 H         1 <0>         0.0000\\n     20 H3         -0.0035   -0.0061   -0.0116 H         1 <0>         0.0000\\n     21 H4          5.1303   -2.5327    1.1777 H         1 <0>         0.0000\\n     22 H5          4.8129   -3.2801   -0.3932 H         1 <0>         0.0000\\n     23 H6          6.9166   -1.9161   -0.3645 H         1 <0>         0.0000\\n     24 H7          5.7642   -1.2954   -1.5316 H         1 <0>         0.0000\\n     25 H8          4.0998    2.5878   -0.4604 H         1 <0>         0.0000\\n     26 H9          4.5423    1.4126   -1.7073 H         1 <0>         0.0000\\n     27 H10         6.5436    2.7194   -1.4342 H         1 <0>         0.0000\\n     28 H11         6.3702    2.7227    0.3389 H         1 <0>         0.0000\\n     29 H12         4.5641    1.0685    1.3554 H         1 <0>         0.0000\\n     30 H13         6.3945   -0.2327    1.2475 H         1 <0>         0.0000\\n     31 H14        10.5353    2.2932    0.7986 H         1 <0>         0.0000\\n     32 H15        10.9966    0.9237   -0.2257 H         1 <0>         0.0000\\n     33 H16        11.1624    2.5754   -0.8380 H         1 <0>         0.0000\\n     34 H17         9.1640    1.4538   -1.8072 H         1 <0>         0.0000\\n     35 H18         8.6909    2.8424   -0.8258 H         1 <0>         0.0000\\n     36 H19         8.6274   -0.0949    0.0566 H         1 <0>         0.0000\\n     37 H20         8.1394    1.2689    1.0783 H         1 <0>         0.0000\\n     38 H21         1.0201    1.9037    0.2003 H         1 <0>         0.0000\\n@<TRIPOS>BOND\\n     1    1    2 ar\\n     2    1    3 ar\\n     3    2    4 ar\\n     4    3    6 ar\\n     5    4    5 ar\\n     6    4    7 1\\n     7    5    6 ar\\n     8    5   11 1\\n     9    6   17 1\\n    10    7    8 1\\n    11    8   12 1\\n    12    9   10 1\\n    13    9   11 1\\n    14   10   16 1\\n    15   11   12 1\\n    16   12   16 1\\n    17   13   14 1\\n    18   14   15 1\\n    19   15   16 1\\n    20    1   18 1\\n    21    2   19 1\\n    22    3   20 1\\n    23    7   21 1\\n    24    7   22 1\\n    25    8   23 1\\n    26    8   24 1\\n    27    9   25 1\\n    28    9   26 1\\n    29   10   27 1\\n    30   10   28 1\\n    31   11   29 1\\n    32   12   30 1\\n    33   13   31 1\\n    34   13   32 1\\n    35   13   33 1\\n    36   14   34 1\\n    37   14   35 1\\n    38   15   36 1\\n    39   15   37 1\\n    40   17   38 1\\n@<TRIPOS>MOLECULE\\n*****\\n   38    40     0     0     0\\nSMALL\\nNO_CHARGES\\n\\n@<TRIPOS>ATOM\\n      1 C1          1.2071   -1.7780   -0.1012 C.ar      1 <0>         0.0000\\n      2 C2          2.4964   -2.3030   -0.0247 C.ar      1 <0>         0.0000\\n      3 C3          1.0036   -0.4110    0.0578 C.ar      1 <0>         0.0000\\n      4 C4          3.5981   -1.4640    0.2020 C.ar      1 <0>         0.0000\\n      5 C5          3.3940   -0.0834    0.3754 C.ar      1 <0>         0.0000\\n      6 C6          2.0892    0.4310    0.2969 C.ar      1 <0>         0.0000\\n      7 C7          4.9725   -2.0707    0.3114 C.3       1 <0>         0.0000\\n      8 C8          6.0801   -1.0625    0.0139 C.3       1 <0>         0.0000\\n      9 C9          4.8085    1.8339   -0.5134 C.3       1 <0>         0.0000\\n     10 C10         6.3257    1.9837   -0.5822 C.3       1 <0>         0.0000\\n     11 C11         4.5424    0.8583    0.6429 C.3       1 <0>         0.0000\\n     12 C12         5.9043    0.1899    0.8855 C.3       1 <0>         0.0000\\n     13 C13        10.1982   -0.1184    1.7093 C.3       1 <0>         0.0000\\n     14 C14         8.7184    0.2312    1.7782 C.3       1 <0>         0.0000\\n     15 C15         8.2259    0.9565    0.5317 C.3       1 <0>         0.0000\\n     16 N1          6.8184    1.3049    0.6142 N.3       1 <0>         0.0000\\n     17 O1          1.8456    1.7642    0.4579 O.3       1 <0>         0.0000\\n     18 H1          0.3626   -2.4364   -0.2826 H         1 <0>         0.0000\\n     19 H2          2.6382   -3.3753   -0.1376 H         1 <0>         0.0000\\n     20 H3         -0.0028   -0.0064   -0.0078 H         1 <0>         0.0000\\n     21 H4          5.1277   -2.4636    1.3299 H         1 <0>         0.0000\\n     22 H5          5.0371   -2.9326   -0.3729 H         1 <0>         0.0000\\n     23 H6          7.0478   -1.5097    0.2391 H         1 <0>         0.0000\\n     24 H7          6.0764   -0.8089   -1.0418 H         1 <0>         0.0000\\n     25 H8          4.3268    2.8046   -0.3459 H         1 <0>         0.0000\\n     26 H9          4.4406    1.4452   -1.4731 H         1 <0>         0.0000\\n     27 H10         6.7258    1.5374   -1.5075 H         1 <0>         0.0000\\n     28 H11         6.5931    3.0562   -0.5857 H         1 <0>         0.0000\\n     29 H12         4.2987    1.4285    1.5588 H         1 <0>         0.0000\\n     30 H13         5.9623   -0.0918    1.9355 H         1 <0>         0.0000\\n     31 H14        10.4097   -0.7609    0.8487 H         1 <0>         0.0000\\n     32 H15        10.7960    0.7929    1.6063 H         1 <0>         0.0000\\n     33 H16        10.5286   -0.6356    2.6154 H         1 <0>         0.0000\\n     34 H17         8.5504    0.8731    2.6508 H         1 <0>         0.0000\\n     35 H18         8.1384   -0.6862    1.9338 H         1 <0>         0.0000\\n     36 H19         8.7795    1.8913    0.3990 H         1 <0>         0.0000\\n     37 H20         8.3681    0.3459   -0.3656 H         1 <0>         0.0000\\n     38 H21         0.8961    1.9405    0.3775 H         1 <0>         0.0000\\n@<TRIPOS>BOND\\n     1    1    2 ar\\n     2    1    3 ar\\n     3    2    4 ar\\n     4    3    6 ar\\n     5    4    5 ar\\n     6    4    7 1\\n     7    5    6 ar\\n     8    5   11 1\\n     9    6   17 1\\n    10    7    8 1\\n    11    8   12 1\\n    12    9   10 1\\n    13    9   11 1\\n    14   10   16 1\\n    15   11   12 1\\n    16   12   16 1\\n    17   13   14 1\\n    18   14   15 1\\n    19   15   16 1\\n    20    1   18 1\\n    21    2   19 1\\n    22    3   20 1\\n    23    7   21 1\\n    24    7   22 1\\n    25    8   23 1\\n    26    8   24 1\\n    27    9   25 1\\n    28    9   26 1\\n    29   10   27 1\\n    30   10   28 1\\n    31   11   29 1\\n    32   12   30 1\\n    33   13   31 1\\n    34   13   32 1\\n    35   13   33 1\\n    36   14   34 1\\n    37   14   35 1\\n    38   15   36 1\\n    39   15   37 1\\n    40   17   38 1\\n@<TRIPOS>MOLECULE\\n*****\\n   38    40     0     0     0\\nSMALL\\nNO_CHARGES\\n\\n@<TRIPOS>ATOM\\n      1 C1          1.0995   -1.8479   -0.0614 C.ar      1 <0>         0.0000\\n      2 C2          2.3603   -2.4410   -0.0275 C.ar      1 <0>         0.0000\\n      3 C3          0.9817   -0.4642    0.0189 C.ar      1 <0>         0.0000\\n      4 C4          3.5168   -1.6532    0.0735 C.ar      1 <0>         0.0000\\n      5 C5          3.4033   -0.2537    0.1602 C.ar      1 <0>         0.0000\\n      6 C6          2.1247    0.3271    0.1351 C.ar      1 <0>         0.0000\\n      7 C7          4.8651   -2.3205    0.1348 C.3       1 <0>         0.0000\\n      8 C8          5.9441   -1.4279   -0.4656 C.3       1 <0>         0.0000\\n      9 C9          4.7475    1.7496   -0.6939 C.3       1 <0>         0.0000\\n     10 C10         6.2106    2.1321   -0.5725 C.3       1 <0>         0.0000\\n     11 C11         4.6210    0.6214    0.3293 C.3       1 <0>         0.0000\\n     12 C12         5.9962   -0.0802    0.2578 C.3       1 <0>         0.0000\\n     13 C13         9.2561    1.3768   -2.2253 C.3       1 <0>         0.0000\\n     14 C14         9.1189    1.8340   -0.7800 C.3       1 <0>         0.0000\\n     15 C15         8.2191    0.9205    0.0437 C.3       1 <0>         0.0000\\n     16 N1          6.8725    0.8306   -0.5014 N.3       1 <0>         0.0000\\n     17 O1          1.9625    1.6794    0.2296 O.3       1 <0>         0.0000\\n     18 H1          0.2107   -2.4656   -0.1485 H         1 <0>         0.0000\\n     19 H2          2.4370   -3.5243   -0.0744 H         1 <0>         0.0000\\n     20 H3         -0.0035   -0.0061   -0.0116 H         1 <0>         0.0000\\n     21 H4          5.1303   -2.5327    1.1777 H         1 <0>         0.0000\\n     22 H5          4.8129   -3.2801   -0.3932 H         1 <0>         0.0000\\n     23 H6          6.9166   -1.9161   -0.3645 H         1 <0>         0.0000\\n     24 H7          5.7642   -1.2954   -1.5316 H         1 <0>         0.0000\\n     25 H8          4.0998    2.5878   -0.4604 H         1 <0>         0.0000\\n     26 H9          4.5423    1.4126   -1.7073 H         1 <0>         0.0000\\n     27 H10         6.5436    2.7194   -1.4342 H         1 <0>         0.0000\\n     28 H11         6.3702    2.7227    0.3389 H         1 <0>         0.0000\\n     29 H12         4.5641    1.0685    1.3554 H         1 <0>         0.0000\\n     30 H13         6.3945   -0.2327    1.2475 H         1 <0>         0.0000\\n     31 H14         9.6738    0.3664   -2.2791 H         1 <0>         0.0000\\n     32 H15         8.2751    1.3636   -2.7109 H         1 <0>         0.0000\\n     33 H16         9.9040    2.0487   -2.7966 H         1 <0>         0.0000\\n     34 H17         8.6987    2.8464   -0.7713 H         1 <0>         0.0000\\n     35 H18        10.1146    1.8919   -0.3245 H         1 <0>         0.0000\\n     36 H19         8.6274   -0.0949    0.0566 H         1 <0>         0.0000\\n     37 H20         8.1394    1.2689    1.0783 H         1 <0>         0.0000\\n     38 H21         1.0201    1.9037    0.2003 H         1 <0>         0.0000\\n@<TRIPOS>BOND\\n     1    1    2 ar\\n     2    1    3 ar\\n     3    2    4 ar\\n     4    3    6 ar\\n     5    4    5 ar\\n     6    4    7 1\\n     7    5    6 ar\\n     8    5   11 1\\n     9    6   17 1\\n    10    7    8 1\\n    11    8   12 1\\n    12    9   10 1\\n    13    9   11 1\\n    14   10   16 1\\n    15   11   12 1\\n    16   12   16 1\\n    17   13   14 1\\n    18   14   15 1\\n    19   15   16 1\\n    20    1   18 1\\n    21    2   19 1\\n    22    3   20 1\\n    23    7   21 1\\n    24    7   22 1\\n    25    8   23 1\\n    26    8   24 1\\n    27    9   25 1\\n    28    9   26 1\\n    29   10   27 1\\n    30   10   28 1\\n    31   11   29 1\\n    32   12   30 1\\n    33   13   31 1\\n    34   13   32 1\\n    35   13   33 1\\n    36   14   34 1\\n    37   14   35 1\\n    38   15   36 1\\n    39   15   37 1\\n    40   17   38 1\\n@<TRIPOS>MOLECULE\\n*****\\n   38    40     0     0     0\\nSMALL\\nNO_CHARGES\\n\\n@<TRIPOS>ATOM\\n      1 C1          1.2071   -1.7780   -0.1012 C.ar      1 <0>         0.0000\\n      2 C2          2.4964   -2.3030   -0.0247 C.ar      1 <0>         0.0000\\n      3 C3          1.0036   -0.4110    0.0578 C.ar      1 <0>         0.0000\\n      4 C4          3.5981   -1.4640    0.2020 C.ar      1 <0>         0.0000\\n      5 C5          3.3940   -0.0834    0.3754 C.ar      1 <0>         0.0000\\n      6 C6          2.0892    0.4310    0.2969 C.ar      1 <0>         0.0000\\n      7 C7          4.9725   -2.0707    0.3114 C.3       1 <0>         0.0000\\n      8 C8          6.0801   -1.0625    0.0139 C.3       1 <0>         0.0000\\n      9 C9          4.8085    1.8339   -0.5134 C.3       1 <0>         0.0000\\n     10 C10         6.3257    1.9837   -0.5822 C.3       1 <0>         0.0000\\n     11 C11         4.5424    0.8583    0.6429 C.3       1 <0>         0.0000\\n     12 C12         5.9043    0.1899    0.8855 C.3       1 <0>         0.0000\\n     13 C13         8.9306    2.6711    2.2625 C.3       1 <0>         0.0000\\n     14 C14         9.1357    2.1363    0.8523 C.3       1 <0>         0.0000\\n     15 C15         8.2259    0.9565    0.5317 C.3       1 <0>         0.0000\\n     16 N1          6.8184    1.3049    0.6142 N.3       1 <0>         0.0000\\n     17 O1          1.8456    1.7642    0.4579 O.3       1 <0>         0.0000\\n     18 H1          0.3626   -2.4364   -0.2826 H         1 <0>         0.0000\\n     19 H2          2.6382   -3.3753   -0.1376 H         1 <0>         0.0000\\n     20 H3         -0.0028   -0.0064   -0.0078 H         1 <0>         0.0000\\n     21 H4          5.1277   -2.4636    1.3299 H         1 <0>         0.0000\\n     22 H5          5.0371   -2.9326   -0.3729 H         1 <0>         0.0000\\n     23 H6          7.0478   -1.5097    0.2391 H         1 <0>         0.0000\\n     24 H7          6.0764   -0.8089   -1.0418 H         1 <0>         0.0000\\n     25 H8          4.3268    2.8046   -0.3459 H         1 <0>         0.0000\\n     26 H9          4.4406    1.4452   -1.4731 H         1 <0>         0.0000\\n     27 H10         6.7258    1.5374   -1.5075 H         1 <0>         0.0000\\n     28 H11         6.5931    3.0562   -0.5857 H         1 <0>         0.0000\\n     29 H12         4.2987    1.4285    1.5588 H         1 <0>         0.0000\\n     30 H13         5.9623   -0.0918    1.9355 H         1 <0>         0.0000\\n     31 H14         7.8974    3.0014    2.4102 H         1 <0>         0.0000\\n     32 H15         9.1435    1.8877    2.9970 H         1 <0>         0.0000\\n     33 H16         9.5956    3.5150    2.4699 H         1 <0>         0.0000\\n     34 H17        10.1792    1.8175    0.7469 H         1 <0>         0.0000\\n     35 H18         8.9696    2.9463    0.1322 H         1 <0>         0.0000\\n     36 H19         8.4099    0.6084   -0.4896 H         1 <0>         0.0000\\n     37 H20         8.4047    0.1197    1.2142 H         1 <0>         0.0000\\n     38 H21         0.8961    1.9405    0.3775 H         1 <0>         0.0000\\n@<TRIPOS>BOND\\n     1    1    2 ar\\n     2    1    3 ar\\n     3    2    4 ar\\n     4    3    6 ar\\n     5    4    5 ar\\n     6    4    7 1\\n     7    5    6 ar\\n     8    5   11 1\\n     9    6   17 1\\n    10    7    8 1\\n    11    8   12 1\\n    12    9   10 1\\n    13    9   11 1\\n    14   10   16 1\\n    15   11   12 1\\n    16   12   16 1\\n    17   13   14 1\\n    18   14   15 1\\n    19   15   16 1\\n    20    1   18 1\\n    21    2   19 1\\n    22    3   20 1\\n    23    7   21 1\\n    24    7   22 1\\n    25    8   23 1\\n    26    8   24 1\\n    27    9   25 1\\n    28    9   26 1\\n    29   10   27 1\\n    30   10   28 1\\n    31   11   29 1\\n    32   12   30 1\\n    33   13   31 1\\n    34   13   32 1\\n    35   13   33 1\\n    36   14   34 1\\n    37   14   35 1\\n    38   15   36 1\\n    39   15   37 1\\n    40   17   38 1\\n@<TRIPOS>MOLECULE\\n*****\\n   38    40     0     0     0\\nSMALL\\nNO_CHARGES\\n\\n@<TRIPOS>ATOM\\n      1 C1          1.2071   -1.7780   -0.1012 C.ar      1 <0>         0.0000\\n      2 C2          2.4964   -2.3030   -0.0247 C.ar      1 <0>         0.0000\\n      3 C3          1.0036   -0.4110    0.0578 C.ar      1 <0>         0.0000\\n      4 C4          3.5981   -1.4640    0.2020 C.ar      1 <0>         0.0000\\n      5 C5          3.3940   -0.0834    0.3754 C.ar      1 <0>         0.0000\\n      6 C6          2.0892    0.4310    0.2969 C.ar      1 <0>         0.0000\\n      7 C7          4.9725   -2.0707    0.3114 C.3       1 <0>         0.0000\\n      8 C8          6.0801   -1.0625    0.0139 C.3       1 <0>         0.0000\\n      9 C9          4.8085    1.8339   -0.5134 C.3       1 <0>         0.0000\\n     10 C10         6.3257    1.9837   -0.5822 C.3       1 <0>         0.0000\\n     11 C11         4.5424    0.8583    0.6429 C.3       1 <0>         0.0000\\n     12 C12         5.9043    0.1899    0.8855 C.3       1 <0>         0.0000\\n     13 C13         8.5397    1.0537    3.0465 C.3       1 <0>         0.0000\\n     14 C14         8.7184    0.2312    1.7782 C.3       1 <0>         0.0000\\n     15 C15         8.2259    0.9565    0.5317 C.3       1 <0>         0.0000\\n     16 N1          6.8184    1.3049    0.6142 N.3       1 <0>         0.0000\\n     17 O1          1.8456    1.7642    0.4579 O.3       1 <0>         0.0000\\n     18 H1          0.3626   -2.4364   -0.2826 H         1 <0>         0.0000\\n     19 H2          2.6382   -3.3753   -0.1376 H         1 <0>         0.0000\\n     20 H3         -0.0028   -0.0064   -0.0078 H         1 <0>         0.0000\\n     21 H4          5.1277   -2.4636    1.3299 H         1 <0>         0.0000\\n     22 H5          5.0371   -2.9326   -0.3729 H         1 <0>         0.0000\\n     23 H6          7.0478   -1.5097    0.2391 H         1 <0>         0.0000\\n     24 H7          6.0764   -0.8089   -1.0418 H         1 <0>         0.0000\\n     25 H8          4.3268    2.8046   -0.3459 H         1 <0>         0.0000\\n     26 H9          4.4406    1.4452   -1.4731 H         1 <0>         0.0000\\n     27 H10         6.7258    1.5374   -1.5075 H         1 <0>         0.0000\\n     28 H11         6.5931    3.0562   -0.5857 H         1 <0>         0.0000\\n     29 H12         4.2987    1.4285    1.5588 H         1 <0>         0.0000\\n     30 H13         5.9623   -0.0918    1.9355 H         1 <0>         0.0000\\n     31 H14         9.0838    2.0012    2.9794 H         1 <0>         0.0000\\n     32 H15         7.4803    1.2822    3.2010 H         1 <0>         0.0000\\n     33 H16         8.8978    0.5119    3.9272 H         1 <0>         0.0000\\n     34 H17         8.1597   -0.7056    1.8867 H         1 <0>         0.0000\\n     35 H18         9.7766   -0.0331    1.6665 H         1 <0>         0.0000\\n     36 H19         8.7795    1.8913    0.3990 H         1 <0>         0.0000\\n     37 H20         8.3681    0.3459   -0.3656 H         1 <0>         0.0000\\n     38 H21         0.8961    1.9405    0.3775 H         1 <0>         0.0000\\n@<TRIPOS>BOND\\n     1    1    2 ar\\n     2    1    3 ar\\n     3    2    4 ar\\n     4    3    6 ar\\n     5    4    5 ar\\n     6    4    7 1\\n     7    5    6 ar\\n     8    5   11 1\\n     9    6   17 1\\n    10    7    8 1\\n    11    8   12 1\\n    12    9   10 1\\n    13    9   11 1\\n    14   10   16 1\\n    15   11   12 1\\n    16   12   16 1\\n    17   13   14 1\\n    18   14   15 1\\n    19   15   16 1\\n    20    1   18 1\\n    21    2   19 1\\n    22    3   20 1\\n    23    7   21 1\\n    24    7   22 1\\n    25    8   23 1\\n    26    8   24 1\\n    27    9   25 1\\n    28    9   26 1\\n    29   10   27 1\\n    30   10   28 1\\n    31   11   29 1\\n    32   12   30 1\\n    33   13   31 1\\n    34   13   32 1\\n    35   13   33 1\\n    36   14   34 1\\n    37   14   35 1\\n    38   15   36 1\\n    39   15   37 1\\n    40   17   38 1\\n@<TRIPOS>MOLECULE\\n*****\\n   38    40     0     0     0\\nSMALL\\nNO_CHARGES\\n\\n@<TRIPOS>ATOM\\n      1 C1          0.9721   -1.9182   -0.0660 C.ar      1 <0>         0.0000\\n      2 C2          2.1900   -2.5961   -0.0350 C.ar      1 <0>         0.0000\\n      3 C3          0.9477   -0.5299    0.0221 C.ar      1 <0>         0.0000\\n      4 C4          3.3985   -1.8912    0.0739 C.ar      1 <0>         0.0000\\n      5 C5          3.3761   -0.4879    0.1755 C.ar      1 <0>         0.0000\\n      6 C6          2.1411    0.1808    0.1447 C.ar      1 <0>         0.0000\\n      7 C7          4.6933   -2.6600    0.1345 C.3       1 <0>         0.0000\\n      8 C8          5.8879   -1.8126   -0.2951 C.3       1 <0>         0.0000\\n      9 C9          4.9511    1.1953   -0.8975 C.3       1 <0>         0.0000\\n     10 C10         6.4626    1.1232   -1.0935 C.3       1 <0>         0.0000\\n     11 C11         4.6457    0.3166    0.3192 C.3       1 <0>         0.0000\\n     12 C12         5.9250   -0.5071    0.5112 C.3       1 <0>         0.0000\\n     13 C13         9.9313    0.8113    0.5775 C.3       1 <0>         0.0000\\n     14 C14         8.8509    1.8654    0.7736 C.3       1 <0>         0.0000\\n     15 C15         7.4885    1.2606    1.0903 C.3       1 <0>         0.0000\\n     16 N1          7.0188    0.3609    0.0351 N.3       1 <0>         0.0000\\n     17 O1          2.0728    1.5406    0.2400 O.3       1 <0>         0.0000\\n     18 H1          0.0435   -2.4740   -0.1568 H         1 <0>         0.0000\\n     19 H2          2.1921   -3.6822   -0.0907 H         1 <0>         0.0000\\n     20 H3         -0.0042   -0.0065   -0.0076 H         1 <0>         0.0000\\n     21 H4          4.8709   -3.0119    1.1631 H         1 <0>         0.0000\\n     22 H5          4.6046   -3.5573   -0.4980 H         1 <0>         0.0000\\n     23 H6          6.8092   -2.3631   -0.1084 H         1 <0>         0.0000\\n     24 H7          5.8371   -1.6139   -1.3610 H         1 <0>         0.0000\\n     25 H8          4.6267    2.2331   -0.7443 H         1 <0>         0.0000\\n     26 H9          4.4526    0.8295   -1.8078 H         1 <0>         0.0000\\n     27 H10         6.7144    0.6505   -2.0694 H         1 <0>         0.0000\\n     28 H11         6.8835    2.1556   -1.1314 H         1 <0>         0.0000\\n     29 H12         4.5361    0.9508    1.2186 H         1 <0>         0.0000\\n     30 H13         6.0651   -0.7460    1.5521 H         1 <0>         0.0000\\n     31 H14        10.0447    0.1944    1.4746 H         1 <0>         0.0000\\n     32 H15         9.6671    0.1517   -0.2554 H         1 <0>         0.0000\\n     33 H16        10.8987    1.2690    0.3491 H         1 <0>         0.0000\\n     34 H17         8.7700    2.4589   -0.1445 H         1 <0>         0.0000\\n     35 H18         9.1553    2.5483    1.5756 H         1 <0>         0.0000\\n     36 H19         7.5452    0.6716    2.0111 H         1 <0>         0.0000\\n     37 H20         6.7310    2.0384    1.2295 H         1 <0>         0.0000\\n     38 H21         1.1485    1.8300    0.2063 H         1 <0>         0.0000\\n@<TRIPOS>BOND\\n     1    1    2 ar\\n     2    1    3 ar\\n     3    2    4 ar\\n     4    3    6 ar\\n     5    4    5 ar\\n     6    4    7 1\\n     7    5    6 ar\\n     8    5   11 1\\n     9    6   17 1\\n    10    7    8 1\\n    11    8   12 1\\n    12    9   10 1\\n    13    9   11 1\\n    14   10   16 1\\n    15   11   12 1\\n    16   12   16 1\\n    17   13   14 1\\n    18   14   15 1\\n    19   15   16 1\\n    20    1   18 1\\n    21    2   19 1\\n    22    3   20 1\\n    23    7   21 1\\n    24    7   22 1\\n    25    8   23 1\\n    26    8   24 1\\n    27    9   25 1\\n    28    9   26 1\\n    29   10   27 1\\n    30   10   28 1\\n    31   11   29 1\\n    32   12   30 1\\n    33   13   31 1\\n    34   13   32 1\\n    35   13   33 1\\n    36   14   34 1\\n    37   14   35 1\\n    38   15   36 1\\n    39   15   37 1\\n    40   17   38 1\\n@<TRIPOS>MOLECULE\\n*****\\n   38    40     0     0     0\\nSMALL\\nNO_CHARGES\\n\\n@<TRIPOS>ATOM\\n      1 C1          1.0995   -1.8479   -0.0614 C.ar      1 <0>         0.0000\\n      2 C2          2.3603   -2.4410   -0.0275 C.ar      1 <0>         0.0000\\n      3 C3          0.9817   -0.4642    0.0189 C.ar      1 <0>         0.0000\\n      4 C4          3.5168   -1.6532    0.0735 C.ar      1 <0>         0.0000\\n      5 C5          3.4033   -0.2537    0.1602 C.ar      1 <0>         0.0000\\n      6 C6          2.1247    0.3271    0.1351 C.ar      1 <0>         0.0000\\n      7 C7          4.8651   -2.3205    0.1348 C.3       1 <0>         0.0000\\n      8 C8          5.9441   -1.4279   -0.4656 C.3       1 <0>         0.0000\\n      9 C9          4.7475    1.7496   -0.6939 C.3       1 <0>         0.0000\\n     10 C10         6.2106    2.1321   -0.5725 C.3       1 <0>         0.0000\\n     11 C11         4.6210    0.6214    0.3293 C.3       1 <0>         0.0000\\n     12 C12         5.9962   -0.0802    0.2578 C.3       1 <0>         0.0000\\n     13 C13         9.2586   -0.4218   -1.8403 C.3       1 <0>         0.0000\\n     14 C14         9.0801   -0.2783   -0.3356 C.3       1 <0>         0.0000\\n     15 C15         8.2191    0.9205    0.0437 C.3       1 <0>         0.0000\\n     16 N1          6.8725    0.8306   -0.5014 N.3       1 <0>         0.0000\\n     17 O1          1.9625    1.6794    0.2296 O.3       1 <0>         0.0000\\n     18 H1          0.2107   -2.4656   -0.1485 H         1 <0>         0.0000\\n     19 H2          2.4370   -3.5243   -0.0744 H         1 <0>         0.0000\\n     20 H3         -0.0035   -0.0061   -0.0116 H         1 <0>         0.0000\\n     21 H4          5.1303   -2.5327    1.1777 H         1 <0>         0.0000\\n     22 H5          4.8129   -3.2801   -0.3932 H         1 <0>         0.0000\\n     23 H6          6.9166   -1.9161   -0.3645 H         1 <0>         0.0000\\n     24 H7          5.7642   -1.2954   -1.5316 H         1 <0>         0.0000\\n     25 H8          4.0998    2.5878   -0.4604 H         1 <0>         0.0000\\n     26 H9          4.5423    1.4126   -1.7073 H         1 <0>         0.0000\\n     27 H10         6.5436    2.7194   -1.4342 H         1 <0>         0.0000\\n     28 H11         6.3702    2.7227    0.3389 H         1 <0>         0.0000\\n     29 H12         4.5641    1.0685    1.3554 H         1 <0>         0.0000\\n     30 H13         6.3945   -0.2327    1.2475 H         1 <0>         0.0000\\n     31 H14         8.2920   -0.5384   -2.3406 H         1 <0>         0.0000\\n     32 H15         9.7454    0.4698   -2.2485 H         1 <0>         0.0000\\n     33 H16         9.8816   -1.2869   -2.0876 H         1 <0>         0.0000\\n     34 H17        10.0683   -0.1644    0.1251 H         1 <0>         0.0000\\n     35 H18         8.6400   -1.1995    0.0643 H         1 <0>         0.0000\\n     36 H19         8.1202    0.9812    1.1321 H         1 <0>         0.0000\\n     37 H20         8.6625    1.8563   -0.3108 H         1 <0>         0.0000\\n     38 H21         1.0201    1.9037    0.2003 H         1 <0>         0.0000\\n@<TRIPOS>BOND\\n     1    1    2 ar\\n     2    1    3 ar\\n     3    2    4 ar\\n     4    3    6 ar\\n     5    4    5 ar\\n     6    4    7 1\\n     7    5    6 ar\\n     8    5   11 1\\n     9    6   17 1\\n    10    7    8 1\\n    11    8   12 1\\n    12    9   10 1\\n    13    9   11 1\\n    14   10   16 1\\n    15   11   12 1\\n    16   12   16 1\\n    17   13   14 1\\n    18   14   15 1\\n    19   15   16 1\\n    20    1   18 1\\n    21    2   19 1\\n    22    3   20 1\\n    23    7   21 1\\n    24    7   22 1\\n    25    8   23 1\\n    26    8   24 1\\n    27    9   25 1\\n    28    9   26 1\\n    29   10   27 1\\n    30   10   28 1\\n    31   11   29 1\\n    32   12   30 1\\n    33   13   31 1\\n    34   13   32 1\\n    35   13   33 1\\n    36   14   34 1\\n    37   14   35 1\\n    38   15   36 1\\n    39   15   37 1\\n    40   17   38 1\\n@<TRIPOS>MOLECULE\\n*****\\n   38    40     0     0     0\\nSMALL\\nNO_CHARGES\\n\\n@<TRIPOS>ATOM\\n      1 C1          0.9721   -1.9182   -0.0660 C.ar      1 <0>         0.0000\\n      2 C2          2.1900   -2.5961   -0.0350 C.ar      1 <0>         0.0000\\n      3 C3          0.9477   -0.5299    0.0221 C.ar      1 <0>         0.0000\\n      4 C4          3.3985   -1.8912    0.0739 C.ar      1 <0>         0.0000\\n      5 C5          3.3761   -0.4879    0.1755 C.ar      1 <0>         0.0000\\n      6 C6          2.1411    0.1808    0.1447 C.ar      1 <0>         0.0000\\n      7 C7          4.6933   -2.6600    0.1345 C.3       1 <0>         0.0000\\n      8 C8          5.8879   -1.8126   -0.2951 C.3       1 <0>         0.0000\\n      9 C9          4.9511    1.1953   -0.8975 C.3       1 <0>         0.0000\\n     10 C10         6.4626    1.1232   -1.0935 C.3       1 <0>         0.0000\\n     11 C11         4.6457    0.3166    0.3192 C.3       1 <0>         0.0000\\n     12 C12         5.9250   -0.5071    0.5112 C.3       1 <0>         0.0000\\n     13 C13         8.9772    1.5150    3.1278 C.3       1 <0>         0.0000\\n     14 C14         8.4999    0.5933    2.0145 C.3       1 <0>         0.0000\\n     15 C15         7.4885    1.2606    1.0903 C.3       1 <0>         0.0000\\n     16 N1          7.0188    0.3609    0.0351 N.3       1 <0>         0.0000\\n     17 O1          2.0728    1.5406    0.2400 O.3       1 <0>         0.0000\\n     18 H1          0.0435   -2.4740   -0.1568 H         1 <0>         0.0000\\n     19 H2          2.1921   -3.6822   -0.0907 H         1 <0>         0.0000\\n     20 H3         -0.0042   -0.0065   -0.0076 H         1 <0>         0.0000\\n     21 H4          4.8709   -3.0119    1.1631 H         1 <0>         0.0000\\n     22 H5          4.6046   -3.5573   -0.4980 H         1 <0>         0.0000\\n     23 H6          6.8092   -2.3631   -0.1084 H         1 <0>         0.0000\\n     24 H7          5.8371   -1.6139   -1.3610 H         1 <0>         0.0000\\n     25 H8          4.6267    2.2331   -0.7443 H         1 <0>         0.0000\\n     26 H9          4.4526    0.8295   -1.8078 H         1 <0>         0.0000\\n     27 H10         6.7144    0.6505   -2.0694 H         1 <0>         0.0000\\n     28 H11         6.8835    2.1556   -1.1314 H         1 <0>         0.0000\\n     29 H12         4.5361    0.9508    1.2186 H         1 <0>         0.0000\\n     30 H13         6.0651   -0.7460    1.5521 H         1 <0>         0.0000\\n     31 H14         9.4480    2.4141    2.7177 H         1 <0>         0.0000\\n     32 H15         8.1300    1.8288    3.7461 H         1 <0>         0.0000\\n     33 H16         9.6999    1.0135    3.7788 H         1 <0>         0.0000\\n     34 H17         8.0366   -0.2913    2.4667 H         1 <0>         0.0000\\n     35 H18         9.3657    0.2470    1.4377 H         1 <0>         0.0000\\n     36 H19         6.6078    1.5714    1.6612 H         1 <0>         0.0000\\n     37 H20         7.9136    2.1475    0.6101 H         1 <0>         0.0000\\n     38 H21         1.1485    1.8300    0.2063 H         1 <0>         0.0000\\n@<TRIPOS>BOND\\n     1    1    2 ar\\n     2    1    3 ar\\n     3    2    4 ar\\n     4    3    6 ar\\n     5    4    5 ar\\n     6    4    7 1\\n     7    5    6 ar\\n     8    5   11 1\\n     9    6   17 1\\n    10    7    8 1\\n    11    8   12 1\\n    12    9   10 1\\n    13    9   11 1\\n    14   10   16 1\\n    15   11   12 1\\n    16   12   16 1\\n    17   13   14 1\\n    18   14   15 1\\n    19   15   16 1\\n    20    1   18 1\\n    21    2   19 1\\n    22    3   20 1\\n    23    7   21 1\\n    24    7   22 1\\n    25    8   23 1\\n    26    8   24 1\\n    27    9   25 1\\n    28    9   26 1\\n    29   10   27 1\\n    30   10   28 1\\n    31   11   29 1\\n    32   12   30 1\\n    33   13   31 1\\n    34   13   32 1\\n    35   13   33 1\\n    36   14   34 1\\n    37   14   35 1\\n    38   15   36 1\\n    39   15   37 1\\n    40   17   38 1\\n@<TRIPOS>MOLECULE\\n*****\\n   38    40     0     0     0\\nSMALL\\nNO_CHARGES\\n\\n@<TRIPOS>ATOM\\n      1 C1          1.6019   -1.3691    0.4333 C.ar      1 <0>         0.0000\\n      2 C2          2.6922   -2.0687   -0.0817 C.ar      1 <0>         0.0000\\n      3 C3          0.8482   -0.5482   -0.3993 C.ar      1 <0>         0.0000\\n      4 C4          3.0435   -1.9487   -1.4348 C.ar      1 <0>         0.0000\\n      5 C5          2.2694   -1.1405   -2.2857 C.ar      1 <0>         0.0000\\n      6 C6          1.1788   -0.4346   -1.7493 C.ar      1 <0>         0.0000\\n      7 C7          4.2228   -2.7184   -1.9641 C.3       1 <0>         0.0000\\n      8 C8          4.8660   -1.9899   -3.1387 C.3       1 <0>         0.0000\\n      9 C9          1.4561   -1.6132   -4.6243 C.3       1 <0>         0.0000\\n     10 C10         2.1653   -2.4663   -5.6603 C.3       1 <0>         0.0000\\n     11 C11         2.5794   -1.0088   -3.7632 C.3       1 <0>         0.0000\\n     12 C12         3.8651   -1.7109   -4.2602 C.3       1 <0>         0.0000\\n     13 C13         5.8087   -3.1818   -7.8734 C.3       1 <0>         0.0000\\n     14 C14         4.8128   -2.5499   -6.9113 C.3       1 <0>         0.0000\\n     15 C15         4.3261   -3.5230   -5.8442 C.3       1 <0>         0.0000\\n     16 N1          3.3568   -2.9160   -4.9396 N.3       1 <0>         0.0000\\n     17 O1          0.4172    0.3854   -2.5308 O.3       1 <0>         0.0000\\n     18 H1          1.3430   -1.4637    1.4837 H         1 <0>         0.0000\\n     19 H2          3.2725   -2.7061    0.5810 H         1 <0>         0.0000\\n     20 H3          0.0026   -0.0007    0.0083 H         1 <0>         0.0000\\n     21 H4          4.9761   -2.8388   -1.1762 H         1 <0>         0.0000\\n     22 H5          3.8923   -3.7209   -2.2601 H         1 <0>         0.0000\\n     23 H6          5.2755   -1.0320   -2.7896 H         1 <0>         0.0000\\n     24 H7          5.7196   -2.5688   -3.5084 H         1 <0>         0.0000\\n     25 H8          0.8492   -0.8354   -5.1003 H         1 <0>         0.0000\\n     26 H9          0.7813   -2.2441   -4.0314 H         1 <0>         0.0000\\n     27 H10         1.5392   -3.3028   -5.9866 H         1 <0>         0.0000\\n     28 H11         2.4232   -1.8570   -6.5361 H         1 <0>         0.0000\\n     29 H12         2.6812    0.0620   -3.9884 H         1 <0>         0.0000\\n     30 H13         4.3453   -1.0568   -5.0029 H         1 <0>         0.0000\\n     31 H14         6.6891   -3.5527   -7.3389 H         1 <0>         0.0000\\n     32 H15         5.3465   -4.0279   -8.3920 H         1 <0>         0.0000\\n     33 H16         6.1414   -2.4654   -8.6308 H         1 <0>         0.0000\\n     34 H17         3.9496   -2.1930   -7.4851 H         1 <0>         0.0000\\n     35 H18         5.2737   -1.6738   -6.4398 H         1 <0>         0.0000\\n     36 H19         3.8320   -4.3787   -6.3150 H         1 <0>         0.0000\\n     37 H20         5.1579   -3.8996   -5.2406 H         1 <0>         0.0000\\n     38 H21        -0.2840    0.7930   -2.0004 H         1 <0>         0.0000\\n@<TRIPOS>BOND\\n     1    1    2 ar\\n     2    1    3 ar\\n     3    2    4 ar\\n     4    3    6 ar\\n     5    4    5 ar\\n     6    4    7 1\\n     7    5    6 ar\\n     8    5   11 1\\n     9    6   17 1\\n    10    7    8 1\\n    11    8   12 1\\n    12    9   10 1\\n    13    9   11 1\\n    14   10   16 1\\n    15   11   12 1\\n    16   12   16 1\\n    17   13   14 1\\n    18   14   15 1\\n    19   15   16 1\\n    20    1   18 1\\n    21    2   19 1\\n    22    3   20 1\\n    23    7   21 1\\n    24    7   22 1\\n    25    8   23 1\\n    26    8   24 1\\n    27    9   25 1\\n    28    9   26 1\\n    29   10   27 1\\n    30   10   28 1\\n    31   11   29 1\\n    32   12   30 1\\n    33   13   31 1\\n    34   13   32 1\\n    35   13   33 1\\n    36   14   34 1\\n    37   14   35 1\\n    38   15   36 1\\n    39   15   37 1\\n    40   17   38 1\\n@<TRIPOS>MOLECULE\\n*****\\n   38    40     0     0     0\\nSMALL\\nNO_CHARGES\\n\\n@<TRIPOS>ATOM\\n      1 C1          0.9721   -1.9182   -0.0660 C.ar      1 <0>         0.0000\\n      2 C2          2.1900   -2.5961   -0.0350 C.ar      1 <0>         0.0000\\n      3 C3          0.9477   -0.5299    0.0221 C.ar      1 <0>         0.0000\\n      4 C4          3.3985   -1.8912    0.0739 C.ar      1 <0>         0.0000\\n      5 C5          3.3761   -0.4879    0.1755 C.ar      1 <0>         0.0000\\n      6 C6          2.1411    0.1808    0.1447 C.ar      1 <0>         0.0000\\n      7 C7          4.6933   -2.6600    0.1345 C.3       1 <0>         0.0000\\n      8 C8          5.8879   -1.8126   -0.2951 C.3       1 <0>         0.0000\\n      9 C9          4.9511    1.1953   -0.8975 C.3       1 <0>         0.0000\\n     10 C10         6.4626    1.1232   -1.0935 C.3       1 <0>         0.0000\\n     11 C11         4.6457    0.3166    0.3192 C.3       1 <0>         0.0000\\n     12 C12         5.9250   -0.5071    0.5112 C.3       1 <0>         0.0000\\n     13 C13         9.0740    3.1457    1.6943 C.3       1 <0>         0.0000\\n     14 C14         8.5643    2.2211    0.5979 C.3       1 <0>         0.0000\\n     15 C15         7.4885    1.2606    1.0903 C.3       1 <0>         0.0000\\n     16 N1          7.0188    0.3609    0.0351 N.3       1 <0>         0.0000\\n     17 O1          2.0728    1.5406    0.2400 O.3       1 <0>         0.0000\\n     18 H1          0.0435   -2.4740   -0.1568 H         1 <0>         0.0000\\n     19 H2          2.1921   -3.6822   -0.0907 H         1 <0>         0.0000\\n     20 H3         -0.0042   -0.0065   -0.0076 H         1 <0>         0.0000\\n     21 H4          4.8709   -3.0119    1.1631 H         1 <0>         0.0000\\n     22 H5          4.6046   -3.5573   -0.4980 H         1 <0>         0.0000\\n     23 H6          6.8092   -2.3631   -0.1084 H         1 <0>         0.0000\\n     24 H7          5.8371   -1.6139   -1.3610 H         1 <0>         0.0000\\n     25 H8          4.6267    2.2331   -0.7443 H         1 <0>         0.0000\\n     26 H9          4.4526    0.8295   -1.8078 H         1 <0>         0.0000\\n     27 H10         6.7144    0.6505   -2.0694 H         1 <0>         0.0000\\n     28 H11         6.8835    2.1556   -1.1314 H         1 <0>         0.0000\\n     29 H12         4.5361    0.9508    1.2186 H         1 <0>         0.0000\\n     30 H13         6.0651   -0.7460    1.5521 H         1 <0>         0.0000\\n     31 H14         8.2595    3.7476    2.1098 H         1 <0>         0.0000\\n     32 H15         9.5106    2.5590    2.5089 H         1 <0>         0.0000\\n     33 H16         9.8463    3.8234    1.3177 H         1 <0>         0.0000\\n     34 H17         9.4083    1.6387    0.2104 H         1 <0>         0.0000\\n     35 H18         8.1786    2.8249   -0.2320 H         1 <0>         0.0000\\n     36 H19         7.8867    0.6319    1.8930 H         1 <0>         0.0000\\n     37 H20         6.6207    1.8019    1.4802 H         1 <0>         0.0000\\n     38 H21         1.1485    1.8300    0.2063 H         1 <0>         0.0000\\n@<TRIPOS>BOND\\n     1    1    2 ar\\n     2    1    3 ar\\n     3    2    4 ar\\n     4    3    6 ar\\n     5    4    5 ar\\n     6    4    7 1\\n     7    5    6 ar\\n     8    5   11 1\\n     9    6   17 1\\n    10    7    8 1\\n    11    8   12 1\\n    12    9   10 1\\n    13    9   11 1\\n    14   10   16 1\\n    15   11   12 1\\n    16   12   16 1\\n    17   13   14 1\\n    18   14   15 1\\n    19   15   16 1\\n    20    1   18 1\\n    21    2   19 1\\n    22    3   20 1\\n    23    7   21 1\\n    24    7   22 1\\n    25    8   23 1\\n    26    8   24 1\\n    27    9   25 1\\n    28    9   26 1\\n    29   10   27 1\\n    30   10   28 1\\n    31   11   29 1\\n    32   12   30 1\\n    33   13   31 1\\n    34   13   32 1\\n    35   13   33 1\\n    36   14   34 1\\n    37   14   35 1\\n    38   15   36 1\\n    39   15   37 1\\n    40   17   38 1\\n\");\n",
       "viewer_1643777748268179.setStyle({\"stick\": {}});\n",
       "viewer_1643777748268179.zoomTo();\n",
       "viewer_1643777748268179.render();\n",
       "});\n",
       "</script>"
      ]
     },
     "metadata": {},
     "output_type": "display_data"
    }
   ],
   "source": [
    "import py3Dmol\n",
    "viewer = py3Dmol.view(data=open('test.mol2','r').read(),style={'stick':{}})\n",
    "viewer.show()"
   ]
  },
  {
   "cell_type": "markdown",
   "metadata": {
    "id": "OSAaPq5gyP0g"
   },
   "source": [
    "Now you should probably check with PyMol that `test.mol2` has a molecule with a 3D conformer in it, or add visualization in this notebook using `nglview` to check."
   ]
  },
  {
   "cell_type": "markdown",
   "metadata": {
    "id": "09Q1EVHryP0h"
   },
   "source": [
    "## Step 3: Shape overlay your molecules\n",
    "\n",
    "### Get ready\n",
    "Next, we want to do a shape overlay of your molecules so we can see how structurally similar they are. This is a common task in drug discovery, as we noted in class, and often can be used in several ways, such as finding out about the likely shape of a binding site based on the molecules which bind there, or finding new molecules which may fit a binding site while being chemically distinct from existing molecules based on their shape. \n",
    "\n",
    "Here, our goal will be to take your entire set of molecules and overlay them onto a common reference structure. Here's an example which does a shape (+color, where color basically measures chemical similarity) overlay for a pair of molecules; this is rather likewhat you saw in the 3D structure/shape lecture: "
   ]
  },
  {
   "cell_type": "code",
   "execution_count": 17,
   "metadata": {
    "id": "phAZaasmyP0h",
    "outputId": "9787e511-50c6-402a-c5ab-763ef47d07e5"
   },
   "outputs": [
    {
     "name": "stdout",
     "output_type": "stream",
     "text": [
      "title: naproxen_12  tanimoto combo = 1.49\n",
      "title: naproxen_9  tanimoto combo = 1.49\n",
      "title: naproxen_12  tanimoto combo = 1.42\n",
      "title: naproxen_13  tanimoto combo = 1.42\n",
      "title: naproxen_7  tanimoto combo = 1.41\n",
      "title: naproxen_4  tanimoto combo = 1.41\n",
      "title: naproxen_4  tanimoto combo = 1.41\n",
      "title: naproxen_8  tanimoto combo = 1.40\n",
      "title: naproxen_0  tanimoto combo = 1.40\n",
      "title: naproxen_12  tanimoto combo = 1.39\n"
     ]
    }
   ],
   "source": [
    "from openeye.oechem import *\n",
    "from openeye.oeomega import *\n",
    "from openeye.oeiupac import *\n",
    "from openeye.oeshape import *\n",
    "\n",
    "omega = OEOmega() #Initialize class\n",
    "omega.SetMaxConfs(100) #Here we want to use more conformers if needed\n",
    "omega.SetStrictStereo(False) #Set to false to pick random stereoisomer if stereochemistry is not specified\n",
    "\n",
    "# Make some molecules\n",
    "ibuprofen = OEMol()\n",
    "naproxen = OEMol()\n",
    "OEParseIUPACName(ibuprofen, 'ibuprofen')\n",
    "OEParseIUPACName(naproxen, 'naproxen')\n",
    "\n",
    "#Set up reference molecule\n",
    "refmol = ibuprofen\n",
    "omega(refmol)\n",
    "\n",
    "#Fit molecule\n",
    "fitmol = naproxen\n",
    "omega(fitmol)\n",
    "fitmol.SetTitle('naproxen')\n",
    "\n",
    "# Open output stream for output molecule\n",
    "outfs = oemolostream('fitted_output.mol2')\n",
    "# How many conformers will we generate for fitting?\n",
    "nconfs = 10\n",
    "\n",
    "# Setup ROCS to provide specified number of conformers per hit\n",
    "options = OEROCSOptions()\n",
    "options.SetNumBestHits(nconfs)\n",
    "options.SetConfsPerHit(nconfs)\n",
    "rocs = OEROCS(options)\n",
    "rocs.AddMolecule(fitmol) #Add our molecule as the one we are fitting\n",
    "\n",
    "# Loop over results and output\n",
    "for res in rocs.Overlay(refmol):\n",
    "    outmol = res.GetOverlayConfs() #Use GetOverlayConf to get just the best; GetOverlayConfs for all\n",
    "    OERemoveColorAtoms(outmol)\n",
    "    OEAddExplicitHydrogens(outmol)\n",
    "    OEWriteMolecule(outfs, outmol)\n",
    "    print(\"title: %s  tanimoto combo = %.2f\" % (outmol.GetTitle(), res.GetTanimotoCombo()))\n",
    "outfs.close()\n",
    "\n",
    "# If you wanted, you could also print just the \"color\" similarity:\n",
    "#print(res.GetColorTanimoto())\n",
    "# Or just the shape similarity:\n",
    "#print(res.GetShapeTanimoto())"
   ]
  },
  {
   "cell_type": "markdown",
   "metadata": {
    "id": "owfnNbolyP0h"
   },
   "source": [
    "### Make a function to do this\n",
    "\n",
    "Again, we'd be better off with a function to do this (and we'll use this function also below in the ligand-based design portion of the assignment, below). So, edit the code below and complete the `fitMoleculeToReference` function. The idea of this function is to take two molecules and compare them based on shape. The code here is a little complicated (which is why I’ve written similar code for you) and the only things you should have to change are the variable names and the indentation. What this ultimately will do is take two molecules, overlay them in a number of different ways, and then return (give back to the user) the actual overlays of the molecules, sorted from best to worst, and the “Tanimoto” scores of the overlays in the same order. Tanimoto scores are scores running from 0 to 1 and essentially measure similarity, where 0 means totally dissimilar and 1 means totally identical. Here, we are actually combining TWO Tanimoto scores (a ‘shape’ Tanimoto score and a ‘color’ (Chemistry) tanimoto score) so our overall Tanimoto score runs from 0 to 2.\n",
    "\n",
    "Once you think you’ve got your `fitMoleculeToReference` function working, test it on a specific pair of molecules, then use `writeMolecule` (as above) to write out the reference molecule and the fitted molecule (to .mol2 or .sdf format) and view them in PyMol (after downloading to your computer) to ensure it’s working.\n",
    "\n",
    "When you have the function working, then set up a loop over all of your molecules except your chosen reference molecule, ‘molecule1’, to overlay all of the molecules onto it. Before the loop, set up a list to store the best score for each pair of molecules. Inside the loop, fit each molecule onto the reference and then store the resulting fits to files (being careful not to overwrite any of your existing files). Also store the best score to the list of scores. Also have your program print out the scores. Visualize in PyMol the resulting overlays, and note which ones seem good, which ones seem bad, and which ones seem OK. Note whether these observations seem consistent with the scores (Tanimoto scores) you’re getting or not.\n",
    "\n",
    "For this portion of the assignment, you should submit your reference molecule’s structure (.mol2 or .sdf) as well as the structure of the best overlay you found, with its score. You should also include a sentence or more explaining what you found in this step in your e-mail."
   ]
  },
  {
   "cell_type": "code",
   "execution_count": 152,
   "metadata": {
    "id": "e9Avnr34yP0i",
    "tags": []
   },
   "outputs": [],
   "source": [
    "def fitMoleculeToReference( refmol, fitmol, ShapeColor = True):\n",
    "    \"\"\"Take a multi-conformation molecule to be fitted, and fit it onto a reference molecule using shape overlays.\n",
    "Arguments:\n",
    "- refmol: Reference molecule to fit onto\n",
    "- fitmol: Molecule to fit onto the reference molecule; should be multiple-conformation\n",
    "- ShapeColor: Optional argument specifying whether to score overlays based on shape alone (False) or to score based on both shape and color fit (True); in the latter case scores will run from 0 to 2 while in the former they will run from 0 to 1. Default: True.\n",
    "Returns:\n",
    "- fitted: The fitted conformations, ordered by score from best to worst\n",
    "- tanimotos: Tanimoto scores of the fitted conformations.\"\"\"\n",
    "\n",
    "    #Write your code here, as seen in the example\n",
    "    #fitmol.SetTitle('Fitted_Conformer_No')\n",
    "    \n",
    "    #outfs = oemolostream('fitted_output.mol2')\n",
    "    nconfs=10\n",
    "    options = OEROCSOptions()\n",
    "    options.SetNumBestHits(nconfs)\n",
    "    options.SetConfsPerHit(nconfs)\n",
    "    rocs = OEROCS (options)\n",
    "    rocs.AddMolecule(fitmol)\n",
    "    \n",
    "    fitted=[]\n",
    "    tanimotos = []\n",
    "    \n",
    "    for res in rocs.Overlay(refmol):\n",
    "        outmol = res.GetOverlayConfs()\n",
    "        OERemoveColorAtoms(outmol)\n",
    "        OEAddExplicitHydrogens(outmol)\n",
    "        OEWriteMolecule(outfs,outmol)\n",
    "        fitted.append(outmol.GetTitle())\n",
    "        if ShapeColor==True:\n",
    "            tanimotos.append(res.GetTanimotoCombo())\n",
    "        else:\n",
    "            tanimotos.append(res.GetShapeTanimoto())\n",
    "                \n",
    "\n",
    "    return (fitted, tanimotos)"
   ]
  },
  {
   "cell_type": "code",
   "execution_count": 153,
   "metadata": {},
   "outputs": [
    {
     "name": "stdout",
     "output_type": "stream",
     "text": [
      "   Molecule_Name  Tanimoto_Scores\n",
      "0  SAMPL8_2.mol2         1.198513\n",
      "1  SAMPL8_3.mol2         1.231632\n",
      "2  SAMPL8_6.mol2         1.091667\n"
     ]
    }
   ],
   "source": [
    "## Testing Function\n",
    "fit_mol_list = ['SAMPL8_2.sdf','SAMPL8_3.sdf','SAMPL8_6.sdf']\n",
    "fitted_list=[]\n",
    "tanimoto_list=[]\n",
    "ref = expandConformations(readMolecule('SAMPL8_1.sdf'))\n",
    "\n",
    "for fit_mol in fit_mol_list:\n",
    "    fit = expandConformations(readMolecule(fit_mol))\n",
    "    ## Naming Output Stream\n",
    "    mol_name = fit_mol.split('.')[0]+'.mol2'\n",
    "    writeMolecule(fit,mol_name)\n",
    "    f,t = fitMoleculeToReference(ref,fit)\n",
    "    fitted_list.append(mol_name)\n",
    "    tanimoto_list.append(max(t))\n",
    "dt = pd.DataFrame()\n",
    "dt['Molecule_Name'] = fitted_list\n",
    "dt['Tanimoto_Scores']= tanimoto_list\n",
    "print(dt)"
   ]
  },
  {
   "cell_type": "code",
   "execution_count": 36,
   "metadata": {},
   "outputs": [
    {
     "name": "stdout",
     "output_type": "stream",
     "text": [
      "The best fit molecule is SAMPL8_3\n"
     ]
    }
   ],
   "source": [
    "id_max = tanimoto_list.index(max(tanimoto_list))\n",
    "print('The best fit molecule is %s' % (fitted_list[id_max].split('.')[0]))"
   ]
  },
  {
   "cell_type": "markdown",
   "metadata": {},
   "source": [
    "As can from the table above code cells SAMPL3 would seem to have the greatest similarity score amongst all of the tested molecules."
   ]
  },
  {
   "cell_type": "markdown",
   "metadata": {
    "id": "Eb-WugN9yP0i"
   },
   "source": [
    "## Step 4: Ligand-based design\n",
    "\n",
    "Your next step involves a simple application of this shape overlay technique to a real problem. You will take an existing ligand -- an HIV-1 integrase inhibitor -- from a structure the protein data bank (PDB) and compare this to a set of molecules which were tested experimentally for possible HIV integrase inhibition. The idea is to see whether the molecules which actually are HIV integrase inhibitors are among those which are most shape similar to the known inhibitor. \n",
    "\n",
    "Here, our exact plan is to take an existing list of 600-700 compounds which were tested for their ability to inhibit HIV-1 integrase. The 3NF8 structure in the PDB gives the crystal structure of one integrase inhibitor from this series bound to HIV-1 integrase. We will use the ligand from that structure as a query, or reference molecule, to see if it easily allows us to recognize other molecules which are likely to bind from our larger set of 600-700 compounds. This somewhat echoes the SAMPL4 HIV integrase challenge reported in [this paper]( http://link.springer.com/article/10.1007/s10822-014-9723-5), though the set of inactive compounds has been expanded somewhat by addition of a portion of the Maybridge fragment library which was also tested experimentally.\n",
    "\n",
    "You will find several supporting files in this directory to help with this part of the assignment:\n",
    "- `actual_w_maybridge.txt`: List of compounds actually tested\n",
    "- `3NF8_ligand.pdb`: To simplify your life, I downloaded the 3NF8 structure and extracted the ligand of interest from it to serve as your reference molecule.\n",
    "- `final_clean_binders.txt`: “Answers” — a text file which can be parsed (by code provided below) into a list of names of binders, which can be used to check your results.\n",
    "Here is what you should do to complete the assignment, starting from the code provided below and the functions you wrote for in Steps 1-3 above:\n",
    "\n",
    "- Set up a loop over the molecules in the set\n",
    "- For every molecule, generate a 3D conformation with your `expandConformations` function, using `strictStereo` set to False (a few molecules have unspecified stereochemistry, and setting this to false here will cause OEChem to pick a random stereoisomer in such cases, which is acceptable in this test)\n",
    "- Use your `fitMolToReference` function to overlay your molecule/conformations onto the reference molecule. Do this twice (getting back two different sets of output) — once with ShapeColor = False and once with it True, so we can compare and find out which works better here.\n",
    "- Store your scores (I store them to a dictionary keyed by molecule name) in a way which allows you to track which molecules they correspond to. \n",
    "- Sort your molecule names by score (for each of the two sets of scores you have). I give an example of how to sort below.\n",
    "- Compare your list of molecule names sorted by score with the list of actual binders (see code below) and identify where you find the actual binders. What you want to track at this stage is how many binders you find at or before each *rank* (entry number) in the list of sorted scores. For example, if there are 60 binders distributed across 650 molecules, you might find the first binder at the top of the list, the second binder at entry number 5, and the third binder at entry number 10. For every entry in the sorted list, store the number of binders found — so in this example, your first 10 entries would be `[ 1, 1, 1, 1, 2, 2, 2, 2, 2, 3]`. If this is still confusing, [see here](ranks.md) for a little more about this process.\n",
    "- For each list of number of compounds found by rank (do this twice, once for each of your two sets of scores), convert it to a list of fraction of actual binders found by rank, by dividing each entry by the total number of binders in the set. For example, if you have found one binder and there are 60 in total, the fracion actives found is 1/60.\n",
    "- Plot the fraction of binders found at each rank, versus the rank, for each of your two scoring schemes. This is an \"enrichment plot\".\n",
    "- Also plot what would be expected if you picked compounds to call \"active\" at random. (Hint, in this approach you would expect to find no actives at rank 0, and all of the actives at rank N, with the fraction of actives found increasing linearly in between). This will allow you to determine whether your approach is doing better than random at recognizing likely active compounds."
   ]
  },
  {
   "cell_type": "markdown",
   "metadata": {
    "id": "dO0jj6cUyP0i"
   },
   "source": [
    "### Some code to get you started\n",
    "\n",
    "This shows how to read in the potential ligands, the reference molecule, and the actual binders."
   ]
  },
  {
   "cell_type": "code",
   "execution_count": 146,
   "metadata": {
    "id": "6vjxUWMWyP0i",
    "tags": []
   },
   "outputs": [],
   "source": [
    "from openeye.oechem import *\n",
    "from openeye.oeiupac import *\n",
    "from openeye.oequacpac import *\n",
    "import pickle\n",
    "\n",
    "# Load the text file containing all the potential ligands\n",
    "file = open('actual_w_maybridge.txt', 'r')\n",
    "text = file.readlines()\n",
    "file.close()\n",
    "\n",
    "#Generate OEMols for all of the potential ligands in our test set; store them to a dictionary by their compound name.\n",
    "mol_by_name = {}\n",
    "for line in text:\n",
    "    mol = OEMol()\n",
    "    tmp = line.split()\n",
    "    name=tmp[0]\n",
    "    smiles=tmp[1]\n",
    "    parsed = OEParseSmiles(mol, smiles)\n",
    "    if not parsed:\n",
    "        print(\"Warning, could not parse %s, pausing.\" % name)\n",
    "        raw_input()\n",
    "    mol_by_name[name] = mol\n",
    "    \n",
    "#Load reference molecule which we will ultimately overlay onto\n",
    "istream = oemolistream('3NF8_ligand.pdb')\n",
    "refmol = OEMol()\n",
    "OEReadMolecule( istream, refmol)\n",
    "istream.close()\n",
    "\n",
    "#Standardize protonation state and make sure there are explicit hydrogens\n",
    "OE3DToInternalStereo(refmol)\n",
    "OESetNeutralpHModel(refmol)\n",
    "OEAddExplicitHydrogens(refmol)\n",
    "\n",
    "\n",
    "#For the purposes of telling how we did, load a list of the names of actual binders\n",
    "#Load actual binders\n",
    "file = open('final_clean_binders.txt', 'r')\n",
    "text = file.readlines()\n",
    "file.close()\n",
    "binders = [ line.split()[0].split('_')[0] for line in text]"
   ]
  },
  {
   "cell_type": "markdown",
   "metadata": {},
   "source": [
    "### Tanimoto Scoring by Shape and Color\n",
    "\n",
    "Generates enrichment scores utilizing tanimoto scores based on both shape and color"
   ]
  },
  {
   "cell_type": "code",
   "execution_count": 46,
   "metadata": {},
   "outputs": [
    {
     "name": "stderr",
     "output_type": "stream",
     "text": [
      "Warning: removing bogus stereo for bond 7 - 10.  Title = \n"
     ]
    }
   ],
   "source": [
    "tanimoto4 = {}\n",
    "ref_mol_expanded = expandConformations(refmol)\n",
    "for key in mol_by_name:\n",
    "    fit = expandConformations(mol_by_name[key])\n",
    "    _,t = fitMoleculeToReference(ref_mol_expanded,fit)\n",
    "    tanimoto4[key]=max(t)"
   ]
  },
  {
   "cell_type": "markdown",
   "metadata": {},
   "source": [
    "#### Sorting Scores in Descending Order\n",
    "\n",
    "The first set of compounds listed have the highest tanimoted scores or are considered \"active\"."
   ]
  },
  {
   "cell_type": "code",
   "execution_count": 111,
   "metadata": {},
   "outputs": [],
   "source": [
    "# Sort names by tanimoto Scores\n",
    "sorted_tanimoto_SC = dict(sorted(tanimoto4.items(),key=operator.itemgetter(1),reverse=True))\n",
    "sorted_names_SC = list(sorted_tanimoto_SC.keys())"
   ]
  },
  {
   "cell_type": "code",
   "execution_count": 112,
   "metadata": {},
   "outputs": [],
   "source": [
    "score=0\n",
    "enrichment_scores=[]\n",
    "for mol_names in sorted_names_SC:\n",
    "    if mol_names in binders:\n",
    "        score+=1\n",
    "        enrichment_scores.append(score)\n",
    "    else:\n",
    "        enrichment_scores.append(score)\n",
    "Fraction_of_binders = [enrichment_score/len(binders) for enrichment_score in enrichment_scores]"
   ]
  },
  {
   "cell_type": "markdown",
   "metadata": {},
   "source": [
    "### Tanimoto Score by Shape\n",
    "\n",
    "Generates enrichment scores utilizing tanimoto scores based on both shape."
   ]
  },
  {
   "cell_type": "code",
   "execution_count": 66,
   "metadata": {},
   "outputs": [],
   "source": [
    "tanimoto4_Shape = {}\n",
    "ref_mol_expanded = expandConformations(refmol)\n",
    "for key in mol_by_name:\n",
    "    fit = expandConformations(mol_by_name[key])\n",
    "    _,t = fitMoleculeToReference(ref_mol_expanded,fit,ShapeColor=False)\n",
    "    tanimoto4_Shape[key]=max(t)"
   ]
  },
  {
   "cell_type": "code",
   "execution_count": 113,
   "metadata": {},
   "outputs": [],
   "source": [
    "# Sort names by tanimoto Scores\n",
    "sorted_tanimoto_Shape = dict(sorted(tanimoto4_Shape.items(),key=operator.itemgetter(1),reverse=True))\n",
    "sorted_names_Shape = list(sorted_tanimoto_Shape.keys())"
   ]
  },
  {
   "cell_type": "code",
   "execution_count": 114,
   "metadata": {},
   "outputs": [],
   "source": [
    "score=0\n",
    "enrichment_scores=[]\n",
    "for mol_names in sorted_names_Shape:\n",
    "    if mol_names in binders:\n",
    "        score+=1\n",
    "        enrichment_scores.append(score)\n",
    "    else:\n",
    "        enrichment_scores.append(score)\n",
    "Fraction_of_binders_Shape = [enrichment_score/len(binders) for enrichment_score in enrichment_scores]"
   ]
  },
  {
   "cell_type": "code",
   "execution_count": 129,
   "metadata": {},
   "outputs": [],
   "source": [
    "random_actives = np.linspace(0,1,len(Fraction_of_binders))"
   ]
  },
  {
   "cell_type": "code",
   "execution_count": 149,
   "metadata": {},
   "outputs": [],
   "source": [
    "### Combining to Make a Dataframe\n",
    "df = pd.DataFrame()\n",
    "df['Scores_SC'] = Fraction_of_binders\n",
    "df['Scores_Shape'] = Fraction_of_binders_Shape\n",
    "df['Random Actives'] = random_actives"
   ]
  },
  {
   "cell_type": "markdown",
   "metadata": {},
   "source": [
    "### Plots\n",
    "\n",
    "First Looking at Tanimoto Scores using both Shape and Color. "
   ]
  },
  {
   "cell_type": "code",
   "execution_count": 132,
   "metadata": {},
   "outputs": [
    {
     "data": {
      "image/png": "[encoded data removed]",
      "text/plain": [
       "<Figure size 432x288 with 1 Axes>"
      ]
     },
     "metadata": {
      "needs_background": "light"
     },
     "output_type": "display_data"
    }
   ],
   "source": [
    "fig1,ax1 = plt.subplots()\n",
    "ax1.plot(df.index.values.tolist(),df['Scores_SC'],label='Shape and Color')\n",
    "ax1.plot(df.index.values.tolist(),df['Scores_Shape'],label='Shape')\n",
    "ax1.plot(df.index.values.tolist(),df['Random Actives'],label='Random Actives')\n",
    "plt.xlabel(\"Rank\")\n",
    "plt.ylabel(\"Enrichment Score\")\n",
    "plt.title(\"Enrichment Plot\")\n",
    "plt.legend(loc=\"lower right\")\n",
    "plt.savefig('Enrichment_Plot.pdf')"
   ]
  },
  {
   "cell_type": "code",
   "execution_count": 148,
   "metadata": {},
   "outputs": [
    {
     "name": "stdout",
     "output_type": "stream",
     "text": [
      "The AUC for Shape and Color overlays is 0.80 and for just shape is 0.63\n"
     ]
    }
   ],
   "source": [
    "x_cor = df.index.values.tolist()\n",
    "norm_x = [x_cors/len(x_cor) for x_cors in x_cor]\n",
    "auc_SC = metrics.auc(norm_x,df['Scores_SC'])\n",
    "auc_Shape = metrics.auc(norm_x,df['Scores_Shape'])\n",
    "print('The AUC for Shape and Color overlays is %.2f and for just shape is %.2f' % (auc_SC,auc_Shape))"
   ]
  },
  {
   "cell_type": "markdown",
   "metadata": {},
   "source": [
    "Looking at the AUC from the above enrichment plot and comparing it to the AUC from the null models that utilized molecular weight and ligand shape, tanimoto scores with color and shape outperform, tanimoto scores with shape and they both null models utilized in the paper. This shows that the shape and color are useful in predicting activity in this case. "
   ]
  },
  {
   "cell_type": "markdown",
   "metadata": {
    "id": "pjTvTVI0yP0j"
   },
   "source": [
    "### Sorting lists"
   ]
  },
  {
   "cell_type": "markdown",
   "metadata": {
    "id": "QgnpjVn-yP0j"
   },
   "source": [
    "I mentioned I would give an example of a sorting a list. If I have scores stored in the dictionary `scores_by_name` and I wanted to make a list of names sorted by scores, I could do it this way: "
   ]
  },
  {
   "cell_type": "code",
   "execution_count": 48,
   "metadata": {
    "id": "OYGsIvf9yP0j",
    "outputId": "520f50d8-668a-4532-9f11-c1dbccc834c3"
   },
   "outputs": [
    {
     "name": "stdout",
     "output_type": "stream",
     "text": [
      "['b', 'a', 'c']\n"
     ]
    }
   ],
   "source": [
    "# Make up a dummy dictionary to sort\n",
    "scores_by_name = {'a':32, 'b':11, 'c':43}\n",
    "\n",
    "# Make a list we want to sort\n",
    "names = list(scores_by_name.keys())\n",
    "\n",
    "# Define function for sorting\n",
    "def f(x):\n",
    "    return scores_by_name[x]\n",
    "\n",
    "# Sort, print sorted list\n",
    "sorted_names = sorted( names, key=f )\n",
    "print(sorted_names)"
   ]
  },
  {
   "cell_type": "markdown",
   "metadata": {
    "id": "zepVJxityP0j"
   },
   "source": [
    "In reality you will have molecule names, and be sorting them by Tanimoto score. "
   ]
  },
  {
   "cell_type": "markdown",
   "metadata": {
    "id": "1sId6UnUyP0j"
   },
   "source": [
    "### Write your code here\n",
    "\n",
    "Here, complete your assignment as described above:"
   ]
  },
  {
   "cell_type": "code",
   "execution_count": null,
   "metadata": {
    "collapsed": true,
    "id": "gDREvMFsyP0j",
    "jupyter": {
     "outputs_hidden": true
    }
   },
   "outputs": [],
   "source": []
  },
  {
   "cell_type": "markdown",
   "metadata": {
    "id": "PIawEUFMyP0j"
   },
   "source": [
    "## What to submit\n",
    "\n",
    "For this assignment, please submit via the course website:\n",
    "- From step 3, structure files for your reference molecule as well as for the best shape overlay onto that structure, with scores. Also submit a sentence or more describing what you found in this section.\n",
    "- From step 4, Your resulting graph of “enrichment” of actual ligands from the set, with axes and curves labeled, along with this Jupyter notebook which produced it\n",
    "- In a box below, or a separate document, a brief explanation of how you see the performance of the shape overlay approach, in view of the linked paper on the SAMPL4 challenge. Why does it do well, or poorly, in this case? Does ‘color’ scoring in addition to shape help? Why or why not? How does this compare to the “null” models tested in the paper? "
   ]
  }
 ],
 "metadata": {
  "colab": {
   "name": "3D_structure_shape_assignment.ipynb",
   "provenance": []
  },
  "kernelspec": {
   "display_name": "drug_comp",
   "language": "python",
   "name": "drug_comp"
  },
  "language_info": {
   "codemirror_mode": {
    "name": "ipython",
    "version": 3
   },
   "file_extension": ".py",
   "mimetype": "text/x-python",
   "name": "python",
   "nbconvert_exporter": "python",
   "pygments_lexer": "ipython3",
   "version": "3.9.9"
  },
  "toc": {
   "nav_menu": {},
   "number_sections": true,
   "sideBar": true,
   "skip_h1_title": false,
   "toc_cell": false,
   "toc_position": {},
   "toc_section_display": "block",
   "toc_window_display": false
  }
 },
 "nbformat": 4,
 "nbformat_minor": 4
}
