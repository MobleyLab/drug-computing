{
 "cells": [
  {
   "cell_type": "markdown",
   "metadata": {
    "id": "T2mk4Ni0vd2X"
   },
   "source": [
    "[![Open In Colab](https://colab.research.google.com/assets/colab-badge.svg)](https://colab.research.google.com/github/MobleyLab/drug-computing/blob/master/uci-pharmsci/Getting_Started.ipynb)"
   ]
  },
  {
   "cell_type": "markdown",
   "metadata": {
    "id": "i7u3QOBSXeiG"
   },
   "source": [
    "# Geting Started with Google Colab for PHARMSCI 275\n",
    "\n",
    "This notebook **provides information on getting started with Google Colab** and shows code cells that need to be run before attempting to complete any of the assignments for this class **IF you are using Google Colab**. Typically, you will need to insert this code into your notebook to start off.\n",
    "\n",
    "**Please note that it is important to make sure that all of the code cells used in this notebook are present in your assignment notebooks and have been executed before coming to class** "
   ]
  },
  {
   "cell_type": "markdown",
   "metadata": {
    "id": "fgmUwq444b__"
   },
   "source": [
    "## Checking Python Version and Path\n",
    "Run the code cell to check the path for python in your notebook and also to check the version of python available on colab."
   ]
  },
  {
   "cell_type": "code",
   "execution_count": null,
   "metadata": {
    "colab": {
     "base_uri": "https://localhost:8080/"
    },
    "id": "ycSxhNWL0fvm",
    "outputId": "086ea934-bdf6-406b-f164-3e8d6a32d5e7"
   },
   "outputs": [],
   "source": [
    "!which python\n",
    "!python --version\n",
    "!echo $PYTHONPATH"
   ]
  },
  {
   "cell_type": "markdown",
   "metadata": {
    "id": "ncaEUELr4mOm"
   },
   "source": [
    "Unsetting python $PYTHONPATH variable. This prevents any issues with miniforge installations"
   ]
  },
  {
   "cell_type": "code",
   "execution_count": null,
   "metadata": {
    "colab": {
     "base_uri": "https://localhost:8080/"
    },
    "id": "8osn0I9L4YJk",
    "outputId": "ad3df4b8-f05a-4e8f-8f3a-6b90eee3cf38"
   },
   "outputs": [],
   "source": [
    "%env PYTHONPATH="
   ]
  },
  {
   "cell_type": "markdown",
   "metadata": {},
   "source": [
    "## Using fortran on Google Colab\n",
    "\n",
    "As of our 2023 class, we were having library issues with fortran compilers on Google Colab if we install anything else first. So for assignments using fortran libraries, you may wish to make sure you use f2py to compile the fortran library before doing or installing anything else.\n",
    "\n",
    "In my case, I occasionally found that some user-space material seems to be brought into Colab by any Jupyter notebook I'm using, so if I'm working in a notebook in which I previously installed numpy or similar (gfortran, etc.) and I open that notebook in Colab, I often run into library problems where I can't run f2py. It's only if I use f2py in a clean, new notebook that I can get it to work. \n",
    "\n",
    "For the energy minimization assignment, then, for example, I make my first command in a new notebook be:\n",
    "`!f2py -c -m emlib emlib.f90`\n",
    "and then do \n",
    "`import emlib`\n",
    "and it works."
   ]
  },
  {
   "cell_type": "markdown",
   "metadata": {
    "id": "GW0kD_k25FBa"
   },
   "source": [
    "## Installing mambaforge/miniforge\n",
    "the code below will download the installer script for the appropriate version of mamba and install it into /usr/local. Installing directly into /usr/local, rather than into the default location, insures that mamba and all its required dependencies will be automatically available for use within Google Colab.\n",
    "\n",
    "### Apending System Path\n",
    "Add the directory where mamba will install packages to the list of directories that Python will search when looking for modules to import.\n",
    "\n",
    "Note that because the /usr/local/lib/python3.x/dist-packages directory containing the pre-installed Google Colab packages appears ahead of the /usr/local/lib/python3.x/site-packages directory where mamba installs packages, the version of a package available via Google Colab will take precedence over any version of the same package installed via mamba."
   ]
  },
  {
   "cell_type": "code",
   "execution_count": null,
   "metadata": {
    "colab": {
     "base_uri": "https://localhost:8080/"
    },
    "id": "EkWDphve5Nje",
    "outputId": "affe7d25-d5a6-4a01-c8d2-0b1a4cafdfea"
   },
   "outputs": [],
   "source": [
    "%env PYTHONPATH=\n",
    "! wget https://github.com/conda-forge/miniforge/releases/latest/download/Miniforge3-Linux-x86_64.sh\n",
    "! chmod +x Miniforge3-Linux-x86_64.sh\n",
    "! bash ./Miniforge3-Linux-x86_64.sh -b -f -p /usr/local\n",
    "import sys\n",
    "sys.path.append('/usr/local/lib/python3.12/site-packages/')"
   ]
  },
  {
   "cell_type": "code",
   "execution_count": null,
   "metadata": {
    "colab": {
     "base_uri": "https://localhost:8080/"
    },
    "id": "oi07wwTT8ihQ",
    "outputId": "aba83038-7eae-4321-da84-d059191117b6"
   },
   "outputs": [],
   "source": [
    "!which python\n",
    "!python --version"
   ]
  },
  {
   "cell_type": "markdown",
   "metadata": {
    "id": "Bu7fklF9B-CM"
   },
   "source": [
    "# Installing Packages\n",
    "In this section we will install gfortran and openeye toolkits. **Depending on the lecture and/or assignment, you may or may not need either or both of these**. \n",
    "\n",
    "`gfortran` is needed mainly for the energy minimization, MD and MC assignments and the MD and MC lectures, where we compile fortran code. If you are not working with `f2py`, you will not need libgfortran.\n",
    "\n",
    "The OpenEye toolkits are used more frequently, for general cheminformatics work. Still, they are only used in some notebooks, so it's only necessary to install them if the assignment or lecture contains `import openeye` or similar."
   ]
  },
  {
   "cell_type": "markdown",
   "metadata": {
    "id": "8cp61ryYbyPI"
   },
   "source": [
    "## Installing Fortran\n",
    "\n",
    "We will be utilizing fortran to complete some of the assignments in the course. Hence it is important to make sure that it is loaded and working fine."
   ]
  },
  {
   "cell_type": "code",
   "execution_count": null,
   "metadata": {
    "colab": {
     "base_uri": "https://localhost:8080/"
    },
    "id": "gdbXmeoJCPNG",
    "outputId": "1273a02d-3e6c-425c-b90e-c0e865be94b8"
   },
   "outputs": [],
   "source": [
    "!mamba install -c conda-forge gfortran --yes"
   ]
  },
  {
   "cell_type": "markdown",
   "metadata": {
    "id": "0bLJS7sEEO4h"
   },
   "source": [
    "## Installing Openeye Toolkit\n",
    "\n",
    "We will be using the OpenEye toolkit for most of the assignments as well in the class. OpenEye requires a license to be used so please follow the instructions below before running the code.\n",
    "\n",
    "### Licensing Instructions:\n",
    "1. Make sure to download and save a copy of the course OpenEye license, `oe_license.txt`, on to Google Drive (for UCI users in this course, this will be on Canvas; if you are an external user, you will need your own OpenEye license.).\n",
    "2. The location of the license file should be in your \"/My Drive\" folder for the code blocks below to work. So please make sure that the file path is as shown below-\n",
    "*/content/drive/MyDrive/oe_license.txt*\n",
    "\n",
    "\n"
   ]
  },
  {
   "cell_type": "code",
   "execution_count": null,
   "metadata": {
    "colab": {
     "base_uri": "https://localhost:8080/"
    },
    "id": "WYnhM6RCEXNF",
    "outputId": "060408d0-8df6-43ed-e88d-4d6dfba2ec09"
   },
   "outputs": [],
   "source": [
    "# Mount Google Drive. NOTE: Do NOT move this before install of miniforge and other packages above or you may encounter path issues.\n",
    "from google.colab import drive\n",
    "drive.mount('/content/drive',force_remount = True)\n"
   ]
  },
  {
   "cell_type": "markdown",
   "metadata": {
    "id": "Ht5SkFfaFZBM"
   },
   "source": [
    "mamba install the OpenEye toolkits:"
   ]
  },
  {
   "cell_type": "code",
   "execution_count": null,
   "metadata": {
    "colab": {
     "base_uri": "https://localhost:8080/"
    },
    "id": "BSgojnrBGeJi",
    "outputId": "33f0cf8c-bb5c-4fee-d522-bf9b07ac204b"
   },
   "outputs": [],
   "source": [
    "!mamba install -c openeye openeye-toolkits --yes"
   ]
  },
  {
   "cell_type": "markdown",
   "metadata": {
    "id": "mdlT6S3bSTMb"
   },
   "source": [
    "## Checking OpenEye License Viability\n",
    "\n",
    "This code block checks to see whether the openeye license is accessable to the OpenEye Toolkits.\n",
    "\n",
    "**Make sure to save your license file onto the path shown below (license_filename)**"
   ]
  },
  {
   "cell_type": "code",
   "execution_count": null,
   "metadata": {
    "colab": {
     "base_uri": "https://localhost:8080/"
    },
    "id": "Qt-gYSE8JsXz",
    "outputId": "28b1f26b-8782-418d-c6e9-5cfe4674a67e"
   },
   "outputs": [],
   "source": [
    "license_filename = '/content/drive/MyDrive/oe_license.txt'\n",
    "\n",
    "import os\n",
    "import openeye\n",
    "if os.path.isfile(license_filename):\n",
    "  license_file = open(license_filename, 'r')\n",
    "  openeye.OEAddLicenseData(license_file.read())\n",
    "  license_file.close()\n",
    "else:\n",
    "  print(\"Error: Your OpenEye license is not readable; please check your filename and that you have mounted your Google Drive\")\n",
    "\n",
    "licensed = openeye.oechem.OEChemIsLicensed()\n",
    "print(\"Was your OpenEye license correctly installed (True/False)? \" + str(licensed))\n",
    "if not licensed:\n",
    "  print(\"Error: Your OpenEye license is not correctly installed.\")\n",
    "  raise Exception(\"Error: Your OpenEye license is not correctly installed.\")"
   ]
  },
  {
   "cell_type": "markdown",
   "metadata": {},
   "source": [
    "## File handling\n",
    "\n",
    "If you are working on course content that uses supporting files provided by the class (e.g. a fortran library) you will need to make sure that:\n",
    "1) This content is uploaded to your Google Drive\n",
    "2) Your Google Drive is mounted to Google Colab\n",
    "3) You navigate to the directory containing that content\n",
    "\n",
    "Here is an example of how I would do that if I've uploaded the whole course GitHub repository to Google Drive and want to use content in the energy minimization assignment directory (note I will need to give various permissions for Colab to access my Google account, and I must have already put the relevant files there):"
   ]
  },
  {
   "cell_type": "code",
   "execution_count": 1,
   "metadata": {},
   "outputs": [
    {
     "ename": "ModuleNotFoundError",
     "evalue": "No module named 'google.colab'",
     "output_type": "error",
     "traceback": [
      "\u001b[0;31m---------------------------------------------------------------------------\u001b[0m",
      "\u001b[0;31mModuleNotFoundError\u001b[0m                       Traceback (most recent call last)",
      "Cell \u001b[0;32mIn[1], line 2\u001b[0m\n\u001b[1;32m      1\u001b[0m \u001b[38;5;66;03m# Mount Google Drive. NOTE: Do NOT move this before install of miniforge and other packages above or you may encounter path issues.\u001b[39;00m\n\u001b[0;32m----> 2\u001b[0m \u001b[38;5;28;01mfrom\u001b[39;00m \u001b[38;5;21;01mgoogle\u001b[39;00m\u001b[38;5;21;01m.\u001b[39;00m\u001b[38;5;21;01mcolab\u001b[39;00m \u001b[38;5;28;01mimport\u001b[39;00m drive\n\u001b[1;32m      3\u001b[0m drive\u001b[38;5;241m.\u001b[39mmount(\u001b[38;5;124m'\u001b[39m\u001b[38;5;124m/content/drive\u001b[39m\u001b[38;5;124m'\u001b[39m,force_remount \u001b[38;5;241m=\u001b[39m \u001b[38;5;28;01mTrue\u001b[39;00m)\n\u001b[1;32m      5\u001b[0m \u001b[38;5;66;03m# This uses a \"magic\" command involving the percent symbol to execute command-line prompts\u001b[39;00m\n",
      "\u001b[0;31mModuleNotFoundError\u001b[0m: No module named 'google.colab'"
     ]
    }
   ],
   "source": [
    "# Mount Google Drive. NOTE: Do NOT move this before install of miniforge and other packages above or you may encounter path issues.\n",
    "from google.colab import drive\n",
    "drive.mount('/content/drive',force_remount = True)\n",
    "\n",
    "# This uses a \"magic\" command involving the percent symbol to execute command-line prompts\n",
    "%cd /content/drive/MyDrive/drug-computing/uci-pharmsci/assignments/energy_minimization\n",
    "%ls\n",
    "# Here I used the ls command just to make sure I see the content I should in that directory (e.g. that I uploaded correctly etc.)"
   ]
  },
  {
   "cell_type": "code",
   "execution_count": null,
   "metadata": {},
   "outputs": [],
   "source": []
  }
 ],
 "metadata": {
  "colab": {
   "name": "Getting_Started.ipynb",
   "provenance": [],
   "toc_visible": true
  },
  "kernelspec": {
   "display_name": "Python 3 (ipykernel)",
   "language": "python",
   "name": "python3"
  },
  "language_info": {
   "codemirror_mode": {
    "name": "ipython",
    "version": 3
   },
   "file_extension": ".py",
   "mimetype": "text/x-python",
   "name": "python",
   "nbconvert_exporter": "python",
   "pygments_lexer": "ipython3",
   "version": "3.12.8"
  }
 },
 "nbformat": 4,
 "nbformat_minor": 4
}
