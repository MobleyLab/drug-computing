{
  "nbformat": 4,
  "nbformat_minor": 0,
  "metadata": {
    "colab": {
      "name": "Getting_Started.ipynb",
      "provenance": [],
      "toc_visible": true,
      "authorship_tag": "ABX9TyMwXat0l+sPSiubCHLtm0bd",
      "include_colab_link": true
    },
    "kernelspec": {
      "name": "python3",
      "display_name": "Python 3"
    },
    "language_info": {
      "name": "python"
    }
  },
  "cells": [
    {
      "cell_type": "markdown",
      "metadata": {
        "id": "view-in-github",
        "colab_type": "text"
      },
      "source": [
        "<a href=\"https://colab.research.google.com/github/aakankschit/drug-computing/blob/master/Getting_Started.ipynb\" target=\"_parent\"><img src=\"https://colab.research.google.com/assets/colab-badge.svg\" alt=\"Open In Colab\"/></a>"
      ]
    },
    {
      "cell_type": "markdown",
      "source": [
        "# Geting Started with PHARMSCI 275\n",
        "\n",
        "This notebook shows code cells that need to be run before attempting to complete any of the assignments for this class.\n",
        "\n",
        "**Please note that it is important to make sure that all of the code cells used in this notebook are present in your assignment notebooks and have been executed before coming to class** "
      ],
      "metadata": {
        "id": "i7u3QOBSXeiG"
      }
    },
    {
      "cell_type": "markdown",
      "source": [
        "## Checking Python Version and Path\n",
        "Run the code cell to check the path for python in your notebook and also to check the version of python available on colab."
      ],
      "metadata": {
        "id": "fgmUwq444b__"
      }
    },
    {
      "cell_type": "code",
      "execution_count": 3,
      "metadata": {
        "colab": {
          "base_uri": "https://localhost:8080/"
        },
        "id": "ycSxhNWL0fvm",
        "outputId": "086ea934-bdf6-406b-f164-3e8d6a32d5e7"
      },
      "outputs": [
        {
          "output_type": "stream",
          "name": "stdout",
          "text": [
            "/usr/local/bin/python\n",
            "Python 3.7.12\n",
            "/env/python\n"
          ]
        }
      ],
      "source": [
        "!which python\n",
        "!python --version\n",
        "!echo $PYTHONPATH"
      ]
    },
    {
      "cell_type": "markdown",
      "source": [
        "Unsetting python $PYTHONPATH variable. This prevents any issues with miniconda installations"
      ],
      "metadata": {
        "id": "ncaEUELr4mOm"
      }
    },
    {
      "cell_type": "code",
      "source": [
        "%env PYTHONPATH="
      ],
      "metadata": {
        "colab": {
          "base_uri": "https://localhost:8080/"
        },
        "id": "8osn0I9L4YJk",
        "outputId": "ad3df4b8-f05a-4e8f-8f3a-6b90eee3cf38"
      },
      "execution_count": 4,
      "outputs": [
        {
          "output_type": "stream",
          "name": "stdout",
          "text": [
            "env: PYTHONPATH=\n"
          ]
        }
      ]
    },
    {
      "cell_type": "markdown",
      "source": [
        "## Installing Miniconda\n",
        "the code below will download the installer script for the appropriate version of Miniconda and install it into /usr/local. Installing directly into /usr/local, rather than into the default location ~/miniconda3, insures that Conda and all its required dependencies will be automatically available for use within Google Colab.\n",
        "\n",
        "### Apending System Path\n",
        "Add the directory where Conda will install packages to the list of directories that Python will search when looking for modules to import.\n",
        "\n",
        "Note that because the /usr/local/lib/python3.7/dist-packages directory containing the pre-installed Google Colab packages appears ahead of the /usr/local/lib/python3.7/site-packages directory where Conda installs packages, the version of a package available via Google Colab will take precedence over any version of the same package installed via Conda."
      ],
      "metadata": {
        "id": "GW0kD_k25FBa"
      }
    },
    {
      "cell_type": "code",
      "source": [
        "! wget https://repo.anaconda.com/miniconda/Miniconda3-py37_4.10.3-Linux-x86_64.sh\n",
        "! chmod +x Miniconda3-py37_4.10.3-Linux-x86_64.sh\n",
        "! bash ./Miniconda3-py37_4.10.3-Linux-x86_64.sh -b -f -p /usr/local\n",
        "import sys\n",
        "sys.path.append('/usr/local/lib/python3.7/site-packages/')"
      ],
      "metadata": {
        "colab": {
          "base_uri": "https://localhost:8080/"
        },
        "id": "EkWDphve5Nje",
        "outputId": "affe7d25-d5a6-4a01-c8d2-0b1a4cafdfea"
      },
      "execution_count": 5,
      "outputs": [
        {
          "output_type": "stream",
          "name": "stdout",
          "text": [
            "--2021-12-22 20:59:30--  https://repo.anaconda.com/miniconda/Miniconda3-py37_4.10.3-Linux-x86_64.sh\n",
            "Resolving repo.anaconda.com (repo.anaconda.com)... 104.16.131.3, 104.16.130.3, 2606:4700::6810:8303, ...\n",
            "Connecting to repo.anaconda.com (repo.anaconda.com)|104.16.131.3|:443... connected.\n",
            "HTTP request sent, awaiting response... 200 OK\n",
            "Length: 89026327 (85M) [application/x-sh]\n",
            "Saving to: ‘Miniconda3-py37_4.10.3-Linux-x86_64.sh’\n",
            "\n",
            "Miniconda3-py37_4.1 100%[===================>]  84.90M   300MB/s    in 0.3s    \n",
            "\n",
            "2021-12-22 20:59:30 (300 MB/s) - ‘Miniconda3-py37_4.10.3-Linux-x86_64.sh’ saved [89026327/89026327]\n",
            "\n",
            "PREFIX=/usr/local\n",
            "Unpacking payload ...\n",
            "Collecting package metadata (current_repodata.json): - \b\b\\ \b\b| \b\bdone\n",
            "Solving environment: - \b\b\\ \b\b| \b\bdone\n",
            "\n",
            "## Package Plan ##\n",
            "\n",
            "  environment location: /usr/local\n",
            "\n",
            "  added / updated specs:\n",
            "    - _libgcc_mutex==0.1=main\n",
            "    - _openmp_mutex==4.5=1_gnu\n",
            "    - brotlipy==0.7.0=py37h27cfd23_1003\n",
            "    - ca-certificates==2021.7.5=h06a4308_1\n",
            "    - certifi==2021.5.30=py37h06a4308_0\n",
            "    - cffi==1.14.6=py37h400218f_0\n",
            "    - chardet==4.0.0=py37h06a4308_1003\n",
            "    - conda-package-handling==1.7.3=py37h27cfd23_1\n",
            "    - conda==4.10.3=py37h06a4308_0\n",
            "    - cryptography==3.4.7=py37hd23ed53_0\n",
            "    - idna==2.10=pyhd3eb1b0_0\n",
            "    - ld_impl_linux-64==2.35.1=h7274673_9\n",
            "    - libffi==3.3=he6710b0_2\n",
            "    - libgcc-ng==9.3.0=h5101ec6_17\n",
            "    - libgomp==9.3.0=h5101ec6_17\n",
            "    - libstdcxx-ng==9.3.0=hd4cf53a_17\n",
            "    - ncurses==6.2=he6710b0_1\n",
            "    - openssl==1.1.1k=h27cfd23_0\n",
            "    - pip==21.1.3=py37h06a4308_0\n",
            "    - pycosat==0.6.3=py37h27cfd23_0\n",
            "    - pycparser==2.20=py_2\n",
            "    - pyopenssl==20.0.1=pyhd3eb1b0_1\n",
            "    - pysocks==1.7.1=py37_1\n",
            "    - python==3.7.10=h12debd9_4\n",
            "    - readline==8.1=h27cfd23_0\n",
            "    - requests==2.25.1=pyhd3eb1b0_0\n",
            "    - ruamel_yaml==0.15.100=py37h27cfd23_0\n",
            "    - setuptools==52.0.0=py37h06a4308_0\n",
            "    - six==1.16.0=pyhd3eb1b0_0\n",
            "    - sqlite==3.36.0=hc218d9a_0\n",
            "    - tk==8.6.10=hbc83047_0\n",
            "    - tqdm==4.61.2=pyhd3eb1b0_1\n",
            "    - urllib3==1.26.6=pyhd3eb1b0_1\n",
            "    - wheel==0.36.2=pyhd3eb1b0_0\n",
            "    - xz==5.2.5=h7b6447c_0\n",
            "    - yaml==0.2.5=h7b6447c_0\n",
            "    - zlib==1.2.11=h7b6447c_3\n",
            "\n",
            "\n",
            "The following NEW packages will be INSTALLED:\n",
            "\n",
            "  _libgcc_mutex      pkgs/main/linux-64::_libgcc_mutex-0.1-main\n",
            "  _openmp_mutex      pkgs/main/linux-64::_openmp_mutex-4.5-1_gnu\n",
            "  brotlipy           pkgs/main/linux-64::brotlipy-0.7.0-py37h27cfd23_1003\n",
            "  ca-certificates    pkgs/main/linux-64::ca-certificates-2021.7.5-h06a4308_1\n",
            "  certifi            pkgs/main/linux-64::certifi-2021.5.30-py37h06a4308_0\n",
            "  cffi               pkgs/main/linux-64::cffi-1.14.6-py37h400218f_0\n",
            "  chardet            pkgs/main/linux-64::chardet-4.0.0-py37h06a4308_1003\n",
            "  conda              pkgs/main/linux-64::conda-4.10.3-py37h06a4308_0\n",
            "  conda-package-han~ pkgs/main/linux-64::conda-package-handling-1.7.3-py37h27cfd23_1\n",
            "  cryptography       pkgs/main/linux-64::cryptography-3.4.7-py37hd23ed53_0\n",
            "  idna               pkgs/main/noarch::idna-2.10-pyhd3eb1b0_0\n",
            "  ld_impl_linux-64   pkgs/main/linux-64::ld_impl_linux-64-2.35.1-h7274673_9\n",
            "  libffi             pkgs/main/linux-64::libffi-3.3-he6710b0_2\n",
            "  libgcc-ng          pkgs/main/linux-64::libgcc-ng-9.3.0-h5101ec6_17\n",
            "  libgomp            pkgs/main/linux-64::libgomp-9.3.0-h5101ec6_17\n",
            "  libstdcxx-ng       pkgs/main/linux-64::libstdcxx-ng-9.3.0-hd4cf53a_17\n",
            "  ncurses            pkgs/main/linux-64::ncurses-6.2-he6710b0_1\n",
            "  openssl            pkgs/main/linux-64::openssl-1.1.1k-h27cfd23_0\n",
            "  pip                pkgs/main/linux-64::pip-21.1.3-py37h06a4308_0\n",
            "  pycosat            pkgs/main/linux-64::pycosat-0.6.3-py37h27cfd23_0\n",
            "  pycparser          pkgs/main/noarch::pycparser-2.20-py_2\n",
            "  pyopenssl          pkgs/main/noarch::pyopenssl-20.0.1-pyhd3eb1b0_1\n",
            "  pysocks            pkgs/main/linux-64::pysocks-1.7.1-py37_1\n",
            "  python             pkgs/main/linux-64::python-3.7.10-h12debd9_4\n",
            "  readline           pkgs/main/linux-64::readline-8.1-h27cfd23_0\n",
            "  requests           pkgs/main/noarch::requests-2.25.1-pyhd3eb1b0_0\n",
            "  ruamel_yaml        pkgs/main/linux-64::ruamel_yaml-0.15.100-py37h27cfd23_0\n",
            "  setuptools         pkgs/main/linux-64::setuptools-52.0.0-py37h06a4308_0\n",
            "  six                pkgs/main/noarch::six-1.16.0-pyhd3eb1b0_0\n",
            "  sqlite             pkgs/main/linux-64::sqlite-3.36.0-hc218d9a_0\n",
            "  tk                 pkgs/main/linux-64::tk-8.6.10-hbc83047_0\n",
            "  tqdm               pkgs/main/noarch::tqdm-4.61.2-pyhd3eb1b0_1\n",
            "  urllib3            pkgs/main/noarch::urllib3-1.26.6-pyhd3eb1b0_1\n",
            "  wheel              pkgs/main/noarch::wheel-0.36.2-pyhd3eb1b0_0\n",
            "  xz                 pkgs/main/linux-64::xz-5.2.5-h7b6447c_0\n",
            "  yaml               pkgs/main/linux-64::yaml-0.2.5-h7b6447c_0\n",
            "  zlib               pkgs/main/linux-64::zlib-1.2.11-h7b6447c_3\n",
            "\n",
            "\n",
            "Preparing transaction: - \b\b\\ \b\b| \b\b/ \b\bdone\n",
            "Executing transaction: \\ \b\b| \b\b/ \b\b- \b\b\\ \b\b| \b\b/ \b\b- \b\b\\ \b\b| \b\b/ \b\b- \b\b\\ \b\b| \b\b/ \b\bdone\n",
            "installation finished.\n"
          ]
        }
      ]
    },
    {
      "cell_type": "code",
      "source": [
        "!which conda\n",
        "!conda --version\n",
        "!which python\n",
        "!python --version"
      ],
      "metadata": {
        "colab": {
          "base_uri": "https://localhost:8080/"
        },
        "id": "oi07wwTT8ihQ",
        "outputId": "aba83038-7eae-4321-da84-d059191117b6"
      },
      "execution_count": 10,
      "outputs": [
        {
          "output_type": "stream",
          "name": "stdout",
          "text": [
            "/usr/local/bin/conda\n",
            "conda 4.10.3\n",
            "/usr/local/bin/python\n",
            "Python 3.7.10\n"
          ]
        }
      ]
    },
    {
      "cell_type": "markdown",
      "source": [
        "# Installing Packages\n",
        "In this section we will install libgfortran and openeye toolkits which are required for the class.\n"
      ],
      "metadata": {
        "id": "Bu7fklF9B-CM"
      }
    },
    {
      "cell_type": "markdown",
      "source": [
        "## Installing Fortran\n",
        "\n",
        "We will be utilizing fortran to complete some of the assignments in the course. Hence it is important to make sure that it is loaded and working fine."
      ],
      "metadata": {
        "id": "8cp61ryYbyPI"
      }
    },
    {
      "cell_type": "code",
      "source": [
        "!conda install -c conda-forge libgfortran --yes"
      ],
      "metadata": {
        "colab": {
          "base_uri": "https://localhost:8080/"
        },
        "id": "gdbXmeoJCPNG",
        "outputId": "1273a02d-3e6c-425c-b90e-c0e865be94b8"
      },
      "execution_count": 12,
      "outputs": [
        {
          "output_type": "stream",
          "name": "stdout",
          "text": [
            "Collecting package metadata (current_repodata.json): - \b\b\\ \b\b| \b\b/ \b\b- \b\b\\ \b\b| \b\b/ \b\b- \b\b\\ \b\b| \b\b/ \b\b- \b\b\\ \b\b| \b\b/ \b\b- \b\b\\ \b\b| \b\bdone\n",
            "Solving environment: - \b\b\\ \b\b| \b\b/ \b\b- \b\b\\ \b\b| \b\bdone\n",
            "\n",
            "\n",
            "==> WARNING: A newer version of conda exists. <==\n",
            "  current version: 4.10.3\n",
            "  latest version: 4.11.0\n",
            "\n",
            "Please update conda by running\n",
            "\n",
            "    $ conda update -n base -c defaults conda\n",
            "\n",
            "\n",
            "\n",
            "## Package Plan ##\n",
            "\n",
            "  environment location: /usr/local\n",
            "\n",
            "  added / updated specs:\n",
            "    - libgfortran\n",
            "\n",
            "\n",
            "The following packages will be downloaded:\n",
            "\n",
            "    package                    |            build\n",
            "    ---------------------------|-----------------\n",
            "    ca-certificates-2021.10.8  |       ha878542_0         139 KB  conda-forge\n",
            "    certifi-2021.10.8          |   py37h89c1867_1         145 KB  conda-forge\n",
            "    conda-4.11.0               |   py37h89c1867_0        16.9 MB  conda-forge\n",
            "    libgfortran-3.0.0          |                1         281 KB  conda-forge\n",
            "    openssl-1.1.1l             |       h7f8727e_0         2.5 MB\n",
            "    python_abi-3.7             |          2_cp37m           4 KB  conda-forge\n",
            "    ------------------------------------------------------------\n",
            "                                           Total:        20.0 MB\n",
            "\n",
            "The following NEW packages will be INSTALLED:\n",
            "\n",
            "  libgfortran        conda-forge/linux-64::libgfortran-3.0.0-1\n",
            "  python_abi         conda-forge/linux-64::python_abi-3.7-2_cp37m\n",
            "\n",
            "The following packages will be UPDATED:\n",
            "\n",
            "  ca-certificates    pkgs/main::ca-certificates-2021.7.5-h~ --> conda-forge::ca-certificates-2021.10.8-ha878542_0\n",
            "  certifi            pkgs/main::certifi-2021.5.30-py37h06a~ --> conda-forge::certifi-2021.10.8-py37h89c1867_1\n",
            "  conda              pkgs/main::conda-4.10.3-py37h06a4308_0 --> conda-forge::conda-4.11.0-py37h89c1867_0\n",
            "  openssl                                 1.1.1k-h27cfd23_0 --> 1.1.1l-h7f8727e_0\n",
            "\n",
            "\n",
            "\n",
            "Downloading and Extracting Packages\n",
            "ca-certificates-2021 | 139 KB    | : 100% 1.0/1 [00:00<00:00,  9.39it/s]\n",
            "certifi-2021.10.8    | 145 KB    | : 100% 1.0/1 [00:00<00:00, 13.88it/s]\n",
            "python_abi-3.7       | 4 KB      | : 100% 1.0/1 [00:00<00:00, 30.43it/s]\n",
            "openssl-1.1.1l       | 2.5 MB    | : 100% 1.0/1 [00:00<00:00,  6.53it/s]\n",
            "conda-4.11.0         | 16.9 MB   | : 100% 1.0/1 [00:05<00:00,  5.20s/it]\n",
            "libgfortran-3.0.0    | 281 KB    | : 100% 1.0/1 [00:00<00:00, 12.41it/s]\n",
            "Preparing transaction: - \b\bdone\n",
            "Verifying transaction: | \b\b/ \b\bdone\n",
            "Executing transaction: \\ \b\bdone\n"
          ]
        }
      ]
    },
    {
      "cell_type": "markdown",
      "source": [
        "## Installing Openeye Toolkit\n",
        "\n",
        "We will be using the OpenEye toolkit for most of the assignments as well in the class. OpenEye requires a license to be used so please follow the instructions below before running the code.\n",
        "\n",
        "### Licensing Instructions:\n",
        "1. Make sure to download and save a copy of the oe_license.txt on to google drive.\n",
        "2. The location of the license file should be in your \"/My Drive\" folder for the code blocks below to work. So please make sure that the file path is as shown below-\n",
        "*/content/drive/MyDrive/oe_license.txt*\n",
        "\n",
        "\n"
      ],
      "metadata": {
        "id": "0bLJS7sEEO4h"
      }
    },
    {
      "cell_type": "code",
      "source": [
        "from google.colab import drive\n",
        "drive.mount('/content/drive',force_remount = True)\n"
      ],
      "metadata": {
        "colab": {
          "base_uri": "https://localhost:8080/"
        },
        "id": "WYnhM6RCEXNF",
        "outputId": "060408d0-8df6-43ed-e88d-4d6dfba2ec09"
      },
      "execution_count": 22,
      "outputs": [
        {
          "output_type": "stream",
          "name": "stdout",
          "text": [
            "Mounted at /content/drive\n"
          ]
        }
      ]
    },
    {
      "cell_type": "markdown",
      "source": [
        "Use bash to add the OpenEye License in Google Drive to your ~/.bash_profile. This will allow the license file to be accessed by OpenEye Toolkit."
      ],
      "metadata": {
        "id": "Ht5SkFfaFZBM"
      }
    },
    {
      "cell_type": "code",
      "source": [
        "!conda install -c openeye openeye-toolkits --yes"
      ],
      "metadata": {
        "colab": {
          "base_uri": "https://localhost:8080/"
        },
        "id": "BSgojnrBGeJi",
        "outputId": "33f0cf8c-bb5c-4fee-d522-bf9b07ac204b"
      },
      "execution_count": 15,
      "outputs": [
        {
          "output_type": "stream",
          "name": "stdout",
          "text": [
            "Collecting package metadata (current_repodata.json): - \b\b\\ \b\b| \b\b/ \b\b- \b\b\\ \b\b| \b\bdone\n",
            "Solving environment: - \b\b\\ \b\b| \b\b/ \b\b- \b\b\\ \b\bdone\n",
            "\n",
            "## Package Plan ##\n",
            "\n",
            "  environment location: /usr/local\n",
            "\n",
            "  added / updated specs:\n",
            "    - openeye-toolkits\n",
            "\n",
            "\n",
            "The following packages will be downloaded:\n",
            "\n",
            "    package                    |            build\n",
            "    ---------------------------|-----------------\n",
            "    attrs-21.2.0               |     pyhd3eb1b0_0          46 KB\n",
            "    ca-certificates-2021.10.26 |       h06a4308_2         115 KB\n",
            "    conda-4.11.0               |   py37h06a4308_0        14.4 MB\n",
            "    importlib-metadata-4.8.2   |   py37h06a4308_0          39 KB\n",
            "    importlib_metadata-4.8.2   |       hd3eb1b0_0          12 KB\n",
            "    iniconfig-1.1.1            |     pyhd3eb1b0_0           8 KB\n",
            "    openeye-toolkits-2021.2.0  |           py37_0        79.6 MB  openeye\n",
            "    packaging-21.3             |     pyhd3eb1b0_0          36 KB\n",
            "    pluggy-1.0.0               |   py37h06a4308_0          28 KB\n",
            "    py-1.10.0                  |     pyhd3eb1b0_0          76 KB\n",
            "    pyparsing-3.0.4            |     pyhd3eb1b0_0          81 KB\n",
            "    pytest-6.2.5               |   py37h06a4308_2         425 KB\n",
            "    toml-0.10.2                |     pyhd3eb1b0_0          20 KB\n",
            "    typing_extensions-3.10.0.2 |     pyh06a4308_0          31 KB\n",
            "    zipp-3.6.0                 |     pyhd3eb1b0_0          17 KB\n",
            "    ------------------------------------------------------------\n",
            "                                           Total:        94.9 MB\n",
            "\n",
            "The following NEW packages will be INSTALLED:\n",
            "\n",
            "  attrs              pkgs/main/noarch::attrs-21.2.0-pyhd3eb1b0_0\n",
            "  importlib-metadata pkgs/main/linux-64::importlib-metadata-4.8.2-py37h06a4308_0\n",
            "  importlib_metadata pkgs/main/noarch::importlib_metadata-4.8.2-hd3eb1b0_0\n",
            "  iniconfig          pkgs/main/noarch::iniconfig-1.1.1-pyhd3eb1b0_0\n",
            "  openeye-toolkits   openeye/linux-64::openeye-toolkits-2021.2.0-py37_0\n",
            "  packaging          pkgs/main/noarch::packaging-21.3-pyhd3eb1b0_0\n",
            "  pluggy             pkgs/main/linux-64::pluggy-1.0.0-py37h06a4308_0\n",
            "  py                 pkgs/main/noarch::py-1.10.0-pyhd3eb1b0_0\n",
            "  pyparsing          pkgs/main/noarch::pyparsing-3.0.4-pyhd3eb1b0_0\n",
            "  pytest             pkgs/main/linux-64::pytest-6.2.5-py37h06a4308_2\n",
            "  toml               pkgs/main/noarch::toml-0.10.2-pyhd3eb1b0_0\n",
            "  typing_extensions  pkgs/main/noarch::typing_extensions-3.10.0.2-pyh06a4308_0\n",
            "  zipp               pkgs/main/noarch::zipp-3.6.0-pyhd3eb1b0_0\n",
            "\n",
            "The following packages will be UPDATED:\n",
            "\n",
            "  ca-certificates    conda-forge::ca-certificates-2021.10.~ --> pkgs/main::ca-certificates-2021.10.26-h06a4308_2\n",
            "\n",
            "The following packages will be SUPERSEDED by a higher-priority channel:\n",
            "\n",
            "  conda              conda-forge::conda-4.11.0-py37h89c186~ --> pkgs/main::conda-4.11.0-py37h06a4308_0\n",
            "\n",
            "\n",
            "\n",
            "Downloading and Extracting Packages\n",
            "pluggy-1.0.0         | 28 KB     | : 100% 1.0/1 [00:00<00:00, 17.83it/s]\n",
            "packaging-21.3       | 36 KB     | : 100% 1.0/1 [00:00<00:00, 22.45it/s]\n",
            "conda-4.11.0         | 14.4 MB   | : 100% 1.0/1 [00:00<00:00,  1.24it/s]               \n",
            "pyparsing-3.0.4      | 81 KB     | : 100% 1.0/1 [00:00<00:00, 17.14it/s]\n",
            "importlib-metadata-4 | 39 KB     | : 100% 1.0/1 [00:00<00:00, 20.98it/s]\n",
            "pytest-6.2.5         | 425 KB    | : 100% 1.0/1 [00:00<00:00, 14.42it/s]\n",
            "openeye-toolkits-202 | 79.6 MB   | : 100% 1.0/1 [00:12<00:00, 12.96s/it]\n",
            "iniconfig-1.1.1      | 8 KB      | : 100% 1.0/1 [00:00<00:00, 28.93it/s]\n",
            "ca-certificates-2021 | 115 KB    | : 100% 1.0/1 [00:00<00:00, 23.00it/s]\n",
            "toml-0.10.2          | 20 KB     | : 100% 1.0/1 [00:00<00:00, 20.26it/s]\n",
            "typing_extensions-3. | 31 KB     | : 100% 1.0/1 [00:00<00:00, 24.53it/s]\n",
            "zipp-3.6.0           | 17 KB     | : 100% 1.0/1 [00:00<00:00, 23.17it/s]\n",
            "attrs-21.2.0         | 46 KB     | : 100% 1.0/1 [00:00<00:00, 24.91it/s]\n",
            "importlib_metadata-4 | 12 KB     | : 100% 1.0/1 [00:00<00:00, 25.52it/s]\n",
            "py-1.10.0            | 76 KB     | : 100% 1.0/1 [00:00<00:00, 20.35it/s]\n",
            "Preparing transaction: / \b\b- \b\bdone\n",
            "Verifying transaction: | \b\b/ \b\b- \b\b\\ \b\b| \b\b/ \b\bdone\n",
            "Executing transaction: \\ \b\b| \b\b/ \b\b- \b\b\\ \b\b| \b\b/ \b\b- \b\b\\ \b\bdone\n"
          ]
        }
      ]
    },
    {
      "cell_type": "markdown",
      "source": [
        "## Checking OpenEye License Viability\n",
        "\n",
        "This code block checks to see whether the openeye license is accessable to the OpenEye Toolkits.\n",
        "\n",
        "**Make sure to save your license file onto the path shown below (license_filename)**"
      ],
      "metadata": {
        "id": "mdlT6S3bSTMb"
      }
    },
    {
      "cell_type": "code",
      "source": [
        "license_filename = '/content/drive/MyDrive/oe_license.txt'\n",
        "\n",
        "import os\n",
        "import openeye\n",
        "if os.path.isfile(license_filename):\n",
        "  license_file = open(license_filename, 'r')\n",
        "  openeye.OEAddLicenseData(license_file.read())\n",
        "  license_file.close()\n",
        "else:\n",
        "  print(\"Error: Your OpenEye license is not readable; please check your filename and that you have mounted your Google Drive\")\n",
        "\n",
        "licensed = openeye.oechem.OEChemIsLicensed()\n",
        "print(\"Was your OpenEye license correctly installed (True/False)? \" + str(licensed))\n",
        "if not licensed:\n",
        "  print(\"Error: Your OpenEye license is not correctly installed.\")\n",
        "  raise Exception(\"Error: Your OpenEye license is not correctly installed.\")"
      ],
      "metadata": {
        "colab": {
          "base_uri": "https://localhost:8080/"
        },
        "id": "Qt-gYSE8JsXz",
        "outputId": "28b1f26b-8782-418d-c6e9-5cfe4674a67e"
      },
      "execution_count": 35,
      "outputs": [
        {
          "output_type": "stream",
          "name": "stdout",
          "text": [
            "Was your OpenEye license correctly installed (True/False)? True\n"
          ]
        }
      ]
    }
  ]
}